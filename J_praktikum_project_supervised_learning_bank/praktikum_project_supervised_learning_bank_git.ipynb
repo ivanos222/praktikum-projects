{
 "cells": [
  {
   "cell_type": "markdown",
   "metadata": {},
   "source": [
    "# Отток клиентов из банка"
   ]
  },
  {
   "cell_type": "markdown",
   "metadata": {},
   "source": [
    "Нужно спрогнозировать, уйдёт клиент из банка в ближайшее время или нет, на основании исторических данных о поведении клиентов и расторжении договоров с банком. \n",
    "\n",
    "Заказчик требует доведение метрики *F1* до 0.59. \n",
    "Дополнительно измеряется *AUC-ROC*, её значение сравнивается с *F1*-мерой.\n",
    "\n",
    "Источник данных (данные немного изменены): [https://www.kaggle.com/barelydedicated/bank-customer-churn-modeling](https://www.kaggle.com/barelydedicated/bank-customer-churn-modeling)"
   ]
  },
  {
   "cell_type": "markdown",
   "metadata": {},
   "source": [
    "# 1. Подготовка данных"
   ]
  },
  {
   "cell_type": "markdown",
   "metadata": {},
   "source": [
    "### Предварительное исследование данных"
   ]
  },
  {
   "cell_type": "markdown",
   "metadata": {},
   "source": [
    "Загрузим библиотеки и методы, которые могут нам понадобиться. Согласно условию, модель должна определять, уйдет ли или не уйдет клиент, соответственно целевой признак - категориальный. Поэтому загрузим классификаторы."
   ]
  },
  {
   "cell_type": "code",
   "execution_count": 1,
   "metadata": {},
   "outputs": [],
   "source": [
    "import sklearn\n",
    "import pandas as pd\n",
    "from sklearn.tree import DecisionTreeClassifier\n",
    "from sklearn.ensemble import RandomForestClassifier\n",
    "from sklearn.linear_model import LogisticRegression\n",
    "from sklearn.model_selection import train_test_split\n",
    "from sklearn.metrics import confusion_matrix\n",
    "from sklearn.metrics import recall_score\n",
    "from sklearn.metrics import precision_score\n",
    "from sklearn.metrics import roc_auc_score\n",
    "from sklearn.metrics import roc_curve\n",
    "from sklearn.metrics import f1_score\n",
    "from sklearn.metrics import accuracy_score\n",
    "from sklearn.preprocessing import OrdinalEncoder\n",
    "from sklearn.preprocessing import StandardScaler\n",
    "from sklearn.utils import shuffle\n",
    "import numpy as np\n",
    "import matplotlib.pyplot as plt\n",
    "import seaborn as sns\n"
   ]
  },
  {
   "cell_type": "markdown",
   "metadata": {},
   "source": [
    "Назначим число зерном генератора псевдослучайных чисел, чтобы было легче ссылаться на него во всех моделях."
   ]
  },
  {
   "cell_type": "code",
   "execution_count": 2,
   "metadata": {},
   "outputs": [],
   "source": [
    "random = 12345"
   ]
  },
  {
   "cell_type": "markdown",
   "metadata": {},
   "source": [
    "Загрузим файл и рассмотрим его."
   ]
  },
  {
   "cell_type": "code",
   "execution_count": 3,
   "metadata": {},
   "outputs": [],
   "source": [
    "df_raw = pd.read_csv('...')"
   ]
  },
  {
   "cell_type": "code",
   "execution_count": 4,
   "metadata": {},
   "outputs": [
    {
     "name": "stdout",
     "output_type": "stream",
     "text": [
      "<class 'pandas.core.frame.DataFrame'>\n",
      "RangeIndex: 10000 entries, 0 to 9999\n",
      "Data columns (total 14 columns):\n",
      " #   Column           Non-Null Count  Dtype  \n",
      "---  ------           --------------  -----  \n",
      " 0   RowNumber        10000 non-null  int64  \n",
      " 1   CustomerId       10000 non-null  int64  \n",
      " 2   Surname          10000 non-null  object \n",
      " 3   CreditScore      10000 non-null  int64  \n",
      " 4   Geography        10000 non-null  object \n",
      " 5   Gender           10000 non-null  object \n",
      " 6   Age              10000 non-null  int64  \n",
      " 7   Tenure           9091 non-null   float64\n",
      " 8   Balance          10000 non-null  float64\n",
      " 9   NumOfProducts    10000 non-null  int64  \n",
      " 10  HasCrCard        10000 non-null  int64  \n",
      " 11  IsActiveMember   10000 non-null  int64  \n",
      " 12  EstimatedSalary  10000 non-null  float64\n",
      " 13  Exited           10000 non-null  int64  \n",
      "dtypes: float64(3), int64(8), object(3)\n",
      "memory usage: 1.1+ MB\n"
     ]
    }
   ],
   "source": [
    "df_raw.info()"
   ]
  },
  {
   "cell_type": "markdown",
   "metadata": {},
   "source": [
    "В данных присутствуют отсутствующие значения признака Tenure, в остальных признаках значения отсутствуют.  \n",
    "Типы данных в целом подходят для работы, однако в том же признаке Tenure стоит заменить тип данных на целочисленный, а в HasCrCard, IsActiveMember и Exited - на булев.  \n",
    "Также для удобства можно заменить регистр в наименованиях столбцов, чтобы впоследствии было легче обращаться к признакам.  \n",
    "В первых 10 строках оказалось значение Surname H?. Несмотря на отсутствие пропусков в этом столбце, подобные значения в иных задачах пришлось бы обрабатывать каким-то образом. Однако в данном случае первые три столбца, выполняющие функции, по большому счету, идентификаторов строк и объектов, не будут участвовать в обучении модели и решении задачи, поэтому обрабатывать их смысла нет. "
   ]
  },
  {
   "cell_type": "markdown",
   "metadata": {},
   "source": [
    "Surname в набор обучающих данных не попадет, из категориальных мультиклассовых признаков будут Geography и Gender. Оценим количество классов в этих признаках."
   ]
  },
  {
   "cell_type": "code",
   "execution_count": 5,
   "metadata": {},
   "outputs": [
    {
     "data": {
      "text/plain": [
       "array(['France', 'Spain', 'Germany'], dtype=object)"
      ]
     },
     "execution_count": 5,
     "metadata": {},
     "output_type": "execute_result"
    }
   ],
   "source": [
    "df_raw['Geography'].unique()"
   ]
  },
  {
   "cell_type": "code",
   "execution_count": 6,
   "metadata": {},
   "outputs": [
    {
     "data": {
      "text/plain": [
       "array(['Female', 'Male'], dtype=object)"
      ]
     },
     "execution_count": 6,
     "metadata": {},
     "output_type": "execute_result"
    }
   ],
   "source": [
    "df_raw['Gender'].unique()"
   ]
  },
  {
   "cell_type": "markdown",
   "metadata": {},
   "source": [
    "Всего 3 класса признака Geography и 2 класса признака Gender. Это значит, что при применении метода ohe у нас не будет катастрофического прироста признаков."
   ]
  },
  {
   "cell_type": "markdown",
   "metadata": {},
   "source": [
    "### Наименования столбцов"
   ]
  },
  {
   "cell_type": "markdown",
   "metadata": {},
   "source": [
    "Поменяем регистр, чтобы впредь было легче обращаться к названиям признаков."
   ]
  },
  {
   "cell_type": "code",
   "execution_count": 7,
   "metadata": {},
   "outputs": [],
   "source": [
    "df_raw.columns = df_raw.columns.str.lower()\n"
   ]
  },
  {
   "cell_type": "markdown",
   "metadata": {},
   "source": [
    "### Обработка пропусков"
   ]
  },
  {
   "cell_type": "markdown",
   "metadata": {},
   "source": [
    "Проверим, сколько пропусков в столбце Tenure."
   ]
  },
  {
   "cell_type": "code",
   "execution_count": 8,
   "metadata": {},
   "outputs": [
    {
     "data": {
      "text/plain": [
       "909"
      ]
     },
     "execution_count": 8,
     "metadata": {},
     "output_type": "execute_result"
    }
   ],
   "source": [
    "len(df_raw[df_raw['tenure'].isna() == True])"
   ]
  },
  {
   "cell_type": "markdown",
   "metadata": {},
   "source": [
    "Девятсот пропусков - это довольно много, почти 10% от выборки. Мы не можем удалить такое количество объектов, поэтому посмотрим, есть ли корреляция Tenure с каким-либо еще признаком и попробуем заполнить пропуски с его помощью. "
   ]
  },
  {
   "cell_type": "code",
   "execution_count": 9,
   "metadata": {},
   "outputs": [
    {
     "data": {
      "text/html": [
       "<div>\n",
       "<style scoped>\n",
       "    .dataframe tbody tr th:only-of-type {\n",
       "        vertical-align: middle;\n",
       "    }\n",
       "\n",
       "    .dataframe tbody tr th {\n",
       "        vertical-align: top;\n",
       "    }\n",
       "\n",
       "    .dataframe thead th {\n",
       "        text-align: right;\n",
       "    }\n",
       "</style>\n",
       "<table border=\"1\" class=\"dataframe\">\n",
       "  <thead>\n",
       "    <tr style=\"text-align: right;\">\n",
       "      <th></th>\n",
       "      <th>rownumber</th>\n",
       "      <th>customerid</th>\n",
       "      <th>creditscore</th>\n",
       "      <th>age</th>\n",
       "      <th>tenure</th>\n",
       "      <th>balance</th>\n",
       "      <th>numofproducts</th>\n",
       "      <th>hascrcard</th>\n",
       "      <th>isactivemember</th>\n",
       "      <th>estimatedsalary</th>\n",
       "      <th>exited</th>\n",
       "    </tr>\n",
       "  </thead>\n",
       "  <tbody>\n",
       "    <tr>\n",
       "      <th>rownumber</th>\n",
       "      <td>1.000000</td>\n",
       "      <td>0.004202</td>\n",
       "      <td>0.005840</td>\n",
       "      <td>0.000783</td>\n",
       "      <td>-0.007322</td>\n",
       "      <td>-0.009067</td>\n",
       "      <td>0.007246</td>\n",
       "      <td>0.000599</td>\n",
       "      <td>0.012044</td>\n",
       "      <td>-0.005988</td>\n",
       "      <td>-0.016571</td>\n",
       "    </tr>\n",
       "    <tr>\n",
       "      <th>customerid</th>\n",
       "      <td>0.004202</td>\n",
       "      <td>1.000000</td>\n",
       "      <td>0.005308</td>\n",
       "      <td>0.009497</td>\n",
       "      <td>-0.021418</td>\n",
       "      <td>-0.012419</td>\n",
       "      <td>0.016972</td>\n",
       "      <td>-0.014025</td>\n",
       "      <td>0.001665</td>\n",
       "      <td>0.015271</td>\n",
       "      <td>-0.006248</td>\n",
       "    </tr>\n",
       "    <tr>\n",
       "      <th>creditscore</th>\n",
       "      <td>0.005840</td>\n",
       "      <td>0.005308</td>\n",
       "      <td>1.000000</td>\n",
       "      <td>-0.003965</td>\n",
       "      <td>-0.000062</td>\n",
       "      <td>0.006268</td>\n",
       "      <td>0.012238</td>\n",
       "      <td>-0.005458</td>\n",
       "      <td>0.025651</td>\n",
       "      <td>-0.001384</td>\n",
       "      <td>-0.027094</td>\n",
       "    </tr>\n",
       "    <tr>\n",
       "      <th>age</th>\n",
       "      <td>0.000783</td>\n",
       "      <td>0.009497</td>\n",
       "      <td>-0.003965</td>\n",
       "      <td>1.000000</td>\n",
       "      <td>-0.013134</td>\n",
       "      <td>0.028308</td>\n",
       "      <td>-0.030680</td>\n",
       "      <td>-0.011721</td>\n",
       "      <td>0.085472</td>\n",
       "      <td>-0.007201</td>\n",
       "      <td>0.285323</td>\n",
       "    </tr>\n",
       "    <tr>\n",
       "      <th>tenure</th>\n",
       "      <td>-0.007322</td>\n",
       "      <td>-0.021418</td>\n",
       "      <td>-0.000062</td>\n",
       "      <td>-0.013134</td>\n",
       "      <td>1.000000</td>\n",
       "      <td>-0.007911</td>\n",
       "      <td>0.011979</td>\n",
       "      <td>0.027232</td>\n",
       "      <td>-0.032178</td>\n",
       "      <td>0.010520</td>\n",
       "      <td>-0.016761</td>\n",
       "    </tr>\n",
       "    <tr>\n",
       "      <th>balance</th>\n",
       "      <td>-0.009067</td>\n",
       "      <td>-0.012419</td>\n",
       "      <td>0.006268</td>\n",
       "      <td>0.028308</td>\n",
       "      <td>-0.007911</td>\n",
       "      <td>1.000000</td>\n",
       "      <td>-0.304180</td>\n",
       "      <td>-0.014858</td>\n",
       "      <td>-0.010084</td>\n",
       "      <td>0.012797</td>\n",
       "      <td>0.118533</td>\n",
       "    </tr>\n",
       "    <tr>\n",
       "      <th>numofproducts</th>\n",
       "      <td>0.007246</td>\n",
       "      <td>0.016972</td>\n",
       "      <td>0.012238</td>\n",
       "      <td>-0.030680</td>\n",
       "      <td>0.011979</td>\n",
       "      <td>-0.304180</td>\n",
       "      <td>1.000000</td>\n",
       "      <td>0.003183</td>\n",
       "      <td>0.009612</td>\n",
       "      <td>0.014204</td>\n",
       "      <td>-0.047820</td>\n",
       "    </tr>\n",
       "    <tr>\n",
       "      <th>hascrcard</th>\n",
       "      <td>0.000599</td>\n",
       "      <td>-0.014025</td>\n",
       "      <td>-0.005458</td>\n",
       "      <td>-0.011721</td>\n",
       "      <td>0.027232</td>\n",
       "      <td>-0.014858</td>\n",
       "      <td>0.003183</td>\n",
       "      <td>1.000000</td>\n",
       "      <td>-0.011866</td>\n",
       "      <td>-0.009933</td>\n",
       "      <td>-0.007138</td>\n",
       "    </tr>\n",
       "    <tr>\n",
       "      <th>isactivemember</th>\n",
       "      <td>0.012044</td>\n",
       "      <td>0.001665</td>\n",
       "      <td>0.025651</td>\n",
       "      <td>0.085472</td>\n",
       "      <td>-0.032178</td>\n",
       "      <td>-0.010084</td>\n",
       "      <td>0.009612</td>\n",
       "      <td>-0.011866</td>\n",
       "      <td>1.000000</td>\n",
       "      <td>-0.011421</td>\n",
       "      <td>-0.156128</td>\n",
       "    </tr>\n",
       "    <tr>\n",
       "      <th>estimatedsalary</th>\n",
       "      <td>-0.005988</td>\n",
       "      <td>0.015271</td>\n",
       "      <td>-0.001384</td>\n",
       "      <td>-0.007201</td>\n",
       "      <td>0.010520</td>\n",
       "      <td>0.012797</td>\n",
       "      <td>0.014204</td>\n",
       "      <td>-0.009933</td>\n",
       "      <td>-0.011421</td>\n",
       "      <td>1.000000</td>\n",
       "      <td>0.012097</td>\n",
       "    </tr>\n",
       "    <tr>\n",
       "      <th>exited</th>\n",
       "      <td>-0.016571</td>\n",
       "      <td>-0.006248</td>\n",
       "      <td>-0.027094</td>\n",
       "      <td>0.285323</td>\n",
       "      <td>-0.016761</td>\n",
       "      <td>0.118533</td>\n",
       "      <td>-0.047820</td>\n",
       "      <td>-0.007138</td>\n",
       "      <td>-0.156128</td>\n",
       "      <td>0.012097</td>\n",
       "      <td>1.000000</td>\n",
       "    </tr>\n",
       "  </tbody>\n",
       "</table>\n",
       "</div>"
      ],
      "text/plain": [
       "                 rownumber  customerid  creditscore       age    tenure  \\\n",
       "rownumber         1.000000    0.004202     0.005840  0.000783 -0.007322   \n",
       "customerid        0.004202    1.000000     0.005308  0.009497 -0.021418   \n",
       "creditscore       0.005840    0.005308     1.000000 -0.003965 -0.000062   \n",
       "age               0.000783    0.009497    -0.003965  1.000000 -0.013134   \n",
       "tenure           -0.007322   -0.021418    -0.000062 -0.013134  1.000000   \n",
       "balance          -0.009067   -0.012419     0.006268  0.028308 -0.007911   \n",
       "numofproducts     0.007246    0.016972     0.012238 -0.030680  0.011979   \n",
       "hascrcard         0.000599   -0.014025    -0.005458 -0.011721  0.027232   \n",
       "isactivemember    0.012044    0.001665     0.025651  0.085472 -0.032178   \n",
       "estimatedsalary  -0.005988    0.015271    -0.001384 -0.007201  0.010520   \n",
       "exited           -0.016571   -0.006248    -0.027094  0.285323 -0.016761   \n",
       "\n",
       "                  balance  numofproducts  hascrcard  isactivemember  \\\n",
       "rownumber       -0.009067       0.007246   0.000599        0.012044   \n",
       "customerid      -0.012419       0.016972  -0.014025        0.001665   \n",
       "creditscore      0.006268       0.012238  -0.005458        0.025651   \n",
       "age              0.028308      -0.030680  -0.011721        0.085472   \n",
       "tenure          -0.007911       0.011979   0.027232       -0.032178   \n",
       "balance          1.000000      -0.304180  -0.014858       -0.010084   \n",
       "numofproducts   -0.304180       1.000000   0.003183        0.009612   \n",
       "hascrcard       -0.014858       0.003183   1.000000       -0.011866   \n",
       "isactivemember  -0.010084       0.009612  -0.011866        1.000000   \n",
       "estimatedsalary  0.012797       0.014204  -0.009933       -0.011421   \n",
       "exited           0.118533      -0.047820  -0.007138       -0.156128   \n",
       "\n",
       "                 estimatedsalary    exited  \n",
       "rownumber              -0.005988 -0.016571  \n",
       "customerid              0.015271 -0.006248  \n",
       "creditscore            -0.001384 -0.027094  \n",
       "age                    -0.007201  0.285323  \n",
       "tenure                  0.010520 -0.016761  \n",
       "balance                 0.012797  0.118533  \n",
       "numofproducts           0.014204 -0.047820  \n",
       "hascrcard              -0.009933 -0.007138  \n",
       "isactivemember         -0.011421 -0.156128  \n",
       "estimatedsalary         1.000000  0.012097  \n",
       "exited                  0.012097  1.000000  "
      ]
     },
     "execution_count": 9,
     "metadata": {},
     "output_type": "execute_result"
    }
   ],
   "source": [
    "df_raw.corr()"
   ]
  },
  {
   "cell_type": "markdown",
   "metadata": {},
   "source": [
    "К сожалению, проследить какую-либо ощутимую зависимость между значениями tenure какими-то другими признаками не удается, ковариционная матрица показывает отсутствие сколь-нибудь сильной связи с каким-либо из признаков.  \n",
    "Однако удалять 10% выборки из-за отсутствующего признака мы не будем. Заполним пропуски в этом столбце медианами в разбивке по hascrcard и isactivemember, которые по не очевидной причине имеют чуть более выраженную связь с tenure, чем остальные признаки."
   ]
  },
  {
   "cell_type": "code",
   "execution_count": 10,
   "metadata": {},
   "outputs": [
    {
     "name": "stdout",
     "output_type": "stream",
     "text": [
      "<class 'pandas.core.frame.DataFrame'>\n",
      "RangeIndex: 10000 entries, 0 to 9999\n",
      "Data columns (total 14 columns):\n",
      " #   Column           Non-Null Count  Dtype  \n",
      "---  ------           --------------  -----  \n",
      " 0   rownumber        10000 non-null  int64  \n",
      " 1   customerid       10000 non-null  int64  \n",
      " 2   surname          10000 non-null  object \n",
      " 3   creditscore      10000 non-null  int64  \n",
      " 4   geography        10000 non-null  object \n",
      " 5   gender           10000 non-null  object \n",
      " 6   age              10000 non-null  int64  \n",
      " 7   tenure           10000 non-null  float64\n",
      " 8   balance          10000 non-null  float64\n",
      " 9   numofproducts    10000 non-null  int64  \n",
      " 10  hascrcard        10000 non-null  int64  \n",
      " 11  isactivemember   10000 non-null  int64  \n",
      " 12  estimatedsalary  10000 non-null  float64\n",
      " 13  exited           10000 non-null  int64  \n",
      "dtypes: float64(3), int64(8), object(3)\n",
      "memory usage: 1.1+ MB\n"
     ]
    }
   ],
   "source": [
    "\n",
    "pivot_salary = df_raw.pivot_table(\n",
    "    index = 'hascrcard',\n",
    "    columns = 'isactivemember',\n",
    "    values = 'tenure', \n",
    "    aggfunc = 'median')\n",
    "\n",
    "def tenure_filling1(row):\n",
    "    card = row['hascrcard']\n",
    "    active = row['isactivemember']\n",
    "    tenure = row['tenure']\n",
    "    try:\n",
    "        return pivot_salary.loc[card, active]\n",
    "    except:\n",
    "        return tenure\n",
    "    \n",
    "\n",
    "df_raw.loc[df_raw['tenure'].isnull()==True, 'tenure'] = df_raw[df_raw['tenure'].isnull()==True].apply(tenure_filling1,axis=1)\n",
    "\n",
    "df_raw.info()"
   ]
  },
  {
   "cell_type": "markdown",
   "metadata": {},
   "source": [
    "### Обработка дубликатов"
   ]
  },
  {
   "cell_type": "markdown",
   "metadata": {},
   "source": [
    "Проверим данные на наличие дубликатов. При проверке исключим столбцы, отвечающие за идентификацию строки, из-за которых строки независимо от того, одинаковые ли у них сочетания признаков, будут определены как уникальные."
   ]
  },
  {
   "cell_type": "code",
   "execution_count": 11,
   "metadata": {},
   "outputs": [
    {
     "data": {
      "text/plain": [
       "0"
      ]
     },
     "execution_count": 11,
     "metadata": {},
     "output_type": "execute_result"
    }
   ],
   "source": [
    "df_raw.drop(['rownumber','customerid'], axis=1).duplicated().sum()"
   ]
  },
  {
   "cell_type": "markdown",
   "metadata": {},
   "source": [
    "### Замена типов данных"
   ]
  },
  {
   "cell_type": "markdown",
   "metadata": {},
   "source": [
    "Заменим в признаках hascrcard, isactivemember и exited тип данных на булевый. Также заменим тип данных в признаке tenure"
   ]
  },
  {
   "cell_type": "code",
   "execution_count": 12,
   "metadata": {},
   "outputs": [
    {
     "name": "stdout",
     "output_type": "stream",
     "text": [
      "<class 'pandas.core.frame.DataFrame'>\n",
      "RangeIndex: 10000 entries, 0 to 9999\n",
      "Data columns (total 14 columns):\n",
      " #   Column           Non-Null Count  Dtype  \n",
      "---  ------           --------------  -----  \n",
      " 0   rownumber        10000 non-null  int64  \n",
      " 1   customerid       10000 non-null  int64  \n",
      " 2   surname          10000 non-null  object \n",
      " 3   creditscore      10000 non-null  int64  \n",
      " 4   geography        10000 non-null  object \n",
      " 5   gender           10000 non-null  object \n",
      " 6   age              10000 non-null  int64  \n",
      " 7   tenure           10000 non-null  int32  \n",
      " 8   balance          10000 non-null  float64\n",
      " 9   numofproducts    10000 non-null  int64  \n",
      " 10  hascrcard        10000 non-null  bool   \n",
      " 11  isactivemember   10000 non-null  bool   \n",
      " 12  estimatedsalary  10000 non-null  float64\n",
      " 13  exited           10000 non-null  bool   \n",
      "dtypes: bool(3), float64(2), int32(1), int64(5), object(3)\n",
      "memory usage: 849.7+ KB\n"
     ]
    }
   ],
   "source": [
    "df_raw.loc[:,['hascrcard', 'isactivemember', 'exited']] = df_raw.loc[:,['hascrcard', 'isactivemember', 'exited']].astype('bool')\n",
    "df_raw['tenure'] = df_raw['tenure'].astype('int')\n",
    "df_raw.info()"
   ]
  },
  {
   "cell_type": "markdown",
   "metadata": {},
   "source": [
    "### Исключение столбцов. Масштабирование признаков"
   ]
  },
  {
   "cell_type": "markdown",
   "metadata": {},
   "source": [
    "Перед тем, как примять технику прямого кодирования, избавимся от признаков, которые мы не будем использовать для обучения моделей, то есть первые три столбца."
   ]
  },
  {
   "cell_type": "code",
   "execution_count": 13,
   "metadata": {},
   "outputs": [],
   "source": [
    "df = df_raw.drop(['rownumber', 'customerid','surname'], axis = 1)"
   ]
  },
  {
   "cell_type": "markdown",
   "metadata": {},
   "source": [
    "### Прямое кодирование категориальных признаков"
   ]
  },
  {
   "cell_type": "markdown",
   "metadata": {},
   "source": [
    "Применим метод OHE. Он универсален и подойдет любому типу алгоритмов из тех, что мы будем использовать.  "
   ]
  },
  {
   "cell_type": "code",
   "execution_count": 14,
   "metadata": {},
   "outputs": [
    {
     "name": "stdout",
     "output_type": "stream",
     "text": [
      "<class 'pandas.core.frame.DataFrame'>\n",
      "RangeIndex: 10000 entries, 0 to 9999\n",
      "Data columns (total 12 columns):\n",
      " #   Column             Non-Null Count  Dtype  \n",
      "---  ------             --------------  -----  \n",
      " 0   creditscore        10000 non-null  int64  \n",
      " 1   age                10000 non-null  int64  \n",
      " 2   tenure             10000 non-null  int32  \n",
      " 3   balance            10000 non-null  float64\n",
      " 4   numofproducts      10000 non-null  int64  \n",
      " 5   hascrcard          10000 non-null  bool   \n",
      " 6   isactivemember     10000 non-null  bool   \n",
      " 7   estimatedsalary    10000 non-null  float64\n",
      " 8   exited             10000 non-null  bool   \n",
      " 9   geography_Germany  10000 non-null  uint8  \n",
      " 10  geography_Spain    10000 non-null  uint8  \n",
      " 11  gender_Male        10000 non-null  uint8  \n",
      "dtypes: bool(3), float64(2), int32(1), int64(3), uint8(3)\n",
      "memory usage: 488.4 KB\n"
     ]
    }
   ],
   "source": [
    "df_ohe = pd.get_dummies(df, drop_first = True)\n",
    "df_ohe.info()"
   ]
  },
  {
   "cell_type": "markdown",
   "metadata": {},
   "source": [
    "### Порядковое кодирование категориальных признаков"
   ]
  },
  {
   "cell_type": "markdown",
   "metadata": {},
   "source": [
    "Подготовим также данные, в которых применяется метод порядкового кодирования категориальных признаков. Он может пригодиться нам для обучения моделей с помощью дерева решений или случайного леса.   "
   ]
  },
  {
   "cell_type": "code",
   "execution_count": 15,
   "metadata": {},
   "outputs": [
    {
     "name": "stdout",
     "output_type": "stream",
     "text": [
      "<class 'pandas.core.frame.DataFrame'>\n",
      "RangeIndex: 10000 entries, 0 to 9999\n",
      "Data columns (total 11 columns):\n",
      " #   Column           Non-Null Count  Dtype  \n",
      "---  ------           --------------  -----  \n",
      " 0   creditscore      10000 non-null  float64\n",
      " 1   geography        10000 non-null  float64\n",
      " 2   gender           10000 non-null  float64\n",
      " 3   age              10000 non-null  float64\n",
      " 4   tenure           10000 non-null  float64\n",
      " 5   balance          10000 non-null  float64\n",
      " 6   numofproducts    10000 non-null  float64\n",
      " 7   hascrcard        10000 non-null  float64\n",
      " 8   isactivemember   10000 non-null  float64\n",
      " 9   estimatedsalary  10000 non-null  float64\n",
      " 10  exited           10000 non-null  float64\n",
      "dtypes: float64(11)\n",
      "memory usage: 859.5 KB\n"
     ]
    }
   ],
   "source": [
    "ordin_encod=OrdinalEncoder()\n",
    "ordin_encod.fit(df)\n",
    "df_ordin = pd.DataFrame(ordin_encod.transform(df), columns = df.columns)\n",
    "df_ordin.info()"
   ]
  },
  {
   "cell_type": "markdown",
   "metadata": {},
   "source": [
    "# 2. Исследование задачи"
   ]
  },
  {
   "cell_type": "markdown",
   "metadata": {},
   "source": [
    "Исследуем распределение классов по общему количеству объектов."
   ]
  },
  {
   "cell_type": "code",
   "execution_count": 16,
   "metadata": {},
   "outputs": [
    {
     "data": {
      "text/plain": [
       "2037"
      ]
     },
     "execution_count": 16,
     "metadata": {},
     "output_type": "execute_result"
    }
   ],
   "source": [
    "df.query('exited == 1')['exited'].count()"
   ]
  },
  {
   "cell_type": "markdown",
   "metadata": {},
   "source": [
    "Объекты с положительным значением целевого признака составляют чуть более 20% от общего набора данных, присутствует значительный дисбаланс классов целевого признака.  "
   ]
  },
  {
   "cell_type": "markdown",
   "metadata": {},
   "source": [
    "В целях исследования задачи обучим модели без учета дисбаланса классов и изучим получившиеся результаты."
   ]
  },
  {
   "cell_type": "code",
   "execution_count": 17,
   "metadata": {},
   "outputs": [],
   "source": [
    "ohe_features = df_ohe.drop('exited', axis = 1)\n",
    "ohe_target = df_ohe['exited']\n",
    "ohe_features_train, ohe_features_valid_test, ohe_target_train, ohe_target_valid_test = train_test_split(\n",
    "    ohe_features, ohe_target, \n",
    "    test_size = 0.4, stratify = ohe_target,\n",
    "    random_state = random) \n",
    "ohe_features_valid, ohe_features_test, ohe_target_valid, ohe_target_test = train_test_split(\n",
    "    ohe_features_valid_test, ohe_target_valid_test, \n",
    "    test_size = 0.5, stratify = ohe_target_valid_test,\n",
    "    random_state = random)"
   ]
  },
  {
   "cell_type": "code",
   "execution_count": 18,
   "metadata": {},
   "outputs": [],
   "source": [
    "ordin_features = df_ordin.drop('exited', axis = 1)\n",
    "ordin_target = df_ordin['exited']\n",
    "ordin_features_train, ordin_features_valid_test, ordin_target_train, ordin_target_valid_test = train_test_split(\n",
    "    ordin_features, ordin_target, \n",
    "    test_size = 0.3, stratify = ordin_target,\n",
    "    random_state = random) \n",
    "ordin_features_valid, ordin_features_test, ordin_target_valid, ordin_target_test = train_test_split(\n",
    "    ordin_features_valid_test, ordin_target_valid_test, \n",
    "    test_size = 0.5, stratify = ordin_target_valid_test,\n",
    "    random_state = random)"
   ]
  },
  {
   "cell_type": "code",
   "execution_count": 19,
   "metadata": {},
   "outputs": [
    {
     "name": "stderr",
     "output_type": "stream",
     "text": [
      "D:\\Tools\\anaconda3\\lib\\site-packages\\ipykernel_launcher.py:4: SettingWithCopyWarning: \n",
      "A value is trying to be set on a copy of a slice from a DataFrame.\n",
      "Try using .loc[row_indexer,col_indexer] = value instead\n",
      "\n",
      "See the caveats in the documentation: https://pandas.pydata.org/pandas-docs/stable/user_guide/indexing.html#returning-a-view-versus-a-copy\n",
      "  after removing the cwd from sys.path.\n",
      "D:\\Tools\\anaconda3\\lib\\site-packages\\pandas\\core\\indexing.py:965: SettingWithCopyWarning: \n",
      "A value is trying to be set on a copy of a slice from a DataFrame.\n",
      "Try using .loc[row_indexer,col_indexer] = value instead\n",
      "\n",
      "See the caveats in the documentation: https://pandas.pydata.org/pandas-docs/stable/user_guide/indexing.html#returning-a-view-versus-a-copy\n",
      "  self.obj[item] = s\n",
      "D:\\Tools\\anaconda3\\lib\\site-packages\\ipykernel_launcher.py:5: SettingWithCopyWarning: \n",
      "A value is trying to be set on a copy of a slice from a DataFrame.\n",
      "Try using .loc[row_indexer,col_indexer] = value instead\n",
      "\n",
      "See the caveats in the documentation: https://pandas.pydata.org/pandas-docs/stable/user_guide/indexing.html#returning-a-view-versus-a-copy\n",
      "  \"\"\"\n",
      "D:\\Tools\\anaconda3\\lib\\site-packages\\pandas\\core\\indexing.py:965: SettingWithCopyWarning: \n",
      "A value is trying to be set on a copy of a slice from a DataFrame.\n",
      "Try using .loc[row_indexer,col_indexer] = value instead\n",
      "\n",
      "See the caveats in the documentation: https://pandas.pydata.org/pandas-docs/stable/user_guide/indexing.html#returning-a-view-versus-a-copy\n",
      "  self.obj[item] = s\n",
      "D:\\Tools\\anaconda3\\lib\\site-packages\\ipykernel_launcher.py:6: SettingWithCopyWarning: \n",
      "A value is trying to be set on a copy of a slice from a DataFrame.\n",
      "Try using .loc[row_indexer,col_indexer] = value instead\n",
      "\n",
      "See the caveats in the documentation: https://pandas.pydata.org/pandas-docs/stable/user_guide/indexing.html#returning-a-view-versus-a-copy\n",
      "  \n",
      "D:\\Tools\\anaconda3\\lib\\site-packages\\pandas\\core\\indexing.py:965: SettingWithCopyWarning: \n",
      "A value is trying to be set on a copy of a slice from a DataFrame.\n",
      "Try using .loc[row_indexer,col_indexer] = value instead\n",
      "\n",
      "See the caveats in the documentation: https://pandas.pydata.org/pandas-docs/stable/user_guide/indexing.html#returning-a-view-versus-a-copy\n",
      "  self.obj[item] = s\n"
     ]
    }
   ],
   "source": [
    "numeric = ['creditscore', 'age', 'tenure', 'balance', 'numofproducts', 'estimatedsalary']\n",
    "ohe_scaler = StandardScaler()\n",
    "ohe_scaler.fit(ohe_features_train[numeric])\n",
    "ohe_features_train[numeric] = ohe_scaler.transform(ohe_features_train[numeric])\n",
    "ohe_features_valid[numeric] = ohe_scaler.transform(ohe_features_valid[numeric])\n",
    "ohe_features_test[numeric] = ohe_scaler.transform(ohe_features_test[numeric])\n"
   ]
  },
  {
   "cell_type": "code",
   "execution_count": 20,
   "metadata": {},
   "outputs": [
    {
     "name": "stderr",
     "output_type": "stream",
     "text": [
      "D:\\Tools\\anaconda3\\lib\\site-packages\\ipykernel_launcher.py:3: SettingWithCopyWarning: \n",
      "A value is trying to be set on a copy of a slice from a DataFrame.\n",
      "Try using .loc[row_indexer,col_indexer] = value instead\n",
      "\n",
      "See the caveats in the documentation: https://pandas.pydata.org/pandas-docs/stable/user_guide/indexing.html#returning-a-view-versus-a-copy\n",
      "  This is separate from the ipykernel package so we can avoid doing imports until\n",
      "D:\\Tools\\anaconda3\\lib\\site-packages\\pandas\\core\\frame.py:2969: SettingWithCopyWarning: \n",
      "A value is trying to be set on a copy of a slice from a DataFrame\n",
      "\n",
      "See the caveats in the documentation: https://pandas.pydata.org/pandas-docs/stable/user_guide/indexing.html#returning-a-view-versus-a-copy\n",
      "  self.loc._setitem_with_indexer((slice(None), indexer), value)\n",
      "D:\\Tools\\anaconda3\\lib\\site-packages\\pandas\\core\\frame.py:2935: SettingWithCopyWarning: \n",
      "A value is trying to be set on a copy of a slice from a DataFrame\n",
      "\n",
      "See the caveats in the documentation: https://pandas.pydata.org/pandas-docs/stable/user_guide/indexing.html#returning-a-view-versus-a-copy\n",
      "  self._setitem_array(key, value)\n",
      "D:\\Tools\\anaconda3\\lib\\site-packages\\ipykernel_launcher.py:4: SettingWithCopyWarning: \n",
      "A value is trying to be set on a copy of a slice from a DataFrame.\n",
      "Try using .loc[row_indexer,col_indexer] = value instead\n",
      "\n",
      "See the caveats in the documentation: https://pandas.pydata.org/pandas-docs/stable/user_guide/indexing.html#returning-a-view-versus-a-copy\n",
      "  after removing the cwd from sys.path.\n",
      "D:\\Tools\\anaconda3\\lib\\site-packages\\pandas\\core\\frame.py:2969: SettingWithCopyWarning: \n",
      "A value is trying to be set on a copy of a slice from a DataFrame\n",
      "\n",
      "See the caveats in the documentation: https://pandas.pydata.org/pandas-docs/stable/user_guide/indexing.html#returning-a-view-versus-a-copy\n",
      "  self.loc._setitem_with_indexer((slice(None), indexer), value)\n",
      "D:\\Tools\\anaconda3\\lib\\site-packages\\pandas\\core\\frame.py:2935: SettingWithCopyWarning: \n",
      "A value is trying to be set on a copy of a slice from a DataFrame\n",
      "\n",
      "See the caveats in the documentation: https://pandas.pydata.org/pandas-docs/stable/user_guide/indexing.html#returning-a-view-versus-a-copy\n",
      "  self._setitem_array(key, value)\n",
      "D:\\Tools\\anaconda3\\lib\\site-packages\\ipykernel_launcher.py:5: SettingWithCopyWarning: \n",
      "A value is trying to be set on a copy of a slice from a DataFrame.\n",
      "Try using .loc[row_indexer,col_indexer] = value instead\n",
      "\n",
      "See the caveats in the documentation: https://pandas.pydata.org/pandas-docs/stable/user_guide/indexing.html#returning-a-view-versus-a-copy\n",
      "  \"\"\"\n",
      "D:\\Tools\\anaconda3\\lib\\site-packages\\pandas\\core\\frame.py:2969: SettingWithCopyWarning: \n",
      "A value is trying to be set on a copy of a slice from a DataFrame\n",
      "\n",
      "See the caveats in the documentation: https://pandas.pydata.org/pandas-docs/stable/user_guide/indexing.html#returning-a-view-versus-a-copy\n",
      "  self.loc._setitem_with_indexer((slice(None), indexer), value)\n",
      "D:\\Tools\\anaconda3\\lib\\site-packages\\pandas\\core\\frame.py:2935: SettingWithCopyWarning: \n",
      "A value is trying to be set on a copy of a slice from a DataFrame\n",
      "\n",
      "See the caveats in the documentation: https://pandas.pydata.org/pandas-docs/stable/user_guide/indexing.html#returning-a-view-versus-a-copy\n",
      "  self._setitem_array(key, value)\n"
     ]
    }
   ],
   "source": [
    "ordin_scaler = StandardScaler()\n",
    "ordin_scaler.fit(ordin_features_train[numeric])\n",
    "ordin_features_train[numeric] = ordin_scaler.transform(ordin_features_train[numeric])\n",
    "ordin_features_valid[numeric] = ordin_scaler.transform(ordin_features_valid[numeric])\n",
    "ordin_features_test[numeric] = ordin_scaler.transform(ordin_features_test[numeric])\n"
   ]
  },
  {
   "cell_type": "markdown",
   "metadata": {},
   "source": [
    "### Дерево решений без учета дисбаланса"
   ]
  },
  {
   "cell_type": "markdown",
   "metadata": {},
   "source": [
    "Проверим, какие результаты покажут модели, созданные на алогоритмах дерева решений и обученные на данных OHE, обработанных методом ohe и порядковым кодированием."
   ]
  },
  {
   "cell_type": "markdown",
   "metadata": {},
   "source": [
    "Проведем перебор сочетаний гиперпараметров для дерева решений, обученных на данных с OHE."
   ]
  },
  {
   "cell_type": "code",
   "execution_count": 21,
   "metadata": {},
   "outputs": [
    {
     "name": "stdout",
     "output_type": "stream",
     "text": [
      "Wall time: 3.77 s\n"
     ]
    },
    {
     "data": {
      "text/html": [
       "<div>\n",
       "<style scoped>\n",
       "    .dataframe tbody tr th:only-of-type {\n",
       "        vertical-align: middle;\n",
       "    }\n",
       "\n",
       "    .dataframe tbody tr th {\n",
       "        vertical-align: top;\n",
       "    }\n",
       "\n",
       "    .dataframe thead th {\n",
       "        text-align: right;\n",
       "    }\n",
       "</style>\n",
       "<table border=\"1\" class=\"dataframe\">\n",
       "  <thead>\n",
       "    <tr style=\"text-align: right;\">\n",
       "      <th></th>\n",
       "      <th>max_depth</th>\n",
       "      <th>min_samples_split</th>\n",
       "      <th>min_samples_leaf</th>\n",
       "      <th>accuracy_score</th>\n",
       "      <th>recall_score</th>\n",
       "      <th>precision_score</th>\n",
       "      <th>f1_score</th>\n",
       "      <th>roc_auc_score</th>\n",
       "    </tr>\n",
       "  </thead>\n",
       "  <tbody>\n",
       "    <tr>\n",
       "      <th>0</th>\n",
       "      <td>2</td>\n",
       "      <td>2</td>\n",
       "      <td>1</td>\n",
       "      <td>0.8350</td>\n",
       "      <td>0.438725</td>\n",
       "      <td>0.639286</td>\n",
       "      <td>0.520349</td>\n",
       "      <td>0.753960</td>\n",
       "    </tr>\n",
       "    <tr>\n",
       "      <th>1</th>\n",
       "      <td>2</td>\n",
       "      <td>4</td>\n",
       "      <td>1</td>\n",
       "      <td>0.8350</td>\n",
       "      <td>0.438725</td>\n",
       "      <td>0.639286</td>\n",
       "      <td>0.520349</td>\n",
       "      <td>0.753960</td>\n",
       "    </tr>\n",
       "    <tr>\n",
       "      <th>2</th>\n",
       "      <td>2</td>\n",
       "      <td>6</td>\n",
       "      <td>1</td>\n",
       "      <td>0.8350</td>\n",
       "      <td>0.438725</td>\n",
       "      <td>0.639286</td>\n",
       "      <td>0.520349</td>\n",
       "      <td>0.753960</td>\n",
       "    </tr>\n",
       "    <tr>\n",
       "      <th>3</th>\n",
       "      <td>2</td>\n",
       "      <td>8</td>\n",
       "      <td>1</td>\n",
       "      <td>0.8350</td>\n",
       "      <td>0.438725</td>\n",
       "      <td>0.639286</td>\n",
       "      <td>0.520349</td>\n",
       "      <td>0.753960</td>\n",
       "    </tr>\n",
       "    <tr>\n",
       "      <th>4</th>\n",
       "      <td>2</td>\n",
       "      <td>2</td>\n",
       "      <td>3</td>\n",
       "      <td>0.8350</td>\n",
       "      <td>0.438725</td>\n",
       "      <td>0.639286</td>\n",
       "      <td>0.520349</td>\n",
       "      <td>0.753960</td>\n",
       "    </tr>\n",
       "    <tr>\n",
       "      <th>...</th>\n",
       "      <td>...</td>\n",
       "      <td>...</td>\n",
       "      <td>...</td>\n",
       "      <td>...</td>\n",
       "      <td>...</td>\n",
       "      <td>...</td>\n",
       "      <td>...</td>\n",
       "      <td>...</td>\n",
       "    </tr>\n",
       "    <tr>\n",
       "      <th>195</th>\n",
       "      <td>20</td>\n",
       "      <td>8</td>\n",
       "      <td>7</td>\n",
       "      <td>0.8255</td>\n",
       "      <td>0.534314</td>\n",
       "      <td>0.578249</td>\n",
       "      <td>0.555414</td>\n",
       "      <td>0.771030</td>\n",
       "    </tr>\n",
       "    <tr>\n",
       "      <th>196</th>\n",
       "      <td>20</td>\n",
       "      <td>2</td>\n",
       "      <td>9</td>\n",
       "      <td>0.8330</td>\n",
       "      <td>0.507353</td>\n",
       "      <td>0.608824</td>\n",
       "      <td>0.553476</td>\n",
       "      <td>0.796636</td>\n",
       "    </tr>\n",
       "    <tr>\n",
       "      <th>197</th>\n",
       "      <td>20</td>\n",
       "      <td>4</td>\n",
       "      <td>9</td>\n",
       "      <td>0.8330</td>\n",
       "      <td>0.507353</td>\n",
       "      <td>0.608824</td>\n",
       "      <td>0.553476</td>\n",
       "      <td>0.796636</td>\n",
       "    </tr>\n",
       "    <tr>\n",
       "      <th>198</th>\n",
       "      <td>20</td>\n",
       "      <td>6</td>\n",
       "      <td>9</td>\n",
       "      <td>0.8330</td>\n",
       "      <td>0.507353</td>\n",
       "      <td>0.608824</td>\n",
       "      <td>0.553476</td>\n",
       "      <td>0.796636</td>\n",
       "    </tr>\n",
       "    <tr>\n",
       "      <th>199</th>\n",
       "      <td>20</td>\n",
       "      <td>8</td>\n",
       "      <td>9</td>\n",
       "      <td>0.8330</td>\n",
       "      <td>0.507353</td>\n",
       "      <td>0.608824</td>\n",
       "      <td>0.553476</td>\n",
       "      <td>0.796636</td>\n",
       "    </tr>\n",
       "  </tbody>\n",
       "</table>\n",
       "<p>200 rows × 8 columns</p>\n",
       "</div>"
      ],
      "text/plain": [
       "     max_depth  min_samples_split  min_samples_leaf  accuracy_score  \\\n",
       "0            2                  2                 1          0.8350   \n",
       "1            2                  4                 1          0.8350   \n",
       "2            2                  6                 1          0.8350   \n",
       "3            2                  8                 1          0.8350   \n",
       "4            2                  2                 3          0.8350   \n",
       "..         ...                ...               ...             ...   \n",
       "195         20                  8                 7          0.8255   \n",
       "196         20                  2                 9          0.8330   \n",
       "197         20                  4                 9          0.8330   \n",
       "198         20                  6                 9          0.8330   \n",
       "199         20                  8                 9          0.8330   \n",
       "\n",
       "     recall_score  precision_score  f1_score  roc_auc_score  \n",
       "0        0.438725         0.639286  0.520349       0.753960  \n",
       "1        0.438725         0.639286  0.520349       0.753960  \n",
       "2        0.438725         0.639286  0.520349       0.753960  \n",
       "3        0.438725         0.639286  0.520349       0.753960  \n",
       "4        0.438725         0.639286  0.520349       0.753960  \n",
       "..            ...              ...       ...            ...  \n",
       "195      0.534314         0.578249  0.555414       0.771030  \n",
       "196      0.507353         0.608824  0.553476       0.796636  \n",
       "197      0.507353         0.608824  0.553476       0.796636  \n",
       "198      0.507353         0.608824  0.553476       0.796636  \n",
       "199      0.507353         0.608824  0.553476       0.796636  \n",
       "\n",
       "[200 rows x 8 columns]"
      ]
     },
     "execution_count": 21,
     "metadata": {},
     "output_type": "execute_result"
    }
   ],
   "source": [
    "%%time\n",
    "\n",
    "tree_depth_col = []\n",
    "tree_min_leaf_col = []\n",
    "tree_min_split_col = []\n",
    "tree_acc_col = []\n",
    "tree_f1_col = []\n",
    "tree_recall_col = []\n",
    "tree_precision_col = []\n",
    "tree_roc_auc_col = []\n",
    "\n",
    "for depth in range(2, 21, 2):\n",
    "    for min_leaf in range(1, 10, 2):\n",
    "        for min_split in range(2,10,2):\n",
    "            model_tree_ohe = DecisionTreeClassifier(max_depth = depth, min_samples_split = min_split, min_samples_leaf = min_leaf, random_state = random)\n",
    "            model_tree_ohe.fit(ohe_features_train, ohe_target_train)\n",
    "            predicted_valid_tree_ohe = model_tree_ohe.predict(ohe_features_valid)\n",
    "            acc_score_tree = accuracy_score(ohe_target_valid, predicted_valid_tree_ohe)\n",
    "            f1_score_tree = f1_score(ohe_target_valid, predicted_valid_tree_ohe)\n",
    "            recall_score_tree = recall_score(ohe_target_valid, predicted_valid_tree_ohe)\n",
    "            precision_score_tree = precision_score(ohe_target_valid, predicted_valid_tree_ohe)\n",
    "            probabilities_tree_ohe = model_tree_ohe.predict_proba(ohe_features_valid)\n",
    "            probabilities_one_tree_ohe = probabilities_tree_ohe[:, 1]\n",
    "            roc_auc_score_tree = roc_auc_score(ohe_target_valid, probabilities_one_tree_ohe)\n",
    "            tree_depth_col.append(depth)\n",
    "            tree_min_split_col.append(min_split)\n",
    "            tree_min_leaf_col.append(min_leaf)\n",
    "            tree_acc_col.append(acc_score_tree)\n",
    "            tree_f1_col.append(f1_score_tree)\n",
    "            tree_recall_col.append(recall_score_tree)\n",
    "            tree_precision_col.append(precision_score_tree)\n",
    "            tree_roc_auc_col.append(roc_auc_score_tree)\n",
    "        \n",
    "ohe_tree_hyperparameters_dict = {\n",
    "    'max_depth': tree_depth_col, \n",
    "    'min_samples_split': tree_min_split_col, \n",
    "    'min_samples_leaf': tree_min_leaf_col, \n",
    "    'accuracy_score': tree_acc_col, \n",
    "    'recall_score': tree_recall_col,\n",
    "    'precision_score': tree_precision_col, \n",
    "    'f1_score':tree_f1_col, \n",
    "    'roc_auc_score': tree_roc_auc_col}\n",
    "ohe_tree_hyperparameters = pd.DataFrame(data = ohe_tree_hyperparameters_dict)\n",
    "ohe_tree_hyperparameters"
   ]
  },
  {
   "cell_type": "markdown",
   "metadata": {},
   "source": [
    "Проведем перебор гипермараметров для дерева решений, обученного на данных с порядковым кодированием категориальных признаков. "
   ]
  },
  {
   "cell_type": "code",
   "execution_count": 22,
   "metadata": {},
   "outputs": [
    {
     "name": "stdout",
     "output_type": "stream",
     "text": [
      "Wall time: 3.73 s\n"
     ]
    },
    {
     "data": {
      "text/html": [
       "<div>\n",
       "<style scoped>\n",
       "    .dataframe tbody tr th:only-of-type {\n",
       "        vertical-align: middle;\n",
       "    }\n",
       "\n",
       "    .dataframe tbody tr th {\n",
       "        vertical-align: top;\n",
       "    }\n",
       "\n",
       "    .dataframe thead th {\n",
       "        text-align: right;\n",
       "    }\n",
       "</style>\n",
       "<table border=\"1\" class=\"dataframe\">\n",
       "  <thead>\n",
       "    <tr style=\"text-align: right;\">\n",
       "      <th></th>\n",
       "      <th>max_depth</th>\n",
       "      <th>min_samples_split</th>\n",
       "      <th>min_samples_leaf</th>\n",
       "      <th>accuracy_score</th>\n",
       "      <th>recall_score</th>\n",
       "      <th>precision_score</th>\n",
       "      <th>f1_score</th>\n",
       "      <th>roc_auc_score</th>\n",
       "    </tr>\n",
       "  </thead>\n",
       "  <tbody>\n",
       "    <tr>\n",
       "      <th>0</th>\n",
       "      <td>2</td>\n",
       "      <td>2</td>\n",
       "      <td>1</td>\n",
       "      <td>0.821333</td>\n",
       "      <td>0.421569</td>\n",
       "      <td>0.586364</td>\n",
       "      <td>0.490494</td>\n",
       "      <td>0.757428</td>\n",
       "    </tr>\n",
       "    <tr>\n",
       "      <th>1</th>\n",
       "      <td>2</td>\n",
       "      <td>4</td>\n",
       "      <td>1</td>\n",
       "      <td>0.821333</td>\n",
       "      <td>0.421569</td>\n",
       "      <td>0.586364</td>\n",
       "      <td>0.490494</td>\n",
       "      <td>0.757428</td>\n",
       "    </tr>\n",
       "    <tr>\n",
       "      <th>2</th>\n",
       "      <td>2</td>\n",
       "      <td>6</td>\n",
       "      <td>1</td>\n",
       "      <td>0.821333</td>\n",
       "      <td>0.421569</td>\n",
       "      <td>0.586364</td>\n",
       "      <td>0.490494</td>\n",
       "      <td>0.757428</td>\n",
       "    </tr>\n",
       "    <tr>\n",
       "      <th>3</th>\n",
       "      <td>2</td>\n",
       "      <td>8</td>\n",
       "      <td>1</td>\n",
       "      <td>0.821333</td>\n",
       "      <td>0.421569</td>\n",
       "      <td>0.586364</td>\n",
       "      <td>0.490494</td>\n",
       "      <td>0.757428</td>\n",
       "    </tr>\n",
       "    <tr>\n",
       "      <th>4</th>\n",
       "      <td>2</td>\n",
       "      <td>2</td>\n",
       "      <td>3</td>\n",
       "      <td>0.821333</td>\n",
       "      <td>0.421569</td>\n",
       "      <td>0.586364</td>\n",
       "      <td>0.490494</td>\n",
       "      <td>0.757428</td>\n",
       "    </tr>\n",
       "    <tr>\n",
       "      <th>...</th>\n",
       "      <td>...</td>\n",
       "      <td>...</td>\n",
       "      <td>...</td>\n",
       "      <td>...</td>\n",
       "      <td>...</td>\n",
       "      <td>...</td>\n",
       "      <td>...</td>\n",
       "      <td>...</td>\n",
       "    </tr>\n",
       "    <tr>\n",
       "      <th>195</th>\n",
       "      <td>20</td>\n",
       "      <td>8</td>\n",
       "      <td>7</td>\n",
       "      <td>0.824667</td>\n",
       "      <td>0.483660</td>\n",
       "      <td>0.584980</td>\n",
       "      <td>0.529517</td>\n",
       "      <td>0.770523</td>\n",
       "    </tr>\n",
       "    <tr>\n",
       "      <th>196</th>\n",
       "      <td>20</td>\n",
       "      <td>2</td>\n",
       "      <td>9</td>\n",
       "      <td>0.834000</td>\n",
       "      <td>0.483660</td>\n",
       "      <td>0.619247</td>\n",
       "      <td>0.543119</td>\n",
       "      <td>0.771299</td>\n",
       "    </tr>\n",
       "    <tr>\n",
       "      <th>197</th>\n",
       "      <td>20</td>\n",
       "      <td>4</td>\n",
       "      <td>9</td>\n",
       "      <td>0.834000</td>\n",
       "      <td>0.483660</td>\n",
       "      <td>0.619247</td>\n",
       "      <td>0.543119</td>\n",
       "      <td>0.771299</td>\n",
       "    </tr>\n",
       "    <tr>\n",
       "      <th>198</th>\n",
       "      <td>20</td>\n",
       "      <td>6</td>\n",
       "      <td>9</td>\n",
       "      <td>0.834000</td>\n",
       "      <td>0.483660</td>\n",
       "      <td>0.619247</td>\n",
       "      <td>0.543119</td>\n",
       "      <td>0.771299</td>\n",
       "    </tr>\n",
       "    <tr>\n",
       "      <th>199</th>\n",
       "      <td>20</td>\n",
       "      <td>8</td>\n",
       "      <td>9</td>\n",
       "      <td>0.834000</td>\n",
       "      <td>0.483660</td>\n",
       "      <td>0.619247</td>\n",
       "      <td>0.543119</td>\n",
       "      <td>0.771299</td>\n",
       "    </tr>\n",
       "  </tbody>\n",
       "</table>\n",
       "<p>200 rows × 8 columns</p>\n",
       "</div>"
      ],
      "text/plain": [
       "     max_depth  min_samples_split  min_samples_leaf  accuracy_score  \\\n",
       "0            2                  2                 1        0.821333   \n",
       "1            2                  4                 1        0.821333   \n",
       "2            2                  6                 1        0.821333   \n",
       "3            2                  8                 1        0.821333   \n",
       "4            2                  2                 3        0.821333   \n",
       "..         ...                ...               ...             ...   \n",
       "195         20                  8                 7        0.824667   \n",
       "196         20                  2                 9        0.834000   \n",
       "197         20                  4                 9        0.834000   \n",
       "198         20                  6                 9        0.834000   \n",
       "199         20                  8                 9        0.834000   \n",
       "\n",
       "     recall_score  precision_score  f1_score  roc_auc_score  \n",
       "0        0.421569         0.586364  0.490494       0.757428  \n",
       "1        0.421569         0.586364  0.490494       0.757428  \n",
       "2        0.421569         0.586364  0.490494       0.757428  \n",
       "3        0.421569         0.586364  0.490494       0.757428  \n",
       "4        0.421569         0.586364  0.490494       0.757428  \n",
       "..            ...              ...       ...            ...  \n",
       "195      0.483660         0.584980  0.529517       0.770523  \n",
       "196      0.483660         0.619247  0.543119       0.771299  \n",
       "197      0.483660         0.619247  0.543119       0.771299  \n",
       "198      0.483660         0.619247  0.543119       0.771299  \n",
       "199      0.483660         0.619247  0.543119       0.771299  \n",
       "\n",
       "[200 rows x 8 columns]"
      ]
     },
     "execution_count": 22,
     "metadata": {},
     "output_type": "execute_result"
    }
   ],
   "source": [
    "%%time\n",
    "\n",
    "tree_depth_col = []\n",
    "tree_min_leaf_col = []\n",
    "tree_min_split_col = []\n",
    "tree_acc_col = []\n",
    "tree_f1_col = []\n",
    "tree_recall_col = []\n",
    "tree_precision_col = []\n",
    "tree_roc_auc_col = []\n",
    "\n",
    "for depth in range(2, 21, 2):\n",
    "    for min_leaf in range(1, 10, 2):\n",
    "        for min_split in range(2,10,2):\n",
    "            model_tree_ordin = DecisionTreeClassifier(max_depth = depth, min_samples_split = min_split, min_samples_leaf = min_leaf, random_state = random)\n",
    "            model_tree_ordin.fit(ordin_features_train, ordin_target_train)\n",
    "            predicted_valid_tree_ordin = model_tree_ordin.predict(ordin_features_valid)\n",
    "            acc_score_tree = accuracy_score(ordin_target_valid, predicted_valid_tree_ordin)\n",
    "            f1_score_tree = f1_score(ordin_target_valid, predicted_valid_tree_ordin)\n",
    "            recall_score_tree = recall_score(ordin_target_valid, predicted_valid_tree_ordin)\n",
    "            precision_score_tree = precision_score(ordin_target_valid, predicted_valid_tree_ordin)\n",
    "            probabilities_tree_ordin = model_tree_ordin.predict_proba(ordin_features_valid)\n",
    "            probabilities_one_tree_ordin = probabilities_tree_ordin[:, 1]\n",
    "            roc_auc_score_tree = roc_auc_score(ordin_target_valid, probabilities_one_tree_ordin)\n",
    "            tree_depth_col.append(depth)\n",
    "            tree_min_split_col.append(min_split)\n",
    "            tree_min_leaf_col.append(min_leaf)\n",
    "            tree_acc_col.append(acc_score_tree)\n",
    "            tree_f1_col.append(f1_score_tree)\n",
    "            tree_recall_col.append(recall_score_tree)\n",
    "            tree_precision_col.append(precision_score_tree)\n",
    "            tree_roc_auc_col.append(roc_auc_score_tree)\n",
    "        \n",
    "ordin_tree_hyperparameters_dict = {\n",
    "    'max_depth': tree_depth_col, \n",
    "    'min_samples_split': tree_min_split_col, \n",
    "    'min_samples_leaf': tree_min_leaf_col, \n",
    "    'accuracy_score': tree_acc_col, \n",
    "    'recall_score': tree_recall_col,\n",
    "    'precision_score': tree_precision_col, \n",
    "    'f1_score':tree_f1_col, \n",
    "    'roc_auc_score': tree_roc_auc_col}\n",
    "ordin_tree_hyperparameters = pd.DataFrame(data = ordin_tree_hyperparameters_dict)\n",
    "ordin_tree_hyperparameters"
   ]
  },
  {
   "cell_type": "markdown",
   "metadata": {},
   "source": [
    "Выведем строки с максимальным значением f1."
   ]
  },
  {
   "cell_type": "code",
   "execution_count": 23,
   "metadata": {},
   "outputs": [
    {
     "data": {
      "text/html": [
       "<div>\n",
       "<style scoped>\n",
       "    .dataframe tbody tr th:only-of-type {\n",
       "        vertical-align: middle;\n",
       "    }\n",
       "\n",
       "    .dataframe tbody tr th {\n",
       "        vertical-align: top;\n",
       "    }\n",
       "\n",
       "    .dataframe thead th {\n",
       "        text-align: right;\n",
       "    }\n",
       "</style>\n",
       "<table border=\"1\" class=\"dataframe\">\n",
       "  <thead>\n",
       "    <tr style=\"text-align: right;\">\n",
       "      <th></th>\n",
       "      <th>max_depth</th>\n",
       "      <th>min_samples_split</th>\n",
       "      <th>min_samples_leaf</th>\n",
       "      <th>accuracy_score</th>\n",
       "      <th>recall_score</th>\n",
       "      <th>precision_score</th>\n",
       "      <th>f1_score</th>\n",
       "      <th>roc_auc_score</th>\n",
       "    </tr>\n",
       "  </thead>\n",
       "  <tbody>\n",
       "    <tr>\n",
       "      <th>116</th>\n",
       "      <td>12</td>\n",
       "      <td>2</td>\n",
       "      <td>9</td>\n",
       "      <td>0.834</td>\n",
       "      <td>0.486928</td>\n",
       "      <td>0.618257</td>\n",
       "      <td>0.54479</td>\n",
       "      <td>0.779291</td>\n",
       "    </tr>\n",
       "    <tr>\n",
       "      <th>117</th>\n",
       "      <td>12</td>\n",
       "      <td>4</td>\n",
       "      <td>9</td>\n",
       "      <td>0.834</td>\n",
       "      <td>0.486928</td>\n",
       "      <td>0.618257</td>\n",
       "      <td>0.54479</td>\n",
       "      <td>0.779291</td>\n",
       "    </tr>\n",
       "    <tr>\n",
       "      <th>118</th>\n",
       "      <td>12</td>\n",
       "      <td>6</td>\n",
       "      <td>9</td>\n",
       "      <td>0.834</td>\n",
       "      <td>0.486928</td>\n",
       "      <td>0.618257</td>\n",
       "      <td>0.54479</td>\n",
       "      <td>0.779291</td>\n",
       "    </tr>\n",
       "    <tr>\n",
       "      <th>119</th>\n",
       "      <td>12</td>\n",
       "      <td>8</td>\n",
       "      <td>9</td>\n",
       "      <td>0.834</td>\n",
       "      <td>0.486928</td>\n",
       "      <td>0.618257</td>\n",
       "      <td>0.54479</td>\n",
       "      <td>0.779291</td>\n",
       "    </tr>\n",
       "  </tbody>\n",
       "</table>\n",
       "</div>"
      ],
      "text/plain": [
       "     max_depth  min_samples_split  min_samples_leaf  accuracy_score  \\\n",
       "116         12                  2                 9           0.834   \n",
       "117         12                  4                 9           0.834   \n",
       "118         12                  6                 9           0.834   \n",
       "119         12                  8                 9           0.834   \n",
       "\n",
       "     recall_score  precision_score  f1_score  roc_auc_score  \n",
       "116      0.486928         0.618257   0.54479       0.779291  \n",
       "117      0.486928         0.618257   0.54479       0.779291  \n",
       "118      0.486928         0.618257   0.54479       0.779291  \n",
       "119      0.486928         0.618257   0.54479       0.779291  "
      ]
     },
     "execution_count": 23,
     "metadata": {},
     "output_type": "execute_result"
    }
   ],
   "source": [
    "ordin_tree_hyperparameters.query('f1_score == f1_score.max()')"
   ]
  },
  {
   "cell_type": "code",
   "execution_count": 24,
   "metadata": {},
   "outputs": [
    {
     "data": {
      "text/html": [
       "<div>\n",
       "<style scoped>\n",
       "    .dataframe tbody tr th:only-of-type {\n",
       "        vertical-align: middle;\n",
       "    }\n",
       "\n",
       "    .dataframe tbody tr th {\n",
       "        vertical-align: top;\n",
       "    }\n",
       "\n",
       "    .dataframe thead th {\n",
       "        text-align: right;\n",
       "    }\n",
       "</style>\n",
       "<table border=\"1\" class=\"dataframe\">\n",
       "  <thead>\n",
       "    <tr style=\"text-align: right;\">\n",
       "      <th></th>\n",
       "      <th>max_depth</th>\n",
       "      <th>min_samples_split</th>\n",
       "      <th>min_samples_leaf</th>\n",
       "      <th>accuracy_score</th>\n",
       "      <th>recall_score</th>\n",
       "      <th>precision_score</th>\n",
       "      <th>f1_score</th>\n",
       "      <th>roc_auc_score</th>\n",
       "    </tr>\n",
       "  </thead>\n",
       "  <tbody>\n",
       "    <tr>\n",
       "      <th>52</th>\n",
       "      <td>6</td>\n",
       "      <td>2</td>\n",
       "      <td>7</td>\n",
       "      <td>0.8625</td>\n",
       "      <td>0.480392</td>\n",
       "      <td>0.756757</td>\n",
       "      <td>0.587706</td>\n",
       "      <td>0.842704</td>\n",
       "    </tr>\n",
       "    <tr>\n",
       "      <th>53</th>\n",
       "      <td>6</td>\n",
       "      <td>4</td>\n",
       "      <td>7</td>\n",
       "      <td>0.8625</td>\n",
       "      <td>0.480392</td>\n",
       "      <td>0.756757</td>\n",
       "      <td>0.587706</td>\n",
       "      <td>0.842704</td>\n",
       "    </tr>\n",
       "    <tr>\n",
       "      <th>54</th>\n",
       "      <td>6</td>\n",
       "      <td>6</td>\n",
       "      <td>7</td>\n",
       "      <td>0.8625</td>\n",
       "      <td>0.480392</td>\n",
       "      <td>0.756757</td>\n",
       "      <td>0.587706</td>\n",
       "      <td>0.842704</td>\n",
       "    </tr>\n",
       "    <tr>\n",
       "      <th>55</th>\n",
       "      <td>6</td>\n",
       "      <td>8</td>\n",
       "      <td>7</td>\n",
       "      <td>0.8625</td>\n",
       "      <td>0.480392</td>\n",
       "      <td>0.756757</td>\n",
       "      <td>0.587706</td>\n",
       "      <td>0.842704</td>\n",
       "    </tr>\n",
       "  </tbody>\n",
       "</table>\n",
       "</div>"
      ],
      "text/plain": [
       "    max_depth  min_samples_split  min_samples_leaf  accuracy_score  \\\n",
       "52          6                  2                 7          0.8625   \n",
       "53          6                  4                 7          0.8625   \n",
       "54          6                  6                 7          0.8625   \n",
       "55          6                  8                 7          0.8625   \n",
       "\n",
       "    recall_score  precision_score  f1_score  roc_auc_score  \n",
       "52      0.480392         0.756757  0.587706       0.842704  \n",
       "53      0.480392         0.756757  0.587706       0.842704  \n",
       "54      0.480392         0.756757  0.587706       0.842704  \n",
       "55      0.480392         0.756757  0.587706       0.842704  "
      ]
     },
     "execution_count": 24,
     "metadata": {},
     "output_type": "execute_result"
    }
   ],
   "source": [
    "ohe_tree_hyperparameters.query('f1_score == f1_score.max()')"
   ]
  },
  {
   "cell_type": "markdown",
   "metadata": {},
   "source": [
    "Максимальное значение f1 у модели, обученной на данных с прямым кодированием категориальных признаков. Это довольно интересно, учитывая, что порядковое кодирование лучше подходят для деревьев решений и случайного леса.\n",
    "\n",
    "В любом случае, значения f1 дерева решений слишком низкие, на тестовой это значение с большой вероятностью упадет."
   ]
  },
  {
   "cell_type": "code",
   "execution_count": 25,
   "metadata": {},
   "outputs": [
    {
     "data": {
      "text/plain": [
       "0.7855929271048885"
      ]
     },
     "execution_count": 25,
     "metadata": {},
     "output_type": "execute_result"
    }
   ],
   "source": [
    "ohe_tree_hyperparameters['roc_auc_score'].mean()"
   ]
  },
  {
   "cell_type": "code",
   "execution_count": 26,
   "metadata": {},
   "outputs": [
    {
     "data": {
      "text/plain": [
       "0.7850827359838407"
      ]
     },
     "execution_count": 26,
     "metadata": {},
     "output_type": "execute_result"
    }
   ],
   "source": [
    "ohe_tree_hyperparameters['roc_auc_score'].median()"
   ]
  },
  {
   "cell_type": "code",
   "execution_count": 27,
   "metadata": {},
   "outputs": [
    {
     "data": {
      "text/plain": [
       "0.7790201278724789"
      ]
     },
     "execution_count": 27,
     "metadata": {},
     "output_type": "execute_result"
    }
   ],
   "source": [
    "ordin_tree_hyperparameters['roc_auc_score'].mean()"
   ]
  },
  {
   "cell_type": "code",
   "execution_count": 28,
   "metadata": {},
   "outputs": [
    {
     "data": {
      "text/plain": [
       "0.7712993069924787"
      ]
     },
     "execution_count": 28,
     "metadata": {},
     "output_type": "execute_result"
    }
   ],
   "source": [
    "ordin_tree_hyperparameters['roc_auc_score'].median()"
   ]
  },
  {
   "cell_type": "markdown",
   "metadata": {},
   "source": [
    "Примечательно, что несмотря на неудовлетворительный результат метрики f1, показатель площади под кривой ROC довольно высокий и у алгоритмов, использующих данные, обработанные методом OHE, и у алгоритмов на данных с порядковым кодированием признаков. У алгоритмов с данными OHE показатель ROC-AUC выше, хотя и несильно, больше эта разница заметна на моделях с лучшим показателем f1. У лучшей модели деревьев кривая выглядит следующим образом:"
   ]
  },
  {
   "cell_type": "code",
   "execution_count": 29,
   "metadata": {
    "scrolled": false
   },
   "outputs": [
    {
     "data": {
      "image/png": "[encoded data removed]",
      "text/plain": [
       "<Figure size 432x288 with 1 Axes>"
      ]
     },
     "metadata": {
      "needs_background": "light"
     },
     "output_type": "display_data"
    }
   ],
   "source": [
    "best_tree_depth = int(ohe_tree_hyperparameters.query('f1_score == f1_score.max()')['max_depth'].head(1))\n",
    "best_tree_split = int(ohe_tree_hyperparameters.query('f1_score == f1_score.max()')['min_samples_split'].head(1))\n",
    "best_tree_leaf = int(ohe_tree_hyperparameters.query('f1_score == f1_score.max()')['min_samples_leaf'].head(1))\n",
    "\n",
    "\n",
    "best_tree_model = DecisionTreeClassifier(\n",
    "    max_depth = best_tree_depth, \n",
    "    min_samples_split = best_tree_split, \n",
    "    min_samples_leaf = best_tree_leaf,\n",
    "    random_state = random)\n",
    "best_tree_model.fit(ohe_features_train, ohe_target_train)\n",
    "probabilities_tree_valid = best_tree_model.predict_proba(ohe_features_valid)\n",
    "probabilities_one_tree_valid = probabilities_tree_valid[:, 1]\n",
    "\n",
    "fpr, tpr, thresholds = roc_curve(ohe_target_valid, probabilities_one_tree_valid)\n",
    "\n",
    "plt.figure()\n",
    "plt.plot(fpr, tpr)\n",
    "plt.plot([0, 1], [0, 1], linestyle='--')\n",
    "plt.xlim([0.0, 1.0])\n",
    "plt.ylim([0.0, 1.0])\n",
    "plt.xlabel('False Positive Rate')\n",
    "plt.ylabel('True Positive Rate')\n",
    "plt.title('ROC-кривая')\n",
    "plt.show()"
   ]
  },
  {
   "cell_type": "markdown",
   "metadata": {},
   "source": [
    "### Случайный лес без учета дисбаланса"
   ]
  },
  {
   "cell_type": "markdown",
   "metadata": {},
   "source": [
    "Случайный лес обычно дает более точные предсказания, хотя он дольше работает, поэтому на перебор сочетаний гипермпараметров уйдет больше времени, даже несмотря на то, что мы перебираем не все подряд гиперпараметры. "
   ]
  },
  {
   "cell_type": "markdown",
   "metadata": {},
   "source": [
    "Проверим, какую точность даст случайный лес, обученный на данных OHE:"
   ]
  },
  {
   "cell_type": "code",
   "execution_count": 30,
   "metadata": {},
   "outputs": [
    {
     "name": "stdout",
     "output_type": "stream",
     "text": [
      "Wall time: 1min 40s\n"
     ]
    },
    {
     "data": {
      "text/html": [
       "<div>\n",
       "<style scoped>\n",
       "    .dataframe tbody tr th:only-of-type {\n",
       "        vertical-align: middle;\n",
       "    }\n",
       "\n",
       "    .dataframe tbody tr th {\n",
       "        vertical-align: top;\n",
       "    }\n",
       "\n",
       "    .dataframe thead th {\n",
       "        text-align: right;\n",
       "    }\n",
       "</style>\n",
       "<table border=\"1\" class=\"dataframe\">\n",
       "  <thead>\n",
       "    <tr style=\"text-align: right;\">\n",
       "      <th></th>\n",
       "      <th>max_depth</th>\n",
       "      <th>n_estimators</th>\n",
       "      <th>min_samples_split</th>\n",
       "      <th>min_samples_leaf</th>\n",
       "      <th>score</th>\n",
       "      <th>recall_score</th>\n",
       "      <th>precision_score</th>\n",
       "      <th>f1_score</th>\n",
       "      <th>roc_auc_score</th>\n",
       "    </tr>\n",
       "  </thead>\n",
       "  <tbody>\n",
       "    <tr>\n",
       "      <th>0</th>\n",
       "      <td>6</td>\n",
       "      <td>20</td>\n",
       "      <td>2</td>\n",
       "      <td>1</td>\n",
       "      <td>0.8590</td>\n",
       "      <td>0.416667</td>\n",
       "      <td>0.794393</td>\n",
       "      <td>0.546624</td>\n",
       "      <td>0.864617</td>\n",
       "    </tr>\n",
       "    <tr>\n",
       "      <th>1</th>\n",
       "      <td>6</td>\n",
       "      <td>30</td>\n",
       "      <td>2</td>\n",
       "      <td>1</td>\n",
       "      <td>0.8590</td>\n",
       "      <td>0.414216</td>\n",
       "      <td>0.797170</td>\n",
       "      <td>0.545161</td>\n",
       "      <td>0.869144</td>\n",
       "    </tr>\n",
       "    <tr>\n",
       "      <th>2</th>\n",
       "      <td>6</td>\n",
       "      <td>40</td>\n",
       "      <td>2</td>\n",
       "      <td>1</td>\n",
       "      <td>0.8590</td>\n",
       "      <td>0.409314</td>\n",
       "      <td>0.802885</td>\n",
       "      <td>0.542208</td>\n",
       "      <td>0.871101</td>\n",
       "    </tr>\n",
       "    <tr>\n",
       "      <th>3</th>\n",
       "      <td>6</td>\n",
       "      <td>50</td>\n",
       "      <td>2</td>\n",
       "      <td>1</td>\n",
       "      <td>0.8580</td>\n",
       "      <td>0.409314</td>\n",
       "      <td>0.795238</td>\n",
       "      <td>0.540453</td>\n",
       "      <td>0.870209</td>\n",
       "    </tr>\n",
       "    <tr>\n",
       "      <th>4</th>\n",
       "      <td>6</td>\n",
       "      <td>60</td>\n",
       "      <td>2</td>\n",
       "      <td>1</td>\n",
       "      <td>0.8565</td>\n",
       "      <td>0.394608</td>\n",
       "      <td>0.800995</td>\n",
       "      <td>0.528736</td>\n",
       "      <td>0.870476</td>\n",
       "    </tr>\n",
       "    <tr>\n",
       "      <th>...</th>\n",
       "      <td>...</td>\n",
       "      <td>...</td>\n",
       "      <td>...</td>\n",
       "      <td>...</td>\n",
       "      <td>...</td>\n",
       "      <td>...</td>\n",
       "      <td>...</td>\n",
       "      <td>...</td>\n",
       "      <td>...</td>\n",
       "    </tr>\n",
       "    <tr>\n",
       "      <th>400</th>\n",
       "      <td>14</td>\n",
       "      <td>60</td>\n",
       "      <td>6</td>\n",
       "      <td>5</td>\n",
       "      <td>0.8635</td>\n",
       "      <td>0.475490</td>\n",
       "      <td>0.766798</td>\n",
       "      <td>0.586989</td>\n",
       "      <td>0.873080</td>\n",
       "    </tr>\n",
       "    <tr>\n",
       "      <th>401</th>\n",
       "      <td>14</td>\n",
       "      <td>70</td>\n",
       "      <td>6</td>\n",
       "      <td>5</td>\n",
       "      <td>0.8640</td>\n",
       "      <td>0.473039</td>\n",
       "      <td>0.772000</td>\n",
       "      <td>0.586626</td>\n",
       "      <td>0.873935</td>\n",
       "    </tr>\n",
       "    <tr>\n",
       "      <th>402</th>\n",
       "      <td>14</td>\n",
       "      <td>80</td>\n",
       "      <td>6</td>\n",
       "      <td>5</td>\n",
       "      <td>0.8650</td>\n",
       "      <td>0.473039</td>\n",
       "      <td>0.778226</td>\n",
       "      <td>0.588415</td>\n",
       "      <td>0.874472</td>\n",
       "    </tr>\n",
       "    <tr>\n",
       "      <th>403</th>\n",
       "      <td>14</td>\n",
       "      <td>90</td>\n",
       "      <td>6</td>\n",
       "      <td>5</td>\n",
       "      <td>0.8650</td>\n",
       "      <td>0.473039</td>\n",
       "      <td>0.778226</td>\n",
       "      <td>0.588415</td>\n",
       "      <td>0.874383</td>\n",
       "    </tr>\n",
       "    <tr>\n",
       "      <th>404</th>\n",
       "      <td>14</td>\n",
       "      <td>100</td>\n",
       "      <td>6</td>\n",
       "      <td>5</td>\n",
       "      <td>0.8655</td>\n",
       "      <td>0.470588</td>\n",
       "      <td>0.783673</td>\n",
       "      <td>0.588055</td>\n",
       "      <td>0.874771</td>\n",
       "    </tr>\n",
       "  </tbody>\n",
       "</table>\n",
       "<p>405 rows × 9 columns</p>\n",
       "</div>"
      ],
      "text/plain": [
       "     max_depth  n_estimators  min_samples_split  min_samples_leaf   score  \\\n",
       "0            6            20                  2                 1  0.8590   \n",
       "1            6            30                  2                 1  0.8590   \n",
       "2            6            40                  2                 1  0.8590   \n",
       "3            6            50                  2                 1  0.8580   \n",
       "4            6            60                  2                 1  0.8565   \n",
       "..         ...           ...                ...               ...     ...   \n",
       "400         14            60                  6                 5  0.8635   \n",
       "401         14            70                  6                 5  0.8640   \n",
       "402         14            80                  6                 5  0.8650   \n",
       "403         14            90                  6                 5  0.8650   \n",
       "404         14           100                  6                 5  0.8655   \n",
       "\n",
       "     recall_score  precision_score  f1_score  roc_auc_score  \n",
       "0        0.416667         0.794393  0.546624       0.864617  \n",
       "1        0.414216         0.797170  0.545161       0.869144  \n",
       "2        0.409314         0.802885  0.542208       0.871101  \n",
       "3        0.409314         0.795238  0.540453       0.870209  \n",
       "4        0.394608         0.800995  0.528736       0.870476  \n",
       "..            ...              ...       ...            ...  \n",
       "400      0.475490         0.766798  0.586989       0.873080  \n",
       "401      0.473039         0.772000  0.586626       0.873935  \n",
       "402      0.473039         0.778226  0.588415       0.874472  \n",
       "403      0.473039         0.778226  0.588415       0.874383  \n",
       "404      0.470588         0.783673  0.588055       0.874771  \n",
       "\n",
       "[405 rows x 9 columns]"
      ]
     },
     "execution_count": 30,
     "metadata": {},
     "output_type": "execute_result"
    }
   ],
   "source": [
    "%%time\n",
    "\n",
    "forest_depth_col = []\n",
    "forest_estim_col = []\n",
    "forest_min_leaf_col = []\n",
    "forest_min_split_col = []\n",
    "forest_score_col = []\n",
    "forest_f1_col = []\n",
    "forest_recall_col = []\n",
    "forest_precision_col = []\n",
    "forest_roc_auc_col = []\n",
    "\n",
    "for depth in range(6,16,2):\n",
    "    for min_leaf in range(1, 6, 2):\n",
    "        for min_split in range(2,8,2):\n",
    "            for estim in range(20, 110, 10):\n",
    "                model_forest_ohe = RandomForestClassifier(n_estimators = estim, max_depth = depth, min_samples_split = min_split, min_samples_leaf = min_leaf, random_state = random)\n",
    "                model_forest_ohe.fit(ohe_features_train, ohe_target_train)\n",
    "                predicted_valid_forest_ohe = model_forest_ohe.predict(ohe_features_valid)\n",
    "                score_forest = model_forest_ohe.score(ohe_features_valid, ohe_target_valid)\n",
    "                recall_score_forest = recall_score(ohe_target_valid, predicted_valid_forest_ohe)\n",
    "                precision_score_forest = precision_score(ohe_target_valid, predicted_valid_forest_ohe)\n",
    "                probabilities_forest_ohe = model_forest_ohe.predict_proba(ohe_features_valid)\n",
    "                probabilities_one_forest_ohe = probabilities_forest_ohe[:, 1]\n",
    "                roc_auc_score_forest = roc_auc_score(ohe_target_valid, probabilities_one_forest_ohe)\n",
    "                f1_forest = f1_score(ohe_target_valid, predicted_valid_forest_ohe)\n",
    "                forest_depth_col.append(depth)\n",
    "                forest_min_leaf_col.append(min_leaf)\n",
    "                forest_min_split_col.append(min_split)\n",
    "                forest_estim_col.append(estim)\n",
    "                forest_score_col.append(score_forest)\n",
    "                forest_recall_col.append(recall_score_forest)\n",
    "                forest_precision_col.append(precision_score_forest)\n",
    "                forest_f1_col.append(f1_forest)\n",
    "                forest_roc_auc_col.append(roc_auc_score_forest)\n",
    "        \n",
    "        \n",
    "ohe_forest_hyperparameters_dict = {\n",
    "    'max_depth': forest_depth_col, \n",
    "    'n_estimators': forest_estim_col, \n",
    "    'min_samples_split': forest_min_split_col, \n",
    "    'min_samples_leaf': forest_min_leaf_col, \n",
    "    'score': forest_score_col,\n",
    "    'recall_score': forest_recall_col,\n",
    "    'precision_score': forest_precision_col,\n",
    "    'f1_score': forest_f1_col, \n",
    "    'roc_auc_score': forest_roc_auc_col}\n",
    "ohe_forest_hyperparameters = pd.DataFrame(data = ohe_forest_hyperparameters_dict)\n",
    "ohe_forest_hyperparameters"
   ]
  },
  {
   "cell_type": "markdown",
   "metadata": {},
   "source": [
    "Посмотрим, какие результаты выдаст случайный лес на основе данных, обработанных с помощью порядкового кодирования:"
   ]
  },
  {
   "cell_type": "code",
   "execution_count": 31,
   "metadata": {},
   "outputs": [
    {
     "name": "stdout",
     "output_type": "stream",
     "text": [
      "Wall time: 1min 53s\n"
     ]
    },
    {
     "data": {
      "text/html": [
       "<div>\n",
       "<style scoped>\n",
       "    .dataframe tbody tr th:only-of-type {\n",
       "        vertical-align: middle;\n",
       "    }\n",
       "\n",
       "    .dataframe tbody tr th {\n",
       "        vertical-align: top;\n",
       "    }\n",
       "\n",
       "    .dataframe thead th {\n",
       "        text-align: right;\n",
       "    }\n",
       "</style>\n",
       "<table border=\"1\" class=\"dataframe\">\n",
       "  <thead>\n",
       "    <tr style=\"text-align: right;\">\n",
       "      <th></th>\n",
       "      <th>max_depth</th>\n",
       "      <th>n_estimators</th>\n",
       "      <th>min_samples_split</th>\n",
       "      <th>min_samples_leaf</th>\n",
       "      <th>score</th>\n",
       "      <th>recall_score</th>\n",
       "      <th>precision_score</th>\n",
       "      <th>f1_score</th>\n",
       "      <th>roc_auc_score</th>\n",
       "    </tr>\n",
       "  </thead>\n",
       "  <tbody>\n",
       "    <tr>\n",
       "      <th>0</th>\n",
       "      <td>6</td>\n",
       "      <td>20</td>\n",
       "      <td>2</td>\n",
       "      <td>1</td>\n",
       "      <td>0.855333</td>\n",
       "      <td>0.372549</td>\n",
       "      <td>0.820144</td>\n",
       "      <td>0.512360</td>\n",
       "      <td>0.864051</td>\n",
       "    </tr>\n",
       "    <tr>\n",
       "      <th>1</th>\n",
       "      <td>6</td>\n",
       "      <td>30</td>\n",
       "      <td>2</td>\n",
       "      <td>1</td>\n",
       "      <td>0.853333</td>\n",
       "      <td>0.372549</td>\n",
       "      <td>0.802817</td>\n",
       "      <td>0.508929</td>\n",
       "      <td>0.863599</td>\n",
       "    </tr>\n",
       "    <tr>\n",
       "      <th>2</th>\n",
       "      <td>6</td>\n",
       "      <td>40</td>\n",
       "      <td>2</td>\n",
       "      <td>1</td>\n",
       "      <td>0.854667</td>\n",
       "      <td>0.379085</td>\n",
       "      <td>0.805556</td>\n",
       "      <td>0.515556</td>\n",
       "      <td>0.865523</td>\n",
       "    </tr>\n",
       "    <tr>\n",
       "      <th>3</th>\n",
       "      <td>6</td>\n",
       "      <td>50</td>\n",
       "      <td>2</td>\n",
       "      <td>1</td>\n",
       "      <td>0.854667</td>\n",
       "      <td>0.385621</td>\n",
       "      <td>0.797297</td>\n",
       "      <td>0.519824</td>\n",
       "      <td>0.864724</td>\n",
       "    </tr>\n",
       "    <tr>\n",
       "      <th>4</th>\n",
       "      <td>6</td>\n",
       "      <td>60</td>\n",
       "      <td>2</td>\n",
       "      <td>1</td>\n",
       "      <td>0.854000</td>\n",
       "      <td>0.382353</td>\n",
       "      <td>0.795918</td>\n",
       "      <td>0.516556</td>\n",
       "      <td>0.864246</td>\n",
       "    </tr>\n",
       "    <tr>\n",
       "      <th>...</th>\n",
       "      <td>...</td>\n",
       "      <td>...</td>\n",
       "      <td>...</td>\n",
       "      <td>...</td>\n",
       "      <td>...</td>\n",
       "      <td>...</td>\n",
       "      <td>...</td>\n",
       "      <td>...</td>\n",
       "      <td>...</td>\n",
       "    </tr>\n",
       "    <tr>\n",
       "      <th>400</th>\n",
       "      <td>14</td>\n",
       "      <td>60</td>\n",
       "      <td>6</td>\n",
       "      <td>5</td>\n",
       "      <td>0.862000</td>\n",
       "      <td>0.418301</td>\n",
       "      <td>0.815287</td>\n",
       "      <td>0.552916</td>\n",
       "      <td>0.862898</td>\n",
       "    </tr>\n",
       "    <tr>\n",
       "      <th>401</th>\n",
       "      <td>14</td>\n",
       "      <td>70</td>\n",
       "      <td>6</td>\n",
       "      <td>5</td>\n",
       "      <td>0.862667</td>\n",
       "      <td>0.415033</td>\n",
       "      <td>0.824675</td>\n",
       "      <td>0.552174</td>\n",
       "      <td>0.864130</td>\n",
       "    </tr>\n",
       "    <tr>\n",
       "      <th>402</th>\n",
       "      <td>14</td>\n",
       "      <td>80</td>\n",
       "      <td>6</td>\n",
       "      <td>5</td>\n",
       "      <td>0.862000</td>\n",
       "      <td>0.411765</td>\n",
       "      <td>0.823529</td>\n",
       "      <td>0.549020</td>\n",
       "      <td>0.864976</td>\n",
       "    </tr>\n",
       "    <tr>\n",
       "      <th>403</th>\n",
       "      <td>14</td>\n",
       "      <td>90</td>\n",
       "      <td>6</td>\n",
       "      <td>5</td>\n",
       "      <td>0.860667</td>\n",
       "      <td>0.408497</td>\n",
       "      <td>0.816993</td>\n",
       "      <td>0.544662</td>\n",
       "      <td>0.865600</td>\n",
       "    </tr>\n",
       "    <tr>\n",
       "      <th>404</th>\n",
       "      <td>14</td>\n",
       "      <td>100</td>\n",
       "      <td>6</td>\n",
       "      <td>5</td>\n",
       "      <td>0.861333</td>\n",
       "      <td>0.411765</td>\n",
       "      <td>0.818182</td>\n",
       "      <td>0.547826</td>\n",
       "      <td>0.866500</td>\n",
       "    </tr>\n",
       "  </tbody>\n",
       "</table>\n",
       "<p>405 rows × 9 columns</p>\n",
       "</div>"
      ],
      "text/plain": [
       "     max_depth  n_estimators  min_samples_split  min_samples_leaf     score  \\\n",
       "0            6            20                  2                 1  0.855333   \n",
       "1            6            30                  2                 1  0.853333   \n",
       "2            6            40                  2                 1  0.854667   \n",
       "3            6            50                  2                 1  0.854667   \n",
       "4            6            60                  2                 1  0.854000   \n",
       "..         ...           ...                ...               ...       ...   \n",
       "400         14            60                  6                 5  0.862000   \n",
       "401         14            70                  6                 5  0.862667   \n",
       "402         14            80                  6                 5  0.862000   \n",
       "403         14            90                  6                 5  0.860667   \n",
       "404         14           100                  6                 5  0.861333   \n",
       "\n",
       "     recall_score  precision_score  f1_score  roc_auc_score  \n",
       "0        0.372549         0.820144  0.512360       0.864051  \n",
       "1        0.372549         0.802817  0.508929       0.863599  \n",
       "2        0.379085         0.805556  0.515556       0.865523  \n",
       "3        0.385621         0.797297  0.519824       0.864724  \n",
       "4        0.382353         0.795918  0.516556       0.864246  \n",
       "..            ...              ...       ...            ...  \n",
       "400      0.418301         0.815287  0.552916       0.862898  \n",
       "401      0.415033         0.824675  0.552174       0.864130  \n",
       "402      0.411765         0.823529  0.549020       0.864976  \n",
       "403      0.408497         0.816993  0.544662       0.865600  \n",
       "404      0.411765         0.818182  0.547826       0.866500  \n",
       "\n",
       "[405 rows x 9 columns]"
      ]
     },
     "execution_count": 31,
     "metadata": {},
     "output_type": "execute_result"
    }
   ],
   "source": [
    "%%time\n",
    "\n",
    "forest_depth_col = []\n",
    "forest_estim_col = []\n",
    "forest_min_leaf_col = []\n",
    "forest_min_split_col = []\n",
    "forest_score_col = []\n",
    "forest_f1_col = []\n",
    "forest_recall_col = []\n",
    "forest_precision_col = []\n",
    "forest_roc_auc_col = []\n",
    "\n",
    "for depth in range(6,16,2):\n",
    "    for min_leaf in range(1, 6, 2):\n",
    "        for min_split in range(2,8,2):\n",
    "            for estim in range(20, 110, 10):\n",
    "                model_forest_ordin = RandomForestClassifier(n_estimators = estim, max_depth = depth, min_samples_split = min_split, min_samples_leaf = min_leaf, random_state = random)\n",
    "                model_forest_ordin.fit(ordin_features_train, ordin_target_train)\n",
    "                predicted_valid_forest_ordin = model_forest_ordin.predict(ordin_features_valid)\n",
    "                score_forest = model_forest_ordin.score(ordin_features_valid, ordin_target_valid)\n",
    "                recall_score_forest = recall_score(ordin_target_valid, predicted_valid_forest_ordin)\n",
    "                precision_score_forest = precision_score(ordin_target_valid, predicted_valid_forest_ordin)\n",
    "                probabilities_forest_ordin = model_forest_ordin.predict_proba(ordin_features_valid)\n",
    "                probabilities_one_forest_ordin = probabilities_forest_ordin[:, 1]\n",
    "                roc_auc_score_forest = roc_auc_score(ordin_target_valid, probabilities_one_forest_ordin)\n",
    "                f1_forest = f1_score(ordin_target_valid, predicted_valid_forest_ordin)\n",
    "                forest_depth_col.append(depth)\n",
    "                forest_min_leaf_col.append(min_leaf)\n",
    "                forest_min_split_col.append(min_split)\n",
    "                forest_estim_col.append(estim)\n",
    "                forest_score_col.append(score_forest)\n",
    "                forest_recall_col.append(recall_score_forest)\n",
    "                forest_precision_col.append(precision_score_forest)\n",
    "                forest_f1_col.append(f1_forest)\n",
    "                forest_roc_auc_col.append(roc_auc_score_forest)\n",
    "        \n",
    "        \n",
    "ordin_forest_hyperparameters_dict = {\n",
    "    'max_depth': forest_depth_col, \n",
    "    'n_estimators': forest_estim_col, \n",
    "    'min_samples_split': forest_min_split_col, \n",
    "    'min_samples_leaf': forest_min_leaf_col, \n",
    "    'score': forest_score_col,\n",
    "    'recall_score': forest_recall_col,\n",
    "    'precision_score': forest_precision_col,\n",
    "    'f1_score': forest_f1_col, \n",
    "    'roc_auc_score': forest_roc_auc_col}\n",
    "ordin_forest_hyperparameters = pd.DataFrame(data = ordin_forest_hyperparameters_dict)\n",
    "ordin_forest_hyperparameters"
   ]
  },
  {
   "cell_type": "code",
   "execution_count": 32,
   "metadata": {},
   "outputs": [
    {
     "data": {
      "text/html": [
       "<div>\n",
       "<style scoped>\n",
       "    .dataframe tbody tr th:only-of-type {\n",
       "        vertical-align: middle;\n",
       "    }\n",
       "\n",
       "    .dataframe tbody tr th {\n",
       "        vertical-align: top;\n",
       "    }\n",
       "\n",
       "    .dataframe thead th {\n",
       "        text-align: right;\n",
       "    }\n",
       "</style>\n",
       "<table border=\"1\" class=\"dataframe\">\n",
       "  <thead>\n",
       "    <tr style=\"text-align: right;\">\n",
       "      <th></th>\n",
       "      <th>max_depth</th>\n",
       "      <th>n_estimators</th>\n",
       "      <th>min_samples_split</th>\n",
       "      <th>min_samples_leaf</th>\n",
       "      <th>score</th>\n",
       "      <th>recall_score</th>\n",
       "      <th>precision_score</th>\n",
       "      <th>f1_score</th>\n",
       "      <th>roc_auc_score</th>\n",
       "    </tr>\n",
       "  </thead>\n",
       "  <tbody>\n",
       "    <tr>\n",
       "      <th>324</th>\n",
       "      <td>14</td>\n",
       "      <td>20</td>\n",
       "      <td>2</td>\n",
       "      <td>1</td>\n",
       "      <td>0.862</td>\n",
       "      <td>0.444444</td>\n",
       "      <td>0.786127</td>\n",
       "      <td>0.56785</td>\n",
       "      <td>0.85167</td>\n",
       "    </tr>\n",
       "  </tbody>\n",
       "</table>\n",
       "</div>"
      ],
      "text/plain": [
       "     max_depth  n_estimators  min_samples_split  min_samples_leaf  score  \\\n",
       "324         14            20                  2                 1  0.862   \n",
       "\n",
       "     recall_score  precision_score  f1_score  roc_auc_score  \n",
       "324      0.444444         0.786127   0.56785        0.85167  "
      ]
     },
     "execution_count": 32,
     "metadata": {},
     "output_type": "execute_result"
    }
   ],
   "source": [
    "best_ordin_forest = ordin_forest_hyperparameters.query('f1_score == f1_score.max()')\n",
    "best_ordin_forest"
   ]
  },
  {
   "cell_type": "code",
   "execution_count": 33,
   "metadata": {},
   "outputs": [
    {
     "data": {
      "text/html": [
       "<div>\n",
       "<style scoped>\n",
       "    .dataframe tbody tr th:only-of-type {\n",
       "        vertical-align: middle;\n",
       "    }\n",
       "\n",
       "    .dataframe tbody tr th {\n",
       "        vertical-align: top;\n",
       "    }\n",
       "\n",
       "    .dataframe thead th {\n",
       "        text-align: right;\n",
       "    }\n",
       "</style>\n",
       "<table border=\"1\" class=\"dataframe\">\n",
       "  <thead>\n",
       "    <tr style=\"text-align: right;\">\n",
       "      <th></th>\n",
       "      <th>max_depth</th>\n",
       "      <th>n_estimators</th>\n",
       "      <th>min_samples_split</th>\n",
       "      <th>min_samples_leaf</th>\n",
       "      <th>score</th>\n",
       "      <th>recall_score</th>\n",
       "      <th>precision_score</th>\n",
       "      <th>f1_score</th>\n",
       "      <th>roc_auc_score</th>\n",
       "    </tr>\n",
       "  </thead>\n",
       "  <tbody>\n",
       "    <tr>\n",
       "      <th>351</th>\n",
       "      <td>14</td>\n",
       "      <td>20</td>\n",
       "      <td>2</td>\n",
       "      <td>3</td>\n",
       "      <td>0.8725</td>\n",
       "      <td>0.514706</td>\n",
       "      <td>0.786517</td>\n",
       "      <td>0.622222</td>\n",
       "      <td>0.865266</td>\n",
       "    </tr>\n",
       "    <tr>\n",
       "      <th>360</th>\n",
       "      <td>14</td>\n",
       "      <td>20</td>\n",
       "      <td>4</td>\n",
       "      <td>3</td>\n",
       "      <td>0.8725</td>\n",
       "      <td>0.514706</td>\n",
       "      <td>0.786517</td>\n",
       "      <td>0.622222</td>\n",
       "      <td>0.865266</td>\n",
       "    </tr>\n",
       "    <tr>\n",
       "      <th>369</th>\n",
       "      <td>14</td>\n",
       "      <td>20</td>\n",
       "      <td>6</td>\n",
       "      <td>3</td>\n",
       "      <td>0.8725</td>\n",
       "      <td>0.514706</td>\n",
       "      <td>0.786517</td>\n",
       "      <td>0.622222</td>\n",
       "      <td>0.865266</td>\n",
       "    </tr>\n",
       "  </tbody>\n",
       "</table>\n",
       "</div>"
      ],
      "text/plain": [
       "     max_depth  n_estimators  min_samples_split  min_samples_leaf   score  \\\n",
       "351         14            20                  2                 3  0.8725   \n",
       "360         14            20                  4                 3  0.8725   \n",
       "369         14            20                  6                 3  0.8725   \n",
       "\n",
       "     recall_score  precision_score  f1_score  roc_auc_score  \n",
       "351      0.514706         0.786517  0.622222       0.865266  \n",
       "360      0.514706         0.786517  0.622222       0.865266  \n",
       "369      0.514706         0.786517  0.622222       0.865266  "
      ]
     },
     "execution_count": 33,
     "metadata": {},
     "output_type": "execute_result"
    }
   ],
   "source": [
    "best_ohe_forest = ohe_forest_hyperparameters.query('f1_score == f1_score.max()')\n",
    "best_ohe_forest"
   ]
  },
  {
   "cell_type": "code",
   "execution_count": 34,
   "metadata": {},
   "outputs": [],
   "source": [
    "best_ordin_forest_depth = int(best_ordin_forest['max_depth'].head(1))\n",
    "best_ordin_forest_n_estimators = int(best_ordin_forest['n_estimators'].head(1))\n",
    "best_ordin_forest_split = int(best_ordin_forest['min_samples_split'].head(1))\n",
    "best_ordin_forest_leaf = int(best_ordin_forest['min_samples_leaf'].head(1))\n",
    "\n",
    "best_ohe_forest_depth = int(best_ohe_forest['max_depth'].head(1))\n",
    "best_ohe_forest_n_estimators = int(best_ohe_forest['n_estimators'].head(1))\n",
    "best_ohe_forest_split = int(best_ohe_forest['min_samples_split'].head(1))\n",
    "best_ohe_forest_leaf = int(best_ohe_forest['min_samples_leaf'].head(1))\n"
   ]
  },
  {
   "cell_type": "markdown",
   "metadata": {},
   "source": [
    "Значение f1 метрики составляет более 62 сотых, превышяя пороговое. Примечательно, что, несмотря на то, что техника порядкового кодирования категориальных признаков вроде как должна демонстрировать лучшие результаты при использовании алгоритмов дерева решений или случайного леса, лучший результат получен на основе данных, обработанных с помощью прямого кодирования."
   ]
  },
  {
   "cell_type": "markdown",
   "metadata": {},
   "source": [
    "Проверим, какое значение получится на тестовой выборке. Обучим модель на основе алогоритма с гиперпараметрами, при которых получилось наибольшее значение f1-метрики. Заодно сразу вызовем матрицу ошибок."
   ]
  },
  {
   "cell_type": "code",
   "execution_count": 35,
   "metadata": {},
   "outputs": [
    {
     "data": {
      "text/plain": [
       "array([[1157,   37],\n",
       "       [ 170,  136]], dtype=int64)"
      ]
     },
     "execution_count": 35,
     "metadata": {},
     "output_type": "execute_result"
    }
   ],
   "source": [
    "best_ordin_forest_model = RandomForestClassifier(\n",
    "    max_depth = best_ordin_forest_depth, \n",
    "    n_estimators = best_ordin_forest_n_estimators, \n",
    "    min_samples_split = best_ordin_forest_split, \n",
    "    min_samples_leaf = best_ordin_forest_leaf, \n",
    "    random_state = random)\n",
    "best_ordin_forest_model.fit(ordin_features_train, ordin_target_train)\n",
    "best_ordin_predicted_valid = best_ordin_forest_model.predict(ordin_features_valid)\n",
    "confusion_matrix(ordin_target_valid, best_ordin_predicted_valid)"
   ]
  },
  {
   "cell_type": "code",
   "execution_count": 36,
   "metadata": {},
   "outputs": [
    {
     "data": {
      "text/plain": [
       "array([[1535,   57],\n",
       "       [ 198,  210]], dtype=int64)"
      ]
     },
     "execution_count": 36,
     "metadata": {},
     "output_type": "execute_result"
    }
   ],
   "source": [
    "best_ohe_forest_model = RandomForestClassifier(\n",
    "    max_depth = best_ohe_forest_depth, \n",
    "    n_estimators = best_ohe_forest_n_estimators, \n",
    "    min_samples_split = best_ohe_forest_split, \n",
    "    min_samples_leaf = best_ohe_forest_leaf, \n",
    "    random_state = random)\n",
    "best_ohe_forest_model.fit(ohe_features_train, ohe_target_train)\n",
    "best_ohe_predicted_valid = best_ohe_forest_model.predict(ohe_features_valid)\n",
    "confusion_matrix(ohe_target_valid, best_ohe_predicted_valid)"
   ]
  },
  {
   "cell_type": "markdown",
   "metadata": {},
   "source": [
    "Обратимся к вызванным нами матрицам ошибок: из них можно заметить, что во всех случаях ошибок первого рода не так много, в то время как ложноотрицательных значений заметно больше, и по количеству они сопоставимы с истинно положительными.  \n",
    "Можно также наблюдать, что понижение качества предсказания в случае с OHE обусловленно в первую очередь перераспределением результатов от истинно положительных к ложноотрицательным. То есть ухудшение качество происходит из-за того, что склонна не замечать положительные ответы и с изменением набора признаков эта склонность усугубляется.  \n",
    "Все это позволяет нам определить, что основной потенциал улучшения качества - в улучшении способности модели определять положительные значения."
   ]
  },
  {
   "cell_type": "markdown",
   "metadata": {},
   "source": [
    "Посмотрим на показатель площади под кривой ROC."
   ]
  },
  {
   "cell_type": "code",
   "execution_count": 37,
   "metadata": {},
   "outputs": [
    {
     "data": {
      "image/png": "[encoded data removed]",
      "text/plain": [
       "<Figure size 432x288 with 1 Axes>"
      ]
     },
     "metadata": {
      "needs_background": "light"
     },
     "output_type": "display_data"
    }
   ],
   "source": [
    "probabilities_forest_valid = best_ohe_forest_model.predict_proba(ohe_features_valid)\n",
    "probabilities_one_forest_valid = probabilities_tree_valid[:, 1]\n",
    "\n",
    "fpr, tpr, thresholds = roc_curve(ohe_target_valid, probabilities_one_forest_valid)\n",
    "\n",
    "plt.figure()\n",
    "plt.plot(fpr, tpr)\n",
    "plt.plot([0, 1], [0, 1], linestyle='--')\n",
    "plt.xlim([0.0, 1.0])\n",
    "plt.ylim([0.0, 1.0])\n",
    "plt.xlabel('False Positive Rate')\n",
    "plt.ylabel('True Positive Rate')\n",
    "plt.title('ROC-кривая')\n",
    "plt.show()"
   ]
  },
  {
   "cell_type": "code",
   "execution_count": 38,
   "metadata": {},
   "outputs": [
    {
     "data": {
      "text/plain": [
       "0.8427038686077446"
      ]
     },
     "execution_count": 38,
     "metadata": {},
     "output_type": "execute_result"
    }
   ],
   "source": [
    "roc_auc_score(ohe_target_valid, probabilities_one_forest_valid)"
   ]
  },
  {
   "cell_type": "code",
   "execution_count": 39,
   "metadata": {},
   "outputs": [
    {
     "name": "stdout",
     "output_type": "stream",
     "text": [
      "ohe\n",
      "0.8703326568390252\n",
      "0.8706353458468814\n",
      "\n",
      "ordin\n",
      "0.8649259537689535\n",
      "0.8651974469296373\n"
     ]
    }
   ],
   "source": [
    "print('ohe')\n",
    "print(ohe_forest_hyperparameters['roc_auc_score'].mean())\n",
    "print(ohe_forest_hyperparameters['roc_auc_score'].median())\n",
    "print()\n",
    "print('ordin')\n",
    "print(ordin_forest_hyperparameters['roc_auc_score'].mean())\n",
    "print(ordin_forest_hyperparameters['roc_auc_score'].median())"
   ]
  },
  {
   "cell_type": "markdown",
   "metadata": {},
   "source": [
    "В целом, как и в случае с деревьями решений, при не очень высоких значениях f1 значения roc-auc весьма высоки. "
   ]
  },
  {
   "cell_type": "markdown",
   "metadata": {},
   "source": [
    "### Логистическая регрессия без учета дисбаланса"
   ]
  },
  {
   "cell_type": "markdown",
   "metadata": {},
   "source": [
    "Построим логистическую регрессию. Данные, обработанные порядковым кодированием, применять не будем."
   ]
  },
  {
   "cell_type": "code",
   "execution_count": 40,
   "metadata": {},
   "outputs": [
    {
     "data": {
      "text/plain": [
       "0.3076923076923077"
      ]
     },
     "execution_count": 40,
     "metadata": {},
     "output_type": "execute_result"
    }
   ],
   "source": [
    "model_reg = LogisticRegression(solver = 'liblinear')\n",
    "model_reg.fit(ohe_features_train, ohe_target_train)\n",
    "predicted_valid_reg = model_reg.predict(ohe_features_valid)\n",
    "f1_score(ohe_target_valid, predicted_valid_reg)"
   ]
  },
  {
   "cell_type": "markdown",
   "metadata": {},
   "source": [
    "Результат заметно ниже, чем у других алгоритмов."
   ]
  },
  {
   "cell_type": "markdown",
   "metadata": {},
   "source": [
    "### Выводы"
   ]
  },
  {
   "cell_type": "markdown",
   "metadata": {},
   "source": [
    "Потенциал для увеличения качества модели - в борьбе с дисбалансом. Лучшие результаты продемонстировал случайный лес на основе данных, обработанных OHE."
   ]
  },
  {
   "cell_type": "markdown",
   "metadata": {},
   "source": [
    "# 3. Борьба с дисбалансом"
   ]
  },
  {
   "cell_type": "markdown",
   "metadata": {},
   "source": [
    "Применим методы борьбы с дисбалансом классов. Случайный лес, обученный на данных, обработанных с помощью прямого кодирования, продемонстрировал лучший результат. Сосредоточимся на нем."
   ]
  },
  {
   "cell_type": "markdown",
   "metadata": {},
   "source": [
    "### Взвешивание классов"
   ]
  },
  {
   "cell_type": "markdown",
   "metadata": {},
   "source": [
    "Попробуем побороть дисбаланс, используя возможности RandomForestClassifier, а именно аргумент class_weight."
   ]
  },
  {
   "cell_type": "code",
   "execution_count": 41,
   "metadata": {},
   "outputs": [
    {
     "data": {
      "text/plain": [
       "0.6227848101265823"
      ]
     },
     "execution_count": 41,
     "metadata": {},
     "output_type": "execute_result"
    }
   ],
   "source": [
    "best_ohe_forest_model_balanced = RandomForestClassifier(\n",
    "    max_depth = best_ohe_forest_depth, \n",
    "    n_estimators = best_ohe_forest_n_estimators, \n",
    "    min_samples_split = best_ohe_forest_split, \n",
    "    min_samples_leaf = best_ohe_forest_leaf, \n",
    "    random_state = random, class_weight = 'balanced')\n",
    "best_ohe_forest_model_balanced.fit(ohe_features_train, ohe_target_train)\n",
    "best_ohe_predicted_valid_balanced = best_ohe_forest_model_balanced.predict(ohe_features_valid)\n",
    "f1_score(ohe_target_valid, best_ohe_predicted_valid_balanced)"
   ]
  },
  {
   "cell_type": "markdown",
   "metadata": {},
   "source": [
    "На всякий случай проверим, как с указанием этого агумента сработает логистическая регрессия:"
   ]
  },
  {
   "cell_type": "code",
   "execution_count": 42,
   "metadata": {},
   "outputs": [
    {
     "data": {
      "text/plain": [
       "0.5289982425307558"
      ]
     },
     "execution_count": 42,
     "metadata": {},
     "output_type": "execute_result"
    }
   ],
   "source": [
    "model_reg2 = LogisticRegression(solver = 'liblinear', class_weight = 'balanced')\n",
    "model_reg2.fit(ohe_features_train, ohe_target_train)\n",
    "predicted_valid_reg2 = model_reg2.predict(ohe_features_valid)\n",
    "f1_score(ohe_target_valid, predicted_valid_reg2)"
   ]
  },
  {
   "cell_type": "markdown",
   "metadata": {},
   "source": [
    "Результат гораздо выше, чем без балансировки классов в логистической регрессии, но все равно заметно ниже порогового."
   ]
  },
  {
   "cell_type": "markdown",
   "metadata": {},
   "source": [
    "### Увеличение выборки"
   ]
  },
  {
   "cell_type": "markdown",
   "metadata": {},
   "source": [
    "Применим метод увеличения выборки за счет строк с положительным целевым признаком. Для этого напишем функцию, принимающую на вход набор данных с нецелевыми признаками, набор с целевым признаком и множитель строк с положительным целевым признаком, и выдающий два набора - с целевым и нецелевыми признаками - с увеличенным количеством строк с положительным целевым признаком."
   ]
  },
  {
   "cell_type": "code",
   "execution_count": 43,
   "metadata": {},
   "outputs": [],
   "source": [
    "def upsampling(features, target, repeat):\n",
    "    features_zeros = features[target == 0]\n",
    "    features_ones = features[target == 1]\n",
    "    target_zeros = target[target == 0]\n",
    "    target_ones = target[target == 1]\n",
    "\n",
    "    features_upsampled = pd.concat([features_zeros] + [features_ones] * repeat)\n",
    "    target_upsampled = pd.concat([target_zeros] + [target_ones] * repeat)\n",
    "    \n",
    "    features_upsampled, target_upsampled = shuffle(\n",
    "        features_upsampled, target_upsampled, random_state=12345)\n",
    "    \n",
    "    return features_upsampled, target_upsampled"
   ]
  },
  {
   "cell_type": "markdown",
   "metadata": {},
   "source": [
    "Рассчитаем множитель repeat таким образом, чтобы доли нулей и единиц в целевом признаке были приблизительно равны.  \n",
    "Точного разбиения 50/50 у нас может не получиться, потому что множитель будет целым числом и его придется округлить."
   ]
  },
  {
   "cell_type": "code",
   "execution_count": 44,
   "metadata": {},
   "outputs": [
    {
     "data": {
      "text/plain": [
       "4"
      ]
     },
     "execution_count": 44,
     "metadata": {},
     "output_type": "execute_result"
    }
   ],
   "source": [
    "exited_ones = df_ohe.query('exited == 1')['exited'].count()\n",
    "exited_zeros = df_ohe['exited'].count() - exited_ones\n",
    "upsampling_repeat = math.ceil(exited_zeros / exited_ones)\n",
    "upsampling_repeat"
   ]
  },
  {
   "cell_type": "markdown",
   "metadata": {},
   "source": [
    "Применим функцию."
   ]
  },
  {
   "cell_type": "code",
   "execution_count": 45,
   "metadata": {},
   "outputs": [
    {
     "name": "stdout",
     "output_type": "stream",
     "text": [
      "<class 'pandas.core.frame.DataFrame'>\n",
      "Int64Index: 9666 entries, 6785 to 3142\n",
      "Data columns (total 11 columns):\n",
      " #   Column             Non-Null Count  Dtype  \n",
      "---  ------             --------------  -----  \n",
      " 0   creditscore        9666 non-null   float64\n",
      " 1   age                9666 non-null   float64\n",
      " 2   tenure             9666 non-null   float64\n",
      " 3   balance            9666 non-null   float64\n",
      " 4   numofproducts      9666 non-null   float64\n",
      " 5   hascrcard          9666 non-null   bool   \n",
      " 6   isactivemember     9666 non-null   bool   \n",
      " 7   estimatedsalary    9666 non-null   float64\n",
      " 8   geography_Germany  9666 non-null   uint8  \n",
      " 9   geography_Spain    9666 non-null   uint8  \n",
      " 10  gender_Male        9666 non-null   uint8  \n",
      "dtypes: bool(2), float64(6), uint8(3)\n",
      "memory usage: 575.8 KB\n"
     ]
    }
   ],
   "source": [
    "features_upsampled, target_upsampled = upsampling(ohe_features_train, ohe_target_train, upsampling_repeat)\n",
    "features_upsampled.info()"
   ]
  },
  {
   "cell_type": "markdown",
   "metadata": {},
   "source": [
    "Проверим соотношение нулей и единиц целевого признака:"
   ]
  },
  {
   "cell_type": "code",
   "execution_count": 46,
   "metadata": {},
   "outputs": [
    {
     "data": {
      "text/plain": [
       "0.5056900475894889"
      ]
     },
     "execution_count": 46,
     "metadata": {},
     "output_type": "execute_result"
    }
   ],
   "source": [
    "(target_upsampled == 1).sum() / (target_upsampled == 1).count()"
   ]
  },
  {
   "cell_type": "markdown",
   "metadata": {},
   "source": [
    "Соотношение примерно равное, можем попробовать обучить случайный лес и проверим его предсказания на валидационной выборке."
   ]
  },
  {
   "cell_type": "code",
   "execution_count": 47,
   "metadata": {},
   "outputs": [
    {
     "data": {
      "text/plain": [
       "0.631578947368421"
      ]
     },
     "execution_count": 47,
     "metadata": {},
     "output_type": "execute_result"
    }
   ],
   "source": [
    "best_ohe_forest_model.fit(features_upsampled, target_upsampled)\n",
    "predicted_upsampled = best_ohe_forest_model.predict(ohe_features_valid)\n",
    "f1_score(ohe_target_valid, predicted_upsampled)"
   ]
  },
  {
   "cell_type": "markdown",
   "metadata": {},
   "source": [
    "Показатель высокий, на этап тестирования переходит модель с увеличенной выборокой."
   ]
  },
  {
   "cell_type": "markdown",
   "metadata": {},
   "source": [
    "# 4. Тестирование модели"
   ]
  },
  {
   "cell_type": "markdown",
   "metadata": {},
   "source": [
    "### Увеличение обучающего набора данных"
   ]
  },
  {
   "cell_type": "code",
   "execution_count": 48,
   "metadata": {},
   "outputs": [
    {
     "data": {
      "text/plain": [
       "0.5925058548009368"
      ]
     },
     "execution_count": 48,
     "metadata": {},
     "output_type": "execute_result"
    }
   ],
   "source": [
    "predicted_upsampled_test = best_ohe_forest_model.predict(ohe_features_test)\n",
    "f1_score(ohe_target_test, predicted_upsampled_test)"
   ]
  },
  {
   "cell_type": "markdown",
   "metadata": {},
   "source": [
    "Метрика f1 на тестовом наборе данных доведена до требуемого порога. Метод upsampling помог.  "
   ]
  },
  {
   "cell_type": "markdown",
   "metadata": {},
   "source": [
    "Мы получили модель, которая демонстрирует хорошие результаты на тестовом наборе данных. Посмотрим, как выглядит кривая ROC:"
   ]
  },
  {
   "cell_type": "code",
   "execution_count": 49,
   "metadata": {},
   "outputs": [
    {
     "data": {
      "image/png": "[encoded data removed]",
      "text/plain": [
       "<Figure size 432x288 with 1 Axes>"
      ]
     },
     "metadata": {
      "needs_background": "light"
     },
     "output_type": "display_data"
    }
   ],
   "source": [
    "probabilities_test = best_ohe_forest_model.predict_proba(ohe_features_test)\n",
    "probabilities_one_test = probabilities_test[:, 1]\n",
    "\n",
    "fpr, tpr, thresholds = roc_curve(ohe_target_test, probabilities_one_test)\n",
    "\n",
    "plt.figure()\n",
    "plt.plot(fpr, tpr)\n",
    "plt.plot([0, 1], [0, 1], linestyle='--')\n",
    "plt.xlim([0.0, 1.0])\n",
    "plt.ylim([0.0, 1.0])\n",
    "plt.xlabel('False Positive Rate')\n",
    "plt.ylabel('True Positive Rate')\n",
    "plt.title('ROC-кривая')\n",
    "plt.show()"
   ]
  },
  {
   "cell_type": "code",
   "execution_count": 50,
   "metadata": {},
   "outputs": [
    {
     "data": {
      "text/plain": [
       "0.8390701950023984"
      ]
     },
     "execution_count": 50,
     "metadata": {},
     "output_type": "execute_result"
    }
   ],
   "source": [
    "roc_auc_score(ohe_target_test, probabilities_one_test)"
   ]
  },
  {
   "cell_type": "markdown",
   "metadata": {},
   "source": [
    "Показатель roc_auc высок."
   ]
  },
  {
   "cell_type": "markdown",
   "metadata": {},
   "source": [
    "# Вывод"
   ]
  },
  {
   "cell_type": "markdown",
   "metadata": {},
   "source": [
    "Качество модели удалось повысить благодаря борьбе с дисбалансом классов целевого признака.\n",
    "\n",
    "Эффективным способом борьбы с дисбалансом оказалось увеличение выборки за счет дублирования объектов с положительным значением целевого признака.\n",
    "\n",
    "В финальной модели показатель f1 на тестовом наборе данных превысил значение 0.59, а показатель roc-auc - 0.839.  "
   ]
  }
 ],
 "metadata": {
  "kernelspec": {
   "display_name": "Python 3",
   "language": "python",
   "name": "python3"
  },
  "language_info": {
   "codemirror_mode": {
    "name": "ipython",
    "version": 3
   },
   "file_extension": ".py",
   "mimetype": "text/x-python",
   "name": "python",
   "nbconvert_exporter": "python",
   "pygments_lexer": "ipython3",
   "version": "3.7.6"
  }
 },
 "nbformat": 4,
 "nbformat_minor": 2
}
