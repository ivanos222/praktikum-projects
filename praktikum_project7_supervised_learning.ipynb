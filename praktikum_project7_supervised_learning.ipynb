{
 "cells": [
  {
   "cell_type": "markdown",
   "metadata": {},
   "source": [
    "# Комментарий от ревьюера\n",
    "\n",
    "Здравствуй, Иван! Меня зовут Влада, я посмотрела твой проект — работа превосходная, очень интересно и увлекательно было следить за ходом твоего решения :) Ниже в файле ты найдешь мои комментарии: <font color='green'>зеленый цвет — «все отлично»; </font> <font color='blue'>синий — «хорошо, но можно лучше»; </font> <font color='red'>красный — «нужно исправить».</font> Комментарии в самом коде я отделяю знаками «###»."
   ]
  },
  {
   "cell_type": "markdown",
   "metadata": {},
   "source": [
    "# Отток клиентов"
   ]
  },
  {
   "cell_type": "markdown",
   "metadata": {},
   "source": [
    "Из «Бета-Банка» стали уходить клиенты. Каждый месяц. Немного, но заметно. Банковские маркетологи посчитали: сохранять текущих клиентов дешевле, чем привлекать новых.\n",
    "\n",
    "Нужно спрогнозировать, уйдёт клиент из банка в ближайшее время или нет. Вам предоставлены исторические данные о поведении клиентов и расторжении договоров с банком. \n",
    "\n",
    "Постройте модель с предельно большим значением *F1*-меры. Чтобы сдать проект успешно, нужно довести метрику до 0.59. Проверьте *F1*-меру на тестовой выборке самостоятельно.\n",
    "\n",
    "Дополнительно измеряйте *AUC-ROC*, сравнивайте её значение с *F1*-мерой.\n",
    "\n",
    "Источник данных: [https://www.kaggle.com/barelydedicated/bank-customer-churn-modeling](https://www.kaggle.com/barelydedicated/bank-customer-churn-modeling)"
   ]
  },
  {
   "cell_type": "markdown",
   "metadata": {},
   "source": [
    "# 1. Подготовка данных"
   ]
  },
  {
   "cell_type": "markdown",
   "metadata": {},
   "source": [
    "### Предварительное исследование данных"
   ]
  },
  {
   "cell_type": "markdown",
   "metadata": {},
   "source": [
    "Загрузим библиотеки и методы, которые могут нам понадобиться. Согласно условию, модель должна определять, уйдет ли или не уйдет клиент, соответственно целевой признак - категориальный. Поэтому загрузим классификаторы."
   ]
  },
  {
   "cell_type": "code",
   "execution_count": 1,
   "metadata": {},
   "outputs": [],
   "source": [
    "import sklearn\n",
    "import joblib\n",
    "import pandas as pd\n",
    "from sklearn.tree import DecisionTreeClassifier\n",
    "from sklearn.ensemble import RandomForestClassifier\n",
    "from sklearn.linear_model import LogisticRegression\n",
    "from sklearn.model_selection import train_test_split\n",
    "from sklearn.model_selection import GridSearchCV\n",
    "from sklearn.metrics import mean_squared_error\n",
    "from sklearn.metrics import mean_absolute_error\n",
    "from sklearn.metrics import confusion_matrix\n",
    "from sklearn.metrics import recall_score\n",
    "from sklearn.metrics import precision_score\n",
    "from sklearn.metrics import roc_auc_score\n",
    "from sklearn.metrics import roc_curve\n",
    "from sklearn.metrics import f1_score\n",
    "from sklearn.metrics import accuracy_score\n",
    "from sklearn.preprocessing import OrdinalEncoder\n",
    "from sklearn.preprocessing import StandardScaler\n",
    "from sklearn.utils import shuffle\n",
    "import numpy as np\n",
    "from scipy import stats as st\n",
    "import matplotlib.pyplot as plt\n",
    "import seaborn as sns\n",
    "\n",
    "import math"
   ]
  },
  {
   "cell_type": "markdown",
   "metadata": {},
   "source": [
    "Назначим число зерном генератора псевдослучайных чисел, чтобы было легче ссылаться на него во всех моделях."
   ]
  },
  {
   "cell_type": "code",
   "execution_count": 2,
   "metadata": {},
   "outputs": [],
   "source": [
    "random = 12345"
   ]
  },
  {
   "cell_type": "markdown",
   "metadata": {},
   "source": [
    "Загрузим файл и рассмотрим его."
   ]
  },
  {
   "cell_type": "code",
   "execution_count": 3,
   "metadata": {},
   "outputs": [
    {
     "data": {
      "text/html": [
       "<div>\n",
       "<style scoped>\n",
       "    .dataframe tbody tr th:only-of-type {\n",
       "        vertical-align: middle;\n",
       "    }\n",
       "\n",
       "    .dataframe tbody tr th {\n",
       "        vertical-align: top;\n",
       "    }\n",
       "\n",
       "    .dataframe thead th {\n",
       "        text-align: right;\n",
       "    }\n",
       "</style>\n",
       "<table border=\"1\" class=\"dataframe\">\n",
       "  <thead>\n",
       "    <tr style=\"text-align: right;\">\n",
       "      <th></th>\n",
       "      <th>RowNumber</th>\n",
       "      <th>CustomerId</th>\n",
       "      <th>Surname</th>\n",
       "      <th>CreditScore</th>\n",
       "      <th>Geography</th>\n",
       "      <th>Gender</th>\n",
       "      <th>Age</th>\n",
       "      <th>Tenure</th>\n",
       "      <th>Balance</th>\n",
       "      <th>NumOfProducts</th>\n",
       "      <th>HasCrCard</th>\n",
       "      <th>IsActiveMember</th>\n",
       "      <th>EstimatedSalary</th>\n",
       "      <th>Exited</th>\n",
       "    </tr>\n",
       "  </thead>\n",
       "  <tbody>\n",
       "    <tr>\n",
       "      <td>0</td>\n",
       "      <td>1</td>\n",
       "      <td>15634602</td>\n",
       "      <td>Hargrave</td>\n",
       "      <td>619</td>\n",
       "      <td>France</td>\n",
       "      <td>Female</td>\n",
       "      <td>42</td>\n",
       "      <td>2.0</td>\n",
       "      <td>0.00</td>\n",
       "      <td>1</td>\n",
       "      <td>1</td>\n",
       "      <td>1</td>\n",
       "      <td>101348.88</td>\n",
       "      <td>1</td>\n",
       "    </tr>\n",
       "    <tr>\n",
       "      <td>1</td>\n",
       "      <td>2</td>\n",
       "      <td>15647311</td>\n",
       "      <td>Hill</td>\n",
       "      <td>608</td>\n",
       "      <td>Spain</td>\n",
       "      <td>Female</td>\n",
       "      <td>41</td>\n",
       "      <td>1.0</td>\n",
       "      <td>83807.86</td>\n",
       "      <td>1</td>\n",
       "      <td>0</td>\n",
       "      <td>1</td>\n",
       "      <td>112542.58</td>\n",
       "      <td>0</td>\n",
       "    </tr>\n",
       "    <tr>\n",
       "      <td>2</td>\n",
       "      <td>3</td>\n",
       "      <td>15619304</td>\n",
       "      <td>Onio</td>\n",
       "      <td>502</td>\n",
       "      <td>France</td>\n",
       "      <td>Female</td>\n",
       "      <td>42</td>\n",
       "      <td>8.0</td>\n",
       "      <td>159660.80</td>\n",
       "      <td>3</td>\n",
       "      <td>1</td>\n",
       "      <td>0</td>\n",
       "      <td>113931.57</td>\n",
       "      <td>1</td>\n",
       "    </tr>\n",
       "    <tr>\n",
       "      <td>3</td>\n",
       "      <td>4</td>\n",
       "      <td>15701354</td>\n",
       "      <td>Boni</td>\n",
       "      <td>699</td>\n",
       "      <td>France</td>\n",
       "      <td>Female</td>\n",
       "      <td>39</td>\n",
       "      <td>1.0</td>\n",
       "      <td>0.00</td>\n",
       "      <td>2</td>\n",
       "      <td>0</td>\n",
       "      <td>0</td>\n",
       "      <td>93826.63</td>\n",
       "      <td>0</td>\n",
       "    </tr>\n",
       "    <tr>\n",
       "      <td>4</td>\n",
       "      <td>5</td>\n",
       "      <td>15737888</td>\n",
       "      <td>Mitchell</td>\n",
       "      <td>850</td>\n",
       "      <td>Spain</td>\n",
       "      <td>Female</td>\n",
       "      <td>43</td>\n",
       "      <td>2.0</td>\n",
       "      <td>125510.82</td>\n",
       "      <td>1</td>\n",
       "      <td>1</td>\n",
       "      <td>1</td>\n",
       "      <td>79084.10</td>\n",
       "      <td>0</td>\n",
       "    </tr>\n",
       "    <tr>\n",
       "      <td>5</td>\n",
       "      <td>6</td>\n",
       "      <td>15574012</td>\n",
       "      <td>Chu</td>\n",
       "      <td>645</td>\n",
       "      <td>Spain</td>\n",
       "      <td>Male</td>\n",
       "      <td>44</td>\n",
       "      <td>8.0</td>\n",
       "      <td>113755.78</td>\n",
       "      <td>2</td>\n",
       "      <td>1</td>\n",
       "      <td>0</td>\n",
       "      <td>149756.71</td>\n",
       "      <td>1</td>\n",
       "    </tr>\n",
       "    <tr>\n",
       "      <td>6</td>\n",
       "      <td>7</td>\n",
       "      <td>15592531</td>\n",
       "      <td>Bartlett</td>\n",
       "      <td>822</td>\n",
       "      <td>France</td>\n",
       "      <td>Male</td>\n",
       "      <td>50</td>\n",
       "      <td>7.0</td>\n",
       "      <td>0.00</td>\n",
       "      <td>2</td>\n",
       "      <td>1</td>\n",
       "      <td>1</td>\n",
       "      <td>10062.80</td>\n",
       "      <td>0</td>\n",
       "    </tr>\n",
       "    <tr>\n",
       "      <td>7</td>\n",
       "      <td>8</td>\n",
       "      <td>15656148</td>\n",
       "      <td>Obinna</td>\n",
       "      <td>376</td>\n",
       "      <td>Germany</td>\n",
       "      <td>Female</td>\n",
       "      <td>29</td>\n",
       "      <td>4.0</td>\n",
       "      <td>115046.74</td>\n",
       "      <td>4</td>\n",
       "      <td>1</td>\n",
       "      <td>0</td>\n",
       "      <td>119346.88</td>\n",
       "      <td>1</td>\n",
       "    </tr>\n",
       "    <tr>\n",
       "      <td>8</td>\n",
       "      <td>9</td>\n",
       "      <td>15792365</td>\n",
       "      <td>He</td>\n",
       "      <td>501</td>\n",
       "      <td>France</td>\n",
       "      <td>Male</td>\n",
       "      <td>44</td>\n",
       "      <td>4.0</td>\n",
       "      <td>142051.07</td>\n",
       "      <td>2</td>\n",
       "      <td>0</td>\n",
       "      <td>1</td>\n",
       "      <td>74940.50</td>\n",
       "      <td>0</td>\n",
       "    </tr>\n",
       "    <tr>\n",
       "      <td>9</td>\n",
       "      <td>10</td>\n",
       "      <td>15592389</td>\n",
       "      <td>H?</td>\n",
       "      <td>684</td>\n",
       "      <td>France</td>\n",
       "      <td>Male</td>\n",
       "      <td>27</td>\n",
       "      <td>2.0</td>\n",
       "      <td>134603.88</td>\n",
       "      <td>1</td>\n",
       "      <td>1</td>\n",
       "      <td>1</td>\n",
       "      <td>71725.73</td>\n",
       "      <td>0</td>\n",
       "    </tr>\n",
       "  </tbody>\n",
       "</table>\n",
       "</div>"
      ],
      "text/plain": [
       "   RowNumber  CustomerId   Surname  CreditScore Geography  Gender  Age  \\\n",
       "0          1    15634602  Hargrave          619    France  Female   42   \n",
       "1          2    15647311      Hill          608     Spain  Female   41   \n",
       "2          3    15619304      Onio          502    France  Female   42   \n",
       "3          4    15701354      Boni          699    France  Female   39   \n",
       "4          5    15737888  Mitchell          850     Spain  Female   43   \n",
       "5          6    15574012       Chu          645     Spain    Male   44   \n",
       "6          7    15592531  Bartlett          822    France    Male   50   \n",
       "7          8    15656148    Obinna          376   Germany  Female   29   \n",
       "8          9    15792365        He          501    France    Male   44   \n",
       "9         10    15592389        H?          684    France    Male   27   \n",
       "\n",
       "   Tenure    Balance  NumOfProducts  HasCrCard  IsActiveMember  \\\n",
       "0     2.0       0.00              1          1               1   \n",
       "1     1.0   83807.86              1          0               1   \n",
       "2     8.0  159660.80              3          1               0   \n",
       "3     1.0       0.00              2          0               0   \n",
       "4     2.0  125510.82              1          1               1   \n",
       "5     8.0  113755.78              2          1               0   \n",
       "6     7.0       0.00              2          1               1   \n",
       "7     4.0  115046.74              4          1               0   \n",
       "8     4.0  142051.07              2          0               1   \n",
       "9     2.0  134603.88              1          1               1   \n",
       "\n",
       "   EstimatedSalary  Exited  \n",
       "0        101348.88       1  \n",
       "1        112542.58       0  \n",
       "2        113931.57       1  \n",
       "3         93826.63       0  \n",
       "4         79084.10       0  \n",
       "5        149756.71       1  \n",
       "6         10062.80       0  \n",
       "7        119346.88       1  \n",
       "8         74940.50       0  \n",
       "9         71725.73       0  "
      ]
     },
     "execution_count": 3,
     "metadata": {},
     "output_type": "execute_result"
    }
   ],
   "source": [
    "df_raw = pd.read_csv('/datasets/Churn.csv')\n",
    "df_raw.head(10)"
   ]
  },
  {
   "cell_type": "code",
   "execution_count": 4,
   "metadata": {},
   "outputs": [
    {
     "name": "stdout",
     "output_type": "stream",
     "text": [
      "<class 'pandas.core.frame.DataFrame'>\n",
      "RangeIndex: 10000 entries, 0 to 9999\n",
      "Data columns (total 14 columns):\n",
      "RowNumber          10000 non-null int64\n",
      "CustomerId         10000 non-null int64\n",
      "Surname            10000 non-null object\n",
      "CreditScore        10000 non-null int64\n",
      "Geography          10000 non-null object\n",
      "Gender             10000 non-null object\n",
      "Age                10000 non-null int64\n",
      "Tenure             9091 non-null float64\n",
      "Balance            10000 non-null float64\n",
      "NumOfProducts      10000 non-null int64\n",
      "HasCrCard          10000 non-null int64\n",
      "IsActiveMember     10000 non-null int64\n",
      "EstimatedSalary    10000 non-null float64\n",
      "Exited             10000 non-null int64\n",
      "dtypes: float64(3), int64(8), object(3)\n",
      "memory usage: 1.1+ MB\n"
     ]
    }
   ],
   "source": [
    "df_raw.info()"
   ]
  },
  {
   "cell_type": "markdown",
   "metadata": {},
   "source": [
    "В данных присутствуют отсутствующие значения признака Tenure, в остальных признаках значения отсутствуют.  \n",
    "Типы данных в целом подходят для работы, однако в том же признаке Tenure стоит заменить тип данных на целочисленный, а в HasCrCard, IsActiveMember и Exited - на булев.  \n",
    "Также для удобства можно заменить регистр в наименованиях столбцов, чтобы в последствии было легче обращаться к признакам.  \n",
    "В первых 10 строках оказалось значение Surname H?. Несмотря на отсутствие пропусков в этом столбце, подобные значения в иных задачах пришлось бы обрабатывать каким-то образом. Однако в данном случае первые три столбца, выполняющие функции, по большому счету, идентификаторов строк и объектов, не будут участвовать в обучении модели и решении задачи, поэтому обрабатывать их смысла нет. "
   ]
  },
  {
   "cell_type": "markdown",
   "metadata": {},
   "source": [
    "Surname в набор обучающих данных не попадет, из категориальных мультиклассовых признаков будут Geography и Gender. Оценим количество классов в этих признаках."
   ]
  },
  {
   "cell_type": "code",
   "execution_count": 5,
   "metadata": {},
   "outputs": [
    {
     "data": {
      "text/plain": [
       "array(['France', 'Spain', 'Germany'], dtype=object)"
      ]
     },
     "execution_count": 5,
     "metadata": {},
     "output_type": "execute_result"
    }
   ],
   "source": [
    "df_raw['Geography'].unique()"
   ]
  },
  {
   "cell_type": "code",
   "execution_count": 6,
   "metadata": {},
   "outputs": [
    {
     "data": {
      "text/plain": [
       "array(['Female', 'Male'], dtype=object)"
      ]
     },
     "execution_count": 6,
     "metadata": {},
     "output_type": "execute_result"
    }
   ],
   "source": [
    "df_raw['Gender'].unique()"
   ]
  },
  {
   "cell_type": "markdown",
   "metadata": {},
   "source": [
    "Всего 3 класса признака Geography и 2 класса признака Gender. Это значит, что при применении метода ohe у нас не будет катастрофического прироста признаков."
   ]
  },
  {
   "cell_type": "markdown",
   "metadata": {},
   "source": [
    "### Наименования столбцов"
   ]
  },
  {
   "cell_type": "markdown",
   "metadata": {},
   "source": [
    "Поменяем регистр, чтобы впредь было легче обращаться к названиям признаков."
   ]
  },
  {
   "cell_type": "code",
   "execution_count": 7,
   "metadata": {},
   "outputs": [
    {
     "data": {
      "text/html": [
       "<div>\n",
       "<style scoped>\n",
       "    .dataframe tbody tr th:only-of-type {\n",
       "        vertical-align: middle;\n",
       "    }\n",
       "\n",
       "    .dataframe tbody tr th {\n",
       "        vertical-align: top;\n",
       "    }\n",
       "\n",
       "    .dataframe thead th {\n",
       "        text-align: right;\n",
       "    }\n",
       "</style>\n",
       "<table border=\"1\" class=\"dataframe\">\n",
       "  <thead>\n",
       "    <tr style=\"text-align: right;\">\n",
       "      <th></th>\n",
       "      <th>rownumber</th>\n",
       "      <th>customerid</th>\n",
       "      <th>surname</th>\n",
       "      <th>creditscore</th>\n",
       "      <th>geography</th>\n",
       "      <th>gender</th>\n",
       "      <th>age</th>\n",
       "      <th>tenure</th>\n",
       "      <th>balance</th>\n",
       "      <th>numofproducts</th>\n",
       "      <th>hascrcard</th>\n",
       "      <th>isactivemember</th>\n",
       "      <th>estimatedsalary</th>\n",
       "      <th>exited</th>\n",
       "    </tr>\n",
       "  </thead>\n",
       "  <tbody>\n",
       "    <tr>\n",
       "      <td>0</td>\n",
       "      <td>1</td>\n",
       "      <td>15634602</td>\n",
       "      <td>Hargrave</td>\n",
       "      <td>619</td>\n",
       "      <td>France</td>\n",
       "      <td>Female</td>\n",
       "      <td>42</td>\n",
       "      <td>2.0</td>\n",
       "      <td>0.00</td>\n",
       "      <td>1</td>\n",
       "      <td>1</td>\n",
       "      <td>1</td>\n",
       "      <td>101348.88</td>\n",
       "      <td>1</td>\n",
       "    </tr>\n",
       "    <tr>\n",
       "      <td>1</td>\n",
       "      <td>2</td>\n",
       "      <td>15647311</td>\n",
       "      <td>Hill</td>\n",
       "      <td>608</td>\n",
       "      <td>Spain</td>\n",
       "      <td>Female</td>\n",
       "      <td>41</td>\n",
       "      <td>1.0</td>\n",
       "      <td>83807.86</td>\n",
       "      <td>1</td>\n",
       "      <td>0</td>\n",
       "      <td>1</td>\n",
       "      <td>112542.58</td>\n",
       "      <td>0</td>\n",
       "    </tr>\n",
       "    <tr>\n",
       "      <td>2</td>\n",
       "      <td>3</td>\n",
       "      <td>15619304</td>\n",
       "      <td>Onio</td>\n",
       "      <td>502</td>\n",
       "      <td>France</td>\n",
       "      <td>Female</td>\n",
       "      <td>42</td>\n",
       "      <td>8.0</td>\n",
       "      <td>159660.80</td>\n",
       "      <td>3</td>\n",
       "      <td>1</td>\n",
       "      <td>0</td>\n",
       "      <td>113931.57</td>\n",
       "      <td>1</td>\n",
       "    </tr>\n",
       "    <tr>\n",
       "      <td>3</td>\n",
       "      <td>4</td>\n",
       "      <td>15701354</td>\n",
       "      <td>Boni</td>\n",
       "      <td>699</td>\n",
       "      <td>France</td>\n",
       "      <td>Female</td>\n",
       "      <td>39</td>\n",
       "      <td>1.0</td>\n",
       "      <td>0.00</td>\n",
       "      <td>2</td>\n",
       "      <td>0</td>\n",
       "      <td>0</td>\n",
       "      <td>93826.63</td>\n",
       "      <td>0</td>\n",
       "    </tr>\n",
       "    <tr>\n",
       "      <td>4</td>\n",
       "      <td>5</td>\n",
       "      <td>15737888</td>\n",
       "      <td>Mitchell</td>\n",
       "      <td>850</td>\n",
       "      <td>Spain</td>\n",
       "      <td>Female</td>\n",
       "      <td>43</td>\n",
       "      <td>2.0</td>\n",
       "      <td>125510.82</td>\n",
       "      <td>1</td>\n",
       "      <td>1</td>\n",
       "      <td>1</td>\n",
       "      <td>79084.10</td>\n",
       "      <td>0</td>\n",
       "    </tr>\n",
       "  </tbody>\n",
       "</table>\n",
       "</div>"
      ],
      "text/plain": [
       "   rownumber  customerid   surname  creditscore geography  gender  age  \\\n",
       "0          1    15634602  Hargrave          619    France  Female   42   \n",
       "1          2    15647311      Hill          608     Spain  Female   41   \n",
       "2          3    15619304      Onio          502    France  Female   42   \n",
       "3          4    15701354      Boni          699    France  Female   39   \n",
       "4          5    15737888  Mitchell          850     Spain  Female   43   \n",
       "\n",
       "   tenure    balance  numofproducts  hascrcard  isactivemember  \\\n",
       "0     2.0       0.00              1          1               1   \n",
       "1     1.0   83807.86              1          0               1   \n",
       "2     8.0  159660.80              3          1               0   \n",
       "3     1.0       0.00              2          0               0   \n",
       "4     2.0  125510.82              1          1               1   \n",
       "\n",
       "   estimatedsalary  exited  \n",
       "0        101348.88       1  \n",
       "1        112542.58       0  \n",
       "2        113931.57       1  \n",
       "3         93826.63       0  \n",
       "4         79084.10       0  "
      ]
     },
     "execution_count": 7,
     "metadata": {},
     "output_type": "execute_result"
    }
   ],
   "source": [
    "df_raw.columns = df_raw.columns.str.lower()\n",
    "df_raw.head()"
   ]
  },
  {
   "cell_type": "markdown",
   "metadata": {},
   "source": [
    "### Обработка пропусков"
   ]
  },
  {
   "cell_type": "markdown",
   "metadata": {},
   "source": [
    "Проверим, сколько пропусков в столбце Tenure."
   ]
  },
  {
   "cell_type": "code",
   "execution_count": 8,
   "metadata": {},
   "outputs": [
    {
     "data": {
      "text/html": [
       "<div>\n",
       "<style scoped>\n",
       "    .dataframe tbody tr th:only-of-type {\n",
       "        vertical-align: middle;\n",
       "    }\n",
       "\n",
       "    .dataframe tbody tr th {\n",
       "        vertical-align: top;\n",
       "    }\n",
       "\n",
       "    .dataframe thead th {\n",
       "        text-align: right;\n",
       "    }\n",
       "</style>\n",
       "<table border=\"1\" class=\"dataframe\">\n",
       "  <thead>\n",
       "    <tr style=\"text-align: right;\">\n",
       "      <th></th>\n",
       "      <th>rownumber</th>\n",
       "      <th>customerid</th>\n",
       "      <th>surname</th>\n",
       "      <th>creditscore</th>\n",
       "      <th>geography</th>\n",
       "      <th>gender</th>\n",
       "      <th>age</th>\n",
       "      <th>tenure</th>\n",
       "      <th>balance</th>\n",
       "      <th>numofproducts</th>\n",
       "      <th>hascrcard</th>\n",
       "      <th>isactivemember</th>\n",
       "      <th>estimatedsalary</th>\n",
       "      <th>exited</th>\n",
       "    </tr>\n",
       "  </thead>\n",
       "  <tbody>\n",
       "    <tr>\n",
       "      <td>30</td>\n",
       "      <td>31</td>\n",
       "      <td>15589475</td>\n",
       "      <td>Azikiwe</td>\n",
       "      <td>591</td>\n",
       "      <td>Spain</td>\n",
       "      <td>Female</td>\n",
       "      <td>39</td>\n",
       "      <td>NaN</td>\n",
       "      <td>0.00</td>\n",
       "      <td>3</td>\n",
       "      <td>1</td>\n",
       "      <td>0</td>\n",
       "      <td>140469.38</td>\n",
       "      <td>1</td>\n",
       "    </tr>\n",
       "    <tr>\n",
       "      <td>48</td>\n",
       "      <td>49</td>\n",
       "      <td>15766205</td>\n",
       "      <td>Yin</td>\n",
       "      <td>550</td>\n",
       "      <td>Germany</td>\n",
       "      <td>Male</td>\n",
       "      <td>38</td>\n",
       "      <td>NaN</td>\n",
       "      <td>103391.38</td>\n",
       "      <td>1</td>\n",
       "      <td>0</td>\n",
       "      <td>1</td>\n",
       "      <td>90878.13</td>\n",
       "      <td>0</td>\n",
       "    </tr>\n",
       "    <tr>\n",
       "      <td>51</td>\n",
       "      <td>52</td>\n",
       "      <td>15768193</td>\n",
       "      <td>Trevisani</td>\n",
       "      <td>585</td>\n",
       "      <td>Germany</td>\n",
       "      <td>Male</td>\n",
       "      <td>36</td>\n",
       "      <td>NaN</td>\n",
       "      <td>146050.97</td>\n",
       "      <td>2</td>\n",
       "      <td>0</td>\n",
       "      <td>0</td>\n",
       "      <td>86424.57</td>\n",
       "      <td>0</td>\n",
       "    </tr>\n",
       "    <tr>\n",
       "      <td>53</td>\n",
       "      <td>54</td>\n",
       "      <td>15702298</td>\n",
       "      <td>Parkhill</td>\n",
       "      <td>655</td>\n",
       "      <td>Germany</td>\n",
       "      <td>Male</td>\n",
       "      <td>41</td>\n",
       "      <td>NaN</td>\n",
       "      <td>125561.97</td>\n",
       "      <td>1</td>\n",
       "      <td>0</td>\n",
       "      <td>0</td>\n",
       "      <td>164040.94</td>\n",
       "      <td>1</td>\n",
       "    </tr>\n",
       "    <tr>\n",
       "      <td>60</td>\n",
       "      <td>61</td>\n",
       "      <td>15651280</td>\n",
       "      <td>Hunter</td>\n",
       "      <td>742</td>\n",
       "      <td>Germany</td>\n",
       "      <td>Male</td>\n",
       "      <td>35</td>\n",
       "      <td>NaN</td>\n",
       "      <td>136857.00</td>\n",
       "      <td>1</td>\n",
       "      <td>0</td>\n",
       "      <td>0</td>\n",
       "      <td>84509.57</td>\n",
       "      <td>0</td>\n",
       "    </tr>\n",
       "    <tr>\n",
       "      <td>...</td>\n",
       "      <td>...</td>\n",
       "      <td>...</td>\n",
       "      <td>...</td>\n",
       "      <td>...</td>\n",
       "      <td>...</td>\n",
       "      <td>...</td>\n",
       "      <td>...</td>\n",
       "      <td>...</td>\n",
       "      <td>...</td>\n",
       "      <td>...</td>\n",
       "      <td>...</td>\n",
       "      <td>...</td>\n",
       "      <td>...</td>\n",
       "      <td>...</td>\n",
       "    </tr>\n",
       "    <tr>\n",
       "      <td>9944</td>\n",
       "      <td>9945</td>\n",
       "      <td>15703923</td>\n",
       "      <td>Cameron</td>\n",
       "      <td>744</td>\n",
       "      <td>Germany</td>\n",
       "      <td>Male</td>\n",
       "      <td>41</td>\n",
       "      <td>NaN</td>\n",
       "      <td>190409.34</td>\n",
       "      <td>2</td>\n",
       "      <td>1</td>\n",
       "      <td>1</td>\n",
       "      <td>138361.48</td>\n",
       "      <td>0</td>\n",
       "    </tr>\n",
       "    <tr>\n",
       "      <td>9956</td>\n",
       "      <td>9957</td>\n",
       "      <td>15707861</td>\n",
       "      <td>Nucci</td>\n",
       "      <td>520</td>\n",
       "      <td>France</td>\n",
       "      <td>Female</td>\n",
       "      <td>46</td>\n",
       "      <td>NaN</td>\n",
       "      <td>85216.61</td>\n",
       "      <td>1</td>\n",
       "      <td>1</td>\n",
       "      <td>0</td>\n",
       "      <td>117369.52</td>\n",
       "      <td>1</td>\n",
       "    </tr>\n",
       "    <tr>\n",
       "      <td>9964</td>\n",
       "      <td>9965</td>\n",
       "      <td>15642785</td>\n",
       "      <td>Douglas</td>\n",
       "      <td>479</td>\n",
       "      <td>France</td>\n",
       "      <td>Male</td>\n",
       "      <td>34</td>\n",
       "      <td>NaN</td>\n",
       "      <td>117593.48</td>\n",
       "      <td>2</td>\n",
       "      <td>0</td>\n",
       "      <td>0</td>\n",
       "      <td>113308.29</td>\n",
       "      <td>0</td>\n",
       "    </tr>\n",
       "    <tr>\n",
       "      <td>9985</td>\n",
       "      <td>9986</td>\n",
       "      <td>15586914</td>\n",
       "      <td>Nepean</td>\n",
       "      <td>659</td>\n",
       "      <td>France</td>\n",
       "      <td>Male</td>\n",
       "      <td>36</td>\n",
       "      <td>NaN</td>\n",
       "      <td>123841.49</td>\n",
       "      <td>2</td>\n",
       "      <td>1</td>\n",
       "      <td>0</td>\n",
       "      <td>96833.00</td>\n",
       "      <td>0</td>\n",
       "    </tr>\n",
       "    <tr>\n",
       "      <td>9999</td>\n",
       "      <td>10000</td>\n",
       "      <td>15628319</td>\n",
       "      <td>Walker</td>\n",
       "      <td>792</td>\n",
       "      <td>France</td>\n",
       "      <td>Female</td>\n",
       "      <td>28</td>\n",
       "      <td>NaN</td>\n",
       "      <td>130142.79</td>\n",
       "      <td>1</td>\n",
       "      <td>1</td>\n",
       "      <td>0</td>\n",
       "      <td>38190.78</td>\n",
       "      <td>0</td>\n",
       "    </tr>\n",
       "  </tbody>\n",
       "</table>\n",
       "<p>909 rows × 14 columns</p>\n",
       "</div>"
      ],
      "text/plain": [
       "      rownumber  customerid    surname  creditscore geography  gender  age  \\\n",
       "30           31    15589475    Azikiwe          591     Spain  Female   39   \n",
       "48           49    15766205        Yin          550   Germany    Male   38   \n",
       "51           52    15768193  Trevisani          585   Germany    Male   36   \n",
       "53           54    15702298   Parkhill          655   Germany    Male   41   \n",
       "60           61    15651280     Hunter          742   Germany    Male   35   \n",
       "...         ...         ...        ...          ...       ...     ...  ...   \n",
       "9944       9945    15703923    Cameron          744   Germany    Male   41   \n",
       "9956       9957    15707861      Nucci          520    France  Female   46   \n",
       "9964       9965    15642785    Douglas          479    France    Male   34   \n",
       "9985       9986    15586914     Nepean          659    France    Male   36   \n",
       "9999      10000    15628319     Walker          792    France  Female   28   \n",
       "\n",
       "      tenure    balance  numofproducts  hascrcard  isactivemember  \\\n",
       "30       NaN       0.00              3          1               0   \n",
       "48       NaN  103391.38              1          0               1   \n",
       "51       NaN  146050.97              2          0               0   \n",
       "53       NaN  125561.97              1          0               0   \n",
       "60       NaN  136857.00              1          0               0   \n",
       "...      ...        ...            ...        ...             ...   \n",
       "9944     NaN  190409.34              2          1               1   \n",
       "9956     NaN   85216.61              1          1               0   \n",
       "9964     NaN  117593.48              2          0               0   \n",
       "9985     NaN  123841.49              2          1               0   \n",
       "9999     NaN  130142.79              1          1               0   \n",
       "\n",
       "      estimatedsalary  exited  \n",
       "30          140469.38       1  \n",
       "48           90878.13       0  \n",
       "51           86424.57       0  \n",
       "53          164040.94       1  \n",
       "60           84509.57       0  \n",
       "...               ...     ...  \n",
       "9944        138361.48       0  \n",
       "9956        117369.52       1  \n",
       "9964        113308.29       0  \n",
       "9985         96833.00       0  \n",
       "9999         38190.78       0  \n",
       "\n",
       "[909 rows x 14 columns]"
      ]
     },
     "execution_count": 8,
     "metadata": {},
     "output_type": "execute_result"
    }
   ],
   "source": [
    "df_raw[df_raw['tenure'].isna() == True]"
   ]
  },
  {
   "cell_type": "markdown",
   "metadata": {},
   "source": [
    "Девятсот пропусков - это довольно много, почти 10% от выборки. Мы не можем удалить такое количество объектов, поэтому посмотрим, есть ли корреляция Tenure с каким-либо еще признаком и попробуем заполнить пропуски с его помощью. "
   ]
  },
  {
   "cell_type": "code",
   "execution_count": 9,
   "metadata": {},
   "outputs": [
    {
     "data": {
      "text/html": [
       "<div>\n",
       "<style scoped>\n",
       "    .dataframe tbody tr th:only-of-type {\n",
       "        vertical-align: middle;\n",
       "    }\n",
       "\n",
       "    .dataframe tbody tr th {\n",
       "        vertical-align: top;\n",
       "    }\n",
       "\n",
       "    .dataframe thead th {\n",
       "        text-align: right;\n",
       "    }\n",
       "</style>\n",
       "<table border=\"1\" class=\"dataframe\">\n",
       "  <thead>\n",
       "    <tr style=\"text-align: right;\">\n",
       "      <th></th>\n",
       "      <th>rownumber</th>\n",
       "      <th>customerid</th>\n",
       "      <th>creditscore</th>\n",
       "      <th>age</th>\n",
       "      <th>tenure</th>\n",
       "      <th>balance</th>\n",
       "      <th>numofproducts</th>\n",
       "      <th>hascrcard</th>\n",
       "      <th>isactivemember</th>\n",
       "      <th>estimatedsalary</th>\n",
       "      <th>exited</th>\n",
       "    </tr>\n",
       "  </thead>\n",
       "  <tbody>\n",
       "    <tr>\n",
       "      <td>rownumber</td>\n",
       "      <td>1.000000</td>\n",
       "      <td>0.004202</td>\n",
       "      <td>0.005840</td>\n",
       "      <td>0.000783</td>\n",
       "      <td>-0.007322</td>\n",
       "      <td>-0.009067</td>\n",
       "      <td>0.007246</td>\n",
       "      <td>0.000599</td>\n",
       "      <td>0.012044</td>\n",
       "      <td>-0.005988</td>\n",
       "      <td>-0.016571</td>\n",
       "    </tr>\n",
       "    <tr>\n",
       "      <td>customerid</td>\n",
       "      <td>0.004202</td>\n",
       "      <td>1.000000</td>\n",
       "      <td>0.005308</td>\n",
       "      <td>0.009497</td>\n",
       "      <td>-0.021418</td>\n",
       "      <td>-0.012419</td>\n",
       "      <td>0.016972</td>\n",
       "      <td>-0.014025</td>\n",
       "      <td>0.001665</td>\n",
       "      <td>0.015271</td>\n",
       "      <td>-0.006248</td>\n",
       "    </tr>\n",
       "    <tr>\n",
       "      <td>creditscore</td>\n",
       "      <td>0.005840</td>\n",
       "      <td>0.005308</td>\n",
       "      <td>1.000000</td>\n",
       "      <td>-0.003965</td>\n",
       "      <td>-0.000062</td>\n",
       "      <td>0.006268</td>\n",
       "      <td>0.012238</td>\n",
       "      <td>-0.005458</td>\n",
       "      <td>0.025651</td>\n",
       "      <td>-0.001384</td>\n",
       "      <td>-0.027094</td>\n",
       "    </tr>\n",
       "    <tr>\n",
       "      <td>age</td>\n",
       "      <td>0.000783</td>\n",
       "      <td>0.009497</td>\n",
       "      <td>-0.003965</td>\n",
       "      <td>1.000000</td>\n",
       "      <td>-0.013134</td>\n",
       "      <td>0.028308</td>\n",
       "      <td>-0.030680</td>\n",
       "      <td>-0.011721</td>\n",
       "      <td>0.085472</td>\n",
       "      <td>-0.007201</td>\n",
       "      <td>0.285323</td>\n",
       "    </tr>\n",
       "    <tr>\n",
       "      <td>tenure</td>\n",
       "      <td>-0.007322</td>\n",
       "      <td>-0.021418</td>\n",
       "      <td>-0.000062</td>\n",
       "      <td>-0.013134</td>\n",
       "      <td>1.000000</td>\n",
       "      <td>-0.007911</td>\n",
       "      <td>0.011979</td>\n",
       "      <td>0.027232</td>\n",
       "      <td>-0.032178</td>\n",
       "      <td>0.010520</td>\n",
       "      <td>-0.016761</td>\n",
       "    </tr>\n",
       "    <tr>\n",
       "      <td>balance</td>\n",
       "      <td>-0.009067</td>\n",
       "      <td>-0.012419</td>\n",
       "      <td>0.006268</td>\n",
       "      <td>0.028308</td>\n",
       "      <td>-0.007911</td>\n",
       "      <td>1.000000</td>\n",
       "      <td>-0.304180</td>\n",
       "      <td>-0.014858</td>\n",
       "      <td>-0.010084</td>\n",
       "      <td>0.012797</td>\n",
       "      <td>0.118533</td>\n",
       "    </tr>\n",
       "    <tr>\n",
       "      <td>numofproducts</td>\n",
       "      <td>0.007246</td>\n",
       "      <td>0.016972</td>\n",
       "      <td>0.012238</td>\n",
       "      <td>-0.030680</td>\n",
       "      <td>0.011979</td>\n",
       "      <td>-0.304180</td>\n",
       "      <td>1.000000</td>\n",
       "      <td>0.003183</td>\n",
       "      <td>0.009612</td>\n",
       "      <td>0.014204</td>\n",
       "      <td>-0.047820</td>\n",
       "    </tr>\n",
       "    <tr>\n",
       "      <td>hascrcard</td>\n",
       "      <td>0.000599</td>\n",
       "      <td>-0.014025</td>\n",
       "      <td>-0.005458</td>\n",
       "      <td>-0.011721</td>\n",
       "      <td>0.027232</td>\n",
       "      <td>-0.014858</td>\n",
       "      <td>0.003183</td>\n",
       "      <td>1.000000</td>\n",
       "      <td>-0.011866</td>\n",
       "      <td>-0.009933</td>\n",
       "      <td>-0.007138</td>\n",
       "    </tr>\n",
       "    <tr>\n",
       "      <td>isactivemember</td>\n",
       "      <td>0.012044</td>\n",
       "      <td>0.001665</td>\n",
       "      <td>0.025651</td>\n",
       "      <td>0.085472</td>\n",
       "      <td>-0.032178</td>\n",
       "      <td>-0.010084</td>\n",
       "      <td>0.009612</td>\n",
       "      <td>-0.011866</td>\n",
       "      <td>1.000000</td>\n",
       "      <td>-0.011421</td>\n",
       "      <td>-0.156128</td>\n",
       "    </tr>\n",
       "    <tr>\n",
       "      <td>estimatedsalary</td>\n",
       "      <td>-0.005988</td>\n",
       "      <td>0.015271</td>\n",
       "      <td>-0.001384</td>\n",
       "      <td>-0.007201</td>\n",
       "      <td>0.010520</td>\n",
       "      <td>0.012797</td>\n",
       "      <td>0.014204</td>\n",
       "      <td>-0.009933</td>\n",
       "      <td>-0.011421</td>\n",
       "      <td>1.000000</td>\n",
       "      <td>0.012097</td>\n",
       "    </tr>\n",
       "    <tr>\n",
       "      <td>exited</td>\n",
       "      <td>-0.016571</td>\n",
       "      <td>-0.006248</td>\n",
       "      <td>-0.027094</td>\n",
       "      <td>0.285323</td>\n",
       "      <td>-0.016761</td>\n",
       "      <td>0.118533</td>\n",
       "      <td>-0.047820</td>\n",
       "      <td>-0.007138</td>\n",
       "      <td>-0.156128</td>\n",
       "      <td>0.012097</td>\n",
       "      <td>1.000000</td>\n",
       "    </tr>\n",
       "  </tbody>\n",
       "</table>\n",
       "</div>"
      ],
      "text/plain": [
       "                 rownumber  customerid  creditscore       age    tenure  \\\n",
       "rownumber         1.000000    0.004202     0.005840  0.000783 -0.007322   \n",
       "customerid        0.004202    1.000000     0.005308  0.009497 -0.021418   \n",
       "creditscore       0.005840    0.005308     1.000000 -0.003965 -0.000062   \n",
       "age               0.000783    0.009497    -0.003965  1.000000 -0.013134   \n",
       "tenure           -0.007322   -0.021418    -0.000062 -0.013134  1.000000   \n",
       "balance          -0.009067   -0.012419     0.006268  0.028308 -0.007911   \n",
       "numofproducts     0.007246    0.016972     0.012238 -0.030680  0.011979   \n",
       "hascrcard         0.000599   -0.014025    -0.005458 -0.011721  0.027232   \n",
       "isactivemember    0.012044    0.001665     0.025651  0.085472 -0.032178   \n",
       "estimatedsalary  -0.005988    0.015271    -0.001384 -0.007201  0.010520   \n",
       "exited           -0.016571   -0.006248    -0.027094  0.285323 -0.016761   \n",
       "\n",
       "                  balance  numofproducts  hascrcard  isactivemember  \\\n",
       "rownumber       -0.009067       0.007246   0.000599        0.012044   \n",
       "customerid      -0.012419       0.016972  -0.014025        0.001665   \n",
       "creditscore      0.006268       0.012238  -0.005458        0.025651   \n",
       "age              0.028308      -0.030680  -0.011721        0.085472   \n",
       "tenure          -0.007911       0.011979   0.027232       -0.032178   \n",
       "balance          1.000000      -0.304180  -0.014858       -0.010084   \n",
       "numofproducts   -0.304180       1.000000   0.003183        0.009612   \n",
       "hascrcard       -0.014858       0.003183   1.000000       -0.011866   \n",
       "isactivemember  -0.010084       0.009612  -0.011866        1.000000   \n",
       "estimatedsalary  0.012797       0.014204  -0.009933       -0.011421   \n",
       "exited           0.118533      -0.047820  -0.007138       -0.156128   \n",
       "\n",
       "                 estimatedsalary    exited  \n",
       "rownumber              -0.005988 -0.016571  \n",
       "customerid              0.015271 -0.006248  \n",
       "creditscore            -0.001384 -0.027094  \n",
       "age                    -0.007201  0.285323  \n",
       "tenure                  0.010520 -0.016761  \n",
       "balance                 0.012797  0.118533  \n",
       "numofproducts           0.014204 -0.047820  \n",
       "hascrcard              -0.009933 -0.007138  \n",
       "isactivemember         -0.011421 -0.156128  \n",
       "estimatedsalary         1.000000  0.012097  \n",
       "exited                  0.012097  1.000000  "
      ]
     },
     "execution_count": 9,
     "metadata": {},
     "output_type": "execute_result"
    }
   ],
   "source": [
    "df_raw.corr()"
   ]
  },
  {
   "cell_type": "markdown",
   "metadata": {},
   "source": [
    "К сожалению, проследить какую-либо ощутимую зависимость между значениями tenure какими-то другими признаками не удается, ковариционная матрица показывает отсутствие сколь-нибудь сильной связи с каким-либо из признаков.  \n",
    "Однако удалять 10% выборки из-за отсутствующего признака мы не будем. Заполним пропуски в этом столбце медианами в разбивке по hascrcard и isactivemember, которые по не очевидной причине имеют чуть более выраженную связь с tenure, чем остальные признаки."
   ]
  },
  {
   "cell_type": "code",
   "execution_count": 10,
   "metadata": {},
   "outputs": [
    {
     "name": "stdout",
     "output_type": "stream",
     "text": [
      "<class 'pandas.core.frame.DataFrame'>\n",
      "RangeIndex: 10000 entries, 0 to 9999\n",
      "Data columns (total 14 columns):\n",
      "rownumber          10000 non-null int64\n",
      "customerid         10000 non-null int64\n",
      "surname            10000 non-null object\n",
      "creditscore        10000 non-null int64\n",
      "geography          10000 non-null object\n",
      "gender             10000 non-null object\n",
      "age                10000 non-null int64\n",
      "tenure             10000 non-null float64\n",
      "balance            10000 non-null float64\n",
      "numofproducts      10000 non-null int64\n",
      "hascrcard          10000 non-null int64\n",
      "isactivemember     10000 non-null int64\n",
      "estimatedsalary    10000 non-null float64\n",
      "exited             10000 non-null int64\n",
      "dtypes: float64(3), int64(8), object(3)\n",
      "memory usage: 1.1+ MB\n"
     ]
    }
   ],
   "source": [
    "\n",
    "pivot_salary = df_raw.pivot_table(\n",
    "    index = 'hascrcard',\n",
    "    columns = 'isactivemember',\n",
    "    values = 'tenure', \n",
    "    aggfunc = 'median')\n",
    "\n",
    "def tenure_filling1(row):\n",
    "    card = row['hascrcard']\n",
    "    active = row['isactivemember']\n",
    "    tenure = row['tenure']\n",
    "    try:\n",
    "        return pivot_salary.loc[card, active]\n",
    "    except:\n",
    "        return tenure\n",
    "    \n",
    "\n",
    "df_raw.loc[df_raw['tenure'].isnull()==True, 'tenure'] = df_raw[df_raw['tenure'].isnull()==True].apply(tenure_filling1,axis=1)\n",
    "\n",
    "df_raw.info()"
   ]
  },
  {
   "cell_type": "markdown",
   "metadata": {},
   "source": [
    "<font color='green'>Здорово, очень интересная идея для обработки пропусков. </font>\n"
   ]
  },
  {
   "cell_type": "markdown",
   "metadata": {},
   "source": [
    "### Обработка дубликатов"
   ]
  },
  {
   "cell_type": "markdown",
   "metadata": {},
   "source": [
    "Проверим данные на наличие дубликатов. При проверке исключим столбцы, отвечающие за идентификацию строки, из-за которых строки независимо от того, одинаковые ли у них сочетания признаков, будут определены как уникальные."
   ]
  },
  {
   "cell_type": "code",
   "execution_count": 11,
   "metadata": {},
   "outputs": [
    {
     "data": {
      "text/plain": [
       "0"
      ]
     },
     "execution_count": 11,
     "metadata": {},
     "output_type": "execute_result"
    }
   ],
   "source": [
    "df_raw.drop(['rownumber','customerid'], axis=1).duplicated().sum()"
   ]
  },
  {
   "cell_type": "markdown",
   "metadata": {},
   "source": [
    "<font color='green'>Отлично, идем дальше. </font>\n"
   ]
  },
  {
   "cell_type": "markdown",
   "metadata": {},
   "source": [
    "### Замена типов данных"
   ]
  },
  {
   "cell_type": "markdown",
   "metadata": {},
   "source": [
    "Заменим в признаках hascrcard, isactivemember и exited тип данных на булевый. Также заменим тип данных в признаке tenure"
   ]
  },
  {
   "cell_type": "code",
   "execution_count": 12,
   "metadata": {},
   "outputs": [
    {
     "name": "stdout",
     "output_type": "stream",
     "text": [
      "<class 'pandas.core.frame.DataFrame'>\n",
      "RangeIndex: 10000 entries, 0 to 9999\n",
      "Data columns (total 14 columns):\n",
      "rownumber          10000 non-null int64\n",
      "customerid         10000 non-null int64\n",
      "surname            10000 non-null object\n",
      "creditscore        10000 non-null int64\n",
      "geography          10000 non-null object\n",
      "gender             10000 non-null object\n",
      "age                10000 non-null int64\n",
      "tenure             10000 non-null int64\n",
      "balance            10000 non-null float64\n",
      "numofproducts      10000 non-null int64\n",
      "hascrcard          10000 non-null bool\n",
      "isactivemember     10000 non-null bool\n",
      "estimatedsalary    10000 non-null float64\n",
      "exited             10000 non-null bool\n",
      "dtypes: bool(3), float64(2), int64(6), object(3)\n",
      "memory usage: 888.8+ KB\n"
     ]
    }
   ],
   "source": [
    "df_raw.loc[:,['hascrcard', 'isactivemember', 'exited']] = df_raw.loc[:,['hascrcard', 'isactivemember', 'exited']].astype('bool')\n",
    "df_raw['tenure'] = df_raw['tenure'].astype('int')\n",
    "df_raw.info()"
   ]
  },
  {
   "cell_type": "markdown",
   "metadata": {},
   "source": [
    "### Исключение столбцов. Масштабирование признаков"
   ]
  },
  {
   "cell_type": "markdown",
   "metadata": {},
   "source": [
    "Перед тем, как примять технику прямого кодирования, избавимся от признаков, которые мы не будем использовать для обучения моделей, то есть первые три столбца."
   ]
  },
  {
   "cell_type": "code",
   "execution_count": 13,
   "metadata": {},
   "outputs": [],
   "source": [
    "df = df_raw.drop(['rownumber', 'customerid','surname'], axis = 1)"
   ]
  },
  {
   "cell_type": "markdown",
   "metadata": {},
   "source": [
    "<font color='green'>Совершенно верно, эти признаки неинформативны. </font>\n"
   ]
  },
  {
   "cell_type": "code",
   "execution_count": 14,
   "metadata": {},
   "outputs": [
    {
     "name": "stdout",
     "output_type": "stream",
     "text": [
      "<class 'pandas.core.frame.DataFrame'>\n",
      "RangeIndex: 10000 entries, 0 to 9999\n",
      "Data columns (total 11 columns):\n",
      "creditscore        10000 non-null float64\n",
      "geography          10000 non-null object\n",
      "gender             10000 non-null object\n",
      "age                10000 non-null float64\n",
      "tenure             10000 non-null float64\n",
      "balance            10000 non-null float64\n",
      "numofproducts      10000 non-null float64\n",
      "hascrcard          10000 non-null bool\n",
      "isactivemember     10000 non-null bool\n",
      "estimatedsalary    10000 non-null float64\n",
      "exited             10000 non-null bool\n",
      "dtypes: bool(3), float64(6), object(2)\n",
      "memory usage: 654.4+ KB\n"
     ]
    }
   ],
   "source": [
    "numeric = ['creditscore', 'age', 'tenure', 'balance', 'numofproducts', 'estimatedsalary']\n",
    "scaler = StandardScaler()\n",
    "scaler.fit(df[numeric])\n",
    "df[numeric] = scaler.transform(df[numeric])\n",
    "df.info()"
   ]
  },
  {
   "cell_type": "markdown",
   "metadata": {},
   "source": [
    "<font color='green'>Правильно, масштабирование необходимо. </font> <font color='blue'>Лучше было разбить выборку на обучающую, валидационную и тестовую, а после этого настроить scaler только на обучающей выборке (для валидационной и тестовой использовать метод transform настроенного scaler). Тестовая выборка не должна принимать участие в построении модели классификации.</font>\n"
   ]
  },
  {
   "cell_type": "markdown",
   "metadata": {},
   "source": [
    "### Прямое кодирование категориальных признаков"
   ]
  },
  {
   "cell_type": "markdown",
   "metadata": {},
   "source": [
    "Применим метод OHE. Он универсален и подойдет любому типу алгоритмов из тех, что мы будем использовать.  "
   ]
  },
  {
   "cell_type": "code",
   "execution_count": 15,
   "metadata": {},
   "outputs": [
    {
     "name": "stdout",
     "output_type": "stream",
     "text": [
      "<class 'pandas.core.frame.DataFrame'>\n",
      "RangeIndex: 10000 entries, 0 to 9999\n",
      "Data columns (total 12 columns):\n",
      "creditscore          10000 non-null float64\n",
      "age                  10000 non-null float64\n",
      "tenure               10000 non-null float64\n",
      "balance              10000 non-null float64\n",
      "numofproducts        10000 non-null float64\n",
      "hascrcard            10000 non-null bool\n",
      "isactivemember       10000 non-null bool\n",
      "estimatedsalary      10000 non-null float64\n",
      "exited               10000 non-null bool\n",
      "geography_Germany    10000 non-null uint8\n",
      "geography_Spain      10000 non-null uint8\n",
      "gender_Male          10000 non-null uint8\n",
      "dtypes: bool(3), float64(6), uint8(3)\n",
      "memory usage: 527.5 KB\n"
     ]
    }
   ],
   "source": [
    "df_ohe = pd.get_dummies(df, drop_first = True)\n",
    "df_ohe.info()"
   ]
  },
  {
   "cell_type": "code",
   "execution_count": 16,
   "metadata": {},
   "outputs": [
    {
     "data": {
      "text/html": [
       "<div>\n",
       "<style scoped>\n",
       "    .dataframe tbody tr th:only-of-type {\n",
       "        vertical-align: middle;\n",
       "    }\n",
       "\n",
       "    .dataframe tbody tr th {\n",
       "        vertical-align: top;\n",
       "    }\n",
       "\n",
       "    .dataframe thead th {\n",
       "        text-align: right;\n",
       "    }\n",
       "</style>\n",
       "<table border=\"1\" class=\"dataframe\">\n",
       "  <thead>\n",
       "    <tr style=\"text-align: right;\">\n",
       "      <th></th>\n",
       "      <th>creditscore</th>\n",
       "      <th>age</th>\n",
       "      <th>tenure</th>\n",
       "      <th>balance</th>\n",
       "      <th>numofproducts</th>\n",
       "      <th>hascrcard</th>\n",
       "      <th>isactivemember</th>\n",
       "      <th>estimatedsalary</th>\n",
       "      <th>exited</th>\n",
       "      <th>geography_Germany</th>\n",
       "      <th>geography_Spain</th>\n",
       "      <th>gender_Male</th>\n",
       "    </tr>\n",
       "  </thead>\n",
       "  <tbody>\n",
       "    <tr>\n",
       "      <td>0</td>\n",
       "      <td>-0.326221</td>\n",
       "      <td>0.293517</td>\n",
       "      <td>-1.086246</td>\n",
       "      <td>-1.225848</td>\n",
       "      <td>-0.911583</td>\n",
       "      <td>True</td>\n",
       "      <td>True</td>\n",
       "      <td>0.021886</td>\n",
       "      <td>True</td>\n",
       "      <td>0</td>\n",
       "      <td>0</td>\n",
       "      <td>0</td>\n",
       "    </tr>\n",
       "    <tr>\n",
       "      <td>1</td>\n",
       "      <td>-0.440036</td>\n",
       "      <td>0.198164</td>\n",
       "      <td>-1.448581</td>\n",
       "      <td>0.117350</td>\n",
       "      <td>-0.911583</td>\n",
       "      <td>False</td>\n",
       "      <td>True</td>\n",
       "      <td>0.216534</td>\n",
       "      <td>False</td>\n",
       "      <td>0</td>\n",
       "      <td>1</td>\n",
       "      <td>0</td>\n",
       "    </tr>\n",
       "    <tr>\n",
       "      <td>2</td>\n",
       "      <td>-1.536794</td>\n",
       "      <td>0.293517</td>\n",
       "      <td>1.087768</td>\n",
       "      <td>1.333053</td>\n",
       "      <td>2.527057</td>\n",
       "      <td>True</td>\n",
       "      <td>False</td>\n",
       "      <td>0.240687</td>\n",
       "      <td>True</td>\n",
       "      <td>0</td>\n",
       "      <td>0</td>\n",
       "      <td>0</td>\n",
       "    </tr>\n",
       "    <tr>\n",
       "      <td>3</td>\n",
       "      <td>0.501521</td>\n",
       "      <td>0.007457</td>\n",
       "      <td>-1.448581</td>\n",
       "      <td>-1.225848</td>\n",
       "      <td>0.807737</td>\n",
       "      <td>False</td>\n",
       "      <td>False</td>\n",
       "      <td>-0.108918</td>\n",
       "      <td>False</td>\n",
       "      <td>0</td>\n",
       "      <td>0</td>\n",
       "      <td>0</td>\n",
       "    </tr>\n",
       "    <tr>\n",
       "      <td>4</td>\n",
       "      <td>2.063884</td>\n",
       "      <td>0.388871</td>\n",
       "      <td>-1.086246</td>\n",
       "      <td>0.785728</td>\n",
       "      <td>-0.911583</td>\n",
       "      <td>True</td>\n",
       "      <td>True</td>\n",
       "      <td>-0.365276</td>\n",
       "      <td>False</td>\n",
       "      <td>0</td>\n",
       "      <td>1</td>\n",
       "      <td>0</td>\n",
       "    </tr>\n",
       "    <tr>\n",
       "      <td>5</td>\n",
       "      <td>-0.057205</td>\n",
       "      <td>0.484225</td>\n",
       "      <td>1.087768</td>\n",
       "      <td>0.597329</td>\n",
       "      <td>0.807737</td>\n",
       "      <td>True</td>\n",
       "      <td>False</td>\n",
       "      <td>0.863650</td>\n",
       "      <td>True</td>\n",
       "      <td>0</td>\n",
       "      <td>1</td>\n",
       "      <td>1</td>\n",
       "    </tr>\n",
       "    <tr>\n",
       "      <td>6</td>\n",
       "      <td>1.774174</td>\n",
       "      <td>1.056346</td>\n",
       "      <td>0.725432</td>\n",
       "      <td>-1.225848</td>\n",
       "      <td>0.807737</td>\n",
       "      <td>True</td>\n",
       "      <td>True</td>\n",
       "      <td>-1.565487</td>\n",
       "      <td>False</td>\n",
       "      <td>0</td>\n",
       "      <td>0</td>\n",
       "      <td>1</td>\n",
       "    </tr>\n",
       "    <tr>\n",
       "      <td>7</td>\n",
       "      <td>-2.840488</td>\n",
       "      <td>-0.946079</td>\n",
       "      <td>-0.361575</td>\n",
       "      <td>0.618019</td>\n",
       "      <td>4.246377</td>\n",
       "      <td>True</td>\n",
       "      <td>False</td>\n",
       "      <td>0.334854</td>\n",
       "      <td>True</td>\n",
       "      <td>1</td>\n",
       "      <td>0</td>\n",
       "      <td>0</td>\n",
       "    </tr>\n",
       "    <tr>\n",
       "      <td>8</td>\n",
       "      <td>-1.547141</td>\n",
       "      <td>0.484225</td>\n",
       "      <td>-0.361575</td>\n",
       "      <td>1.050820</td>\n",
       "      <td>0.807737</td>\n",
       "      <td>False</td>\n",
       "      <td>True</td>\n",
       "      <td>-0.437329</td>\n",
       "      <td>False</td>\n",
       "      <td>0</td>\n",
       "      <td>0</td>\n",
       "      <td>1</td>\n",
       "    </tr>\n",
       "    <tr>\n",
       "      <td>9</td>\n",
       "      <td>0.346319</td>\n",
       "      <td>-1.136786</td>\n",
       "      <td>-1.086246</td>\n",
       "      <td>0.931463</td>\n",
       "      <td>-0.911583</td>\n",
       "      <td>True</td>\n",
       "      <td>True</td>\n",
       "      <td>-0.493230</td>\n",
       "      <td>False</td>\n",
       "      <td>0</td>\n",
       "      <td>0</td>\n",
       "      <td>1</td>\n",
       "    </tr>\n",
       "  </tbody>\n",
       "</table>\n",
       "</div>"
      ],
      "text/plain": [
       "   creditscore       age    tenure   balance  numofproducts  hascrcard  \\\n",
       "0    -0.326221  0.293517 -1.086246 -1.225848      -0.911583       True   \n",
       "1    -0.440036  0.198164 -1.448581  0.117350      -0.911583      False   \n",
       "2    -1.536794  0.293517  1.087768  1.333053       2.527057       True   \n",
       "3     0.501521  0.007457 -1.448581 -1.225848       0.807737      False   \n",
       "4     2.063884  0.388871 -1.086246  0.785728      -0.911583       True   \n",
       "5    -0.057205  0.484225  1.087768  0.597329       0.807737       True   \n",
       "6     1.774174  1.056346  0.725432 -1.225848       0.807737       True   \n",
       "7    -2.840488 -0.946079 -0.361575  0.618019       4.246377       True   \n",
       "8    -1.547141  0.484225 -0.361575  1.050820       0.807737      False   \n",
       "9     0.346319 -1.136786 -1.086246  0.931463      -0.911583       True   \n",
       "\n",
       "   isactivemember  estimatedsalary  exited  geography_Germany  \\\n",
       "0            True         0.021886    True                  0   \n",
       "1            True         0.216534   False                  0   \n",
       "2           False         0.240687    True                  0   \n",
       "3           False        -0.108918   False                  0   \n",
       "4            True        -0.365276   False                  0   \n",
       "5           False         0.863650    True                  0   \n",
       "6            True        -1.565487   False                  0   \n",
       "7           False         0.334854    True                  1   \n",
       "8            True        -0.437329   False                  0   \n",
       "9            True        -0.493230   False                  0   \n",
       "\n",
       "   geography_Spain  gender_Male  \n",
       "0                0            0  \n",
       "1                1            0  \n",
       "2                0            0  \n",
       "3                0            0  \n",
       "4                1            0  \n",
       "5                1            1  \n",
       "6                0            1  \n",
       "7                0            0  \n",
       "8                0            1  \n",
       "9                0            1  "
      ]
     },
     "execution_count": 16,
     "metadata": {},
     "output_type": "execute_result"
    }
   ],
   "source": [
    "df_ohe.head(10)"
   ]
  },
  {
   "cell_type": "markdown",
   "metadata": {},
   "source": [
    "<font color='green'>Отлично, все в порядке. </font>\n"
   ]
  },
  {
   "cell_type": "markdown",
   "metadata": {},
   "source": [
    "### Порядковое кодирование категориальных признаков"
   ]
  },
  {
   "cell_type": "markdown",
   "metadata": {},
   "source": [
    "Подготовим также данные, в которых применяется метод порядкового кодирования категориальных признаков. Он может пригодиться нам для обучения моделей с помощью дерева решений или случайного леса.   "
   ]
  },
  {
   "cell_type": "code",
   "execution_count": 17,
   "metadata": {},
   "outputs": [
    {
     "name": "stdout",
     "output_type": "stream",
     "text": [
      "<class 'pandas.core.frame.DataFrame'>\n",
      "RangeIndex: 10000 entries, 0 to 9999\n",
      "Data columns (total 11 columns):\n",
      "creditscore        10000 non-null float64\n",
      "geography          10000 non-null float64\n",
      "gender             10000 non-null float64\n",
      "age                10000 non-null float64\n",
      "tenure             10000 non-null float64\n",
      "balance            10000 non-null float64\n",
      "numofproducts      10000 non-null float64\n",
      "hascrcard          10000 non-null float64\n",
      "isactivemember     10000 non-null float64\n",
      "estimatedsalary    10000 non-null float64\n",
      "exited             10000 non-null float64\n",
      "dtypes: float64(11)\n",
      "memory usage: 859.5 KB\n"
     ]
    }
   ],
   "source": [
    "ordin_encod=OrdinalEncoder()\n",
    "ordin_encod.fit(df)\n",
    "df_ordin = pd.DataFrame(ordin_encod.transform(df), columns = df.columns)\n",
    "df_ordin.info()"
   ]
  },
  {
   "cell_type": "code",
   "execution_count": 18,
   "metadata": {},
   "outputs": [
    {
     "data": {
      "text/html": [
       "<div>\n",
       "<style scoped>\n",
       "    .dataframe tbody tr th:only-of-type {\n",
       "        vertical-align: middle;\n",
       "    }\n",
       "\n",
       "    .dataframe tbody tr th {\n",
       "        vertical-align: top;\n",
       "    }\n",
       "\n",
       "    .dataframe thead th {\n",
       "        text-align: right;\n",
       "    }\n",
       "</style>\n",
       "<table border=\"1\" class=\"dataframe\">\n",
       "  <thead>\n",
       "    <tr style=\"text-align: right;\">\n",
       "      <th></th>\n",
       "      <th>creditscore</th>\n",
       "      <th>geography</th>\n",
       "      <th>gender</th>\n",
       "      <th>age</th>\n",
       "      <th>tenure</th>\n",
       "      <th>balance</th>\n",
       "      <th>numofproducts</th>\n",
       "      <th>hascrcard</th>\n",
       "      <th>isactivemember</th>\n",
       "      <th>estimatedsalary</th>\n",
       "      <th>exited</th>\n",
       "    </tr>\n",
       "  </thead>\n",
       "  <tbody>\n",
       "    <tr>\n",
       "      <td>0</td>\n",
       "      <td>228.0</td>\n",
       "      <td>0.0</td>\n",
       "      <td>0.0</td>\n",
       "      <td>24.0</td>\n",
       "      <td>2.0</td>\n",
       "      <td>0.0</td>\n",
       "      <td>0.0</td>\n",
       "      <td>1.0</td>\n",
       "      <td>1.0</td>\n",
       "      <td>5068.0</td>\n",
       "      <td>1.0</td>\n",
       "    </tr>\n",
       "    <tr>\n",
       "      <td>1</td>\n",
       "      <td>217.0</td>\n",
       "      <td>2.0</td>\n",
       "      <td>0.0</td>\n",
       "      <td>23.0</td>\n",
       "      <td>1.0</td>\n",
       "      <td>743.0</td>\n",
       "      <td>0.0</td>\n",
       "      <td>0.0</td>\n",
       "      <td>1.0</td>\n",
       "      <td>5639.0</td>\n",
       "      <td>0.0</td>\n",
       "    </tr>\n",
       "    <tr>\n",
       "      <td>2</td>\n",
       "      <td>111.0</td>\n",
       "      <td>0.0</td>\n",
       "      <td>0.0</td>\n",
       "      <td>24.0</td>\n",
       "      <td>8.0</td>\n",
       "      <td>5793.0</td>\n",
       "      <td>2.0</td>\n",
       "      <td>1.0</td>\n",
       "      <td>0.0</td>\n",
       "      <td>5707.0</td>\n",
       "      <td>1.0</td>\n",
       "    </tr>\n",
       "    <tr>\n",
       "      <td>3</td>\n",
       "      <td>308.0</td>\n",
       "      <td>0.0</td>\n",
       "      <td>0.0</td>\n",
       "      <td>21.0</td>\n",
       "      <td>1.0</td>\n",
       "      <td>0.0</td>\n",
       "      <td>1.0</td>\n",
       "      <td>0.0</td>\n",
       "      <td>0.0</td>\n",
       "      <td>4704.0</td>\n",
       "      <td>0.0</td>\n",
       "    </tr>\n",
       "    <tr>\n",
       "      <td>4</td>\n",
       "      <td>459.0</td>\n",
       "      <td>2.0</td>\n",
       "      <td>0.0</td>\n",
       "      <td>25.0</td>\n",
       "      <td>2.0</td>\n",
       "      <td>3696.0</td>\n",
       "      <td>0.0</td>\n",
       "      <td>1.0</td>\n",
       "      <td>1.0</td>\n",
       "      <td>3925.0</td>\n",
       "      <td>0.0</td>\n",
       "    </tr>\n",
       "    <tr>\n",
       "      <td>5</td>\n",
       "      <td>254.0</td>\n",
       "      <td>2.0</td>\n",
       "      <td>1.0</td>\n",
       "      <td>26.0</td>\n",
       "      <td>8.0</td>\n",
       "      <td>2674.0</td>\n",
       "      <td>1.0</td>\n",
       "      <td>1.0</td>\n",
       "      <td>0.0</td>\n",
       "      <td>7531.0</td>\n",
       "      <td>1.0</td>\n",
       "    </tr>\n",
       "    <tr>\n",
       "      <td>6</td>\n",
       "      <td>431.0</td>\n",
       "      <td>0.0</td>\n",
       "      <td>1.0</td>\n",
       "      <td>32.0</td>\n",
       "      <td>7.0</td>\n",
       "      <td>0.0</td>\n",
       "      <td>1.0</td>\n",
       "      <td>1.0</td>\n",
       "      <td>1.0</td>\n",
       "      <td>513.0</td>\n",
       "      <td>0.0</td>\n",
       "    </tr>\n",
       "    <tr>\n",
       "      <td>7</td>\n",
       "      <td>8.0</td>\n",
       "      <td>1.0</td>\n",
       "      <td>0.0</td>\n",
       "      <td>11.0</td>\n",
       "      <td>4.0</td>\n",
       "      <td>2781.0</td>\n",
       "      <td>3.0</td>\n",
       "      <td>1.0</td>\n",
       "      <td>0.0</td>\n",
       "      <td>5978.0</td>\n",
       "      <td>1.0</td>\n",
       "    </tr>\n",
       "    <tr>\n",
       "      <td>8</td>\n",
       "      <td>110.0</td>\n",
       "      <td>0.0</td>\n",
       "      <td>1.0</td>\n",
       "      <td>26.0</td>\n",
       "      <td>4.0</td>\n",
       "      <td>4962.0</td>\n",
       "      <td>1.0</td>\n",
       "      <td>0.0</td>\n",
       "      <td>1.0</td>\n",
       "      <td>3718.0</td>\n",
       "      <td>0.0</td>\n",
       "    </tr>\n",
       "    <tr>\n",
       "      <td>9</td>\n",
       "      <td>293.0</td>\n",
       "      <td>0.0</td>\n",
       "      <td>1.0</td>\n",
       "      <td>9.0</td>\n",
       "      <td>2.0</td>\n",
       "      <td>4450.0</td>\n",
       "      <td>0.0</td>\n",
       "      <td>1.0</td>\n",
       "      <td>1.0</td>\n",
       "      <td>3550.0</td>\n",
       "      <td>0.0</td>\n",
       "    </tr>\n",
       "  </tbody>\n",
       "</table>\n",
       "</div>"
      ],
      "text/plain": [
       "   creditscore  geography  gender   age  tenure  balance  numofproducts  \\\n",
       "0        228.0        0.0     0.0  24.0     2.0      0.0            0.0   \n",
       "1        217.0        2.0     0.0  23.0     1.0    743.0            0.0   \n",
       "2        111.0        0.0     0.0  24.0     8.0   5793.0            2.0   \n",
       "3        308.0        0.0     0.0  21.0     1.0      0.0            1.0   \n",
       "4        459.0        2.0     0.0  25.0     2.0   3696.0            0.0   \n",
       "5        254.0        2.0     1.0  26.0     8.0   2674.0            1.0   \n",
       "6        431.0        0.0     1.0  32.0     7.0      0.0            1.0   \n",
       "7          8.0        1.0     0.0  11.0     4.0   2781.0            3.0   \n",
       "8        110.0        0.0     1.0  26.0     4.0   4962.0            1.0   \n",
       "9        293.0        0.0     1.0   9.0     2.0   4450.0            0.0   \n",
       "\n",
       "   hascrcard  isactivemember  estimatedsalary  exited  \n",
       "0        1.0             1.0           5068.0     1.0  \n",
       "1        0.0             1.0           5639.0     0.0  \n",
       "2        1.0             0.0           5707.0     1.0  \n",
       "3        0.0             0.0           4704.0     0.0  \n",
       "4        1.0             1.0           3925.0     0.0  \n",
       "5        1.0             0.0           7531.0     1.0  \n",
       "6        1.0             1.0            513.0     0.0  \n",
       "7        1.0             0.0           5978.0     1.0  \n",
       "8        0.0             1.0           3718.0     0.0  \n",
       "9        1.0             1.0           3550.0     0.0  "
      ]
     },
     "execution_count": 18,
     "metadata": {},
     "output_type": "execute_result"
    }
   ],
   "source": [
    "df_ordin.head(10)"
   ]
  },
  {
   "cell_type": "markdown",
   "metadata": {},
   "source": [
    "<font color='green'>Хорошо, переходим к следующему шагу. </font>"
   ]
  },
  {
   "cell_type": "markdown",
   "metadata": {},
   "source": [
    "# 2. Исследование задачи"
   ]
  },
  {
   "cell_type": "markdown",
   "metadata": {},
   "source": [
    "Исследуем распределение классов по общему количеству объектов."
   ]
  },
  {
   "cell_type": "code",
   "execution_count": 19,
   "metadata": {},
   "outputs": [
    {
     "data": {
      "text/plain": [
       "2037"
      ]
     },
     "execution_count": 19,
     "metadata": {},
     "output_type": "execute_result"
    }
   ],
   "source": [
    "df.query('exited == 1')['exited'].count()"
   ]
  },
  {
   "cell_type": "markdown",
   "metadata": {},
   "source": [
    "Объекты с положительным значением целевого признака составляют чуть более 20% от общего набора данных, присутствует значительный дисбаланс классов целевого признака.  "
   ]
  },
  {
   "cell_type": "markdown",
   "metadata": {},
   "source": [
    "<font color='green'>Все верно. </font>"
   ]
  },
  {
   "cell_type": "markdown",
   "metadata": {},
   "source": [
    "В целях исследования задачи обучим модели без учета дисбаланса классов и изучим получившиеся результаты."
   ]
  },
  {
   "cell_type": "code",
   "execution_count": 20,
   "metadata": {},
   "outputs": [],
   "source": [
    "ohe_features = df_ohe.drop('exited', axis = 1)\n",
    "ohe_target = df_ohe['exited']\n",
    "ohe_features_train, ohe_features_valid_test, ohe_target_train, ohe_target_valid_test = train_test_split(\n",
    "    ohe_features, ohe_target, \n",
    "    test_size = 0.4, stratify = ohe_target,\n",
    "    random_state = random) \n",
    "ohe_features_valid, ohe_features_test, ohe_target_valid, ohe_target_test = train_test_split(\n",
    "    ohe_features_valid_test, ohe_target_valid_test, \n",
    "    test_size = 0.5, stratify = ohe_target_valid_test,\n",
    "    random_state = random)"
   ]
  },
  {
   "cell_type": "code",
   "execution_count": 21,
   "metadata": {},
   "outputs": [],
   "source": [
    "ordin_features = df_ordin.drop('exited', axis = 1)\n",
    "ordin_target = df_ordin['exited']\n",
    "ordin_features_train, ordin_features_valid_test, ordin_target_train, ordin_target_valid_test = train_test_split(\n",
    "    ordin_features, ordin_target, \n",
    "    test_size = 0.3, stratify = ordin_target,\n",
    "    random_state = random) \n",
    "ordin_features_valid, ordin_features_test, ordin_target_valid, ordin_target_test = train_test_split(\n",
    "    ordin_features_valid_test, ordin_target_valid_test, \n",
    "    test_size = 0.5, stratify = ordin_target_valid_test,\n",
    "    random_state = random)"
   ]
  },
  {
   "cell_type": "markdown",
   "metadata": {},
   "source": [
    "### Дерево решений без учета дисбаланса"
   ]
  },
  {
   "cell_type": "markdown",
   "metadata": {},
   "source": [
    "Проверим, какие результаты покажут модели, созданные на алогоритмах дерева решений и обученные на данных OHE, обработанных методом ohe и порядковым кодированием."
   ]
  },
  {
   "cell_type": "markdown",
   "metadata": {},
   "source": [
    "Проведем перебор сочетаний гиперпараметров для дерева решений, обученных на данных с OHE."
   ]
  },
  {
   "cell_type": "code",
   "execution_count": 22,
   "metadata": {},
   "outputs": [
    {
     "name": "stdout",
     "output_type": "stream",
     "text": [
      "CPU times: user 7.88 s, sys: 48 ms, total: 7.93 s\n",
      "Wall time: 7.96 s\n"
     ]
    },
    {
     "data": {
      "text/html": [
       "<div>\n",
       "<style scoped>\n",
       "    .dataframe tbody tr th:only-of-type {\n",
       "        vertical-align: middle;\n",
       "    }\n",
       "\n",
       "    .dataframe tbody tr th {\n",
       "        vertical-align: top;\n",
       "    }\n",
       "\n",
       "    .dataframe thead th {\n",
       "        text-align: right;\n",
       "    }\n",
       "</style>\n",
       "<table border=\"1\" class=\"dataframe\">\n",
       "  <thead>\n",
       "    <tr style=\"text-align: right;\">\n",
       "      <th></th>\n",
       "      <th>max_depth</th>\n",
       "      <th>min_samples_split</th>\n",
       "      <th>min_samples_leaf</th>\n",
       "      <th>accuracy_score</th>\n",
       "      <th>recall_score</th>\n",
       "      <th>precision_score</th>\n",
       "      <th>f1_score</th>\n",
       "      <th>roc_auc_score</th>\n",
       "    </tr>\n",
       "  </thead>\n",
       "  <tbody>\n",
       "    <tr>\n",
       "      <td>0</td>\n",
       "      <td>2</td>\n",
       "      <td>2</td>\n",
       "      <td>1</td>\n",
       "      <td>0.8350</td>\n",
       "      <td>0.438725</td>\n",
       "      <td>0.639286</td>\n",
       "      <td>0.520349</td>\n",
       "      <td>0.753960</td>\n",
       "    </tr>\n",
       "    <tr>\n",
       "      <td>1</td>\n",
       "      <td>2</td>\n",
       "      <td>4</td>\n",
       "      <td>1</td>\n",
       "      <td>0.8350</td>\n",
       "      <td>0.438725</td>\n",
       "      <td>0.639286</td>\n",
       "      <td>0.520349</td>\n",
       "      <td>0.753960</td>\n",
       "    </tr>\n",
       "    <tr>\n",
       "      <td>2</td>\n",
       "      <td>2</td>\n",
       "      <td>6</td>\n",
       "      <td>1</td>\n",
       "      <td>0.8350</td>\n",
       "      <td>0.438725</td>\n",
       "      <td>0.639286</td>\n",
       "      <td>0.520349</td>\n",
       "      <td>0.753960</td>\n",
       "    </tr>\n",
       "    <tr>\n",
       "      <td>3</td>\n",
       "      <td>2</td>\n",
       "      <td>8</td>\n",
       "      <td>1</td>\n",
       "      <td>0.8350</td>\n",
       "      <td>0.438725</td>\n",
       "      <td>0.639286</td>\n",
       "      <td>0.520349</td>\n",
       "      <td>0.753960</td>\n",
       "    </tr>\n",
       "    <tr>\n",
       "      <td>4</td>\n",
       "      <td>2</td>\n",
       "      <td>2</td>\n",
       "      <td>3</td>\n",
       "      <td>0.8350</td>\n",
       "      <td>0.438725</td>\n",
       "      <td>0.639286</td>\n",
       "      <td>0.520349</td>\n",
       "      <td>0.753960</td>\n",
       "    </tr>\n",
       "    <tr>\n",
       "      <td>...</td>\n",
       "      <td>...</td>\n",
       "      <td>...</td>\n",
       "      <td>...</td>\n",
       "      <td>...</td>\n",
       "      <td>...</td>\n",
       "      <td>...</td>\n",
       "      <td>...</td>\n",
       "      <td>...</td>\n",
       "    </tr>\n",
       "    <tr>\n",
       "      <td>195</td>\n",
       "      <td>20</td>\n",
       "      <td>8</td>\n",
       "      <td>7</td>\n",
       "      <td>0.8255</td>\n",
       "      <td>0.534314</td>\n",
       "      <td>0.578249</td>\n",
       "      <td>0.555414</td>\n",
       "      <td>0.769936</td>\n",
       "    </tr>\n",
       "    <tr>\n",
       "      <td>196</td>\n",
       "      <td>20</td>\n",
       "      <td>2</td>\n",
       "      <td>9</td>\n",
       "      <td>0.8330</td>\n",
       "      <td>0.507353</td>\n",
       "      <td>0.608824</td>\n",
       "      <td>0.553476</td>\n",
       "      <td>0.795547</td>\n",
       "    </tr>\n",
       "    <tr>\n",
       "      <td>197</td>\n",
       "      <td>20</td>\n",
       "      <td>4</td>\n",
       "      <td>9</td>\n",
       "      <td>0.8330</td>\n",
       "      <td>0.507353</td>\n",
       "      <td>0.608824</td>\n",
       "      <td>0.553476</td>\n",
       "      <td>0.795547</td>\n",
       "    </tr>\n",
       "    <tr>\n",
       "      <td>198</td>\n",
       "      <td>20</td>\n",
       "      <td>6</td>\n",
       "      <td>9</td>\n",
       "      <td>0.8330</td>\n",
       "      <td>0.507353</td>\n",
       "      <td>0.608824</td>\n",
       "      <td>0.553476</td>\n",
       "      <td>0.795547</td>\n",
       "    </tr>\n",
       "    <tr>\n",
       "      <td>199</td>\n",
       "      <td>20</td>\n",
       "      <td>8</td>\n",
       "      <td>9</td>\n",
       "      <td>0.8330</td>\n",
       "      <td>0.507353</td>\n",
       "      <td>0.608824</td>\n",
       "      <td>0.553476</td>\n",
       "      <td>0.795547</td>\n",
       "    </tr>\n",
       "  </tbody>\n",
       "</table>\n",
       "<p>200 rows × 8 columns</p>\n",
       "</div>"
      ],
      "text/plain": [
       "     max_depth  min_samples_split  min_samples_leaf  accuracy_score  \\\n",
       "0            2                  2                 1          0.8350   \n",
       "1            2                  4                 1          0.8350   \n",
       "2            2                  6                 1          0.8350   \n",
       "3            2                  8                 1          0.8350   \n",
       "4            2                  2                 3          0.8350   \n",
       "..         ...                ...               ...             ...   \n",
       "195         20                  8                 7          0.8255   \n",
       "196         20                  2                 9          0.8330   \n",
       "197         20                  4                 9          0.8330   \n",
       "198         20                  6                 9          0.8330   \n",
       "199         20                  8                 9          0.8330   \n",
       "\n",
       "     recall_score  precision_score  f1_score  roc_auc_score  \n",
       "0        0.438725         0.639286  0.520349       0.753960  \n",
       "1        0.438725         0.639286  0.520349       0.753960  \n",
       "2        0.438725         0.639286  0.520349       0.753960  \n",
       "3        0.438725         0.639286  0.520349       0.753960  \n",
       "4        0.438725         0.639286  0.520349       0.753960  \n",
       "..            ...              ...       ...            ...  \n",
       "195      0.534314         0.578249  0.555414       0.769936  \n",
       "196      0.507353         0.608824  0.553476       0.795547  \n",
       "197      0.507353         0.608824  0.553476       0.795547  \n",
       "198      0.507353         0.608824  0.553476       0.795547  \n",
       "199      0.507353         0.608824  0.553476       0.795547  \n",
       "\n",
       "[200 rows x 8 columns]"
      ]
     },
     "execution_count": 22,
     "metadata": {},
     "output_type": "execute_result"
    }
   ],
   "source": [
    "%%time\n",
    "\n",
    "tree_depth_col = []\n",
    "tree_min_leaf_col = []\n",
    "tree_min_split_col = []\n",
    "tree_acc_col = []\n",
    "tree_f1_col = []\n",
    "tree_recall_col = []\n",
    "tree_precision_col = []\n",
    "tree_roc_auc_col = []\n",
    "\n",
    "for depth in range(2, 21, 2):\n",
    "    for min_leaf in range(1, 10, 2):\n",
    "        for min_split in range(2,10,2):\n",
    "            model_tree_ohe = DecisionTreeClassifier(max_depth = depth, min_samples_split = min_split, min_samples_leaf = min_leaf, random_state = random)\n",
    "            model_tree_ohe.fit(ohe_features_train, ohe_target_train)\n",
    "            predicted_valid_tree_ohe = model_tree_ohe.predict(ohe_features_valid)\n",
    "            acc_score_tree = accuracy_score(ohe_target_valid, predicted_valid_tree_ohe)\n",
    "            f1_score_tree = f1_score(ohe_target_valid, predicted_valid_tree_ohe)\n",
    "            recall_score_tree = recall_score(ohe_target_valid, predicted_valid_tree_ohe)\n",
    "            precision_score_tree = precision_score(ohe_target_valid, predicted_valid_tree_ohe)\n",
    "            probabilities_tree_ohe = model_tree_ohe.predict_proba(ohe_features_valid)\n",
    "            probabilities_one_tree_ohe = probabilities_tree_ohe[:, 1]\n",
    "            roc_auc_score_tree = roc_auc_score(ohe_target_valid, probabilities_one_tree_ohe)\n",
    "            tree_depth_col.append(depth)\n",
    "            tree_min_split_col.append(min_split)\n",
    "            tree_min_leaf_col.append(min_leaf)\n",
    "            tree_acc_col.append(acc_score_tree)\n",
    "            tree_f1_col.append(f1_score_tree)\n",
    "            tree_recall_col.append(recall_score_tree)\n",
    "            tree_precision_col.append(precision_score_tree)\n",
    "            tree_roc_auc_col.append(roc_auc_score_tree)\n",
    "        \n",
    "ohe_tree_hyperparameters_dict = {\n",
    "    'max_depth': tree_depth_col, \n",
    "    'min_samples_split': tree_min_split_col, \n",
    "    'min_samples_leaf': tree_min_leaf_col, \n",
    "    'accuracy_score': tree_acc_col, \n",
    "    'recall_score': tree_recall_col,\n",
    "    'precision_score': tree_precision_col, \n",
    "    'f1_score':tree_f1_col, \n",
    "    'roc_auc_score': tree_roc_auc_col}\n",
    "ohe_tree_hyperparameters = pd.DataFrame(data = ohe_tree_hyperparameters_dict)\n",
    "ohe_tree_hyperparameters"
   ]
  },
  {
   "cell_type": "markdown",
   "metadata": {},
   "source": [
    "Проведем перебор гипермараметров для дерева решений, обученного на данных с порядковым кодированием категориальных признаков. "
   ]
  },
  {
   "cell_type": "code",
   "execution_count": 23,
   "metadata": {},
   "outputs": [
    {
     "name": "stdout",
     "output_type": "stream",
     "text": [
      "CPU times: user 7.84 s, sys: 16 ms, total: 7.86 s\n",
      "Wall time: 7.86 s\n"
     ]
    },
    {
     "data": {
      "text/html": [
       "<div>\n",
       "<style scoped>\n",
       "    .dataframe tbody tr th:only-of-type {\n",
       "        vertical-align: middle;\n",
       "    }\n",
       "\n",
       "    .dataframe tbody tr th {\n",
       "        vertical-align: top;\n",
       "    }\n",
       "\n",
       "    .dataframe thead th {\n",
       "        text-align: right;\n",
       "    }\n",
       "</style>\n",
       "<table border=\"1\" class=\"dataframe\">\n",
       "  <thead>\n",
       "    <tr style=\"text-align: right;\">\n",
       "      <th></th>\n",
       "      <th>max_depth</th>\n",
       "      <th>min_samples_split</th>\n",
       "      <th>min_samples_leaf</th>\n",
       "      <th>accuracy_score</th>\n",
       "      <th>recall_score</th>\n",
       "      <th>precision_score</th>\n",
       "      <th>f1_score</th>\n",
       "      <th>roc_auc_score</th>\n",
       "    </tr>\n",
       "  </thead>\n",
       "  <tbody>\n",
       "    <tr>\n",
       "      <td>0</td>\n",
       "      <td>2</td>\n",
       "      <td>2</td>\n",
       "      <td>1</td>\n",
       "      <td>0.821333</td>\n",
       "      <td>0.421569</td>\n",
       "      <td>0.586364</td>\n",
       "      <td>0.490494</td>\n",
       "      <td>0.757428</td>\n",
       "    </tr>\n",
       "    <tr>\n",
       "      <td>1</td>\n",
       "      <td>2</td>\n",
       "      <td>4</td>\n",
       "      <td>1</td>\n",
       "      <td>0.821333</td>\n",
       "      <td>0.421569</td>\n",
       "      <td>0.586364</td>\n",
       "      <td>0.490494</td>\n",
       "      <td>0.757428</td>\n",
       "    </tr>\n",
       "    <tr>\n",
       "      <td>2</td>\n",
       "      <td>2</td>\n",
       "      <td>6</td>\n",
       "      <td>1</td>\n",
       "      <td>0.821333</td>\n",
       "      <td>0.421569</td>\n",
       "      <td>0.586364</td>\n",
       "      <td>0.490494</td>\n",
       "      <td>0.757428</td>\n",
       "    </tr>\n",
       "    <tr>\n",
       "      <td>3</td>\n",
       "      <td>2</td>\n",
       "      <td>8</td>\n",
       "      <td>1</td>\n",
       "      <td>0.821333</td>\n",
       "      <td>0.421569</td>\n",
       "      <td>0.586364</td>\n",
       "      <td>0.490494</td>\n",
       "      <td>0.757428</td>\n",
       "    </tr>\n",
       "    <tr>\n",
       "      <td>4</td>\n",
       "      <td>2</td>\n",
       "      <td>2</td>\n",
       "      <td>3</td>\n",
       "      <td>0.821333</td>\n",
       "      <td>0.421569</td>\n",
       "      <td>0.586364</td>\n",
       "      <td>0.490494</td>\n",
       "      <td>0.757428</td>\n",
       "    </tr>\n",
       "    <tr>\n",
       "      <td>...</td>\n",
       "      <td>...</td>\n",
       "      <td>...</td>\n",
       "      <td>...</td>\n",
       "      <td>...</td>\n",
       "      <td>...</td>\n",
       "      <td>...</td>\n",
       "      <td>...</td>\n",
       "      <td>...</td>\n",
       "    </tr>\n",
       "    <tr>\n",
       "      <td>195</td>\n",
       "      <td>20</td>\n",
       "      <td>8</td>\n",
       "      <td>7</td>\n",
       "      <td>0.824667</td>\n",
       "      <td>0.483660</td>\n",
       "      <td>0.584980</td>\n",
       "      <td>0.529517</td>\n",
       "      <td>0.770332</td>\n",
       "    </tr>\n",
       "    <tr>\n",
       "      <td>196</td>\n",
       "      <td>20</td>\n",
       "      <td>2</td>\n",
       "      <td>9</td>\n",
       "      <td>0.834000</td>\n",
       "      <td>0.483660</td>\n",
       "      <td>0.619247</td>\n",
       "      <td>0.543119</td>\n",
       "      <td>0.771398</td>\n",
       "    </tr>\n",
       "    <tr>\n",
       "      <td>197</td>\n",
       "      <td>20</td>\n",
       "      <td>4</td>\n",
       "      <td>9</td>\n",
       "      <td>0.834000</td>\n",
       "      <td>0.483660</td>\n",
       "      <td>0.619247</td>\n",
       "      <td>0.543119</td>\n",
       "      <td>0.771398</td>\n",
       "    </tr>\n",
       "    <tr>\n",
       "      <td>198</td>\n",
       "      <td>20</td>\n",
       "      <td>6</td>\n",
       "      <td>9</td>\n",
       "      <td>0.834000</td>\n",
       "      <td>0.483660</td>\n",
       "      <td>0.619247</td>\n",
       "      <td>0.543119</td>\n",
       "      <td>0.771398</td>\n",
       "    </tr>\n",
       "    <tr>\n",
       "      <td>199</td>\n",
       "      <td>20</td>\n",
       "      <td>8</td>\n",
       "      <td>9</td>\n",
       "      <td>0.834000</td>\n",
       "      <td>0.483660</td>\n",
       "      <td>0.619247</td>\n",
       "      <td>0.543119</td>\n",
       "      <td>0.771398</td>\n",
       "    </tr>\n",
       "  </tbody>\n",
       "</table>\n",
       "<p>200 rows × 8 columns</p>\n",
       "</div>"
      ],
      "text/plain": [
       "     max_depth  min_samples_split  min_samples_leaf  accuracy_score  \\\n",
       "0            2                  2                 1        0.821333   \n",
       "1            2                  4                 1        0.821333   \n",
       "2            2                  6                 1        0.821333   \n",
       "3            2                  8                 1        0.821333   \n",
       "4            2                  2                 3        0.821333   \n",
       "..         ...                ...               ...             ...   \n",
       "195         20                  8                 7        0.824667   \n",
       "196         20                  2                 9        0.834000   \n",
       "197         20                  4                 9        0.834000   \n",
       "198         20                  6                 9        0.834000   \n",
       "199         20                  8                 9        0.834000   \n",
       "\n",
       "     recall_score  precision_score  f1_score  roc_auc_score  \n",
       "0        0.421569         0.586364  0.490494       0.757428  \n",
       "1        0.421569         0.586364  0.490494       0.757428  \n",
       "2        0.421569         0.586364  0.490494       0.757428  \n",
       "3        0.421569         0.586364  0.490494       0.757428  \n",
       "4        0.421569         0.586364  0.490494       0.757428  \n",
       "..            ...              ...       ...            ...  \n",
       "195      0.483660         0.584980  0.529517       0.770332  \n",
       "196      0.483660         0.619247  0.543119       0.771398  \n",
       "197      0.483660         0.619247  0.543119       0.771398  \n",
       "198      0.483660         0.619247  0.543119       0.771398  \n",
       "199      0.483660         0.619247  0.543119       0.771398  \n",
       "\n",
       "[200 rows x 8 columns]"
      ]
     },
     "execution_count": 23,
     "metadata": {},
     "output_type": "execute_result"
    }
   ],
   "source": [
    "%%time\n",
    "\n",
    "tree_depth_col = []\n",
    "tree_min_leaf_col = []\n",
    "tree_min_split_col = []\n",
    "tree_acc_col = []\n",
    "tree_f1_col = []\n",
    "tree_recall_col = []\n",
    "tree_precision_col = []\n",
    "tree_roc_auc_col = []\n",
    "\n",
    "for depth in range(2, 21, 2):\n",
    "    for min_leaf in range(1, 10, 2):\n",
    "        for min_split in range(2,10,2):\n",
    "            model_tree_ordin = DecisionTreeClassifier(max_depth = depth, min_samples_split = min_split, min_samples_leaf = min_leaf, random_state = random)\n",
    "            model_tree_ordin.fit(ordin_features_train, ordin_target_train)\n",
    "            predicted_valid_tree_ordin = model_tree_ordin.predict(ordin_features_valid)\n",
    "            acc_score_tree = accuracy_score(ordin_target_valid, predicted_valid_tree_ordin)\n",
    "            f1_score_tree = f1_score(ordin_target_valid, predicted_valid_tree_ordin)\n",
    "            recall_score_tree = recall_score(ordin_target_valid, predicted_valid_tree_ordin)\n",
    "            precision_score_tree = precision_score(ordin_target_valid, predicted_valid_tree_ordin)\n",
    "            probabilities_tree_ordin = model_tree_ordin.predict_proba(ordin_features_valid)\n",
    "            probabilities_one_tree_ordin = probabilities_tree_ordin[:, 1]\n",
    "            roc_auc_score_tree = roc_auc_score(ordin_target_valid, probabilities_one_tree_ordin)\n",
    "            tree_depth_col.append(depth)\n",
    "            tree_min_split_col.append(min_split)\n",
    "            tree_min_leaf_col.append(min_leaf)\n",
    "            tree_acc_col.append(acc_score_tree)\n",
    "            tree_f1_col.append(f1_score_tree)\n",
    "            tree_recall_col.append(recall_score_tree)\n",
    "            tree_precision_col.append(precision_score_tree)\n",
    "            tree_roc_auc_col.append(roc_auc_score_tree)\n",
    "        \n",
    "ordin_tree_hyperparameters_dict = {\n",
    "    'max_depth': tree_depth_col, \n",
    "    'min_samples_split': tree_min_split_col, \n",
    "    'min_samples_leaf': tree_min_leaf_col, \n",
    "    'accuracy_score': tree_acc_col, \n",
    "    'recall_score': tree_recall_col,\n",
    "    'precision_score': tree_precision_col, \n",
    "    'f1_score':tree_f1_col, \n",
    "    'roc_auc_score': tree_roc_auc_col}\n",
    "ordin_tree_hyperparameters = pd.DataFrame(data = ordin_tree_hyperparameters_dict)\n",
    "ordin_tree_hyperparameters"
   ]
  },
  {
   "cell_type": "markdown",
   "metadata": {},
   "source": [
    "Выведем строки с максимальным значением f1."
   ]
  },
  {
   "cell_type": "code",
   "execution_count": 24,
   "metadata": {},
   "outputs": [
    {
     "data": {
      "text/html": [
       "<div>\n",
       "<style scoped>\n",
       "    .dataframe tbody tr th:only-of-type {\n",
       "        vertical-align: middle;\n",
       "    }\n",
       "\n",
       "    .dataframe tbody tr th {\n",
       "        vertical-align: top;\n",
       "    }\n",
       "\n",
       "    .dataframe thead th {\n",
       "        text-align: right;\n",
       "    }\n",
       "</style>\n",
       "<table border=\"1\" class=\"dataframe\">\n",
       "  <thead>\n",
       "    <tr style=\"text-align: right;\">\n",
       "      <th></th>\n",
       "      <th>max_depth</th>\n",
       "      <th>min_samples_split</th>\n",
       "      <th>min_samples_leaf</th>\n",
       "      <th>accuracy_score</th>\n",
       "      <th>recall_score</th>\n",
       "      <th>precision_score</th>\n",
       "      <th>f1_score</th>\n",
       "      <th>roc_auc_score</th>\n",
       "    </tr>\n",
       "  </thead>\n",
       "  <tbody>\n",
       "    <tr>\n",
       "      <td>116</td>\n",
       "      <td>12</td>\n",
       "      <td>2</td>\n",
       "      <td>9</td>\n",
       "      <td>0.834</td>\n",
       "      <td>0.486928</td>\n",
       "      <td>0.618257</td>\n",
       "      <td>0.54479</td>\n",
       "      <td>0.779387</td>\n",
       "    </tr>\n",
       "    <tr>\n",
       "      <td>117</td>\n",
       "      <td>12</td>\n",
       "      <td>4</td>\n",
       "      <td>9</td>\n",
       "      <td>0.834</td>\n",
       "      <td>0.486928</td>\n",
       "      <td>0.618257</td>\n",
       "      <td>0.54479</td>\n",
       "      <td>0.779387</td>\n",
       "    </tr>\n",
       "    <tr>\n",
       "      <td>118</td>\n",
       "      <td>12</td>\n",
       "      <td>6</td>\n",
       "      <td>9</td>\n",
       "      <td>0.834</td>\n",
       "      <td>0.486928</td>\n",
       "      <td>0.618257</td>\n",
       "      <td>0.54479</td>\n",
       "      <td>0.779387</td>\n",
       "    </tr>\n",
       "    <tr>\n",
       "      <td>119</td>\n",
       "      <td>12</td>\n",
       "      <td>8</td>\n",
       "      <td>9</td>\n",
       "      <td>0.834</td>\n",
       "      <td>0.486928</td>\n",
       "      <td>0.618257</td>\n",
       "      <td>0.54479</td>\n",
       "      <td>0.779387</td>\n",
       "    </tr>\n",
       "  </tbody>\n",
       "</table>\n",
       "</div>"
      ],
      "text/plain": [
       "     max_depth  min_samples_split  min_samples_leaf  accuracy_score  \\\n",
       "116         12                  2                 9           0.834   \n",
       "117         12                  4                 9           0.834   \n",
       "118         12                  6                 9           0.834   \n",
       "119         12                  8                 9           0.834   \n",
       "\n",
       "     recall_score  precision_score  f1_score  roc_auc_score  \n",
       "116      0.486928         0.618257   0.54479       0.779387  \n",
       "117      0.486928         0.618257   0.54479       0.779387  \n",
       "118      0.486928         0.618257   0.54479       0.779387  \n",
       "119      0.486928         0.618257   0.54479       0.779387  "
      ]
     },
     "execution_count": 24,
     "metadata": {},
     "output_type": "execute_result"
    }
   ],
   "source": [
    "ordin_tree_hyperparameters.query('f1_score == f1_score.max()')"
   ]
  },
  {
   "cell_type": "code",
   "execution_count": 25,
   "metadata": {},
   "outputs": [
    {
     "data": {
      "text/html": [
       "<div>\n",
       "<style scoped>\n",
       "    .dataframe tbody tr th:only-of-type {\n",
       "        vertical-align: middle;\n",
       "    }\n",
       "\n",
       "    .dataframe tbody tr th {\n",
       "        vertical-align: top;\n",
       "    }\n",
       "\n",
       "    .dataframe thead th {\n",
       "        text-align: right;\n",
       "    }\n",
       "</style>\n",
       "<table border=\"1\" class=\"dataframe\">\n",
       "  <thead>\n",
       "    <tr style=\"text-align: right;\">\n",
       "      <th></th>\n",
       "      <th>max_depth</th>\n",
       "      <th>min_samples_split</th>\n",
       "      <th>min_samples_leaf</th>\n",
       "      <th>accuracy_score</th>\n",
       "      <th>recall_score</th>\n",
       "      <th>precision_score</th>\n",
       "      <th>f1_score</th>\n",
       "      <th>roc_auc_score</th>\n",
       "    </tr>\n",
       "  </thead>\n",
       "  <tbody>\n",
       "    <tr>\n",
       "      <td>52</td>\n",
       "      <td>6</td>\n",
       "      <td>2</td>\n",
       "      <td>7</td>\n",
       "      <td>0.8625</td>\n",
       "      <td>0.480392</td>\n",
       "      <td>0.756757</td>\n",
       "      <td>0.587706</td>\n",
       "      <td>0.842704</td>\n",
       "    </tr>\n",
       "    <tr>\n",
       "      <td>53</td>\n",
       "      <td>6</td>\n",
       "      <td>4</td>\n",
       "      <td>7</td>\n",
       "      <td>0.8625</td>\n",
       "      <td>0.480392</td>\n",
       "      <td>0.756757</td>\n",
       "      <td>0.587706</td>\n",
       "      <td>0.842704</td>\n",
       "    </tr>\n",
       "    <tr>\n",
       "      <td>54</td>\n",
       "      <td>6</td>\n",
       "      <td>6</td>\n",
       "      <td>7</td>\n",
       "      <td>0.8625</td>\n",
       "      <td>0.480392</td>\n",
       "      <td>0.756757</td>\n",
       "      <td>0.587706</td>\n",
       "      <td>0.842704</td>\n",
       "    </tr>\n",
       "    <tr>\n",
       "      <td>55</td>\n",
       "      <td>6</td>\n",
       "      <td>8</td>\n",
       "      <td>7</td>\n",
       "      <td>0.8625</td>\n",
       "      <td>0.480392</td>\n",
       "      <td>0.756757</td>\n",
       "      <td>0.587706</td>\n",
       "      <td>0.842704</td>\n",
       "    </tr>\n",
       "  </tbody>\n",
       "</table>\n",
       "</div>"
      ],
      "text/plain": [
       "    max_depth  min_samples_split  min_samples_leaf  accuracy_score  \\\n",
       "52          6                  2                 7          0.8625   \n",
       "53          6                  4                 7          0.8625   \n",
       "54          6                  6                 7          0.8625   \n",
       "55          6                  8                 7          0.8625   \n",
       "\n",
       "    recall_score  precision_score  f1_score  roc_auc_score  \n",
       "52      0.480392         0.756757  0.587706       0.842704  \n",
       "53      0.480392         0.756757  0.587706       0.842704  \n",
       "54      0.480392         0.756757  0.587706       0.842704  \n",
       "55      0.480392         0.756757  0.587706       0.842704  "
      ]
     },
     "execution_count": 25,
     "metadata": {},
     "output_type": "execute_result"
    }
   ],
   "source": [
    "ohe_tree_hyperparameters.query('f1_score == f1_score.max()')"
   ]
  },
  {
   "cell_type": "markdown",
   "metadata": {},
   "source": [
    "Максимальное значение f1 у модели, обученной на данных с прямым кодированием категориальных признаков. Это довольно интересно, учитывая, что порядковое кодирование лучше подходят для деревьев решений и случайного леса.\n",
    "\n",
    "В любом случае, значения f1 дерева решений слишком низкие, на тестовой это значение с большой вероятностью упадет."
   ]
  },
  {
   "cell_type": "code",
   "execution_count": 26,
   "metadata": {},
   "outputs": [
    {
     "data": {
      "text/plain": [
       "0.7854342022613064"
      ]
     },
     "execution_count": 26,
     "metadata": {},
     "output_type": "execute_result"
    }
   ],
   "source": [
    "ohe_tree_hyperparameters['roc_auc_score'].mean()"
   ]
  },
  {
   "cell_type": "code",
   "execution_count": 27,
   "metadata": {},
   "outputs": [
    {
     "data": {
      "text/plain": [
       "0.7849872832298748"
      ]
     },
     "execution_count": 27,
     "metadata": {},
     "output_type": "execute_result"
    }
   ],
   "source": [
    "ohe_tree_hyperparameters['roc_auc_score'].median()"
   ]
  },
  {
   "cell_type": "code",
   "execution_count": 28,
   "metadata": {},
   "outputs": [
    {
     "data": {
      "text/plain": [
       "0.7788252947745263"
      ]
     },
     "execution_count": 28,
     "metadata": {},
     "output_type": "execute_result"
    }
   ],
   "source": [
    "ordin_tree_hyperparameters['roc_auc_score'].mean()"
   ]
  },
  {
   "cell_type": "code",
   "execution_count": 29,
   "metadata": {},
   "outputs": [
    {
     "data": {
      "text/plain": [
       "0.7711172967232677"
      ]
     },
     "execution_count": 29,
     "metadata": {},
     "output_type": "execute_result"
    }
   ],
   "source": [
    "ordin_tree_hyperparameters['roc_auc_score'].median()"
   ]
  },
  {
   "cell_type": "markdown",
   "metadata": {},
   "source": [
    "Примечательно, что несмотря на неудовлетворительный результат метрики f1, показатель площади под кривой ROC довольно высокий и у алгоритмов, использующих данные, обработанные методом OHE, и у алгоритмов на данных с порядковым кодированием признаков. У алгоритмов с данными OHE показатель ROC-AUC выше, хотя и несильно, больше эта разница заметна на моделях с лучшим показателем f1. У лучшей модели деревьев кривая выглядит следующим образом:"
   ]
  },
  {
   "cell_type": "code",
   "execution_count": 30,
   "metadata": {
    "scrolled": false
   },
   "outputs": [
    {
     "data": {
      "image/png": "[encoded data removed]",
      "text/plain": [
       "<Figure size 432x288 with 1 Axes>"
      ]
     },
     "metadata": {
      "needs_background": "light"
     },
     "output_type": "display_data"
    }
   ],
   "source": [
    "best_tree_depth = int(ohe_tree_hyperparameters.query('f1_score == f1_score.max()')['max_depth'].head(1))\n",
    "best_tree_split = int(ohe_tree_hyperparameters.query('f1_score == f1_score.max()')['min_samples_split'].head(1))\n",
    "best_tree_leaf = int(ohe_tree_hyperparameters.query('f1_score == f1_score.max()')['min_samples_leaf'].head(1))\n",
    "\n",
    "\n",
    "best_tree_model = DecisionTreeClassifier(\n",
    "    max_depth = best_tree_depth, \n",
    "    min_samples_split = best_tree_split, \n",
    "    min_samples_leaf = best_tree_leaf,\n",
    "    random_state = random)\n",
    "best_tree_model.fit(ohe_features_train, ohe_target_train)\n",
    "probabilities_tree_valid = best_tree_model.predict_proba(ohe_features_valid)\n",
    "probabilities_one_tree_valid = probabilities_tree_valid[:, 1]\n",
    "\n",
    "fpr, tpr, thresholds = roc_curve(ohe_target_valid, probabilities_one_tree_valid)\n",
    "\n",
    "plt.figure()\n",
    "plt.plot(fpr, tpr)\n",
    "plt.plot([0, 1], [0, 1], linestyle='--')\n",
    "plt.xlim([0.0, 1.0])\n",
    "plt.ylim([0.0, 1.0])\n",
    "plt.xlabel('False Positive Rate')\n",
    "plt.ylabel('True Positive Rate')\n",
    "plt.title('ROC-кривая')\n",
    "plt.show()"
   ]
  },
  {
   "cell_type": "markdown",
   "metadata": {},
   "source": [
    "<font color='green'>Очень подробный отчет, прекрасная работа, молодец :) </font>\n"
   ]
  },
  {
   "cell_type": "markdown",
   "metadata": {},
   "source": [
    "### Случайный лес без учета дисбаланса"
   ]
  },
  {
   "cell_type": "markdown",
   "metadata": {},
   "source": [
    "Случайный лес обычно дает более точные предсказания, хотя он дольше работает, поэтому на перебор сочетаний гипермпараметров уйдет больше времени, даже несмотря на то, что мы перебираем не все подряд гиперпараметры. "
   ]
  },
  {
   "cell_type": "markdown",
   "metadata": {},
   "source": [
    "Проверим, какую точность даст случайный лес, обученный на данных OHE:"
   ]
  },
  {
   "cell_type": "code",
   "execution_count": 31,
   "metadata": {},
   "outputs": [
    {
     "name": "stdout",
     "output_type": "stream",
     "text": [
      "CPU times: user 3min 21s, sys: 1.29 s, total: 3min 22s\n",
      "Wall time: 3min 23s\n"
     ]
    },
    {
     "data": {
      "text/html": [
       "<div>\n",
       "<style scoped>\n",
       "    .dataframe tbody tr th:only-of-type {\n",
       "        vertical-align: middle;\n",
       "    }\n",
       "\n",
       "    .dataframe tbody tr th {\n",
       "        vertical-align: top;\n",
       "    }\n",
       "\n",
       "    .dataframe thead th {\n",
       "        text-align: right;\n",
       "    }\n",
       "</style>\n",
       "<table border=\"1\" class=\"dataframe\">\n",
       "  <thead>\n",
       "    <tr style=\"text-align: right;\">\n",
       "      <th></th>\n",
       "      <th>max_depth</th>\n",
       "      <th>n_estimators</th>\n",
       "      <th>min_samples_split</th>\n",
       "      <th>min_samples_leaf</th>\n",
       "      <th>score</th>\n",
       "      <th>recall_score</th>\n",
       "      <th>precision_score</th>\n",
       "      <th>f1_score</th>\n",
       "      <th>roc_auc_score</th>\n",
       "    </tr>\n",
       "  </thead>\n",
       "  <tbody>\n",
       "    <tr>\n",
       "      <td>0</td>\n",
       "      <td>6</td>\n",
       "      <td>20</td>\n",
       "      <td>2</td>\n",
       "      <td>1</td>\n",
       "      <td>0.8590</td>\n",
       "      <td>0.416667</td>\n",
       "      <td>0.794393</td>\n",
       "      <td>0.546624</td>\n",
       "      <td>0.864602</td>\n",
       "    </tr>\n",
       "    <tr>\n",
       "      <td>1</td>\n",
       "      <td>6</td>\n",
       "      <td>30</td>\n",
       "      <td>2</td>\n",
       "      <td>1</td>\n",
       "      <td>0.8590</td>\n",
       "      <td>0.414216</td>\n",
       "      <td>0.797170</td>\n",
       "      <td>0.545161</td>\n",
       "      <td>0.869130</td>\n",
       "    </tr>\n",
       "    <tr>\n",
       "      <td>2</td>\n",
       "      <td>6</td>\n",
       "      <td>40</td>\n",
       "      <td>2</td>\n",
       "      <td>1</td>\n",
       "      <td>0.8585</td>\n",
       "      <td>0.406863</td>\n",
       "      <td>0.801932</td>\n",
       "      <td>0.539837</td>\n",
       "      <td>0.871086</td>\n",
       "    </tr>\n",
       "    <tr>\n",
       "      <td>3</td>\n",
       "      <td>6</td>\n",
       "      <td>50</td>\n",
       "      <td>2</td>\n",
       "      <td>1</td>\n",
       "      <td>0.8580</td>\n",
       "      <td>0.409314</td>\n",
       "      <td>0.795238</td>\n",
       "      <td>0.540453</td>\n",
       "      <td>0.870197</td>\n",
       "    </tr>\n",
       "    <tr>\n",
       "      <td>4</td>\n",
       "      <td>6</td>\n",
       "      <td>60</td>\n",
       "      <td>2</td>\n",
       "      <td>1</td>\n",
       "      <td>0.8565</td>\n",
       "      <td>0.394608</td>\n",
       "      <td>0.800995</td>\n",
       "      <td>0.528736</td>\n",
       "      <td>0.870458</td>\n",
       "    </tr>\n",
       "    <tr>\n",
       "      <td>...</td>\n",
       "      <td>...</td>\n",
       "      <td>...</td>\n",
       "      <td>...</td>\n",
       "      <td>...</td>\n",
       "      <td>...</td>\n",
       "      <td>...</td>\n",
       "      <td>...</td>\n",
       "      <td>...</td>\n",
       "      <td>...</td>\n",
       "    </tr>\n",
       "    <tr>\n",
       "      <td>400</td>\n",
       "      <td>14</td>\n",
       "      <td>60</td>\n",
       "      <td>6</td>\n",
       "      <td>5</td>\n",
       "      <td>0.8635</td>\n",
       "      <td>0.475490</td>\n",
       "      <td>0.766798</td>\n",
       "      <td>0.586989</td>\n",
       "      <td>0.872760</td>\n",
       "    </tr>\n",
       "    <tr>\n",
       "      <td>401</td>\n",
       "      <td>14</td>\n",
       "      <td>70</td>\n",
       "      <td>6</td>\n",
       "      <td>5</td>\n",
       "      <td>0.8640</td>\n",
       "      <td>0.473039</td>\n",
       "      <td>0.772000</td>\n",
       "      <td>0.586626</td>\n",
       "      <td>0.873653</td>\n",
       "    </tr>\n",
       "    <tr>\n",
       "      <td>402</td>\n",
       "      <td>14</td>\n",
       "      <td>80</td>\n",
       "      <td>6</td>\n",
       "      <td>5</td>\n",
       "      <td>0.8660</td>\n",
       "      <td>0.475490</td>\n",
       "      <td>0.782258</td>\n",
       "      <td>0.591463</td>\n",
       "      <td>0.874249</td>\n",
       "    </tr>\n",
       "    <tr>\n",
       "      <td>403</td>\n",
       "      <td>14</td>\n",
       "      <td>90</td>\n",
       "      <td>6</td>\n",
       "      <td>5</td>\n",
       "      <td>0.8655</td>\n",
       "      <td>0.473039</td>\n",
       "      <td>0.781377</td>\n",
       "      <td>0.589313</td>\n",
       "      <td>0.874187</td>\n",
       "    </tr>\n",
       "    <tr>\n",
       "      <td>404</td>\n",
       "      <td>14</td>\n",
       "      <td>100</td>\n",
       "      <td>6</td>\n",
       "      <td>5</td>\n",
       "      <td>0.8650</td>\n",
       "      <td>0.468137</td>\n",
       "      <td>0.782787</td>\n",
       "      <td>0.585890</td>\n",
       "      <td>0.874532</td>\n",
       "    </tr>\n",
       "  </tbody>\n",
       "</table>\n",
       "<p>405 rows × 9 columns</p>\n",
       "</div>"
      ],
      "text/plain": [
       "     max_depth  n_estimators  min_samples_split  min_samples_leaf   score  \\\n",
       "0            6            20                  2                 1  0.8590   \n",
       "1            6            30                  2                 1  0.8590   \n",
       "2            6            40                  2                 1  0.8585   \n",
       "3            6            50                  2                 1  0.8580   \n",
       "4            6            60                  2                 1  0.8565   \n",
       "..         ...           ...                ...               ...     ...   \n",
       "400         14            60                  6                 5  0.8635   \n",
       "401         14            70                  6                 5  0.8640   \n",
       "402         14            80                  6                 5  0.8660   \n",
       "403         14            90                  6                 5  0.8655   \n",
       "404         14           100                  6                 5  0.8650   \n",
       "\n",
       "     recall_score  precision_score  f1_score  roc_auc_score  \n",
       "0        0.416667         0.794393  0.546624       0.864602  \n",
       "1        0.414216         0.797170  0.545161       0.869130  \n",
       "2        0.406863         0.801932  0.539837       0.871086  \n",
       "3        0.409314         0.795238  0.540453       0.870197  \n",
       "4        0.394608         0.800995  0.528736       0.870458  \n",
       "..            ...              ...       ...            ...  \n",
       "400      0.475490         0.766798  0.586989       0.872760  \n",
       "401      0.473039         0.772000  0.586626       0.873653  \n",
       "402      0.475490         0.782258  0.591463       0.874249  \n",
       "403      0.473039         0.781377  0.589313       0.874187  \n",
       "404      0.468137         0.782787  0.585890       0.874532  \n",
       "\n",
       "[405 rows x 9 columns]"
      ]
     },
     "execution_count": 31,
     "metadata": {},
     "output_type": "execute_result"
    }
   ],
   "source": [
    "%%time\n",
    "\n",
    "forest_depth_col = []\n",
    "forest_estim_col = []\n",
    "forest_min_leaf_col = []\n",
    "forest_min_split_col = []\n",
    "forest_score_col = []\n",
    "forest_f1_col = []\n",
    "forest_recall_col = []\n",
    "forest_precision_col = []\n",
    "forest_roc_auc_col = []\n",
    "\n",
    "for depth in range(6,16,2):\n",
    "    for min_leaf in range(1, 6, 2):\n",
    "        for min_split in range(2,8,2):\n",
    "            for estim in range(20, 110, 10):\n",
    "                model_forest_ohe = RandomForestClassifier(n_estimators = estim, max_depth = depth, min_samples_split = min_split, min_samples_leaf = min_leaf, random_state = random)\n",
    "                model_forest_ohe.fit(ohe_features_train, ohe_target_train)\n",
    "                predicted_valid_forest_ohe = model_forest_ohe.predict(ohe_features_valid)\n",
    "                score_forest = model_forest_ohe.score(ohe_features_valid, ohe_target_valid)\n",
    "                recall_score_forest = recall_score(ohe_target_valid, predicted_valid_forest_ohe)\n",
    "                precision_score_forest = precision_score(ohe_target_valid, predicted_valid_forest_ohe)\n",
    "                probabilities_forest_ohe = model_forest_ohe.predict_proba(ohe_features_valid)\n",
    "                probabilities_one_forest_ohe = probabilities_forest_ohe[:, 1]\n",
    "                roc_auc_score_forest = roc_auc_score(ohe_target_valid, probabilities_one_forest_ohe)\n",
    "                f1_forest = f1_score(ohe_target_valid, predicted_valid_forest_ohe)\n",
    "                forest_depth_col.append(depth)\n",
    "                forest_min_leaf_col.append(min_leaf)\n",
    "                forest_min_split_col.append(min_split)\n",
    "                forest_estim_col.append(estim)\n",
    "                forest_score_col.append(score_forest)\n",
    "                forest_recall_col.append(recall_score_forest)\n",
    "                forest_precision_col.append(precision_score_forest)\n",
    "                forest_f1_col.append(f1_forest)\n",
    "                forest_roc_auc_col.append(roc_auc_score_forest)\n",
    "        \n",
    "        \n",
    "ohe_forest_hyperparameters_dict = {\n",
    "    'max_depth': forest_depth_col, \n",
    "    'n_estimators': forest_estim_col, \n",
    "    'min_samples_split': forest_min_split_col, \n",
    "    'min_samples_leaf': forest_min_leaf_col, \n",
    "    'score': forest_score_col,\n",
    "    'recall_score': forest_recall_col,\n",
    "    'precision_score': forest_precision_col,\n",
    "    'f1_score': forest_f1_col, \n",
    "    'roc_auc_score': forest_roc_auc_col}\n",
    "ohe_forest_hyperparameters = pd.DataFrame(data = ohe_forest_hyperparameters_dict)\n",
    "ohe_forest_hyperparameters"
   ]
  },
  {
   "cell_type": "markdown",
   "metadata": {},
   "source": [
    "Посмотрим, какие результаты выдаст случайный лес на основе данных, обработанных с помощью порядкового кодирования:"
   ]
  },
  {
   "cell_type": "code",
   "execution_count": 32,
   "metadata": {},
   "outputs": [
    {
     "name": "stdout",
     "output_type": "stream",
     "text": [
      "CPU times: user 3min 57s, sys: 2 s, total: 3min 59s\n",
      "Wall time: 3min 59s\n"
     ]
    },
    {
     "data": {
      "text/html": [
       "<div>\n",
       "<style scoped>\n",
       "    .dataframe tbody tr th:only-of-type {\n",
       "        vertical-align: middle;\n",
       "    }\n",
       "\n",
       "    .dataframe tbody tr th {\n",
       "        vertical-align: top;\n",
       "    }\n",
       "\n",
       "    .dataframe thead th {\n",
       "        text-align: right;\n",
       "    }\n",
       "</style>\n",
       "<table border=\"1\" class=\"dataframe\">\n",
       "  <thead>\n",
       "    <tr style=\"text-align: right;\">\n",
       "      <th></th>\n",
       "      <th>max_depth</th>\n",
       "      <th>n_estimators</th>\n",
       "      <th>min_samples_split</th>\n",
       "      <th>min_samples_leaf</th>\n",
       "      <th>score</th>\n",
       "      <th>recall_score</th>\n",
       "      <th>precision_score</th>\n",
       "      <th>f1_score</th>\n",
       "      <th>roc_auc_score</th>\n",
       "    </tr>\n",
       "  </thead>\n",
       "  <tbody>\n",
       "    <tr>\n",
       "      <td>0</td>\n",
       "      <td>6</td>\n",
       "      <td>20</td>\n",
       "      <td>2</td>\n",
       "      <td>1</td>\n",
       "      <td>0.855333</td>\n",
       "      <td>0.372549</td>\n",
       "      <td>0.820144</td>\n",
       "      <td>0.512360</td>\n",
       "      <td>0.863974</td>\n",
       "    </tr>\n",
       "    <tr>\n",
       "      <td>1</td>\n",
       "      <td>6</td>\n",
       "      <td>30</td>\n",
       "      <td>2</td>\n",
       "      <td>1</td>\n",
       "      <td>0.853333</td>\n",
       "      <td>0.372549</td>\n",
       "      <td>0.802817</td>\n",
       "      <td>0.508929</td>\n",
       "      <td>0.863585</td>\n",
       "    </tr>\n",
       "    <tr>\n",
       "      <td>2</td>\n",
       "      <td>6</td>\n",
       "      <td>40</td>\n",
       "      <td>2</td>\n",
       "      <td>1</td>\n",
       "      <td>0.854667</td>\n",
       "      <td>0.379085</td>\n",
       "      <td>0.805556</td>\n",
       "      <td>0.515556</td>\n",
       "      <td>0.865515</td>\n",
       "    </tr>\n",
       "    <tr>\n",
       "      <td>3</td>\n",
       "      <td>6</td>\n",
       "      <td>50</td>\n",
       "      <td>2</td>\n",
       "      <td>1</td>\n",
       "      <td>0.854000</td>\n",
       "      <td>0.385621</td>\n",
       "      <td>0.791946</td>\n",
       "      <td>0.518681</td>\n",
       "      <td>0.864732</td>\n",
       "    </tr>\n",
       "    <tr>\n",
       "      <td>4</td>\n",
       "      <td>6</td>\n",
       "      <td>60</td>\n",
       "      <td>2</td>\n",
       "      <td>1</td>\n",
       "      <td>0.853333</td>\n",
       "      <td>0.382353</td>\n",
       "      <td>0.790541</td>\n",
       "      <td>0.515419</td>\n",
       "      <td>0.864233</td>\n",
       "    </tr>\n",
       "    <tr>\n",
       "      <td>...</td>\n",
       "      <td>...</td>\n",
       "      <td>...</td>\n",
       "      <td>...</td>\n",
       "      <td>...</td>\n",
       "      <td>...</td>\n",
       "      <td>...</td>\n",
       "      <td>...</td>\n",
       "      <td>...</td>\n",
       "      <td>...</td>\n",
       "    </tr>\n",
       "    <tr>\n",
       "      <td>400</td>\n",
       "      <td>14</td>\n",
       "      <td>60</td>\n",
       "      <td>6</td>\n",
       "      <td>5</td>\n",
       "      <td>0.861333</td>\n",
       "      <td>0.415033</td>\n",
       "      <td>0.814103</td>\n",
       "      <td>0.549784</td>\n",
       "      <td>0.862816</td>\n",
       "    </tr>\n",
       "    <tr>\n",
       "      <td>401</td>\n",
       "      <td>14</td>\n",
       "      <td>70</td>\n",
       "      <td>6</td>\n",
       "      <td>5</td>\n",
       "      <td>0.862667</td>\n",
       "      <td>0.415033</td>\n",
       "      <td>0.824675</td>\n",
       "      <td>0.552174</td>\n",
       "      <td>0.864157</td>\n",
       "    </tr>\n",
       "    <tr>\n",
       "      <td>402</td>\n",
       "      <td>14</td>\n",
       "      <td>80</td>\n",
       "      <td>6</td>\n",
       "      <td>5</td>\n",
       "      <td>0.861333</td>\n",
       "      <td>0.408497</td>\n",
       "      <td>0.822368</td>\n",
       "      <td>0.545852</td>\n",
       "      <td>0.865050</td>\n",
       "    </tr>\n",
       "    <tr>\n",
       "      <td>403</td>\n",
       "      <td>14</td>\n",
       "      <td>90</td>\n",
       "      <td>6</td>\n",
       "      <td>5</td>\n",
       "      <td>0.860667</td>\n",
       "      <td>0.408497</td>\n",
       "      <td>0.816993</td>\n",
       "      <td>0.544662</td>\n",
       "      <td>0.865649</td>\n",
       "    </tr>\n",
       "    <tr>\n",
       "      <td>404</td>\n",
       "      <td>14</td>\n",
       "      <td>100</td>\n",
       "      <td>6</td>\n",
       "      <td>5</td>\n",
       "      <td>0.860667</td>\n",
       "      <td>0.408497</td>\n",
       "      <td>0.816993</td>\n",
       "      <td>0.544662</td>\n",
       "      <td>0.866692</td>\n",
       "    </tr>\n",
       "  </tbody>\n",
       "</table>\n",
       "<p>405 rows × 9 columns</p>\n",
       "</div>"
      ],
      "text/plain": [
       "     max_depth  n_estimators  min_samples_split  min_samples_leaf     score  \\\n",
       "0            6            20                  2                 1  0.855333   \n",
       "1            6            30                  2                 1  0.853333   \n",
       "2            6            40                  2                 1  0.854667   \n",
       "3            6            50                  2                 1  0.854000   \n",
       "4            6            60                  2                 1  0.853333   \n",
       "..         ...           ...                ...               ...       ...   \n",
       "400         14            60                  6                 5  0.861333   \n",
       "401         14            70                  6                 5  0.862667   \n",
       "402         14            80                  6                 5  0.861333   \n",
       "403         14            90                  6                 5  0.860667   \n",
       "404         14           100                  6                 5  0.860667   \n",
       "\n",
       "     recall_score  precision_score  f1_score  roc_auc_score  \n",
       "0        0.372549         0.820144  0.512360       0.863974  \n",
       "1        0.372549         0.802817  0.508929       0.863585  \n",
       "2        0.379085         0.805556  0.515556       0.865515  \n",
       "3        0.385621         0.791946  0.518681       0.864732  \n",
       "4        0.382353         0.790541  0.515419       0.864233  \n",
       "..            ...              ...       ...            ...  \n",
       "400      0.415033         0.814103  0.549784       0.862816  \n",
       "401      0.415033         0.824675  0.552174       0.864157  \n",
       "402      0.408497         0.822368  0.545852       0.865050  \n",
       "403      0.408497         0.816993  0.544662       0.865649  \n",
       "404      0.408497         0.816993  0.544662       0.866692  \n",
       "\n",
       "[405 rows x 9 columns]"
      ]
     },
     "execution_count": 32,
     "metadata": {},
     "output_type": "execute_result"
    }
   ],
   "source": [
    "%%time\n",
    "\n",
    "forest_depth_col = []\n",
    "forest_estim_col = []\n",
    "forest_min_leaf_col = []\n",
    "forest_min_split_col = []\n",
    "forest_score_col = []\n",
    "forest_f1_col = []\n",
    "forest_recall_col = []\n",
    "forest_precision_col = []\n",
    "forest_roc_auc_col = []\n",
    "\n",
    "for depth in range(6,16,2):\n",
    "    for min_leaf in range(1, 6, 2):\n",
    "        for min_split in range(2,8,2):\n",
    "            for estim in range(20, 110, 10):\n",
    "                model_forest_ordin = RandomForestClassifier(n_estimators = estim, max_depth = depth, min_samples_split = min_split, min_samples_leaf = min_leaf, random_state = random)\n",
    "                model_forest_ordin.fit(ordin_features_train, ordin_target_train)\n",
    "                predicted_valid_forest_ordin = model_forest_ordin.predict(ordin_features_valid)\n",
    "                score_forest = model_forest_ordin.score(ordin_features_valid, ordin_target_valid)\n",
    "                recall_score_forest = recall_score(ordin_target_valid, predicted_valid_forest_ordin)\n",
    "                precision_score_forest = precision_score(ordin_target_valid, predicted_valid_forest_ordin)\n",
    "                probabilities_forest_ordin = model_forest_ordin.predict_proba(ordin_features_valid)\n",
    "                probabilities_one_forest_ordin = probabilities_forest_ordin[:, 1]\n",
    "                roc_auc_score_forest = roc_auc_score(ordin_target_valid, probabilities_one_forest_ordin)\n",
    "                f1_forest = f1_score(ordin_target_valid, predicted_valid_forest_ordin)\n",
    "                forest_depth_col.append(depth)\n",
    "                forest_min_leaf_col.append(min_leaf)\n",
    "                forest_min_split_col.append(min_split)\n",
    "                forest_estim_col.append(estim)\n",
    "                forest_score_col.append(score_forest)\n",
    "                forest_recall_col.append(recall_score_forest)\n",
    "                forest_precision_col.append(precision_score_forest)\n",
    "                forest_f1_col.append(f1_forest)\n",
    "                forest_roc_auc_col.append(roc_auc_score_forest)\n",
    "        \n",
    "        \n",
    "ordin_forest_hyperparameters_dict = {\n",
    "    'max_depth': forest_depth_col, \n",
    "    'n_estimators': forest_estim_col, \n",
    "    'min_samples_split': forest_min_split_col, \n",
    "    'min_samples_leaf': forest_min_leaf_col, \n",
    "    'score': forest_score_col,\n",
    "    'recall_score': forest_recall_col,\n",
    "    'precision_score': forest_precision_col,\n",
    "    'f1_score': forest_f1_col, \n",
    "    'roc_auc_score': forest_roc_auc_col}\n",
    "ordin_forest_hyperparameters = pd.DataFrame(data = ordin_forest_hyperparameters_dict)\n",
    "ordin_forest_hyperparameters"
   ]
  },
  {
   "cell_type": "code",
   "execution_count": 33,
   "metadata": {},
   "outputs": [
    {
     "data": {
      "text/html": [
       "<div>\n",
       "<style scoped>\n",
       "    .dataframe tbody tr th:only-of-type {\n",
       "        vertical-align: middle;\n",
       "    }\n",
       "\n",
       "    .dataframe tbody tr th {\n",
       "        vertical-align: top;\n",
       "    }\n",
       "\n",
       "    .dataframe thead th {\n",
       "        text-align: right;\n",
       "    }\n",
       "</style>\n",
       "<table border=\"1\" class=\"dataframe\">\n",
       "  <thead>\n",
       "    <tr style=\"text-align: right;\">\n",
       "      <th></th>\n",
       "      <th>max_depth</th>\n",
       "      <th>n_estimators</th>\n",
       "      <th>min_samples_split</th>\n",
       "      <th>min_samples_leaf</th>\n",
       "      <th>score</th>\n",
       "      <th>recall_score</th>\n",
       "      <th>precision_score</th>\n",
       "      <th>f1_score</th>\n",
       "      <th>roc_auc_score</th>\n",
       "    </tr>\n",
       "  </thead>\n",
       "  <tbody>\n",
       "    <tr>\n",
       "      <td>324</td>\n",
       "      <td>14</td>\n",
       "      <td>20</td>\n",
       "      <td>2</td>\n",
       "      <td>1</td>\n",
       "      <td>0.861333</td>\n",
       "      <td>0.444444</td>\n",
       "      <td>0.781609</td>\n",
       "      <td>0.566667</td>\n",
       "      <td>0.851344</td>\n",
       "    </tr>\n",
       "  </tbody>\n",
       "</table>\n",
       "</div>"
      ],
      "text/plain": [
       "     max_depth  n_estimators  min_samples_split  min_samples_leaf     score  \\\n",
       "324         14            20                  2                 1  0.861333   \n",
       "\n",
       "     recall_score  precision_score  f1_score  roc_auc_score  \n",
       "324      0.444444         0.781609  0.566667       0.851344  "
      ]
     },
     "execution_count": 33,
     "metadata": {},
     "output_type": "execute_result"
    }
   ],
   "source": [
    "best_ordin_forest = ordin_forest_hyperparameters.query('f1_score == f1_score.max()')\n",
    "best_ordin_forest"
   ]
  },
  {
   "cell_type": "code",
   "execution_count": 34,
   "metadata": {},
   "outputs": [
    {
     "data": {
      "text/html": [
       "<div>\n",
       "<style scoped>\n",
       "    .dataframe tbody tr th:only-of-type {\n",
       "        vertical-align: middle;\n",
       "    }\n",
       "\n",
       "    .dataframe tbody tr th {\n",
       "        vertical-align: top;\n",
       "    }\n",
       "\n",
       "    .dataframe thead th {\n",
       "        text-align: right;\n",
       "    }\n",
       "</style>\n",
       "<table border=\"1\" class=\"dataframe\">\n",
       "  <thead>\n",
       "    <tr style=\"text-align: right;\">\n",
       "      <th></th>\n",
       "      <th>max_depth</th>\n",
       "      <th>n_estimators</th>\n",
       "      <th>min_samples_split</th>\n",
       "      <th>min_samples_leaf</th>\n",
       "      <th>score</th>\n",
       "      <th>recall_score</th>\n",
       "      <th>precision_score</th>\n",
       "      <th>f1_score</th>\n",
       "      <th>roc_auc_score</th>\n",
       "    </tr>\n",
       "  </thead>\n",
       "  <tbody>\n",
       "    <tr>\n",
       "      <td>351</td>\n",
       "      <td>14</td>\n",
       "      <td>20</td>\n",
       "      <td>2</td>\n",
       "      <td>3</td>\n",
       "      <td>0.873</td>\n",
       "      <td>0.514706</td>\n",
       "      <td>0.789474</td>\n",
       "      <td>0.623145</td>\n",
       "      <td>0.865271</td>\n",
       "    </tr>\n",
       "    <tr>\n",
       "      <td>360</td>\n",
       "      <td>14</td>\n",
       "      <td>20</td>\n",
       "      <td>4</td>\n",
       "      <td>3</td>\n",
       "      <td>0.873</td>\n",
       "      <td>0.514706</td>\n",
       "      <td>0.789474</td>\n",
       "      <td>0.623145</td>\n",
       "      <td>0.865271</td>\n",
       "    </tr>\n",
       "    <tr>\n",
       "      <td>369</td>\n",
       "      <td>14</td>\n",
       "      <td>20</td>\n",
       "      <td>6</td>\n",
       "      <td>3</td>\n",
       "      <td>0.873</td>\n",
       "      <td>0.514706</td>\n",
       "      <td>0.789474</td>\n",
       "      <td>0.623145</td>\n",
       "      <td>0.865271</td>\n",
       "    </tr>\n",
       "  </tbody>\n",
       "</table>\n",
       "</div>"
      ],
      "text/plain": [
       "     max_depth  n_estimators  min_samples_split  min_samples_leaf  score  \\\n",
       "351         14            20                  2                 3  0.873   \n",
       "360         14            20                  4                 3  0.873   \n",
       "369         14            20                  6                 3  0.873   \n",
       "\n",
       "     recall_score  precision_score  f1_score  roc_auc_score  \n",
       "351      0.514706         0.789474  0.623145       0.865271  \n",
       "360      0.514706         0.789474  0.623145       0.865271  \n",
       "369      0.514706         0.789474  0.623145       0.865271  "
      ]
     },
     "execution_count": 34,
     "metadata": {},
     "output_type": "execute_result"
    }
   ],
   "source": [
    "best_ohe_forest = ohe_forest_hyperparameters.query('f1_score == f1_score.max()')\n",
    "best_ohe_forest"
   ]
  },
  {
   "cell_type": "code",
   "execution_count": 35,
   "metadata": {},
   "outputs": [],
   "source": [
    "best_ordin_forest_depth = int(best_ordin_forest['max_depth'].head(1))\n",
    "best_ordin_forest_n_estimators = int(best_ordin_forest['n_estimators'].head(1))\n",
    "best_ordin_forest_split = int(best_ordin_forest['min_samples_split'].head(1))\n",
    "best_ordin_forest_leaf = int(best_ordin_forest['min_samples_leaf'].head(1))\n",
    "\n",
    "best_ohe_forest_depth = int(best_ohe_forest['max_depth'].head(1))\n",
    "best_ohe_forest_n_estimators = int(best_ohe_forest['n_estimators'].head(1))\n",
    "best_ohe_forest_split = int(best_ohe_forest['min_samples_split'].head(1))\n",
    "best_ohe_forest_leaf = int(best_ohe_forest['min_samples_leaf'].head(1))\n"
   ]
  },
  {
   "cell_type": "markdown",
   "metadata": {},
   "source": [
    "Значение f1 метрики составляет более 62 сотых, превышяя пороговое. Примечательно, что, несмотря на то, что техника порядкового кодирования категориальных признаков вроде как должна демонстрировать лучшие результаты при использовании алгоритмов дерева решений или случайного леса, лучший результат получен на основе данных, обработанных с помощью прямого кодирования."
   ]
  },
  {
   "cell_type": "markdown",
   "metadata": {},
   "source": [
    "Проверим, какое значение получится на тестовой выборке. Обучим модель на основе алогоритма с гиперпараметрами, при которых получилось наибольшее значение f1-метрики. Заодно сразу вызовем матрицу ошибок."
   ]
  },
  {
   "cell_type": "code",
   "execution_count": 36,
   "metadata": {},
   "outputs": [
    {
     "data": {
      "text/plain": [
       "array([[1156,   38],\n",
       "       [ 170,  136]])"
      ]
     },
     "execution_count": 36,
     "metadata": {},
     "output_type": "execute_result"
    }
   ],
   "source": [
    "best_ordin_forest_model = RandomForestClassifier(\n",
    "    max_depth = best_ordin_forest_depth, \n",
    "    n_estimators = best_ordin_forest_n_estimators, \n",
    "    min_samples_split = best_ordin_forest_split, \n",
    "    min_samples_leaf = best_ordin_forest_leaf, \n",
    "    random_state = random)\n",
    "best_ordin_forest_model.fit(ordin_features_train, ordin_target_train)\n",
    "best_ordin_predicted_valid = best_ordin_forest_model.predict(ordin_features_valid)\n",
    "confusion_matrix(ordin_target_valid, best_ordin_predicted_valid)"
   ]
  },
  {
   "cell_type": "code",
   "execution_count": 37,
   "metadata": {},
   "outputs": [
    {
     "data": {
      "text/plain": [
       "array([[1135,   60],\n",
       "       [ 151,  154]])"
      ]
     },
     "execution_count": 37,
     "metadata": {},
     "output_type": "execute_result"
    }
   ],
   "source": [
    "best_ordin_predicted_test = best_ordin_forest_model.predict(ordin_features_test)\n",
    "confusion_matrix(ordin_target_test, best_ordin_predicted_test)"
   ]
  },
  {
   "cell_type": "code",
   "execution_count": 38,
   "metadata": {},
   "outputs": [
    {
     "data": {
      "text/plain": [
       "0.5934489402697495"
      ]
     },
     "execution_count": 38,
     "metadata": {},
     "output_type": "execute_result"
    }
   ],
   "source": [
    "f1_score(ordin_target_test, best_ordin_predicted_test)"
   ]
  },
  {
   "cell_type": "markdown",
   "metadata": {},
   "source": [
    "Видим, что f1-метрика на тестовом наборе данных, обработанных порядковой техникой кодирования, демонстирует гораздо большее значение, чем на валидационной. Это не совсем тривиальное развитие событий.  \n",
    "Мы не будем рассматривать этот вариант модели как успешный, по причине того, что проверили f1 метрику на всякий случай. При прочих равных, будь в нашем арсенале больше методов или алгоритмов, мы бы отмели этот вариант по неудовлетворительным результатам, полученным на валидационной выборке.  "
   ]
  },
  {
   "cell_type": "markdown",
   "metadata": {},
   "source": [
    "<font color='green'>Да, действительно, ориентироваться нужно только на валидационную выборку. Тестовая выборка нужна только для оценивания качества лучшей модели.</font>"
   ]
  },
  {
   "cell_type": "code",
   "execution_count": 39,
   "metadata": {},
   "outputs": [
    {
     "data": {
      "text/plain": [
       "array([[1536,   56],\n",
       "       [ 198,  210]])"
      ]
     },
     "execution_count": 39,
     "metadata": {},
     "output_type": "execute_result"
    }
   ],
   "source": [
    "best_ohe_forest_model = RandomForestClassifier(\n",
    "    max_depth = best_ohe_forest_depth, \n",
    "    n_estimators = best_ohe_forest_n_estimators, \n",
    "    min_samples_split = best_ohe_forest_split, \n",
    "    min_samples_leaf = best_ohe_forest_leaf, \n",
    "    random_state = random)\n",
    "best_ohe_forest_model.fit(ohe_features_train, ohe_target_train)\n",
    "best_ohe_predicted_valid = best_ohe_forest_model.predict(ohe_features_valid)\n",
    "confusion_matrix(ohe_target_valid, best_ohe_predicted_valid)"
   ]
  },
  {
   "cell_type": "code",
   "execution_count": 40,
   "metadata": {},
   "outputs": [
    {
     "data": {
      "text/plain": [
       "array([[1529,   64],\n",
       "       [ 230,  177]])"
      ]
     },
     "execution_count": 40,
     "metadata": {},
     "output_type": "execute_result"
    }
   ],
   "source": [
    "best_ohe_predicted_test = best_ohe_forest_model.predict(ohe_features_test)\n",
    "confusion_matrix(ohe_target_test, best_ohe_predicted_test)"
   ]
  },
  {
   "cell_type": "code",
   "execution_count": 41,
   "metadata": {},
   "outputs": [
    {
     "data": {
      "text/plain": [
       "0.5462962962962963"
      ]
     },
     "execution_count": 41,
     "metadata": {},
     "output_type": "execute_result"
    }
   ],
   "source": [
    "f1_score(ohe_target_test, best_ohe_predicted_test)"
   ]
  },
  {
   "cell_type": "markdown",
   "metadata": {},
   "source": [
    "Модель, обученная на данных, обработанных с помощью OHE, демонстрирует неудовлетворительный результат. \n",
    "\n",
    "Обратимся к вызванным нами матрицам ошибок: из них можно заметить, что во всех случаях ошибок первого рода не так много, в то время как ложноотрицательных значений заметно больше, и по количеству они сопоставимы с истинно положительными.  \n",
    "Можно также наблюдать, что понижение качества предсказания в случае с OHE обусловленно в первую очередь перераспределением результатов от истинно положительных к ложноотрицательным. То есть ухудшение качество происходит из-за того, что склонна не замечать положительные ответы и с изменением набора признаков эта склонность усугубляется.  \n",
    "Все это позволяет нам определить, что основной потенциал улучшения качества - в улучшении способности модели определять положительные значения."
   ]
  },
  {
   "cell_type": "markdown",
   "metadata": {},
   "source": [
    "Примечательно, что показатель площади под кривой ROC практически не изменился, несмотря на значительное понижение метрики f1. "
   ]
  },
  {
   "cell_type": "code",
   "execution_count": 42,
   "metadata": {},
   "outputs": [
    {
     "data": {
      "image/png": "[encoded data removed]",
      "text/plain": [
       "<Figure size 432x288 with 1 Axes>"
      ]
     },
     "metadata": {
      "needs_background": "light"
     },
     "output_type": "display_data"
    }
   ],
   "source": [
    "probabilities_forest_valid = best_ohe_forest_model.predict_proba(ohe_features_valid)\n",
    "probabilities_one_forest_valid = probabilities_tree_valid[:, 1]\n",
    "\n",
    "fpr, tpr, thresholds = roc_curve(ohe_target_valid, probabilities_one_forest_valid)\n",
    "\n",
    "plt.figure()\n",
    "plt.plot(fpr, tpr)\n",
    "plt.plot([0, 1], [0, 1], linestyle='--')\n",
    "plt.xlim([0.0, 1.0])\n",
    "plt.ylim([0.0, 1.0])\n",
    "plt.xlabel('False Positive Rate')\n",
    "plt.ylabel('True Positive Rate')\n",
    "plt.title('ROC-кривая')\n",
    "plt.show()"
   ]
  },
  {
   "cell_type": "code",
   "execution_count": 43,
   "metadata": {},
   "outputs": [
    {
     "data": {
      "text/plain": [
       "0.8427038686077446"
      ]
     },
     "execution_count": 43,
     "metadata": {},
     "output_type": "execute_result"
    }
   ],
   "source": [
    "roc_auc_score(ohe_target_valid, probabilities_one_forest_valid)"
   ]
  },
  {
   "cell_type": "code",
   "execution_count": 44,
   "metadata": {},
   "outputs": [
    {
     "data": {
      "image/png": "[encoded data removed]",
      "text/plain": [
       "<Figure size 432x288 with 1 Axes>"
      ]
     },
     "metadata": {
      "needs_background": "light"
     },
     "output_type": "display_data"
    }
   ],
   "source": [
    "probabilities_forest_test = best_ohe_forest_model.predict_proba(ohe_features_test)\n",
    "probabilities_one_forest_test = probabilities_forest_test[:, 1]\n",
    "\n",
    "fpr, tpr, thresholds = roc_curve(ohe_target_test, probabilities_one_forest_test)\n",
    "\n",
    "plt.figure()\n",
    "plt.plot(fpr, tpr)\n",
    "plt.plot([0, 1], [0, 1], linestyle='--')\n",
    "plt.xlim([0.0, 1.0])\n",
    "plt.ylim([0.0, 1.0])\n",
    "plt.xlabel('False Positive Rate')\n",
    "plt.ylabel('True Positive Rate')\n",
    "plt.title('ROC-кривая')\n",
    "plt.show()"
   ]
  },
  {
   "cell_type": "code",
   "execution_count": 45,
   "metadata": {},
   "outputs": [
    {
     "data": {
      "text/plain": [
       "0.8434158349412586"
      ]
     },
     "execution_count": 45,
     "metadata": {},
     "output_type": "execute_result"
    }
   ],
   "source": [
    "roc_auc_score(ohe_target_test, probabilities_one_forest_test)"
   ]
  },
  {
   "cell_type": "code",
   "execution_count": 46,
   "metadata": {},
   "outputs": [
    {
     "name": "stdout",
     "output_type": "stream",
     "text": [
      "ohe\n",
      "0.8703551990465521\n",
      "0.8705799216671593\n",
      "\n",
      "ordin\n",
      "0.8649279744157728\n",
      "0.8651317590129296\n"
     ]
    }
   ],
   "source": [
    "print('ohe')\n",
    "print(ohe_forest_hyperparameters['roc_auc_score'].mean())\n",
    "print(ohe_forest_hyperparameters['roc_auc_score'].median())\n",
    "print()\n",
    "print('ordin')\n",
    "print(ordin_forest_hyperparameters['roc_auc_score'].mean())\n",
    "print(ordin_forest_hyperparameters['roc_auc_score'].median())"
   ]
  },
  {
   "cell_type": "markdown",
   "metadata": {},
   "source": [
    "В целом, как и в случае с деревьями решений, при не очень высоких значениях f1 значения roc-auc весьма высоки. "
   ]
  },
  {
   "cell_type": "markdown",
   "metadata": {},
   "source": [
    "<font color='green'>Очень подробное исследование, выше всяких похвал :) </font>\n"
   ]
  },
  {
   "cell_type": "markdown",
   "metadata": {},
   "source": [
    "### Логистическая регрессия без учета дисбаланса"
   ]
  },
  {
   "cell_type": "markdown",
   "metadata": {},
   "source": [
    "Построим логистическую регрессию. Данные, обработанные порядковым кодированием, применять не будем."
   ]
  },
  {
   "cell_type": "code",
   "execution_count": 47,
   "metadata": {},
   "outputs": [
    {
     "data": {
      "text/plain": [
       "0.3076923076923077"
      ]
     },
     "execution_count": 47,
     "metadata": {},
     "output_type": "execute_result"
    }
   ],
   "source": [
    "model_reg = LogisticRegression(solver = 'liblinear')\n",
    "model_reg.fit(ohe_features_train, ohe_target_train)\n",
    "predicted_valid_reg = model_reg.predict(ohe_features_valid)\n",
    "f1_score(ohe_target_valid, predicted_valid_reg)"
   ]
  },
  {
   "cell_type": "markdown",
   "metadata": {},
   "source": [
    "Результат заметно ниже, чем у других алгоритмов."
   ]
  },
  {
   "cell_type": "markdown",
   "metadata": {},
   "source": [
    "### Выводы"
   ]
  },
  {
   "cell_type": "markdown",
   "metadata": {},
   "source": [
    "Потенциал для увеличения качества модели - в борьбе с дисбалансом. Лучшие результаты продемонстировал случайный лес на основе данных, обработанных OHE."
   ]
  },
  {
   "cell_type": "markdown",
   "metadata": {},
   "source": [
    "# 3. Борьба с дисбалансом"
   ]
  },
  {
   "cell_type": "markdown",
   "metadata": {},
   "source": [
    "Применим методы борьбы с дисбалансом классов. Случайный лес, обученный на данных, обработанных с помощью прямого кодирования, продемонстрировал лучший результат. Сосредоточимся на нем."
   ]
  },
  {
   "cell_type": "markdown",
   "metadata": {},
   "source": [
    "### Взвешивание классов"
   ]
  },
  {
   "cell_type": "markdown",
   "metadata": {},
   "source": [
    "Попробуем побороть дисбаланс, используя возможности RandomForestClassifier, а именно аргумент class_weight."
   ]
  },
  {
   "cell_type": "code",
   "execution_count": 48,
   "metadata": {},
   "outputs": [
    {
     "data": {
      "text/plain": [
       "0.6226175349428209"
      ]
     },
     "execution_count": 48,
     "metadata": {},
     "output_type": "execute_result"
    }
   ],
   "source": [
    "best_ohe_forest_model_balanced = RandomForestClassifier(\n",
    "    max_depth = best_ohe_forest_depth, \n",
    "    n_estimators = best_ohe_forest_n_estimators, \n",
    "    min_samples_split = best_ohe_forest_split, \n",
    "    min_samples_leaf = best_ohe_forest_leaf, \n",
    "    random_state = random, class_weight = 'balanced')\n",
    "best_ohe_forest_model_balanced.fit(ohe_features_train, ohe_target_train)\n",
    "best_ohe_predicted_valid_balanced = best_ohe_forest_model_balanced.predict(ohe_features_valid)\n",
    "f1_score(ohe_target_valid, best_ohe_predicted_valid_balanced)"
   ]
  },
  {
   "cell_type": "markdown",
   "metadata": {},
   "source": [
    "Результат на валидационной выборке получился неплохим, однако на тестовом наборе данных значение f1 падает."
   ]
  },
  {
   "cell_type": "code",
   "execution_count": 49,
   "metadata": {},
   "outputs": [
    {
     "data": {
      "text/plain": [
       "0.5758754863813229"
      ]
     },
     "execution_count": 49,
     "metadata": {},
     "output_type": "execute_result"
    }
   ],
   "source": [
    "best_ohe_predicted_test_balanced = best_ohe_forest_model_balanced.predict(ohe_features_test)\n",
    "f1_score(ohe_target_test, best_ohe_predicted_test_balanced)"
   ]
  },
  {
   "cell_type": "markdown",
   "metadata": {},
   "source": [
    "<font color='blue'>К тестовой выборке лучше обращаться только в самом конце, после выбора наилучшей модели на валидации. </font>"
   ]
  },
  {
   "cell_type": "markdown",
   "metadata": {},
   "source": [
    "На всякий случай проверим, как с указанием этого агумента сработает логистическая регрессия:"
   ]
  },
  {
   "cell_type": "code",
   "execution_count": 50,
   "metadata": {},
   "outputs": [
    {
     "data": {
      "text/plain": [
       "0.5289982425307558"
      ]
     },
     "execution_count": 50,
     "metadata": {},
     "output_type": "execute_result"
    }
   ],
   "source": [
    "model_reg2 = LogisticRegression(solver = 'liblinear', class_weight = 'balanced')\n",
    "model_reg2.fit(ohe_features_train, ohe_target_train)\n",
    "predicted_valid_reg2 = model_reg2.predict(ohe_features_valid)\n",
    "f1_score(ohe_target_valid, predicted_valid_reg2)"
   ]
  },
  {
   "cell_type": "markdown",
   "metadata": {},
   "source": [
    "Результат гораздо выше, чем без балансировки классов в логистической регрессии, но все равно заметно ниже порогового."
   ]
  },
  {
   "cell_type": "markdown",
   "metadata": {},
   "source": [
    "### Увеличение выборки"
   ]
  },
  {
   "cell_type": "markdown",
   "metadata": {},
   "source": [
    "Применим метод увеличения выборки за счет строк с положительным целевым признаком. Для этого напишем функцию, принимающую на вход набор данных с нецелевыми признаками, набор с целевым признаком и множитель строк с положительным целевым признаком, и выдающий два набора - с целевым и нецелевыми признаками - с увеличенным количеством строк с положительным целевым признаком."
   ]
  },
  {
   "cell_type": "code",
   "execution_count": 51,
   "metadata": {},
   "outputs": [],
   "source": [
    "def upsampling(features, target, repeat):\n",
    "    features_zeros = features[target == 0]\n",
    "    features_ones = features[target == 1]\n",
    "    target_zeros = target[target == 0]\n",
    "    target_ones = target[target == 1]\n",
    "\n",
    "    features_upsampled = pd.concat([features_zeros] + [features_ones] * repeat)\n",
    "    target_upsampled = pd.concat([target_zeros] + [target_ones] * repeat)\n",
    "    \n",
    "    features_upsampled, target_upsampled = shuffle(\n",
    "        features_upsampled, target_upsampled, random_state=12345)\n",
    "    \n",
    "    return features_upsampled, target_upsampled"
   ]
  },
  {
   "cell_type": "markdown",
   "metadata": {},
   "source": [
    "Рассчитаем множитель repeat таким образом, чтобы доли нулей и единиц в целевом признаке были приблизительно равны.  \n",
    "Точного разбиения 50/50 у нас может не получиться, потому что множитель будет целым числом и его придется округлить."
   ]
  },
  {
   "cell_type": "code",
   "execution_count": 52,
   "metadata": {},
   "outputs": [
    {
     "data": {
      "text/plain": [
       "4"
      ]
     },
     "execution_count": 52,
     "metadata": {},
     "output_type": "execute_result"
    }
   ],
   "source": [
    "exited_ones = df_ohe.query('exited == 1')['exited'].count()\n",
    "exited_zeros = df_ohe['exited'].count() - exited_ones\n",
    "upsampling_repeat = math.ceil(exited_zeros / exited_ones)\n",
    "upsampling_repeat"
   ]
  },
  {
   "cell_type": "markdown",
   "metadata": {},
   "source": [
    "Применим функцию."
   ]
  },
  {
   "cell_type": "code",
   "execution_count": 53,
   "metadata": {},
   "outputs": [
    {
     "name": "stdout",
     "output_type": "stream",
     "text": [
      "<class 'pandas.core.frame.DataFrame'>\n",
      "Int64Index: 9666 entries, 6785 to 3142\n",
      "Data columns (total 11 columns):\n",
      "creditscore          9666 non-null float64\n",
      "age                  9666 non-null float64\n",
      "tenure               9666 non-null float64\n",
      "balance              9666 non-null float64\n",
      "numofproducts        9666 non-null float64\n",
      "hascrcard            9666 non-null bool\n",
      "isactivemember       9666 non-null bool\n",
      "estimatedsalary      9666 non-null float64\n",
      "geography_Germany    9666 non-null uint8\n",
      "geography_Spain      9666 non-null uint8\n",
      "gender_Male          9666 non-null uint8\n",
      "dtypes: bool(2), float64(6), uint8(3)\n",
      "memory usage: 575.8 KB\n"
     ]
    }
   ],
   "source": [
    "features_upsampled, target_upsampled = upsampling(ohe_features_train, ohe_target_train, upsampling_repeat)\n",
    "features_upsampled.info()"
   ]
  },
  {
   "cell_type": "markdown",
   "metadata": {},
   "source": [
    "Проверим соотношение нулей и единиц целевого признака:"
   ]
  },
  {
   "cell_type": "code",
   "execution_count": 54,
   "metadata": {},
   "outputs": [
    {
     "data": {
      "text/plain": [
       "0.5056900475894889"
      ]
     },
     "execution_count": 54,
     "metadata": {},
     "output_type": "execute_result"
    }
   ],
   "source": [
    "(target_upsampled == 1).sum() / (target_upsampled == 1).count()"
   ]
  },
  {
   "cell_type": "markdown",
   "metadata": {},
   "source": [
    "Соотношение примерно равное, можем попробовать обучить случайный лес и проверим его предсказания на валидационной и тестовой выборках."
   ]
  },
  {
   "cell_type": "code",
   "execution_count": 55,
   "metadata": {},
   "outputs": [
    {
     "data": {
      "text/plain": [
       "0.6271379703534777"
      ]
     },
     "execution_count": 55,
     "metadata": {},
     "output_type": "execute_result"
    }
   ],
   "source": [
    "best_ohe_forest_model.fit(features_upsampled, target_upsampled)\n",
    "predicted_upsampled = best_ohe_forest_model.predict(ohe_features_valid)\n",
    "f1_score(ohe_target_valid, predicted_upsampled)"
   ]
  },
  {
   "cell_type": "code",
   "execution_count": 56,
   "metadata": {},
   "outputs": [
    {
     "data": {
      "text/plain": [
       "0.5908558030480657"
      ]
     },
     "execution_count": 56,
     "metadata": {},
     "output_type": "execute_result"
    }
   ],
   "source": [
    "predicted_upsampled_test = best_ohe_forest_model.predict(ohe_features_test)\n",
    "f1_score(ohe_target_test, predicted_upsampled_test)"
   ]
  },
  {
   "cell_type": "markdown",
   "metadata": {},
   "source": [
    "Метрика f1 на тестовом наборе данных доведена до требуемого порога. Метод upsampling помог.  \n",
    "\n",
    "Однако в наших силах попробовать увеличить точность модели."
   ]
  },
  {
   "cell_type": "markdown",
   "metadata": {},
   "source": [
    "<font color='green'>Замечательно :) </font>\n"
   ]
  },
  {
   "cell_type": "markdown",
   "metadata": {},
   "source": [
    "# 4. Тестирование модели"
   ]
  },
  {
   "cell_type": "markdown",
   "metadata": {},
   "source": [
    "### Увеличение обучающего набора данных"
   ]
  },
  {
   "cell_type": "markdown",
   "metadata": {},
   "source": [
    "До этого момента мы использовали разбиение первоначального набора данных в соотношении 60 / 20 / 20. Случайный лес - не склонный к переобучению алгоритм. Попробуем изменить соотношение на 70 / 15 / 15, увеличим обучающую выборку и проверим, не увеличит ли это качество модели."
   ]
  },
  {
   "cell_type": "markdown",
   "metadata": {},
   "source": [
    "<font color='blue'>Такой подход мне кажется сомнительным. Сравнивать качество моделей, построенных на различных обучающих выборках, и выбирать лучшую из них некорректно. Единственное, что можно было сделать – обучить итоговую модель (из предыдущего раздела) на обучающей+валидационной выборке и измерить ее качество на тестовой выборке.</font>\n"
   ]
  },
  {
   "cell_type": "code",
   "execution_count": 57,
   "metadata": {},
   "outputs": [],
   "source": [
    "ohe_features = df_ohe.drop('exited', axis = 1)\n",
    "ohe_target = df_ohe['exited']\n",
    "ohe_features_train, ohe_features_valid_test, ohe_target_train, ohe_target_valid_test = train_test_split(\n",
    "    ohe_features, ohe_target, \n",
    "    test_size = 0.3, stratify = ohe_target,\n",
    "    random_state = random) \n",
    "ohe_features_valid, ohe_features_test, ohe_target_valid, ohe_target_test = train_test_split(\n",
    "    ohe_features_valid_test, ohe_target_valid_test, \n",
    "    test_size = 0.5, stratify = ohe_target_valid_test,\n",
    "    random_state = random)"
   ]
  },
  {
   "cell_type": "code",
   "execution_count": 58,
   "metadata": {},
   "outputs": [],
   "source": [
    "features_upsampled2, target_upsampled2 = upsampling(ohe_features_train, ohe_target_train, upsampling_repeat)"
   ]
  },
  {
   "cell_type": "code",
   "execution_count": 59,
   "metadata": {},
   "outputs": [
    {
     "name": "stdout",
     "output_type": "stream",
     "text": [
      "CPU times: user 5min 31s, sys: 996 ms, total: 5min 32s\n",
      "Wall time: 5min 38s\n"
     ]
    },
    {
     "data": {
      "text/html": [
       "<div>\n",
       "<style scoped>\n",
       "    .dataframe tbody tr th:only-of-type {\n",
       "        vertical-align: middle;\n",
       "    }\n",
       "\n",
       "    .dataframe tbody tr th {\n",
       "        vertical-align: top;\n",
       "    }\n",
       "\n",
       "    .dataframe thead th {\n",
       "        text-align: right;\n",
       "    }\n",
       "</style>\n",
       "<table border=\"1\" class=\"dataframe\">\n",
       "  <thead>\n",
       "    <tr style=\"text-align: right;\">\n",
       "      <th></th>\n",
       "      <th>max_depth</th>\n",
       "      <th>n_estimators</th>\n",
       "      <th>min_samples_split</th>\n",
       "      <th>min_samples_leaf</th>\n",
       "      <th>score</th>\n",
       "      <th>recall_score</th>\n",
       "      <th>precision_score</th>\n",
       "      <th>f1_score</th>\n",
       "      <th>roc_auc_score</th>\n",
       "    </tr>\n",
       "  </thead>\n",
       "  <tbody>\n",
       "    <tr>\n",
       "      <td>0</td>\n",
       "      <td>6</td>\n",
       "      <td>20</td>\n",
       "      <td>2</td>\n",
       "      <td>1</td>\n",
       "      <td>0.800667</td>\n",
       "      <td>0.735294</td>\n",
       "      <td>0.507901</td>\n",
       "      <td>0.600801</td>\n",
       "      <td>0.863819</td>\n",
       "    </tr>\n",
       "    <tr>\n",
       "      <td>1</td>\n",
       "      <td>6</td>\n",
       "      <td>30</td>\n",
       "      <td>2</td>\n",
       "      <td>1</td>\n",
       "      <td>0.802667</td>\n",
       "      <td>0.751634</td>\n",
       "      <td>0.511111</td>\n",
       "      <td>0.608466</td>\n",
       "      <td>0.865426</td>\n",
       "    </tr>\n",
       "    <tr>\n",
       "      <td>2</td>\n",
       "      <td>6</td>\n",
       "      <td>40</td>\n",
       "      <td>2</td>\n",
       "      <td>1</td>\n",
       "      <td>0.800667</td>\n",
       "      <td>0.751634</td>\n",
       "      <td>0.507726</td>\n",
       "      <td>0.606061</td>\n",
       "      <td>0.865843</td>\n",
       "    </tr>\n",
       "    <tr>\n",
       "      <td>3</td>\n",
       "      <td>6</td>\n",
       "      <td>50</td>\n",
       "      <td>2</td>\n",
       "      <td>1</td>\n",
       "      <td>0.802667</td>\n",
       "      <td>0.764706</td>\n",
       "      <td>0.510917</td>\n",
       "      <td>0.612565</td>\n",
       "      <td>0.866654</td>\n",
       "    </tr>\n",
       "    <tr>\n",
       "      <td>4</td>\n",
       "      <td>6</td>\n",
       "      <td>60</td>\n",
       "      <td>2</td>\n",
       "      <td>1</td>\n",
       "      <td>0.798667</td>\n",
       "      <td>0.761438</td>\n",
       "      <td>0.504329</td>\n",
       "      <td>0.606771</td>\n",
       "      <td>0.865972</td>\n",
       "    </tr>\n",
       "    <tr>\n",
       "      <td>...</td>\n",
       "      <td>...</td>\n",
       "      <td>...</td>\n",
       "      <td>...</td>\n",
       "      <td>...</td>\n",
       "      <td>...</td>\n",
       "      <td>...</td>\n",
       "      <td>...</td>\n",
       "      <td>...</td>\n",
       "      <td>...</td>\n",
       "    </tr>\n",
       "    <tr>\n",
       "      <td>400</td>\n",
       "      <td>14</td>\n",
       "      <td>60</td>\n",
       "      <td>6</td>\n",
       "      <td>5</td>\n",
       "      <td>0.824000</td>\n",
       "      <td>0.656863</td>\n",
       "      <td>0.558333</td>\n",
       "      <td>0.603604</td>\n",
       "      <td>0.863180</td>\n",
       "    </tr>\n",
       "    <tr>\n",
       "      <td>401</td>\n",
       "      <td>14</td>\n",
       "      <td>70</td>\n",
       "      <td>6</td>\n",
       "      <td>5</td>\n",
       "      <td>0.822667</td>\n",
       "      <td>0.653595</td>\n",
       "      <td>0.555556</td>\n",
       "      <td>0.600601</td>\n",
       "      <td>0.863979</td>\n",
       "    </tr>\n",
       "    <tr>\n",
       "      <td>402</td>\n",
       "      <td>14</td>\n",
       "      <td>80</td>\n",
       "      <td>6</td>\n",
       "      <td>5</td>\n",
       "      <td>0.828000</td>\n",
       "      <td>0.663399</td>\n",
       "      <td>0.567039</td>\n",
       "      <td>0.611446</td>\n",
       "      <td>0.864166</td>\n",
       "    </tr>\n",
       "    <tr>\n",
       "      <td>403</td>\n",
       "      <td>14</td>\n",
       "      <td>90</td>\n",
       "      <td>6</td>\n",
       "      <td>5</td>\n",
       "      <td>0.827333</td>\n",
       "      <td>0.660131</td>\n",
       "      <td>0.565826</td>\n",
       "      <td>0.609351</td>\n",
       "      <td>0.864239</td>\n",
       "    </tr>\n",
       "    <tr>\n",
       "      <td>404</td>\n",
       "      <td>14</td>\n",
       "      <td>100</td>\n",
       "      <td>6</td>\n",
       "      <td>5</td>\n",
       "      <td>0.825333</td>\n",
       "      <td>0.656863</td>\n",
       "      <td>0.561453</td>\n",
       "      <td>0.605422</td>\n",
       "      <td>0.864387</td>\n",
       "    </tr>\n",
       "  </tbody>\n",
       "</table>\n",
       "<p>405 rows × 9 columns</p>\n",
       "</div>"
      ],
      "text/plain": [
       "     max_depth  n_estimators  min_samples_split  min_samples_leaf     score  \\\n",
       "0            6            20                  2                 1  0.800667   \n",
       "1            6            30                  2                 1  0.802667   \n",
       "2            6            40                  2                 1  0.800667   \n",
       "3            6            50                  2                 1  0.802667   \n",
       "4            6            60                  2                 1  0.798667   \n",
       "..         ...           ...                ...               ...       ...   \n",
       "400         14            60                  6                 5  0.824000   \n",
       "401         14            70                  6                 5  0.822667   \n",
       "402         14            80                  6                 5  0.828000   \n",
       "403         14            90                  6                 5  0.827333   \n",
       "404         14           100                  6                 5  0.825333   \n",
       "\n",
       "     recall_score  precision_score  f1_score  roc_auc_score  \n",
       "0        0.735294         0.507901  0.600801       0.863819  \n",
       "1        0.751634         0.511111  0.608466       0.865426  \n",
       "2        0.751634         0.507726  0.606061       0.865843  \n",
       "3        0.764706         0.510917  0.612565       0.866654  \n",
       "4        0.761438         0.504329  0.606771       0.865972  \n",
       "..            ...              ...       ...            ...  \n",
       "400      0.656863         0.558333  0.603604       0.863180  \n",
       "401      0.653595         0.555556  0.600601       0.863979  \n",
       "402      0.663399         0.567039  0.611446       0.864166  \n",
       "403      0.660131         0.565826  0.609351       0.864239  \n",
       "404      0.656863         0.561453  0.605422       0.864387  \n",
       "\n",
       "[405 rows x 9 columns]"
      ]
     },
     "execution_count": 59,
     "metadata": {},
     "output_type": "execute_result"
    }
   ],
   "source": [
    "%%time\n",
    "\n",
    "forest_depth_col = []\n",
    "forest_estim_col = []\n",
    "forest_min_leaf_col = []\n",
    "forest_min_split_col = []\n",
    "forest_score_col = []\n",
    "forest_f1_col = []\n",
    "forest_recall_col = []\n",
    "forest_precision_col = []\n",
    "forest_roc_auc_col = []\n",
    "\n",
    "for depth in range(6,16,2):\n",
    "    for min_leaf in range(1, 6, 2):\n",
    "        for min_split in range(2,8,2):\n",
    "            for estim in range(20, 110, 10):\n",
    "                model_forest_ohe2 = RandomForestClassifier(n_estimators = estim, max_depth = depth, min_samples_split = min_split, min_samples_leaf = min_leaf, random_state = random)\n",
    "                model_forest_ohe2.fit(features_upsampled2, target_upsampled2)\n",
    "                predicted_valid_forest_ohe2 = model_forest_ohe2.predict(ohe_features_valid)\n",
    "                score_forest = model_forest_ohe2.score(ohe_features_valid, ohe_target_valid)\n",
    "                recall_score_forest = recall_score(ohe_target_valid, predicted_valid_forest_ohe2)\n",
    "                precision_score_forest = precision_score(ohe_target_valid, predicted_valid_forest_ohe2)\n",
    "                probabilities_forest_ohe2 = model_forest_ohe2.predict_proba(ohe_features_valid)\n",
    "                probabilities_one_forest_ohe2 = probabilities_forest_ohe2[:, 1]\n",
    "                roc_auc_score_forest = roc_auc_score(ohe_target_valid, probabilities_one_forest_ohe2)\n",
    "                f1_forest = f1_score(ohe_target_valid, predicted_valid_forest_ohe2)\n",
    "                forest_depth_col.append(depth)\n",
    "                forest_min_leaf_col.append(min_leaf)\n",
    "                forest_min_split_col.append(min_split)\n",
    "                forest_estim_col.append(estim)\n",
    "                forest_score_col.append(score_forest)\n",
    "                forest_recall_col.append(recall_score_forest)\n",
    "                forest_precision_col.append(precision_score_forest)\n",
    "                forest_f1_col.append(f1_forest)\n",
    "                forest_roc_auc_col.append(roc_auc_score_forest)\n",
    "        \n",
    "        \n",
    "ohe_forest_hyperparameters_dict2 = {\n",
    "    'max_depth': forest_depth_col, \n",
    "    'n_estimators': forest_estim_col, \n",
    "    'min_samples_split': forest_min_split_col, \n",
    "    'min_samples_leaf': forest_min_leaf_col, \n",
    "    'score': forest_score_col,\n",
    "    'recall_score': forest_recall_col,\n",
    "    'precision_score': forest_precision_col,\n",
    "    'f1_score': forest_f1_col, \n",
    "    'roc_auc_score': forest_roc_auc_col}\n",
    "ohe_forest_hyperparameters2 = pd.DataFrame(data = ohe_forest_hyperparameters_dict2)\n",
    "ohe_forest_hyperparameters2"
   ]
  },
  {
   "cell_type": "code",
   "execution_count": 60,
   "metadata": {},
   "outputs": [
    {
     "data": {
      "text/html": [
       "<div>\n",
       "<style scoped>\n",
       "    .dataframe tbody tr th:only-of-type {\n",
       "        vertical-align: middle;\n",
       "    }\n",
       "\n",
       "    .dataframe tbody tr th {\n",
       "        vertical-align: top;\n",
       "    }\n",
       "\n",
       "    .dataframe thead th {\n",
       "        text-align: right;\n",
       "    }\n",
       "</style>\n",
       "<table border=\"1\" class=\"dataframe\">\n",
       "  <thead>\n",
       "    <tr style=\"text-align: right;\">\n",
       "      <th></th>\n",
       "      <th>max_depth</th>\n",
       "      <th>n_estimators</th>\n",
       "      <th>min_samples_split</th>\n",
       "      <th>min_samples_leaf</th>\n",
       "      <th>score</th>\n",
       "      <th>recall_score</th>\n",
       "      <th>precision_score</th>\n",
       "      <th>f1_score</th>\n",
       "      <th>roc_auc_score</th>\n",
       "    </tr>\n",
       "  </thead>\n",
       "  <tbody>\n",
       "    <tr>\n",
       "      <td>106</td>\n",
       "      <td>8</td>\n",
       "      <td>90</td>\n",
       "      <td>6</td>\n",
       "      <td>1</td>\n",
       "      <td>0.827333</td>\n",
       "      <td>0.754902</td>\n",
       "      <td>0.556627</td>\n",
       "      <td>0.640777</td>\n",
       "      <td>0.870031</td>\n",
       "    </tr>\n",
       "  </tbody>\n",
       "</table>\n",
       "</div>"
      ],
      "text/plain": [
       "     max_depth  n_estimators  min_samples_split  min_samples_leaf     score  \\\n",
       "106          8            90                  6                 1  0.827333   \n",
       "\n",
       "     recall_score  precision_score  f1_score  roc_auc_score  \n",
       "106      0.754902         0.556627  0.640777       0.870031  "
      ]
     },
     "execution_count": 60,
     "metadata": {},
     "output_type": "execute_result"
    }
   ],
   "source": [
    "new_best_ohe_forest = ohe_forest_hyperparameters2.query('f1_score == f1_score.max()')\n",
    "new_best_ohe_forest"
   ]
  },
  {
   "cell_type": "code",
   "execution_count": 61,
   "metadata": {},
   "outputs": [],
   "source": [
    "new_best_ohe_forest_depth = int(new_best_ohe_forest['max_depth'].head(1))\n",
    "new_best_ohe_forest_n_estimators = int(new_best_ohe_forest['n_estimators'].head(1))\n",
    "new_best_ohe_forest_split = int(new_best_ohe_forest['min_samples_split'].head(1))\n",
    "new_best_ohe_forest_leaf = int(new_best_ohe_forest['min_samples_leaf'].head(1))\n"
   ]
  },
  {
   "cell_type": "code",
   "execution_count": 62,
   "metadata": {},
   "outputs": [
    {
     "data": {
      "text/plain": [
       "0.6214177978883861"
      ]
     },
     "execution_count": 62,
     "metadata": {},
     "output_type": "execute_result"
    }
   ],
   "source": [
    "new_best_ohe_forest_model = RandomForestClassifier(\n",
    "    max_depth = new_best_ohe_forest_depth, \n",
    "    n_estimators = new_best_ohe_forest_n_estimators, \n",
    "    min_samples_split = new_best_ohe_forest_split, \n",
    "    min_samples_leaf = new_best_ohe_forest_leaf, \n",
    "    random_state = random)\n",
    "new_best_ohe_forest_model.fit(features_upsampled2, target_upsampled2)\n",
    "new_best_ohe_predicted_test = best_ohe_forest_model.predict(ohe_features_test)\n",
    "f1_score(ohe_target_test, new_best_ohe_predicted_test)"
   ]
  },
  {
   "cell_type": "markdown",
   "metadata": {},
   "source": [
    "Мы получили модель, которая демонстрирует хорошие результаты на тестовом наборе данных. Посмотрим, как выглядит кривая ROC:"
   ]
  },
  {
   "cell_type": "code",
   "execution_count": 65,
   "metadata": {},
   "outputs": [
    {
     "data": {
      "image/png": "[encoded data removed]",
      "text/plain": [
       "<Figure size 432x288 with 1 Axes>"
      ]
     },
     "metadata": {
      "needs_background": "light"
     },
     "output_type": "display_data"
    }
   ],
   "source": [
    "probabilities_test = new_best_ohe_forest_model.predict_proba(ohe_features_test)\n",
    "probabilities_one_test = probabilities_test[:, 1]\n",
    "\n",
    "fpr, tpr, thresholds = roc_curve(ohe_target_test, probabilities_one_test)\n",
    "\n",
    "plt.figure()\n",
    "plt.plot(fpr, tpr)\n",
    "plt.plot([0, 1], [0, 1], linestyle='--')\n",
    "plt.xlim([0.0, 1.0])\n",
    "plt.ylim([0.0, 1.0])\n",
    "plt.xlabel('False Positive Rate')\n",
    "plt.ylabel('True Positive Rate')\n",
    "plt.title('ROC-кривая')\n",
    "plt.show()"
   ]
  },
  {
   "cell_type": "code",
   "execution_count": 66,
   "metadata": {},
   "outputs": [
    {
     "data": {
      "text/plain": [
       "0.8686823513272515"
      ]
     },
     "execution_count": 66,
     "metadata": {},
     "output_type": "execute_result"
    }
   ],
   "source": [
    "roc_auc_score(ohe_target_test, probabilities_one_test)"
   ]
  },
  {
   "cell_type": "markdown",
   "metadata": {},
   "source": [
    "Показатель roc_auc высок. Отметим, что по результатам на валидационном наборе данных объект с наибольшим f1 так же являлся объектом с наибольшим значением roc_auc.  "
   ]
  },
  {
   "cell_type": "code",
   "execution_count": 69,
   "metadata": {},
   "outputs": [
    {
     "data": {
      "text/html": [
       "<div>\n",
       "<style scoped>\n",
       "    .dataframe tbody tr th:only-of-type {\n",
       "        vertical-align: middle;\n",
       "    }\n",
       "\n",
       "    .dataframe tbody tr th {\n",
       "        vertical-align: top;\n",
       "    }\n",
       "\n",
       "    .dataframe thead th {\n",
       "        text-align: right;\n",
       "    }\n",
       "</style>\n",
       "<table border=\"1\" class=\"dataframe\">\n",
       "  <thead>\n",
       "    <tr style=\"text-align: right;\">\n",
       "      <th></th>\n",
       "      <th>max_depth</th>\n",
       "      <th>n_estimators</th>\n",
       "      <th>min_samples_split</th>\n",
       "      <th>min_samples_leaf</th>\n",
       "      <th>score</th>\n",
       "      <th>recall_score</th>\n",
       "      <th>precision_score</th>\n",
       "      <th>f1_score</th>\n",
       "      <th>roc_auc_score</th>\n",
       "    </tr>\n",
       "  </thead>\n",
       "  <tbody>\n",
       "    <tr>\n",
       "      <td>106</td>\n",
       "      <td>8</td>\n",
       "      <td>90</td>\n",
       "      <td>6</td>\n",
       "      <td>1</td>\n",
       "      <td>0.8645</td>\n",
       "      <td>0.453431</td>\n",
       "      <td>0.793991</td>\n",
       "      <td>0.577223</td>\n",
       "      <td>0.875814</td>\n",
       "    </tr>\n",
       "  </tbody>\n",
       "</table>\n",
       "</div>"
      ],
      "text/plain": [
       "     max_depth  n_estimators  min_samples_split  min_samples_leaf   score  \\\n",
       "106          8            90                  6                 1  0.8645   \n",
       "\n",
       "     recall_score  precision_score  f1_score  roc_auc_score  \n",
       "106      0.453431         0.793991  0.577223       0.875814  "
      ]
     },
     "execution_count": 69,
     "metadata": {},
     "output_type": "execute_result"
    }
   ],
   "source": [
    "new_best_roc_auc_ohe_forest = ohe_forest_hyperparameters.query('roc_auc_score == roc_auc_score.max()')\n",
    "new_best_roc_auc_ohe_forest"
   ]
  },
  {
   "cell_type": "markdown",
   "metadata": {},
   "source": [
    "# Вывод"
   ]
  },
  {
   "cell_type": "markdown",
   "metadata": {},
   "source": [
    "Качество модели удалось повысить благодаря борьбе с дисбалансом классов целевого признака и увеличению доли обучающего набора данных.  \n",
    "\n",
    "Эффективным способом борьбы с дисбалансом оказалось увеличение выборки за счет дублирования объектов с положительным значением целевого признака.\n",
    "\n",
    "В финальной модели показатель f1 на тестовом наборе данных превысил значение 0.62, а показатель roc-auc - 0.868.  "
   ]
  },
  {
   "cell_type": "markdown",
   "metadata": {},
   "source": [
    "<font color='green'>Верно, upsampling позволил повысить качество модели. </font> <font color='blue'>Как я писала ранее, все-таки финальной моделью стоит считать случайный лес из раздела №3 решения. </font>\n",
    "\n"
   ]
  },
  {
   "cell_type": "markdown",
   "metadata": {},
   "source": [
    "# Итоговый комментарий\n",
    "\n",
    "Спасибо, ты проделал большую и очень качественную работу. Появятся вопросы – пиши, будем рады помочь :)"
   ]
  },
  {
   "cell_type": "markdown",
   "metadata": {},
   "source": [
    "# Чек-лист готовности проекта"
   ]
  },
  {
   "cell_type": "markdown",
   "metadata": {},
   "source": [
    "Поставьте 'x' в выполненных пунктах. Далее нажмите Shift+Enter."
   ]
  },
  {
   "cell_type": "markdown",
   "metadata": {},
   "source": [
    "- [x]  Jupyter Notebook открыт\n",
    "- [ ]  Весь код выполняется без ошибок\n",
    "- [ ]  Ячейки с кодом расположены в порядке исполнения\n",
    "- [ ]  Выполнен шаг 1: данные подготовлены\n",
    "- [ ]  Выполнен шаг 2: задача исследована\n",
    "    - [ ]  Исследован баланс классов\n",
    "    - [ ]  Изучены модели без учёта дисбаланса\n",
    "    - [ ]  Написаны выводы по результатам исследования\n",
    "- [ ]  Выполнен шаг 3: учтён дисбаланс\n",
    "    - [ ]  Применено несколько способов борьбы с дисбалансом\n",
    "    - [ ]  Написаны выводы по результатам исследования\n",
    "- [ ]  Выполнен шаг 4: проведено тестирование\n",
    "- [ ]  Удалось достичь *F1*-меры не менее 0.59\n",
    "- [ ]  Исследована метрика *AUC-ROC*"
   ]
  },
  {
   "cell_type": "code",
   "execution_count": null,
   "metadata": {},
   "outputs": [],
   "source": []
  }
 ],
 "metadata": {
  "kernelspec": {
   "display_name": "Python 3",
   "language": "python",
   "name": "python3"
  },
  "language_info": {
   "codemirror_mode": {
    "name": "ipython",
    "version": 3
   },
   "file_extension": ".py",
   "mimetype": "text/x-python",
   "name": "python",
   "nbconvert_exporter": "python",
   "pygments_lexer": "ipython3",
   "version": "3.7.4"
  }
 },
 "nbformat": 4,
 "nbformat_minor": 2
}
