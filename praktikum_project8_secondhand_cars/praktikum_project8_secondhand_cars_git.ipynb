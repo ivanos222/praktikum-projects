{
 "cells": [
  {
   "cell_type": "markdown",
   "metadata": {},
   "source": [
    "# Определение стоимости автомобиля на вторичном рынке"
   ]
  },
  {
   "cell_type": "markdown",
   "metadata": {},
   "source": [
    "Сервис по продаже подержанных автомобилей разрабатывает приложение, в котором клиент может быстро узнать рыночную стоимость автомобиля, введя информацию о пробеге, комплектации, тх и проч. В нашем распоряжении размеченные исторические данные. Вам нужно построить модель для определения стоимости. \n",
    "\n",
    "Задача: __построить модель для определения стоимости автомобиля по его характеристикам__. Заказчику важны __качество предсказания__ (Ключевая метрика - RMSE), __скорость предсказания__, __время обучения__."
   ]
  },
  {
   "cell_type": "markdown",
   "metadata": {},
   "source": [
    "# 1. Подготовка данных"
   ]
  },
  {
   "cell_type": "markdown",
   "metadata": {},
   "source": [
    "## Предварительное изучение данных"
   ]
  },
  {
   "cell_type": "code",
   "execution_count": 1,
   "metadata": {},
   "outputs": [],
   "source": [
    "import pandas as pd\n",
    "import numpy as np\n",
    "from catboost import CatBoostRegressor\n",
    "from lightgbm import LGBMRegressor\n",
    "from sklearn.ensemble import RandomForestRegressor\n",
    "\n",
    "from sklearn.preprocessing import LabelEncoder\n",
    "from sklearn.preprocessing import OrdinalEncoder\n",
    "from sklearn.model_selection import train_test_split\n",
    "from sklearn.metrics import mean_squared_error\n",
    "import copy\n",
    "import random\n",
    "import math\n",
    "\n",
    "import matplotlib.pyplot as plt\n",
    "import seaborn as sns"
   ]
  },
  {
   "cell_type": "code",
   "execution_count": 2,
   "metadata": {},
   "outputs": [],
   "source": [
    "state = 1234"
   ]
  },
  {
   "cell_type": "code",
   "execution_count": 3,
   "metadata": {},
   "outputs": [
    {
     "name": "stdout",
     "output_type": "stream",
     "text": [
      "<class 'pandas.core.frame.DataFrame'>\n",
      "RangeIndex: 354369 entries, 0 to 354368\n",
      "Data columns (total 16 columns):\n",
      " #   Column             Non-Null Count   Dtype \n",
      "---  ------             --------------   ----- \n",
      " 0   DateCrawled        354369 non-null  object\n",
      " 1   Price              354369 non-null  int64 \n",
      " 2   VehicleType        316879 non-null  object\n",
      " 3   RegistrationYear   354369 non-null  int64 \n",
      " 4   Gearbox            334536 non-null  object\n",
      " 5   Power              354369 non-null  int64 \n",
      " 6   Model              334664 non-null  object\n",
      " 7   Kilometer          354369 non-null  int64 \n",
      " 8   RegistrationMonth  354369 non-null  int64 \n",
      " 9   FuelType           321474 non-null  object\n",
      " 10  Brand              354369 non-null  object\n",
      " 11  NotRepaired        283215 non-null  object\n",
      " 12  DateCreated        354369 non-null  object\n",
      " 13  NumberOfPictures   354369 non-null  int64 \n",
      " 14  PostalCode         354369 non-null  int64 \n",
      " 15  LastSeen           354369 non-null  object\n",
      "dtypes: int64(7), object(9)\n",
      "memory usage: 43.3+ MB\n"
     ]
    }
   ],
   "source": [
    "df = pd.read_csv('...')\n",
    "df.info()"
   ]
  },
  {
   "cell_type": "code",
   "execution_count": 4,
   "metadata": {},
   "outputs": [
    {
     "data": {
      "text/html": [
       "<div>\n",
       "<style scoped>\n",
       "    .dataframe tbody tr th:only-of-type {\n",
       "        vertical-align: middle;\n",
       "    }\n",
       "\n",
       "    .dataframe tbody tr th {\n",
       "        vertical-align: top;\n",
       "    }\n",
       "\n",
       "    .dataframe thead th {\n",
       "        text-align: right;\n",
       "    }\n",
       "</style>\n",
       "<table border=\"1\" class=\"dataframe\">\n",
       "  <thead>\n",
       "    <tr style=\"text-align: right;\">\n",
       "      <th></th>\n",
       "      <th>DateCrawled</th>\n",
       "      <th>Price</th>\n",
       "      <th>VehicleType</th>\n",
       "      <th>RegistrationYear</th>\n",
       "      <th>Gearbox</th>\n",
       "      <th>Power</th>\n",
       "      <th>Model</th>\n",
       "      <th>Kilometer</th>\n",
       "      <th>RegistrationMonth</th>\n",
       "      <th>FuelType</th>\n",
       "      <th>Brand</th>\n",
       "      <th>NotRepaired</th>\n",
       "      <th>DateCreated</th>\n",
       "      <th>NumberOfPictures</th>\n",
       "      <th>PostalCode</th>\n",
       "      <th>LastSeen</th>\n",
       "    </tr>\n",
       "  </thead>\n",
       "  <tbody>\n",
       "    <tr>\n",
       "      <th>0</th>\n",
       "      <td>2016-03-24 11:52:17</td>\n",
       "      <td>480</td>\n",
       "      <td>NaN</td>\n",
       "      <td>1993</td>\n",
       "      <td>manual</td>\n",
       "      <td>0</td>\n",
       "      <td>golf</td>\n",
       "      <td>150000</td>\n",
       "      <td>0</td>\n",
       "      <td>petrol</td>\n",
       "      <td>volkswagen</td>\n",
       "      <td>NaN</td>\n",
       "      <td>2016-03-24 00:00:00</td>\n",
       "      <td>0</td>\n",
       "      <td>70435</td>\n",
       "      <td>2016-04-07 03:16:57</td>\n",
       "    </tr>\n",
       "    <tr>\n",
       "      <th>1</th>\n",
       "      <td>2016-03-24 10:58:45</td>\n",
       "      <td>18300</td>\n",
       "      <td>coupe</td>\n",
       "      <td>2011</td>\n",
       "      <td>manual</td>\n",
       "      <td>190</td>\n",
       "      <td>NaN</td>\n",
       "      <td>125000</td>\n",
       "      <td>5</td>\n",
       "      <td>gasoline</td>\n",
       "      <td>audi</td>\n",
       "      <td>yes</td>\n",
       "      <td>2016-03-24 00:00:00</td>\n",
       "      <td>0</td>\n",
       "      <td>66954</td>\n",
       "      <td>2016-04-07 01:46:50</td>\n",
       "    </tr>\n",
       "    <tr>\n",
       "      <th>2</th>\n",
       "      <td>2016-03-14 12:52:21</td>\n",
       "      <td>9800</td>\n",
       "      <td>suv</td>\n",
       "      <td>2004</td>\n",
       "      <td>auto</td>\n",
       "      <td>163</td>\n",
       "      <td>grand</td>\n",
       "      <td>125000</td>\n",
       "      <td>8</td>\n",
       "      <td>gasoline</td>\n",
       "      <td>jeep</td>\n",
       "      <td>NaN</td>\n",
       "      <td>2016-03-14 00:00:00</td>\n",
       "      <td>0</td>\n",
       "      <td>90480</td>\n",
       "      <td>2016-04-05 12:47:46</td>\n",
       "    </tr>\n",
       "    <tr>\n",
       "      <th>3</th>\n",
       "      <td>2016-03-17 16:54:04</td>\n",
       "      <td>1500</td>\n",
       "      <td>small</td>\n",
       "      <td>2001</td>\n",
       "      <td>manual</td>\n",
       "      <td>75</td>\n",
       "      <td>golf</td>\n",
       "      <td>150000</td>\n",
       "      <td>6</td>\n",
       "      <td>petrol</td>\n",
       "      <td>volkswagen</td>\n",
       "      <td>no</td>\n",
       "      <td>2016-03-17 00:00:00</td>\n",
       "      <td>0</td>\n",
       "      <td>91074</td>\n",
       "      <td>2016-03-17 17:40:17</td>\n",
       "    </tr>\n",
       "    <tr>\n",
       "      <th>4</th>\n",
       "      <td>2016-03-31 17:25:20</td>\n",
       "      <td>3600</td>\n",
       "      <td>small</td>\n",
       "      <td>2008</td>\n",
       "      <td>manual</td>\n",
       "      <td>69</td>\n",
       "      <td>fabia</td>\n",
       "      <td>90000</td>\n",
       "      <td>7</td>\n",
       "      <td>gasoline</td>\n",
       "      <td>skoda</td>\n",
       "      <td>no</td>\n",
       "      <td>2016-03-31 00:00:00</td>\n",
       "      <td>0</td>\n",
       "      <td>60437</td>\n",
       "      <td>2016-04-06 10:17:21</td>\n",
       "    </tr>\n",
       "    <tr>\n",
       "      <th>5</th>\n",
       "      <td>2016-04-04 17:36:23</td>\n",
       "      <td>650</td>\n",
       "      <td>sedan</td>\n",
       "      <td>1995</td>\n",
       "      <td>manual</td>\n",
       "      <td>102</td>\n",
       "      <td>3er</td>\n",
       "      <td>150000</td>\n",
       "      <td>10</td>\n",
       "      <td>petrol</td>\n",
       "      <td>bmw</td>\n",
       "      <td>yes</td>\n",
       "      <td>2016-04-04 00:00:00</td>\n",
       "      <td>0</td>\n",
       "      <td>33775</td>\n",
       "      <td>2016-04-06 19:17:07</td>\n",
       "    </tr>\n",
       "    <tr>\n",
       "      <th>6</th>\n",
       "      <td>2016-04-01 20:48:51</td>\n",
       "      <td>2200</td>\n",
       "      <td>convertible</td>\n",
       "      <td>2004</td>\n",
       "      <td>manual</td>\n",
       "      <td>109</td>\n",
       "      <td>2_reihe</td>\n",
       "      <td>150000</td>\n",
       "      <td>8</td>\n",
       "      <td>petrol</td>\n",
       "      <td>peugeot</td>\n",
       "      <td>no</td>\n",
       "      <td>2016-04-01 00:00:00</td>\n",
       "      <td>0</td>\n",
       "      <td>67112</td>\n",
       "      <td>2016-04-05 18:18:39</td>\n",
       "    </tr>\n",
       "    <tr>\n",
       "      <th>7</th>\n",
       "      <td>2016-03-21 18:54:38</td>\n",
       "      <td>0</td>\n",
       "      <td>sedan</td>\n",
       "      <td>1980</td>\n",
       "      <td>manual</td>\n",
       "      <td>50</td>\n",
       "      <td>other</td>\n",
       "      <td>40000</td>\n",
       "      <td>7</td>\n",
       "      <td>petrol</td>\n",
       "      <td>volkswagen</td>\n",
       "      <td>no</td>\n",
       "      <td>2016-03-21 00:00:00</td>\n",
       "      <td>0</td>\n",
       "      <td>19348</td>\n",
       "      <td>2016-03-25 16:47:58</td>\n",
       "    </tr>\n",
       "    <tr>\n",
       "      <th>8</th>\n",
       "      <td>2016-04-04 23:42:13</td>\n",
       "      <td>14500</td>\n",
       "      <td>bus</td>\n",
       "      <td>2014</td>\n",
       "      <td>manual</td>\n",
       "      <td>125</td>\n",
       "      <td>c_max</td>\n",
       "      <td>30000</td>\n",
       "      <td>8</td>\n",
       "      <td>petrol</td>\n",
       "      <td>ford</td>\n",
       "      <td>NaN</td>\n",
       "      <td>2016-04-04 00:00:00</td>\n",
       "      <td>0</td>\n",
       "      <td>94505</td>\n",
       "      <td>2016-04-04 23:42:13</td>\n",
       "    </tr>\n",
       "    <tr>\n",
       "      <th>9</th>\n",
       "      <td>2016-03-17 10:53:50</td>\n",
       "      <td>999</td>\n",
       "      <td>small</td>\n",
       "      <td>1998</td>\n",
       "      <td>manual</td>\n",
       "      <td>101</td>\n",
       "      <td>golf</td>\n",
       "      <td>150000</td>\n",
       "      <td>0</td>\n",
       "      <td>NaN</td>\n",
       "      <td>volkswagen</td>\n",
       "      <td>NaN</td>\n",
       "      <td>2016-03-17 00:00:00</td>\n",
       "      <td>0</td>\n",
       "      <td>27472</td>\n",
       "      <td>2016-03-31 17:17:06</td>\n",
       "    </tr>\n",
       "  </tbody>\n",
       "</table>\n",
       "</div>"
      ],
      "text/plain": [
       "           DateCrawled  Price  VehicleType  RegistrationYear Gearbox  Power  \\\n",
       "0  2016-03-24 11:52:17    480          NaN              1993  manual      0   \n",
       "1  2016-03-24 10:58:45  18300        coupe              2011  manual    190   \n",
       "2  2016-03-14 12:52:21   9800          suv              2004    auto    163   \n",
       "3  2016-03-17 16:54:04   1500        small              2001  manual     75   \n",
       "4  2016-03-31 17:25:20   3600        small              2008  manual     69   \n",
       "5  2016-04-04 17:36:23    650        sedan              1995  manual    102   \n",
       "6  2016-04-01 20:48:51   2200  convertible              2004  manual    109   \n",
       "7  2016-03-21 18:54:38      0        sedan              1980  manual     50   \n",
       "8  2016-04-04 23:42:13  14500          bus              2014  manual    125   \n",
       "9  2016-03-17 10:53:50    999        small              1998  manual    101   \n",
       "\n",
       "     Model  Kilometer  RegistrationMonth  FuelType       Brand NotRepaired  \\\n",
       "0     golf     150000                  0    petrol  volkswagen         NaN   \n",
       "1      NaN     125000                  5  gasoline        audi         yes   \n",
       "2    grand     125000                  8  gasoline        jeep         NaN   \n",
       "3     golf     150000                  6    petrol  volkswagen          no   \n",
       "4    fabia      90000                  7  gasoline       skoda          no   \n",
       "5      3er     150000                 10    petrol         bmw         yes   \n",
       "6  2_reihe     150000                  8    petrol     peugeot          no   \n",
       "7    other      40000                  7    petrol  volkswagen          no   \n",
       "8    c_max      30000                  8    petrol        ford         NaN   \n",
       "9     golf     150000                  0       NaN  volkswagen         NaN   \n",
       "\n",
       "           DateCreated  NumberOfPictures  PostalCode             LastSeen  \n",
       "0  2016-03-24 00:00:00                 0       70435  2016-04-07 03:16:57  \n",
       "1  2016-03-24 00:00:00                 0       66954  2016-04-07 01:46:50  \n",
       "2  2016-03-14 00:00:00                 0       90480  2016-04-05 12:47:46  \n",
       "3  2016-03-17 00:00:00                 0       91074  2016-03-17 17:40:17  \n",
       "4  2016-03-31 00:00:00                 0       60437  2016-04-06 10:17:21  \n",
       "5  2016-04-04 00:00:00                 0       33775  2016-04-06 19:17:07  \n",
       "6  2016-04-01 00:00:00                 0       67112  2016-04-05 18:18:39  \n",
       "7  2016-03-21 00:00:00                 0       19348  2016-03-25 16:47:58  \n",
       "8  2016-04-04 00:00:00                 0       94505  2016-04-04 23:42:13  \n",
       "9  2016-03-17 00:00:00                 0       27472  2016-03-31 17:17:06  "
      ]
     },
     "execution_count": 4,
     "metadata": {},
     "output_type": "execute_result"
    }
   ],
   "source": [
    "df.head(10)"
   ]
  },
  {
   "cell_type": "code",
   "execution_count": 5,
   "metadata": {},
   "outputs": [
    {
     "data": {
      "text/plain": [
       "DateCrawled              0\n",
       "Price                    0\n",
       "VehicleType          37490\n",
       "RegistrationYear         0\n",
       "Gearbox              19833\n",
       "Power                    0\n",
       "Model                19705\n",
       "Kilometer                0\n",
       "RegistrationMonth        0\n",
       "FuelType             32895\n",
       "Brand                    0\n",
       "NotRepaired          71154\n",
       "DateCreated              0\n",
       "NumberOfPictures         0\n",
       "PostalCode               0\n",
       "LastSeen                 0\n",
       "dtype: int64"
      ]
     },
     "execution_count": 5,
     "metadata": {},
     "output_type": "execute_result"
    }
   ],
   "source": [
    "df.isnull().sum()"
   ]
  },
  {
   "cell_type": "code",
   "execution_count": 6,
   "metadata": {},
   "outputs": [
    {
     "data": {
      "text/plain": [
       "108555"
      ]
     },
     "execution_count": 6,
     "metadata": {},
     "output_type": "execute_result"
    }
   ],
   "source": [
    "len(df[(df['VehicleType'].isnull()==True)\n",
    "   |(df['Gearbox'].isnull()==True)\n",
    "   |(df['Model'].isnull()==True)\n",
    "   |(df['FuelType'].isnull()==True)\n",
    "   |(df['NotRepaired'].isnull()==True)])"
   ]
  },
  {
   "cell_type": "markdown",
   "metadata": {},
   "source": [
    "Присутствуют пропуски в столбцах VehicleType, Gearbox, Model, FuelType, NotRepaired, причем удалить их все нельзя, вместе они составляют слишком большую часть выборки. Также как минимум в столбце Price присутствуют нулевые значения. Проверим все столбцы на наличие нулей."
   ]
  },
  {
   "cell_type": "code",
   "execution_count": 7,
   "metadata": {},
   "outputs": [
    {
     "name": "stdout",
     "output_type": "stream",
     "text": [
      "Количество нулей\n",
      "Price: 10772\n",
      "RegistrationYear: 0\n",
      "Power: 40225\n",
      "Kilometer: 0\n",
      "RegistrationMonth: 37352\n",
      "NumberOfPictures: 354369\n",
      "PostalCode: 0\n"
     ]
    }
   ],
   "source": [
    "print('Количество нулей')\n",
    "int_columns = list(df.dtypes[df.dtypes=='int64'].index)\n",
    "for i in int_columns:\n",
    "    print(i + ':', len(df[df[i]<0.0001]))"
   ]
  },
  {
   "cell_type": "markdown",
   "metadata": {},
   "source": [
    "В столбце NumperOfPictures нули объяснимы, это объекты с нулевым количеством иллюстраций, что вполне может быть.  Но в столбцах Price, Power и RegistrationMonth нулей быть не может, уж точно в таких больших количествах. "
   ]
  },
  {
   "cell_type": "code",
   "execution_count": 8,
   "metadata": {
    "scrolled": false
   },
   "outputs": [
    {
     "name": "stdout",
     "output_type": "stream",
     "text": [
      "Диапазон значений количественных признаков\n",
      "Price: [20000, 19999, 19998, 19997, 19995] ... [4, 3, 2, 1, 0]\n",
      "RegistrationYear: [9999, 9996, 9450, 9229, 9000] ... [1200, 1111, 1039, 1001, 1000]\n",
      "Power: [20000, 19312, 19211, 19208, 17932] ... [4, 3, 2, 1, 0]\n",
      "Kilometer: [150000, 125000, 100000, 90000, 80000] ... [40000, 30000, 20000, 10000, 5000]\n",
      "RegistrationMonth: [12, 11, 10, 9, 8] ... [4, 3, 2, 1, 0]\n",
      "NumberOfPictures: [0] ... [0]\n",
      "PostalCode: [99998, 99996, 99994, 99991, 99988] ... [1099, 1097, 1069, 1068, 1067]\n"
     ]
    }
   ],
   "source": [
    "print('Диапазон значений количественных признаков')\n",
    "quantitative_columns = list(df.dtypes[df.dtypes=='int64'].index)\n",
    "for i in quantitative_columns:\n",
    "    print(i + ':', list(pd.Series(df[i].unique()).sort_values(ascending = False).head()),'...',\n",
    "         list(pd.Series(df[i].unique()).sort_values(ascending = False).tail()))"
   ]
  },
  {
   "cell_type": "markdown",
   "metadata": {},
   "source": [
    "Разброс значений количественных признаков очень большой, судя по наибольшим и наименьшим значениям встречаются аномальные значения. Так, встречаются анкеты с годом регистрации автомобиля в отдаленном будущем или в средневековье, с неправдоподобно большой или маленькой мощностью, нулевым месяцем регистрации.  \n",
    "Так же стоит обратить внимание на то, что в NumberOfPictures, судя по всему, есть только одно значение - 0. В дальнейшем, возможно, стоит вообще отказаться от этого признака, поскольку он никаким образом не влияет на обучение моделей."
   ]
  },
  {
   "cell_type": "code",
   "execution_count": 9,
   "metadata": {},
   "outputs": [
    {
     "data": {
      "text/plain": [
       "array([0], dtype=int64)"
      ]
     },
     "execution_count": 9,
     "metadata": {},
     "output_type": "execute_result"
    }
   ],
   "source": [
    "df['NumberOfPictures'].unique()"
   ]
  },
  {
   "cell_type": "code",
   "execution_count": 10,
   "metadata": {},
   "outputs": [
    {
     "data": {
      "text/plain": [
       "array([nan, 'yes', 'no'], dtype=object)"
      ]
     },
     "execution_count": 10,
     "metadata": {},
     "output_type": "execute_result"
    }
   ],
   "source": [
    "df['NotRepaired'].unique()"
   ]
  },
  {
   "cell_type": "code",
   "execution_count": 11,
   "metadata": {},
   "outputs": [
    {
     "data": {
      "text/plain": [
       "array(['manual', 'auto', nan], dtype=object)"
      ]
     },
     "execution_count": 11,
     "metadata": {},
     "output_type": "execute_result"
    }
   ],
   "source": [
    "df['Gearbox'].unique()"
   ]
  },
  {
   "cell_type": "markdown",
   "metadata": {},
   "source": [
    "Признак NotRepaired принимает только два значения yes или no, когда он не отсутствует, значит, его для удобства можно перевести в булеву переменную. То же самое можно сделать с Gearbox.\n",
    "Также формат данных можно поменять у DateCrawled, DateCreated и LastSeen, однако возможно они не пригодятся при обучении моделей, как и PostalCode."
   ]
  },
  {
   "cell_type": "markdown",
   "metadata": {},
   "source": [
    "### Вывод"
   ]
  },
  {
   "cell_type": "markdown",
   "metadata": {},
   "source": [
    "В столбцах VehicleType, Gearbox, Model, FuelType, NotRepaired присутствует большое количество пропусков, удалить их все нельзя, как минимум часть из них придется заполнить.  \n",
    "В столбцах RegistrationYear, Power, RegistrationMonth есть неправдоподобные нули и аномальные значения.  \n",
    "В столбцах Gearbox и IsRepaired формат данных можно поменять на формат логических переменных, а в DateCrawled, DateCreated и LastSeen - на datetime."
   ]
  },
  {
   "cell_type": "markdown",
   "metadata": {},
   "source": [
    "## Обработка пропусков"
   ]
  },
  {
   "cell_type": "markdown",
   "metadata": {},
   "source": [
    "Прежде, чем заполнять пропущенные значения, посмотрим на распределение значений в признаках более подробно."
   ]
  },
  {
   "cell_type": "code",
   "execution_count": 12,
   "metadata": {},
   "outputs": [],
   "source": [
    "pivot_counts = df.pivot_table(index = 'Model', values = 'Price', aggfunc = 'count')"
   ]
  },
  {
   "cell_type": "code",
   "execution_count": 13,
   "metadata": {
    "scrolled": false
   },
   "outputs": [
    {
     "data": {
      "image/png": "[encoded data removed]",
      "text/plain": [
       "<Figure size 864x576 with 1 Axes>"
      ]
     },
     "metadata": {
      "needs_background": "light"
     },
     "output_type": "display_data"
    }
   ],
   "source": [
    "fig = plt.figure(figsize=(12,8))\n",
    "ax = fig.add_subplot()\n",
    "ax.set_xlim([df['Price'].min()-1,df['Price'].max()+2])\n",
    "ax.grid(b=True, which = 'major' )\n",
    "plt.hist(df['Price'], alpha=0.8, bins = 100, edgecolor = 'darkblue')\n",
    "plt.xlabel('Price', fontsize = 16)\n",
    "plt.show()"
   ]
  },
  {
   "cell_type": "markdown",
   "metadata": {},
   "source": [
    "На гистограмме видно, что в столбце Price относительно много близких к нулю значений. Рассмотрим подробнее левый край гистограммы."
   ]
  },
  {
   "cell_type": "code",
   "execution_count": 14,
   "metadata": {},
   "outputs": [
    {
     "data": {
      "image/png": "[encoded data removed]",
      "text/plain": [
       "<Figure size 864x576 with 1 Axes>"
      ]
     },
     "metadata": {
      "needs_background": "light"
     },
     "output_type": "display_data"
    }
   ],
   "source": [
    "fig = plt.figure(figsize=(12,8))\n",
    "ax = fig.add_subplot()\n",
    "ax.set_xlim([df['Price'].min()-1,df['Price'].mean()+2])\n",
    "ax.grid(b=True, which = 'major' )\n",
    "plt.hist(df['Price'], alpha=0.8, bins = 500, edgecolor = 'darkblue')\n",
    "plt.xlabel('Price', fontsize = 16)\n",
    "plt.show()"
   ]
  },
  {
   "cell_type": "markdown",
   "metadata": {},
   "source": [
    "Теоретически, нулевое значение цены, указанное в анкете, возможно, но это довольно маловероятно само по себе, и тем более подозрительно, что нулевые цены присутствуют в таком большом количестве. Скорее всего это ошибка. Ошибками такде с большой вероятностью являются близкие к нулю значения - даже поддержанный автомобиль вряд ли будет продаваться за копейки.  \n",
    "Поскольку мы не можем менять данные в целевом признаке, подозрительные значения лучше удалить. Подозрительными будем считать цены ниже определенного порога, например, 300 евро.  \n",
    "Средняя цена подержанного автомобиля в России около 500 тыс. рублей (https://www.rbc.ru/rbcfreenews/5d383cbc9a79477cb6a167e6), в Германии до 10000 евро (https://www.statista.com/statistics/589613/average-prices-for-used-cars-germany/), но есть целые ресурсы и сообщества, на которых продаются автомобили около 500 евро - http://www.ooyyo.com/germany/used-cars-for-sale/c=CDA31D7114D3854F111BFE6FBB571553C6561C7116D38D88121FF46FAA651453/ - и даже ниже - https://www.facebook.com/groups/507973169302440/ - хотя настолько дешевых автомобилей действительно мало, и зачастую продаются они на специализированных площадках, спрос на них есть, значит, и на крупных площадках они продаваться могут.  \n",
    "Что немало важно, строк с ценой ниже 250 евро - чуть более 5%, а строк с ценой ниже 500 евро уже 10%, и это без учета строк, которые могут уйти в результате обработки пропусков и дубликатов. Ставя порог выше этого диапазона, мы рискуем потерять значительную часть выборки."
   ]
  },
  {
   "cell_type": "code",
   "execution_count": 15,
   "metadata": {},
   "outputs": [
    {
     "data": {
      "text/plain": [
       "0.06536406965620582"
      ]
     },
     "execution_count": 15,
     "metadata": {},
     "output_type": "execute_result"
    }
   ],
   "source": [
    "len(df.query('Price < 300')) / len(df)"
   ]
  },
  {
   "cell_type": "code",
   "execution_count": 16,
   "metadata": {},
   "outputs": [
    {
     "data": {
      "text/plain": [
       "331206"
      ]
     },
     "execution_count": 16,
     "metadata": {},
     "output_type": "execute_result"
    }
   ],
   "source": [
    "df = df.query('Price >= 300')\n",
    "len(df)"
   ]
  },
  {
   "cell_type": "code",
   "execution_count": 17,
   "metadata": {
    "scrolled": false
   },
   "outputs": [
    {
     "data": {
      "image/png": "[encoded data removed]",
      "text/plain": [
       "<Figure size 864x576 with 1 Axes>"
      ]
     },
     "metadata": {
      "needs_background": "light"
     },
     "output_type": "display_data"
    },
    {
     "data": {
      "image/png": "[encoded data removed]",
      "text/plain": [
       "<Figure size 864x576 with 1 Axes>"
      ]
     },
     "metadata": {
      "needs_background": "light"
     },
     "output_type": "display_data"
    },
    {
     "data": {
      "image/png": "[encoded data removed]",
      "text/plain": [
       "<Figure size 864x576 with 1 Axes>"
      ]
     },
     "metadata": {
      "needs_background": "light"
     },
     "output_type": "display_data"
    },
    {
     "data": {
      "image/png": "[encoded data removed]",
      "text/plain": [
       "<Figure size 864x576 with 1 Axes>"
      ]
     },
     "metadata": {
      "needs_background": "light"
     },
     "output_type": "display_data"
    },
    {
     "data": {
      "image/png": "[encoded data removed]",
      "text/plain": [
       "<Figure size 864x576 with 1 Axes>"
      ]
     },
     "metadata": {
      "needs_background": "light"
     },
     "output_type": "display_data"
    },
    {
     "data": {
      "image/png": "[encoded data removed]",
      "text/plain": [
       "<Figure size 864x576 with 1 Axes>"
      ]
     },
     "metadata": {
      "needs_background": "light"
     },
     "output_type": "display_data"
    },
    {
     "data": {
      "image/png": "[encoded data removed]",
      "text/plain": [
       "<Figure size 864x576 with 1 Axes>"
      ]
     },
     "metadata": {
      "needs_background": "light"
     },
     "output_type": "display_data"
    }
   ],
   "source": [
    "\n",
    "for i in quantitative_columns:\n",
    "    fig = plt.figure(figsize=(12,8))\n",
    "    ax = fig.add_subplot()\n",
    "    ax.set_xlim([df[i].min()-1,df[i].max()+2])\n",
    "    ax.grid(b=True, which = 'major' )\n",
    "    plt.hist(df[i], alpha=0.8, bins = 100, edgecolor = 'darkblue')\n",
    "    plt.xlabel(i, fontsize = 16)\n",
    "    plt.show()"
   ]
  },
  {
   "cell_type": "markdown",
   "metadata": {},
   "source": [
    "Аномальные значения в столбце Price устранены, но они остались в других столбцах. Например, на гистограммах, масштаб которых зависит от минимальных и максимальных значений признаков, видно, что в столбце RegistrationYear есть значения, отстоящие от XIX-XX веков на сотни лет.  \n"
   ]
  },
  {
   "cell_type": "code",
   "execution_count": 18,
   "metadata": {},
   "outputs": [
    {
     "data": {
      "text/plain": [
       "119"
      ]
     },
     "execution_count": 18,
     "metadata": {},
     "output_type": "execute_result"
    }
   ],
   "source": [
    "len(df.query('RegistrationYear > 2020 or RegistrationYear < 1920'))"
   ]
  },
  {
   "cell_type": "markdown",
   "metadata": {},
   "source": [
    "Этих значений немного, поэтому мы можем их удалить. "
   ]
  },
  {
   "cell_type": "code",
   "execution_count": 19,
   "metadata": {},
   "outputs": [
    {
     "data": {
      "text/plain": [
       "331087"
      ]
     },
     "execution_count": 19,
     "metadata": {},
     "output_type": "execute_result"
    }
   ],
   "source": [
    "df = df.query('RegistrationYear <= 2020 and RegistrationYear >= 1920')\n",
    "len(df)"
   ]
  },
  {
   "cell_type": "code",
   "execution_count": 20,
   "metadata": {},
   "outputs": [
    {
     "data": {
      "image/png": "[encoded data removed]",
      "text/plain": [
       "<Figure size 864x576 with 1 Axes>"
      ]
     },
     "metadata": {
      "needs_background": "light"
     },
     "output_type": "display_data"
    }
   ],
   "source": [
    "fig = plt.figure(figsize=(12,8))\n",
    "ax = fig.add_subplot()\n",
    "ax.set_xlim([df['RegistrationYear'].min()-1,df['RegistrationYear'].max()+2])\n",
    "ax.grid(b=True, which = 'major' )\n",
    "plt.hist(df['RegistrationYear'], alpha=0.8, bins = 100, edgecolor = 'darkblue')\n",
    "plt.xlabel('RegistrationYear', fontsize = 16)\n",
    "plt.show()"
   ]
  },
  {
   "cell_type": "markdown",
   "metadata": {},
   "source": [
    "Ситуация с годами регистрации улучшилась, хотя мы задали излишне мягкие временные рамки для автомобилей. Мы видим, что количество зарегистрированных до 1980-1990 годов авто резко падает. Их вполне можно принять за аномалию, и житейское рассуждение подтверждает это: средний срок службы автомобиля составляет примерно 5-10 лет, но даже с постоянным ремонтом и тщательным уходом автомобиль вряд ли прослужит дольше 30-40 лет, поэтому зарегистрированные ранее 1970 года авто с большой вероятностью - ошибка."
   ]
  },
  {
   "cell_type": "code",
   "execution_count": 21,
   "metadata": {},
   "outputs": [
    {
     "data": {
      "text/plain": [
       "1019"
      ]
     },
     "execution_count": 21,
     "metadata": {},
     "output_type": "execute_result"
    }
   ],
   "source": [
    "len(df.query('RegistrationYear < 1970'))"
   ]
  },
  {
   "cell_type": "markdown",
   "metadata": {},
   "source": [
    "Благо, их не так много, и их можно спокойно удалить."
   ]
  },
  {
   "cell_type": "code",
   "execution_count": 22,
   "metadata": {},
   "outputs": [],
   "source": [
    "df = df.query('RegistrationYear >= 1970')"
   ]
  },
  {
   "cell_type": "markdown",
   "metadata": {},
   "source": [
    "Аномалий в столбце Power, к сожалению, гораздо больше. Сверхвысоких мощностей среди данных немного, но близкие к нулю и нулевые показатели мощности составляют более 10% от выборки, что чрезмерно много для удаления. "
   ]
  },
  {
   "cell_type": "code",
   "execution_count": 23,
   "metadata": {},
   "outputs": [
    {
     "data": {
      "text/plain": [
       "224"
      ]
     },
     "execution_count": 23,
     "metadata": {},
     "output_type": "execute_result"
    }
   ],
   "source": [
    "len(df.query('Power > 1200'))"
   ]
  },
  {
   "cell_type": "code",
   "execution_count": 24,
   "metadata": {},
   "outputs": [
    {
     "data": {
      "text/plain": [
       "36176"
      ]
     },
     "execution_count": 24,
     "metadata": {},
     "output_type": "execute_result"
    }
   ],
   "source": [
    "len(df.query('Power < 50'))"
   ]
  },
  {
   "cell_type": "markdown",
   "metadata": {},
   "source": [
    "Мы удалим только сверхвысокие значения, потому что их немного, а нулевые и околонулевые значения мощности превратим в пропуски, чтобы потом заполнить."
   ]
  },
  {
   "cell_type": "code",
   "execution_count": 25,
   "metadata": {},
   "outputs": [],
   "source": [
    "df = df.query('Power <= 1200')"
   ]
  },
  {
   "cell_type": "code",
   "execution_count": 26,
   "metadata": {},
   "outputs": [
    {
     "data": {
      "image/png": "[encoded data removed]",
      "text/plain": [
       "<Figure size 864x576 with 1 Axes>"
      ]
     },
     "metadata": {
      "needs_background": "light"
     },
     "output_type": "display_data"
    }
   ],
   "source": [
    "fig = plt.figure(figsize=(12,8))\n",
    "ax = fig.add_subplot()\n",
    "ax.set_xlim([df['Power'].min()-1,df['Power'].max()+2])\n",
    "ax.grid(b=True, which = 'major' )\n",
    "plt.hist(df['Power'], alpha=0.8, bins = 100, edgecolor = 'darkblue')\n",
    "plt.xlabel('Power', fontsize = 16)\n",
    "plt.show()"
   ]
  },
  {
   "cell_type": "markdown",
   "metadata": {},
   "source": [
    "Теоретически, на сайте автомобилей с пробегом могут продаваться спорткары, однако вероятнее, что это ошибка, поэтому анкеты с автомобилями мощностью более 400 л.с. можно удалить - график демонстрирует, что мы почти ничего не потеряем."
   ]
  },
  {
   "cell_type": "code",
   "execution_count": 27,
   "metadata": {},
   "outputs": [
    {
     "data": {
      "text/plain": [
       "429"
      ]
     },
     "execution_count": 27,
     "metadata": {},
     "output_type": "execute_result"
    }
   ],
   "source": [
    "len(df.query('Power > 400'))"
   ]
  },
  {
   "cell_type": "code",
   "execution_count": 28,
   "metadata": {},
   "outputs": [],
   "source": [
    "df = df.query('Power <= 400')"
   ]
  },
  {
   "cell_type": "code",
   "execution_count": 29,
   "metadata": {},
   "outputs": [
    {
     "data": {
      "text/html": [
       "<div>\n",
       "<style scoped>\n",
       "    .dataframe tbody tr th:only-of-type {\n",
       "        vertical-align: middle;\n",
       "    }\n",
       "\n",
       "    .dataframe tbody tr th {\n",
       "        vertical-align: top;\n",
       "    }\n",
       "\n",
       "    .dataframe thead th {\n",
       "        text-align: right;\n",
       "    }\n",
       "</style>\n",
       "<table border=\"1\" class=\"dataframe\">\n",
       "  <thead>\n",
       "    <tr style=\"text-align: right;\">\n",
       "      <th></th>\n",
       "      <th>DateCrawled</th>\n",
       "      <th>Price</th>\n",
       "      <th>VehicleType</th>\n",
       "      <th>RegistrationYear</th>\n",
       "      <th>Gearbox</th>\n",
       "      <th>Power</th>\n",
       "      <th>Model</th>\n",
       "      <th>Kilometer</th>\n",
       "      <th>RegistrationMonth</th>\n",
       "      <th>FuelType</th>\n",
       "      <th>Brand</th>\n",
       "      <th>NotRepaired</th>\n",
       "      <th>DateCreated</th>\n",
       "      <th>NumberOfPictures</th>\n",
       "      <th>PostalCode</th>\n",
       "      <th>LastSeen</th>\n",
       "    </tr>\n",
       "  </thead>\n",
       "  <tbody>\n",
       "    <tr>\n",
       "      <th>0</th>\n",
       "      <td>2016-03-24 11:52:17</td>\n",
       "      <td>480</td>\n",
       "      <td>NaN</td>\n",
       "      <td>1993</td>\n",
       "      <td>manual</td>\n",
       "      <td>NaN</td>\n",
       "      <td>golf</td>\n",
       "      <td>150000</td>\n",
       "      <td>0</td>\n",
       "      <td>petrol</td>\n",
       "      <td>volkswagen</td>\n",
       "      <td>NaN</td>\n",
       "      <td>2016-03-24 00:00:00</td>\n",
       "      <td>0</td>\n",
       "      <td>70435</td>\n",
       "      <td>2016-04-07 03:16:57</td>\n",
       "    </tr>\n",
       "    <tr>\n",
       "      <th>37</th>\n",
       "      <td>2016-03-28 17:50:15</td>\n",
       "      <td>1500</td>\n",
       "      <td>NaN</td>\n",
       "      <td>2016</td>\n",
       "      <td>NaN</td>\n",
       "      <td>NaN</td>\n",
       "      <td>kangoo</td>\n",
       "      <td>150000</td>\n",
       "      <td>1</td>\n",
       "      <td>gasoline</td>\n",
       "      <td>renault</td>\n",
       "      <td>no</td>\n",
       "      <td>2016-03-28 00:00:00</td>\n",
       "      <td>0</td>\n",
       "      <td>46483</td>\n",
       "      <td>2016-03-30 09:18:02</td>\n",
       "    </tr>\n",
       "    <tr>\n",
       "      <th>54</th>\n",
       "      <td>2016-03-17 07:56:40</td>\n",
       "      <td>4700</td>\n",
       "      <td>wagon</td>\n",
       "      <td>2005</td>\n",
       "      <td>manual</td>\n",
       "      <td>NaN</td>\n",
       "      <td>signum</td>\n",
       "      <td>150000</td>\n",
       "      <td>0</td>\n",
       "      <td>NaN</td>\n",
       "      <td>opel</td>\n",
       "      <td>no</td>\n",
       "      <td>2016-03-17 00:00:00</td>\n",
       "      <td>0</td>\n",
       "      <td>88433</td>\n",
       "      <td>2016-04-04 04:17:32</td>\n",
       "    </tr>\n",
       "    <tr>\n",
       "      <th>55</th>\n",
       "      <td>2016-03-26 10:39:35</td>\n",
       "      <td>550</td>\n",
       "      <td>wagon</td>\n",
       "      <td>1999</td>\n",
       "      <td>manual</td>\n",
       "      <td>NaN</td>\n",
       "      <td>astra</td>\n",
       "      <td>150000</td>\n",
       "      <td>8</td>\n",
       "      <td>gasoline</td>\n",
       "      <td>opel</td>\n",
       "      <td>yes</td>\n",
       "      <td>2016-03-26 00:00:00</td>\n",
       "      <td>0</td>\n",
       "      <td>56759</td>\n",
       "      <td>2016-04-01 23:17:27</td>\n",
       "    </tr>\n",
       "    <tr>\n",
       "      <th>69</th>\n",
       "      <td>2016-04-01 11:56:40</td>\n",
       "      <td>1200</td>\n",
       "      <td>coupe</td>\n",
       "      <td>2001</td>\n",
       "      <td>NaN</td>\n",
       "      <td>NaN</td>\n",
       "      <td>astra</td>\n",
       "      <td>150000</td>\n",
       "      <td>0</td>\n",
       "      <td>NaN</td>\n",
       "      <td>opel</td>\n",
       "      <td>NaN</td>\n",
       "      <td>2016-04-01 00:00:00</td>\n",
       "      <td>0</td>\n",
       "      <td>47249</td>\n",
       "      <td>2016-04-07 08:46:07</td>\n",
       "    </tr>\n",
       "    <tr>\n",
       "      <th>...</th>\n",
       "      <td>...</td>\n",
       "      <td>...</td>\n",
       "      <td>...</td>\n",
       "      <td>...</td>\n",
       "      <td>...</td>\n",
       "      <td>...</td>\n",
       "      <td>...</td>\n",
       "      <td>...</td>\n",
       "      <td>...</td>\n",
       "      <td>...</td>\n",
       "      <td>...</td>\n",
       "      <td>...</td>\n",
       "      <td>...</td>\n",
       "      <td>...</td>\n",
       "      <td>...</td>\n",
       "      <td>...</td>\n",
       "    </tr>\n",
       "    <tr>\n",
       "      <th>354336</th>\n",
       "      <td>2016-03-05 18:57:45</td>\n",
       "      <td>3299</td>\n",
       "      <td>NaN</td>\n",
       "      <td>2005</td>\n",
       "      <td>auto</td>\n",
       "      <td>NaN</td>\n",
       "      <td>outlander</td>\n",
       "      <td>150000</td>\n",
       "      <td>4</td>\n",
       "      <td>petrol</td>\n",
       "      <td>mitsubishi</td>\n",
       "      <td>NaN</td>\n",
       "      <td>2016-03-05 00:00:00</td>\n",
       "      <td>0</td>\n",
       "      <td>17034</td>\n",
       "      <td>2016-03-06 04:17:37</td>\n",
       "    </tr>\n",
       "    <tr>\n",
       "      <th>354346</th>\n",
       "      <td>2016-03-07 17:06:35</td>\n",
       "      <td>2600</td>\n",
       "      <td>NaN</td>\n",
       "      <td>2005</td>\n",
       "      <td>auto</td>\n",
       "      <td>NaN</td>\n",
       "      <td>c_klasse</td>\n",
       "      <td>150000</td>\n",
       "      <td>9</td>\n",
       "      <td>NaN</td>\n",
       "      <td>mercedes_benz</td>\n",
       "      <td>NaN</td>\n",
       "      <td>2016-03-07 00:00:00</td>\n",
       "      <td>0</td>\n",
       "      <td>61169</td>\n",
       "      <td>2016-03-08 21:28:38</td>\n",
       "    </tr>\n",
       "    <tr>\n",
       "      <th>354360</th>\n",
       "      <td>2016-04-02 20:37:03</td>\n",
       "      <td>3999</td>\n",
       "      <td>wagon</td>\n",
       "      <td>2005</td>\n",
       "      <td>manual</td>\n",
       "      <td>NaN</td>\n",
       "      <td>3er</td>\n",
       "      <td>150000</td>\n",
       "      <td>5</td>\n",
       "      <td>gasoline</td>\n",
       "      <td>bmw</td>\n",
       "      <td>no</td>\n",
       "      <td>2016-04-02 00:00:00</td>\n",
       "      <td>0</td>\n",
       "      <td>81825</td>\n",
       "      <td>2016-04-06 20:47:12</td>\n",
       "    </tr>\n",
       "    <tr>\n",
       "      <th>354363</th>\n",
       "      <td>2016-03-27 20:36:20</td>\n",
       "      <td>1150</td>\n",
       "      <td>bus</td>\n",
       "      <td>2000</td>\n",
       "      <td>manual</td>\n",
       "      <td>NaN</td>\n",
       "      <td>zafira</td>\n",
       "      <td>150000</td>\n",
       "      <td>3</td>\n",
       "      <td>petrol</td>\n",
       "      <td>opel</td>\n",
       "      <td>no</td>\n",
       "      <td>2016-03-27 00:00:00</td>\n",
       "      <td>0</td>\n",
       "      <td>26624</td>\n",
       "      <td>2016-03-29 10:17:23</td>\n",
       "    </tr>\n",
       "    <tr>\n",
       "      <th>354365</th>\n",
       "      <td>2016-03-14 17:48:27</td>\n",
       "      <td>2200</td>\n",
       "      <td>NaN</td>\n",
       "      <td>2005</td>\n",
       "      <td>NaN</td>\n",
       "      <td>NaN</td>\n",
       "      <td>NaN</td>\n",
       "      <td>20000</td>\n",
       "      <td>1</td>\n",
       "      <td>NaN</td>\n",
       "      <td>sonstige_autos</td>\n",
       "      <td>NaN</td>\n",
       "      <td>2016-03-14 00:00:00</td>\n",
       "      <td>0</td>\n",
       "      <td>39576</td>\n",
       "      <td>2016-04-06 00:46:52</td>\n",
       "    </tr>\n",
       "  </tbody>\n",
       "</table>\n",
       "<p>36176 rows × 16 columns</p>\n",
       "</div>"
      ],
      "text/plain": [
       "                DateCrawled  Price VehicleType  RegistrationYear Gearbox  \\\n",
       "0       2016-03-24 11:52:17    480         NaN              1993  manual   \n",
       "37      2016-03-28 17:50:15   1500         NaN              2016     NaN   \n",
       "54      2016-03-17 07:56:40   4700       wagon              2005  manual   \n",
       "55      2016-03-26 10:39:35    550       wagon              1999  manual   \n",
       "69      2016-04-01 11:56:40   1200       coupe              2001     NaN   \n",
       "...                     ...    ...         ...               ...     ...   \n",
       "354336  2016-03-05 18:57:45   3299         NaN              2005    auto   \n",
       "354346  2016-03-07 17:06:35   2600         NaN              2005    auto   \n",
       "354360  2016-04-02 20:37:03   3999       wagon              2005  manual   \n",
       "354363  2016-03-27 20:36:20   1150         bus              2000  manual   \n",
       "354365  2016-03-14 17:48:27   2200         NaN              2005     NaN   \n",
       "\n",
       "        Power      Model  Kilometer  RegistrationMonth  FuelType  \\\n",
       "0         NaN       golf     150000                  0    petrol   \n",
       "37        NaN     kangoo     150000                  1  gasoline   \n",
       "54        NaN     signum     150000                  0       NaN   \n",
       "55        NaN      astra     150000                  8  gasoline   \n",
       "69        NaN      astra     150000                  0       NaN   \n",
       "...       ...        ...        ...                ...       ...   \n",
       "354336    NaN  outlander     150000                  4    petrol   \n",
       "354346    NaN   c_klasse     150000                  9       NaN   \n",
       "354360    NaN        3er     150000                  5  gasoline   \n",
       "354363    NaN     zafira     150000                  3    petrol   \n",
       "354365    NaN        NaN      20000                  1       NaN   \n",
       "\n",
       "                 Brand NotRepaired          DateCreated  NumberOfPictures  \\\n",
       "0           volkswagen         NaN  2016-03-24 00:00:00                 0   \n",
       "37             renault          no  2016-03-28 00:00:00                 0   \n",
       "54                opel          no  2016-03-17 00:00:00                 0   \n",
       "55                opel         yes  2016-03-26 00:00:00                 0   \n",
       "69                opel         NaN  2016-04-01 00:00:00                 0   \n",
       "...                ...         ...                  ...               ...   \n",
       "354336      mitsubishi         NaN  2016-03-05 00:00:00                 0   \n",
       "354346   mercedes_benz         NaN  2016-03-07 00:00:00                 0   \n",
       "354360             bmw          no  2016-04-02 00:00:00                 0   \n",
       "354363            opel          no  2016-03-27 00:00:00                 0   \n",
       "354365  sonstige_autos         NaN  2016-03-14 00:00:00                 0   \n",
       "\n",
       "        PostalCode             LastSeen  \n",
       "0            70435  2016-04-07 03:16:57  \n",
       "37           46483  2016-03-30 09:18:02  \n",
       "54           88433  2016-04-04 04:17:32  \n",
       "55           56759  2016-04-01 23:17:27  \n",
       "69           47249  2016-04-07 08:46:07  \n",
       "...            ...                  ...  \n",
       "354336       17034  2016-03-06 04:17:37  \n",
       "354346       61169  2016-03-08 21:28:38  \n",
       "354360       81825  2016-04-06 20:47:12  \n",
       "354363       26624  2016-03-29 10:17:23  \n",
       "354365       39576  2016-04-06 00:46:52  \n",
       "\n",
       "[36176 rows x 16 columns]"
      ]
     },
     "execution_count": 29,
     "metadata": {},
     "output_type": "execute_result"
    }
   ],
   "source": [
    "df.loc[df['Power'] < 50, 'Power'] = np.nan\n",
    "df.query('Power < 50')\n",
    "df.loc[df['Power'].isnull()==True]"
   ]
  },
  {
   "cell_type": "markdown",
   "metadata": {},
   "source": [
    "С оставшейся аномалией - нулевым месяцем в RegistrationMonth - похожая проблема: слишком много объектов с данным значеним. При этом выдвинуть хоть какое-то доподлинное предположение о том, какой месяц мог подразумеваться под нулевым, мы не можем."
   ]
  },
  {
   "cell_type": "code",
   "execution_count": 30,
   "metadata": {},
   "outputs": [
    {
     "data": {
      "text/plain": [
       "28032"
      ]
     },
     "execution_count": 30,
     "metadata": {},
     "output_type": "execute_result"
    }
   ],
   "source": [
    "len(df.query('RegistrationMonth < 1'))"
   ]
  },
  {
   "cell_type": "markdown",
   "metadata": {},
   "source": [
    "Заменим все нулевые значения на пропуски, чтобы заполнить их."
   ]
  },
  {
   "cell_type": "code",
   "execution_count": 31,
   "metadata": {},
   "outputs": [],
   "source": [
    "df.loc[df['RegistrationMonth'] < 1, 'RegistrationMonth'] = np.nan"
   ]
  },
  {
   "cell_type": "code",
   "execution_count": 32,
   "metadata": {},
   "outputs": [
    {
     "data": {
      "text/plain": [
       "28032"
      ]
     },
     "execution_count": 32,
     "metadata": {},
     "output_type": "execute_result"
    }
   ],
   "source": [
    "len(df[df['RegistrationMonth'].isnull()==True])"
   ]
  },
  {
   "cell_type": "code",
   "execution_count": 33,
   "metadata": {},
   "outputs": [
    {
     "data": {
      "text/plain": [
       "DateCrawled              0\n",
       "Price                    0\n",
       "VehicleType          29699\n",
       "RegistrationYear         0\n",
       "Gearbox              14471\n",
       "Power                36176\n",
       "Model                15537\n",
       "Kilometer                0\n",
       "RegistrationMonth    28032\n",
       "FuelType             25549\n",
       "Brand                    0\n",
       "NotRepaired          59442\n",
       "DateCreated              0\n",
       "NumberOfPictures         0\n",
       "PostalCode               0\n",
       "LastSeen                 0\n",
       "dtype: int64"
      ]
     },
     "execution_count": 33,
     "metadata": {},
     "output_type": "execute_result"
    }
   ],
   "source": [
    "df.isnull().sum()"
   ]
  },
  {
   "cell_type": "markdown",
   "metadata": {},
   "source": [
    "Аномалии, которые можно было удалить, удалены, остальные превращены в отсутствующие значения, которые мы заполним вместе с остальными пропусками.  \n",
    "\n",
    "Мы будем заполнять пропуски исходя из предпосылки, что пропуски можно заполнить наиболее встречающимися или медианными значениями искомого признака, которые уже есть в таблице, среди объектов, объединенных рядом свойств. То есть мы будем разбивать объекты на группы по ряду факторов, брать медианные (для количественных) или наиболее многочисленные (для категориальных) наличествующие значения, которые принимает признак, пропуски в котором мы хотим заполнить, и будем заполнять ими пропуски для объектов, относящимися к соответствующим группам.  \n",
    "\n",
    "Для этого определим функцию, которая принимает два признака - фактор 1 и фактор 2 - по которым объекты будут делиться на группы, и третий признак - тот, пропуски которого мы хотим заполнить. Если признак с пропущенными значениями количественный, мы определим медианное значение для каждой группы, если категориальный - возьмем значение, чаще всего встечающееся у объектов с соответсвующей комбинацией признаков-факторов.  \n",
    "На выходе получим столбец со значениями искомого признака, посмотрев на который и оценив, мы сможем добавить его в основной датафрейм, заменив им старый столбец с пропусками, сократив таким образом количество пропусков."
   ]
  },
  {
   "cell_type": "code",
   "execution_count": 34,
   "metadata": {},
   "outputs": [],
   "source": [
    "def two_factors_imputer(factor1, factor2, target):\n",
    "    two_factors_dict = {'factor1': list(df[factor1]), 'factor2':list(df[factor2]), 'target':list(df[target]) }\n",
    "    two_factors_df = pd.DataFrame(data = two_factors_dict, index = df.index)\n",
    "    \n",
    "    if target in quantitative_columns:\n",
    "        quant_pivot = two_factors_df.pivot_table(index = 'factor1', \n",
    "                                                 columns = 'factor2', \n",
    "                                                 values = 'target', \n",
    "                                                 aggfunc = 'median')\n",
    "        def quant_filling(row):\n",
    "            try:\n",
    "                return quant_pivot.loc[row['factor1'], row['factor2']]\n",
    "            except:\n",
    "                return row['target']\n",
    "        two_factors_df.loc[two_factors_df['target'].isnull() == True, 'target'] = two_factors_df[two_factors_df['target'].isnull() == True].apply(quant_filling, axis = 1)\n",
    "        return two_factors_df['target']\n",
    "    else:\n",
    "        two_factors_df['helper'] = df['Price']\n",
    "        cat_pivot = two_factors_df.pivot_table(index = 'target',\n",
    "                                                columns = ['factor1', 'factor2'], \n",
    "                                                values = 'helper',\n",
    "                                                aggfunc = 'count')\n",
    "        def cat_filling(row):\n",
    "            try:\n",
    "                return cat_pivot[cat_pivot[row['factor1'],row['factor2']] == cat_pivot[row['factor1'],row['factor2']].max()].index[0]\n",
    "            except:\n",
    "                return row['target']\n",
    "        two_factors_df.loc[two_factors_df['target'].isnull() == True, 'target'] = two_factors_df[two_factors_df['target'].isnull() == True].apply(cat_filling, axis = 1)\n",
    "        return two_factors_df['target']   \n",
    "            \n",
    "        \n",
    "            \n",
    "        "
   ]
  },
  {
   "cell_type": "markdown",
   "metadata": {},
   "source": [
    "Для некоторых комбинаций факторов медианные/частые значения искомого столбца будут отсутствовать, а при более детальной группировке - если уникальных значений факторов много и групп тоже оказывается слишком много с относительно малым количеством значений в каждой - в мелкие группы не будут попадать наличествующие значения искомого признака и будут попадать только пропуски. Поэтому вряд ли получится заполнить все пропуски за один раз. Если пропусков заполнится мало, мы сначала заполним значениями, полученными при более подходящих и/или детальных сочетаниях признаков, затем - при более крупных.  \n",
    "Также в некоторых случаях мы будем использовать в роли фактора признак, у которого тоже есть пропуски. Тогда мы сначала заполним, что можем, с его помощью, потом заполним его, потом повторим. "
   ]
  },
  {
   "cell_type": "code",
   "execution_count": 35,
   "metadata": {},
   "outputs": [
    {
     "data": {
      "text/plain": [
       "DateCrawled              0\n",
       "Price                    0\n",
       "VehicleType          29699\n",
       "RegistrationYear         0\n",
       "Gearbox              14471\n",
       "Power                36176\n",
       "Model                15537\n",
       "Kilometer                0\n",
       "RegistrationMonth    28032\n",
       "FuelType             25549\n",
       "Brand                    0\n",
       "NotRepaired          59442\n",
       "DateCreated              0\n",
       "NumberOfPictures         0\n",
       "PostalCode               0\n",
       "LastSeen                 0\n",
       "dtype: int64"
      ]
     },
     "execution_count": 35,
     "metadata": {},
     "output_type": "execute_result"
    }
   ],
   "source": [
    "df.isnull().sum()"
   ]
  },
  {
   "cell_type": "markdown",
   "metadata": {},
   "source": [
    "В большинстве случаев мы будем использовать в качестве фактора бренд и модель машины. Исходим из предпосылки, что у машин одинаковой модели (и, соотвественно, бренда) в целом близкие и, скорее всего, одинаковые ТХ вроде коробки передач, мощности, типа топлива и вида транспортного средства.\n",
    "Начнем со столбца Gearbox. "
   ]
  },
  {
   "cell_type": "code",
   "execution_count": 36,
   "metadata": {},
   "outputs": [
    {
     "name": "stdout",
     "output_type": "stream",
     "text": [
      "Wall time: 5.04 s\n"
     ]
    },
    {
     "data": {
      "text/plain": [
       "0         manual\n",
       "1         manual\n",
       "2           auto\n",
       "3         manual\n",
       "4         manual\n",
       "           ...  \n",
       "354363    manual\n",
       "354365       NaN\n",
       "354366      auto\n",
       "354367    manual\n",
       "354368    manual\n",
       "Name: target, Length: 329415, dtype: object"
      ]
     },
     "execution_count": 36,
     "metadata": {},
     "output_type": "execute_result"
    }
   ],
   "source": [
    "%%time\n",
    "Gearbox1 = two_factors_imputer('Brand','Model','Gearbox')\n",
    "Gearbox1"
   ]
  },
  {
   "cell_type": "code",
   "execution_count": 37,
   "metadata": {},
   "outputs": [
    {
     "data": {
      "text/plain": [
       "2303"
      ]
     },
     "execution_count": 37,
     "metadata": {},
     "output_type": "execute_result"
    }
   ],
   "source": [
    "Gearbox1.isnull().sum()"
   ]
  },
  {
   "cell_type": "markdown",
   "metadata": {},
   "source": [
    "Мы видим, что количество пропусков в столбце Gearbox значительно уменьшилось. Добавим его в датафрейм."
   ]
  },
  {
   "cell_type": "code",
   "execution_count": 38,
   "metadata": {},
   "outputs": [
    {
     "data": {
      "text/plain": [
       "DateCrawled              0\n",
       "Price                    0\n",
       "VehicleType          29699\n",
       "RegistrationYear         0\n",
       "Gearbox               2303\n",
       "Power                36176\n",
       "Model                15537\n",
       "Kilometer                0\n",
       "RegistrationMonth    28032\n",
       "FuelType             25549\n",
       "Brand                    0\n",
       "NotRepaired          59442\n",
       "DateCreated              0\n",
       "NumberOfPictures         0\n",
       "PostalCode               0\n",
       "LastSeen                 0\n",
       "dtype: int64"
      ]
     },
     "execution_count": 38,
     "metadata": {},
     "output_type": "execute_result"
    }
   ],
   "source": [
    "df['Gearbox'] = Gearbox1\n",
    "df.isnull().sum()"
   ]
  },
  {
   "cell_type": "markdown",
   "metadata": {},
   "source": [
    "Проделаем то же самое со столбцом Power."
   ]
  },
  {
   "cell_type": "code",
   "execution_count": 39,
   "metadata": {},
   "outputs": [
    {
     "name": "stdout",
     "output_type": "stream",
     "text": [
      "Wall time: 1.21 s\n"
     ]
    },
    {
     "data": {
      "text/plain": [
       "0         101.0\n",
       "1         190.0\n",
       "2         163.0\n",
       "3          75.0\n",
       "4          69.0\n",
       "          ...  \n",
       "354363    125.0\n",
       "354365      NaN\n",
       "354366    101.0\n",
       "354367    102.0\n",
       "354368    100.0\n",
       "Name: target, Length: 329415, dtype: float64"
      ]
     },
     "execution_count": 39,
     "metadata": {},
     "output_type": "execute_result"
    }
   ],
   "source": [
    "%%time\n",
    "Power = two_factors_imputer('Brand','Model','Power')\n",
    "Power"
   ]
  },
  {
   "cell_type": "code",
   "execution_count": 40,
   "metadata": {},
   "outputs": [
    {
     "data": {
      "text/plain": [
       "4494"
      ]
     },
     "execution_count": 40,
     "metadata": {},
     "output_type": "execute_result"
    }
   ],
   "source": [
    "Power.isnull().sum()"
   ]
  },
  {
   "cell_type": "code",
   "execution_count": 41,
   "metadata": {},
   "outputs": [
    {
     "data": {
      "text/plain": [
       "DateCrawled              0\n",
       "Price                    0\n",
       "VehicleType          29699\n",
       "RegistrationYear         0\n",
       "Gearbox               2303\n",
       "Power                 4494\n",
       "Model                15537\n",
       "Kilometer                0\n",
       "RegistrationMonth    28032\n",
       "FuelType             25549\n",
       "Brand                    0\n",
       "NotRepaired          59442\n",
       "DateCreated              0\n",
       "NumberOfPictures         0\n",
       "PostalCode               0\n",
       "LastSeen                 0\n",
       "dtype: int64"
      ]
     },
     "execution_count": 41,
     "metadata": {},
     "output_type": "execute_result"
    }
   ],
   "source": [
    "df['Power'] = Power\n",
    "df.isnull().sum()"
   ]
  },
  {
   "cell_type": "markdown",
   "metadata": {},
   "source": [
    "Таким же образом заполним пропуски в столбцах VehicleType и FuelType."
   ]
  },
  {
   "cell_type": "code",
   "execution_count": 42,
   "metadata": {},
   "outputs": [
    {
     "name": "stdout",
     "output_type": "stream",
     "text": [
      "Wall time: 10.1 s\n"
     ]
    },
    {
     "data": {
      "text/plain": [
       "DateCrawled              0\n",
       "Price                    0\n",
       "VehicleType           4710\n",
       "RegistrationYear         0\n",
       "Gearbox               2303\n",
       "Power                 4494\n",
       "Model                15537\n",
       "Kilometer                0\n",
       "RegistrationMonth    28032\n",
       "FuelType             25549\n",
       "Brand                    0\n",
       "NotRepaired          59442\n",
       "DateCreated              0\n",
       "NumberOfPictures         0\n",
       "PostalCode               0\n",
       "LastSeen                 0\n",
       "dtype: int64"
      ]
     },
     "execution_count": 42,
     "metadata": {},
     "output_type": "execute_result"
    }
   ],
   "source": [
    "%%time\n",
    "VType = two_factors_imputer('Brand','Model','VehicleType')\n",
    "df['VehicleType'] = VType\n",
    "df.isnull().sum()"
   ]
  },
  {
   "cell_type": "code",
   "execution_count": 43,
   "metadata": {},
   "outputs": [
    {
     "name": "stdout",
     "output_type": "stream",
     "text": [
      "Wall time: 8.38 s\n"
     ]
    },
    {
     "data": {
      "text/plain": [
       "0           petrol\n",
       "1         gasoline\n",
       "2         gasoline\n",
       "3           petrol\n",
       "4         gasoline\n",
       "            ...   \n",
       "354363      petrol\n",
       "354365         NaN\n",
       "354366      petrol\n",
       "354367    gasoline\n",
       "354368    gasoline\n",
       "Name: target, Length: 329415, dtype: object"
      ]
     },
     "execution_count": 43,
     "metadata": {},
     "output_type": "execute_result"
    }
   ],
   "source": [
    "%%time\n",
    "FuelType = two_factors_imputer('Brand','Model','FuelType')\n",
    "FuelType"
   ]
  },
  {
   "cell_type": "code",
   "execution_count": 44,
   "metadata": {},
   "outputs": [
    {
     "data": {
      "text/plain": [
       "DateCrawled              0\n",
       "Price                    0\n",
       "VehicleType           4710\n",
       "RegistrationYear         0\n",
       "Gearbox               2303\n",
       "Power                 4494\n",
       "Model                15537\n",
       "Kilometer                0\n",
       "RegistrationMonth    28032\n",
       "FuelType              4961\n",
       "Brand                    0\n",
       "NotRepaired          59442\n",
       "DateCreated              0\n",
       "NumberOfPictures         0\n",
       "PostalCode               0\n",
       "LastSeen                 0\n",
       "dtype: int64"
      ]
     },
     "execution_count": 44,
     "metadata": {},
     "output_type": "execute_result"
    }
   ],
   "source": [
    "df['FuelType'] = FuelType\n",
    "df.isnull().sum()"
   ]
  },
  {
   "cell_type": "markdown",
   "metadata": {},
   "source": [
    "Заполнив пропуски в столбцах с помощью имеющихся у нас значений Model, мы можем попробовать заполнить пропуски в самом Model. Однако имеющиеся у нас данные по типу транспортного средства, топлива и мощности по отдельности не являются такими же исчерпывающими определяющими факторами, как модель машины, поскольку если одной модели соответсвует не очень большое или вовсе единственное значение типа транспортного средства или мощности, то одна и та же мощность может быть у совершенно разных моделей даже внутри одного бренда, как и разные модели могут представлять собой разные типы кузова. Чтобы более точно определить модель (вернее, с большей вероятностью угадать ее), можно определить группы с помощью всех этих признаков сразу.  \n",
    "Для этого определим функцию, аналогичную предыдущей, но принимающей уже четыре фактора."
   ]
  },
  {
   "cell_type": "code",
   "execution_count": 45,
   "metadata": {},
   "outputs": [],
   "source": [
    "def four_factors_imputer(factor1, factor2, factor3, factor4, target):\n",
    "    four_factors_dict = {'factor1': list(df[factor1]), 'factor2':list(df[factor2]), 'factor3':list(df[factor3]), 'factor4':list(df[factor4]), 'target':list(df[target]) }\n",
    "    four_factors_df = pd.DataFrame(data = four_factors_dict, index = df.index)\n",
    "    \n",
    "    if target in quantitative_columns:\n",
    "        quant_pivot = four_factors_df.pivot_table(index = ['factor3','factor4'], \n",
    "                                                 columns = ['factor1','factor2'], \n",
    "                                                 values = 'target', \n",
    "                                                 aggfunc = 'median')\n",
    "        def quant_filling(row):\n",
    "            try:\n",
    "                return quant_pivot.loc[(row['factor3'],row['factor4']), (row['factor1'], row['factor2'])]\n",
    "            except:\n",
    "                return row['target']\n",
    "        four_factors_df.loc[four_factors_df['target'].isnull() == True, 'target'] = four_factors_df[four_factors_df['target'].isnull() == True].apply(quant_filling, axis = 1)\n",
    "        return four_factors_df['target']\n",
    "    else:\n",
    "        four_factors_df['helper'] = df['Price']\n",
    "        cat_pivot = four_factors_df.pivot_table(index = 'target',\n",
    "                                                columns = ['factor1', 'factor2','factor3','factor4'], \n",
    "                                                values = 'helper',\n",
    "                                                aggfunc = 'count')\n",
    "        def cat_filling(row):\n",
    "            try:\n",
    "                return cat_pivot[cat_pivot[row['factor1'],row['factor2'],row['factor3'],row['factor4']] == cat_pivot[row['factor1'],row['factor2'],row['factor3'],row['factor4']].max()].index[0]\n",
    "            except:\n",
    "                return row['target']\n",
    "        four_factors_df.loc[four_factors_df['target'].isnull() == True, 'target'] = four_factors_df[four_factors_df['target'].isnull() == True].apply(cat_filling, axis = 1)\n",
    "        return four_factors_df['target']   \n",
    "            \n",
    "        \n",
    "            \n",
    "        "
   ]
  },
  {
   "cell_type": "markdown",
   "metadata": {},
   "source": [
    "Исходим из предпосылки, что авто данного бренда, с данным типом кузова, топлива и данной мощности (во второй итерации - с данным типом коробки передач), скорее всего, принадлежат одной модели.  "
   ]
  },
  {
   "cell_type": "code",
   "execution_count": 46,
   "metadata": {},
   "outputs": [
    {
     "name": "stdout",
     "output_type": "stream",
     "text": [
      "Wall time: 4.28 s\n"
     ]
    },
    {
     "data": {
      "text/plain": [
       "0                golf\n",
       "1                  a5\n",
       "2               grand\n",
       "3                golf\n",
       "4               fabia\n",
       "             ...     \n",
       "354363         zafira\n",
       "354365            NaN\n",
       "354366         fortwo\n",
       "354367    transporter\n",
       "354368           golf\n",
       "Name: target, Length: 329415, dtype: object"
      ]
     },
     "execution_count": 46,
     "metadata": {},
     "output_type": "execute_result"
    }
   ],
   "source": [
    "%%time\n",
    "Mod1 = four_factors_imputer('Brand','VehicleType','FuelType','Power','Model')\n",
    "Mod1"
   ]
  },
  {
   "cell_type": "code",
   "execution_count": 47,
   "metadata": {},
   "outputs": [
    {
     "data": {
      "text/plain": [
       "10228"
      ]
     },
     "execution_count": 47,
     "metadata": {},
     "output_type": "execute_result"
    }
   ],
   "source": [
    "Mod1.isnull().sum()"
   ]
  },
  {
   "cell_type": "code",
   "execution_count": 48,
   "metadata": {},
   "outputs": [
    {
     "data": {
      "text/plain": [
       "DateCrawled              0\n",
       "Price                    0\n",
       "VehicleType           4710\n",
       "RegistrationYear         0\n",
       "Gearbox               2303\n",
       "Power                 4494\n",
       "Model                10228\n",
       "Kilometer                0\n",
       "RegistrationMonth    28032\n",
       "FuelType              4961\n",
       "Brand                    0\n",
       "NotRepaired          59442\n",
       "DateCreated              0\n",
       "NumberOfPictures         0\n",
       "PostalCode               0\n",
       "LastSeen                 0\n",
       "dtype: int64"
      ]
     },
     "execution_count": 48,
     "metadata": {},
     "output_type": "execute_result"
    }
   ],
   "source": [
    "df['Model'] = Mod1\n",
    "df.isnull().sum()"
   ]
  },
  {
   "cell_type": "markdown",
   "metadata": {},
   "source": [
    "Заполнилось не так много пропусков из-за достаточно мелкой группировки, вызванной большим количеством значений Power. Попробуем заполнить с помощью более крупной группировки, заменив Power на бинарный признак Gearbox.  "
   ]
  },
  {
   "cell_type": "code",
   "execution_count": 49,
   "metadata": {},
   "outputs": [
    {
     "name": "stdout",
     "output_type": "stream",
     "text": [
      "Wall time: 1.56 s\n"
     ]
    },
    {
     "data": {
      "text/plain": [
       "8857"
      ]
     },
     "execution_count": 49,
     "metadata": {},
     "output_type": "execute_result"
    }
   ],
   "source": [
    "%%time\n",
    "Mod2 = four_factors_imputer('Brand','VehicleType','FuelType','Gearbox','Model')\n",
    "Mod2.isnull().sum()"
   ]
  },
  {
   "cell_type": "markdown",
   "metadata": {},
   "source": [
    "Четырехфакторная функция позволила нам довольно детально заполнить часть пропусков Model, но мы практически подошли к пределу возможностей этой функции на данный момент. Остальные признаки либо не имеют отношения к Model, либо дадут более мелкую группировку, из-за чего прирост заполненных значений будет незначительным.  \n",
    "Перейдем на двухфакторную функцию. "
   ]
  },
  {
   "cell_type": "code",
   "execution_count": 50,
   "metadata": {},
   "outputs": [
    {
     "data": {
      "text/plain": [
       "4917"
      ]
     },
     "execution_count": 50,
     "metadata": {},
     "output_type": "execute_result"
    }
   ],
   "source": [
    "df['Model'] = Mod2\n",
    "Mod3 = two_factors_imputer('Brand','Power','Model')\n",
    "Mod3.isnull().sum()"
   ]
  },
  {
   "cell_type": "code",
   "execution_count": 51,
   "metadata": {},
   "outputs": [
    {
     "data": {
      "text/plain": [
       "4181"
      ]
     },
     "execution_count": 51,
     "metadata": {},
     "output_type": "execute_result"
    }
   ],
   "source": [
    "df['Model'] = Mod3\n",
    "Mod4 = two_factors_imputer('Brand','VehicleType','Model')\n",
    "Mod4.isnull().sum()"
   ]
  },
  {
   "cell_type": "code",
   "execution_count": 52,
   "metadata": {},
   "outputs": [
    {
     "data": {
      "text/plain": [
       "3280"
      ]
     },
     "execution_count": 52,
     "metadata": {},
     "output_type": "execute_result"
    }
   ],
   "source": [
    "df['Model'] = Mod4\n",
    "Mod5 = two_factors_imputer('Brand','Gearbox','Model')\n",
    "Mod5.isnull().sum()"
   ]
  },
  {
   "cell_type": "code",
   "execution_count": 53,
   "metadata": {},
   "outputs": [],
   "source": [
    "df['Model'] = Mod5"
   ]
  },
  {
   "cell_type": "markdown",
   "metadata": {},
   "source": [
    "Мы перебрали признаки, с помощью которых можно определить Model, в порядке уменьшения детальности группировки признаков и, соответственно, точности заполнения данных.  \n",
    "Заполненные позиции Model позволят нам дозаполнить часть оставшихся пропусков в других столбцах. "
   ]
  },
  {
   "cell_type": "code",
   "execution_count": 54,
   "metadata": {},
   "outputs": [
    {
     "data": {
      "text/plain": [
       "1423"
      ]
     },
     "execution_count": 54,
     "metadata": {},
     "output_type": "execute_result"
    }
   ],
   "source": [
    "Gearbox2 = two_factors_imputer('Brand','Model','Gearbox')\n",
    "df['Gearbox'] = Gearbox2\n",
    "Gearbox2.isnull().sum()"
   ]
  },
  {
   "cell_type": "code",
   "execution_count": 55,
   "metadata": {},
   "outputs": [
    {
     "data": {
      "text/plain": [
       "1824"
      ]
     },
     "execution_count": 55,
     "metadata": {},
     "output_type": "execute_result"
    }
   ],
   "source": [
    "Power2 = two_factors_imputer('Brand','Model','Power')\n",
    "df['Power'] = Power2\n",
    "Power2.isnull().sum()"
   ]
  },
  {
   "cell_type": "code",
   "execution_count": 56,
   "metadata": {},
   "outputs": [
    {
     "data": {
      "text/plain": [
       "1410"
      ]
     },
     "execution_count": 56,
     "metadata": {},
     "output_type": "execute_result"
    }
   ],
   "source": [
    "VType2 = two_factors_imputer('Brand','Model','VehicleType')\n",
    "VType2.isnull().sum()"
   ]
  },
  {
   "cell_type": "code",
   "execution_count": 57,
   "metadata": {},
   "outputs": [],
   "source": [
    "df['VehicleType'] = VType2"
   ]
  },
  {
   "cell_type": "code",
   "execution_count": 58,
   "metadata": {},
   "outputs": [
    {
     "data": {
      "text/plain": [
       "1192"
      ]
     },
     "execution_count": 58,
     "metadata": {},
     "output_type": "execute_result"
    }
   ],
   "source": [
    "FuelType2 = two_factors_imputer('Brand','Model','FuelType')\n",
    "df['FuelType'] = FuelType2\n",
    "FuelType2.isnull().sum()"
   ]
  },
  {
   "cell_type": "code",
   "execution_count": 59,
   "metadata": {},
   "outputs": [
    {
     "data": {
      "text/plain": [
       "1824"
      ]
     },
     "execution_count": 59,
     "metadata": {},
     "output_type": "execute_result"
    }
   ],
   "source": [
    "df['FuelType'] = FuelType2\n",
    "Power3 = two_factors_imputer('Model','VehicleType','Power')\n",
    "Power3.isnull().sum()"
   ]
  },
  {
   "cell_type": "code",
   "execution_count": 60,
   "metadata": {},
   "outputs": [
    {
     "data": {
      "text/plain": [
       "1323"
      ]
     },
     "execution_count": 60,
     "metadata": {},
     "output_type": "execute_result"
    }
   ],
   "source": [
    "Power3 = two_factors_imputer('Brand','VehicleType','Power')\n",
    "df['Power'] = Power3\n",
    "Power3.isnull().sum()"
   ]
  },
  {
   "cell_type": "code",
   "execution_count": 61,
   "metadata": {},
   "outputs": [
    {
     "data": {
      "text/plain": [
       "DateCrawled              0\n",
       "Price                    0\n",
       "VehicleType           1410\n",
       "RegistrationYear         0\n",
       "Gearbox               1423\n",
       "Power                 1323\n",
       "Model                 3280\n",
       "Kilometer                0\n",
       "RegistrationMonth    28032\n",
       "FuelType              1192\n",
       "Brand                    0\n",
       "NotRepaired          59442\n",
       "DateCreated              0\n",
       "NumberOfPictures         0\n",
       "PostalCode               0\n",
       "LastSeen                 0\n",
       "dtype: int64"
      ]
     },
     "execution_count": 61,
     "metadata": {},
     "output_type": "execute_result"
    }
   ],
   "source": [
    "df.isnull().sum()"
   ]
  },
  {
   "cell_type": "markdown",
   "metadata": {},
   "source": [
    "Мы заполнили связанные между собой ТХ настолько, насколько смогли.  \n",
    "Признак NotRepaired, в котором есть пропуски, зависит от другого набора признаков. Предположим, что на вероятность наличия аварий/поломок у автомобиля, потребовавших ремонт, влияет пробег - чем он больше, тем больше износ автомобиля и вероятность участия в ДТП - год регистрации - чем автомобиль старше, тем выше износ и вероятность участия в ДТП - тип кузова - в зависимости от габаритов может меняться сложность управления транспортным средством и вероятность участия в ДТП - и, косвенно, бренд автомобиля - предположим, что более дорогим маркам свойственны более качественные комплектующие и меньший износ и риск поломки.  \n",
    "Используем четырехфакторную функцию для более детального заполнения, и двухфакторную для двух определяющих признаков - пробега и возраста авто, чтобы заполнить оставшиеся пропуски."
   ]
  },
  {
   "cell_type": "code",
   "execution_count": 62,
   "metadata": {},
   "outputs": [
    {
     "name": "stdout",
     "output_type": "stream",
     "text": [
      "Wall time: 28.5 s\n"
     ]
    },
    {
     "data": {
      "text/plain": [
       "4017"
      ]
     },
     "execution_count": 62,
     "metadata": {},
     "output_type": "execute_result"
    }
   ],
   "source": [
    "%%time\n",
    "Repairs1 = four_factors_imputer('Brand','VehicleType','Kilometer','RegistrationYear', 'NotRepaired')\n",
    "Repairs1.isnull().sum()"
   ]
  },
  {
   "cell_type": "code",
   "execution_count": 63,
   "metadata": {},
   "outputs": [
    {
     "name": "stdout",
     "output_type": "stream",
     "text": [
      "Wall time: 1.85 s\n"
     ]
    },
    {
     "data": {
      "text/plain": [
       "6"
      ]
     },
     "execution_count": 63,
     "metadata": {},
     "output_type": "execute_result"
    }
   ],
   "source": [
    "%%time\n",
    "df['NotRepaired'] = Repairs1\n",
    "Repairs2 = two_factors_imputer('Kilometer','RegistrationYear', 'NotRepaired')\n",
    "Repairs2.isnull().sum()"
   ]
  },
  {
   "cell_type": "code",
   "execution_count": 64,
   "metadata": {},
   "outputs": [],
   "source": [
    "df['NotRepaired'] = Repairs2"
   ]
  },
  {
   "cell_type": "markdown",
   "metadata": {},
   "source": [
    "Осталось заполнить столбец RegistrationMonth. К сожалению, признаков, которые могли бы точно определить месяц регистрации автомобиля, нет. Распределение анкет по месяцам более-менее одно и то же на разных выборках (за разные года, с указанием разных типов кузовов и т.д.), практически не коррелирует ни с каким другим признаком и логическая связь с каким-либо из признаков не прослеживается. "
   ]
  },
  {
   "cell_type": "code",
   "execution_count": 65,
   "metadata": {},
   "outputs": [
    {
     "data": {
      "text/html": [
       "<div>\n",
       "<style scoped>\n",
       "    .dataframe tbody tr th:only-of-type {\n",
       "        vertical-align: middle;\n",
       "    }\n",
       "\n",
       "    .dataframe tbody tr th {\n",
       "        vertical-align: top;\n",
       "    }\n",
       "\n",
       "    .dataframe thead th {\n",
       "        text-align: right;\n",
       "    }\n",
       "</style>\n",
       "<table border=\"1\" class=\"dataframe\">\n",
       "  <thead>\n",
       "    <tr style=\"text-align: right;\">\n",
       "      <th></th>\n",
       "      <th>Price</th>\n",
       "      <th>RegistrationYear</th>\n",
       "      <th>Power</th>\n",
       "      <th>Kilometer</th>\n",
       "      <th>RegistrationMonth</th>\n",
       "      <th>NumberOfPictures</th>\n",
       "      <th>PostalCode</th>\n",
       "    </tr>\n",
       "  </thead>\n",
       "  <tbody>\n",
       "    <tr>\n",
       "      <th>Price</th>\n",
       "      <td>1.000000</td>\n",
       "      <td>0.416796</td>\n",
       "      <td>0.499905</td>\n",
       "      <td>-0.370377</td>\n",
       "      <td>0.009604</td>\n",
       "      <td>NaN</td>\n",
       "      <td>0.070045</td>\n",
       "    </tr>\n",
       "    <tr>\n",
       "      <th>RegistrationYear</th>\n",
       "      <td>0.416796</td>\n",
       "      <td>1.000000</td>\n",
       "      <td>0.076552</td>\n",
       "      <td>-0.242922</td>\n",
       "      <td>0.004910</td>\n",
       "      <td>NaN</td>\n",
       "      <td>0.019156</td>\n",
       "    </tr>\n",
       "    <tr>\n",
       "      <th>Power</th>\n",
       "      <td>0.499905</td>\n",
       "      <td>0.076552</td>\n",
       "      <td>1.000000</td>\n",
       "      <td>0.105607</td>\n",
       "      <td>0.021785</td>\n",
       "      <td>NaN</td>\n",
       "      <td>0.055743</td>\n",
       "    </tr>\n",
       "    <tr>\n",
       "      <th>Kilometer</th>\n",
       "      <td>-0.370377</td>\n",
       "      <td>-0.242922</td>\n",
       "      <td>0.105607</td>\n",
       "      <td>1.000000</td>\n",
       "      <td>0.009566</td>\n",
       "      <td>NaN</td>\n",
       "      <td>-0.010976</td>\n",
       "    </tr>\n",
       "    <tr>\n",
       "      <th>RegistrationMonth</th>\n",
       "      <td>0.009604</td>\n",
       "      <td>0.004910</td>\n",
       "      <td>0.021785</td>\n",
       "      <td>0.009566</td>\n",
       "      <td>1.000000</td>\n",
       "      <td>NaN</td>\n",
       "      <td>-0.008793</td>\n",
       "    </tr>\n",
       "    <tr>\n",
       "      <th>NumberOfPictures</th>\n",
       "      <td>NaN</td>\n",
       "      <td>NaN</td>\n",
       "      <td>NaN</td>\n",
       "      <td>NaN</td>\n",
       "      <td>NaN</td>\n",
       "      <td>NaN</td>\n",
       "      <td>NaN</td>\n",
       "    </tr>\n",
       "    <tr>\n",
       "      <th>PostalCode</th>\n",
       "      <td>0.070045</td>\n",
       "      <td>0.019156</td>\n",
       "      <td>0.055743</td>\n",
       "      <td>-0.010976</td>\n",
       "      <td>-0.008793</td>\n",
       "      <td>NaN</td>\n",
       "      <td>1.000000</td>\n",
       "    </tr>\n",
       "  </tbody>\n",
       "</table>\n",
       "</div>"
      ],
      "text/plain": [
       "                      Price  RegistrationYear     Power  Kilometer  \\\n",
       "Price              1.000000          0.416796  0.499905  -0.370377   \n",
       "RegistrationYear   0.416796          1.000000  0.076552  -0.242922   \n",
       "Power              0.499905          0.076552  1.000000   0.105607   \n",
       "Kilometer         -0.370377         -0.242922  0.105607   1.000000   \n",
       "RegistrationMonth  0.009604          0.004910  0.021785   0.009566   \n",
       "NumberOfPictures        NaN               NaN       NaN        NaN   \n",
       "PostalCode         0.070045          0.019156  0.055743  -0.010976   \n",
       "\n",
       "                   RegistrationMonth  NumberOfPictures  PostalCode  \n",
       "Price                       0.009604               NaN    0.070045  \n",
       "RegistrationYear            0.004910               NaN    0.019156  \n",
       "Power                       0.021785               NaN    0.055743  \n",
       "Kilometer                   0.009566               NaN   -0.010976  \n",
       "RegistrationMonth           1.000000               NaN   -0.008793  \n",
       "NumberOfPictures                 NaN               NaN         NaN  \n",
       "PostalCode                 -0.008793               NaN    1.000000  "
      ]
     },
     "execution_count": 65,
     "metadata": {},
     "output_type": "execute_result"
    }
   ],
   "source": [
    "df.corr()"
   ]
  },
  {
   "cell_type": "markdown",
   "metadata": {},
   "source": [
    "Поэтому лучшим выходом будет распределить пропуски по месяцам, пропорционально уже имеющемуся распределению анкет по месяцам. Однако если мы просто посчитаем вес каждого месяца в общем количестве объектов и случайным образом распределим строки с пропусками в RegistrationMonth по месяцам, у нас есть риск получить аномалии, при которых новая модель автомобился будет зарегистрирована задолго до своего появления. Поэтому мы распределим пропуски за год пропорционально распределению анкет по месяцам за соответствующий год."
   ]
  },
  {
   "cell_type": "code",
   "execution_count": 66,
   "metadata": {},
   "outputs": [],
   "source": [
    "pivot_month = df.pivot_table(index = ['RegistrationYear','RegistrationMonth'], values = 'Price',aggfunc = 'count')\n"
   ]
  },
  {
   "cell_type": "code",
   "execution_count": 67,
   "metadata": {},
   "outputs": [],
   "source": [
    "pivot_year = df.pivot_table(index = 'RegistrationYear', values = 'Price',aggfunc = 'count')"
   ]
  },
  {
   "cell_type": "code",
   "execution_count": 68,
   "metadata": {},
   "outputs": [
    {
     "data": {
      "text/html": [
       "<div>\n",
       "<style scoped>\n",
       "    .dataframe tbody tr th:only-of-type {\n",
       "        vertical-align: middle;\n",
       "    }\n",
       "\n",
       "    .dataframe tbody tr th {\n",
       "        vertical-align: top;\n",
       "    }\n",
       "\n",
       "    .dataframe thead th {\n",
       "        text-align: right;\n",
       "    }\n",
       "</style>\n",
       "<table border=\"1\" class=\"dataframe\">\n",
       "  <thead>\n",
       "    <tr style=\"text-align: right;\">\n",
       "      <th></th>\n",
       "      <th>RegistrationYear</th>\n",
       "      <th>RegistrationMonth</th>\n",
       "      <th>Monthly_q</th>\n",
       "    </tr>\n",
       "  </thead>\n",
       "  <tbody>\n",
       "    <tr>\n",
       "      <th>0</th>\n",
       "      <td>1970</td>\n",
       "      <td>1.0</td>\n",
       "      <td>26</td>\n",
       "    </tr>\n",
       "    <tr>\n",
       "      <th>1</th>\n",
       "      <td>1970</td>\n",
       "      <td>2.0</td>\n",
       "      <td>13</td>\n",
       "    </tr>\n",
       "    <tr>\n",
       "      <th>2</th>\n",
       "      <td>1970</td>\n",
       "      <td>3.0</td>\n",
       "      <td>15</td>\n",
       "    </tr>\n",
       "    <tr>\n",
       "      <th>3</th>\n",
       "      <td>1970</td>\n",
       "      <td>4.0</td>\n",
       "      <td>19</td>\n",
       "    </tr>\n",
       "    <tr>\n",
       "      <th>4</th>\n",
       "      <td>1970</td>\n",
       "      <td>5.0</td>\n",
       "      <td>8</td>\n",
       "    </tr>\n",
       "    <tr>\n",
       "      <th>...</th>\n",
       "      <td>...</td>\n",
       "      <td>...</td>\n",
       "      <td>...</td>\n",
       "    </tr>\n",
       "    <tr>\n",
       "      <th>589</th>\n",
       "      <td>2019</td>\n",
       "      <td>4.0</td>\n",
       "      <td>1</td>\n",
       "    </tr>\n",
       "    <tr>\n",
       "      <th>590</th>\n",
       "      <td>2019</td>\n",
       "      <td>5.0</td>\n",
       "      <td>3</td>\n",
       "    </tr>\n",
       "    <tr>\n",
       "      <th>591</th>\n",
       "      <td>2019</td>\n",
       "      <td>7.0</td>\n",
       "      <td>1</td>\n",
       "    </tr>\n",
       "    <tr>\n",
       "      <th>592</th>\n",
       "      <td>2019</td>\n",
       "      <td>8.0</td>\n",
       "      <td>1</td>\n",
       "    </tr>\n",
       "    <tr>\n",
       "      <th>593</th>\n",
       "      <td>2019</td>\n",
       "      <td>12.0</td>\n",
       "      <td>1</td>\n",
       "    </tr>\n",
       "  </tbody>\n",
       "</table>\n",
       "<p>594 rows × 3 columns</p>\n",
       "</div>"
      ],
      "text/plain": [
       "     RegistrationYear  RegistrationMonth  Monthly_q\n",
       "0                1970                1.0         26\n",
       "1                1970                2.0         13\n",
       "2                1970                3.0         15\n",
       "3                1970                4.0         19\n",
       "4                1970                5.0          8\n",
       "..                ...                ...        ...\n",
       "589              2019                4.0          1\n",
       "590              2019                5.0          3\n",
       "591              2019                7.0          1\n",
       "592              2019                8.0          1\n",
       "593              2019               12.0          1\n",
       "\n",
       "[594 rows x 3 columns]"
      ]
     },
     "execution_count": 68,
     "metadata": {},
     "output_type": "execute_result"
    }
   ],
   "source": [
    "monthes = pivot_month.reset_index(drop = False, inplace = False)\n",
    "monthes.columns = ['RegistrationYear','RegistrationMonth','Monthly_q']\n",
    "monthes"
   ]
  },
  {
   "cell_type": "code",
   "execution_count": 69,
   "metadata": {},
   "outputs": [],
   "source": [
    "monthes = monthes.merge(pivot_year,how = 'left', left_on='RegistrationYear', right_on='RegistrationYear')\n",
    "monthes.columns = ['RegistrationYear','RegistrationMonth','Monthly_q','Yearly_q']"
   ]
  },
  {
   "cell_type": "code",
   "execution_count": 70,
   "metadata": {},
   "outputs": [
    {
     "data": {
      "text/html": [
       "<div>\n",
       "<style scoped>\n",
       "    .dataframe tbody tr th:only-of-type {\n",
       "        vertical-align: middle;\n",
       "    }\n",
       "\n",
       "    .dataframe tbody tr th {\n",
       "        vertical-align: top;\n",
       "    }\n",
       "\n",
       "    .dataframe thead th {\n",
       "        text-align: right;\n",
       "    }\n",
       "</style>\n",
       "<table border=\"1\" class=\"dataframe\">\n",
       "  <thead>\n",
       "    <tr style=\"text-align: right;\">\n",
       "      <th></th>\n",
       "      <th>RegistrationYear</th>\n",
       "      <th>RegistrationMonth</th>\n",
       "      <th>Monthly_q</th>\n",
       "      <th>Yearly_q</th>\n",
       "      <th>weights</th>\n",
       "    </tr>\n",
       "  </thead>\n",
       "  <tbody>\n",
       "    <tr>\n",
       "      <th>0</th>\n",
       "      <td>1970</td>\n",
       "      <td>1.0</td>\n",
       "      <td>26</td>\n",
       "      <td>246</td>\n",
       "      <td>0.105691</td>\n",
       "    </tr>\n",
       "    <tr>\n",
       "      <th>1</th>\n",
       "      <td>1970</td>\n",
       "      <td>2.0</td>\n",
       "      <td>13</td>\n",
       "      <td>246</td>\n",
       "      <td>0.052846</td>\n",
       "    </tr>\n",
       "    <tr>\n",
       "      <th>2</th>\n",
       "      <td>1970</td>\n",
       "      <td>3.0</td>\n",
       "      <td>15</td>\n",
       "      <td>246</td>\n",
       "      <td>0.060976</td>\n",
       "    </tr>\n",
       "    <tr>\n",
       "      <th>3</th>\n",
       "      <td>1970</td>\n",
       "      <td>4.0</td>\n",
       "      <td>19</td>\n",
       "      <td>246</td>\n",
       "      <td>0.077236</td>\n",
       "    </tr>\n",
       "    <tr>\n",
       "      <th>4</th>\n",
       "      <td>1970</td>\n",
       "      <td>5.0</td>\n",
       "      <td>8</td>\n",
       "      <td>246</td>\n",
       "      <td>0.032520</td>\n",
       "    </tr>\n",
       "    <tr>\n",
       "      <th>...</th>\n",
       "      <td>...</td>\n",
       "      <td>...</td>\n",
       "      <td>...</td>\n",
       "      <td>...</td>\n",
       "      <td>...</td>\n",
       "    </tr>\n",
       "    <tr>\n",
       "      <th>589</th>\n",
       "      <td>2019</td>\n",
       "      <td>4.0</td>\n",
       "      <td>1</td>\n",
       "      <td>13</td>\n",
       "      <td>0.076923</td>\n",
       "    </tr>\n",
       "    <tr>\n",
       "      <th>590</th>\n",
       "      <td>2019</td>\n",
       "      <td>5.0</td>\n",
       "      <td>3</td>\n",
       "      <td>13</td>\n",
       "      <td>0.230769</td>\n",
       "    </tr>\n",
       "    <tr>\n",
       "      <th>591</th>\n",
       "      <td>2019</td>\n",
       "      <td>7.0</td>\n",
       "      <td>1</td>\n",
       "      <td>13</td>\n",
       "      <td>0.076923</td>\n",
       "    </tr>\n",
       "    <tr>\n",
       "      <th>592</th>\n",
       "      <td>2019</td>\n",
       "      <td>8.0</td>\n",
       "      <td>1</td>\n",
       "      <td>13</td>\n",
       "      <td>0.076923</td>\n",
       "    </tr>\n",
       "    <tr>\n",
       "      <th>593</th>\n",
       "      <td>2019</td>\n",
       "      <td>12.0</td>\n",
       "      <td>1</td>\n",
       "      <td>13</td>\n",
       "      <td>0.076923</td>\n",
       "    </tr>\n",
       "  </tbody>\n",
       "</table>\n",
       "<p>594 rows × 5 columns</p>\n",
       "</div>"
      ],
      "text/plain": [
       "     RegistrationYear  RegistrationMonth  Monthly_q  Yearly_q   weights\n",
       "0                1970                1.0         26       246  0.105691\n",
       "1                1970                2.0         13       246  0.052846\n",
       "2                1970                3.0         15       246  0.060976\n",
       "3                1970                4.0         19       246  0.077236\n",
       "4                1970                5.0          8       246  0.032520\n",
       "..                ...                ...        ...       ...       ...\n",
       "589              2019                4.0          1        13  0.076923\n",
       "590              2019                5.0          3        13  0.230769\n",
       "591              2019                7.0          1        13  0.076923\n",
       "592              2019                8.0          1        13  0.076923\n",
       "593              2019               12.0          1        13  0.076923\n",
       "\n",
       "[594 rows x 5 columns]"
      ]
     },
     "execution_count": 70,
     "metadata": {},
     "output_type": "execute_result"
    }
   ],
   "source": [
    "monthes['weights'] = monthes['Monthly_q'] / monthes['Yearly_q']\n",
    "monthes"
   ]
  },
  {
   "cell_type": "code",
   "execution_count": 71,
   "metadata": {},
   "outputs": [],
   "source": [
    "month_nans = []\n",
    "years_with_nans = []\n",
    "for i in df['RegistrationYear'].unique():\n",
    "    n_nans = len(df[(df['RegistrationYear']==i)&(df['RegistrationMonth'].isnull()==True)])\n",
    "    month_nans.append(n_nans)\n",
    "    years_with_nans.append(i)\n",
    "month_nans_df = pd.DataFrame(data = {'month_nans':month_nans, 'year':years_with_nans}).sort_values(by='year') \n",
    "month_nans_df = month_nans_df.set_index('year')"
   ]
  },
  {
   "cell_type": "code",
   "execution_count": 72,
   "metadata": {},
   "outputs": [],
   "source": [
    "monthes = monthes.merge(month_nans_df,how = 'left', left_on='RegistrationYear', right_on='year')\n"
   ]
  },
  {
   "cell_type": "code",
   "execution_count": 73,
   "metadata": {},
   "outputs": [
    {
     "data": {
      "text/html": [
       "<div>\n",
       "<style scoped>\n",
       "    .dataframe tbody tr th:only-of-type {\n",
       "        vertical-align: middle;\n",
       "    }\n",
       "\n",
       "    .dataframe tbody tr th {\n",
       "        vertical-align: top;\n",
       "    }\n",
       "\n",
       "    .dataframe thead th {\n",
       "        text-align: right;\n",
       "    }\n",
       "</style>\n",
       "<table border=\"1\" class=\"dataframe\">\n",
       "  <thead>\n",
       "    <tr style=\"text-align: right;\">\n",
       "      <th></th>\n",
       "      <th>RegistrationYear</th>\n",
       "      <th>RegistrationMonth</th>\n",
       "      <th>Monthly_q</th>\n",
       "      <th>Yearly_q</th>\n",
       "      <th>weights</th>\n",
       "      <th>yearly_nans</th>\n",
       "      <th>monthly_nans</th>\n",
       "    </tr>\n",
       "  </thead>\n",
       "  <tbody>\n",
       "    <tr>\n",
       "      <th>0</th>\n",
       "      <td>1970</td>\n",
       "      <td>1.0</td>\n",
       "      <td>26</td>\n",
       "      <td>246</td>\n",
       "      <td>0.105691</td>\n",
       "      <td>95</td>\n",
       "      <td>10.0</td>\n",
       "    </tr>\n",
       "    <tr>\n",
       "      <th>1</th>\n",
       "      <td>1970</td>\n",
       "      <td>2.0</td>\n",
       "      <td>13</td>\n",
       "      <td>246</td>\n",
       "      <td>0.052846</td>\n",
       "      <td>95</td>\n",
       "      <td>5.0</td>\n",
       "    </tr>\n",
       "    <tr>\n",
       "      <th>2</th>\n",
       "      <td>1970</td>\n",
       "      <td>3.0</td>\n",
       "      <td>15</td>\n",
       "      <td>246</td>\n",
       "      <td>0.060976</td>\n",
       "      <td>95</td>\n",
       "      <td>6.0</td>\n",
       "    </tr>\n",
       "    <tr>\n",
       "      <th>3</th>\n",
       "      <td>1970</td>\n",
       "      <td>4.0</td>\n",
       "      <td>19</td>\n",
       "      <td>246</td>\n",
       "      <td>0.077236</td>\n",
       "      <td>95</td>\n",
       "      <td>7.0</td>\n",
       "    </tr>\n",
       "    <tr>\n",
       "      <th>4</th>\n",
       "      <td>1970</td>\n",
       "      <td>5.0</td>\n",
       "      <td>8</td>\n",
       "      <td>246</td>\n",
       "      <td>0.032520</td>\n",
       "      <td>95</td>\n",
       "      <td>3.0</td>\n",
       "    </tr>\n",
       "    <tr>\n",
       "      <th>...</th>\n",
       "      <td>...</td>\n",
       "      <td>...</td>\n",
       "      <td>...</td>\n",
       "      <td>...</td>\n",
       "      <td>...</td>\n",
       "      <td>...</td>\n",
       "      <td>...</td>\n",
       "    </tr>\n",
       "    <tr>\n",
       "      <th>589</th>\n",
       "      <td>2019</td>\n",
       "      <td>4.0</td>\n",
       "      <td>1</td>\n",
       "      <td>13</td>\n",
       "      <td>0.076923</td>\n",
       "      <td>5</td>\n",
       "      <td>0.0</td>\n",
       "    </tr>\n",
       "    <tr>\n",
       "      <th>590</th>\n",
       "      <td>2019</td>\n",
       "      <td>5.0</td>\n",
       "      <td>3</td>\n",
       "      <td>13</td>\n",
       "      <td>0.230769</td>\n",
       "      <td>5</td>\n",
       "      <td>1.0</td>\n",
       "    </tr>\n",
       "    <tr>\n",
       "      <th>591</th>\n",
       "      <td>2019</td>\n",
       "      <td>7.0</td>\n",
       "      <td>1</td>\n",
       "      <td>13</td>\n",
       "      <td>0.076923</td>\n",
       "      <td>5</td>\n",
       "      <td>0.0</td>\n",
       "    </tr>\n",
       "    <tr>\n",
       "      <th>592</th>\n",
       "      <td>2019</td>\n",
       "      <td>8.0</td>\n",
       "      <td>1</td>\n",
       "      <td>13</td>\n",
       "      <td>0.076923</td>\n",
       "      <td>5</td>\n",
       "      <td>0.0</td>\n",
       "    </tr>\n",
       "    <tr>\n",
       "      <th>593</th>\n",
       "      <td>2019</td>\n",
       "      <td>12.0</td>\n",
       "      <td>1</td>\n",
       "      <td>13</td>\n",
       "      <td>0.076923</td>\n",
       "      <td>5</td>\n",
       "      <td>0.0</td>\n",
       "    </tr>\n",
       "  </tbody>\n",
       "</table>\n",
       "<p>594 rows × 7 columns</p>\n",
       "</div>"
      ],
      "text/plain": [
       "     RegistrationYear  RegistrationMonth  Monthly_q  Yearly_q   weights  \\\n",
       "0                1970                1.0         26       246  0.105691   \n",
       "1                1970                2.0         13       246  0.052846   \n",
       "2                1970                3.0         15       246  0.060976   \n",
       "3                1970                4.0         19       246  0.077236   \n",
       "4                1970                5.0          8       246  0.032520   \n",
       "..                ...                ...        ...       ...       ...   \n",
       "589              2019                4.0          1        13  0.076923   \n",
       "590              2019                5.0          3        13  0.230769   \n",
       "591              2019                7.0          1        13  0.076923   \n",
       "592              2019                8.0          1        13  0.076923   \n",
       "593              2019               12.0          1        13  0.076923   \n",
       "\n",
       "     yearly_nans  monthly_nans  \n",
       "0             95          10.0  \n",
       "1             95           5.0  \n",
       "2             95           6.0  \n",
       "3             95           7.0  \n",
       "4             95           3.0  \n",
       "..           ...           ...  \n",
       "589            5           0.0  \n",
       "590            5           1.0  \n",
       "591            5           0.0  \n",
       "592            5           0.0  \n",
       "593            5           0.0  \n",
       "\n",
       "[594 rows x 7 columns]"
      ]
     },
     "execution_count": 73,
     "metadata": {},
     "output_type": "execute_result"
    }
   ],
   "source": [
    "monthes.columns = ['RegistrationYear','RegistrationMonth','Monthly_q','Yearly_q','weights','yearly_nans']\n",
    "monthes['monthly_nans'] = round(monthes['weights']*monthes['yearly_nans'])\n",
    "monthes"
   ]
  },
  {
   "cell_type": "code",
   "execution_count": 74,
   "metadata": {},
   "outputs": [],
   "source": [
    "df_old = copy.deepcopy(df)"
   ]
  },
  {
   "cell_type": "code",
   "execution_count": 75,
   "metadata": {},
   "outputs": [
    {
     "data": {
      "text/plain": [
       "6"
      ]
     },
     "execution_count": 75,
     "metadata": {},
     "output_type": "execute_result"
    }
   ],
   "source": [
    "int(monthes.loc[(monthes.loc[:,'RegistrationYear']==1970) & (monthes.loc[:,'RegistrationMonth']==3)]['monthly_nans'])"
   ]
  },
  {
   "cell_type": "code",
   "execution_count": 76,
   "metadata": {},
   "outputs": [
    {
     "name": "stdout",
     "output_type": "stream",
     "text": [
      "Wall time: 41.6 s\n"
     ]
    }
   ],
   "source": [
    "%%time\n",
    "random.seed(state)\n",
    "for i in df['RegistrationYear'].unique():\n",
    "    months_no_nan = (df[df['RegistrationYear']==i]['RegistrationMonth'].unique()[np.logical_not(np.isnan(df[df['RegistrationYear']==i]['RegistrationMonth'].unique()))])\n",
    "    for n in months_no_nan:\n",
    "        k = int(monthes.loc[(monthes.loc[:,'RegistrationYear']==i) & (monthes.loc[:,'RegistrationMonth']==n)]['monthly_nans'])\n",
    "        nans_index = df[(df['RegistrationYear']==i) & (df['RegistrationMonth'].isnull()==True)].index\n",
    "        nans_index_sample = random.sample(list(nans_index), k)\n",
    "        for m in nans_index_sample:\n",
    "            df.loc[m,'RegistrationMonth'] = n"
   ]
  },
  {
   "cell_type": "code",
   "execution_count": 77,
   "metadata": {},
   "outputs": [
    {
     "data": {
      "text/plain": [
       "3764"
      ]
     },
     "execution_count": 77,
     "metadata": {},
     "output_type": "execute_result"
    }
   ],
   "source": [
    "len(df[df['RegistrationMonth'].isnull()==True])"
   ]
  },
  {
   "cell_type": "markdown",
   "metadata": {},
   "source": [
    "Количество пропусков в RegistrationMonth значительно сократилось, хотя они и остались. Вероятно, они обусловлены округлениями в таблице monthes и в цикле. Как мы и хотели, пропуски распределились по месяцам пропорционально уже имеющемуся распределению, что можно увидеть на гистограмме (синяя часть столбца - добавленные пропуски). "
   ]
  },
  {
   "cell_type": "code",
   "execution_count": 78,
   "metadata": {},
   "outputs": [
    {
     "name": "stderr",
     "output_type": "stream",
     "text": [
      "D:\\Tools\\anaconda3\\lib\\site-packages\\numpy\\lib\\histograms.py:839: RuntimeWarning: invalid value encountered in greater_equal\n",
      "  keep = (tmp_a >= first_edge)\n",
      "D:\\Tools\\anaconda3\\lib\\site-packages\\numpy\\lib\\histograms.py:840: RuntimeWarning: invalid value encountered in less_equal\n",
      "  keep &= (tmp_a <= last_edge)\n"
     ]
    },
    {
     "data": {
      "image/png": "[encoded data removed]",
      "text/plain": [
       "<Figure size 864x576 with 1 Axes>"
      ]
     },
     "metadata": {
      "needs_background": "light"
     },
     "output_type": "display_data"
    }
   ],
   "source": [
    "fig = plt.figure(figsize=(12,8))\n",
    "ax = fig.add_subplot()\n",
    "ax.set_xlim([df['RegistrationMonth'].min()-1,df['RegistrationMonth'].max()+2])\n",
    "ax.grid(b=True, which = 'major' )\n",
    "plt.hist(df['RegistrationMonth'], alpha=0.8, bins = 12, edgecolor = 'darkblue')\n",
    "plt.hist(df_old['RegistrationMonth'], alpha=0.8, bins = 12, edgecolor = 'darkblue')\n",
    "plt.xlabel('RegistrationMonth', fontsize = 16)\n",
    "plt.show()"
   ]
  },
  {
   "cell_type": "code",
   "execution_count": 79,
   "metadata": {},
   "outputs": [
    {
     "data": {
      "text/plain": [
       "DateCrawled             0\n",
       "Price                   0\n",
       "VehicleType          1410\n",
       "RegistrationYear        0\n",
       "Gearbox              1423\n",
       "Power                1323\n",
       "Model                3280\n",
       "Kilometer               0\n",
       "RegistrationMonth    3764\n",
       "FuelType             1192\n",
       "Brand                   0\n",
       "NotRepaired             6\n",
       "DateCreated             0\n",
       "NumberOfPictures        0\n",
       "PostalCode              0\n",
       "LastSeen                0\n",
       "dtype: int64"
      ]
     },
     "execution_count": 79,
     "metadata": {},
     "output_type": "execute_result"
    }
   ],
   "source": [
    "df.isnull().sum()"
   ]
  },
  {
   "cell_type": "markdown",
   "metadata": {},
   "source": [
    "Мы значительно сократили количество пропусков в столбцах. Посмотрим, сколько всего строк сократится, если мы удалим все оставшиеся пропущенные значения. "
   ]
  },
  {
   "cell_type": "code",
   "execution_count": 80,
   "metadata": {},
   "outputs": [
    {
     "data": {
      "text/plain": [
       "6865"
      ]
     },
     "execution_count": 80,
     "metadata": {},
     "output_type": "execute_result"
    }
   ],
   "source": [
    "nulls = len(df[(df['VehicleType'].isnull() == True)\n",
    "   |(df['Gearbox'].isnull() == True)\n",
    "   |(df['Power'].isnull() == True)\n",
    "   |(df['Model'].isnull() == True)\n",
    "   |(df['RegistrationMonth'].isnull() == True)\n",
    "   |(df['FuelType'].isnull() == True)\n",
    "   |(df['NotRepaired'].isnull() == True)])\n",
    "nulls"
   ]
  },
  {
   "cell_type": "markdown",
   "metadata": {},
   "source": [
    "Мы потеряем всего 6865 строк, что более чем приемлемо."
   ]
  },
  {
   "cell_type": "code",
   "execution_count": 82,
   "metadata": {},
   "outputs": [
    {
     "name": "stdout",
     "output_type": "stream",
     "text": [
      "<class 'pandas.core.frame.DataFrame'>\n",
      "Int64Index: 322550 entries, 0 to 354368\n",
      "Data columns (total 16 columns):\n",
      " #   Column             Non-Null Count   Dtype  \n",
      "---  ------             --------------   -----  \n",
      " 0   DateCrawled        322550 non-null  object \n",
      " 1   Price              322550 non-null  int64  \n",
      " 2   VehicleType        322550 non-null  object \n",
      " 3   RegistrationYear   322550 non-null  int64  \n",
      " 4   Gearbox            322550 non-null  object \n",
      " 5   Power              322550 non-null  float64\n",
      " 6   Model              322550 non-null  object \n",
      " 7   Kilometer          322550 non-null  int64  \n",
      " 8   RegistrationMonth  322550 non-null  float64\n",
      " 9   FuelType           322550 non-null  object \n",
      " 10  Brand              322550 non-null  object \n",
      " 11  NotRepaired        322550 non-null  object \n",
      " 12  DateCreated        322550 non-null  object \n",
      " 13  NumberOfPictures   322550 non-null  int64  \n",
      " 14  PostalCode         322550 non-null  int64  \n",
      " 15  LastSeen           322550 non-null  object \n",
      "dtypes: float64(2), int64(5), object(9)\n",
      "memory usage: 41.8+ MB\n"
     ]
    }
   ],
   "source": [
    "df = df.dropna()\n",
    "df.info()"
   ]
  },
  {
   "cell_type": "markdown",
   "metadata": {},
   "source": [
    "## Дубликаты"
   ]
  },
  {
   "cell_type": "code",
   "execution_count": 83,
   "metadata": {},
   "outputs": [
    {
     "data": {
      "text/html": [
       "<div>\n",
       "<style scoped>\n",
       "    .dataframe tbody tr th:only-of-type {\n",
       "        vertical-align: middle;\n",
       "    }\n",
       "\n",
       "    .dataframe tbody tr th {\n",
       "        vertical-align: top;\n",
       "    }\n",
       "\n",
       "    .dataframe thead th {\n",
       "        text-align: right;\n",
       "    }\n",
       "</style>\n",
       "<table border=\"1\" class=\"dataframe\">\n",
       "  <thead>\n",
       "    <tr style=\"text-align: right;\">\n",
       "      <th></th>\n",
       "      <th>DateCrawled</th>\n",
       "      <th>Price</th>\n",
       "      <th>VehicleType</th>\n",
       "      <th>RegistrationYear</th>\n",
       "      <th>Gearbox</th>\n",
       "      <th>Power</th>\n",
       "      <th>Model</th>\n",
       "      <th>Kilometer</th>\n",
       "      <th>RegistrationMonth</th>\n",
       "      <th>FuelType</th>\n",
       "      <th>Brand</th>\n",
       "      <th>NotRepaired</th>\n",
       "      <th>DateCreated</th>\n",
       "      <th>NumberOfPictures</th>\n",
       "      <th>PostalCode</th>\n",
       "      <th>LastSeen</th>\n",
       "    </tr>\n",
       "  </thead>\n",
       "  <tbody>\n",
       "    <tr>\n",
       "      <th>171088</th>\n",
       "      <td>2016-03-08 18:42:48</td>\n",
       "      <td>1799</td>\n",
       "      <td>coupe</td>\n",
       "      <td>1999</td>\n",
       "      <td>auto</td>\n",
       "      <td>193.0</td>\n",
       "      <td>clk</td>\n",
       "      <td>20000</td>\n",
       "      <td>7.0</td>\n",
       "      <td>petrol</td>\n",
       "      <td>mercedes_benz</td>\n",
       "      <td>no</td>\n",
       "      <td>2016-03-08 00:00:00</td>\n",
       "      <td>0</td>\n",
       "      <td>89518</td>\n",
       "      <td>2016-03-09 09:46:57</td>\n",
       "    </tr>\n",
       "    <tr>\n",
       "      <th>194008</th>\n",
       "      <td>2016-04-04 22:50:44</td>\n",
       "      <td>13000</td>\n",
       "      <td>sedan</td>\n",
       "      <td>2008</td>\n",
       "      <td>manual</td>\n",
       "      <td>143.0</td>\n",
       "      <td>a4</td>\n",
       "      <td>125000</td>\n",
       "      <td>9.0</td>\n",
       "      <td>gasoline</td>\n",
       "      <td>audi</td>\n",
       "      <td>no</td>\n",
       "      <td>2016-04-04 00:00:00</td>\n",
       "      <td>0</td>\n",
       "      <td>65428</td>\n",
       "      <td>2016-04-05 12:30:14</td>\n",
       "    </tr>\n",
       "    <tr>\n",
       "      <th>231258</th>\n",
       "      <td>2016-03-28 00:56:10</td>\n",
       "      <td>1000</td>\n",
       "      <td>small</td>\n",
       "      <td>2002</td>\n",
       "      <td>manual</td>\n",
       "      <td>83.0</td>\n",
       "      <td>other</td>\n",
       "      <td>150000</td>\n",
       "      <td>1.0</td>\n",
       "      <td>petrol</td>\n",
       "      <td>suzuki</td>\n",
       "      <td>no</td>\n",
       "      <td>2016-03-28 00:00:00</td>\n",
       "      <td>0</td>\n",
       "      <td>66589</td>\n",
       "      <td>2016-03-28 08:46:21</td>\n",
       "    </tr>\n",
       "    <tr>\n",
       "      <th>258109</th>\n",
       "      <td>2016-04-03 09:01:15</td>\n",
       "      <td>4699</td>\n",
       "      <td>coupe</td>\n",
       "      <td>2003</td>\n",
       "      <td>auto</td>\n",
       "      <td>218.0</td>\n",
       "      <td>clk</td>\n",
       "      <td>125000</td>\n",
       "      <td>6.0</td>\n",
       "      <td>petrol</td>\n",
       "      <td>mercedes_benz</td>\n",
       "      <td>yes</td>\n",
       "      <td>2016-04-03 00:00:00</td>\n",
       "      <td>0</td>\n",
       "      <td>75196</td>\n",
       "      <td>2016-04-07 09:44:54</td>\n",
       "    </tr>\n",
       "    <tr>\n",
       "      <th>325651</th>\n",
       "      <td>2016-03-18 18:46:15</td>\n",
       "      <td>1999</td>\n",
       "      <td>wagon</td>\n",
       "      <td>2001</td>\n",
       "      <td>manual</td>\n",
       "      <td>131.0</td>\n",
       "      <td>passat</td>\n",
       "      <td>150000</td>\n",
       "      <td>7.0</td>\n",
       "      <td>gasoline</td>\n",
       "      <td>volkswagen</td>\n",
       "      <td>no</td>\n",
       "      <td>2016-03-18 00:00:00</td>\n",
       "      <td>0</td>\n",
       "      <td>36391</td>\n",
       "      <td>2016-03-18 18:46:15</td>\n",
       "    </tr>\n",
       "  </tbody>\n",
       "</table>\n",
       "</div>"
      ],
      "text/plain": [
       "                DateCrawled  Price VehicleType  RegistrationYear Gearbox  \\\n",
       "171088  2016-03-08 18:42:48   1799       coupe              1999    auto   \n",
       "194008  2016-04-04 22:50:44  13000       sedan              2008  manual   \n",
       "231258  2016-03-28 00:56:10   1000       small              2002  manual   \n",
       "258109  2016-04-03 09:01:15   4699       coupe              2003    auto   \n",
       "325651  2016-03-18 18:46:15   1999       wagon              2001  manual   \n",
       "\n",
       "        Power   Model  Kilometer  RegistrationMonth  FuelType          Brand  \\\n",
       "171088  193.0     clk      20000                7.0    petrol  mercedes_benz   \n",
       "194008  143.0      a4     125000                9.0  gasoline           audi   \n",
       "231258   83.0   other     150000                1.0    petrol         suzuki   \n",
       "258109  218.0     clk     125000                6.0    petrol  mercedes_benz   \n",
       "325651  131.0  passat     150000                7.0  gasoline     volkswagen   \n",
       "\n",
       "       NotRepaired          DateCreated  NumberOfPictures  PostalCode  \\\n",
       "171088          no  2016-03-08 00:00:00                 0       89518   \n",
       "194008          no  2016-04-04 00:00:00                 0       65428   \n",
       "231258          no  2016-03-28 00:00:00                 0       66589   \n",
       "258109         yes  2016-04-03 00:00:00                 0       75196   \n",
       "325651          no  2016-03-18 00:00:00                 0       36391   \n",
       "\n",
       "                   LastSeen  \n",
       "171088  2016-03-09 09:46:57  \n",
       "194008  2016-04-05 12:30:14  \n",
       "231258  2016-03-28 08:46:21  \n",
       "258109  2016-04-07 09:44:54  \n",
       "325651  2016-03-18 18:46:15  "
      ]
     },
     "execution_count": 83,
     "metadata": {},
     "output_type": "execute_result"
    }
   ],
   "source": [
    "df[df.duplicated() == True]"
   ]
  },
  {
   "cell_type": "code",
   "execution_count": 84,
   "metadata": {},
   "outputs": [],
   "source": [
    "df = df.drop_duplicates().reset_index(drop = True)\n"
   ]
  },
  {
   "cell_type": "markdown",
   "metadata": {},
   "source": [
    "## Типы данных"
   ]
  },
  {
   "cell_type": "code",
   "execution_count": 86,
   "metadata": {},
   "outputs": [
    {
     "data": {
      "text/plain": [
       "DateCrawled          29796\n",
       "Price                29796\n",
       "VehicleType          29796\n",
       "RegistrationYear     29796\n",
       "Gearbox              29796\n",
       "Power                29796\n",
       "Model                29796\n",
       "Kilometer            29796\n",
       "RegistrationMonth    29796\n",
       "FuelType             29796\n",
       "Brand                29796\n",
       "NotRepaired          29796\n",
       "DateCreated          29796\n",
       "NumberOfPictures     29796\n",
       "PostalCode           29796\n",
       "LastSeen             29796\n",
       "dtype: int64"
      ]
     },
     "execution_count": 86,
     "metadata": {},
     "output_type": "execute_result"
    }
   ],
   "source": [
    "df[df['NotRepaired']=='yes'].count()"
   ]
  },
  {
   "cell_type": "code",
   "execution_count": 88,
   "metadata": {},
   "outputs": [
    {
     "data": {
      "text/html": [
       "<div>\n",
       "<style scoped>\n",
       "    .dataframe tbody tr th:only-of-type {\n",
       "        vertical-align: middle;\n",
       "    }\n",
       "\n",
       "    .dataframe tbody tr th {\n",
       "        vertical-align: top;\n",
       "    }\n",
       "\n",
       "    .dataframe thead th {\n",
       "        text-align: right;\n",
       "    }\n",
       "</style>\n",
       "<table border=\"1\" class=\"dataframe\">\n",
       "  <thead>\n",
       "    <tr style=\"text-align: right;\">\n",
       "      <th></th>\n",
       "      <th>DateCrawled</th>\n",
       "      <th>Price</th>\n",
       "      <th>VehicleType</th>\n",
       "      <th>RegistrationYear</th>\n",
       "      <th>Gearbox</th>\n",
       "      <th>Power</th>\n",
       "      <th>Model</th>\n",
       "      <th>Kilometer</th>\n",
       "      <th>RegistrationMonth</th>\n",
       "      <th>FuelType</th>\n",
       "      <th>Brand</th>\n",
       "      <th>NotRepaired</th>\n",
       "      <th>DateCreated</th>\n",
       "      <th>NumberOfPictures</th>\n",
       "      <th>PostalCode</th>\n",
       "      <th>LastSeen</th>\n",
       "    </tr>\n",
       "  </thead>\n",
       "  <tbody>\n",
       "    <tr>\n",
       "      <th>0</th>\n",
       "      <td>2016-03-24 11:52:17</td>\n",
       "      <td>480</td>\n",
       "      <td>sedan</td>\n",
       "      <td>1993</td>\n",
       "      <td>manual</td>\n",
       "      <td>101.0</td>\n",
       "      <td>golf</td>\n",
       "      <td>150000</td>\n",
       "      <td>12.0</td>\n",
       "      <td>petrol</td>\n",
       "      <td>volkswagen</td>\n",
       "      <td>0</td>\n",
       "      <td>2016-03-24 00:00:00</td>\n",
       "      <td>0</td>\n",
       "      <td>70435</td>\n",
       "      <td>2016-04-07 03:16:57</td>\n",
       "    </tr>\n",
       "    <tr>\n",
       "      <th>1</th>\n",
       "      <td>2016-03-24 10:58:45</td>\n",
       "      <td>18300</td>\n",
       "      <td>coupe</td>\n",
       "      <td>2011</td>\n",
       "      <td>manual</td>\n",
       "      <td>190.0</td>\n",
       "      <td>a5</td>\n",
       "      <td>125000</td>\n",
       "      <td>5.0</td>\n",
       "      <td>gasoline</td>\n",
       "      <td>audi</td>\n",
       "      <td>1</td>\n",
       "      <td>2016-03-24 00:00:00</td>\n",
       "      <td>0</td>\n",
       "      <td>66954</td>\n",
       "      <td>2016-04-07 01:46:50</td>\n",
       "    </tr>\n",
       "    <tr>\n",
       "      <th>2</th>\n",
       "      <td>2016-03-14 12:52:21</td>\n",
       "      <td>9800</td>\n",
       "      <td>suv</td>\n",
       "      <td>2004</td>\n",
       "      <td>auto</td>\n",
       "      <td>163.0</td>\n",
       "      <td>grand</td>\n",
       "      <td>125000</td>\n",
       "      <td>8.0</td>\n",
       "      <td>gasoline</td>\n",
       "      <td>jeep</td>\n",
       "      <td>0</td>\n",
       "      <td>2016-03-14 00:00:00</td>\n",
       "      <td>0</td>\n",
       "      <td>90480</td>\n",
       "      <td>2016-04-05 12:47:46</td>\n",
       "    </tr>\n",
       "    <tr>\n",
       "      <th>3</th>\n",
       "      <td>2016-03-17 16:54:04</td>\n",
       "      <td>1500</td>\n",
       "      <td>small</td>\n",
       "      <td>2001</td>\n",
       "      <td>manual</td>\n",
       "      <td>75.0</td>\n",
       "      <td>golf</td>\n",
       "      <td>150000</td>\n",
       "      <td>6.0</td>\n",
       "      <td>petrol</td>\n",
       "      <td>volkswagen</td>\n",
       "      <td>0</td>\n",
       "      <td>2016-03-17 00:00:00</td>\n",
       "      <td>0</td>\n",
       "      <td>91074</td>\n",
       "      <td>2016-03-17 17:40:17</td>\n",
       "    </tr>\n",
       "    <tr>\n",
       "      <th>4</th>\n",
       "      <td>2016-03-31 17:25:20</td>\n",
       "      <td>3600</td>\n",
       "      <td>small</td>\n",
       "      <td>2008</td>\n",
       "      <td>manual</td>\n",
       "      <td>69.0</td>\n",
       "      <td>fabia</td>\n",
       "      <td>90000</td>\n",
       "      <td>7.0</td>\n",
       "      <td>gasoline</td>\n",
       "      <td>skoda</td>\n",
       "      <td>0</td>\n",
       "      <td>2016-03-31 00:00:00</td>\n",
       "      <td>0</td>\n",
       "      <td>60437</td>\n",
       "      <td>2016-04-06 10:17:21</td>\n",
       "    </tr>\n",
       "  </tbody>\n",
       "</table>\n",
       "</div>"
      ],
      "text/plain": [
       "           DateCrawled  Price VehicleType  RegistrationYear Gearbox  Power  \\\n",
       "0  2016-03-24 11:52:17    480       sedan              1993  manual  101.0   \n",
       "1  2016-03-24 10:58:45  18300       coupe              2011  manual  190.0   \n",
       "2  2016-03-14 12:52:21   9800         suv              2004    auto  163.0   \n",
       "3  2016-03-17 16:54:04   1500       small              2001  manual   75.0   \n",
       "4  2016-03-31 17:25:20   3600       small              2008  manual   69.0   \n",
       "\n",
       "   Model  Kilometer  RegistrationMonth  FuelType       Brand NotRepaired  \\\n",
       "0   golf     150000               12.0    petrol  volkswagen           0   \n",
       "1     a5     125000                5.0  gasoline        audi           1   \n",
       "2  grand     125000                8.0  gasoline        jeep           0   \n",
       "3   golf     150000                6.0    petrol  volkswagen           0   \n",
       "4  fabia      90000                7.0  gasoline       skoda           0   \n",
       "\n",
       "           DateCreated  NumberOfPictures  PostalCode             LastSeen  \n",
       "0  2016-03-24 00:00:00                 0       70435  2016-04-07 03:16:57  \n",
       "1  2016-03-24 00:00:00                 0       66954  2016-04-07 01:46:50  \n",
       "2  2016-03-14 00:00:00                 0       90480  2016-04-05 12:47:46  \n",
       "3  2016-03-17 00:00:00                 0       91074  2016-03-17 17:40:17  \n",
       "4  2016-03-31 00:00:00                 0       60437  2016-04-06 10:17:21  "
      ]
     },
     "execution_count": 88,
     "metadata": {},
     "output_type": "execute_result"
    }
   ],
   "source": [
    "df.loc[df['NotRepaired']=='yes','NotRepaired'] = 1\n",
    "df.loc[df['NotRepaired']=='no', 'NotRepaired'] = 0\n",
    "df.head()"
   ]
  },
  {
   "cell_type": "code",
   "execution_count": 89,
   "metadata": {},
   "outputs": [
    {
     "data": {
      "text/plain": [
       "29796"
      ]
     },
     "execution_count": 89,
     "metadata": {},
     "output_type": "execute_result"
    }
   ],
   "source": [
    "df['NotRepaired'] = df['NotRepaired'].astype('bool')\n",
    "df['NotRepaired'].sum()"
   ]
  },
  {
   "cell_type": "code",
   "execution_count": 90,
   "metadata": {},
   "outputs": [],
   "source": [
    "columns_names = ['DateCrawled', 'Price', 'VehicleType', 'RegistrationYear', 'GearboxIsAuto',\n",
    "       'Power', 'Model', 'Kilometer', 'RegistrationMonth', 'FuelType', 'Brand',\n",
    "       'NotRepaired', 'DateCreated', 'NumberOfPictures', 'PostalCode',\n",
    "       'LastSeen']"
   ]
  },
  {
   "cell_type": "code",
   "execution_count": 92,
   "metadata": {},
   "outputs": [
    {
     "name": "stderr",
     "output_type": "stream",
     "text": [
      "D:\\Tools\\anaconda3\\lib\\site-packages\\pandas\\core\\ops\\array_ops.py:253: FutureWarning: elementwise comparison failed; returning scalar instead, but in the future will perform elementwise comparison\n",
      "  res_values = method(rvalues)\n"
     ]
    },
    {
     "data": {
      "text/html": [
       "<div>\n",
       "<style scoped>\n",
       "    .dataframe tbody tr th:only-of-type {\n",
       "        vertical-align: middle;\n",
       "    }\n",
       "\n",
       "    .dataframe tbody tr th {\n",
       "        vertical-align: top;\n",
       "    }\n",
       "\n",
       "    .dataframe thead th {\n",
       "        text-align: right;\n",
       "    }\n",
       "</style>\n",
       "<table border=\"1\" class=\"dataframe\">\n",
       "  <thead>\n",
       "    <tr style=\"text-align: right;\">\n",
       "      <th></th>\n",
       "      <th>DateCrawled</th>\n",
       "      <th>Price</th>\n",
       "      <th>VehicleType</th>\n",
       "      <th>RegistrationYear</th>\n",
       "      <th>GearboxIsAuto</th>\n",
       "      <th>Power</th>\n",
       "      <th>Model</th>\n",
       "      <th>Kilometer</th>\n",
       "      <th>RegistrationMonth</th>\n",
       "      <th>FuelType</th>\n",
       "      <th>Brand</th>\n",
       "      <th>NotRepaired</th>\n",
       "      <th>DateCreated</th>\n",
       "      <th>NumberOfPictures</th>\n",
       "      <th>PostalCode</th>\n",
       "      <th>LastSeen</th>\n",
       "    </tr>\n",
       "  </thead>\n",
       "  <tbody>\n",
       "    <tr>\n",
       "      <th>0</th>\n",
       "      <td>2016-03-24 11:52:17</td>\n",
       "      <td>480</td>\n",
       "      <td>sedan</td>\n",
       "      <td>1993</td>\n",
       "      <td>False</td>\n",
       "      <td>101.0</td>\n",
       "      <td>golf</td>\n",
       "      <td>150000</td>\n",
       "      <td>12.0</td>\n",
       "      <td>petrol</td>\n",
       "      <td>volkswagen</td>\n",
       "      <td>False</td>\n",
       "      <td>2016-03-24 00:00:00</td>\n",
       "      <td>0</td>\n",
       "      <td>70435</td>\n",
       "      <td>2016-04-07 03:16:57</td>\n",
       "    </tr>\n",
       "    <tr>\n",
       "      <th>1</th>\n",
       "      <td>2016-03-24 10:58:45</td>\n",
       "      <td>18300</td>\n",
       "      <td>coupe</td>\n",
       "      <td>2011</td>\n",
       "      <td>False</td>\n",
       "      <td>190.0</td>\n",
       "      <td>a5</td>\n",
       "      <td>125000</td>\n",
       "      <td>5.0</td>\n",
       "      <td>gasoline</td>\n",
       "      <td>audi</td>\n",
       "      <td>True</td>\n",
       "      <td>2016-03-24 00:00:00</td>\n",
       "      <td>0</td>\n",
       "      <td>66954</td>\n",
       "      <td>2016-04-07 01:46:50</td>\n",
       "    </tr>\n",
       "    <tr>\n",
       "      <th>2</th>\n",
       "      <td>2016-03-14 12:52:21</td>\n",
       "      <td>9800</td>\n",
       "      <td>suv</td>\n",
       "      <td>2004</td>\n",
       "      <td>True</td>\n",
       "      <td>163.0</td>\n",
       "      <td>grand</td>\n",
       "      <td>125000</td>\n",
       "      <td>8.0</td>\n",
       "      <td>gasoline</td>\n",
       "      <td>jeep</td>\n",
       "      <td>False</td>\n",
       "      <td>2016-03-14 00:00:00</td>\n",
       "      <td>0</td>\n",
       "      <td>90480</td>\n",
       "      <td>2016-04-05 12:47:46</td>\n",
       "    </tr>\n",
       "    <tr>\n",
       "      <th>3</th>\n",
       "      <td>2016-03-17 16:54:04</td>\n",
       "      <td>1500</td>\n",
       "      <td>small</td>\n",
       "      <td>2001</td>\n",
       "      <td>False</td>\n",
       "      <td>75.0</td>\n",
       "      <td>golf</td>\n",
       "      <td>150000</td>\n",
       "      <td>6.0</td>\n",
       "      <td>petrol</td>\n",
       "      <td>volkswagen</td>\n",
       "      <td>False</td>\n",
       "      <td>2016-03-17 00:00:00</td>\n",
       "      <td>0</td>\n",
       "      <td>91074</td>\n",
       "      <td>2016-03-17 17:40:17</td>\n",
       "    </tr>\n",
       "    <tr>\n",
       "      <th>4</th>\n",
       "      <td>2016-03-31 17:25:20</td>\n",
       "      <td>3600</td>\n",
       "      <td>small</td>\n",
       "      <td>2008</td>\n",
       "      <td>False</td>\n",
       "      <td>69.0</td>\n",
       "      <td>fabia</td>\n",
       "      <td>90000</td>\n",
       "      <td>7.0</td>\n",
       "      <td>gasoline</td>\n",
       "      <td>skoda</td>\n",
       "      <td>False</td>\n",
       "      <td>2016-03-31 00:00:00</td>\n",
       "      <td>0</td>\n",
       "      <td>60437</td>\n",
       "      <td>2016-04-06 10:17:21</td>\n",
       "    </tr>\n",
       "  </tbody>\n",
       "</table>\n",
       "</div>"
      ],
      "text/plain": [
       "           DateCrawled  Price VehicleType  RegistrationYear  GearboxIsAuto  \\\n",
       "0  2016-03-24 11:52:17    480       sedan              1993          False   \n",
       "1  2016-03-24 10:58:45  18300       coupe              2011          False   \n",
       "2  2016-03-14 12:52:21   9800         suv              2004           True   \n",
       "3  2016-03-17 16:54:04   1500       small              2001          False   \n",
       "4  2016-03-31 17:25:20   3600       small              2008          False   \n",
       "\n",
       "   Power  Model  Kilometer  RegistrationMonth  FuelType       Brand  \\\n",
       "0  101.0   golf     150000               12.0    petrol  volkswagen   \n",
       "1  190.0     a5     125000                5.0  gasoline        audi   \n",
       "2  163.0  grand     125000                8.0  gasoline        jeep   \n",
       "3   75.0   golf     150000                6.0    petrol  volkswagen   \n",
       "4   69.0  fabia      90000                7.0  gasoline       skoda   \n",
       "\n",
       "   NotRepaired          DateCreated  NumberOfPictures  PostalCode  \\\n",
       "0        False  2016-03-24 00:00:00                 0       70435   \n",
       "1         True  2016-03-24 00:00:00                 0       66954   \n",
       "2        False  2016-03-14 00:00:00                 0       90480   \n",
       "3        False  2016-03-17 00:00:00                 0       91074   \n",
       "4        False  2016-03-31 00:00:00                 0       60437   \n",
       "\n",
       "              LastSeen  \n",
       "0  2016-04-07 03:16:57  \n",
       "1  2016-04-07 01:46:50  \n",
       "2  2016-04-05 12:47:46  \n",
       "3  2016-03-17 17:40:17  \n",
       "4  2016-04-06 10:17:21  "
      ]
     },
     "execution_count": 92,
     "metadata": {},
     "output_type": "execute_result"
    }
   ],
   "source": [
    "df.columns = columns_names\n",
    "df.loc[df['GearboxIsAuto']=='auto','GearboxIsAuto'] = 1\n",
    "df.loc[df['GearboxIsAuto']=='manual', 'GearboxIsAuto'] = 0\n",
    "df['GearboxIsAuto'] = df['GearboxIsAuto'].astype('bool')\n",
    "df.head()"
   ]
  },
  {
   "cell_type": "code",
   "execution_count": 89,
   "metadata": {},
   "outputs": [
    {
     "data": {
      "text/html": [
       "<div>\n",
       "<style scoped>\n",
       "    .dataframe tbody tr th:only-of-type {\n",
       "        vertical-align: middle;\n",
       "    }\n",
       "\n",
       "    .dataframe tbody tr th {\n",
       "        vertical-align: top;\n",
       "    }\n",
       "\n",
       "    .dataframe thead th {\n",
       "        text-align: right;\n",
       "    }\n",
       "</style>\n",
       "<table border=\"1\" class=\"dataframe\">\n",
       "  <thead>\n",
       "    <tr style=\"text-align: right;\">\n",
       "      <th></th>\n",
       "      <th>DateCrawled</th>\n",
       "      <th>Price</th>\n",
       "      <th>VehicleType</th>\n",
       "      <th>RegistrationYear</th>\n",
       "      <th>GearboxIsAuto</th>\n",
       "      <th>Power</th>\n",
       "      <th>Model</th>\n",
       "      <th>Kilometer</th>\n",
       "      <th>RegistrationMonth</th>\n",
       "      <th>FuelType</th>\n",
       "      <th>Brand</th>\n",
       "      <th>NotRepaired</th>\n",
       "      <th>DateCreated</th>\n",
       "      <th>NumberOfPictures</th>\n",
       "      <th>PostalCode</th>\n",
       "      <th>LastSeen</th>\n",
       "    </tr>\n",
       "  </thead>\n",
       "  <tbody>\n",
       "    <tr>\n",
       "      <td>0</td>\n",
       "      <td>2016-03-24 11:52:17</td>\n",
       "      <td>480</td>\n",
       "      <td>sedan</td>\n",
       "      <td>1993</td>\n",
       "      <td>False</td>\n",
       "      <td>101.0</td>\n",
       "      <td>golf</td>\n",
       "      <td>150000</td>\n",
       "      <td>12.0</td>\n",
       "      <td>petrol</td>\n",
       "      <td>volkswagen</td>\n",
       "      <td>False</td>\n",
       "      <td>2016-03-24</td>\n",
       "      <td>0</td>\n",
       "      <td>70435</td>\n",
       "      <td>2016-04-07 03:16:57</td>\n",
       "    </tr>\n",
       "    <tr>\n",
       "      <td>1</td>\n",
       "      <td>2016-03-24 10:58:45</td>\n",
       "      <td>18300</td>\n",
       "      <td>coupe</td>\n",
       "      <td>2011</td>\n",
       "      <td>False</td>\n",
       "      <td>190.0</td>\n",
       "      <td>a5</td>\n",
       "      <td>125000</td>\n",
       "      <td>5.0</td>\n",
       "      <td>gasoline</td>\n",
       "      <td>audi</td>\n",
       "      <td>True</td>\n",
       "      <td>2016-03-24</td>\n",
       "      <td>0</td>\n",
       "      <td>66954</td>\n",
       "      <td>2016-04-07 01:46:50</td>\n",
       "    </tr>\n",
       "    <tr>\n",
       "      <td>2</td>\n",
       "      <td>2016-03-14 12:52:21</td>\n",
       "      <td>9800</td>\n",
       "      <td>suv</td>\n",
       "      <td>2004</td>\n",
       "      <td>True</td>\n",
       "      <td>163.0</td>\n",
       "      <td>grand</td>\n",
       "      <td>125000</td>\n",
       "      <td>8.0</td>\n",
       "      <td>gasoline</td>\n",
       "      <td>jeep</td>\n",
       "      <td>False</td>\n",
       "      <td>2016-03-14</td>\n",
       "      <td>0</td>\n",
       "      <td>90480</td>\n",
       "      <td>2016-04-05 12:47:46</td>\n",
       "    </tr>\n",
       "    <tr>\n",
       "      <td>3</td>\n",
       "      <td>2016-03-17 16:54:04</td>\n",
       "      <td>1500</td>\n",
       "      <td>small</td>\n",
       "      <td>2001</td>\n",
       "      <td>False</td>\n",
       "      <td>75.0</td>\n",
       "      <td>golf</td>\n",
       "      <td>150000</td>\n",
       "      <td>6.0</td>\n",
       "      <td>petrol</td>\n",
       "      <td>volkswagen</td>\n",
       "      <td>False</td>\n",
       "      <td>2016-03-17</td>\n",
       "      <td>0</td>\n",
       "      <td>91074</td>\n",
       "      <td>2016-03-17 17:40:17</td>\n",
       "    </tr>\n",
       "    <tr>\n",
       "      <td>4</td>\n",
       "      <td>2016-03-31 17:25:20</td>\n",
       "      <td>3600</td>\n",
       "      <td>small</td>\n",
       "      <td>2008</td>\n",
       "      <td>False</td>\n",
       "      <td>69.0</td>\n",
       "      <td>fabia</td>\n",
       "      <td>90000</td>\n",
       "      <td>7.0</td>\n",
       "      <td>gasoline</td>\n",
       "      <td>skoda</td>\n",
       "      <td>False</td>\n",
       "      <td>2016-03-31</td>\n",
       "      <td>0</td>\n",
       "      <td>60437</td>\n",
       "      <td>2016-04-06 10:17:21</td>\n",
       "    </tr>\n",
       "  </tbody>\n",
       "</table>\n",
       "</div>"
      ],
      "text/plain": [
       "          DateCrawled  Price VehicleType  RegistrationYear  GearboxIsAuto  \\\n",
       "0 2016-03-24 11:52:17    480       sedan              1993          False   \n",
       "1 2016-03-24 10:58:45  18300       coupe              2011          False   \n",
       "2 2016-03-14 12:52:21   9800         suv              2004           True   \n",
       "3 2016-03-17 16:54:04   1500       small              2001          False   \n",
       "4 2016-03-31 17:25:20   3600       small              2008          False   \n",
       "\n",
       "   Power  Model  Kilometer  RegistrationMonth  FuelType       Brand  \\\n",
       "0  101.0   golf     150000               12.0    petrol  volkswagen   \n",
       "1  190.0     a5     125000                5.0  gasoline        audi   \n",
       "2  163.0  grand     125000                8.0  gasoline        jeep   \n",
       "3   75.0   golf     150000                6.0    petrol  volkswagen   \n",
       "4   69.0  fabia      90000                7.0  gasoline       skoda   \n",
       "\n",
       "   NotRepaired DateCreated  NumberOfPictures  PostalCode            LastSeen  \n",
       "0        False  2016-03-24                 0       70435 2016-04-07 03:16:57  \n",
       "1         True  2016-03-24                 0       66954 2016-04-07 01:46:50  \n",
       "2        False  2016-03-14                 0       90480 2016-04-05 12:47:46  \n",
       "3        False  2016-03-17                 0       91074 2016-03-17 17:40:17  \n",
       "4        False  2016-03-31                 0       60437 2016-04-06 10:17:21  "
      ]
     },
     "execution_count": 89,
     "metadata": {},
     "output_type": "execute_result"
    }
   ],
   "source": [
    "df['DateCrawled'] = pd.to_datetime(df['DateCrawled'],format='%Y-%m-%dT%H:%M:%S')\n",
    "df['DateCreated']= pd.to_datetime(df['DateCreated'],format='%Y-%m-%dT%H:%M:%S')\n",
    "df['LastSeen'] = pd.to_datetime(df['LastSeen'], format='%Y-%m-%dT%H:%M:%S')                                   \n",
    "df.head(5)"
   ]
  },
  {
   "cell_type": "code",
   "execution_count": 90,
   "metadata": {},
   "outputs": [
    {
     "data": {
      "text/html": [
       "<div>\n",
       "<style scoped>\n",
       "    .dataframe tbody tr th:only-of-type {\n",
       "        vertical-align: middle;\n",
       "    }\n",
       "\n",
       "    .dataframe tbody tr th {\n",
       "        vertical-align: top;\n",
       "    }\n",
       "\n",
       "    .dataframe thead th {\n",
       "        text-align: right;\n",
       "    }\n",
       "</style>\n",
       "<table border=\"1\" class=\"dataframe\">\n",
       "  <thead>\n",
       "    <tr style=\"text-align: right;\">\n",
       "      <th></th>\n",
       "      <th>DateCrawled</th>\n",
       "      <th>Price</th>\n",
       "      <th>VehicleType</th>\n",
       "      <th>RegistrationYear</th>\n",
       "      <th>GearboxIsAuto</th>\n",
       "      <th>Power</th>\n",
       "      <th>Model</th>\n",
       "      <th>Kilometer</th>\n",
       "      <th>RegistrationMonth</th>\n",
       "      <th>FuelType</th>\n",
       "      <th>Brand</th>\n",
       "      <th>NotRepaired</th>\n",
       "      <th>DateCreated</th>\n",
       "      <th>NumberOfPictures</th>\n",
       "      <th>PostalCode</th>\n",
       "      <th>LastSeen</th>\n",
       "    </tr>\n",
       "  </thead>\n",
       "  <tbody>\n",
       "    <tr>\n",
       "      <td>0</td>\n",
       "      <td>2016-03-24 11:52:17</td>\n",
       "      <td>480</td>\n",
       "      <td>sedan</td>\n",
       "      <td>1993</td>\n",
       "      <td>False</td>\n",
       "      <td>101.0</td>\n",
       "      <td>golf</td>\n",
       "      <td>150000</td>\n",
       "      <td>12</td>\n",
       "      <td>petrol</td>\n",
       "      <td>volkswagen</td>\n",
       "      <td>False</td>\n",
       "      <td>2016-03-24</td>\n",
       "      <td>0</td>\n",
       "      <td>70435</td>\n",
       "      <td>2016-04-07 03:16:57</td>\n",
       "    </tr>\n",
       "    <tr>\n",
       "      <td>1</td>\n",
       "      <td>2016-03-24 10:58:45</td>\n",
       "      <td>18300</td>\n",
       "      <td>coupe</td>\n",
       "      <td>2011</td>\n",
       "      <td>False</td>\n",
       "      <td>190.0</td>\n",
       "      <td>a5</td>\n",
       "      <td>125000</td>\n",
       "      <td>5</td>\n",
       "      <td>gasoline</td>\n",
       "      <td>audi</td>\n",
       "      <td>True</td>\n",
       "      <td>2016-03-24</td>\n",
       "      <td>0</td>\n",
       "      <td>66954</td>\n",
       "      <td>2016-04-07 01:46:50</td>\n",
       "    </tr>\n",
       "    <tr>\n",
       "      <td>2</td>\n",
       "      <td>2016-03-14 12:52:21</td>\n",
       "      <td>9800</td>\n",
       "      <td>suv</td>\n",
       "      <td>2004</td>\n",
       "      <td>True</td>\n",
       "      <td>163.0</td>\n",
       "      <td>grand</td>\n",
       "      <td>125000</td>\n",
       "      <td>8</td>\n",
       "      <td>gasoline</td>\n",
       "      <td>jeep</td>\n",
       "      <td>False</td>\n",
       "      <td>2016-03-14</td>\n",
       "      <td>0</td>\n",
       "      <td>90480</td>\n",
       "      <td>2016-04-05 12:47:46</td>\n",
       "    </tr>\n",
       "    <tr>\n",
       "      <td>3</td>\n",
       "      <td>2016-03-17 16:54:04</td>\n",
       "      <td>1500</td>\n",
       "      <td>small</td>\n",
       "      <td>2001</td>\n",
       "      <td>False</td>\n",
       "      <td>75.0</td>\n",
       "      <td>golf</td>\n",
       "      <td>150000</td>\n",
       "      <td>6</td>\n",
       "      <td>petrol</td>\n",
       "      <td>volkswagen</td>\n",
       "      <td>False</td>\n",
       "      <td>2016-03-17</td>\n",
       "      <td>0</td>\n",
       "      <td>91074</td>\n",
       "      <td>2016-03-17 17:40:17</td>\n",
       "    </tr>\n",
       "    <tr>\n",
       "      <td>4</td>\n",
       "      <td>2016-03-31 17:25:20</td>\n",
       "      <td>3600</td>\n",
       "      <td>small</td>\n",
       "      <td>2008</td>\n",
       "      <td>False</td>\n",
       "      <td>69.0</td>\n",
       "      <td>fabia</td>\n",
       "      <td>90000</td>\n",
       "      <td>7</td>\n",
       "      <td>gasoline</td>\n",
       "      <td>skoda</td>\n",
       "      <td>False</td>\n",
       "      <td>2016-03-31</td>\n",
       "      <td>0</td>\n",
       "      <td>60437</td>\n",
       "      <td>2016-04-06 10:17:21</td>\n",
       "    </tr>\n",
       "  </tbody>\n",
       "</table>\n",
       "</div>"
      ],
      "text/plain": [
       "          DateCrawled  Price VehicleType  RegistrationYear  GearboxIsAuto  \\\n",
       "0 2016-03-24 11:52:17    480       sedan              1993          False   \n",
       "1 2016-03-24 10:58:45  18300       coupe              2011          False   \n",
       "2 2016-03-14 12:52:21   9800         suv              2004           True   \n",
       "3 2016-03-17 16:54:04   1500       small              2001          False   \n",
       "4 2016-03-31 17:25:20   3600       small              2008          False   \n",
       "\n",
       "   Power  Model  Kilometer  RegistrationMonth  FuelType       Brand  \\\n",
       "0  101.0   golf     150000                 12    petrol  volkswagen   \n",
       "1  190.0     a5     125000                  5  gasoline        audi   \n",
       "2  163.0  grand     125000                  8  gasoline        jeep   \n",
       "3   75.0   golf     150000                  6    petrol  volkswagen   \n",
       "4   69.0  fabia      90000                  7  gasoline       skoda   \n",
       "\n",
       "   NotRepaired DateCreated  NumberOfPictures  PostalCode            LastSeen  \n",
       "0        False  2016-03-24                 0       70435 2016-04-07 03:16:57  \n",
       "1         True  2016-03-24                 0       66954 2016-04-07 01:46:50  \n",
       "2        False  2016-03-14                 0       90480 2016-04-05 12:47:46  \n",
       "3        False  2016-03-17                 0       91074 2016-03-17 17:40:17  \n",
       "4        False  2016-03-31                 0       60437 2016-04-06 10:17:21  "
      ]
     },
     "execution_count": 90,
     "metadata": {},
     "output_type": "execute_result"
    }
   ],
   "source": [
    "df['RegistrationMonth'] = df['RegistrationMonth'].astype('int')\n",
    "df.head()"
   ]
  },
  {
   "cell_type": "markdown",
   "metadata": {},
   "source": [
    "## Удаление лишних признаков"
   ]
  },
  {
   "cell_type": "markdown",
   "metadata": {},
   "source": [
    "Прежде, чем приступать к обучению моделей, необходимо исключить из выборок признаки, не влияющие на цену автомобиля, а так же столбец NumberOfPictures, потому что все значения в нем одинаковые."
   ]
  },
  {
   "cell_type": "code",
   "execution_count": 91,
   "metadata": {},
   "outputs": [],
   "source": [
    "df_full = copy.deepcopy(df)"
   ]
  },
  {
   "cell_type": "code",
   "execution_count": 92,
   "metadata": {},
   "outputs": [],
   "source": [
    "df = df.drop(['DateCrawled','DateCreated','NumberOfPictures','PostalCode','LastSeen'], axis = 1)"
   ]
  },
  {
   "cell_type": "markdown",
   "metadata": {},
   "source": [
    "## Кодирование категориальных признаков"
   ]
  },
  {
   "cell_type": "markdown",
   "metadata": {},
   "source": [
    "Для того, чтобы сравнить модели градиентного бустинга с моделью случайного леса, необходимо произвести подбор гиперпараметров для случайного леса, а для этого надо закодировать категориальные признаки в данных. "
   ]
  },
  {
   "cell_type": "code",
   "execution_count": 93,
   "metadata": {},
   "outputs": [],
   "source": [
    "categorial_features = ['VehicleType', 'Model', 'RegistrationMonth',\n",
    "                       'FuelType', 'Brand']"
   ]
  },
  {
   "cell_type": "code",
   "execution_count": 94,
   "metadata": {},
   "outputs": [
    {
     "data": {
      "text/html": [
       "<div>\n",
       "<style scoped>\n",
       "    .dataframe tbody tr th:only-of-type {\n",
       "        vertical-align: middle;\n",
       "    }\n",
       "\n",
       "    .dataframe tbody tr th {\n",
       "        vertical-align: top;\n",
       "    }\n",
       "\n",
       "    .dataframe thead th {\n",
       "        text-align: right;\n",
       "    }\n",
       "</style>\n",
       "<table border=\"1\" class=\"dataframe\">\n",
       "  <thead>\n",
       "    <tr style=\"text-align: right;\">\n",
       "      <th></th>\n",
       "      <th>VehicleType</th>\n",
       "      <th>Model</th>\n",
       "      <th>RegistrationMonth</th>\n",
       "      <th>FuelType</th>\n",
       "      <th>Brand</th>\n",
       "    </tr>\n",
       "  </thead>\n",
       "  <tbody>\n",
       "    <tr>\n",
       "      <td>0</td>\n",
       "      <td>sedan</td>\n",
       "      <td>golf</td>\n",
       "      <td>12</td>\n",
       "      <td>petrol</td>\n",
       "      <td>volkswagen</td>\n",
       "    </tr>\n",
       "    <tr>\n",
       "      <td>1</td>\n",
       "      <td>coupe</td>\n",
       "      <td>a5</td>\n",
       "      <td>5</td>\n",
       "      <td>gasoline</td>\n",
       "      <td>audi</td>\n",
       "    </tr>\n",
       "    <tr>\n",
       "      <td>2</td>\n",
       "      <td>suv</td>\n",
       "      <td>grand</td>\n",
       "      <td>8</td>\n",
       "      <td>gasoline</td>\n",
       "      <td>jeep</td>\n",
       "    </tr>\n",
       "    <tr>\n",
       "      <td>3</td>\n",
       "      <td>small</td>\n",
       "      <td>golf</td>\n",
       "      <td>6</td>\n",
       "      <td>petrol</td>\n",
       "      <td>volkswagen</td>\n",
       "    </tr>\n",
       "    <tr>\n",
       "      <td>4</td>\n",
       "      <td>small</td>\n",
       "      <td>fabia</td>\n",
       "      <td>7</td>\n",
       "      <td>gasoline</td>\n",
       "      <td>skoda</td>\n",
       "    </tr>\n",
       "    <tr>\n",
       "      <td>...</td>\n",
       "      <td>...</td>\n",
       "      <td>...</td>\n",
       "      <td>...</td>\n",
       "      <td>...</td>\n",
       "      <td>...</td>\n",
       "    </tr>\n",
       "    <tr>\n",
       "      <td>322540</td>\n",
       "      <td>sedan</td>\n",
       "      <td>leon</td>\n",
       "      <td>5</td>\n",
       "      <td>petrol</td>\n",
       "      <td>seat</td>\n",
       "    </tr>\n",
       "    <tr>\n",
       "      <td>322541</td>\n",
       "      <td>bus</td>\n",
       "      <td>zafira</td>\n",
       "      <td>3</td>\n",
       "      <td>petrol</td>\n",
       "      <td>opel</td>\n",
       "    </tr>\n",
       "    <tr>\n",
       "      <td>322542</td>\n",
       "      <td>convertible</td>\n",
       "      <td>fortwo</td>\n",
       "      <td>3</td>\n",
       "      <td>petrol</td>\n",
       "      <td>smart</td>\n",
       "    </tr>\n",
       "    <tr>\n",
       "      <td>322543</td>\n",
       "      <td>bus</td>\n",
       "      <td>transporter</td>\n",
       "      <td>3</td>\n",
       "      <td>gasoline</td>\n",
       "      <td>volkswagen</td>\n",
       "    </tr>\n",
       "    <tr>\n",
       "      <td>322544</td>\n",
       "      <td>wagon</td>\n",
       "      <td>golf</td>\n",
       "      <td>6</td>\n",
       "      <td>gasoline</td>\n",
       "      <td>volkswagen</td>\n",
       "    </tr>\n",
       "  </tbody>\n",
       "</table>\n",
       "<p>322545 rows × 5 columns</p>\n",
       "</div>"
      ],
      "text/plain": [
       "        VehicleType        Model  RegistrationMonth  FuelType       Brand\n",
       "0             sedan         golf                 12    petrol  volkswagen\n",
       "1             coupe           a5                  5  gasoline        audi\n",
       "2               suv        grand                  8  gasoline        jeep\n",
       "3             small         golf                  6    petrol  volkswagen\n",
       "4             small        fabia                  7  gasoline       skoda\n",
       "...             ...          ...                ...       ...         ...\n",
       "322540        sedan         leon                  5    petrol        seat\n",
       "322541          bus       zafira                  3    petrol        opel\n",
       "322542  convertible       fortwo                  3    petrol       smart\n",
       "322543          bus  transporter                  3  gasoline  volkswagen\n",
       "322544        wagon         golf                  6  gasoline  volkswagen\n",
       "\n",
       "[322545 rows x 5 columns]"
      ]
     },
     "execution_count": 94,
     "metadata": {},
     "output_type": "execute_result"
    }
   ],
   "source": [
    "df[categorial_features]"
   ]
  },
  {
   "cell_type": "code",
   "execution_count": 95,
   "metadata": {},
   "outputs": [
    {
     "data": {
      "text/html": [
       "<div>\n",
       "<style scoped>\n",
       "    .dataframe tbody tr th:only-of-type {\n",
       "        vertical-align: middle;\n",
       "    }\n",
       "\n",
       "    .dataframe tbody tr th {\n",
       "        vertical-align: top;\n",
       "    }\n",
       "\n",
       "    .dataframe thead th {\n",
       "        text-align: right;\n",
       "    }\n",
       "</style>\n",
       "<table border=\"1\" class=\"dataframe\">\n",
       "  <thead>\n",
       "    <tr style=\"text-align: right;\">\n",
       "      <th></th>\n",
       "      <th>VehicleType</th>\n",
       "      <th>Model</th>\n",
       "      <th>RegistrationMonth</th>\n",
       "      <th>FuelType</th>\n",
       "      <th>Brand</th>\n",
       "    </tr>\n",
       "  </thead>\n",
       "  <tbody>\n",
       "    <tr>\n",
       "      <td>0</td>\n",
       "      <td>4.0</td>\n",
       "      <td>116.0</td>\n",
       "      <td>11.0</td>\n",
       "      <td>6.0</td>\n",
       "      <td>37.0</td>\n",
       "    </tr>\n",
       "    <tr>\n",
       "      <td>1</td>\n",
       "      <td>2.0</td>\n",
       "      <td>30.0</td>\n",
       "      <td>4.0</td>\n",
       "      <td>2.0</td>\n",
       "      <td>1.0</td>\n",
       "    </tr>\n",
       "    <tr>\n",
       "      <td>2</td>\n",
       "      <td>6.0</td>\n",
       "      <td>117.0</td>\n",
       "      <td>7.0</td>\n",
       "      <td>2.0</td>\n",
       "      <td>14.0</td>\n",
       "    </tr>\n",
       "    <tr>\n",
       "      <td>3</td>\n",
       "      <td>5.0</td>\n",
       "      <td>116.0</td>\n",
       "      <td>5.0</td>\n",
       "      <td>6.0</td>\n",
       "      <td>37.0</td>\n",
       "    </tr>\n",
       "    <tr>\n",
       "      <td>4</td>\n",
       "      <td>5.0</td>\n",
       "      <td>101.0</td>\n",
       "      <td>6.0</td>\n",
       "      <td>2.0</td>\n",
       "      <td>31.0</td>\n",
       "    </tr>\n",
       "    <tr>\n",
       "      <td>...</td>\n",
       "      <td>...</td>\n",
       "      <td>...</td>\n",
       "      <td>...</td>\n",
       "      <td>...</td>\n",
       "      <td>...</td>\n",
       "    </tr>\n",
       "    <tr>\n",
       "      <td>322540</td>\n",
       "      <td>4.0</td>\n",
       "      <td>140.0</td>\n",
       "      <td>4.0</td>\n",
       "      <td>6.0</td>\n",
       "      <td>30.0</td>\n",
       "    </tr>\n",
       "    <tr>\n",
       "      <td>322541</td>\n",
       "      <td>0.0</td>\n",
       "      <td>249.0</td>\n",
       "      <td>2.0</td>\n",
       "      <td>6.0</td>\n",
       "      <td>24.0</td>\n",
       "    </tr>\n",
       "    <tr>\n",
       "      <td>322542</td>\n",
       "      <td>1.0</td>\n",
       "      <td>106.0</td>\n",
       "      <td>2.0</td>\n",
       "      <td>6.0</td>\n",
       "      <td>32.0</td>\n",
       "    </tr>\n",
       "    <tr>\n",
       "      <td>322543</td>\n",
       "      <td>0.0</td>\n",
       "      <td>224.0</td>\n",
       "      <td>2.0</td>\n",
       "      <td>2.0</td>\n",
       "      <td>37.0</td>\n",
       "    </tr>\n",
       "    <tr>\n",
       "      <td>322544</td>\n",
       "      <td>7.0</td>\n",
       "      <td>116.0</td>\n",
       "      <td>5.0</td>\n",
       "      <td>2.0</td>\n",
       "      <td>37.0</td>\n",
       "    </tr>\n",
       "  </tbody>\n",
       "</table>\n",
       "<p>322545 rows × 5 columns</p>\n",
       "</div>"
      ],
      "text/plain": [
       "        VehicleType  Model  RegistrationMonth  FuelType  Brand\n",
       "0               4.0  116.0               11.0       6.0   37.0\n",
       "1               2.0   30.0                4.0       2.0    1.0\n",
       "2               6.0  117.0                7.0       2.0   14.0\n",
       "3               5.0  116.0                5.0       6.0   37.0\n",
       "4               5.0  101.0                6.0       2.0   31.0\n",
       "...             ...    ...                ...       ...    ...\n",
       "322540          4.0  140.0                4.0       6.0   30.0\n",
       "322541          0.0  249.0                2.0       6.0   24.0\n",
       "322542          1.0  106.0                2.0       6.0   32.0\n",
       "322543          0.0  224.0                2.0       2.0   37.0\n",
       "322544          7.0  116.0                5.0       2.0   37.0\n",
       "\n",
       "[322545 rows x 5 columns]"
      ]
     },
     "execution_count": 95,
     "metadata": {},
     "output_type": "execute_result"
    }
   ],
   "source": [
    "ordin = OrdinalEncoder()\n",
    "\n",
    "ordin.fit(df[categorial_features])\n",
    "df_ordin = pd.DataFrame(data = ordin.transform(df[categorial_features]), columns = df[categorial_features].columns)\n",
    "df_ordin.head()"
   ]
  },
  {
   "cell_type": "code",
   "execution_count": 96,
   "metadata": {},
   "outputs": [
    {
     "data": {
      "text/html": [
       "<div>\n",
       "<style scoped>\n",
       "    .dataframe tbody tr th:only-of-type {\n",
       "        vertical-align: middle;\n",
       "    }\n",
       "\n",
       "    .dataframe tbody tr th {\n",
       "        vertical-align: top;\n",
       "    }\n",
       "\n",
       "    .dataframe thead th {\n",
       "        text-align: right;\n",
       "    }\n",
       "</style>\n",
       "<table border=\"1\" class=\"dataframe\">\n",
       "  <thead>\n",
       "    <tr style=\"text-align: right;\">\n",
       "      <th></th>\n",
       "      <th>VehicleType</th>\n",
       "      <th>Model</th>\n",
       "      <th>RegistrationMonth</th>\n",
       "      <th>FuelType</th>\n",
       "      <th>Brand</th>\n",
       "      <th>Price</th>\n",
       "      <th>RegistrationYear</th>\n",
       "      <th>GearboxIsAuto</th>\n",
       "      <th>Power</th>\n",
       "      <th>Kilometer</th>\n",
       "      <th>NotRepaired</th>\n",
       "    </tr>\n",
       "  </thead>\n",
       "  <tbody>\n",
       "    <tr>\n",
       "      <td>0</td>\n",
       "      <td>4.0</td>\n",
       "      <td>116.0</td>\n",
       "      <td>11.0</td>\n",
       "      <td>6.0</td>\n",
       "      <td>37.0</td>\n",
       "      <td>480</td>\n",
       "      <td>1993</td>\n",
       "      <td>False</td>\n",
       "      <td>101.0</td>\n",
       "      <td>150000</td>\n",
       "      <td>False</td>\n",
       "    </tr>\n",
       "    <tr>\n",
       "      <td>1</td>\n",
       "      <td>2.0</td>\n",
       "      <td>30.0</td>\n",
       "      <td>4.0</td>\n",
       "      <td>2.0</td>\n",
       "      <td>1.0</td>\n",
       "      <td>18300</td>\n",
       "      <td>2011</td>\n",
       "      <td>False</td>\n",
       "      <td>190.0</td>\n",
       "      <td>125000</td>\n",
       "      <td>True</td>\n",
       "    </tr>\n",
       "    <tr>\n",
       "      <td>2</td>\n",
       "      <td>6.0</td>\n",
       "      <td>117.0</td>\n",
       "      <td>7.0</td>\n",
       "      <td>2.0</td>\n",
       "      <td>14.0</td>\n",
       "      <td>9800</td>\n",
       "      <td>2004</td>\n",
       "      <td>True</td>\n",
       "      <td>163.0</td>\n",
       "      <td>125000</td>\n",
       "      <td>False</td>\n",
       "    </tr>\n",
       "    <tr>\n",
       "      <td>3</td>\n",
       "      <td>5.0</td>\n",
       "      <td>116.0</td>\n",
       "      <td>5.0</td>\n",
       "      <td>6.0</td>\n",
       "      <td>37.0</td>\n",
       "      <td>1500</td>\n",
       "      <td>2001</td>\n",
       "      <td>False</td>\n",
       "      <td>75.0</td>\n",
       "      <td>150000</td>\n",
       "      <td>False</td>\n",
       "    </tr>\n",
       "    <tr>\n",
       "      <td>4</td>\n",
       "      <td>5.0</td>\n",
       "      <td>101.0</td>\n",
       "      <td>6.0</td>\n",
       "      <td>2.0</td>\n",
       "      <td>31.0</td>\n",
       "      <td>3600</td>\n",
       "      <td>2008</td>\n",
       "      <td>False</td>\n",
       "      <td>69.0</td>\n",
       "      <td>90000</td>\n",
       "      <td>False</td>\n",
       "    </tr>\n",
       "    <tr>\n",
       "      <td>...</td>\n",
       "      <td>...</td>\n",
       "      <td>...</td>\n",
       "      <td>...</td>\n",
       "      <td>...</td>\n",
       "      <td>...</td>\n",
       "      <td>...</td>\n",
       "      <td>...</td>\n",
       "      <td>...</td>\n",
       "      <td>...</td>\n",
       "      <td>...</td>\n",
       "      <td>...</td>\n",
       "    </tr>\n",
       "    <tr>\n",
       "      <td>322540</td>\n",
       "      <td>4.0</td>\n",
       "      <td>140.0</td>\n",
       "      <td>4.0</td>\n",
       "      <td>6.0</td>\n",
       "      <td>30.0</td>\n",
       "      <td>3200</td>\n",
       "      <td>2004</td>\n",
       "      <td>False</td>\n",
       "      <td>225.0</td>\n",
       "      <td>150000</td>\n",
       "      <td>True</td>\n",
       "    </tr>\n",
       "    <tr>\n",
       "      <td>322541</td>\n",
       "      <td>0.0</td>\n",
       "      <td>249.0</td>\n",
       "      <td>2.0</td>\n",
       "      <td>6.0</td>\n",
       "      <td>24.0</td>\n",
       "      <td>1150</td>\n",
       "      <td>2000</td>\n",
       "      <td>False</td>\n",
       "      <td>125.0</td>\n",
       "      <td>150000</td>\n",
       "      <td>False</td>\n",
       "    </tr>\n",
       "    <tr>\n",
       "      <td>322542</td>\n",
       "      <td>1.0</td>\n",
       "      <td>106.0</td>\n",
       "      <td>2.0</td>\n",
       "      <td>6.0</td>\n",
       "      <td>32.0</td>\n",
       "      <td>1199</td>\n",
       "      <td>2000</td>\n",
       "      <td>True</td>\n",
       "      <td>101.0</td>\n",
       "      <td>125000</td>\n",
       "      <td>False</td>\n",
       "    </tr>\n",
       "    <tr>\n",
       "      <td>322543</td>\n",
       "      <td>0.0</td>\n",
       "      <td>224.0</td>\n",
       "      <td>2.0</td>\n",
       "      <td>2.0</td>\n",
       "      <td>37.0</td>\n",
       "      <td>9200</td>\n",
       "      <td>1996</td>\n",
       "      <td>False</td>\n",
       "      <td>102.0</td>\n",
       "      <td>150000</td>\n",
       "      <td>False</td>\n",
       "    </tr>\n",
       "    <tr>\n",
       "      <td>322544</td>\n",
       "      <td>7.0</td>\n",
       "      <td>116.0</td>\n",
       "      <td>5.0</td>\n",
       "      <td>2.0</td>\n",
       "      <td>37.0</td>\n",
       "      <td>3400</td>\n",
       "      <td>2002</td>\n",
       "      <td>False</td>\n",
       "      <td>100.0</td>\n",
       "      <td>150000</td>\n",
       "      <td>False</td>\n",
       "    </tr>\n",
       "  </tbody>\n",
       "</table>\n",
       "<p>322545 rows × 11 columns</p>\n",
       "</div>"
      ],
      "text/plain": [
       "        VehicleType  Model  RegistrationMonth  FuelType  Brand  Price  \\\n",
       "0               4.0  116.0               11.0       6.0   37.0    480   \n",
       "1               2.0   30.0                4.0       2.0    1.0  18300   \n",
       "2               6.0  117.0                7.0       2.0   14.0   9800   \n",
       "3               5.0  116.0                5.0       6.0   37.0   1500   \n",
       "4               5.0  101.0                6.0       2.0   31.0   3600   \n",
       "...             ...    ...                ...       ...    ...    ...   \n",
       "322540          4.0  140.0                4.0       6.0   30.0   3200   \n",
       "322541          0.0  249.0                2.0       6.0   24.0   1150   \n",
       "322542          1.0  106.0                2.0       6.0   32.0   1199   \n",
       "322543          0.0  224.0                2.0       2.0   37.0   9200   \n",
       "322544          7.0  116.0                5.0       2.0   37.0   3400   \n",
       "\n",
       "        RegistrationYear  GearboxIsAuto  Power  Kilometer  NotRepaired  \n",
       "0                   1993          False  101.0     150000        False  \n",
       "1                   2011          False  190.0     125000         True  \n",
       "2                   2004           True  163.0     125000        False  \n",
       "3                   2001          False   75.0     150000        False  \n",
       "4                   2008          False   69.0      90000        False  \n",
       "...                  ...            ...    ...        ...          ...  \n",
       "322540              2004          False  225.0     150000         True  \n",
       "322541              2000          False  125.0     150000        False  \n",
       "322542              2000           True  101.0     125000        False  \n",
       "322543              1996          False  102.0     150000        False  \n",
       "322544              2002          False  100.0     150000        False  \n",
       "\n",
       "[322545 rows x 11 columns]"
      ]
     },
     "execution_count": 96,
     "metadata": {},
     "output_type": "execute_result"
    }
   ],
   "source": [
    "df_ordin['Price'] = df['Price']\n",
    "df_ordin['RegistrationYear'] = df['RegistrationYear']\n",
    "df_ordin['GearboxIsAuto'] = df['GearboxIsAuto']\n",
    "df_ordin['Power'] = df['Power']\n",
    "df_ordin['Kilometer'] = df['Kilometer']\n",
    "df_ordin['NotRepaired'] = df['NotRepaired']\n",
    "df_ordin.head()"
   ]
  },
  {
   "cell_type": "markdown",
   "metadata": {},
   "source": [
    "# 2. Обучение моделей"
   ]
  },
  {
   "cell_type": "markdown",
   "metadata": {},
   "source": [
    "### CatBoostRegressor"
   ]
  },
  {
   "cell_type": "markdown",
   "metadata": {},
   "source": [
    "Разобьем не кодированные данные на выборки и подберем гиперпараметры, при которых CatBoostRegressor продемонстрирует наименьший показатель RMSE."
   ]
  },
  {
   "cell_type": "code",
   "execution_count": 97,
   "metadata": {},
   "outputs": [],
   "source": [
    "features_trainvalid, features_test, target_trainvalid, target_test = train_test_split(\n",
    "    df.drop('Price', axis=1), df.Price, test_size=0.25, random_state=state)"
   ]
  },
  {
   "cell_type": "code",
   "execution_count": 98,
   "metadata": {},
   "outputs": [],
   "source": [
    "features_train, features_valid, target_train, target_valid = train_test_split(\n",
    "    features_trainvalid, target_trainvalid, test_size=0.25, random_state=state)"
   ]
  },
  {
   "cell_type": "markdown",
   "metadata": {},
   "source": [
    "Составим список категориальных признаков, чтобы передать его алгоритму. Добавим туда и RegistrationMonth: несмотря на то, что мы не стали заменять тип данных в этом столбце или переименовывать числовые обозначения месяцев ради удобства, по сути значения этого признака - категории, и будет неправильно, если алгоритм считает их и будет оперировать ими, как количественными данными. "
   ]
  },
  {
   "cell_type": "code",
   "execution_count": 99,
   "metadata": {},
   "outputs": [],
   "source": [
    "categorial_features = ['VehicleType', 'Model', 'RegistrationMonth',\n",
    "                       'FuelType', 'Brand']"
   ]
  },
  {
   "cell_type": "markdown",
   "metadata": {},
   "source": [
    "Напишем функцию, перебирающую по несколько вариантов гиперпараметров, выберем их сочетание, дающее модель с лучшим rmse на валидационной выборке. "
   ]
  },
  {
   "cell_type": "code",
   "execution_count": 100,
   "metadata": {},
   "outputs": [
    {
     "name": "stdout",
     "output_type": "stream",
     "text": [
      "CPU times: user 4 µs, sys: 0 ns, total: 4 µs\n",
      "Wall time: 8.11 µs\n"
     ]
    }
   ],
   "source": [
    "%%time\n",
    "def CatBoost_search(features_train, target_train, features_valid, target_valid):\n",
    "    learning_rate_col = []\n",
    "    depth_col = []\n",
    "    l2_leaf_reg_col = []\n",
    "    iterations_col = []\n",
    "    rmse_col = []\n",
    "    for depth in [12, 16]:\n",
    "        for l2_leaf_reg in [2,5]:\n",
    "            for learn_rate in [0.1,0.5]:\n",
    "                for iterations in [80]:\n",
    "                    catboost_model = CatBoostRegressor(loss_function = 'RMSE',\n",
    "                                                       iterations = iterations,\n",
    "                                                       depth = depth,\n",
    "                                                       l2_leaf_reg = l2_leaf_reg,\n",
    "                                                       learning_rate = learn_rate,\n",
    "                                                       random_state = state, \n",
    "                                                       verbose = False)\n",
    "                    catboost_model.fit(features_train, \n",
    "                                       target_train, \n",
    "                                       cat_features=categorial_features, \n",
    "                                       verbose=False)\n",
    "                    catboost_predicted_valid = catboost_model.predict(features_valid)\n",
    "                    rmse_score = mean_squared_error(target_valid, catboost_predicted_valid) ** 0.5\n",
    "                    depth_col.append(depth)\n",
    "                    l2_leaf_reg_col.append(l2_leaf_reg)\n",
    "                    learning_rate_col.append(learn_rate)\n",
    "                    iterations_col.append(iterations)\n",
    "                    rmse_col.append(rmse_score)\n",
    "    catboost_hyperparameters_dict = {'depth': depth_col, \n",
    "                                     'l2_leaf_reg': l2_leaf_reg_col, \n",
    "                                     'learning_rate': learning_rate_col, \n",
    "                                     'iterations': iterations_col, \n",
    "                                     'rmse_score': rmse_col}\n",
    "    catboost_hyperparameters = pd.DataFrame(data = catboost_hyperparameters_dict)\n",
    "    return catboost_hyperparameters"
   ]
  },
  {
   "cell_type": "code",
   "execution_count": 101,
   "metadata": {},
   "outputs": [
    {
     "name": "stdout",
     "output_type": "stream",
     "text": [
      "CPU times: user 13min 35s, sys: 1min 57s, total: 15min 33s\n",
      "Wall time: 16min 2s\n"
     ]
    }
   ],
   "source": [
    "%%time\n",
    "CatBoost_results = CatBoost_search(features_train, target_train, features_valid, target_valid)"
   ]
  },
  {
   "cell_type": "code",
   "execution_count": 102,
   "metadata": {},
   "outputs": [],
   "source": [
    "CatBoost_results = CatBoost_results.sort_values(by = 'rmse_score')"
   ]
  },
  {
   "cell_type": "code",
   "execution_count": 103,
   "metadata": {},
   "outputs": [
    {
     "data": {
      "text/html": [
       "<div>\n",
       "<style scoped>\n",
       "    .dataframe tbody tr th:only-of-type {\n",
       "        vertical-align: middle;\n",
       "    }\n",
       "\n",
       "    .dataframe tbody tr th {\n",
       "        vertical-align: top;\n",
       "    }\n",
       "\n",
       "    .dataframe thead th {\n",
       "        text-align: right;\n",
       "    }\n",
       "</style>\n",
       "<table border=\"1\" class=\"dataframe\">\n",
       "  <thead>\n",
       "    <tr style=\"text-align: right;\">\n",
       "      <th></th>\n",
       "      <th>depth</th>\n",
       "      <th>l2_leaf_reg</th>\n",
       "      <th>learning_rate</th>\n",
       "      <th>iterations</th>\n",
       "      <th>rmse_score</th>\n",
       "    </tr>\n",
       "  </thead>\n",
       "  <tbody>\n",
       "    <tr>\n",
       "      <td>3</td>\n",
       "      <td>12</td>\n",
       "      <td>5</td>\n",
       "      <td>0.5</td>\n",
       "      <td>80</td>\n",
       "      <td>1611.067360</td>\n",
       "    </tr>\n",
       "    <tr>\n",
       "      <td>7</td>\n",
       "      <td>16</td>\n",
       "      <td>5</td>\n",
       "      <td>0.5</td>\n",
       "      <td>80</td>\n",
       "      <td>1614.442645</td>\n",
       "    </tr>\n",
       "    <tr>\n",
       "      <td>1</td>\n",
       "      <td>12</td>\n",
       "      <td>2</td>\n",
       "      <td>0.5</td>\n",
       "      <td>80</td>\n",
       "      <td>1621.089826</td>\n",
       "    </tr>\n",
       "    <tr>\n",
       "      <td>5</td>\n",
       "      <td>16</td>\n",
       "      <td>2</td>\n",
       "      <td>0.5</td>\n",
       "      <td>80</td>\n",
       "      <td>1624.712925</td>\n",
       "    </tr>\n",
       "    <tr>\n",
       "      <td>4</td>\n",
       "      <td>16</td>\n",
       "      <td>2</td>\n",
       "      <td>0.1</td>\n",
       "      <td>80</td>\n",
       "      <td>1626.608866</td>\n",
       "    </tr>\n",
       "    <tr>\n",
       "      <td>6</td>\n",
       "      <td>16</td>\n",
       "      <td>5</td>\n",
       "      <td>0.1</td>\n",
       "      <td>80</td>\n",
       "      <td>1633.167082</td>\n",
       "    </tr>\n",
       "    <tr>\n",
       "      <td>0</td>\n",
       "      <td>12</td>\n",
       "      <td>2</td>\n",
       "      <td>0.1</td>\n",
       "      <td>80</td>\n",
       "      <td>1661.497804</td>\n",
       "    </tr>\n",
       "    <tr>\n",
       "      <td>2</td>\n",
       "      <td>12</td>\n",
       "      <td>5</td>\n",
       "      <td>0.1</td>\n",
       "      <td>80</td>\n",
       "      <td>1671.326940</td>\n",
       "    </tr>\n",
       "  </tbody>\n",
       "</table>\n",
       "</div>"
      ],
      "text/plain": [
       "   depth  l2_leaf_reg  learning_rate  iterations   rmse_score\n",
       "3     12            5            0.5          80  1611.067360\n",
       "7     16            5            0.5          80  1614.442645\n",
       "1     12            2            0.5          80  1621.089826\n",
       "5     16            2            0.5          80  1624.712925\n",
       "4     16            2            0.1          80  1626.608866\n",
       "6     16            5            0.1          80  1633.167082\n",
       "0     12            2            0.1          80  1661.497804\n",
       "2     12            5            0.1          80  1671.326940"
      ]
     },
     "execution_count": 103,
     "metadata": {},
     "output_type": "execute_result"
    }
   ],
   "source": [
    "CatBoost_results"
   ]
  },
  {
   "cell_type": "code",
   "execution_count": 104,
   "metadata": {},
   "outputs": [
    {
     "data": {
      "text/html": [
       "<div>\n",
       "<style scoped>\n",
       "    .dataframe tbody tr th:only-of-type {\n",
       "        vertical-align: middle;\n",
       "    }\n",
       "\n",
       "    .dataframe tbody tr th {\n",
       "        vertical-align: top;\n",
       "    }\n",
       "\n",
       "    .dataframe thead th {\n",
       "        text-align: right;\n",
       "    }\n",
       "</style>\n",
       "<table border=\"1\" class=\"dataframe\">\n",
       "  <thead>\n",
       "    <tr style=\"text-align: right;\">\n",
       "      <th></th>\n",
       "      <th>depth</th>\n",
       "      <th>l2_leaf_reg</th>\n",
       "      <th>learning_rate</th>\n",
       "      <th>iterations</th>\n",
       "      <th>rmse_score</th>\n",
       "    </tr>\n",
       "  </thead>\n",
       "  <tbody>\n",
       "    <tr>\n",
       "      <td>3</td>\n",
       "      <td>12</td>\n",
       "      <td>5</td>\n",
       "      <td>0.5</td>\n",
       "      <td>80</td>\n",
       "      <td>1611.06736</td>\n",
       "    </tr>\n",
       "  </tbody>\n",
       "</table>\n",
       "</div>"
      ],
      "text/plain": [
       "   depth  l2_leaf_reg  learning_rate  iterations  rmse_score\n",
       "3     12            5            0.5          80  1611.06736"
      ]
     },
     "execution_count": 104,
     "metadata": {},
     "output_type": "execute_result"
    }
   ],
   "source": [
    "CatBoost_best_hyper = CatBoost_results.head(1)\n",
    "CatBoost_best_hyper"
   ]
  },
  {
   "cell_type": "markdown",
   "metadata": {},
   "source": [
    "Перебор гиперпараметров занял достаточно большое время (притом, что их было немного), но результат получен. Сохраним значения гиперпараметров для проверки на тестовой выборке."
   ]
  },
  {
   "cell_type": "code",
   "execution_count": 105,
   "metadata": {},
   "outputs": [],
   "source": [
    "CatBoost_best_depth = int(CatBoost_best_hyper['depth'])\n",
    "CatBoost_best_l2_leaf_reg = int(CatBoost_best_hyper['l2_leaf_reg'])\n",
    "CatBoost_best_learning_rate = float(CatBoost_best_hyper['learning_rate'])\n",
    "CatBoost_best_iterations = int(CatBoost_best_hyper['iterations'])"
   ]
  },
  {
   "cell_type": "markdown",
   "metadata": {},
   "source": [
    "### LGBMRegressor"
   ]
  },
  {
   "cell_type": "markdown",
   "metadata": {},
   "source": [
    "В LGBMRegressor можно передать категориальные данные, но мы посмотрим, как он работает с кодированными данными. "
   ]
  },
  {
   "cell_type": "code",
   "execution_count": 97,
   "metadata": {},
   "outputs": [],
   "source": [
    "ordin_features_trainvalid, ordin_features_test, ordin_target_trainvalid, ordin_target_test = train_test_split(\n",
    "    df_ordin.drop('Price', axis=1), df_ordin.Price, test_size=0.25, random_state=state)"
   ]
  },
  {
   "cell_type": "code",
   "execution_count": 98,
   "metadata": {},
   "outputs": [],
   "source": [
    "ordin_features_train, ordin_features_valid, ordin_target_train, ordin_target_valid = train_test_split(\n",
    "    ordin_features_trainvalid, ordin_target_trainvalid, test_size=0.25, random_state=state)"
   ]
  },
  {
   "cell_type": "code",
   "execution_count": 99,
   "metadata": {},
   "outputs": [],
   "source": [
    "test_LGBM = LGBMRegressor(objective=\"regression\", eval_metric='rmse',\n",
    "                                                       iterations = 80,\n",
    "                                                       max_depth = 15,\n",
    "                                                       reg_lambda = 2,\n",
    "                                                       learning_rate = 0.1,\n",
    "                                                       random_state = state)"
   ]
  },
  {
   "cell_type": "code",
   "execution_count": 100,
   "metadata": {},
   "outputs": [
    {
     "name": "stderr",
     "output_type": "stream",
     "text": [
      "/opt/conda/lib/python3.7/site-packages/lightgbm/basic.py:1295: UserWarning: categorical_feature in Dataset is overridden.\n",
      "New categorical_feature is ['Brand', 'FuelType', 'Model', 'RegistrationMonth', 'VehicleType']\n",
      "  'New categorical_feature is {}'.format(sorted(list(categorical_feature))))\n"
     ]
    },
    {
     "data": {
      "text/plain": [
       "LGBMRegressor(boosting_type='gbdt', class_weight=None, colsample_bytree=1.0,\n",
       "              eval_metric='rmse', importance_type='split', iterations=80,\n",
       "              learning_rate=0.1, max_depth=15, min_child_samples=20,\n",
       "              min_child_weight=0.001, min_split_gain=0.0, n_estimators=100,\n",
       "              n_jobs=-1, num_leaves=31, objective='regression',\n",
       "              random_state=1234, reg_alpha=0.0, reg_lambda=2, silent=True,\n",
       "              subsample=1.0, subsample_for_bin=200000, subsample_freq=0)"
      ]
     },
     "execution_count": 100,
     "metadata": {},
     "output_type": "execute_result"
    }
   ],
   "source": [
    "test_LGBM.fit(ordin_features_train, ordin_target_train, verbose=0, feature_name = list(ordin_features_train.columns), categorical_feature = categorial_features)\n"
   ]
  },
  {
   "cell_type": "code",
   "execution_count": 101,
   "metadata": {},
   "outputs": [
    {
     "name": "stdout",
     "output_type": "stream",
     "text": [
      "CPU times: user 6 µs, sys: 0 ns, total: 6 µs\n",
      "Wall time: 10.3 µs\n"
     ]
    }
   ],
   "source": [
    "%%time\n",
    "def LGBM_search(features_train, target_train, features_valid, target_valid):\n",
    "    learning_rate_col = []\n",
    "    max_depth_col = []\n",
    "    reg_lambda_col = []\n",
    "    iterations_col = []\n",
    "    rmse_col = []\n",
    "    for depth in [12, 18]:\n",
    "        for reg_lambda in [2,5]:\n",
    "            for learn_rate in [0.1,0.5]:\n",
    "                for iterations in [80]:\n",
    "                    LGBM_model = LGBMRegressor(objective=\"regression\", eval_metric='rmse',\n",
    "                                                       iterations = iterations,\n",
    "                                                       max_depth = depth,\n",
    "                                                       reg_lambda = reg_lambda,\n",
    "                                                       learning_rate = learn_rate,\n",
    "                                                       random_state = state)\n",
    "                    LGBM_model.fit(features_train,\n",
    "                                   target_train,\n",
    "                                   verbose=0,feature_name = list(features_train.columns), categorical_feature = categorial_features)\n",
    "                    LGBM_predicted_valid = LGBM_model.predict(features_valid)\n",
    "                    rmse_score = mean_squared_error(target_valid, LGBM_predicted_valid) ** 0.5\n",
    "                    max_depth_col.append(depth)\n",
    "                    reg_lambda_col.append(reg_lambda)\n",
    "                    learning_rate_col.append(learn_rate)\n",
    "                    iterations_col.append(iterations)\n",
    "                    rmse_col.append(rmse_score)\n",
    "    LGBM_hyperparameters_dict = {'max_depth': max_depth_col, \n",
    "                                     'reg_lambda': reg_lambda_col, \n",
    "                                     'learning_rate': learning_rate_col, \n",
    "                                     'iterations': iterations_col, \n",
    "                                     'rmse_score': rmse_col}\n",
    "    LGBM_hyperparameters = pd.DataFrame(data = LGBM_hyperparameters_dict)\n",
    "    return LGBM_hyperparameters"
   ]
  },
  {
   "cell_type": "code",
   "execution_count": 102,
   "metadata": {},
   "outputs": [
    {
     "name": "stderr",
     "output_type": "stream",
     "text": [
      "/opt/conda/lib/python3.7/site-packages/lightgbm/basic.py:1295: UserWarning: categorical_feature in Dataset is overridden.\n",
      "New categorical_feature is ['Brand', 'FuelType', 'Model', 'RegistrationMonth', 'VehicleType']\n",
      "  'New categorical_feature is {}'.format(sorted(list(categorical_feature))))\n",
      "/opt/conda/lib/python3.7/site-packages/lightgbm/basic.py:1295: UserWarning: categorical_feature in Dataset is overridden.\n",
      "New categorical_feature is ['Brand', 'FuelType', 'Model', 'RegistrationMonth', 'VehicleType']\n",
      "  'New categorical_feature is {}'.format(sorted(list(categorical_feature))))\n",
      "/opt/conda/lib/python3.7/site-packages/lightgbm/basic.py:1295: UserWarning: categorical_feature in Dataset is overridden.\n",
      "New categorical_feature is ['Brand', 'FuelType', 'Model', 'RegistrationMonth', 'VehicleType']\n",
      "  'New categorical_feature is {}'.format(sorted(list(categorical_feature))))\n",
      "/opt/conda/lib/python3.7/site-packages/lightgbm/basic.py:1295: UserWarning: categorical_feature in Dataset is overridden.\n",
      "New categorical_feature is ['Brand', 'FuelType', 'Model', 'RegistrationMonth', 'VehicleType']\n",
      "  'New categorical_feature is {}'.format(sorted(list(categorical_feature))))\n",
      "/opt/conda/lib/python3.7/site-packages/lightgbm/basic.py:1295: UserWarning: categorical_feature in Dataset is overridden.\n",
      "New categorical_feature is ['Brand', 'FuelType', 'Model', 'RegistrationMonth', 'VehicleType']\n",
      "  'New categorical_feature is {}'.format(sorted(list(categorical_feature))))\n",
      "/opt/conda/lib/python3.7/site-packages/lightgbm/basic.py:1295: UserWarning: categorical_feature in Dataset is overridden.\n",
      "New categorical_feature is ['Brand', 'FuelType', 'Model', 'RegistrationMonth', 'VehicleType']\n",
      "  'New categorical_feature is {}'.format(sorted(list(categorical_feature))))\n",
      "/opt/conda/lib/python3.7/site-packages/lightgbm/basic.py:1295: UserWarning: categorical_feature in Dataset is overridden.\n",
      "New categorical_feature is ['Brand', 'FuelType', 'Model', 'RegistrationMonth', 'VehicleType']\n",
      "  'New categorical_feature is {}'.format(sorted(list(categorical_feature))))\n"
     ]
    },
    {
     "name": "stdout",
     "output_type": "stream",
     "text": [
      "CPU times: user 1min 3s, sys: 472 ms, total: 1min 4s\n",
      "Wall time: 1min 5s\n"
     ]
    }
   ],
   "source": [
    "%%time\n",
    "LGBM_results = LGBM_search(ordin_features_train, ordin_target_train, ordin_features_valid, ordin_target_valid)"
   ]
  },
  {
   "cell_type": "code",
   "execution_count": 103,
   "metadata": {},
   "outputs": [
    {
     "data": {
      "text/html": [
       "<div>\n",
       "<style scoped>\n",
       "    .dataframe tbody tr th:only-of-type {\n",
       "        vertical-align: middle;\n",
       "    }\n",
       "\n",
       "    .dataframe tbody tr th {\n",
       "        vertical-align: top;\n",
       "    }\n",
       "\n",
       "    .dataframe thead th {\n",
       "        text-align: right;\n",
       "    }\n",
       "</style>\n",
       "<table border=\"1\" class=\"dataframe\">\n",
       "  <thead>\n",
       "    <tr style=\"text-align: right;\">\n",
       "      <th></th>\n",
       "      <th>max_depth</th>\n",
       "      <th>reg_lambda</th>\n",
       "      <th>learning_rate</th>\n",
       "      <th>iterations</th>\n",
       "      <th>rmse_score</th>\n",
       "    </tr>\n",
       "  </thead>\n",
       "  <tbody>\n",
       "    <tr>\n",
       "      <td>3</td>\n",
       "      <td>12</td>\n",
       "      <td>5</td>\n",
       "      <td>0.5</td>\n",
       "      <td>80</td>\n",
       "      <td>1627.763898</td>\n",
       "    </tr>\n",
       "  </tbody>\n",
       "</table>\n",
       "</div>"
      ],
      "text/plain": [
       "   max_depth  reg_lambda  learning_rate  iterations   rmse_score\n",
       "3         12           5            0.5          80  1627.763898"
      ]
     },
     "execution_count": 103,
     "metadata": {},
     "output_type": "execute_result"
    }
   ],
   "source": [
    "LGBM_results = LGBM_results.sort_values(by = 'rmse_score')\n",
    "LGBM_best_hyper = LGBM_results.head(1)\n",
    "LGBM_best_hyper"
   ]
  },
  {
   "cell_type": "markdown",
   "metadata": {},
   "source": [
    "Перебор примерно тех же гиперпараметров занял куда меньшее время, а rmse на валидационной выборке гораздо меньше, чем продемонстрировал CatBoostRegressor. Сохраним значения гиперпараметров для проверки на тестовой выборке."
   ]
  },
  {
   "cell_type": "code",
   "execution_count": 104,
   "metadata": {},
   "outputs": [],
   "source": [
    "LGBM_best_depth = int(LGBM_best_hyper['max_depth'])\n",
    "LGBM_best_reg_lambda = int(LGBM_best_hyper['reg_lambda'])\n",
    "LGBM_best_learning_rate = float(LGBM_best_hyper['learning_rate'])\n",
    "LGBM_best_iterations = int(LGBM_best_hyper['iterations'])"
   ]
  },
  {
   "cell_type": "markdown",
   "metadata": {},
   "source": [
    "### RandomForestRegressor"
   ]
  },
  {
   "cell_type": "markdown",
   "metadata": {},
   "source": [
    "Сравним алгоритмы градиентного бустинга со старым добрым случайным лесом. Он не принимает категориалные признаки вообще, поэтому использование кодированных данных необходимо."
   ]
  },
  {
   "cell_type": "code",
   "execution_count": 105,
   "metadata": {},
   "outputs": [
    {
     "name": "stdout",
     "output_type": "stream",
     "text": [
      "CPU times: user 5 µs, sys: 0 ns, total: 5 µs\n",
      "Wall time: 8.11 µs\n"
     ]
    }
   ],
   "source": [
    "%%time\n",
    "def forest_search(features_train, target_train, features_valid, target_valid):\n",
    "    forest_depth_col = []\n",
    "    forest_min_leaf_col = []\n",
    "    forest_min_split_col = []\n",
    "    forest_estim_col = []\n",
    "    forest_score_col = []\n",
    "    for depth in [12,18]:\n",
    "        for n_estim in [80]:\n",
    "            for min_leaf in range (5,12,3):\n",
    "                for min_split in range (4,12,4):\n",
    "                    forest_model = RandomForestRegressor(n_estimators = n_estim, \n",
    "                                                   max_depth = depth, \n",
    "                                                   min_samples_split = min_split, \n",
    "                                                   min_samples_leaf = min_leaf, \n",
    "                                                   random_state = state)\n",
    "                    forest_model.fit(features_train, target_train)\n",
    "                    forest_predicted_valid = forest_model.predict(features_valid)\n",
    "                    rmse_score = mean_squared_error(target_valid, forest_predicted_valid) ** 0.5\n",
    "                    forest_depth_col.append(depth)\n",
    "                    forest_min_leaf_col.append(min_leaf)\n",
    "                    forest_min_split_col.append(min_split)\n",
    "                    forest_estim_col.append(n_estim)\n",
    "                    forest_score_col.append(rmse_score)\n",
    "    forest_hyperparameters_dict = {'max_depth': forest_depth_col, 'min_samples_split': forest_min_split_col, 'min_samples_leaf': forest_min_leaf_col, 'n_estimators': forest_estim_col, 'rmse_score': forest_score_col}\n",
    "    forest_hyperparameters = pd.DataFrame(data = forest_hyperparameters_dict)\n",
    "    return forest_hyperparameters\n"
   ]
  },
  {
   "cell_type": "code",
   "execution_count": 106,
   "metadata": {},
   "outputs": [
    {
     "name": "stdout",
     "output_type": "stream",
     "text": [
      "CPU times: user 7min 7s, sys: 1.21 s, total: 7min 9s\n",
      "Wall time: 7min 10s\n"
     ]
    }
   ],
   "source": [
    "%%time\n",
    "forest_results = forest_search(ordin_features_train, ordin_target_train, ordin_features_valid, ordin_target_valid)"
   ]
  },
  {
   "cell_type": "code",
   "execution_count": 107,
   "metadata": {},
   "outputs": [
    {
     "data": {
      "text/html": [
       "<div>\n",
       "<style scoped>\n",
       "    .dataframe tbody tr th:only-of-type {\n",
       "        vertical-align: middle;\n",
       "    }\n",
       "\n",
       "    .dataframe tbody tr th {\n",
       "        vertical-align: top;\n",
       "    }\n",
       "\n",
       "    .dataframe thead th {\n",
       "        text-align: right;\n",
       "    }\n",
       "</style>\n",
       "<table border=\"1\" class=\"dataframe\">\n",
       "  <thead>\n",
       "    <tr style=\"text-align: right;\">\n",
       "      <th></th>\n",
       "      <th>max_depth</th>\n",
       "      <th>min_samples_split</th>\n",
       "      <th>min_samples_leaf</th>\n",
       "      <th>n_estimators</th>\n",
       "      <th>rmse_score</th>\n",
       "    </tr>\n",
       "  </thead>\n",
       "  <tbody>\n",
       "    <tr>\n",
       "      <td>6</td>\n",
       "      <td>18</td>\n",
       "      <td>4</td>\n",
       "      <td>5</td>\n",
       "      <td>80</td>\n",
       "      <td>1635.353914</td>\n",
       "    </tr>\n",
       "  </tbody>\n",
       "</table>\n",
       "</div>"
      ],
      "text/plain": [
       "   max_depth  min_samples_split  min_samples_leaf  n_estimators   rmse_score\n",
       "6         18                  4                 5            80  1635.353914"
      ]
     },
     "execution_count": 107,
     "metadata": {},
     "output_type": "execute_result"
    }
   ],
   "source": [
    "forest_results = forest_results.sort_values(by = 'rmse_score')\n",
    "forest_best_hyper = forest_results.head(1)\n",
    "forest_best_hyper"
   ]
  },
  {
   "cell_type": "code",
   "execution_count": 108,
   "metadata": {},
   "outputs": [
    {
     "data": {
      "text/html": [
       "<div>\n",
       "<style scoped>\n",
       "    .dataframe tbody tr th:only-of-type {\n",
       "        vertical-align: middle;\n",
       "    }\n",
       "\n",
       "    .dataframe tbody tr th {\n",
       "        vertical-align: top;\n",
       "    }\n",
       "\n",
       "    .dataframe thead th {\n",
       "        text-align: right;\n",
       "    }\n",
       "</style>\n",
       "<table border=\"1\" class=\"dataframe\">\n",
       "  <thead>\n",
       "    <tr style=\"text-align: right;\">\n",
       "      <th></th>\n",
       "      <th>max_depth</th>\n",
       "      <th>min_samples_split</th>\n",
       "      <th>min_samples_leaf</th>\n",
       "      <th>n_estimators</th>\n",
       "      <th>rmse_score</th>\n",
       "    </tr>\n",
       "  </thead>\n",
       "  <tbody>\n",
       "    <tr>\n",
       "      <td>6</td>\n",
       "      <td>18</td>\n",
       "      <td>4</td>\n",
       "      <td>5</td>\n",
       "      <td>80</td>\n",
       "      <td>1635.353914</td>\n",
       "    </tr>\n",
       "    <tr>\n",
       "      <td>7</td>\n",
       "      <td>18</td>\n",
       "      <td>8</td>\n",
       "      <td>5</td>\n",
       "      <td>80</td>\n",
       "      <td>1635.353914</td>\n",
       "    </tr>\n",
       "    <tr>\n",
       "      <td>8</td>\n",
       "      <td>18</td>\n",
       "      <td>4</td>\n",
       "      <td>8</td>\n",
       "      <td>80</td>\n",
       "      <td>1659.582299</td>\n",
       "    </tr>\n",
       "    <tr>\n",
       "      <td>9</td>\n",
       "      <td>18</td>\n",
       "      <td>8</td>\n",
       "      <td>8</td>\n",
       "      <td>80</td>\n",
       "      <td>1659.582299</td>\n",
       "    </tr>\n",
       "    <tr>\n",
       "      <td>10</td>\n",
       "      <td>18</td>\n",
       "      <td>4</td>\n",
       "      <td>11</td>\n",
       "      <td>80</td>\n",
       "      <td>1683.669144</td>\n",
       "    </tr>\n",
       "    <tr>\n",
       "      <td>11</td>\n",
       "      <td>18</td>\n",
       "      <td>8</td>\n",
       "      <td>11</td>\n",
       "      <td>80</td>\n",
       "      <td>1683.669144</td>\n",
       "    </tr>\n",
       "    <tr>\n",
       "      <td>0</td>\n",
       "      <td>12</td>\n",
       "      <td>4</td>\n",
       "      <td>5</td>\n",
       "      <td>80</td>\n",
       "      <td>1766.760370</td>\n",
       "    </tr>\n",
       "    <tr>\n",
       "      <td>1</td>\n",
       "      <td>12</td>\n",
       "      <td>8</td>\n",
       "      <td>5</td>\n",
       "      <td>80</td>\n",
       "      <td>1766.760370</td>\n",
       "    </tr>\n",
       "    <tr>\n",
       "      <td>2</td>\n",
       "      <td>12</td>\n",
       "      <td>4</td>\n",
       "      <td>8</td>\n",
       "      <td>80</td>\n",
       "      <td>1773.438844</td>\n",
       "    </tr>\n",
       "    <tr>\n",
       "      <td>3</td>\n",
       "      <td>12</td>\n",
       "      <td>8</td>\n",
       "      <td>8</td>\n",
       "      <td>80</td>\n",
       "      <td>1773.438844</td>\n",
       "    </tr>\n",
       "    <tr>\n",
       "      <td>4</td>\n",
       "      <td>12</td>\n",
       "      <td>4</td>\n",
       "      <td>11</td>\n",
       "      <td>80</td>\n",
       "      <td>1782.215177</td>\n",
       "    </tr>\n",
       "    <tr>\n",
       "      <td>5</td>\n",
       "      <td>12</td>\n",
       "      <td>8</td>\n",
       "      <td>11</td>\n",
       "      <td>80</td>\n",
       "      <td>1782.215177</td>\n",
       "    </tr>\n",
       "  </tbody>\n",
       "</table>\n",
       "</div>"
      ],
      "text/plain": [
       "    max_depth  min_samples_split  min_samples_leaf  n_estimators   rmse_score\n",
       "6          18                  4                 5            80  1635.353914\n",
       "7          18                  8                 5            80  1635.353914\n",
       "8          18                  4                 8            80  1659.582299\n",
       "9          18                  8                 8            80  1659.582299\n",
       "10         18                  4                11            80  1683.669144\n",
       "11         18                  8                11            80  1683.669144\n",
       "0          12                  4                 5            80  1766.760370\n",
       "1          12                  8                 5            80  1766.760370\n",
       "2          12                  4                 8            80  1773.438844\n",
       "3          12                  8                 8            80  1773.438844\n",
       "4          12                  4                11            80  1782.215177\n",
       "5          12                  8                11            80  1782.215177"
      ]
     },
     "execution_count": 108,
     "metadata": {},
     "output_type": "execute_result"
    }
   ],
   "source": [
    "forest_results"
   ]
  },
  {
   "cell_type": "markdown",
   "metadata": {},
   "source": [
    "Перебор параметров занял какое-то время, хотя и меньшее, чем у CatBoost, но rmse на валидационной выборке получился даже ниже, чем у LGBMRegressor.  "
   ]
  },
  {
   "cell_type": "code",
   "execution_count": 109,
   "metadata": {},
   "outputs": [],
   "source": [
    "forest_best_depth = int(forest_best_hyper['max_depth'])\n",
    "forest_best_min_samples_split = int(forest_best_hyper['min_samples_split'])\n",
    "forest_best_min_samples_leaf = int(forest_best_hyper['min_samples_leaf'])\n",
    "forest_best_n_estimators = int(forest_best_hyper['n_estimators'])"
   ]
  },
  {
   "cell_type": "markdown",
   "metadata": {},
   "source": [
    "# 3. Анализ моделей"
   ]
  },
  {
   "cell_type": "markdown",
   "metadata": {},
   "source": [
    "Сопоставим получившиеся модели по показателям, волнующим заказчика: точности предсказания, скорости предсказания, времени обучения модели.  \n",
    "Для большей точности обучим модели каждого алгоритма с лучшими обнаруженными гиперпараметрами на объединенных обучащих и валидационных выборках."
   ]
  },
  {
   "cell_type": "code",
   "execution_count": 119,
   "metadata": {},
   "outputs": [
    {
     "name": "stdout",
     "output_type": "stream",
     "text": [
      "0:\tlearn: 3022.3984495\ttotal: 697ms\tremaining: 55s\n",
      "5:\tlearn: 1799.2654171\ttotal: 3.91s\tremaining: 48.2s\n",
      "10:\tlearn: 1703.2992121\ttotal: 7.12s\tremaining: 44.6s\n",
      "15:\tlearn: 1647.4672573\ttotal: 10.4s\tremaining: 41.6s\n",
      "20:\tlearn: 1611.8477701\ttotal: 13.6s\tremaining: 38.2s\n",
      "25:\tlearn: 1583.3210133\ttotal: 17.1s\tremaining: 35.5s\n",
      "30:\tlearn: 1563.0914388\ttotal: 20.3s\tremaining: 32.1s\n",
      "35:\tlearn: 1542.1453854\ttotal: 23.5s\tremaining: 28.7s\n",
      "40:\tlearn: 1521.5321823\ttotal: 26.7s\tremaining: 25.4s\n",
      "45:\tlearn: 1497.0634862\ttotal: 29.9s\tremaining: 22.1s\n",
      "50:\tlearn: 1479.4293595\ttotal: 33.1s\tremaining: 18.8s\n",
      "55:\tlearn: 1466.8015999\ttotal: 36.2s\tremaining: 15.5s\n",
      "60:\tlearn: 1458.6635774\ttotal: 39.3s\tremaining: 12.2s\n",
      "65:\tlearn: 1443.8882110\ttotal: 42.6s\tremaining: 9.03s\n",
      "70:\tlearn: 1425.6279318\ttotal: 45.8s\tremaining: 5.8s\n",
      "75:\tlearn: 1417.3002131\ttotal: 49.1s\tremaining: 2.58s\n",
      "79:\tlearn: 1412.1371758\ttotal: 51.6s\tremaining: 0us\n",
      "CPU times: user 49 s, sys: 3.34 s, total: 52.3 s\n",
      "Wall time: 56 s\n"
     ]
    },
    {
     "data": {
      "text/plain": [
       "<catboost.core.CatBoostRegressor at 0x7f7c4c57a110>"
      ]
     },
     "execution_count": 119,
     "metadata": {},
     "output_type": "execute_result"
    }
   ],
   "source": [
    "%%time\n",
    "CatBoost_best_model = CatBoostRegressor(loss_function = 'RMSE',\n",
    "                                        iterations = CatBoost_best_iterations,\n",
    "                                        depth = CatBoost_best_depth,\n",
    "                                        l2_leaf_reg = CatBoost_best_l2_leaf_reg,\n",
    "                                        learning_rate = CatBoost_best_learning_rate,\n",
    "                                        random_state = state)\n",
    "CatBoost_best_model.fit(features_trainvalid, target_trainvalid, cat_features=categorial_features, verbose=5)"
   ]
  },
  {
   "cell_type": "code",
   "execution_count": 120,
   "metadata": {},
   "outputs": [
    {
     "name": "stdout",
     "output_type": "stream",
     "text": [
      "CPU times: user 301 ms, sys: 12.3 ms, total: 313 ms\n",
      "Wall time: 295 ms\n"
     ]
    }
   ],
   "source": [
    "%%time\n",
    "CatBoost_predicted_test = CatBoost_best_model.predict(features_test)                    "
   ]
  },
  {
   "cell_type": "code",
   "execution_count": 121,
   "metadata": {},
   "outputs": [
    {
     "data": {
      "text/plain": [
       "1607.9025757123661"
      ]
     },
     "execution_count": 121,
     "metadata": {},
     "output_type": "execute_result"
    }
   ],
   "source": [
    "CatBoost_rmse_test = mean_squared_error(target_test, CatBoost_predicted_test) ** 0.5\n",
    "CatBoost_rmse_test"
   ]
  },
  {
   "cell_type": "markdown",
   "metadata": {},
   "source": [
    "Обучение модели CatBoost составило 49секунд - 1 минуту.  \n",
    "Скорость предсказания модели CatBoost составила 295-369 миллисекунд.  \n",
    "RMSE модели CatBoost: 1607.9025757123661."
   ]
  },
  {
   "cell_type": "code",
   "execution_count": 110,
   "metadata": {},
   "outputs": [
    {
     "name": "stdout",
     "output_type": "stream",
     "text": [
      "CPU times: user 7.27 s, sys: 66.8 ms, total: 7.34 s\n",
      "Wall time: 7.36 s\n"
     ]
    },
    {
     "data": {
      "text/plain": [
       "LGBMRegressor(boosting_type='gbdt', class_weight=None, colsample_bytree=1.0,\n",
       "              eval_metric='rmse', importance_type='split', iterations=80,\n",
       "              learning_rate=0.5, max_depth=12, min_child_samples=20,\n",
       "              min_child_weight=0.001, min_split_gain=0.0, n_estimators=100,\n",
       "              n_jobs=-1, num_leaves=31, objective='regression',\n",
       "              random_state=1234, reg_alpha=0.0, reg_lambda=5, silent=True,\n",
       "              subsample=1.0, subsample_for_bin=200000, subsample_freq=0)"
      ]
     },
     "execution_count": 110,
     "metadata": {},
     "output_type": "execute_result"
    }
   ],
   "source": [
    "%%time\n",
    "LGBM_best_model = LGBMRegressor(objective=\"regression\", eval_metric='rmse',\n",
    "                                iterations = LGBM_best_iterations,\n",
    "                                max_depth = LGBM_best_depth,\n",
    "                                reg_lambda = LGBM_best_reg_lambda,\n",
    "                                learning_rate = LGBM_best_learning_rate,\n",
    "                                random_state = state)\n",
    "LGBM_best_model.fit(ordin_features_trainvalid, ordin_target_trainvalid)"
   ]
  },
  {
   "cell_type": "code",
   "execution_count": 111,
   "metadata": {},
   "outputs": [
    {
     "name": "stdout",
     "output_type": "stream",
     "text": [
      "CPU times: user 618 ms, sys: 0 ns, total: 618 ms\n",
      "Wall time: 607 ms\n"
     ]
    }
   ],
   "source": [
    "%%time\n",
    "LGBM_predicted_test = LGBM_best_model.predict(ordin_features_test)    "
   ]
  },
  {
   "cell_type": "code",
   "execution_count": 112,
   "metadata": {},
   "outputs": [
    {
     "data": {
      "text/plain": [
       "1640.7738523561534"
      ]
     },
     "execution_count": 112,
     "metadata": {},
     "output_type": "execute_result"
    }
   ],
   "source": [
    "LGBM_rmse_test = mean_squared_error(ordin_target_test, LGBM_predicted_test) ** 0.5\n",
    "LGBM_rmse_test"
   ]
  },
  {
   "cell_type": "markdown",
   "metadata": {},
   "source": [
    "Обучение модели LGBM составило 6.97-7.88 секунд.  \n",
    "Скорость предсказания модели LGBM составила 541-595 миллисекунд.  \n",
    "RMSE модели LGBM 1640.7738523561534."
   ]
  },
  {
   "cell_type": "code",
   "execution_count": 113,
   "metadata": {},
   "outputs": [
    {
     "name": "stdout",
     "output_type": "stream",
     "text": [
      "CPU times: user 1min 1s, sys: 182 ms, total: 1min 2s\n",
      "Wall time: 1min 2s\n"
     ]
    },
    {
     "data": {
      "text/plain": [
       "RandomForestRegressor(bootstrap=True, criterion='mse', max_depth=18,\n",
       "                      max_features='auto', max_leaf_nodes=None,\n",
       "                      min_impurity_decrease=0.0, min_impurity_split=None,\n",
       "                      min_samples_leaf=5, min_samples_split=4,\n",
       "                      min_weight_fraction_leaf=0.0, n_estimators=80,\n",
       "                      n_jobs=None, oob_score=False, random_state=1234,\n",
       "                      verbose=0, warm_start=False)"
      ]
     },
     "execution_count": 113,
     "metadata": {},
     "output_type": "execute_result"
    }
   ],
   "source": [
    "%%time\n",
    "forest_best_model = RandomForestRegressor(n_estimators = forest_best_n_estimators,\n",
    "                                          max_depth = forest_best_depth,\n",
    "                                          min_samples_split = forest_best_min_samples_split, \n",
    "                                          min_samples_leaf = forest_best_min_samples_leaf, \n",
    "                                          random_state = state)\n",
    "forest_best_model.fit(ordin_features_trainvalid, ordin_target_trainvalid)"
   ]
  },
  {
   "cell_type": "code",
   "execution_count": 114,
   "metadata": {},
   "outputs": [
    {
     "name": "stdout",
     "output_type": "stream",
     "text": [
      "CPU times: user 2.16 s, sys: 12 ms, total: 2.18 s\n",
      "Wall time: 2.21 s\n"
     ]
    }
   ],
   "source": [
    "%%time\n",
    "forest_predicted_test = forest_best_model.predict(ordin_features_test)   "
   ]
  },
  {
   "cell_type": "code",
   "execution_count": 115,
   "metadata": {},
   "outputs": [
    {
     "data": {
      "text/plain": [
       "1615.3689542747138"
      ]
     },
     "execution_count": 115,
     "metadata": {},
     "output_type": "execute_result"
    }
   ],
   "source": [
    "forest_rmse_test = mean_squared_error(ordin_target_test, forest_predicted_test) ** 0.5\n",
    "forest_rmse_test"
   ]
  },
  {
   "cell_type": "markdown",
   "metadata": {},
   "source": [
    "Обучение модели RandomForestRegressor составило 49.3-54.6 секунд.  \n",
    "Скорость предсказания модели RandomForestRegressor составила 1.61 - 1.78 секунды.  \n",
    "Показатель RMSE модели RandomForestRegressor равен 1615.3689542747138."
   ]
  },
  {
   "cell_type": "markdown",
   "metadata": {},
   "source": [
    "# Вывод"
   ]
  },
  {
   "cell_type": "markdown",
   "metadata": {},
   "source": [
    "Самую высокую точность показал CatBoostRegressor, случайный лес, несильно отставая, показал второй результат, и LGBMRegressor - третий (тоже, впрочем, уступающий несильно).\n",
    "\n",
    "Скорость предсказания в целом выше у CatBoostRegressor, LGBM медленнее, хотя обе модели давали предсказание быстрее секунды. Случайному лесу потребовалось на это около полутора секунд. В показаниях существует определенный разброс, поскольку результаты получались немного другими за два подхода.\n",
    "\n",
    "Скорость обучения выше всего у LGBMRegressor, у него обучение занимает несколько секунд, у CatBooster и случайного леса на обучение уходит около минуты. \n",
    "\n",
    "Поскольку для модели, которая должна рекомендовать клиенту анкету из уже имеющегося пула анкет, скорость обучения, которое можно производить периодически, в любое время и независимо от запроса клиентта, не так важна, как скорость предсказания - то есть скорость ответа клиенту на запрос - и точность предсказания, лидер в которых однозначно опрделен, выбрана модель на основе CatBoostRegressor.  "
   ]
  }
 ],
 "metadata": {
  "kernelspec": {
   "display_name": "Python 3",
   "language": "python",
   "name": "python3"
  },
  "language_info": {
   "codemirror_mode": {
    "name": "ipython",
    "version": 3
   },
   "file_extension": ".py",
   "mimetype": "text/x-python",
   "name": "python",
   "nbconvert_exporter": "python",
   "pygments_lexer": "ipython3",
   "version": "3.7.6"
  }
 },
 "nbformat": 4,
 "nbformat_minor": 2
}
