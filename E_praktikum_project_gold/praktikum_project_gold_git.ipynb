{
 "cells": [
  {
   "cell_type": "markdown",
   "metadata": {},
   "source": [
    "# Предсказание коэффициента восстановления золота"
   ]
  },
  {
   "cell_type": "markdown",
   "metadata": {},
   "source": [
    "# Задача\n",
    "\n",
    "Есть данные с параметрами химического состава сырья на разных этапах очистки золотой руды. Нужно **обучить модель для предсказания коэффициента восстановления золота из золотосодержащей руды**. Качество модели опрделеяется метрикой **Итоговый sMAPE**, рассчитывающейся по формуле:\n",
    "\n",
    "$$\n",
    "sMAPE_{итоговый} = 25\\% \\times sMAPE_{rougher} + 75\\% \\times sMAPE_{final} \n",
    "$$\n",
    "\n",
    "где индексы rougher и final означают этапы обработки руды, для которых расчитывается **sMAPE**.\n",
    "\n",
    "Показатель **sMAPE** для обоих этапов - rougher и final - рассчитывается по формуле:\n",
    "\n",
    "$$\n",
    "sMAPE = {{{1}\\over {N}} \\sum_{i=1}^N {|{y - \\hat y|}\\over{(|y| + |\\hat y|) / 2}} \\times 100\\% }\n",
    "$$\n",
    "\n",
    "где:  \n",
    "$ y $ — целевой признак;  \n",
    "$ \\hat y $ — предсказание целевого признака;  \n",
    "$ N $ — количество объектов.  \n",
    "\n",
    "Золотая руда проходит этап флотации, первый этап очистки и второй этап очистки, на каждом из которых образуются концентрат, который идет на следующий этап, и отвальные хвосты (tails). Для каждого из этапов есть несколько типов параметров (input - параметры поступающего на этап сырья, output - параметры выхода этапа, state - параметры текущего состояния сырья, и calculation - расчетные характеристики), и для каждого типа параметров есть параметры, включающие в себя показатели концентрации металлов в сырье, концентрацию реагентов, физико-химические характеристики вроде объема воздуха, уровня жидкости и размера гранул и т.д. \n",
    "\n",
    "Целевым признаком в нашем случае для обоих этапов rougher (флотация) и (final) является показатель **Recovery** - показатель эффективности обогащения.\n",
    "\n",
    "$$\n",
    "Recovery = {{C \\times (F - T)}\\over{F \\times (C - T)}} \\times 100\\% \n",
    "$$\n",
    "\n",
    "где:  \n",
    "$ C $ — доля золота в концентрате после флотации/очистки;  \n",
    "$ F $  — доля золота в сырье/концентрате до флотации/очистки;;  \n",
    "$ T $ — доля золота в отвальных хвостах после флотации/очистки.  "
   ]
  },
  {
   "cell_type": "markdown",
   "metadata": {},
   "source": [
    "# 1. Подготовка данных"
   ]
  },
  {
   "cell_type": "markdown",
   "metadata": {},
   "source": [
    "## Предварительное изучение данных"
   ]
  },
  {
   "cell_type": "markdown",
   "metadata": {},
   "source": [
    "Загрузим необходимые нам библиотеки и методы и обновим библиотеку scikit learn, чтобы пользоваться методом KNNImputer, с помощью которого заполним пропуски."
   ]
  },
  {
   "cell_type": "code",
   "execution_count": 1,
   "metadata": {},
   "outputs": [],
   "source": [
    "import pandas as pd\n",
    "from sklearn.linear_model import LinearRegression\n",
    "from sklearn.ensemble import RandomForestRegressor\n",
    "from sklearn.tree import DecisionTreeRegressor\n",
    "from sklearn.model_selection import train_test_split\n",
    "from sklearn.metrics import mean_squared_error\n",
    "from sklearn.metrics import mean_absolute_error\n",
    "from sklearn.metrics import r2_score\n",
    "from sklearn.dummy import DummyRegressor\n",
    "\n",
    "from sklearn.utils import shuffle\n",
    "import numpy as np\n",
    "from scipy import stats as st\n",
    "from scipy.stats import norm\n",
    "import matplotlib.pyplot as plt\n",
    "import seaborn as sns\n",
    "\n",
    "import math"
   ]
  },
  {
   "cell_type": "code",
   "execution_count": 2,
   "metadata": {},
   "outputs": [],
   "source": [
    "from sklearn.impute import KNNImputer"
   ]
  },
  {
   "cell_type": "code",
   "execution_count": 3,
   "metadata": {},
   "outputs": [],
   "source": [
    "random = 12345"
   ]
  },
  {
   "cell_type": "markdown",
   "metadata": {},
   "source": [
    "Загрузим данные."
   ]
  },
  {
   "cell_type": "code",
   "execution_count": 4,
   "metadata": {},
   "outputs": [],
   "source": [
    "df_train = pd.read_csv('...') \n"
   ]
  },
  {
   "cell_type": "code",
   "execution_count": 5,
   "metadata": {},
   "outputs": [
    {
     "name": "stdout",
     "output_type": "stream",
     "text": [
      "<class 'pandas.core.frame.DataFrame'>\n",
      "RangeIndex: 16860 entries, 0 to 16859\n",
      "Data columns (total 87 columns):\n",
      " #   Column                                              Non-Null Count  Dtype  \n",
      "---  ------                                              --------------  -----  \n",
      " 0   date                                                16860 non-null  object \n",
      " 1   final.output.concentrate_ag                         16788 non-null  float64\n",
      " 2   final.output.concentrate_pb                         16788 non-null  float64\n",
      " 3   final.output.concentrate_sol                        16490 non-null  float64\n",
      " 4   final.output.concentrate_au                         16789 non-null  float64\n",
      " 5   final.output.recovery                               15339 non-null  float64\n",
      " 6   final.output.tail_ag                                16794 non-null  float64\n",
      " 7   final.output.tail_pb                                16677 non-null  float64\n",
      " 8   final.output.tail_sol                               16715 non-null  float64\n",
      " 9   final.output.tail_au                                16794 non-null  float64\n",
      " 10  primary_cleaner.input.sulfate                       15553 non-null  float64\n",
      " 11  primary_cleaner.input.depressant                    15598 non-null  float64\n",
      " 12  primary_cleaner.input.feed_size                     16860 non-null  float64\n",
      " 13  primary_cleaner.input.xanthate                      15875 non-null  float64\n",
      " 14  primary_cleaner.output.concentrate_ag               16778 non-null  float64\n",
      " 15  primary_cleaner.output.concentrate_pb               16502 non-null  float64\n",
      " 16  primary_cleaner.output.concentrate_sol              16224 non-null  float64\n",
      " 17  primary_cleaner.output.concentrate_au               16778 non-null  float64\n",
      " 18  primary_cleaner.output.tail_ag                      16777 non-null  float64\n",
      " 19  primary_cleaner.output.tail_pb                      16761 non-null  float64\n",
      " 20  primary_cleaner.output.tail_sol                     16579 non-null  float64\n",
      " 21  primary_cleaner.output.tail_au                      16777 non-null  float64\n",
      " 22  primary_cleaner.state.floatbank8_a_air              16820 non-null  float64\n",
      " 23  primary_cleaner.state.floatbank8_a_level            16827 non-null  float64\n",
      " 24  primary_cleaner.state.floatbank8_b_air              16820 non-null  float64\n",
      " 25  primary_cleaner.state.floatbank8_b_level            16833 non-null  float64\n",
      " 26  primary_cleaner.state.floatbank8_c_air              16822 non-null  float64\n",
      " 27  primary_cleaner.state.floatbank8_c_level            16833 non-null  float64\n",
      " 28  primary_cleaner.state.floatbank8_d_air              16821 non-null  float64\n",
      " 29  primary_cleaner.state.floatbank8_d_level            16833 non-null  float64\n",
      " 30  rougher.calculation.sulfate_to_au_concentrate       16833 non-null  float64\n",
      " 31  rougher.calculation.floatbank10_sulfate_to_au_feed  16833 non-null  float64\n",
      " 32  rougher.calculation.floatbank11_sulfate_to_au_feed  16833 non-null  float64\n",
      " 33  rougher.calculation.au_pb_ratio                     15618 non-null  float64\n",
      " 34  rougher.input.feed_ag                               16778 non-null  float64\n",
      " 35  rougher.input.feed_pb                               16632 non-null  float64\n",
      " 36  rougher.input.feed_rate                             16347 non-null  float64\n",
      " 37  rougher.input.feed_size                             16443 non-null  float64\n",
      " 38  rougher.input.feed_sol                              16568 non-null  float64\n",
      " 39  rougher.input.feed_au                               16777 non-null  float64\n",
      " 40  rougher.input.floatbank10_sulfate                   15816 non-null  float64\n",
      " 41  rougher.input.floatbank10_xanthate                  16514 non-null  float64\n",
      " 42  rougher.input.floatbank11_sulfate                   16237 non-null  float64\n",
      " 43  rougher.input.floatbank11_xanthate                  14956 non-null  float64\n",
      " 44  rougher.output.concentrate_ag                       16778 non-null  float64\n",
      " 45  rougher.output.concentrate_pb                       16778 non-null  float64\n",
      " 46  rougher.output.concentrate_sol                      16698 non-null  float64\n",
      " 47  rougher.output.concentrate_au                       16778 non-null  float64\n",
      " 48  rougher.output.recovery                             14287 non-null  float64\n",
      " 49  rougher.output.tail_ag                              14610 non-null  float64\n",
      " 50  rougher.output.tail_pb                              16778 non-null  float64\n",
      " 51  rougher.output.tail_sol                             14611 non-null  float64\n",
      " 52  rougher.output.tail_au                              14611 non-null  float64\n",
      " 53  rougher.state.floatbank10_a_air                     16807 non-null  float64\n",
      " 54  rougher.state.floatbank10_a_level                   16807 non-null  float64\n",
      " 55  rougher.state.floatbank10_b_air                     16807 non-null  float64\n",
      " 56  rougher.state.floatbank10_b_level                   16807 non-null  float64\n",
      " 57  rougher.state.floatbank10_c_air                     16807 non-null  float64\n",
      " 58  rougher.state.floatbank10_c_level                   16814 non-null  float64\n",
      " 59  rougher.state.floatbank10_d_air                     16802 non-null  float64\n",
      " 60  rougher.state.floatbank10_d_level                   16809 non-null  float64\n",
      " 61  rougher.state.floatbank10_e_air                     16257 non-null  float64\n",
      " 62  rougher.state.floatbank10_e_level                   16809 non-null  float64\n",
      " 63  rougher.state.floatbank10_f_air                     16802 non-null  float64\n",
      " 64  rougher.state.floatbank10_f_level                   16802 non-null  float64\n",
      " 65  secondary_cleaner.output.tail_ag                    16776 non-null  float64\n",
      " 66  secondary_cleaner.output.tail_pb                    16764 non-null  float64\n",
      " 67  secondary_cleaner.output.tail_sol                   14874 non-null  float64\n",
      " 68  secondary_cleaner.output.tail_au                    16778 non-null  float64\n",
      " 69  secondary_cleaner.state.floatbank2_a_air            16497 non-null  float64\n",
      " 70  secondary_cleaner.state.floatbank2_a_level          16751 non-null  float64\n",
      " 71  secondary_cleaner.state.floatbank2_b_air            16705 non-null  float64\n",
      " 72  secondary_cleaner.state.floatbank2_b_level          16748 non-null  float64\n",
      " 73  secondary_cleaner.state.floatbank3_a_air            16763 non-null  float64\n",
      " 74  secondary_cleaner.state.floatbank3_a_level          16747 non-null  float64\n",
      " 75  secondary_cleaner.state.floatbank3_b_air            16752 non-null  float64\n",
      " 76  secondary_cleaner.state.floatbank3_b_level          16750 non-null  float64\n",
      " 77  secondary_cleaner.state.floatbank4_a_air            16731 non-null  float64\n",
      " 78  secondary_cleaner.state.floatbank4_a_level          16747 non-null  float64\n",
      " 79  secondary_cleaner.state.floatbank4_b_air            16768 non-null  float64\n",
      " 80  secondary_cleaner.state.floatbank4_b_level          16767 non-null  float64\n",
      " 81  secondary_cleaner.state.floatbank5_a_air            16775 non-null  float64\n",
      " 82  secondary_cleaner.state.floatbank5_a_level          16775 non-null  float64\n",
      " 83  secondary_cleaner.state.floatbank5_b_air            16775 non-null  float64\n",
      " 84  secondary_cleaner.state.floatbank5_b_level          16776 non-null  float64\n",
      " 85  secondary_cleaner.state.floatbank6_a_air            16757 non-null  float64\n",
      " 86  secondary_cleaner.state.floatbank6_a_level          16775 non-null  float64\n",
      "dtypes: float64(86), object(1)\n",
      "memory usage: 11.2+ MB\n"
     ]
    }
   ],
   "source": [
    "df_train.info()"
   ]
  },
  {
   "cell_type": "code",
   "execution_count": 6,
   "metadata": {},
   "outputs": [
    {
     "data": {
      "text/plain": [
       "(16860, 87)"
      ]
     },
     "execution_count": 6,
     "metadata": {},
     "output_type": "execute_result"
    }
   ],
   "source": [
    "df_train.shape"
   ]
  },
  {
   "cell_type": "markdown",
   "metadata": {},
   "source": [
    "В датасете с обучающими данными есть пропуски. Обратим внимание на количество столбцов - их 87.  "
   ]
  },
  {
   "cell_type": "code",
   "execution_count": 7,
   "metadata": {},
   "outputs": [],
   "source": [
    "df_test = pd.read_csv('...') \n"
   ]
  },
  {
   "cell_type": "code",
   "execution_count": 8,
   "metadata": {},
   "outputs": [
    {
     "name": "stdout",
     "output_type": "stream",
     "text": [
      "<class 'pandas.core.frame.DataFrame'>\n",
      "RangeIndex: 5856 entries, 0 to 5855\n",
      "Data columns (total 53 columns):\n",
      " #   Column                                      Non-Null Count  Dtype  \n",
      "---  ------                                      --------------  -----  \n",
      " 0   date                                        5856 non-null   object \n",
      " 1   primary_cleaner.input.sulfate               5554 non-null   float64\n",
      " 2   primary_cleaner.input.depressant            5572 non-null   float64\n",
      " 3   primary_cleaner.input.feed_size             5856 non-null   float64\n",
      " 4   primary_cleaner.input.xanthate              5690 non-null   float64\n",
      " 5   primary_cleaner.state.floatbank8_a_air      5840 non-null   float64\n",
      " 6   primary_cleaner.state.floatbank8_a_level    5840 non-null   float64\n",
      " 7   primary_cleaner.state.floatbank8_b_air      5840 non-null   float64\n",
      " 8   primary_cleaner.state.floatbank8_b_level    5840 non-null   float64\n",
      " 9   primary_cleaner.state.floatbank8_c_air      5840 non-null   float64\n",
      " 10  primary_cleaner.state.floatbank8_c_level    5840 non-null   float64\n",
      " 11  primary_cleaner.state.floatbank8_d_air      5840 non-null   float64\n",
      " 12  primary_cleaner.state.floatbank8_d_level    5840 non-null   float64\n",
      " 13  rougher.input.feed_ag                       5840 non-null   float64\n",
      " 14  rougher.input.feed_pb                       5840 non-null   float64\n",
      " 15  rougher.input.feed_rate                     5816 non-null   float64\n",
      " 16  rougher.input.feed_size                     5834 non-null   float64\n",
      " 17  rougher.input.feed_sol                      5789 non-null   float64\n",
      " 18  rougher.input.feed_au                       5840 non-null   float64\n",
      " 19  rougher.input.floatbank10_sulfate           5599 non-null   float64\n",
      " 20  rougher.input.floatbank10_xanthate          5733 non-null   float64\n",
      " 21  rougher.input.floatbank11_sulfate           5801 non-null   float64\n",
      " 22  rougher.input.floatbank11_xanthate          5503 non-null   float64\n",
      " 23  rougher.state.floatbank10_a_air             5839 non-null   float64\n",
      " 24  rougher.state.floatbank10_a_level           5840 non-null   float64\n",
      " 25  rougher.state.floatbank10_b_air             5839 non-null   float64\n",
      " 26  rougher.state.floatbank10_b_level           5840 non-null   float64\n",
      " 27  rougher.state.floatbank10_c_air             5839 non-null   float64\n",
      " 28  rougher.state.floatbank10_c_level           5840 non-null   float64\n",
      " 29  rougher.state.floatbank10_d_air             5839 non-null   float64\n",
      " 30  rougher.state.floatbank10_d_level           5840 non-null   float64\n",
      " 31  rougher.state.floatbank10_e_air             5839 non-null   float64\n",
      " 32  rougher.state.floatbank10_e_level           5840 non-null   float64\n",
      " 33  rougher.state.floatbank10_f_air             5839 non-null   float64\n",
      " 34  rougher.state.floatbank10_f_level           5840 non-null   float64\n",
      " 35  secondary_cleaner.state.floatbank2_a_air    5836 non-null   float64\n",
      " 36  secondary_cleaner.state.floatbank2_a_level  5840 non-null   float64\n",
      " 37  secondary_cleaner.state.floatbank2_b_air    5833 non-null   float64\n",
      " 38  secondary_cleaner.state.floatbank2_b_level  5840 non-null   float64\n",
      " 39  secondary_cleaner.state.floatbank3_a_air    5822 non-null   float64\n",
      " 40  secondary_cleaner.state.floatbank3_a_level  5840 non-null   float64\n",
      " 41  secondary_cleaner.state.floatbank3_b_air    5840 non-null   float64\n",
      " 42  secondary_cleaner.state.floatbank3_b_level  5840 non-null   float64\n",
      " 43  secondary_cleaner.state.floatbank4_a_air    5840 non-null   float64\n",
      " 44  secondary_cleaner.state.floatbank4_a_level  5840 non-null   float64\n",
      " 45  secondary_cleaner.state.floatbank4_b_air    5840 non-null   float64\n",
      " 46  secondary_cleaner.state.floatbank4_b_level  5840 non-null   float64\n",
      " 47  secondary_cleaner.state.floatbank5_a_air    5840 non-null   float64\n",
      " 48  secondary_cleaner.state.floatbank5_a_level  5840 non-null   float64\n",
      " 49  secondary_cleaner.state.floatbank5_b_air    5840 non-null   float64\n",
      " 50  secondary_cleaner.state.floatbank5_b_level  5840 non-null   float64\n",
      " 51  secondary_cleaner.state.floatbank6_a_air    5840 non-null   float64\n",
      " 52  secondary_cleaner.state.floatbank6_a_level  5840 non-null   float64\n",
      "dtypes: float64(52), object(1)\n",
      "memory usage: 2.4+ MB\n"
     ]
    }
   ],
   "source": [
    "df_test.info()"
   ]
  },
  {
   "cell_type": "code",
   "execution_count": 9,
   "metadata": {},
   "outputs": [
    {
     "data": {
      "text/plain": [
       "(5856, 53)"
      ]
     },
     "execution_count": 9,
     "metadata": {},
     "output_type": "execute_result"
    }
   ],
   "source": [
    "df_test.shape"
   ]
  },
  {
   "cell_type": "markdown",
   "metadata": {},
   "source": [
    "В тестовом датасете также есть пропуски, кроме того в нем всего 53 столбца. Часть признаков - 34 столбца - из обучающего датасета отсутствует. Выведем их."
   ]
  },
  {
   "cell_type": "code",
   "execution_count": 10,
   "metadata": {},
   "outputs": [
    {
     "data": {
      "text/plain": [
       "1                           final.output.concentrate_ag\n",
       "2                           final.output.concentrate_pb\n",
       "3                          final.output.concentrate_sol\n",
       "4                           final.output.concentrate_au\n",
       "5                                 final.output.recovery\n",
       "6                                  final.output.tail_ag\n",
       "7                                  final.output.tail_pb\n",
       "8                                 final.output.tail_sol\n",
       "9                                  final.output.tail_au\n",
       "14                primary_cleaner.output.concentrate_ag\n",
       "15                primary_cleaner.output.concentrate_pb\n",
       "16               primary_cleaner.output.concentrate_sol\n",
       "17                primary_cleaner.output.concentrate_au\n",
       "18                       primary_cleaner.output.tail_ag\n",
       "19                       primary_cleaner.output.tail_pb\n",
       "20                      primary_cleaner.output.tail_sol\n",
       "21                       primary_cleaner.output.tail_au\n",
       "30        rougher.calculation.sulfate_to_au_concentrate\n",
       "31    rougher.calculation.floatbank10_sulfate_to_au_...\n",
       "32    rougher.calculation.floatbank11_sulfate_to_au_...\n",
       "33                      rougher.calculation.au_pb_ratio\n",
       "44                        rougher.output.concentrate_ag\n",
       "45                        rougher.output.concentrate_pb\n",
       "46                       rougher.output.concentrate_sol\n",
       "47                        rougher.output.concentrate_au\n",
       "48                              rougher.output.recovery\n",
       "49                               rougher.output.tail_ag\n",
       "50                               rougher.output.tail_pb\n",
       "51                              rougher.output.tail_sol\n",
       "52                               rougher.output.tail_au\n",
       "65                     secondary_cleaner.output.tail_ag\n",
       "66                     secondary_cleaner.output.tail_pb\n",
       "67                    secondary_cleaner.output.tail_sol\n",
       "68                     secondary_cleaner.output.tail_au\n",
       "Name: columns, dtype: object"
      ]
     },
     "execution_count": 10,
     "metadata": {},
     "output_type": "execute_result"
    }
   ],
   "source": [
    "train_columns = pd.DataFrame(data = df_train.columns, columns = ['columns'])\n",
    "test_columns =  list(df_test.columns)\n",
    "def missing_columns(i):\n",
    "    if (i in test_columns)==True:\n",
    "        return 0\n",
    "    else:\n",
    "        return 1\n",
    "\n",
    "train_columns['is_missed_in_test'] = train_columns['columns'].apply(missing_columns)\n",
    "missing_columns = train_columns.query('is_missed_in_test == 1')\n",
    "missing_columns['columns']"
   ]
  },
  {
   "cell_type": "code",
   "execution_count": 11,
   "metadata": {},
   "outputs": [
    {
     "data": {
      "text/plain": [
       "34"
      ]
     },
     "execution_count": 11,
     "metadata": {},
     "output_type": "execute_result"
    }
   ],
   "source": [
    "len(missing_columns['columns'])"
   ]
  },
  {
   "cell_type": "markdown",
   "metadata": {},
   "source": [
    "Загрузим исходные данные. "
   ]
  },
  {
   "cell_type": "code",
   "execution_count": 12,
   "metadata": {},
   "outputs": [],
   "source": [
    "df = pd.read_csv('...')\n"
   ]
  },
  {
   "cell_type": "code",
   "execution_count": 13,
   "metadata": {},
   "outputs": [
    {
     "name": "stdout",
     "output_type": "stream",
     "text": [
      "<class 'pandas.core.frame.DataFrame'>\n",
      "RangeIndex: 22716 entries, 0 to 22715\n",
      "Data columns (total 87 columns):\n",
      " #   Column                                              Non-Null Count  Dtype  \n",
      "---  ------                                              --------------  -----  \n",
      " 0   date                                                22716 non-null  object \n",
      " 1   final.output.concentrate_ag                         22627 non-null  float64\n",
      " 2   final.output.concentrate_pb                         22629 non-null  float64\n",
      " 3   final.output.concentrate_sol                        22331 non-null  float64\n",
      " 4   final.output.concentrate_au                         22630 non-null  float64\n",
      " 5   final.output.recovery                               20753 non-null  float64\n",
      " 6   final.output.tail_ag                                22633 non-null  float64\n",
      " 7   final.output.tail_pb                                22516 non-null  float64\n",
      " 8   final.output.tail_sol                               22445 non-null  float64\n",
      " 9   final.output.tail_au                                22635 non-null  float64\n",
      " 10  primary_cleaner.input.sulfate                       21107 non-null  float64\n",
      " 11  primary_cleaner.input.depressant                    21170 non-null  float64\n",
      " 12  primary_cleaner.input.feed_size                     22716 non-null  float64\n",
      " 13  primary_cleaner.input.xanthate                      21565 non-null  float64\n",
      " 14  primary_cleaner.output.concentrate_ag               22618 non-null  float64\n",
      " 15  primary_cleaner.output.concentrate_pb               22268 non-null  float64\n",
      " 16  primary_cleaner.output.concentrate_sol              21918 non-null  float64\n",
      " 17  primary_cleaner.output.concentrate_au               22618 non-null  float64\n",
      " 18  primary_cleaner.output.tail_ag                      22614 non-null  float64\n",
      " 19  primary_cleaner.output.tail_pb                      22594 non-null  float64\n",
      " 20  primary_cleaner.output.tail_sol                     22365 non-null  float64\n",
      " 21  primary_cleaner.output.tail_au                      22617 non-null  float64\n",
      " 22  primary_cleaner.state.floatbank8_a_air              22660 non-null  float64\n",
      " 23  primary_cleaner.state.floatbank8_a_level            22667 non-null  float64\n",
      " 24  primary_cleaner.state.floatbank8_b_air              22660 non-null  float64\n",
      " 25  primary_cleaner.state.floatbank8_b_level            22673 non-null  float64\n",
      " 26  primary_cleaner.state.floatbank8_c_air              22662 non-null  float64\n",
      " 27  primary_cleaner.state.floatbank8_c_level            22673 non-null  float64\n",
      " 28  primary_cleaner.state.floatbank8_d_air              22661 non-null  float64\n",
      " 29  primary_cleaner.state.floatbank8_d_level            22673 non-null  float64\n",
      " 30  rougher.calculation.sulfate_to_au_concentrate       22672 non-null  float64\n",
      " 31  rougher.calculation.floatbank10_sulfate_to_au_feed  22672 non-null  float64\n",
      " 32  rougher.calculation.floatbank11_sulfate_to_au_feed  22672 non-null  float64\n",
      " 33  rougher.calculation.au_pb_ratio                     21089 non-null  float64\n",
      " 34  rougher.input.feed_ag                               22618 non-null  float64\n",
      " 35  rougher.input.feed_pb                               22472 non-null  float64\n",
      " 36  rougher.input.feed_rate                             22163 non-null  float64\n",
      " 37  rougher.input.feed_size                             22277 non-null  float64\n",
      " 38  rougher.input.feed_sol                              22357 non-null  float64\n",
      " 39  rougher.input.feed_au                               22617 non-null  float64\n",
      " 40  rougher.input.floatbank10_sulfate                   21415 non-null  float64\n",
      " 41  rougher.input.floatbank10_xanthate                  22247 non-null  float64\n",
      " 42  rougher.input.floatbank11_sulfate                   22038 non-null  float64\n",
      " 43  rougher.input.floatbank11_xanthate                  20459 non-null  float64\n",
      " 44  rougher.output.concentrate_ag                       22618 non-null  float64\n",
      " 45  rougher.output.concentrate_pb                       22618 non-null  float64\n",
      " 46  rougher.output.concentrate_sol                      22526 non-null  float64\n",
      " 47  rougher.output.concentrate_au                       22618 non-null  float64\n",
      " 48  rougher.output.recovery                             19597 non-null  float64\n",
      " 49  rougher.output.tail_ag                              19979 non-null  float64\n",
      " 50  rougher.output.tail_pb                              22618 non-null  float64\n",
      " 51  rougher.output.tail_sol                             19980 non-null  float64\n",
      " 52  rougher.output.tail_au                              19980 non-null  float64\n",
      " 53  rougher.state.floatbank10_a_air                     22646 non-null  float64\n",
      " 54  rougher.state.floatbank10_a_level                   22647 non-null  float64\n",
      " 55  rougher.state.floatbank10_b_air                     22646 non-null  float64\n",
      " 56  rougher.state.floatbank10_b_level                   22647 non-null  float64\n",
      " 57  rougher.state.floatbank10_c_air                     22646 non-null  float64\n",
      " 58  rougher.state.floatbank10_c_level                   22654 non-null  float64\n",
      " 59  rougher.state.floatbank10_d_air                     22641 non-null  float64\n",
      " 60  rougher.state.floatbank10_d_level                   22649 non-null  float64\n",
      " 61  rougher.state.floatbank10_e_air                     22096 non-null  float64\n",
      " 62  rougher.state.floatbank10_e_level                   22649 non-null  float64\n",
      " 63  rougher.state.floatbank10_f_air                     22641 non-null  float64\n",
      " 64  rougher.state.floatbank10_f_level                   22642 non-null  float64\n",
      " 65  secondary_cleaner.output.tail_ag                    22616 non-null  float64\n",
      " 66  secondary_cleaner.output.tail_pb                    22600 non-null  float64\n",
      " 67  secondary_cleaner.output.tail_sol                   20501 non-null  float64\n",
      " 68  secondary_cleaner.output.tail_au                    22618 non-null  float64\n",
      " 69  secondary_cleaner.state.floatbank2_a_air            22333 non-null  float64\n",
      " 70  secondary_cleaner.state.floatbank2_a_level          22591 non-null  float64\n",
      " 71  secondary_cleaner.state.floatbank2_b_air            22538 non-null  float64\n",
      " 72  secondary_cleaner.state.floatbank2_b_level          22588 non-null  float64\n",
      " 73  secondary_cleaner.state.floatbank3_a_air            22585 non-null  float64\n",
      " 74  secondary_cleaner.state.floatbank3_a_level          22587 non-null  float64\n",
      " 75  secondary_cleaner.state.floatbank3_b_air            22592 non-null  float64\n",
      " 76  secondary_cleaner.state.floatbank3_b_level          22590 non-null  float64\n",
      " 77  secondary_cleaner.state.floatbank4_a_air            22571 non-null  float64\n",
      " 78  secondary_cleaner.state.floatbank4_a_level          22587 non-null  float64\n",
      " 79  secondary_cleaner.state.floatbank4_b_air            22608 non-null  float64\n",
      " 80  secondary_cleaner.state.floatbank4_b_level          22607 non-null  float64\n",
      " 81  secondary_cleaner.state.floatbank5_a_air            22615 non-null  float64\n",
      " 82  secondary_cleaner.state.floatbank5_a_level          22615 non-null  float64\n",
      " 83  secondary_cleaner.state.floatbank5_b_air            22615 non-null  float64\n",
      " 84  secondary_cleaner.state.floatbank5_b_level          22616 non-null  float64\n",
      " 85  secondary_cleaner.state.floatbank6_a_air            22597 non-null  float64\n",
      " 86  secondary_cleaner.state.floatbank6_a_level          22615 non-null  float64\n",
      "dtypes: float64(86), object(1)\n",
      "memory usage: 15.1+ MB\n"
     ]
    }
   ],
   "source": [
    "df.info()"
   ]
  },
  {
   "cell_type": "code",
   "execution_count": 14,
   "metadata": {},
   "outputs": [
    {
     "data": {
      "text/plain": [
       "(22716, 87)"
      ]
     },
     "execution_count": 14,
     "metadata": {},
     "output_type": "execute_result"
    }
   ],
   "source": [
    "df.shape"
   ]
  },
  {
   "cell_type": "code",
   "execution_count": 15,
   "metadata": {},
   "outputs": [
    {
     "data": {
      "text/plain": [
       "0"
      ]
     },
     "execution_count": 15,
     "metadata": {},
     "output_type": "execute_result"
    }
   ],
   "source": [
    "len(df_train) + len(df_test) - len(df)"
   ]
  },
  {
   "cell_type": "markdown",
   "metadata": {},
   "source": [
    "Как и можно было предположить, в исходном датасете количество объектов равно сумме объектов в обучающем и тестовом датасетах, а количество признаков в нем такое же, что и в обучающем."
   ]
  },
  {
   "cell_type": "markdown",
   "metadata": {},
   "source": [
    "Обратим внимание, что по условию объекты индексируются по дате и времени. Это значит, что дата и время уникальны для каждого объекта, по ним можно идентифицировать строки. Проверим это."
   ]
  },
  {
   "cell_type": "code",
   "execution_count": 16,
   "metadata": {},
   "outputs": [
    {
     "data": {
      "text/plain": [
       "0"
      ]
     },
     "execution_count": 16,
     "metadata": {},
     "output_type": "execute_result"
    }
   ],
   "source": [
    "len(df['date'].unique()) - len(df)"
   ]
  },
  {
   "cell_type": "markdown",
   "metadata": {},
   "source": [
    "Действительно, каждое сочетание даты и времени уникально."
   ]
  },
  {
   "cell_type": "markdown",
   "metadata": {},
   "source": [
    "Типы данных практически у всех столбцов - float, что отвечает сути признаков. Исключение - столбец date в каждом наборе данных. Его нужно будет заменить на соответствующий природе признака тип datetime."
   ]
  },
  {
   "cell_type": "markdown",
   "metadata": {},
   "source": [
    "### Вывод"
   ]
  },
  {
   "cell_type": "markdown",
   "metadata": {},
   "source": [
    "Во всех наборах данных присутствуют пропуски. Во всех наборах данных в столбце date указан неподходящий тип данных object.  \n",
    "В исходных данных и в обучающем наборе 87 признак, в тестовом - 53. Более подробное рассмотрение 34 не вошедших в тестовый набор призаков будет произведен ниже. "
   ]
  },
  {
   "cell_type": "markdown",
   "metadata": {},
   "source": [
    "## Проверка расчета эффективности обогащения"
   ]
  },
  {
   "cell_type": "markdown",
   "metadata": {},
   "source": [
    "Проверим, правильно ли расчитана эффективность обогащения для признака rougher.output.recovery. Напишем функцию, которая принимает датафрейм и расчитывает rougher.output.recovery по переданной заказчиком формуле. Передадим функции обучающий датасет с объектами с не отсутствующими значениями рассчитанного заказчиком признака rougher.output.recovery, чтобы сравнение было релевантным. "
   ]
  },
  {
   "cell_type": "code",
   "execution_count": 17,
   "metadata": {},
   "outputs": [],
   "source": [
    "def recovery_check(data):\n",
    "    c = data['rougher.output.concentrate_au']\n",
    "    f = data['rougher.input.feed_au']\n",
    "    t = data['rougher.output.tail_au']\n",
    "    try:\n",
    "        recovery = ((c * (f-t)) / (f * (c - t))) * 100\n",
    "        return recovery\n",
    "    except:\n",
    "        return np.nan\n",
    "\n",
    "recovery_check_results = recovery_check(df_train[df_train['rougher.output.recovery'].isna()==False])\n"
   ]
  },
  {
   "cell_type": "markdown",
   "metadata": {},
   "source": [
    "Проверим, насколько рассчитанные нами показатели отличаются от расчетов заказчика, рассчитав среднее абсолютное отклонение между ними.  "
   ]
  },
  {
   "cell_type": "code",
   "execution_count": 18,
   "metadata": {},
   "outputs": [
    {
     "data": {
      "text/plain": [
       "9.444891926100695e-15"
      ]
     },
     "execution_count": 18,
     "metadata": {},
     "output_type": "execute_result"
    }
   ],
   "source": [
    "mae = mean_absolute_error(df_train[df_train['rougher.output.recovery'].isna()==False]['rougher.output.recovery'], recovery_check_results)\n",
    "mae"
   ]
  },
  {
   "cell_type": "markdown",
   "metadata": {},
   "source": [
    "### Вывод"
   ]
  },
  {
   "cell_type": "markdown",
   "metadata": {},
   "source": [
    "Среднее абсолютное отклонение между нашими расчетами и расчетами заказчика не значительно, таким образом, рассчитанному заказчиком показателю recovery можно верить. "
   ]
  },
  {
   "cell_type": "markdown",
   "metadata": {},
   "source": [
    "## Не вошедшие в тестовую выборку признаки"
   ]
  },
  {
   "cell_type": "markdown",
   "metadata": {},
   "source": [
    "Рассмотрим поподробнее признаки, не вошедшие в тестовую выборку. Вызовем их еще раз."
   ]
  },
  {
   "cell_type": "code",
   "execution_count": 19,
   "metadata": {},
   "outputs": [
    {
     "data": {
      "text/html": [
       "<div>\n",
       "<style scoped>\n",
       "    .dataframe tbody tr th:only-of-type {\n",
       "        vertical-align: middle;\n",
       "    }\n",
       "\n",
       "    .dataframe tbody tr th {\n",
       "        vertical-align: top;\n",
       "    }\n",
       "\n",
       "    .dataframe thead th {\n",
       "        text-align: right;\n",
       "    }\n",
       "</style>\n",
       "<table border=\"1\" class=\"dataframe\">\n",
       "  <thead>\n",
       "    <tr style=\"text-align: right;\">\n",
       "      <th></th>\n",
       "      <th>columns</th>\n",
       "      <th>is_missed_in_test</th>\n",
       "    </tr>\n",
       "  </thead>\n",
       "  <tbody>\n",
       "    <tr>\n",
       "      <th>1</th>\n",
       "      <td>final.output.concentrate_ag</td>\n",
       "      <td>1</td>\n",
       "    </tr>\n",
       "    <tr>\n",
       "      <th>2</th>\n",
       "      <td>final.output.concentrate_pb</td>\n",
       "      <td>1</td>\n",
       "    </tr>\n",
       "    <tr>\n",
       "      <th>3</th>\n",
       "      <td>final.output.concentrate_sol</td>\n",
       "      <td>1</td>\n",
       "    </tr>\n",
       "    <tr>\n",
       "      <th>4</th>\n",
       "      <td>final.output.concentrate_au</td>\n",
       "      <td>1</td>\n",
       "    </tr>\n",
       "    <tr>\n",
       "      <th>5</th>\n",
       "      <td>final.output.recovery</td>\n",
       "      <td>1</td>\n",
       "    </tr>\n",
       "    <tr>\n",
       "      <th>6</th>\n",
       "      <td>final.output.tail_ag</td>\n",
       "      <td>1</td>\n",
       "    </tr>\n",
       "    <tr>\n",
       "      <th>7</th>\n",
       "      <td>final.output.tail_pb</td>\n",
       "      <td>1</td>\n",
       "    </tr>\n",
       "    <tr>\n",
       "      <th>8</th>\n",
       "      <td>final.output.tail_sol</td>\n",
       "      <td>1</td>\n",
       "    </tr>\n",
       "    <tr>\n",
       "      <th>9</th>\n",
       "      <td>final.output.tail_au</td>\n",
       "      <td>1</td>\n",
       "    </tr>\n",
       "    <tr>\n",
       "      <th>14</th>\n",
       "      <td>primary_cleaner.output.concentrate_ag</td>\n",
       "      <td>1</td>\n",
       "    </tr>\n",
       "    <tr>\n",
       "      <th>15</th>\n",
       "      <td>primary_cleaner.output.concentrate_pb</td>\n",
       "      <td>1</td>\n",
       "    </tr>\n",
       "    <tr>\n",
       "      <th>16</th>\n",
       "      <td>primary_cleaner.output.concentrate_sol</td>\n",
       "      <td>1</td>\n",
       "    </tr>\n",
       "    <tr>\n",
       "      <th>17</th>\n",
       "      <td>primary_cleaner.output.concentrate_au</td>\n",
       "      <td>1</td>\n",
       "    </tr>\n",
       "    <tr>\n",
       "      <th>18</th>\n",
       "      <td>primary_cleaner.output.tail_ag</td>\n",
       "      <td>1</td>\n",
       "    </tr>\n",
       "    <tr>\n",
       "      <th>19</th>\n",
       "      <td>primary_cleaner.output.tail_pb</td>\n",
       "      <td>1</td>\n",
       "    </tr>\n",
       "    <tr>\n",
       "      <th>20</th>\n",
       "      <td>primary_cleaner.output.tail_sol</td>\n",
       "      <td>1</td>\n",
       "    </tr>\n",
       "    <tr>\n",
       "      <th>21</th>\n",
       "      <td>primary_cleaner.output.tail_au</td>\n",
       "      <td>1</td>\n",
       "    </tr>\n",
       "    <tr>\n",
       "      <th>30</th>\n",
       "      <td>rougher.calculation.sulfate_to_au_concentrate</td>\n",
       "      <td>1</td>\n",
       "    </tr>\n",
       "    <tr>\n",
       "      <th>31</th>\n",
       "      <td>rougher.calculation.floatbank10_sulfate_to_au_...</td>\n",
       "      <td>1</td>\n",
       "    </tr>\n",
       "    <tr>\n",
       "      <th>32</th>\n",
       "      <td>rougher.calculation.floatbank11_sulfate_to_au_...</td>\n",
       "      <td>1</td>\n",
       "    </tr>\n",
       "    <tr>\n",
       "      <th>33</th>\n",
       "      <td>rougher.calculation.au_pb_ratio</td>\n",
       "      <td>1</td>\n",
       "    </tr>\n",
       "    <tr>\n",
       "      <th>44</th>\n",
       "      <td>rougher.output.concentrate_ag</td>\n",
       "      <td>1</td>\n",
       "    </tr>\n",
       "    <tr>\n",
       "      <th>45</th>\n",
       "      <td>rougher.output.concentrate_pb</td>\n",
       "      <td>1</td>\n",
       "    </tr>\n",
       "    <tr>\n",
       "      <th>46</th>\n",
       "      <td>rougher.output.concentrate_sol</td>\n",
       "      <td>1</td>\n",
       "    </tr>\n",
       "    <tr>\n",
       "      <th>47</th>\n",
       "      <td>rougher.output.concentrate_au</td>\n",
       "      <td>1</td>\n",
       "    </tr>\n",
       "    <tr>\n",
       "      <th>48</th>\n",
       "      <td>rougher.output.recovery</td>\n",
       "      <td>1</td>\n",
       "    </tr>\n",
       "    <tr>\n",
       "      <th>49</th>\n",
       "      <td>rougher.output.tail_ag</td>\n",
       "      <td>1</td>\n",
       "    </tr>\n",
       "    <tr>\n",
       "      <th>50</th>\n",
       "      <td>rougher.output.tail_pb</td>\n",
       "      <td>1</td>\n",
       "    </tr>\n",
       "    <tr>\n",
       "      <th>51</th>\n",
       "      <td>rougher.output.tail_sol</td>\n",
       "      <td>1</td>\n",
       "    </tr>\n",
       "    <tr>\n",
       "      <th>52</th>\n",
       "      <td>rougher.output.tail_au</td>\n",
       "      <td>1</td>\n",
       "    </tr>\n",
       "    <tr>\n",
       "      <th>65</th>\n",
       "      <td>secondary_cleaner.output.tail_ag</td>\n",
       "      <td>1</td>\n",
       "    </tr>\n",
       "    <tr>\n",
       "      <th>66</th>\n",
       "      <td>secondary_cleaner.output.tail_pb</td>\n",
       "      <td>1</td>\n",
       "    </tr>\n",
       "    <tr>\n",
       "      <th>67</th>\n",
       "      <td>secondary_cleaner.output.tail_sol</td>\n",
       "      <td>1</td>\n",
       "    </tr>\n",
       "    <tr>\n",
       "      <th>68</th>\n",
       "      <td>secondary_cleaner.output.tail_au</td>\n",
       "      <td>1</td>\n",
       "    </tr>\n",
       "  </tbody>\n",
       "</table>\n",
       "</div>"
      ],
      "text/plain": [
       "                                              columns  is_missed_in_test\n",
       "1                         final.output.concentrate_ag                  1\n",
       "2                         final.output.concentrate_pb                  1\n",
       "3                        final.output.concentrate_sol                  1\n",
       "4                         final.output.concentrate_au                  1\n",
       "5                               final.output.recovery                  1\n",
       "6                                final.output.tail_ag                  1\n",
       "7                                final.output.tail_pb                  1\n",
       "8                               final.output.tail_sol                  1\n",
       "9                                final.output.tail_au                  1\n",
       "14              primary_cleaner.output.concentrate_ag                  1\n",
       "15              primary_cleaner.output.concentrate_pb                  1\n",
       "16             primary_cleaner.output.concentrate_sol                  1\n",
       "17              primary_cleaner.output.concentrate_au                  1\n",
       "18                     primary_cleaner.output.tail_ag                  1\n",
       "19                     primary_cleaner.output.tail_pb                  1\n",
       "20                    primary_cleaner.output.tail_sol                  1\n",
       "21                     primary_cleaner.output.tail_au                  1\n",
       "30      rougher.calculation.sulfate_to_au_concentrate                  1\n",
       "31  rougher.calculation.floatbank10_sulfate_to_au_...                  1\n",
       "32  rougher.calculation.floatbank11_sulfate_to_au_...                  1\n",
       "33                    rougher.calculation.au_pb_ratio                  1\n",
       "44                      rougher.output.concentrate_ag                  1\n",
       "45                      rougher.output.concentrate_pb                  1\n",
       "46                     rougher.output.concentrate_sol                  1\n",
       "47                      rougher.output.concentrate_au                  1\n",
       "48                            rougher.output.recovery                  1\n",
       "49                             rougher.output.tail_ag                  1\n",
       "50                             rougher.output.tail_pb                  1\n",
       "51                            rougher.output.tail_sol                  1\n",
       "52                             rougher.output.tail_au                  1\n",
       "65                   secondary_cleaner.output.tail_ag                  1\n",
       "66                   secondary_cleaner.output.tail_pb                  1\n",
       "67                  secondary_cleaner.output.tail_sol                  1\n",
       "68                   secondary_cleaner.output.tail_au                  1"
      ]
     },
     "execution_count": 19,
     "metadata": {},
     "output_type": "execute_result"
    }
   ],
   "source": [
    "missing_columns"
   ]
  },
  {
   "cell_type": "code",
   "execution_count": 20,
   "metadata": {},
   "outputs": [
    {
     "name": "stdout",
     "output_type": "stream",
     "text": [
      "['rougher.calculation.floatbank10_sulfate_to_au_feed', 'rougher.calculation.floatbank11_sulfate_to_au_feed']\n"
     ]
    }
   ],
   "source": [
    "print(list(missing_columns.loc[[31,32],'columns']))"
   ]
  },
  {
   "cell_type": "markdown",
   "metadata": {},
   "source": [
    "Обратим внимание на то, что большинство признаков, не вошедших в тестовую выборку, относятся к типу параметров output. Данный тип параметров описывает продукт этапа обработки руды, фактически, результат обработки на этом этапе. К результатам обработки помимо количественно измеримого выхода металлов в концентрате и хвостах в БД заказчика еще относится рассчитываемый показатель эффективности обогащения золота из руды, т.е. показатель recovery.  \n",
    "Для нас важно как раз то, что величины, которые нам нужно спрогнозировать - ougher.output.recovery и final.output.recovery - относятся именно к этому типу параметров, и оба отсутствуют в тестовой выборке.  \n",
    "Обратим также внимание на то, что в тестовой выборке отсутсвуют помимо output расчетные параметры типа calculation, хоть и в небольшом количестве."
   ]
  },
  {
   "cell_type": "markdown",
   "metadata": {},
   "source": [
    "## Обработка данных"
   ]
  },
  {
   "cell_type": "markdown",
   "metadata": {},
   "source": [
    "### Замена типов данных"
   ]
  },
  {
   "cell_type": "markdown",
   "metadata": {},
   "source": [
    "Заменим тип данных в столбцах date во всех выборках."
   ]
  },
  {
   "cell_type": "code",
   "execution_count": 21,
   "metadata": {},
   "outputs": [],
   "source": [
    "df['date'] = pd.to_datetime(df['date'], format='%Y-%m-%d %H:%M:%S')\n",
    "df_train['date'] = pd.to_datetime(df_train['date'], format='%Y-%m-%d %H:%M:%S')\n",
    "df_test['date'] = pd.to_datetime(df_test['date'], format='%Y-%m-%d %H:%M:%S')"
   ]
  },
  {
   "cell_type": "markdown",
   "metadata": {},
   "source": [
    "### Удаление пропусков"
   ]
  },
  {
   "cell_type": "markdown",
   "metadata": {},
   "source": [
    "Используем KNNImputer для того, чтобы заполнить пропуски в данных. KNNImputer заменит пропуск  значение по  ближайшим к нему объектам, значения которых уже известны.  \n",
    "Из определения метода следует, что с увеличением выборки точность заполнения увеличится, потому что в части выборки могут отсутствовать более близкие к объекту \"соседи\", которые есть в полном наборе данных. Поэтому нам стоит заполнить таблицу с исходным датасетом.  \n",
    "Обработка исходного датасета также будет полезна, поскольку, как мы выяснили в предыдущем пункте, целевой признак в тестовой выборке отсутствует, его нам нужно вычленять из исходных данных.\n",
    "Однако по условию кейса данные уже поделены на тестовую и обучающую выборки, поэтому чтобы соответствовать условиям добавим в исходные данные столбец, значения в котором будут принимать единицу, если объект присутствует в обучающей выборке, и ноль, если в тестовой. "
   ]
  },
  {
   "cell_type": "code",
   "execution_count": 22,
   "metadata": {},
   "outputs": [
    {
     "name": "stdout",
     "output_type": "stream",
     "text": [
      "Wall time: 7.91 s\n"
     ]
    }
   ],
   "source": [
    "%%time\n",
    "\n",
    "train_date = list(df_train['date'])\n",
    "\n",
    "def in_train(date):\n",
    "    if (date in train_date) == True:\n",
    "        return 1\n",
    "    else:\n",
    "        return 0\n",
    "\n",
    "df['in_train'] = df['date'].apply(in_train)\n",
    "\n"
   ]
  },
  {
   "cell_type": "code",
   "execution_count": 23,
   "metadata": {},
   "outputs": [
    {
     "data": {
      "text/plain": [
       "16860"
      ]
     },
     "execution_count": 23,
     "metadata": {},
     "output_type": "execute_result"
    }
   ],
   "source": [
    "len(df.query('in_train == 1'))"
   ]
  },
  {
   "cell_type": "code",
   "execution_count": 24,
   "metadata": {},
   "outputs": [
    {
     "data": {
      "text/plain": [
       "5856"
      ]
     },
     "execution_count": 24,
     "metadata": {},
     "output_type": "execute_result"
    }
   ],
   "source": [
    "len(df.query('in_train == 0'))"
   ]
  },
  {
   "cell_type": "code",
   "execution_count": 25,
   "metadata": {},
   "outputs": [
    {
     "data": {
      "text/plain": [
       "22716"
      ]
     },
     "execution_count": 25,
     "metadata": {},
     "output_type": "execute_result"
    }
   ],
   "source": [
    "len(df.query('in_train == 0')) + len(df.query('in_train == 1'))"
   ]
  },
  {
   "cell_type": "markdown",
   "metadata": {},
   "source": [
    "Количество объектов со значением 1 в столбце-маркере равно количеству объектов в тренировочной выборке, аналогично количество объектов со значением 0 в этом столбце совпадает количеством объектов в тестовой выборке.  \n",
    "Дополнительно проверим себя, сопоставив даты - идентифицирующие значения объектов - из выборок и даты объектов с соответствующей пометкой из общего датасета. Определим функцию, принимающую столбцы date из выборок и из общего датасета и возвращающую таблицу с информацией о несовпадениях этих дат. Сперва сравним даты обучающих объектов."
   ]
  },
  {
   "cell_type": "code",
   "execution_count": 26,
   "metadata": {},
   "outputs": [],
   "source": [
    "def date_check(full, sample):\n",
    "    dict_date_check = {'full': list(full), 'train': list(sample) }\n",
    "    df_date_check = pd.DataFrame(data = dict_date_check)\n",
    "    df_date_check['errors'] = (df_date_check['full'] != df_date_check['train'])\n",
    "    return df_date_check\n",
    "\n",
    "full_train_date_check = date_check(df.query('in_train == 1')['date'], df_train['date'])\n"
   ]
  },
  {
   "cell_type": "markdown",
   "metadata": {},
   "source": [
    "Выведем даты, которые не совпали. "
   ]
  },
  {
   "cell_type": "code",
   "execution_count": 27,
   "metadata": {},
   "outputs": [
    {
     "data": {
      "text/html": [
       "<div>\n",
       "<style scoped>\n",
       "    .dataframe tbody tr th:only-of-type {\n",
       "        vertical-align: middle;\n",
       "    }\n",
       "\n",
       "    .dataframe tbody tr th {\n",
       "        vertical-align: top;\n",
       "    }\n",
       "\n",
       "    .dataframe thead th {\n",
       "        text-align: right;\n",
       "    }\n",
       "</style>\n",
       "<table border=\"1\" class=\"dataframe\">\n",
       "  <thead>\n",
       "    <tr style=\"text-align: right;\">\n",
       "      <th></th>\n",
       "      <th>full</th>\n",
       "      <th>train</th>\n",
       "      <th>errors</th>\n",
       "    </tr>\n",
       "  </thead>\n",
       "  <tbody>\n",
       "  </tbody>\n",
       "</table>\n",
       "</div>"
      ],
      "text/plain": [
       "Empty DataFrame\n",
       "Columns: [full, train, errors]\n",
       "Index: []"
      ]
     },
     "execution_count": 27,
     "metadata": {},
     "output_type": "execute_result"
    }
   ],
   "source": [
    "full_train_date_check.query('errors == True')"
   ]
  },
  {
   "cell_type": "markdown",
   "metadata": {},
   "source": [
    "Таких нет.  \n",
    "Проделаем то же самое с тестовой выборкой."
   ]
  },
  {
   "cell_type": "code",
   "execution_count": 28,
   "metadata": {},
   "outputs": [
    {
     "data": {
      "text/html": [
       "<div>\n",
       "<style scoped>\n",
       "    .dataframe tbody tr th:only-of-type {\n",
       "        vertical-align: middle;\n",
       "    }\n",
       "\n",
       "    .dataframe tbody tr th {\n",
       "        vertical-align: top;\n",
       "    }\n",
       "\n",
       "    .dataframe thead th {\n",
       "        text-align: right;\n",
       "    }\n",
       "</style>\n",
       "<table border=\"1\" class=\"dataframe\">\n",
       "  <thead>\n",
       "    <tr style=\"text-align: right;\">\n",
       "      <th></th>\n",
       "      <th>full</th>\n",
       "      <th>train</th>\n",
       "      <th>errors</th>\n",
       "    </tr>\n",
       "  </thead>\n",
       "  <tbody>\n",
       "  </tbody>\n",
       "</table>\n",
       "</div>"
      ],
      "text/plain": [
       "Empty DataFrame\n",
       "Columns: [full, train, errors]\n",
       "Index: []"
      ]
     },
     "execution_count": 28,
     "metadata": {},
     "output_type": "execute_result"
    }
   ],
   "source": [
    "full_test_date_check = date_check(df.query('in_train == 0')['date'], df_test['date'])\n",
    "full_test_date_check.query('errors == True')"
   ]
  },
  {
   "cell_type": "markdown",
   "metadata": {},
   "source": [
    "Даты совпали везде, можем с чистой совестью использовать один общий датафрейм, чем значительно упростим себе работу и увеличим качество заполнения пропусков.  \n",
    "\n",
    "Применим KNNImputer к общему датасету. Передадим ему общий датасет кроме двух целевых признаков, дат и нашего нового столбца-маркера.   \n",
    "\n",
    "Поскольку заполнять пропуски в целевом столбце некорректно, предварительно удалим объекты с пропусками в целевом признаке."
   ]
  },
  {
   "cell_type": "code",
   "execution_count": 29,
   "metadata": {},
   "outputs": [
    {
     "data": {
      "text/plain": [
       "rougher.output.recovery    3119\n",
       "final.output.recovery      1963\n",
       "dtype: int64"
      ]
     },
     "execution_count": 29,
     "metadata": {},
     "output_type": "execute_result"
    }
   ],
   "source": [
    "df[['rougher.output.recovery', 'final.output.recovery']].isna().sum()"
   ]
  },
  {
   "cell_type": "markdown",
   "metadata": {},
   "source": [
    "Пропусков, даже если строки полностью совпадают, очень много, но с ними ничего не сделаешь: пропуски в целевом признаке мы заполнить не можем."
   ]
  },
  {
   "cell_type": "code",
   "execution_count": 30,
   "metadata": {},
   "outputs": [
    {
     "data": {
      "text/plain": [
       "19439"
      ]
     },
     "execution_count": 30,
     "metadata": {},
     "output_type": "execute_result"
    }
   ],
   "source": [
    "df.dropna(subset = ['rougher.output.recovery', 'final.output.recovery'], inplace = True)\n",
    "len(df)"
   ]
  },
  {
   "cell_type": "code",
   "execution_count": 31,
   "metadata": {},
   "outputs": [
    {
     "name": "stdout",
     "output_type": "stream",
     "text": [
      "Wall time: 6.08 s\n"
     ]
    }
   ],
   "source": [
    "%%time\n",
    "\n",
    "imputer = KNNImputer()\n",
    "df_dropped = df.drop(['date','in_train'], axis = 1)\n",
    "imputer.fit(df_dropped)\n",
    "imputer_data = imputer.transform(df_dropped)\n",
    "df2 = pd.DataFrame(data = imputer_data, columns = df.columns.drop(['date','in_train']))\n"
   ]
  },
  {
   "cell_type": "code",
   "execution_count": 32,
   "metadata": {},
   "outputs": [
    {
     "data": {
      "text/html": [
       "<div>\n",
       "<style scoped>\n",
       "    .dataframe tbody tr th:only-of-type {\n",
       "        vertical-align: middle;\n",
       "    }\n",
       "\n",
       "    .dataframe tbody tr th {\n",
       "        vertical-align: top;\n",
       "    }\n",
       "\n",
       "    .dataframe thead th {\n",
       "        text-align: right;\n",
       "    }\n",
       "</style>\n",
       "<table border=\"1\" class=\"dataframe\">\n",
       "  <thead>\n",
       "    <tr style=\"text-align: right;\">\n",
       "      <th></th>\n",
       "      <th>date</th>\n",
       "      <th>final.output.concentrate_ag</th>\n",
       "      <th>final.output.concentrate_pb</th>\n",
       "      <th>final.output.concentrate_sol</th>\n",
       "      <th>final.output.concentrate_au</th>\n",
       "      <th>final.output.recovery</th>\n",
       "      <th>final.output.tail_ag</th>\n",
       "      <th>final.output.tail_pb</th>\n",
       "      <th>final.output.tail_sol</th>\n",
       "      <th>final.output.tail_au</th>\n",
       "      <th>...</th>\n",
       "      <th>secondary_cleaner.state.floatbank4_a_level</th>\n",
       "      <th>secondary_cleaner.state.floatbank4_b_air</th>\n",
       "      <th>secondary_cleaner.state.floatbank4_b_level</th>\n",
       "      <th>secondary_cleaner.state.floatbank5_a_air</th>\n",
       "      <th>secondary_cleaner.state.floatbank5_a_level</th>\n",
       "      <th>secondary_cleaner.state.floatbank5_b_air</th>\n",
       "      <th>secondary_cleaner.state.floatbank5_b_level</th>\n",
       "      <th>secondary_cleaner.state.floatbank6_a_air</th>\n",
       "      <th>secondary_cleaner.state.floatbank6_a_level</th>\n",
       "      <th>in_train</th>\n",
       "    </tr>\n",
       "  </thead>\n",
       "  <tbody>\n",
       "    <tr>\n",
       "      <th>0</th>\n",
       "      <td>2016-01-15 00:00:00</td>\n",
       "      <td>6.055403</td>\n",
       "      <td>9.889648</td>\n",
       "      <td>5.507324</td>\n",
       "      <td>42.192020</td>\n",
       "      <td>70.541216</td>\n",
       "      <td>10.411962</td>\n",
       "      <td>0.895447</td>\n",
       "      <td>16.904297</td>\n",
       "      <td>2.143149</td>\n",
       "      <td>...</td>\n",
       "      <td>-502.488007</td>\n",
       "      <td>12.099931</td>\n",
       "      <td>-504.715942</td>\n",
       "      <td>9.925633</td>\n",
       "      <td>-498.310211</td>\n",
       "      <td>8.079666</td>\n",
       "      <td>-500.470978</td>\n",
       "      <td>14.151341</td>\n",
       "      <td>-605.841980</td>\n",
       "      <td>1</td>\n",
       "    </tr>\n",
       "    <tr>\n",
       "      <th>1</th>\n",
       "      <td>2016-01-15 01:00:00</td>\n",
       "      <td>6.029369</td>\n",
       "      <td>9.968944</td>\n",
       "      <td>5.257781</td>\n",
       "      <td>42.701629</td>\n",
       "      <td>69.266198</td>\n",
       "      <td>10.462676</td>\n",
       "      <td>0.927452</td>\n",
       "      <td>16.634514</td>\n",
       "      <td>2.224930</td>\n",
       "      <td>...</td>\n",
       "      <td>-505.503262</td>\n",
       "      <td>11.950531</td>\n",
       "      <td>-501.331529</td>\n",
       "      <td>10.039245</td>\n",
       "      <td>-500.169983</td>\n",
       "      <td>7.984757</td>\n",
       "      <td>-500.582168</td>\n",
       "      <td>13.998353</td>\n",
       "      <td>-599.787184</td>\n",
       "      <td>1</td>\n",
       "    </tr>\n",
       "    <tr>\n",
       "      <th>2</th>\n",
       "      <td>2016-01-15 02:00:00</td>\n",
       "      <td>6.055926</td>\n",
       "      <td>10.213995</td>\n",
       "      <td>5.383759</td>\n",
       "      <td>42.657501</td>\n",
       "      <td>68.116445</td>\n",
       "      <td>10.507046</td>\n",
       "      <td>0.953716</td>\n",
       "      <td>16.208849</td>\n",
       "      <td>2.257889</td>\n",
       "      <td>...</td>\n",
       "      <td>-502.520901</td>\n",
       "      <td>11.912783</td>\n",
       "      <td>-501.133383</td>\n",
       "      <td>10.070913</td>\n",
       "      <td>-500.129135</td>\n",
       "      <td>8.013877</td>\n",
       "      <td>-500.517572</td>\n",
       "      <td>14.028663</td>\n",
       "      <td>-601.427363</td>\n",
       "      <td>1</td>\n",
       "    </tr>\n",
       "    <tr>\n",
       "      <th>3</th>\n",
       "      <td>2016-01-15 03:00:00</td>\n",
       "      <td>6.047977</td>\n",
       "      <td>9.977019</td>\n",
       "      <td>4.858634</td>\n",
       "      <td>42.689819</td>\n",
       "      <td>68.347543</td>\n",
       "      <td>10.422762</td>\n",
       "      <td>0.883763</td>\n",
       "      <td>16.532835</td>\n",
       "      <td>2.146849</td>\n",
       "      <td>...</td>\n",
       "      <td>-500.857308</td>\n",
       "      <td>11.999550</td>\n",
       "      <td>-501.193686</td>\n",
       "      <td>9.970366</td>\n",
       "      <td>-499.201640</td>\n",
       "      <td>7.977324</td>\n",
       "      <td>-500.255908</td>\n",
       "      <td>14.005551</td>\n",
       "      <td>-599.996129</td>\n",
       "      <td>1</td>\n",
       "    </tr>\n",
       "    <tr>\n",
       "      <th>4</th>\n",
       "      <td>2016-01-15 04:00:00</td>\n",
       "      <td>6.148599</td>\n",
       "      <td>10.142511</td>\n",
       "      <td>4.939416</td>\n",
       "      <td>42.774141</td>\n",
       "      <td>66.927016</td>\n",
       "      <td>10.360302</td>\n",
       "      <td>0.792826</td>\n",
       "      <td>16.525686</td>\n",
       "      <td>2.055292</td>\n",
       "      <td>...</td>\n",
       "      <td>-499.838632</td>\n",
       "      <td>11.953070</td>\n",
       "      <td>-501.053894</td>\n",
       "      <td>9.925709</td>\n",
       "      <td>-501.686727</td>\n",
       "      <td>7.894242</td>\n",
       "      <td>-500.356035</td>\n",
       "      <td>13.996647</td>\n",
       "      <td>-601.496691</td>\n",
       "      <td>1</td>\n",
       "    </tr>\n",
       "    <tr>\n",
       "      <th>5</th>\n",
       "      <td>2016-01-15 05:00:00</td>\n",
       "      <td>6.482968</td>\n",
       "      <td>10.049416</td>\n",
       "      <td>5.480257</td>\n",
       "      <td>41.633678</td>\n",
       "      <td>69.465816</td>\n",
       "      <td>10.182708</td>\n",
       "      <td>0.664118</td>\n",
       "      <td>16.999638</td>\n",
       "      <td>1.918586</td>\n",
       "      <td>...</td>\n",
       "      <td>-500.970168</td>\n",
       "      <td>11.883350</td>\n",
       "      <td>-500.395298</td>\n",
       "      <td>10.054147</td>\n",
       "      <td>-496.374715</td>\n",
       "      <td>7.965083</td>\n",
       "      <td>-499.364752</td>\n",
       "      <td>14.017067</td>\n",
       "      <td>-599.707915</td>\n",
       "      <td>1</td>\n",
       "    </tr>\n",
       "    <tr>\n",
       "      <th>6</th>\n",
       "      <td>2016-01-15 06:00:00</td>\n",
       "      <td>6.533849</td>\n",
       "      <td>10.058141</td>\n",
       "      <td>4.569100</td>\n",
       "      <td>41.995316</td>\n",
       "      <td>69.300835</td>\n",
       "      <td>10.304598</td>\n",
       "      <td>0.807342</td>\n",
       "      <td>16.723575</td>\n",
       "      <td>2.058913</td>\n",
       "      <td>...</td>\n",
       "      <td>-500.971133</td>\n",
       "      <td>12.091543</td>\n",
       "      <td>-500.501426</td>\n",
       "      <td>10.003247</td>\n",
       "      <td>-497.083180</td>\n",
       "      <td>8.010890</td>\n",
       "      <td>-500.002423</td>\n",
       "      <td>14.029649</td>\n",
       "      <td>-600.905470</td>\n",
       "      <td>1</td>\n",
       "    </tr>\n",
       "    <tr>\n",
       "      <th>7</th>\n",
       "      <td>2016-01-15 07:00:00</td>\n",
       "      <td>6.130823</td>\n",
       "      <td>9.935481</td>\n",
       "      <td>4.389813</td>\n",
       "      <td>42.452727</td>\n",
       "      <td>70.230976</td>\n",
       "      <td>10.443288</td>\n",
       "      <td>0.949346</td>\n",
       "      <td>16.689959</td>\n",
       "      <td>2.143437</td>\n",
       "      <td>...</td>\n",
       "      <td>-501.819696</td>\n",
       "      <td>12.101324</td>\n",
       "      <td>-500.583446</td>\n",
       "      <td>9.873169</td>\n",
       "      <td>-499.171928</td>\n",
       "      <td>7.993381</td>\n",
       "      <td>-499.794518</td>\n",
       "      <td>13.984498</td>\n",
       "      <td>-600.411070</td>\n",
       "      <td>1</td>\n",
       "    </tr>\n",
       "    <tr>\n",
       "      <th>8</th>\n",
       "      <td>2016-01-15 08:00:00</td>\n",
       "      <td>5.834140</td>\n",
       "      <td>10.071156</td>\n",
       "      <td>4.876389</td>\n",
       "      <td>43.404078</td>\n",
       "      <td>69.688595</td>\n",
       "      <td>10.420140</td>\n",
       "      <td>1.065453</td>\n",
       "      <td>17.201948</td>\n",
       "      <td>2.209881</td>\n",
       "      <td>...</td>\n",
       "      <td>-504.252450</td>\n",
       "      <td>12.060738</td>\n",
       "      <td>-501.174549</td>\n",
       "      <td>10.033838</td>\n",
       "      <td>-501.178133</td>\n",
       "      <td>7.881604</td>\n",
       "      <td>-499.729434</td>\n",
       "      <td>13.967135</td>\n",
       "      <td>-599.061188</td>\n",
       "      <td>1</td>\n",
       "    </tr>\n",
       "    <tr>\n",
       "      <th>9</th>\n",
       "      <td>2016-01-15 09:00:00</td>\n",
       "      <td>5.687063</td>\n",
       "      <td>9.980404</td>\n",
       "      <td>5.282514</td>\n",
       "      <td>43.235220</td>\n",
       "      <td>70.279619</td>\n",
       "      <td>10.487013</td>\n",
       "      <td>1.159805</td>\n",
       "      <td>17.483979</td>\n",
       "      <td>2.209593</td>\n",
       "      <td>...</td>\n",
       "      <td>-503.195299</td>\n",
       "      <td>12.052233</td>\n",
       "      <td>-500.928547</td>\n",
       "      <td>9.962574</td>\n",
       "      <td>-502.986357</td>\n",
       "      <td>7.979219</td>\n",
       "      <td>-500.146835</td>\n",
       "      <td>13.981614</td>\n",
       "      <td>-598.070855</td>\n",
       "      <td>1</td>\n",
       "    </tr>\n",
       "  </tbody>\n",
       "</table>\n",
       "<p>10 rows × 88 columns</p>\n",
       "</div>"
      ],
      "text/plain": [
       "                 date  final.output.concentrate_ag  \\\n",
       "0 2016-01-15 00:00:00                     6.055403   \n",
       "1 2016-01-15 01:00:00                     6.029369   \n",
       "2 2016-01-15 02:00:00                     6.055926   \n",
       "3 2016-01-15 03:00:00                     6.047977   \n",
       "4 2016-01-15 04:00:00                     6.148599   \n",
       "5 2016-01-15 05:00:00                     6.482968   \n",
       "6 2016-01-15 06:00:00                     6.533849   \n",
       "7 2016-01-15 07:00:00                     6.130823   \n",
       "8 2016-01-15 08:00:00                     5.834140   \n",
       "9 2016-01-15 09:00:00                     5.687063   \n",
       "\n",
       "   final.output.concentrate_pb  final.output.concentrate_sol  \\\n",
       "0                     9.889648                      5.507324   \n",
       "1                     9.968944                      5.257781   \n",
       "2                    10.213995                      5.383759   \n",
       "3                     9.977019                      4.858634   \n",
       "4                    10.142511                      4.939416   \n",
       "5                    10.049416                      5.480257   \n",
       "6                    10.058141                      4.569100   \n",
       "7                     9.935481                      4.389813   \n",
       "8                    10.071156                      4.876389   \n",
       "9                     9.980404                      5.282514   \n",
       "\n",
       "   final.output.concentrate_au  final.output.recovery  final.output.tail_ag  \\\n",
       "0                    42.192020              70.541216             10.411962   \n",
       "1                    42.701629              69.266198             10.462676   \n",
       "2                    42.657501              68.116445             10.507046   \n",
       "3                    42.689819              68.347543             10.422762   \n",
       "4                    42.774141              66.927016             10.360302   \n",
       "5                    41.633678              69.465816             10.182708   \n",
       "6                    41.995316              69.300835             10.304598   \n",
       "7                    42.452727              70.230976             10.443288   \n",
       "8                    43.404078              69.688595             10.420140   \n",
       "9                    43.235220              70.279619             10.487013   \n",
       "\n",
       "   final.output.tail_pb  final.output.tail_sol  final.output.tail_au  ...  \\\n",
       "0              0.895447              16.904297              2.143149  ...   \n",
       "1              0.927452              16.634514              2.224930  ...   \n",
       "2              0.953716              16.208849              2.257889  ...   \n",
       "3              0.883763              16.532835              2.146849  ...   \n",
       "4              0.792826              16.525686              2.055292  ...   \n",
       "5              0.664118              16.999638              1.918586  ...   \n",
       "6              0.807342              16.723575              2.058913  ...   \n",
       "7              0.949346              16.689959              2.143437  ...   \n",
       "8              1.065453              17.201948              2.209881  ...   \n",
       "9              1.159805              17.483979              2.209593  ...   \n",
       "\n",
       "   secondary_cleaner.state.floatbank4_a_level  \\\n",
       "0                                 -502.488007   \n",
       "1                                 -505.503262   \n",
       "2                                 -502.520901   \n",
       "3                                 -500.857308   \n",
       "4                                 -499.838632   \n",
       "5                                 -500.970168   \n",
       "6                                 -500.971133   \n",
       "7                                 -501.819696   \n",
       "8                                 -504.252450   \n",
       "9                                 -503.195299   \n",
       "\n",
       "   secondary_cleaner.state.floatbank4_b_air  \\\n",
       "0                                 12.099931   \n",
       "1                                 11.950531   \n",
       "2                                 11.912783   \n",
       "3                                 11.999550   \n",
       "4                                 11.953070   \n",
       "5                                 11.883350   \n",
       "6                                 12.091543   \n",
       "7                                 12.101324   \n",
       "8                                 12.060738   \n",
       "9                                 12.052233   \n",
       "\n",
       "   secondary_cleaner.state.floatbank4_b_level  \\\n",
       "0                                 -504.715942   \n",
       "1                                 -501.331529   \n",
       "2                                 -501.133383   \n",
       "3                                 -501.193686   \n",
       "4                                 -501.053894   \n",
       "5                                 -500.395298   \n",
       "6                                 -500.501426   \n",
       "7                                 -500.583446   \n",
       "8                                 -501.174549   \n",
       "9                                 -500.928547   \n",
       "\n",
       "   secondary_cleaner.state.floatbank5_a_air  \\\n",
       "0                                  9.925633   \n",
       "1                                 10.039245   \n",
       "2                                 10.070913   \n",
       "3                                  9.970366   \n",
       "4                                  9.925709   \n",
       "5                                 10.054147   \n",
       "6                                 10.003247   \n",
       "7                                  9.873169   \n",
       "8                                 10.033838   \n",
       "9                                  9.962574   \n",
       "\n",
       "   secondary_cleaner.state.floatbank5_a_level  \\\n",
       "0                                 -498.310211   \n",
       "1                                 -500.169983   \n",
       "2                                 -500.129135   \n",
       "3                                 -499.201640   \n",
       "4                                 -501.686727   \n",
       "5                                 -496.374715   \n",
       "6                                 -497.083180   \n",
       "7                                 -499.171928   \n",
       "8                                 -501.178133   \n",
       "9                                 -502.986357   \n",
       "\n",
       "   secondary_cleaner.state.floatbank5_b_air  \\\n",
       "0                                  8.079666   \n",
       "1                                  7.984757   \n",
       "2                                  8.013877   \n",
       "3                                  7.977324   \n",
       "4                                  7.894242   \n",
       "5                                  7.965083   \n",
       "6                                  8.010890   \n",
       "7                                  7.993381   \n",
       "8                                  7.881604   \n",
       "9                                  7.979219   \n",
       "\n",
       "   secondary_cleaner.state.floatbank5_b_level  \\\n",
       "0                                 -500.470978   \n",
       "1                                 -500.582168   \n",
       "2                                 -500.517572   \n",
       "3                                 -500.255908   \n",
       "4                                 -500.356035   \n",
       "5                                 -499.364752   \n",
       "6                                 -500.002423   \n",
       "7                                 -499.794518   \n",
       "8                                 -499.729434   \n",
       "9                                 -500.146835   \n",
       "\n",
       "   secondary_cleaner.state.floatbank6_a_air  \\\n",
       "0                                 14.151341   \n",
       "1                                 13.998353   \n",
       "2                                 14.028663   \n",
       "3                                 14.005551   \n",
       "4                                 13.996647   \n",
       "5                                 14.017067   \n",
       "6                                 14.029649   \n",
       "7                                 13.984498   \n",
       "8                                 13.967135   \n",
       "9                                 13.981614   \n",
       "\n",
       "   secondary_cleaner.state.floatbank6_a_level  in_train  \n",
       "0                                 -605.841980         1  \n",
       "1                                 -599.787184         1  \n",
       "2                                 -601.427363         1  \n",
       "3                                 -599.996129         1  \n",
       "4                                 -601.496691         1  \n",
       "5                                 -599.707915         1  \n",
       "6                                 -600.905470         1  \n",
       "7                                 -600.411070         1  \n",
       "8                                 -599.061188         1  \n",
       "9                                 -598.070855         1  \n",
       "\n",
       "[10 rows x 88 columns]"
      ]
     },
     "execution_count": 32,
     "metadata": {},
     "output_type": "execute_result"
    }
   ],
   "source": [
    "df.head(10)"
   ]
  },
  {
   "cell_type": "code",
   "execution_count": 34,
   "metadata": {},
   "outputs": [
    {
     "data": {
      "text/html": [
       "<div>\n",
       "<style scoped>\n",
       "    .dataframe tbody tr th:only-of-type {\n",
       "        vertical-align: middle;\n",
       "    }\n",
       "\n",
       "    .dataframe tbody tr th {\n",
       "        vertical-align: top;\n",
       "    }\n",
       "\n",
       "    .dataframe thead th {\n",
       "        text-align: right;\n",
       "    }\n",
       "</style>\n",
       "<table border=\"1\" class=\"dataframe\">\n",
       "  <thead>\n",
       "    <tr style=\"text-align: right;\">\n",
       "      <th></th>\n",
       "      <th>date</th>\n",
       "      <th>final.output.concentrate_ag</th>\n",
       "      <th>final.output.concentrate_pb</th>\n",
       "      <th>final.output.concentrate_sol</th>\n",
       "      <th>final.output.concentrate_au</th>\n",
       "      <th>final.output.recovery</th>\n",
       "      <th>final.output.tail_ag</th>\n",
       "      <th>final.output.tail_pb</th>\n",
       "      <th>final.output.tail_sol</th>\n",
       "      <th>final.output.tail_au</th>\n",
       "      <th>...</th>\n",
       "      <th>secondary_cleaner.state.floatbank4_a_level</th>\n",
       "      <th>secondary_cleaner.state.floatbank4_b_air</th>\n",
       "      <th>secondary_cleaner.state.floatbank4_b_level</th>\n",
       "      <th>secondary_cleaner.state.floatbank5_a_air</th>\n",
       "      <th>secondary_cleaner.state.floatbank5_a_level</th>\n",
       "      <th>secondary_cleaner.state.floatbank5_b_air</th>\n",
       "      <th>secondary_cleaner.state.floatbank5_b_level</th>\n",
       "      <th>secondary_cleaner.state.floatbank6_a_air</th>\n",
       "      <th>secondary_cleaner.state.floatbank6_a_level</th>\n",
       "      <th>in_train</th>\n",
       "    </tr>\n",
       "  </thead>\n",
       "  <tbody>\n",
       "    <tr>\n",
       "      <td>0</td>\n",
       "      <td>2016-01-15 00:00:00</td>\n",
       "      <td>6.055403</td>\n",
       "      <td>9.889648</td>\n",
       "      <td>5.507324</td>\n",
       "      <td>42.192020</td>\n",
       "      <td>70.541216</td>\n",
       "      <td>10.411962</td>\n",
       "      <td>0.895447</td>\n",
       "      <td>16.904297</td>\n",
       "      <td>2.143149</td>\n",
       "      <td>...</td>\n",
       "      <td>-502.488007</td>\n",
       "      <td>12.099931</td>\n",
       "      <td>-504.715942</td>\n",
       "      <td>9.925633</td>\n",
       "      <td>-498.310211</td>\n",
       "      <td>8.079666</td>\n",
       "      <td>-500.470978</td>\n",
       "      <td>14.151341</td>\n",
       "      <td>-605.841980</td>\n",
       "      <td>1.0</td>\n",
       "    </tr>\n",
       "    <tr>\n",
       "      <td>1</td>\n",
       "      <td>2016-01-15 01:00:00</td>\n",
       "      <td>6.029369</td>\n",
       "      <td>9.968944</td>\n",
       "      <td>5.257781</td>\n",
       "      <td>42.701629</td>\n",
       "      <td>69.266198</td>\n",
       "      <td>10.462676</td>\n",
       "      <td>0.927452</td>\n",
       "      <td>16.634514</td>\n",
       "      <td>2.224930</td>\n",
       "      <td>...</td>\n",
       "      <td>-505.503262</td>\n",
       "      <td>11.950531</td>\n",
       "      <td>-501.331529</td>\n",
       "      <td>10.039245</td>\n",
       "      <td>-500.169983</td>\n",
       "      <td>7.984757</td>\n",
       "      <td>-500.582168</td>\n",
       "      <td>13.998353</td>\n",
       "      <td>-599.787184</td>\n",
       "      <td>1.0</td>\n",
       "    </tr>\n",
       "    <tr>\n",
       "      <td>2</td>\n",
       "      <td>2016-01-15 02:00:00</td>\n",
       "      <td>6.055926</td>\n",
       "      <td>10.213995</td>\n",
       "      <td>5.383759</td>\n",
       "      <td>42.657501</td>\n",
       "      <td>68.116445</td>\n",
       "      <td>10.507046</td>\n",
       "      <td>0.953716</td>\n",
       "      <td>16.208849</td>\n",
       "      <td>2.257889</td>\n",
       "      <td>...</td>\n",
       "      <td>-502.520901</td>\n",
       "      <td>11.912783</td>\n",
       "      <td>-501.133383</td>\n",
       "      <td>10.070913</td>\n",
       "      <td>-500.129135</td>\n",
       "      <td>8.013877</td>\n",
       "      <td>-500.517572</td>\n",
       "      <td>14.028663</td>\n",
       "      <td>-601.427363</td>\n",
       "      <td>1.0</td>\n",
       "    </tr>\n",
       "    <tr>\n",
       "      <td>3</td>\n",
       "      <td>2016-01-15 03:00:00</td>\n",
       "      <td>6.047977</td>\n",
       "      <td>9.977019</td>\n",
       "      <td>4.858634</td>\n",
       "      <td>42.689819</td>\n",
       "      <td>68.347543</td>\n",
       "      <td>10.422762</td>\n",
       "      <td>0.883763</td>\n",
       "      <td>16.532835</td>\n",
       "      <td>2.146849</td>\n",
       "      <td>...</td>\n",
       "      <td>-500.857308</td>\n",
       "      <td>11.999550</td>\n",
       "      <td>-501.193686</td>\n",
       "      <td>9.970366</td>\n",
       "      <td>-499.201640</td>\n",
       "      <td>7.977324</td>\n",
       "      <td>-500.255908</td>\n",
       "      <td>14.005551</td>\n",
       "      <td>-599.996129</td>\n",
       "      <td>1.0</td>\n",
       "    </tr>\n",
       "    <tr>\n",
       "      <td>4</td>\n",
       "      <td>2016-01-15 04:00:00</td>\n",
       "      <td>6.148599</td>\n",
       "      <td>10.142511</td>\n",
       "      <td>4.939416</td>\n",
       "      <td>42.774141</td>\n",
       "      <td>66.927016</td>\n",
       "      <td>10.360302</td>\n",
       "      <td>0.792826</td>\n",
       "      <td>16.525686</td>\n",
       "      <td>2.055292</td>\n",
       "      <td>...</td>\n",
       "      <td>-499.838632</td>\n",
       "      <td>11.953070</td>\n",
       "      <td>-501.053894</td>\n",
       "      <td>9.925709</td>\n",
       "      <td>-501.686727</td>\n",
       "      <td>7.894242</td>\n",
       "      <td>-500.356035</td>\n",
       "      <td>13.996647</td>\n",
       "      <td>-601.496691</td>\n",
       "      <td>1.0</td>\n",
       "    </tr>\n",
       "    <tr>\n",
       "      <td>5</td>\n",
       "      <td>2016-01-15 05:00:00</td>\n",
       "      <td>6.482968</td>\n",
       "      <td>10.049416</td>\n",
       "      <td>5.480257</td>\n",
       "      <td>41.633678</td>\n",
       "      <td>69.465816</td>\n",
       "      <td>10.182708</td>\n",
       "      <td>0.664118</td>\n",
       "      <td>16.999638</td>\n",
       "      <td>1.918586</td>\n",
       "      <td>...</td>\n",
       "      <td>-500.970168</td>\n",
       "      <td>11.883350</td>\n",
       "      <td>-500.395298</td>\n",
       "      <td>10.054147</td>\n",
       "      <td>-496.374715</td>\n",
       "      <td>7.965083</td>\n",
       "      <td>-499.364752</td>\n",
       "      <td>14.017067</td>\n",
       "      <td>-599.707915</td>\n",
       "      <td>1.0</td>\n",
       "    </tr>\n",
       "    <tr>\n",
       "      <td>6</td>\n",
       "      <td>2016-01-15 06:00:00</td>\n",
       "      <td>6.533849</td>\n",
       "      <td>10.058141</td>\n",
       "      <td>4.569100</td>\n",
       "      <td>41.995316</td>\n",
       "      <td>69.300835</td>\n",
       "      <td>10.304598</td>\n",
       "      <td>0.807342</td>\n",
       "      <td>16.723575</td>\n",
       "      <td>2.058913</td>\n",
       "      <td>...</td>\n",
       "      <td>-500.971133</td>\n",
       "      <td>12.091543</td>\n",
       "      <td>-500.501426</td>\n",
       "      <td>10.003247</td>\n",
       "      <td>-497.083180</td>\n",
       "      <td>8.010890</td>\n",
       "      <td>-500.002423</td>\n",
       "      <td>14.029649</td>\n",
       "      <td>-600.905470</td>\n",
       "      <td>1.0</td>\n",
       "    </tr>\n",
       "    <tr>\n",
       "      <td>7</td>\n",
       "      <td>2016-01-15 07:00:00</td>\n",
       "      <td>6.130823</td>\n",
       "      <td>9.935481</td>\n",
       "      <td>4.389813</td>\n",
       "      <td>42.452727</td>\n",
       "      <td>70.230976</td>\n",
       "      <td>10.443288</td>\n",
       "      <td>0.949346</td>\n",
       "      <td>16.689959</td>\n",
       "      <td>2.143437</td>\n",
       "      <td>...</td>\n",
       "      <td>-501.819696</td>\n",
       "      <td>12.101324</td>\n",
       "      <td>-500.583446</td>\n",
       "      <td>9.873169</td>\n",
       "      <td>-499.171928</td>\n",
       "      <td>7.993381</td>\n",
       "      <td>-499.794518</td>\n",
       "      <td>13.984498</td>\n",
       "      <td>-600.411070</td>\n",
       "      <td>1.0</td>\n",
       "    </tr>\n",
       "    <tr>\n",
       "      <td>8</td>\n",
       "      <td>2016-01-15 08:00:00</td>\n",
       "      <td>5.834140</td>\n",
       "      <td>10.071156</td>\n",
       "      <td>4.876389</td>\n",
       "      <td>43.404078</td>\n",
       "      <td>69.688595</td>\n",
       "      <td>10.420140</td>\n",
       "      <td>1.065453</td>\n",
       "      <td>17.201948</td>\n",
       "      <td>2.209881</td>\n",
       "      <td>...</td>\n",
       "      <td>-504.252450</td>\n",
       "      <td>12.060738</td>\n",
       "      <td>-501.174549</td>\n",
       "      <td>10.033838</td>\n",
       "      <td>-501.178133</td>\n",
       "      <td>7.881604</td>\n",
       "      <td>-499.729434</td>\n",
       "      <td>13.967135</td>\n",
       "      <td>-599.061188</td>\n",
       "      <td>1.0</td>\n",
       "    </tr>\n",
       "    <tr>\n",
       "      <td>9</td>\n",
       "      <td>2016-01-15 09:00:00</td>\n",
       "      <td>5.687063</td>\n",
       "      <td>9.980404</td>\n",
       "      <td>5.282514</td>\n",
       "      <td>43.235220</td>\n",
       "      <td>70.279619</td>\n",
       "      <td>10.487013</td>\n",
       "      <td>1.159805</td>\n",
       "      <td>17.483979</td>\n",
       "      <td>2.209593</td>\n",
       "      <td>...</td>\n",
       "      <td>-503.195299</td>\n",
       "      <td>12.052233</td>\n",
       "      <td>-500.928547</td>\n",
       "      <td>9.962574</td>\n",
       "      <td>-502.986357</td>\n",
       "      <td>7.979219</td>\n",
       "      <td>-500.146835</td>\n",
       "      <td>13.981614</td>\n",
       "      <td>-598.070855</td>\n",
       "      <td>1.0</td>\n",
       "    </tr>\n",
       "  </tbody>\n",
       "</table>\n",
       "<p>10 rows × 88 columns</p>\n",
       "</div>"
      ],
      "text/plain": [
       "                 date  final.output.concentrate_ag  \\\n",
       "0 2016-01-15 00:00:00                     6.055403   \n",
       "1 2016-01-15 01:00:00                     6.029369   \n",
       "2 2016-01-15 02:00:00                     6.055926   \n",
       "3 2016-01-15 03:00:00                     6.047977   \n",
       "4 2016-01-15 04:00:00                     6.148599   \n",
       "5 2016-01-15 05:00:00                     6.482968   \n",
       "6 2016-01-15 06:00:00                     6.533849   \n",
       "7 2016-01-15 07:00:00                     6.130823   \n",
       "8 2016-01-15 08:00:00                     5.834140   \n",
       "9 2016-01-15 09:00:00                     5.687063   \n",
       "\n",
       "   final.output.concentrate_pb  final.output.concentrate_sol  \\\n",
       "0                     9.889648                      5.507324   \n",
       "1                     9.968944                      5.257781   \n",
       "2                    10.213995                      5.383759   \n",
       "3                     9.977019                      4.858634   \n",
       "4                    10.142511                      4.939416   \n",
       "5                    10.049416                      5.480257   \n",
       "6                    10.058141                      4.569100   \n",
       "7                     9.935481                      4.389813   \n",
       "8                    10.071156                      4.876389   \n",
       "9                     9.980404                      5.282514   \n",
       "\n",
       "   final.output.concentrate_au  final.output.recovery  final.output.tail_ag  \\\n",
       "0                    42.192020              70.541216             10.411962   \n",
       "1                    42.701629              69.266198             10.462676   \n",
       "2                    42.657501              68.116445             10.507046   \n",
       "3                    42.689819              68.347543             10.422762   \n",
       "4                    42.774141              66.927016             10.360302   \n",
       "5                    41.633678              69.465816             10.182708   \n",
       "6                    41.995316              69.300835             10.304598   \n",
       "7                    42.452727              70.230976             10.443288   \n",
       "8                    43.404078              69.688595             10.420140   \n",
       "9                    43.235220              70.279619             10.487013   \n",
       "\n",
       "   final.output.tail_pb  final.output.tail_sol  final.output.tail_au  ...  \\\n",
       "0              0.895447              16.904297              2.143149  ...   \n",
       "1              0.927452              16.634514              2.224930  ...   \n",
       "2              0.953716              16.208849              2.257889  ...   \n",
       "3              0.883763              16.532835              2.146849  ...   \n",
       "4              0.792826              16.525686              2.055292  ...   \n",
       "5              0.664118              16.999638              1.918586  ...   \n",
       "6              0.807342              16.723575              2.058913  ...   \n",
       "7              0.949346              16.689959              2.143437  ...   \n",
       "8              1.065453              17.201948              2.209881  ...   \n",
       "9              1.159805              17.483979              2.209593  ...   \n",
       "\n",
       "   secondary_cleaner.state.floatbank4_a_level  \\\n",
       "0                                 -502.488007   \n",
       "1                                 -505.503262   \n",
       "2                                 -502.520901   \n",
       "3                                 -500.857308   \n",
       "4                                 -499.838632   \n",
       "5                                 -500.970168   \n",
       "6                                 -500.971133   \n",
       "7                                 -501.819696   \n",
       "8                                 -504.252450   \n",
       "9                                 -503.195299   \n",
       "\n",
       "   secondary_cleaner.state.floatbank4_b_air  \\\n",
       "0                                 12.099931   \n",
       "1                                 11.950531   \n",
       "2                                 11.912783   \n",
       "3                                 11.999550   \n",
       "4                                 11.953070   \n",
       "5                                 11.883350   \n",
       "6                                 12.091543   \n",
       "7                                 12.101324   \n",
       "8                                 12.060738   \n",
       "9                                 12.052233   \n",
       "\n",
       "   secondary_cleaner.state.floatbank4_b_level  \\\n",
       "0                                 -504.715942   \n",
       "1                                 -501.331529   \n",
       "2                                 -501.133383   \n",
       "3                                 -501.193686   \n",
       "4                                 -501.053894   \n",
       "5                                 -500.395298   \n",
       "6                                 -500.501426   \n",
       "7                                 -500.583446   \n",
       "8                                 -501.174549   \n",
       "9                                 -500.928547   \n",
       "\n",
       "   secondary_cleaner.state.floatbank5_a_air  \\\n",
       "0                                  9.925633   \n",
       "1                                 10.039245   \n",
       "2                                 10.070913   \n",
       "3                                  9.970366   \n",
       "4                                  9.925709   \n",
       "5                                 10.054147   \n",
       "6                                 10.003247   \n",
       "7                                  9.873169   \n",
       "8                                 10.033838   \n",
       "9                                  9.962574   \n",
       "\n",
       "   secondary_cleaner.state.floatbank5_a_level  \\\n",
       "0                                 -498.310211   \n",
       "1                                 -500.169983   \n",
       "2                                 -500.129135   \n",
       "3                                 -499.201640   \n",
       "4                                 -501.686727   \n",
       "5                                 -496.374715   \n",
       "6                                 -497.083180   \n",
       "7                                 -499.171928   \n",
       "8                                 -501.178133   \n",
       "9                                 -502.986357   \n",
       "\n",
       "   secondary_cleaner.state.floatbank5_b_air  \\\n",
       "0                                  8.079666   \n",
       "1                                  7.984757   \n",
       "2                                  8.013877   \n",
       "3                                  7.977324   \n",
       "4                                  7.894242   \n",
       "5                                  7.965083   \n",
       "6                                  8.010890   \n",
       "7                                  7.993381   \n",
       "8                                  7.881604   \n",
       "9                                  7.979219   \n",
       "\n",
       "   secondary_cleaner.state.floatbank5_b_level  \\\n",
       "0                                 -500.470978   \n",
       "1                                 -500.582168   \n",
       "2                                 -500.517572   \n",
       "3                                 -500.255908   \n",
       "4                                 -500.356035   \n",
       "5                                 -499.364752   \n",
       "6                                 -500.002423   \n",
       "7                                 -499.794518   \n",
       "8                                 -499.729434   \n",
       "9                                 -500.146835   \n",
       "\n",
       "   secondary_cleaner.state.floatbank6_a_air  \\\n",
       "0                                 14.151341   \n",
       "1                                 13.998353   \n",
       "2                                 14.028663   \n",
       "3                                 14.005551   \n",
       "4                                 13.996647   \n",
       "5                                 14.017067   \n",
       "6                                 14.029649   \n",
       "7                                 13.984498   \n",
       "8                                 13.967135   \n",
       "9                                 13.981614   \n",
       "\n",
       "   secondary_cleaner.state.floatbank6_a_level  in_train  \n",
       "0                                 -605.841980       1.0  \n",
       "1                                 -599.787184       1.0  \n",
       "2                                 -601.427363       1.0  \n",
       "3                                 -599.996129       1.0  \n",
       "4                                 -601.496691       1.0  \n",
       "5                                 -599.707915       1.0  \n",
       "6                                 -600.905470       1.0  \n",
       "7                                 -600.411070       1.0  \n",
       "8                                 -599.061188       1.0  \n",
       "9                                 -598.070855       1.0  \n",
       "\n",
       "[10 rows x 88 columns]"
      ]
     },
     "execution_count": 34,
     "metadata": {},
     "output_type": "execute_result"
    }
   ],
   "source": [
    "df2['date'] = df['date'] \n",
    "df2['in_train'] = df['in_train']\n",
    "\n",
    "df2_neworder = list(df.columns)\n",
    "df2 = df2.reindex(columns = df2_neworder)\n",
    "df2.head(10)"
   ]
  },
  {
   "cell_type": "code",
   "execution_count": 35,
   "metadata": {},
   "outputs": [
    {
     "name": "stdout",
     "output_type": "stream",
     "text": [
      "<class 'pandas.core.frame.DataFrame'>\n",
      "RangeIndex: 19439 entries, 0 to 19438\n",
      "Data columns (total 88 columns):\n",
      "date                                                  16632 non-null datetime64[ns]\n",
      "final.output.concentrate_ag                           19439 non-null float64\n",
      "final.output.concentrate_pb                           19439 non-null float64\n",
      "final.output.concentrate_sol                          19439 non-null float64\n",
      "final.output.concentrate_au                           19439 non-null float64\n",
      "final.output.recovery                                 19439 non-null float64\n",
      "final.output.tail_ag                                  19439 non-null float64\n",
      "final.output.tail_pb                                  19439 non-null float64\n",
      "final.output.tail_sol                                 19439 non-null float64\n",
      "final.output.tail_au                                  19439 non-null float64\n",
      "primary_cleaner.input.sulfate                         19439 non-null float64\n",
      "primary_cleaner.input.depressant                      19439 non-null float64\n",
      "primary_cleaner.input.feed_size                       19439 non-null float64\n",
      "primary_cleaner.input.xanthate                        19439 non-null float64\n",
      "primary_cleaner.output.concentrate_ag                 19439 non-null float64\n",
      "primary_cleaner.output.concentrate_pb                 19439 non-null float64\n",
      "primary_cleaner.output.concentrate_sol                19439 non-null float64\n",
      "primary_cleaner.output.concentrate_au                 19439 non-null float64\n",
      "primary_cleaner.output.tail_ag                        19439 non-null float64\n",
      "primary_cleaner.output.tail_pb                        19439 non-null float64\n",
      "primary_cleaner.output.tail_sol                       19439 non-null float64\n",
      "primary_cleaner.output.tail_au                        19439 non-null float64\n",
      "primary_cleaner.state.floatbank8_a_air                19439 non-null float64\n",
      "primary_cleaner.state.floatbank8_a_level              19439 non-null float64\n",
      "primary_cleaner.state.floatbank8_b_air                19439 non-null float64\n",
      "primary_cleaner.state.floatbank8_b_level              19439 non-null float64\n",
      "primary_cleaner.state.floatbank8_c_air                19439 non-null float64\n",
      "primary_cleaner.state.floatbank8_c_level              19439 non-null float64\n",
      "primary_cleaner.state.floatbank8_d_air                19439 non-null float64\n",
      "primary_cleaner.state.floatbank8_d_level              19439 non-null float64\n",
      "rougher.calculation.sulfate_to_au_concentrate         19439 non-null float64\n",
      "rougher.calculation.floatbank10_sulfate_to_au_feed    19439 non-null float64\n",
      "rougher.calculation.floatbank11_sulfate_to_au_feed    19439 non-null float64\n",
      "rougher.calculation.au_pb_ratio                       19439 non-null float64\n",
      "rougher.input.feed_ag                                 19439 non-null float64\n",
      "rougher.input.feed_pb                                 19439 non-null float64\n",
      "rougher.input.feed_rate                               19439 non-null float64\n",
      "rougher.input.feed_size                               19439 non-null float64\n",
      "rougher.input.feed_sol                                19439 non-null float64\n",
      "rougher.input.feed_au                                 19439 non-null float64\n",
      "rougher.input.floatbank10_sulfate                     19439 non-null float64\n",
      "rougher.input.floatbank10_xanthate                    19439 non-null float64\n",
      "rougher.input.floatbank11_sulfate                     19439 non-null float64\n",
      "rougher.input.floatbank11_xanthate                    19439 non-null float64\n",
      "rougher.output.concentrate_ag                         19439 non-null float64\n",
      "rougher.output.concentrate_pb                         19439 non-null float64\n",
      "rougher.output.concentrate_sol                        19439 non-null float64\n",
      "rougher.output.concentrate_au                         19439 non-null float64\n",
      "rougher.output.recovery                               19439 non-null float64\n",
      "rougher.output.tail_ag                                19439 non-null float64\n",
      "rougher.output.tail_pb                                19439 non-null float64\n",
      "rougher.output.tail_sol                               19439 non-null float64\n",
      "rougher.output.tail_au                                19439 non-null float64\n",
      "rougher.state.floatbank10_a_air                       19439 non-null float64\n",
      "rougher.state.floatbank10_a_level                     19439 non-null float64\n",
      "rougher.state.floatbank10_b_air                       19439 non-null float64\n",
      "rougher.state.floatbank10_b_level                     19439 non-null float64\n",
      "rougher.state.floatbank10_c_air                       19439 non-null float64\n",
      "rougher.state.floatbank10_c_level                     19439 non-null float64\n",
      "rougher.state.floatbank10_d_air                       19439 non-null float64\n",
      "rougher.state.floatbank10_d_level                     19439 non-null float64\n",
      "rougher.state.floatbank10_e_air                       19439 non-null float64\n",
      "rougher.state.floatbank10_e_level                     19439 non-null float64\n",
      "rougher.state.floatbank10_f_air                       19439 non-null float64\n",
      "rougher.state.floatbank10_f_level                     19439 non-null float64\n",
      "secondary_cleaner.output.tail_ag                      19439 non-null float64\n",
      "secondary_cleaner.output.tail_pb                      19439 non-null float64\n",
      "secondary_cleaner.output.tail_sol                     19439 non-null float64\n",
      "secondary_cleaner.output.tail_au                      19439 non-null float64\n",
      "secondary_cleaner.state.floatbank2_a_air              19439 non-null float64\n",
      "secondary_cleaner.state.floatbank2_a_level            19439 non-null float64\n",
      "secondary_cleaner.state.floatbank2_b_air              19439 non-null float64\n",
      "secondary_cleaner.state.floatbank2_b_level            19439 non-null float64\n",
      "secondary_cleaner.state.floatbank3_a_air              19439 non-null float64\n",
      "secondary_cleaner.state.floatbank3_a_level            19439 non-null float64\n",
      "secondary_cleaner.state.floatbank3_b_air              19439 non-null float64\n",
      "secondary_cleaner.state.floatbank3_b_level            19439 non-null float64\n",
      "secondary_cleaner.state.floatbank4_a_air              19439 non-null float64\n",
      "secondary_cleaner.state.floatbank4_a_level            19439 non-null float64\n",
      "secondary_cleaner.state.floatbank4_b_air              19439 non-null float64\n",
      "secondary_cleaner.state.floatbank4_b_level            19439 non-null float64\n",
      "secondary_cleaner.state.floatbank5_a_air              19439 non-null float64\n",
      "secondary_cleaner.state.floatbank5_a_level            19439 non-null float64\n",
      "secondary_cleaner.state.floatbank5_b_air              19439 non-null float64\n",
      "secondary_cleaner.state.floatbank5_b_level            19439 non-null float64\n",
      "secondary_cleaner.state.floatbank6_a_air              19439 non-null float64\n",
      "secondary_cleaner.state.floatbank6_a_level            19439 non-null float64\n",
      "in_train                                              16632 non-null float64\n",
      "dtypes: datetime64[ns](1), float64(87)\n",
      "memory usage: 13.1 MB\n"
     ]
    }
   ],
   "source": [
    "df2.info()"
   ]
  },
  {
   "cell_type": "markdown",
   "metadata": {},
   "source": [
    "Пропуски заполнены во всем датасете с общими данными, кроме целевых столбцов. Мы не заполнили эти столбцы методом K ближайших соседей, потому что это фактически означало бы предсказание целевого признака, что мы хотим сделать с помощью моделей."
   ]
  },
  {
   "cell_type": "code",
   "execution_count": 36,
   "metadata": {},
   "outputs": [
    {
     "data": {
      "text/plain": [
       "0.0"
      ]
     },
     "execution_count": 36,
     "metadata": {},
     "output_type": "execute_result"
    }
   ],
   "source": [
    "df2['rougher.output.recovery'].isna().sum() / len(df2)"
   ]
  },
  {
   "cell_type": "code",
   "execution_count": 37,
   "metadata": {},
   "outputs": [
    {
     "data": {
      "text/plain": [
       "0.0"
      ]
     },
     "execution_count": 37,
     "metadata": {},
     "output_type": "execute_result"
    }
   ],
   "source": [
    "df2['final.output.recovery'].isna().sum() / len(df2)"
   ]
  },
  {
   "cell_type": "code",
   "execution_count": 38,
   "metadata": {},
   "outputs": [
    {
     "data": {
      "text/plain": [
       "0"
      ]
     },
     "execution_count": 38,
     "metadata": {},
     "output_type": "execute_result"
    }
   ],
   "source": [
    "df2['rougher.output.recovery'].isna().sum() + df2['final.output.recovery'].isna().sum()"
   ]
  },
  {
   "cell_type": "markdown",
   "metadata": {},
   "source": [
    "### Поиск дубликатов"
   ]
  },
  {
   "cell_type": "markdown",
   "metadata": {},
   "source": [
    "Поищем дубликаты."
   ]
  },
  {
   "cell_type": "code",
   "execution_count": 39,
   "metadata": {},
   "outputs": [
    {
     "data": {
      "text/plain": [
       "0"
      ]
     },
     "execution_count": 39,
     "metadata": {},
     "output_type": "execute_result"
    }
   ],
   "source": [
    "df.drop('in_train', axis = 1).duplicated().sum()"
   ]
  },
  {
   "cell_type": "markdown",
   "metadata": {},
   "source": [
    "Дубликаты не обнаружены."
   ]
  },
  {
   "cell_type": "markdown",
   "metadata": {},
   "source": [
    "# 2. Анализ данных"
   ]
  },
  {
   "cell_type": "markdown",
   "metadata": {},
   "source": [
    "## Изменение концентрации металлов в зависимости от этапа"
   ]
  },
  {
   "cell_type": "code",
   "execution_count": 44,
   "metadata": {},
   "outputs": [
    {
     "data": {
      "text/html": [
       "<div>\n",
       "<style scoped>\n",
       "    .dataframe tbody tr th:only-of-type {\n",
       "        vertical-align: middle;\n",
       "    }\n",
       "\n",
       "    .dataframe tbody tr th {\n",
       "        vertical-align: top;\n",
       "    }\n",
       "\n",
       "    .dataframe thead th {\n",
       "        text-align: right;\n",
       "    }\n",
       "</style>\n",
       "<table border=\"1\" class=\"dataframe\">\n",
       "  <thead>\n",
       "    <tr style=\"text-align: right;\">\n",
       "      <th></th>\n",
       "      <th>au_mean</th>\n",
       "      <th>au_median</th>\n",
       "      <th>ag_mean</th>\n",
       "      <th>ag_median</th>\n",
       "      <th>pb_mean</th>\n",
       "      <th>pb_median</th>\n",
       "    </tr>\n",
       "  </thead>\n",
       "  <tbody>\n",
       "    <tr>\n",
       "      <td>rougher.input.feed</td>\n",
       "      <td>8.266097</td>\n",
       "      <td>8.125839</td>\n",
       "      <td>8.794927</td>\n",
       "      <td>8.593574</td>\n",
       "      <td>3.595075</td>\n",
       "      <td>3.530821</td>\n",
       "    </tr>\n",
       "    <tr>\n",
       "      <td>rougher.output</td>\n",
       "      <td>19.772000</td>\n",
       "      <td>20.280214</td>\n",
       "      <td>11.994759</td>\n",
       "      <td>12.098115</td>\n",
       "      <td>7.606272</td>\n",
       "      <td>7.742580</td>\n",
       "    </tr>\n",
       "    <tr>\n",
       "      <td>primary_cleaner.output</td>\n",
       "      <td>32.119400</td>\n",
       "      <td>32.841295</td>\n",
       "      <td>8.442408</td>\n",
       "      <td>8.507298</td>\n",
       "      <td>9.819528</td>\n",
       "      <td>10.141211</td>\n",
       "    </tr>\n",
       "    <tr>\n",
       "      <td>final.output</td>\n",
       "      <td>44.076513</td>\n",
       "      <td>45.011244</td>\n",
       "      <td>5.168419</td>\n",
       "      <td>5.066039</td>\n",
       "      <td>9.978909</td>\n",
       "      <td>10.102602</td>\n",
       "    </tr>\n",
       "  </tbody>\n",
       "</table>\n",
       "</div>"
      ],
      "text/plain": [
       "                          au_mean  au_median    ag_mean  ag_median   pb_mean  \\\n",
       "rougher.input.feed       8.266097   8.125839   8.794927   8.593574  3.595075   \n",
       "rougher.output          19.772000  20.280214  11.994759  12.098115  7.606272   \n",
       "primary_cleaner.output  32.119400  32.841295   8.442408   8.507298  9.819528   \n",
       "final.output            44.076513  45.011244   5.168419   5.066039  9.978909   \n",
       "\n",
       "                        pb_median  \n",
       "rougher.input.feed       3.530821  \n",
       "rougher.output           7.742580  \n",
       "primary_cleaner.output  10.141211  \n",
       "final.output            10.102602  "
      ]
     },
     "execution_count": 44,
     "metadata": {},
     "output_type": "execute_result"
    }
   ],
   "source": [
    "metals_pivot = pd.DataFrame()\n",
    "phases = ['rougher.input.feed', 'rougher.output','primary_cleaner.output', 'final.output']\n",
    "au = ['rougher.input.feed_au',\n",
    "             'rougher.output.concentrate_au',\n",
    "             'primary_cleaner.output.concentrate_au',\n",
    "             'final.output.concentrate_au']\n",
    "ag = ['rougher.input.feed_ag',\n",
    "             'rougher.output.concentrate_ag',\n",
    "             'primary_cleaner.output.concentrate_ag',\n",
    "             'final.output.concentrate_ag']\n",
    "pb = ['rougher.input.feed_pb',\n",
    "             'rougher.output.concentrate_pb',\n",
    "             'primary_cleaner.output.concentrate_pb',\n",
    "             'final.output.concentrate_pb']\n",
    "\n",
    "metals = [au, ag, pb]\n",
    "\n",
    "for m in metals:\n",
    "    mean_list = []\n",
    "    median_list = []\n",
    "    for i in m:\n",
    "        mean_list.append(df2[i].mean())\n",
    "        median_list.append(df2[i].median())\n",
    "    metals_pivot['%s_mean' % m] = mean_list\n",
    "    metals_pivot['%s_median' % m] = median_list\n",
    "metals_pivot.index = phases\n",
    "metals_columns = ['au_mean','au_median', 'ag_mean','ag_median', 'pb_mean','pb_median' ]\n",
    "metals_pivot.columns = metals_columns\n",
    "metals_pivot"
   ]
  },
  {
   "cell_type": "code",
   "execution_count": 45,
   "metadata": {},
   "outputs": [
    {
     "data": {
      "image/png": "[encoded data removed]",
      "text/plain": [
       "<Figure size 1080x720 with 1 Axes>"
      ]
     },
     "metadata": {
      "needs_background": "light"
     },
     "output_type": "display_data"
    },
    {
     "data": {
      "image/png": "[encoded data removed]",
      "text/plain": [
       "<Figure size 1080x720 with 1 Axes>"
      ]
     },
     "metadata": {},
     "output_type": "display_data"
    },
    {
     "data": {
      "image/png": "[encoded data removed]",
      "text/plain": [
       "<Figure size 1080x720 with 1 Axes>"
      ]
     },
     "metadata": {},
     "output_type": "display_data"
    }
   ],
   "source": [
    "for m in metals:\n",
    "    fig = plt.figure()\n",
    "    fig.set_size_inches(15,10)\n",
    "    ax1 = fig.add_subplot()\n",
    "    ax1.grid(True)\n",
    "    sns.set(style = 'whitegrid')\n",
    "    sns.boxplot(data = df2[m])"
   ]
  },
  {
   "cell_type": "markdown",
   "metadata": {},
   "source": [
    "На диаграммах размаха хорошо видно, что золото увеличивает свою концентрацию с каждым этапом обработки, начиная с флотации, притом увеличивается концентрация золота стабильно на очень близкие величины, примерно на 12-12.5 п.п. от этапа к этапу. Также стоит отметить весьма небольшой межквартильный размах по этому металлу, что говорит о довольно близком к медиане распределении значений, притом на каждом этапе.  \n",
    "У серебра концентрация до флотации сопоставима с золотом, как и у золота, концентрация увеличивается после флотации, но после первичной и вторичной обработки его концентрация каждый раз падает. Межквартильный размах увеличивается.\n",
    "Сразвинтельно большой межквартильный размах и у свинца, хотя в отличие от серебра его концентрация не сокращается. Тем не менее, его увеличение не так стабильно, как у золота, и после второго этапа отчистки его концентрация не растет.  \n",
    "У на самом первом этапе (до флотации) среднее значение концентрации больше медианы, после в большинстве случаев медиана больше среднего. Это значит, что слишком больших значений, из-за которых чувствительное к выбросам среднее может быть велико относительно медианы, нет. Однако стоит дополнительно проверить нулевые значения, их относительно большое количество могло увеличить медиану. "
   ]
  },
  {
   "cell_type": "markdown",
   "metadata": {},
   "source": [
    "### Вывод"
   ]
  },
  {
   "cell_type": "markdown",
   "metadata": {},
   "source": [
    "Стабильное увеличение концентрации от этапа к этапу наблюдается у золота, у свинца концентрация перестает расти после второго этапа очистки, у серебра - падает после первого. Также у металлов, кроме золота, достаточно сравнительно большой межквартильный размах.  \n",
    "В целом, выводы довольно закономерны для целенаправленной преработки золотой руды. Цель - увеличить концентрацию золота, остальные металлы не так важны.  "
   ]
  },
  {
   "cell_type": "markdown",
   "metadata": {},
   "source": [
    "## Распределение гранул сырья"
   ]
  },
  {
   "cell_type": "markdown",
   "metadata": {},
   "source": [
    "Сравним распределения размеров гранул сырья в тестовой и обучающей выборках.  \n",
    "\n",
    "Настало время поделить общий датасет с помощью столбца-маркера, который мы добавили."
   ]
  },
  {
   "cell_type": "code",
   "execution_count": 46,
   "metadata": {},
   "outputs": [],
   "source": [
    "df2_train = df2.query('in_train == 1')\n",
    "df2_test = df2.query('in_train == 0')"
   ]
  },
  {
   "cell_type": "markdown",
   "metadata": {},
   "source": [
    "Посмотрим на распределения размеров гранул в выборках."
   ]
  },
  {
   "cell_type": "code",
   "execution_count": 47,
   "metadata": {},
   "outputs": [
    {
     "data": {
      "image/png": "[encoded data removed]",
      "text/plain": [
       "<Figure size 720x504 with 1 Axes>"
      ]
     },
     "metadata": {},
     "output_type": "display_data"
    }
   ],
   "source": [
    "fig = plt.figure()\n",
    "fig.set_size_inches(10,7)\n",
    "ax1 = fig.add_subplot()\n",
    "ax1.grid(True)\n",
    "sns.distplot(df2_train['rougher.input.feed_size'], bins = 200, label = 'train', kde = False)\n",
    "sns.distplot(df2_test['rougher.input.feed_size'], bins = 200, label = 'test', kde = False)\n",
    "plt.xlim(0, 120)\n",
    "plt.legend()\n",
    "plt.show()"
   ]
  },
  {
   "cell_type": "markdown",
   "metadata": {},
   "source": [
    "На графике видно, что распределения размеров гранул сырья тестовой и обучающей выборок похожи, оба распределения обладают скошенностью влево. Если мы добавим график плотности распределения, мы убедимся, что у тестовой выборки распределение скошено все-таки сильнее, что не удивительно: на меньших выборках вероятность диспропорций и отличий от нормального выше. "
   ]
  },
  {
   "cell_type": "code",
   "execution_count": 48,
   "metadata": {},
   "outputs": [
    {
     "data": {
      "image/png": "[encoded data removed]",
      "text/plain": [
       "<Figure size 720x504 with 1 Axes>"
      ]
     },
     "metadata": {},
     "output_type": "display_data"
    }
   ],
   "source": [
    "fig = plt.figure()\n",
    "fig.set_size_inches(10,7)\n",
    "ax1 = fig.add_subplot()\n",
    "ax1.grid(True)\n",
    "sns.distplot(df2_train['rougher.input.feed_size'], bins = 200, label = 'train', kde = True)\n",
    "sns.distplot(df2_test['rougher.input.feed_size'], bins = 200, label = 'test', kde = True)\n",
    "plt.xlim(0, 120)\n",
    "plt.legend()\n",
    "plt.show()"
   ]
  },
  {
   "cell_type": "markdown",
   "metadata": {},
   "source": [
    "### Вывод"
   ]
  },
  {
   "cell_type": "markdown",
   "metadata": {},
   "source": [
    "В целом, распределения достаточно похожи. "
   ]
  },
  {
   "cell_type": "markdown",
   "metadata": {},
   "source": [
    "## Суммарная концентрация веществ"
   ]
  },
  {
   "cell_type": "code",
   "execution_count": 49,
   "metadata": {},
   "outputs": [],
   "source": [
    "df2['rougher.input.feed_sum'] = (df2['rougher.input.feed_au'] \n",
    "                                 + df2['rougher.input.feed_ag'] \n",
    "                                 + df2['rougher.input.feed_pb'] \n",
    "                                 + df2['rougher.input.feed_sol'])\n",
    "df2['rougher.output.concentrate_sum'] = (df2['rougher.output.concentrate_au'] \n",
    "                                 + df2['rougher.output.concentrate_ag'] \n",
    "                                 + df2['rougher.output.concentrate_pb'] \n",
    "                                 + df2['rougher.output.concentrate_sol'])\n",
    "df2['rougher.output.tail_sum'] = (df2['rougher.output.tail_au'] \n",
    "                                 + df2['rougher.output.tail_ag'] \n",
    "                                 + df2['rougher.output.tail_pb'] \n",
    "                                 + df2['rougher.output.tail_sol'])\n",
    "df2['primary_cleaner.output.concentrate_sum'] = (df2['primary_cleaner.output.concentrate_au'] \n",
    "                                 + df2['primary_cleaner.output.concentrate_ag'] \n",
    "                                 + df2['primary_cleaner.output.concentrate_pb'] \n",
    "                                 + df2['primary_cleaner.output.concentrate_sol'])\n",
    "df2['primary_cleaner.output.tail_sum'] = (df2['primary_cleaner.output.tail_au'] \n",
    "                                 + df2['primary_cleaner.output.tail_ag'] \n",
    "                                 + df2['primary_cleaner.output.tail_pb'] \n",
    "                                 + df2['primary_cleaner.output.tail_sol'])\n",
    "df2['final.output.concentrate_sum'] = (df2['final.output.concentrate_au'] \n",
    "                                 + df2['final.output.concentrate_ag'] \n",
    "                                 + df2['final.output.concentrate_pb'] \n",
    "                                 + df2['final.output.concentrate_sol'])\n",
    "df2['final.output.tail_sum'] = (df2['final.output.tail_au'] \n",
    "                                 + df2['final.output.tail_ag'] \n",
    "                                 + df2['final.output.tail_pb'] \n",
    "                                 + df2['final.output.tail_sol'])\n"
   ]
  },
  {
   "cell_type": "code",
   "execution_count": 50,
   "metadata": {
    "scrolled": false
   },
   "outputs": [
    {
     "data": {
      "image/png": "[encoded data removed]",
      "text/plain": [
       "<Figure size 720x504 with 1 Axes>"
      ]
     },
     "metadata": {},
     "output_type": "display_data"
    },
    {
     "data": {
      "image/png": "[encoded data removed]",
      "text/plain": [
       "<Figure size 720x504 with 1 Axes>"
      ]
     },
     "metadata": {},
     "output_type": "display_data"
    },
    {
     "data": {
      "image/png": "[encoded data removed]",
      "text/plain": [
       "<Figure size 720x504 with 1 Axes>"
      ]
     },
     "metadata": {},
     "output_type": "display_data"
    },
    {
     "data": {
      "image/png": "[encoded data removed]",
      "text/plain": [
       "<Figure size 720x504 with 1 Axes>"
      ]
     },
     "metadata": {},
     "output_type": "display_data"
    },
    {
     "data": {
      "image/png": "[encoded data removed]",
      "text/plain": [
       "<Figure size 720x504 with 1 Axes>"
      ]
     },
     "metadata": {},
     "output_type": "display_data"
    },
    {
     "data": {
      "image/png": "[encoded data removed]",
      "text/plain": [
       "<Figure size 720x504 with 1 Axes>"
      ]
     },
     "metadata": {},
     "output_type": "display_data"
    },
    {
     "data": {
      "image/png": "[encoded data removed]",
      "text/plain": [
       "<Figure size 720x504 with 1 Axes>"
      ]
     },
     "metadata": {},
     "output_type": "display_data"
    }
   ],
   "source": [
    "sum_conc_list = [df2['rougher.input.feed_sum'],\n",
    "                 df2['rougher.output.concentrate_sum'], \n",
    "                 df2['rougher.output.tail_sum'],\n",
    "                 df2['primary_cleaner.output.concentrate_sum'], \n",
    "                 df2['primary_cleaner.output.tail_sum'],\n",
    "                 df2['final.output.concentrate_sum'],\n",
    "                 df2['final.output.tail_sum'] ]\n",
    "for i in sum_conc_list:\n",
    "    fig = plt.figure()\n",
    "    fig.set_size_inches(10,7)\n",
    "    ax1 = fig.add_subplot()\n",
    "    ax1.grid(True)\n",
    "    sns.distplot(i, bins = 50, kde = False)\n",
    "    plt.show()"
   ]
  },
  {
   "cell_type": "markdown",
   "metadata": {},
   "source": [
    "На графиках можно наблюдать некоторое количество нулевых значений суммарной концентрации веществ.  \n",
    "Они не выглядят аномалиями на первый взгляд и, теоретически, такое распределение возможно, ведь потенциально могут существовать некачественное сырье, в котором концентрация ценных металлов и веществ нулевое.  \n",
    "Однако вызывает подозрение тот факт, что, во-первых, сырья, в котором концентрация нужных веществ мала или близка к нулю, мало, хоть оно и присутствует, и оно уменьшается с уменьшением концентрации веществ, то количество сырья с нулевой концентрацией выпадает из этого тренда, резко увеличиваясь.\n",
    "Во-вторых, смущает то, что такого сырья больше именно на черновом и финальном концентрате, который идет на дальнейшую обработку, и меньше в хвостах, хотя по идее должно быть наоборот.  \n",
    "В-третьих, обращаем внимание, что речь идет о нулевой концентрации всех веществ. Даже если предположить, что в производство попало некачественное сырье, в котором вообще нет золота, вероятность того, что в нем не будет и других наблюдаемых веществ, мала. Такое количество полностью пустой золотоносной руды ставит под сомнение либо ее фактическое существование, либо качаество отбора сырья для производства.\n",
    "Из этого делаем вывод, что, скорее всего, имеет место аномалия или просто ошибка, поэтому удалим из обеих выборок объекты с концентрацией всех веществ меньше десяти - меньше этого значения концентрации металлов даже в хвостах  случаев крайне мало, можно считать это околонулевым значением."
   ]
  },
  {
   "cell_type": "code",
   "execution_count": 51,
   "metadata": {},
   "outputs": [
    {
     "data": {
      "text/html": [
       "<div>\n",
       "<style scoped>\n",
       "    .dataframe tbody tr th:only-of-type {\n",
       "        vertical-align: middle;\n",
       "    }\n",
       "\n",
       "    .dataframe tbody tr th {\n",
       "        vertical-align: top;\n",
       "    }\n",
       "\n",
       "    .dataframe thead th {\n",
       "        text-align: right;\n",
       "    }\n",
       "</style>\n",
       "<table border=\"1\" class=\"dataframe\">\n",
       "  <thead>\n",
       "    <tr style=\"text-align: right;\">\n",
       "      <th></th>\n",
       "      <th>date</th>\n",
       "      <th>final.output.concentrate_ag</th>\n",
       "      <th>final.output.concentrate_pb</th>\n",
       "      <th>final.output.concentrate_sol</th>\n",
       "      <th>final.output.concentrate_au</th>\n",
       "      <th>final.output.recovery</th>\n",
       "      <th>final.output.tail_ag</th>\n",
       "      <th>final.output.tail_pb</th>\n",
       "      <th>final.output.tail_sol</th>\n",
       "      <th>final.output.tail_au</th>\n",
       "      <th>...</th>\n",
       "      <th>secondary_cleaner.state.floatbank6_a_level</th>\n",
       "      <th>in_train</th>\n",
       "      <th>rougher.input.feed_sum</th>\n",
       "      <th>rougher.output.concentrate_sum</th>\n",
       "      <th>rougher.output.tail_sum</th>\n",
       "      <th>primary_cleaner.output.concentrate_sum</th>\n",
       "      <th>primary_cleaner.output.tail_sum</th>\n",
       "      <th>final.output.concentrate_sum</th>\n",
       "      <th>final.output.tail_sum</th>\n",
       "      <th>any_sum_0</th>\n",
       "    </tr>\n",
       "  </thead>\n",
       "  <tbody>\n",
       "    <tr>\n",
       "      <td>0</td>\n",
       "      <td>2016-01-15 00:00:00</td>\n",
       "      <td>6.055403</td>\n",
       "      <td>9.889648</td>\n",
       "      <td>5.507324</td>\n",
       "      <td>42.192020</td>\n",
       "      <td>70.541216</td>\n",
       "      <td>10.411962</td>\n",
       "      <td>0.895447</td>\n",
       "      <td>16.904297</td>\n",
       "      <td>2.143149</td>\n",
       "      <td>...</td>\n",
       "      <td>-605.841980</td>\n",
       "      <td>1.0</td>\n",
       "      <td>51.680034</td>\n",
       "      <td>66.424950</td>\n",
       "      <td>25.841287</td>\n",
       "      <td>72.640924</td>\n",
       "      <td>27.054192</td>\n",
       "      <td>63.644396</td>\n",
       "      <td>30.354855</td>\n",
       "      <td>False</td>\n",
       "    </tr>\n",
       "    <tr>\n",
       "      <td>1</td>\n",
       "      <td>2016-01-15 01:00:00</td>\n",
       "      <td>6.029369</td>\n",
       "      <td>9.968944</td>\n",
       "      <td>5.257781</td>\n",
       "      <td>42.701629</td>\n",
       "      <td>69.266198</td>\n",
       "      <td>10.462676</td>\n",
       "      <td>0.927452</td>\n",
       "      <td>16.634514</td>\n",
       "      <td>2.224930</td>\n",
       "      <td>...</td>\n",
       "      <td>-599.787184</td>\n",
       "      <td>1.0</td>\n",
       "      <td>50.659114</td>\n",
       "      <td>67.012710</td>\n",
       "      <td>25.642129</td>\n",
       "      <td>72.543485</td>\n",
       "      <td>28.387081</td>\n",
       "      <td>63.957723</td>\n",
       "      <td>30.249572</td>\n",
       "      <td>False</td>\n",
       "    </tr>\n",
       "    <tr>\n",
       "      <td>2</td>\n",
       "      <td>2016-01-15 02:00:00</td>\n",
       "      <td>6.055926</td>\n",
       "      <td>10.213995</td>\n",
       "      <td>5.383759</td>\n",
       "      <td>42.657501</td>\n",
       "      <td>68.116445</td>\n",
       "      <td>10.507046</td>\n",
       "      <td>0.953716</td>\n",
       "      <td>16.208849</td>\n",
       "      <td>2.257889</td>\n",
       "      <td>...</td>\n",
       "      <td>-601.427363</td>\n",
       "      <td>1.0</td>\n",
       "      <td>50.609929</td>\n",
       "      <td>66.103793</td>\n",
       "      <td>25.360970</td>\n",
       "      <td>72.095042</td>\n",
       "      <td>28.505056</td>\n",
       "      <td>64.311180</td>\n",
       "      <td>29.927500</td>\n",
       "      <td>False</td>\n",
       "    </tr>\n",
       "    <tr>\n",
       "      <td>3</td>\n",
       "      <td>2016-01-15 03:00:00</td>\n",
       "      <td>6.047977</td>\n",
       "      <td>9.977019</td>\n",
       "      <td>4.858634</td>\n",
       "      <td>42.689819</td>\n",
       "      <td>68.347543</td>\n",
       "      <td>10.422762</td>\n",
       "      <td>0.883763</td>\n",
       "      <td>16.532835</td>\n",
       "      <td>2.146849</td>\n",
       "      <td>...</td>\n",
       "      <td>-599.996129</td>\n",
       "      <td>1.0</td>\n",
       "      <td>51.061546</td>\n",
       "      <td>65.752751</td>\n",
       "      <td>25.607767</td>\n",
       "      <td>59.957723</td>\n",
       "      <td>28.090563</td>\n",
       "      <td>63.573449</td>\n",
       "      <td>29.986209</td>\n",
       "      <td>False</td>\n",
       "    </tr>\n",
       "    <tr>\n",
       "      <td>4</td>\n",
       "      <td>2016-01-15 04:00:00</td>\n",
       "      <td>6.148599</td>\n",
       "      <td>10.142511</td>\n",
       "      <td>4.939416</td>\n",
       "      <td>42.774141</td>\n",
       "      <td>66.927016</td>\n",
       "      <td>10.360302</td>\n",
       "      <td>0.792826</td>\n",
       "      <td>16.525686</td>\n",
       "      <td>2.055292</td>\n",
       "      <td>...</td>\n",
       "      <td>-601.496691</td>\n",
       "      <td>1.0</td>\n",
       "      <td>47.859163</td>\n",
       "      <td>65.908382</td>\n",
       "      <td>25.348302</td>\n",
       "      <td>71.321010</td>\n",
       "      <td>28.419512</td>\n",
       "      <td>64.004667</td>\n",
       "      <td>29.734107</td>\n",
       "      <td>False</td>\n",
       "    </tr>\n",
       "    <tr>\n",
       "      <td>...</td>\n",
       "      <td>...</td>\n",
       "      <td>...</td>\n",
       "      <td>...</td>\n",
       "      <td>...</td>\n",
       "      <td>...</td>\n",
       "      <td>...</td>\n",
       "      <td>...</td>\n",
       "      <td>...</td>\n",
       "      <td>...</td>\n",
       "      <td>...</td>\n",
       "      <td>...</td>\n",
       "      <td>...</td>\n",
       "      <td>...</td>\n",
       "      <td>...</td>\n",
       "      <td>...</td>\n",
       "      <td>...</td>\n",
       "      <td>...</td>\n",
       "      <td>...</td>\n",
       "      <td>...</td>\n",
       "      <td>...</td>\n",
       "      <td>...</td>\n",
       "    </tr>\n",
       "    <tr>\n",
       "      <td>19434</td>\n",
       "      <td>2018-04-03 17:59:59</td>\n",
       "      <td>3.224920</td>\n",
       "      <td>11.356233</td>\n",
       "      <td>6.803482</td>\n",
       "      <td>46.713954</td>\n",
       "      <td>73.755150</td>\n",
       "      <td>8.769645</td>\n",
       "      <td>3.141541</td>\n",
       "      <td>10.403181</td>\n",
       "      <td>1.529220</td>\n",
       "      <td>...</td>\n",
       "      <td>-501.296428</td>\n",
       "      <td>1.0</td>\n",
       "      <td>53.415050</td>\n",
       "      <td>70.781325</td>\n",
       "      <td>22.235420</td>\n",
       "      <td>59.001692</td>\n",
       "      <td>35.634805</td>\n",
       "      <td>68.098589</td>\n",
       "      <td>23.843587</td>\n",
       "      <td>False</td>\n",
       "    </tr>\n",
       "    <tr>\n",
       "      <td>19435</td>\n",
       "      <td>2018-04-03 18:59:59</td>\n",
       "      <td>3.195978</td>\n",
       "      <td>11.349355</td>\n",
       "      <td>6.862249</td>\n",
       "      <td>46.866780</td>\n",
       "      <td>69.049291</td>\n",
       "      <td>8.897321</td>\n",
       "      <td>3.130493</td>\n",
       "      <td>10.549470</td>\n",
       "      <td>1.612542</td>\n",
       "      <td>...</td>\n",
       "      <td>-501.041608</td>\n",
       "      <td>1.0</td>\n",
       "      <td>53.696482</td>\n",
       "      <td>70.539603</td>\n",
       "      <td>22.560731</td>\n",
       "      <td>59.703912</td>\n",
       "      <td>36.184228</td>\n",
       "      <td>68.274362</td>\n",
       "      <td>24.189827</td>\n",
       "      <td>False</td>\n",
       "    </tr>\n",
       "    <tr>\n",
       "      <td>19436</td>\n",
       "      <td>2018-04-03 19:59:59</td>\n",
       "      <td>3.109998</td>\n",
       "      <td>11.434366</td>\n",
       "      <td>6.886013</td>\n",
       "      <td>46.795691</td>\n",
       "      <td>67.002189</td>\n",
       "      <td>8.529606</td>\n",
       "      <td>2.911418</td>\n",
       "      <td>11.115147</td>\n",
       "      <td>1.596616</td>\n",
       "      <td>...</td>\n",
       "      <td>-501.518452</td>\n",
       "      <td>1.0</td>\n",
       "      <td>54.589604</td>\n",
       "      <td>55.376330</td>\n",
       "      <td>23.694245</td>\n",
       "      <td>59.561096</td>\n",
       "      <td>35.646087</td>\n",
       "      <td>68.226068</td>\n",
       "      <td>24.152787</td>\n",
       "      <td>False</td>\n",
       "    </tr>\n",
       "    <tr>\n",
       "      <td>19437</td>\n",
       "      <td>2018-04-03 20:59:59</td>\n",
       "      <td>3.367241</td>\n",
       "      <td>11.625587</td>\n",
       "      <td>6.799433</td>\n",
       "      <td>46.408188</td>\n",
       "      <td>65.523246</td>\n",
       "      <td>8.777171</td>\n",
       "      <td>2.819214</td>\n",
       "      <td>10.463847</td>\n",
       "      <td>1.602879</td>\n",
       "      <td>...</td>\n",
       "      <td>-500.625471</td>\n",
       "      <td>1.0</td>\n",
       "      <td>54.027355</td>\n",
       "      <td>69.201689</td>\n",
       "      <td>24.518974</td>\n",
       "      <td>57.216686</td>\n",
       "      <td>35.325571</td>\n",
       "      <td>68.200449</td>\n",
       "      <td>23.663112</td>\n",
       "      <td>False</td>\n",
       "    </tr>\n",
       "    <tr>\n",
       "      <td>19438</td>\n",
       "      <td>2018-04-03 21:59:59</td>\n",
       "      <td>3.598375</td>\n",
       "      <td>11.737832</td>\n",
       "      <td>6.717509</td>\n",
       "      <td>46.299438</td>\n",
       "      <td>70.281454</td>\n",
       "      <td>8.406690</td>\n",
       "      <td>2.517518</td>\n",
       "      <td>10.652193</td>\n",
       "      <td>1.389434</td>\n",
       "      <td>...</td>\n",
       "      <td>-499.191575</td>\n",
       "      <td>1.0</td>\n",
       "      <td>53.535054</td>\n",
       "      <td>69.544003</td>\n",
       "      <td>25.097262</td>\n",
       "      <td>55.748041</td>\n",
       "      <td>34.554960</td>\n",
       "      <td>68.353154</td>\n",
       "      <td>22.965835</td>\n",
       "      <td>False</td>\n",
       "    </tr>\n",
       "  </tbody>\n",
       "</table>\n",
       "<p>19439 rows × 96 columns</p>\n",
       "</div>"
      ],
      "text/plain": [
       "                     date  final.output.concentrate_ag  \\\n",
       "0     2016-01-15 00:00:00                     6.055403   \n",
       "1     2016-01-15 01:00:00                     6.029369   \n",
       "2     2016-01-15 02:00:00                     6.055926   \n",
       "3     2016-01-15 03:00:00                     6.047977   \n",
       "4     2016-01-15 04:00:00                     6.148599   \n",
       "...                   ...                          ...   \n",
       "19434 2018-04-03 17:59:59                     3.224920   \n",
       "19435 2018-04-03 18:59:59                     3.195978   \n",
       "19436 2018-04-03 19:59:59                     3.109998   \n",
       "19437 2018-04-03 20:59:59                     3.367241   \n",
       "19438 2018-04-03 21:59:59                     3.598375   \n",
       "\n",
       "       final.output.concentrate_pb  final.output.concentrate_sol  \\\n",
       "0                         9.889648                      5.507324   \n",
       "1                         9.968944                      5.257781   \n",
       "2                        10.213995                      5.383759   \n",
       "3                         9.977019                      4.858634   \n",
       "4                        10.142511                      4.939416   \n",
       "...                            ...                           ...   \n",
       "19434                    11.356233                      6.803482   \n",
       "19435                    11.349355                      6.862249   \n",
       "19436                    11.434366                      6.886013   \n",
       "19437                    11.625587                      6.799433   \n",
       "19438                    11.737832                      6.717509   \n",
       "\n",
       "       final.output.concentrate_au  final.output.recovery  \\\n",
       "0                        42.192020              70.541216   \n",
       "1                        42.701629              69.266198   \n",
       "2                        42.657501              68.116445   \n",
       "3                        42.689819              68.347543   \n",
       "4                        42.774141              66.927016   \n",
       "...                            ...                    ...   \n",
       "19434                    46.713954              73.755150   \n",
       "19435                    46.866780              69.049291   \n",
       "19436                    46.795691              67.002189   \n",
       "19437                    46.408188              65.523246   \n",
       "19438                    46.299438              70.281454   \n",
       "\n",
       "       final.output.tail_ag  final.output.tail_pb  final.output.tail_sol  \\\n",
       "0                 10.411962              0.895447              16.904297   \n",
       "1                 10.462676              0.927452              16.634514   \n",
       "2                 10.507046              0.953716              16.208849   \n",
       "3                 10.422762              0.883763              16.532835   \n",
       "4                 10.360302              0.792826              16.525686   \n",
       "...                     ...                   ...                    ...   \n",
       "19434              8.769645              3.141541              10.403181   \n",
       "19435              8.897321              3.130493              10.549470   \n",
       "19436              8.529606              2.911418              11.115147   \n",
       "19437              8.777171              2.819214              10.463847   \n",
       "19438              8.406690              2.517518              10.652193   \n",
       "\n",
       "       final.output.tail_au  ...  secondary_cleaner.state.floatbank6_a_level  \\\n",
       "0                  2.143149  ...                                 -605.841980   \n",
       "1                  2.224930  ...                                 -599.787184   \n",
       "2                  2.257889  ...                                 -601.427363   \n",
       "3                  2.146849  ...                                 -599.996129   \n",
       "4                  2.055292  ...                                 -601.496691   \n",
       "...                     ...  ...                                         ...   \n",
       "19434              1.529220  ...                                 -501.296428   \n",
       "19435              1.612542  ...                                 -501.041608   \n",
       "19436              1.596616  ...                                 -501.518452   \n",
       "19437              1.602879  ...                                 -500.625471   \n",
       "19438              1.389434  ...                                 -499.191575   \n",
       "\n",
       "       in_train  rougher.input.feed_sum  rougher.output.concentrate_sum  \\\n",
       "0           1.0               51.680034                       66.424950   \n",
       "1           1.0               50.659114                       67.012710   \n",
       "2           1.0               50.609929                       66.103793   \n",
       "3           1.0               51.061546                       65.752751   \n",
       "4           1.0               47.859163                       65.908382   \n",
       "...         ...                     ...                             ...   \n",
       "19434       1.0               53.415050                       70.781325   \n",
       "19435       1.0               53.696482                       70.539603   \n",
       "19436       1.0               54.589604                       55.376330   \n",
       "19437       1.0               54.027355                       69.201689   \n",
       "19438       1.0               53.535054                       69.544003   \n",
       "\n",
       "       rougher.output.tail_sum  primary_cleaner.output.concentrate_sum  \\\n",
       "0                    25.841287                               72.640924   \n",
       "1                    25.642129                               72.543485   \n",
       "2                    25.360970                               72.095042   \n",
       "3                    25.607767                               59.957723   \n",
       "4                    25.348302                               71.321010   \n",
       "...                        ...                                     ...   \n",
       "19434                22.235420                               59.001692   \n",
       "19435                22.560731                               59.703912   \n",
       "19436                23.694245                               59.561096   \n",
       "19437                24.518974                               57.216686   \n",
       "19438                25.097262                               55.748041   \n",
       "\n",
       "       primary_cleaner.output.tail_sum  final.output.concentrate_sum  \\\n",
       "0                            27.054192                     63.644396   \n",
       "1                            28.387081                     63.957723   \n",
       "2                            28.505056                     64.311180   \n",
       "3                            28.090563                     63.573449   \n",
       "4                            28.419512                     64.004667   \n",
       "...                                ...                           ...   \n",
       "19434                        35.634805                     68.098589   \n",
       "19435                        36.184228                     68.274362   \n",
       "19436                        35.646087                     68.226068   \n",
       "19437                        35.325571                     68.200449   \n",
       "19438                        34.554960                     68.353154   \n",
       "\n",
       "       final.output.tail_sum  any_sum_0  \n",
       "0                  30.354855      False  \n",
       "1                  30.249572      False  \n",
       "2                  29.927500      False  \n",
       "3                  29.986209      False  \n",
       "4                  29.734107      False  \n",
       "...                      ...        ...  \n",
       "19434              23.843587      False  \n",
       "19435              24.189827      False  \n",
       "19436              24.152787      False  \n",
       "19437              23.663112      False  \n",
       "19438              22.965835      False  \n",
       "\n",
       "[19439 rows x 96 columns]"
      ]
     },
     "execution_count": 51,
     "metadata": {},
     "output_type": "execute_result"
    }
   ],
   "source": [
    "df2['any_sum_0'] = ((df2['rougher.input.feed_sum'] < 30) |\n",
    "                 (df2['rougher.output.concentrate_sum'] < 45) | \n",
    "                 (df2['rougher.output.tail_sum'] < 10) |\n",
    "                 (df2['primary_cleaner.output.concentrate_sum'] < 40) | \n",
    "                 (df2['primary_cleaner.output.tail_sum'] < 15) |\n",
    "                 (df2['final.output.concentrate_sum'] < 55) |\n",
    "                 (df2['final.output.tail_sum'] < 10) )\n",
    "df2"
   ]
  },
  {
   "cell_type": "code",
   "execution_count": 52,
   "metadata": {},
   "outputs": [
    {
     "data": {
      "text/plain": [
       "0.09676423684345903"
      ]
     },
     "execution_count": 52,
     "metadata": {},
     "output_type": "execute_result"
    }
   ],
   "source": [
    "len(df2.query('any_sum_0 == True')) / len(df2)"
   ]
  },
  {
   "cell_type": "code",
   "execution_count": 53,
   "metadata": {},
   "outputs": [
    {
     "data": {
      "text/plain": [
       "4728"
      ]
     },
     "execution_count": 53,
     "metadata": {},
     "output_type": "execute_result"
    }
   ],
   "source": [
    "len(df2.query('(any_sum_0 == False) and (in_train == 0)'))"
   ]
  },
  {
   "cell_type": "code",
   "execution_count": 54,
   "metadata": {},
   "outputs": [
    {
     "data": {
      "text/plain": [
       "10323"
      ]
     },
     "execution_count": 54,
     "metadata": {},
     "output_type": "execute_result"
    }
   ],
   "source": [
    "len(df2.query('(any_sum_0 == False) and (in_train == 1)'))"
   ]
  },
  {
   "cell_type": "markdown",
   "metadata": {},
   "source": [
    "Строк с аномальными значениями около 9%, что много, но это лучше, чем обучать модель на заведомо некорректных данных."
   ]
  },
  {
   "cell_type": "code",
   "execution_count": 55,
   "metadata": {},
   "outputs": [],
   "source": [
    "df3 = df2.query('any_sum_0 == True')"
   ]
  },
  {
   "cell_type": "markdown",
   "metadata": {},
   "source": [
    "### Вывод"
   ]
  },
  {
   "cell_type": "markdown",
   "metadata": {},
   "source": [
    "Объекты с аномальными показателями удалены. Приступаем к выбору подходящей модели."
   ]
  },
  {
   "cell_type": "markdown",
   "metadata": {},
   "source": [
    "# 3. Модель"
   ]
  },
  {
   "cell_type": "markdown",
   "metadata": {},
   "source": [
    "## Функция sMAPE"
   ]
  },
  {
   "cell_type": "markdown",
   "metadata": {},
   "source": [
    "Напишем функции для расчтета sMAPE и final sMAPE."
   ]
  },
  {
   "cell_type": "code",
   "execution_count": 56,
   "metadata": {},
   "outputs": [],
   "source": [
    "def sMAPE(target, predicted):\n",
    "    addendum_list = []\n",
    "    pd.Series(target).index = pd.Series(predicted).index\n",
    "    for i in pd.Series(predicted).index:\n",
    "        addendum = (abs(pd.Series(target)[i] - pd.Series(predicted)[i])) / ((abs(pd.Series(target)[i]) + abs(pd.Series(predicted)[i])) / 2)\n",
    "        addendum_list.append(addendum)\n",
    "    smape = pd.Series(addendum_list).mean() * 100\n",
    "    return smape\n",
    "\n",
    "def final_sMAPE(rougher_smape, fin_smape):\n",
    "    final_sMAPE = (rougher_smape * 0.25) + (fin_smape * 0.75)\n",
    "    return final_sMAPE"
   ]
  },
  {
   "cell_type": "markdown",
   "metadata": {},
   "source": [
    "Напишем также другой вариант sMAPE."
   ]
  },
  {
   "cell_type": "code",
   "execution_count": 57,
   "metadata": {},
   "outputs": [],
   "source": [
    "def sMAPE2(target, predicted):\n",
    "    addendums = ((pd.Series(target) - pd.Series(predicted)).abs()) / ((pd.Series(target).abs() + pd.Series(predicted).abs()) / 2)\n",
    "    smape2 = pd.Series(addendums).mean() * 100\n",
    "    return smape2"
   ]
  },
  {
   "cell_type": "markdown",
   "metadata": {},
   "source": [
    "Проверим, одинаково ли они работают."
   ]
  },
  {
   "cell_type": "code",
   "execution_count": 58,
   "metadata": {},
   "outputs": [
    {
     "data": {
      "text/plain": [
       "array([-1.36100225, -1.78642039, -0.30933482, -2.20789685, -0.66966452,\n",
       "       -1.79704915, -4.72206899, -0.07400823, -2.97963225, -0.49428044,\n",
       "       -2.56119282, -1.91493098, -0.86206995, -4.03833485, -4.19577534,\n",
       "       -0.74596159, -0.90806923, -0.40415294, -0.99770964, -1.38044044,\n",
       "       -2.70635403, -4.82601506, -0.96377661, -0.72904822, -3.40821049,\n",
       "       -0.40883816, -3.32127872, -4.34655218, -3.04252361, -3.25162706,\n",
       "       -3.51727045, -4.91360455, -1.14494212, -3.514276  , -2.51188033,\n",
       "       -4.10098982, -3.44091706, -3.59139202, -1.72146529, -3.22344888,\n",
       "       -1.24443749, -1.13553295, -2.29095409, -4.35513194, -0.84612428,\n",
       "       -1.48262255, -1.3073635 , -4.39552608, -3.39150118, -2.18160896,\n",
       "       -3.13979332, -3.20249184, -4.25759886, -3.78657326, -0.43502383,\n",
       "       -3.59438958, -3.72929427, -3.47823422, -3.70793094, -1.40981964,\n",
       "       -0.81724118, -2.09927181, -2.76492671, -3.21380025, -0.1828984 ,\n",
       "       -3.26609182, -0.31809904, -3.49150906, -1.71421735, -4.77745065,\n",
       "       -2.86442198, -3.50274823, -1.12651779, -2.70823754, -1.92894155,\n",
       "       -1.73539742, -4.87101377, -3.65297415, -3.16614734, -4.03389801,\n",
       "       -1.89794814, -3.95289217, -3.95494191, -0.29586664, -4.72854666,\n",
       "       -2.80513003, -1.19030134, -1.35476821, -3.10424632, -0.88545656,\n",
       "       -3.30345297, -2.11593307, -4.54843904, -1.86825408, -2.75877882,\n",
       "       -4.0388842 , -0.48524204, -1.85298899, -4.40700612, -3.93989756])"
      ]
     },
     "execution_count": 58,
     "metadata": {},
     "output_type": "execute_result"
    }
   ],
   "source": [
    "X, Y = 5 * np.random.random_sample((100, )) - 5, 5 * np.random.random_sample((100, )) - 5\n",
    "X"
   ]
  },
  {
   "cell_type": "code",
   "execution_count": 59,
   "metadata": {},
   "outputs": [
    {
     "data": {
      "text/plain": [
       "array([-1.85305063, -3.89401084, -2.7982335 , -3.66136819, -0.11136972,\n",
       "       -0.45714927, -4.81199008, -3.54284343, -2.27351239, -3.82718249,\n",
       "       -4.69129165, -3.31520652, -2.96564639, -2.02624528, -3.01367127,\n",
       "       -4.84939834, -3.78811706, -2.14599942, -4.35987453, -3.53179486,\n",
       "       -1.37584454, -2.29846709, -2.31516891, -2.14347609, -3.70101622,\n",
       "       -2.26982388, -3.52933399, -0.06406172, -1.66990274, -3.0867164 ,\n",
       "       -3.69786375, -3.00005536, -4.20542254, -1.22761935, -1.05159125,\n",
       "       -1.90277116, -3.6482869 , -4.44875759, -3.0973145 , -1.7443492 ,\n",
       "       -3.64443175, -2.06796005, -3.61347822, -1.0837424 , -2.84777031,\n",
       "       -2.19665256, -4.65836324, -2.83634679, -2.83946927, -3.77118237,\n",
       "       -0.26245838, -2.11753635, -0.49791438, -0.90329736, -1.42113621,\n",
       "       -1.86804844, -2.63634149, -4.20703702, -0.52287656, -2.29332816,\n",
       "       -0.47676224, -3.03523072, -4.02662595, -1.47716365, -1.52701886,\n",
       "       -2.70340382, -4.78179531, -3.95637371, -2.67658438, -0.05853387,\n",
       "       -3.87534577, -1.0545647 , -3.88056958, -4.69011433, -0.13291532,\n",
       "       -4.85718135, -0.92078149, -4.50160574, -2.39993508, -4.74721536,\n",
       "       -2.95136567, -2.09996162, -2.65441081, -3.37999815, -0.98353254,\n",
       "       -0.1030867 , -3.30930226, -1.98921598, -4.00203581, -2.01542188,\n",
       "       -3.85510612, -0.8384417 , -0.39224776, -4.65409157, -1.23460524,\n",
       "       -3.70579799, -3.53606535, -2.62439566, -1.60300382, -4.18187114])"
      ]
     },
     "execution_count": 59,
     "metadata": {},
     "output_type": "execute_result"
    }
   ],
   "source": [
    "Y"
   ]
  },
  {
   "cell_type": "code",
   "execution_count": 60,
   "metadata": {},
   "outputs": [
    {
     "data": {
      "text/plain": [
       "79.53959627941546"
      ]
     },
     "execution_count": 60,
     "metadata": {},
     "output_type": "execute_result"
    }
   ],
   "source": [
    "aaa = sMAPE(X, Y)\n",
    "bbb = sMAPE2(X, Y)\n",
    "aaa"
   ]
  },
  {
   "cell_type": "code",
   "execution_count": 61,
   "metadata": {},
   "outputs": [
    {
     "data": {
      "text/plain": [
       "79.53959627941546"
      ]
     },
     "execution_count": 61,
     "metadata": {},
     "output_type": "execute_result"
    }
   ],
   "source": [
    "bbb"
   ]
  },
  {
   "cell_type": "markdown",
   "metadata": {},
   "source": [
    "Функции работают одинаково, хотя второй вариант потенциально работает быстрее."
   ]
  },
  {
   "cell_type": "markdown",
   "metadata": {},
   "source": [
    "## Подбор модели"
   ]
  },
  {
   "cell_type": "markdown",
   "metadata": {},
   "source": [
    "Рассмотрим несколько алгоритмов - дерево решений, случайный лес, линейная регрессия. Переберем параметры для первых двух в цикле.  \n",
    "Перед этим разобьем обработанные совокупные данные на обучающую и тестовую выборки в соответствии с тем разделением, которое было задано изначально заказчиком.  \n",
    "Обратим внимание, что в целях избежания утечки данных в обучающей наборе признаков features_train мы оставим только те признаки, которые вошли в тестовую выборку. Целевые признаки нам легко назначить из общего набора данных."
   ]
  },
  {
   "cell_type": "markdown",
   "metadata": {},
   "source": [
    "Более того, для предсказания обогащения после флотации мы будем использовать только данные, которые известны о сырье до и во время флотации, а данные о расчетных величинах, хвостах и концентратах на первом и втором этапах очистки использоваться не будут.  \n",
    "Во-первых, у этого есть чисто эмпирическое обоснование: не вошедший в отчет опыт обучения модели для rougher_recovery на полном наборе данных показал, что модели получаются с гораздо меньшим показателем sMAPE.\n",
    "Во-вторых, если заказчик будет использовать модели действительно для прогнозирования обогащения посде флотации, то у него не будет данных о последующих этапах обработки руды. Фактически, это такая же защита от утечки данных, что и уменьшенное как в тестовой выборке количество признаков."
   ]
  },
  {
   "cell_type": "code",
   "execution_count": 62,
   "metadata": {},
   "outputs": [],
   "source": [
    "train, test = df3.query('in_train == 1'), df3.query('in_train == 0')\n",
    "final_test_columns = list(df_test.columns)\n",
    "final_test_columns.remove('date')\n",
    "\n",
    "rougher_test_columns = ['rougher.input.feed_ag',\n",
    " 'rougher.input.feed_pb',\n",
    " 'rougher.input.feed_rate',\n",
    " 'rougher.input.feed_size',\n",
    " 'rougher.input.feed_sol',\n",
    " 'rougher.input.feed_au',\n",
    " 'rougher.input.floatbank10_sulfate',\n",
    " 'rougher.input.floatbank10_xanthate',\n",
    " 'rougher.input.floatbank11_sulfate',\n",
    " 'rougher.input.floatbank11_xanthate',\n",
    " 'rougher.state.floatbank10_a_air',\n",
    " 'rougher.state.floatbank10_a_level',\n",
    " 'rougher.state.floatbank10_b_air',\n",
    " 'rougher.state.floatbank10_b_level',\n",
    " 'rougher.state.floatbank10_c_air',\n",
    " 'rougher.state.floatbank10_c_level',\n",
    " 'rougher.state.floatbank10_d_air',\n",
    " 'rougher.state.floatbank10_d_level',\n",
    " 'rougher.state.floatbank10_e_air',\n",
    " 'rougher.state.floatbank10_e_level',\n",
    " 'rougher.state.floatbank10_f_air',\n",
    " 'rougher.state.floatbank10_f_level']\n",
    "\n",
    "rougher_features_train = train[rougher_test_columns]\n",
    "final_features_train = train[final_test_columns]\n",
    "rougher_target_train = train['rougher.output.recovery']\n",
    "final_target_train = train['final.output.recovery']\n",
    "\n",
    "rougher_features_test = test[rougher_test_columns]\n",
    "final_features_test = test[final_test_columns]\n",
    "rougher_target_test = test['rougher.output.recovery']\n",
    "final_target_test = test['final.output.recovery'] "
   ]
  },
  {
   "cell_type": "code",
   "execution_count": 63,
   "metadata": {},
   "outputs": [
    {
     "data": {
      "text/plain": [
       "['primary_cleaner.input.sulfate',\n",
       " 'primary_cleaner.input.depressant',\n",
       " 'primary_cleaner.input.feed_size',\n",
       " 'primary_cleaner.input.xanthate',\n",
       " 'primary_cleaner.state.floatbank8_a_air',\n",
       " 'primary_cleaner.state.floatbank8_a_level',\n",
       " 'primary_cleaner.state.floatbank8_b_air',\n",
       " 'primary_cleaner.state.floatbank8_b_level',\n",
       " 'primary_cleaner.state.floatbank8_c_air',\n",
       " 'primary_cleaner.state.floatbank8_c_level',\n",
       " 'primary_cleaner.state.floatbank8_d_air',\n",
       " 'primary_cleaner.state.floatbank8_d_level',\n",
       " 'rougher.input.feed_ag',\n",
       " 'rougher.input.feed_pb',\n",
       " 'rougher.input.feed_rate',\n",
       " 'rougher.input.feed_size',\n",
       " 'rougher.input.feed_sol',\n",
       " 'rougher.input.feed_au',\n",
       " 'rougher.input.floatbank10_sulfate',\n",
       " 'rougher.input.floatbank10_xanthate',\n",
       " 'rougher.input.floatbank11_sulfate',\n",
       " 'rougher.input.floatbank11_xanthate',\n",
       " 'rougher.state.floatbank10_a_air',\n",
       " 'rougher.state.floatbank10_a_level',\n",
       " 'rougher.state.floatbank10_b_air',\n",
       " 'rougher.state.floatbank10_b_level',\n",
       " 'rougher.state.floatbank10_c_air',\n",
       " 'rougher.state.floatbank10_c_level',\n",
       " 'rougher.state.floatbank10_d_air',\n",
       " 'rougher.state.floatbank10_d_level',\n",
       " 'rougher.state.floatbank10_e_air',\n",
       " 'rougher.state.floatbank10_e_level',\n",
       " 'rougher.state.floatbank10_f_air',\n",
       " 'rougher.state.floatbank10_f_level',\n",
       " 'secondary_cleaner.state.floatbank2_a_air',\n",
       " 'secondary_cleaner.state.floatbank2_a_level',\n",
       " 'secondary_cleaner.state.floatbank2_b_air',\n",
       " 'secondary_cleaner.state.floatbank2_b_level',\n",
       " 'secondary_cleaner.state.floatbank3_a_air',\n",
       " 'secondary_cleaner.state.floatbank3_a_level',\n",
       " 'secondary_cleaner.state.floatbank3_b_air',\n",
       " 'secondary_cleaner.state.floatbank3_b_level',\n",
       " 'secondary_cleaner.state.floatbank4_a_air',\n",
       " 'secondary_cleaner.state.floatbank4_a_level',\n",
       " 'secondary_cleaner.state.floatbank4_b_air',\n",
       " 'secondary_cleaner.state.floatbank4_b_level',\n",
       " 'secondary_cleaner.state.floatbank5_a_air',\n",
       " 'secondary_cleaner.state.floatbank5_a_level',\n",
       " 'secondary_cleaner.state.floatbank5_b_air',\n",
       " 'secondary_cleaner.state.floatbank5_b_level',\n",
       " 'secondary_cleaner.state.floatbank6_a_air',\n",
       " 'secondary_cleaner.state.floatbank6_a_level']"
      ]
     },
     "execution_count": 63,
     "metadata": {},
     "output_type": "execute_result"
    }
   ],
   "source": [
    "final_test_columns"
   ]
  },
  {
   "cell_type": "markdown",
   "metadata": {},
   "source": [
    "### Случайный лес"
   ]
  },
  {
   "cell_type": "markdown",
   "metadata": {},
   "source": [
    "Переберем гиперпараметры случайного леса в два этапа: сначала с большим шагом пробежимся по значениям четырех гиперпараметрах, чтобы определить приблизительное сочетание гиперпараметров, дающий наибольший score (R^2).  \n",
    "\n",
    "Поскольку расчет этого этапа занимает более часа, мы провели его у себя, сохранили получившуюся таблицу и делимся кодом и результатами с заказчиком в закомментированном виде."
   ]
  },
  {
   "cell_type": "code",
   "execution_count": 64,
   "metadata": {},
   "outputs": [
    {
     "name": "stdout",
     "output_type": "stream",
     "text": [
      "CPU times: user 0 ns, sys: 0 ns, total: 0 ns\n",
      "Wall time: 6.91 µs\n"
     ]
    }
   ],
   "source": [
    "%%time\n",
    "def param_forest(features, target):\n",
    "    forest_depth_col = []\n",
    "    forest_min_leaf_col = []\n",
    "    forest_min_split_col = []\n",
    "    forest_estim_col = []\n",
    "    forest_score_col = []\n",
    "    for depth in range(2,21,4):\n",
    "        for n_estim in range(20, 121, 20):\n",
    "            for min_leaf in range (1,13,3):\n",
    "                for min_split in range (2,13,3):\n",
    "                    forest = RandomForestRegressor(n_estimators = n_estim, \n",
    "                                                   max_depth = depth, \n",
    "                                                   min_samples_split = min_split, \n",
    "                                                   min_samples_leaf = min_leaf, \n",
    "                                                   random_state = random)\n",
    "                    forest_predicted = cross_val_predict(forest, features, target, cv = 3)\n",
    "                    forest_score = sMAPE2(target, forest_predicted)\n",
    "                    forest_depth_col.append(depth)\n",
    "                    forest_min_leaf_col.append(min_leaf)\n",
    "                    forest_min_split_col.append(min_split)\n",
    "                    forest_estim_col.append(n_estim)\n",
    "                    forest_score_col.append(forest_score)\n",
    "    forest_hyperparameters_dict = {'max_depth': forest_depth_col, 'n_estimators': forest_estim_col, 'min_samples_split': forest_min_split_col, 'min_samples_leaf': forest_min_leaf_col, 'score': forest_score_col}\n",
    "    forest_hyperparameters = pd.DataFrame(data = forest_hyperparameters_dict)\n",
    "    return forest_hyperparameters\n",
    "\n"
   ]
  },
  {
   "cell_type": "code",
   "execution_count": 65,
   "metadata": {
    "scrolled": false
   },
   "outputs": [
    {
     "name": "stdout",
     "output_type": "stream",
     "text": [
      "CPU times: user 10min 36s, sys: 1.78 s, total: 10min 38s\n",
      "Wall time: 10min 39s\n"
     ]
    },
    {
     "data": {
      "text/html": [
       "<div>\n",
       "<style scoped>\n",
       "    .dataframe tbody tr th:only-of-type {\n",
       "        vertical-align: middle;\n",
       "    }\n",
       "\n",
       "    .dataframe tbody tr th {\n",
       "        vertical-align: top;\n",
       "    }\n",
       "\n",
       "    .dataframe thead th {\n",
       "        text-align: right;\n",
       "    }\n",
       "</style>\n",
       "<table border=\"1\" class=\"dataframe\">\n",
       "  <thead>\n",
       "    <tr style=\"text-align: right;\">\n",
       "      <th></th>\n",
       "      <th>max_depth</th>\n",
       "      <th>n_estimators</th>\n",
       "      <th>min_samples_split</th>\n",
       "      <th>min_samples_leaf</th>\n",
       "      <th>score</th>\n",
       "    </tr>\n",
       "  </thead>\n",
       "  <tbody>\n",
       "    <tr>\n",
       "      <td>64</td>\n",
       "      <td>2</td>\n",
       "      <td>100</td>\n",
       "      <td>2</td>\n",
       "      <td>1</td>\n",
       "      <td>43.568173</td>\n",
       "    </tr>\n",
       "    <tr>\n",
       "      <td>65</td>\n",
       "      <td>2</td>\n",
       "      <td>100</td>\n",
       "      <td>5</td>\n",
       "      <td>1</td>\n",
       "      <td>43.568173</td>\n",
       "    </tr>\n",
       "    <tr>\n",
       "      <td>66</td>\n",
       "      <td>2</td>\n",
       "      <td>100</td>\n",
       "      <td>8</td>\n",
       "      <td>1</td>\n",
       "      <td>43.568173</td>\n",
       "    </tr>\n",
       "    <tr>\n",
       "      <td>67</td>\n",
       "      <td>2</td>\n",
       "      <td>100</td>\n",
       "      <td>11</td>\n",
       "      <td>1</td>\n",
       "      <td>43.568173</td>\n",
       "    </tr>\n",
       "    <tr>\n",
       "      <td>71</td>\n",
       "      <td>2</td>\n",
       "      <td>100</td>\n",
       "      <td>11</td>\n",
       "      <td>4</td>\n",
       "      <td>43.590249</td>\n",
       "    </tr>\n",
       "    <tr>\n",
       "      <td>69</td>\n",
       "      <td>2</td>\n",
       "      <td>100</td>\n",
       "      <td>5</td>\n",
       "      <td>4</td>\n",
       "      <td>43.590249</td>\n",
       "    </tr>\n",
       "    <tr>\n",
       "      <td>68</td>\n",
       "      <td>2</td>\n",
       "      <td>100</td>\n",
       "      <td>2</td>\n",
       "      <td>4</td>\n",
       "      <td>43.590249</td>\n",
       "    </tr>\n",
       "    <tr>\n",
       "      <td>70</td>\n",
       "      <td>2</td>\n",
       "      <td>100</td>\n",
       "      <td>8</td>\n",
       "      <td>4</td>\n",
       "      <td>43.590249</td>\n",
       "    </tr>\n",
       "    <tr>\n",
       "      <td>80</td>\n",
       "      <td>2</td>\n",
       "      <td>120</td>\n",
       "      <td>2</td>\n",
       "      <td>1</td>\n",
       "      <td>43.600508</td>\n",
       "    </tr>\n",
       "    <tr>\n",
       "      <td>81</td>\n",
       "      <td>2</td>\n",
       "      <td>120</td>\n",
       "      <td>5</td>\n",
       "      <td>1</td>\n",
       "      <td>43.600508</td>\n",
       "    </tr>\n",
       "    <tr>\n",
       "      <td>82</td>\n",
       "      <td>2</td>\n",
       "      <td>120</td>\n",
       "      <td>8</td>\n",
       "      <td>1</td>\n",
       "      <td>43.600508</td>\n",
       "    </tr>\n",
       "    <tr>\n",
       "      <td>83</td>\n",
       "      <td>2</td>\n",
       "      <td>120</td>\n",
       "      <td>11</td>\n",
       "      <td>1</td>\n",
       "      <td>43.600508</td>\n",
       "    </tr>\n",
       "    <tr>\n",
       "      <td>84</td>\n",
       "      <td>2</td>\n",
       "      <td>120</td>\n",
       "      <td>2</td>\n",
       "      <td>4</td>\n",
       "      <td>43.605608</td>\n",
       "    </tr>\n",
       "    <tr>\n",
       "      <td>85</td>\n",
       "      <td>2</td>\n",
       "      <td>120</td>\n",
       "      <td>5</td>\n",
       "      <td>4</td>\n",
       "      <td>43.605608</td>\n",
       "    </tr>\n",
       "    <tr>\n",
       "      <td>87</td>\n",
       "      <td>2</td>\n",
       "      <td>120</td>\n",
       "      <td>11</td>\n",
       "      <td>4</td>\n",
       "      <td>43.605608</td>\n",
       "    </tr>\n",
       "    <tr>\n",
       "      <td>86</td>\n",
       "      <td>2</td>\n",
       "      <td>120</td>\n",
       "      <td>8</td>\n",
       "      <td>4</td>\n",
       "      <td>43.605608</td>\n",
       "    </tr>\n",
       "    <tr>\n",
       "      <td>92</td>\n",
       "      <td>2</td>\n",
       "      <td>120</td>\n",
       "      <td>2</td>\n",
       "      <td>10</td>\n",
       "      <td>43.742080</td>\n",
       "    </tr>\n",
       "    <tr>\n",
       "      <td>93</td>\n",
       "      <td>2</td>\n",
       "      <td>120</td>\n",
       "      <td>5</td>\n",
       "      <td>10</td>\n",
       "      <td>43.742080</td>\n",
       "    </tr>\n",
       "    <tr>\n",
       "      <td>94</td>\n",
       "      <td>2</td>\n",
       "      <td>120</td>\n",
       "      <td>8</td>\n",
       "      <td>10</td>\n",
       "      <td>43.742080</td>\n",
       "    </tr>\n",
       "    <tr>\n",
       "      <td>95</td>\n",
       "      <td>2</td>\n",
       "      <td>120</td>\n",
       "      <td>11</td>\n",
       "      <td>10</td>\n",
       "      <td>43.742080</td>\n",
       "    </tr>\n",
       "  </tbody>\n",
       "</table>\n",
       "</div>"
      ],
      "text/plain": [
       "    max_depth  n_estimators  min_samples_split  min_samples_leaf      score\n",
       "64          2           100                  2                 1  43.568173\n",
       "65          2           100                  5                 1  43.568173\n",
       "66          2           100                  8                 1  43.568173\n",
       "67          2           100                 11                 1  43.568173\n",
       "71          2           100                 11                 4  43.590249\n",
       "69          2           100                  5                 4  43.590249\n",
       "68          2           100                  2                 4  43.590249\n",
       "70          2           100                  8                 4  43.590249\n",
       "80          2           120                  2                 1  43.600508\n",
       "81          2           120                  5                 1  43.600508\n",
       "82          2           120                  8                 1  43.600508\n",
       "83          2           120                 11                 1  43.600508\n",
       "84          2           120                  2                 4  43.605608\n",
       "85          2           120                  5                 4  43.605608\n",
       "87          2           120                 11                 4  43.605608\n",
       "86          2           120                  8                 4  43.605608\n",
       "92          2           120                  2                10  43.742080\n",
       "93          2           120                  5                10  43.742080\n",
       "94          2           120                  8                10  43.742080\n",
       "95          2           120                 11                10  43.742080"
      ]
     },
     "execution_count": 65,
     "metadata": {},
     "output_type": "execute_result"
    }
   ],
   "source": [
    "#%%time\n",
    "#rougher_param = param_forest(rougher_features_train, rougher_target_train)\n",
    "#rougher_param.sort_values(by = 'score', ascending = True).head(20)\n",
    "\n",
    "#CPU times: user 5min 50s, sys: 1.68 s, total: 5min 52s\n",
    "#Wall time: 5min 57s\n",
    "\n",
    "#\tmax_depth \tn_estimators \tmin_samples_split \tmin_samples_leaf \tscore\n",
    "#22 \t2 \t40 \t8 \t4 \t79.649514\n",
    "#31 \t2 \t40 \t11 \t10 \t79.649514\n",
    "#30 \t2 \t40 \t8 \t10 \t79.649514\n",
    "#29 \t2 \t40 \t5 \t10 \t79.649514\n",
    "#28 \t2 \t40 \t2 \t10 \t79.649514\n",
    "#27 \t2 \t40 \t11 \t7 \t79.649514\n",
    "#26 \t2 \t40 \t8 \t7 \t79.649514\n",
    "#25 \t2 \t40 \t5 \t7 \t79.649514\n",
    "#24 \t2 \t40 \t2 \t7 \t79.649514\n",
    "#23 \t2 \t40 \t11 \t4 \t79.649514\n",
    "#21 \t2 \t40 \t5 \t4 \t79.649514\n",
    "#20 \t2 \t40 \t2 \t4 \t79.649514\n",
    "#19 \t2 \t40 \t11 \t1 \t79.649514\n",
    "#18 \t2 \t40 \t8 \t1 \t79.649514\n",
    "#17 \t2 \t40 \t5 \t1 \t79.649514\n",
    "#16 \t2 \t40 \t2 \t1 \t79.649514\n",
    "#79 \t2 \t100 \t11 \t10 \t79.981162\n",
    "#76 \t2 \t100 \t2 \t10 \t79.981162\n",
    "#77 \t2 \t100 \t5 \t10 \t79.981162\n",
    "#78 \t2 \t100 \t8 \t10 \t79.981162"
   ]
  },
  {
   "cell_type": "code",
   "execution_count": 66,
   "metadata": {},
   "outputs": [],
   "source": [
    "#%%time\n",
    "#final_param = param_forest(final_features_train, final_target_train)\n",
    "#final_param.sort_values(by = 'score', ascending = True).head(20)\n",
    "\n",
    "#CPU times: user 12min 13s, sys: 1.83 s, total: 12min 15s\n",
    "#Wall time: 12min 18s\n",
    "\n",
    "#\tmax_depth \tn_estimators \tmin_samples_split \tmin_samples_leaf \tscore\n",
    "#4 \t2 \t20 \t2 \t4 \t16.423947\n",
    "#5 \t2 \t20 \t5 \t4 \t16.423947\n",
    "#6 \t2 \t20 \t8 \t4 \t16.423947\n",
    "#39 \t2 \t60 \t11 \t4 \t16.451361\n",
    "#51 \t2 \t80 \t11 \t1 \t16.630084\n",
    "#7 \t2 \t20 \t11 \t4 \t16.683154\n",
    "#3 \t2 \t20 \t11 \t1 \t16.684569\n",
    "#35 \t2 \t60 \t11 \t1 \t16.698836\n",
    "#1 \t2 \t20 \t5 \t1 \t16.725228\n",
    "#2 \t2 \t20 \t8 \t1 \t16.725228\n",
    "#19 \t2 \t40 \t11 \t1 \t16.754726\n",
    "#23 \t2 \t40 \t11 \t4 \t16.781264\n",
    "#55 \t2 \t80 \t11 \t4 \t16.843677\n",
    "#199 \t10 \t20 \t11 \t4 \t16.859050\n",
    "#38 \t2 \t60 \t8 \t4 \t16.882276\n",
    "#36 \t2 \t60 \t2 \t4 \t16.882276\n",
    "#37 \t2 \t60 \t5 \t4 \t16.882276\n",
    "#0 \t2 \t20 \t2 \t1 \t16.912904\n",
    "#50 \t2 \t80 \t8 \t1 \t16.988995\n",
    "#49 \t2 \t80 \t5 \t1 \t17.012071"
   ]
  },
  {
   "cell_type": "markdown",
   "metadata": {},
   "source": [
    "Проследив некоторые тенденции - например, что на score почти не влияет min_samples split, зато min_samples_leaf у всех моделей с максимальным score одинаковый - мы можем точнее определить диапазоны значений гиперпараметров и попроборвать подобрать сочетание для более высокого score. "
   ]
  },
  {
   "cell_type": "code",
   "execution_count": 67,
   "metadata": {},
   "outputs": [
    {
     "name": "stdout",
     "output_type": "stream",
     "text": [
      "CPU times: user 0 ns, sys: 0 ns, total: 0 ns\n",
      "Wall time: 8.11 µs\n"
     ]
    }
   ],
   "source": [
    "%%time\n",
    "def rougher_forest(features, target):\n",
    "    forest_depth_col = []\n",
    "    forest_split_col = []\n",
    "    forest_estim_col = []\n",
    "    forest_leaf_col = []\n",
    "    forest_score_col = []\n",
    "    for depth in range(1,4,1):\n",
    "        for split in range(2,8,1):\n",
    "            for leaf in range(1,5,1):\n",
    "                for n_estim in range(95, 125, 2):\n",
    "                    forest = RandomForestRegressor(n_estimators = n_estim, \n",
    "                                                   max_depth = depth, \n",
    "                                                   min_samples_split = split, \n",
    "                                                   min_samples_leaf = leaf, \n",
    "                                                   random_state = random)\n",
    "                    forest_predicted = cross_val_predict(forest, features, target, cv = 3)\n",
    "                    forest_score = sMAPE2(target, forest_predicted)\n",
    "                    forest_depth_col.append(depth)\n",
    "                    forest_estim_col.append(n_estim)\n",
    "                    forest_split_col.append(split)\n",
    "                    forest_leaf_col.append(leaf)\n",
    "                    forest_score_col.append(forest_score)\n",
    "    rougher_forest_hyperparameters_dict = {'max_depth': forest_depth_col, 'n_estimators': forest_estim_col, 'min_samples_split': forest_split_col, 'min_samples_leaf': forest_leaf_col, 'score': forest_score_col}\n",
    "    rougher_forest_hyperparameters = pd.DataFrame(data = rougher_forest_hyperparameters_dict)\n",
    "    return rougher_forest_hyperparameters"
   ]
  },
  {
   "cell_type": "code",
   "execution_count": 68,
   "metadata": {},
   "outputs": [
    {
     "name": "stdout",
     "output_type": "stream",
     "text": [
      "CPU times: user 0 ns, sys: 0 ns, total: 0 ns\n",
      "Wall time: 8.34 µs\n"
     ]
    }
   ],
   "source": [
    "%%time\n",
    "def final_forest(features, target):\n",
    "    forest_depth_col = []\n",
    "    forest_split_col = []\n",
    "    forest_leaf_col = []\n",
    "    forest_estim_col = []\n",
    "    forest_score_col = []\n",
    "    for depth in range (1,4,1):\n",
    "        for split in range(2,8,1):\n",
    "            for leaf in range(6,11,1):\n",
    "                for n_estim in range(15, 45, 2):\n",
    "                    forest = RandomForestRegressor(n_estimators = n_estim, \n",
    "                                                   max_depth = depth, \n",
    "                                                   min_samples_split = split, \n",
    "                                                   min_samples_leaf = leaf, \n",
    "                                                   random_state = random)\n",
    "                    forest_predicted = cross_val_predict(forest, features, target, cv = 3)\n",
    "                    forest_score = sMAPE2(target, forest_predicted)\n",
    "                    forest_depth_col.append(depth)\n",
    "                    forest_split_col.append(split)\n",
    "                    forest_leaf_col.append(leaf)\n",
    "                    forest_estim_col.append(n_estim)\n",
    "                    forest_score_col.append(forest_score)\n",
    "    final_forest_hyperparameters_dict = {'max_depth': forest_depth_col, 'n_estimators': forest_estim_col, 'min_samples_split': forest_split_col, 'min_samples_leaf': forest_leaf_col, 'score': forest_score_col}\n",
    "    final_forest_hyperparameters = pd.DataFrame(data = final_forest_hyperparameters_dict)\n",
    "    return final_forest_hyperparameters"
   ]
  },
  {
   "cell_type": "markdown",
   "metadata": {},
   "source": [
    "(Мы закомментим блоки с выводом моделей, не использующихся для дальнейшей настройки гиперпараметров, чтобы сохранить время проверяющим)"
   ]
  },
  {
   "cell_type": "code",
   "execution_count": 69,
   "metadata": {},
   "outputs": [
    {
     "name": "stdout",
     "output_type": "stream",
     "text": [
      "CPU times: user 18min 52s, sys: 5.75 s, total: 18min 58s\n",
      "Wall time: 19min 13s\n"
     ]
    },
    {
     "data": {
      "text/html": [
       "<div>\n",
       "<style scoped>\n",
       "    .dataframe tbody tr th:only-of-type {\n",
       "        vertical-align: middle;\n",
       "    }\n",
       "\n",
       "    .dataframe tbody tr th {\n",
       "        vertical-align: top;\n",
       "    }\n",
       "\n",
       "    .dataframe thead th {\n",
       "        text-align: right;\n",
       "    }\n",
       "</style>\n",
       "<table border=\"1\" class=\"dataframe\">\n",
       "  <thead>\n",
       "    <tr style=\"text-align: right;\">\n",
       "      <th></th>\n",
       "      <th>max_depth</th>\n",
       "      <th>n_estimators</th>\n",
       "      <th>min_samples_split</th>\n",
       "      <th>min_samples_leaf</th>\n",
       "      <th>score</th>\n",
       "    </tr>\n",
       "  </thead>\n",
       "  <tbody>\n",
       "    <tr>\n",
       "      <td>368</td>\n",
       "      <td>2</td>\n",
       "      <td>111</td>\n",
       "      <td>2</td>\n",
       "      <td>1</td>\n",
       "      <td>43.559642</td>\n",
       "    </tr>\n",
       "    <tr>\n",
       "      <td>548</td>\n",
       "      <td>2</td>\n",
       "      <td>111</td>\n",
       "      <td>5</td>\n",
       "      <td>1</td>\n",
       "      <td>43.559642</td>\n",
       "    </tr>\n",
       "    <tr>\n",
       "      <td>428</td>\n",
       "      <td>2</td>\n",
       "      <td>111</td>\n",
       "      <td>3</td>\n",
       "      <td>1</td>\n",
       "      <td>43.559642</td>\n",
       "    </tr>\n",
       "    <tr>\n",
       "      <td>668</td>\n",
       "      <td>2</td>\n",
       "      <td>111</td>\n",
       "      <td>7</td>\n",
       "      <td>1</td>\n",
       "      <td>43.559642</td>\n",
       "    </tr>\n",
       "    <tr>\n",
       "      <td>608</td>\n",
       "      <td>2</td>\n",
       "      <td>111</td>\n",
       "      <td>6</td>\n",
       "      <td>1</td>\n",
       "      <td>43.559642</td>\n",
       "    </tr>\n",
       "    <tr>\n",
       "      <td>488</td>\n",
       "      <td>2</td>\n",
       "      <td>111</td>\n",
       "      <td>4</td>\n",
       "      <td>1</td>\n",
       "      <td>43.559642</td>\n",
       "    </tr>\n",
       "    <tr>\n",
       "      <td>473</td>\n",
       "      <td>2</td>\n",
       "      <td>111</td>\n",
       "      <td>3</td>\n",
       "      <td>4</td>\n",
       "      <td>43.560841</td>\n",
       "    </tr>\n",
       "    <tr>\n",
       "      <td>653</td>\n",
       "      <td>2</td>\n",
       "      <td>111</td>\n",
       "      <td>6</td>\n",
       "      <td>4</td>\n",
       "      <td>43.560841</td>\n",
       "    </tr>\n",
       "    <tr>\n",
       "      <td>713</td>\n",
       "      <td>2</td>\n",
       "      <td>111</td>\n",
       "      <td>7</td>\n",
       "      <td>4</td>\n",
       "      <td>43.560841</td>\n",
       "    </tr>\n",
       "    <tr>\n",
       "      <td>533</td>\n",
       "      <td>2</td>\n",
       "      <td>111</td>\n",
       "      <td>4</td>\n",
       "      <td>4</td>\n",
       "      <td>43.560841</td>\n",
       "    </tr>\n",
       "    <tr>\n",
       "      <td>593</td>\n",
       "      <td>2</td>\n",
       "      <td>111</td>\n",
       "      <td>5</td>\n",
       "      <td>4</td>\n",
       "      <td>43.560841</td>\n",
       "    </tr>\n",
       "    <tr>\n",
       "      <td>413</td>\n",
       "      <td>2</td>\n",
       "      <td>111</td>\n",
       "      <td>2</td>\n",
       "      <td>4</td>\n",
       "      <td>43.560841</td>\n",
       "    </tr>\n",
       "    <tr>\n",
       "      <td>503</td>\n",
       "      <td>2</td>\n",
       "      <td>111</td>\n",
       "      <td>4</td>\n",
       "      <td>2</td>\n",
       "      <td>43.562938</td>\n",
       "    </tr>\n",
       "    <tr>\n",
       "      <td>443</td>\n",
       "      <td>2</td>\n",
       "      <td>111</td>\n",
       "      <td>3</td>\n",
       "      <td>2</td>\n",
       "      <td>43.562938</td>\n",
       "    </tr>\n",
       "    <tr>\n",
       "      <td>563</td>\n",
       "      <td>2</td>\n",
       "      <td>111</td>\n",
       "      <td>5</td>\n",
       "      <td>2</td>\n",
       "      <td>43.562938</td>\n",
       "    </tr>\n",
       "    <tr>\n",
       "      <td>683</td>\n",
       "      <td>2</td>\n",
       "      <td>111</td>\n",
       "      <td>7</td>\n",
       "      <td>2</td>\n",
       "      <td>43.562938</td>\n",
       "    </tr>\n",
       "    <tr>\n",
       "      <td>623</td>\n",
       "      <td>2</td>\n",
       "      <td>111</td>\n",
       "      <td>6</td>\n",
       "      <td>2</td>\n",
       "      <td>43.562938</td>\n",
       "    </tr>\n",
       "    <tr>\n",
       "      <td>383</td>\n",
       "      <td>2</td>\n",
       "      <td>111</td>\n",
       "      <td>2</td>\n",
       "      <td>2</td>\n",
       "      <td>43.562938</td>\n",
       "    </tr>\n",
       "    <tr>\n",
       "      <td>549</td>\n",
       "      <td>2</td>\n",
       "      <td>113</td>\n",
       "      <td>5</td>\n",
       "      <td>1</td>\n",
       "      <td>43.564818</td>\n",
       "    </tr>\n",
       "    <tr>\n",
       "      <td>609</td>\n",
       "      <td>2</td>\n",
       "      <td>113</td>\n",
       "      <td>6</td>\n",
       "      <td>1</td>\n",
       "      <td>43.564818</td>\n",
       "    </tr>\n",
       "  </tbody>\n",
       "</table>\n",
       "</div>"
      ],
      "text/plain": [
       "     max_depth  n_estimators  min_samples_split  min_samples_leaf      score\n",
       "368          2           111                  2                 1  43.559642\n",
       "548          2           111                  5                 1  43.559642\n",
       "428          2           111                  3                 1  43.559642\n",
       "668          2           111                  7                 1  43.559642\n",
       "608          2           111                  6                 1  43.559642\n",
       "488          2           111                  4                 1  43.559642\n",
       "473          2           111                  3                 4  43.560841\n",
       "653          2           111                  6                 4  43.560841\n",
       "713          2           111                  7                 4  43.560841\n",
       "533          2           111                  4                 4  43.560841\n",
       "593          2           111                  5                 4  43.560841\n",
       "413          2           111                  2                 4  43.560841\n",
       "503          2           111                  4                 2  43.562938\n",
       "443          2           111                  3                 2  43.562938\n",
       "563          2           111                  5                 2  43.562938\n",
       "683          2           111                  7                 2  43.562938\n",
       "623          2           111                  6                 2  43.562938\n",
       "383          2           111                  2                 2  43.562938\n",
       "549          2           113                  5                 1  43.564818\n",
       "609          2           113                  6                 1  43.564818"
      ]
     },
     "execution_count": 69,
     "metadata": {},
     "output_type": "execute_result"
    }
   ],
   "source": [
    "%%time\n",
    "\n",
    "rougher_param2 = rougher_forest(rougher_features_train, rougher_target_train)\n",
    "rougher_param2.sort_values(by = 'score', ascending = True).head(20)\n",
    "\n",
    "#CPU times: user 21min 29s, sys: 5.99 s, total: 21min 35s\n",
    "#Wall time: 21min 52s\n",
    "\n",
    "#\tmax_depth \tn_estimators \tmin_samples_split \tmin_samples_leaf \tscore\n",
    "#368 \t2 \t111 \t2 \t1 \t43.559642\n",
    "#548 \t2 \t111 \t5 \t1 \t43.559642\n",
    "#428 \t2 \t111 \t3 \t1 \t43.559642\n",
    "#668 \t2 \t111 \t7 \t1 \t43.559642\n",
    "#608 \t2 \t111 \t6 \t1 \t43.559642\n",
    "#488 \t2 \t111 \t4 \t1 \t43.559642\n",
    "#473 \t2 \t111 \t3 \t4 \t43.560841\n",
    "#653 \t2 \t111 \t6 \t4 \t43.560841\n",
    "#713 \t2 \t111 \t7 \t4 \t43.560841\n",
    "#533 \t2 \t111 \t4 \t4 \t43.560841\n",
    "#593 \t2 \t111 \t5 \t4 \t43.560841\n",
    "#413 \t2 \t111 \t2 \t4 \t43.560841\n",
    "#503 \t2 \t111 \t4 \t2 \t43.562938\n",
    "#443 \t2 \t111 \t3 \t2 \t43.562938\n",
    "#563 \t2 \t111 \t5 \t2 \t43.562938\n",
    "#683 \t2 \t111 \t7 \t2 \t43.562938\n",
    "#623 \t2 \t111 \t6 \t2 \t43.562938\n",
    "#383 \t2 \t111 \t2 \t2 \t43.562938\n",
    "#549 \t2 \t113 \t5 \t1 \t43.564818\n",
    "#609 \t2 \t113 \t6 \t1 \t43.564818"
   ]
  },
  {
   "cell_type": "code",
   "execution_count": 70,
   "metadata": {},
   "outputs": [
    {
     "name": "stdout",
     "output_type": "stream",
     "text": [
      "CPU times: user 11min 2s, sys: 2.04 s, total: 11min 4s\n",
      "Wall time: 11min 15s\n"
     ]
    },
    {
     "data": {
      "text/html": [
       "<div>\n",
       "<style scoped>\n",
       "    .dataframe tbody tr th:only-of-type {\n",
       "        vertical-align: middle;\n",
       "    }\n",
       "\n",
       "    .dataframe tbody tr th {\n",
       "        vertical-align: top;\n",
       "    }\n",
       "\n",
       "    .dataframe thead th {\n",
       "        text-align: right;\n",
       "    }\n",
       "</style>\n",
       "<table border=\"1\" class=\"dataframe\">\n",
       "  <thead>\n",
       "    <tr style=\"text-align: right;\">\n",
       "      <th></th>\n",
       "      <th>max_depth</th>\n",
       "      <th>n_estimators</th>\n",
       "      <th>min_samples_split</th>\n",
       "      <th>min_samples_leaf</th>\n",
       "      <th>score</th>\n",
       "    </tr>\n",
       "  </thead>\n",
       "  <tbody>\n",
       "    <tr>\n",
       "      <td>631</td>\n",
       "      <td>2</td>\n",
       "      <td>17</td>\n",
       "      <td>4</td>\n",
       "      <td>8</td>\n",
       "      <td>15.159747</td>\n",
       "    </tr>\n",
       "    <tr>\n",
       "      <td>556</td>\n",
       "      <td>2</td>\n",
       "      <td>17</td>\n",
       "      <td>3</td>\n",
       "      <td>8</td>\n",
       "      <td>15.159747</td>\n",
       "    </tr>\n",
       "    <tr>\n",
       "      <td>706</td>\n",
       "      <td>2</td>\n",
       "      <td>17</td>\n",
       "      <td>5</td>\n",
       "      <td>8</td>\n",
       "      <td>15.159747</td>\n",
       "    </tr>\n",
       "    <tr>\n",
       "      <td>856</td>\n",
       "      <td>2</td>\n",
       "      <td>17</td>\n",
       "      <td>7</td>\n",
       "      <td>8</td>\n",
       "      <td>15.159747</td>\n",
       "    </tr>\n",
       "    <tr>\n",
       "      <td>781</td>\n",
       "      <td>2</td>\n",
       "      <td>17</td>\n",
       "      <td>6</td>\n",
       "      <td>8</td>\n",
       "      <td>15.159747</td>\n",
       "    </tr>\n",
       "    <tr>\n",
       "      <td>481</td>\n",
       "      <td>2</td>\n",
       "      <td>17</td>\n",
       "      <td>2</td>\n",
       "      <td>8</td>\n",
       "      <td>15.159747</td>\n",
       "    </tr>\n",
       "    <tr>\n",
       "      <td>691</td>\n",
       "      <td>2</td>\n",
       "      <td>17</td>\n",
       "      <td>5</td>\n",
       "      <td>7</td>\n",
       "      <td>15.352722</td>\n",
       "    </tr>\n",
       "    <tr>\n",
       "      <td>616</td>\n",
       "      <td>2</td>\n",
       "      <td>17</td>\n",
       "      <td>4</td>\n",
       "      <td>7</td>\n",
       "      <td>15.352722</td>\n",
       "    </tr>\n",
       "    <tr>\n",
       "      <td>841</td>\n",
       "      <td>2</td>\n",
       "      <td>17</td>\n",
       "      <td>7</td>\n",
       "      <td>7</td>\n",
       "      <td>15.352722</td>\n",
       "    </tr>\n",
       "    <tr>\n",
       "      <td>541</td>\n",
       "      <td>2</td>\n",
       "      <td>17</td>\n",
       "      <td>3</td>\n",
       "      <td>7</td>\n",
       "      <td>15.352722</td>\n",
       "    </tr>\n",
       "    <tr>\n",
       "      <td>766</td>\n",
       "      <td>2</td>\n",
       "      <td>17</td>\n",
       "      <td>6</td>\n",
       "      <td>7</td>\n",
       "      <td>15.352722</td>\n",
       "    </tr>\n",
       "    <tr>\n",
       "      <td>466</td>\n",
       "      <td>2</td>\n",
       "      <td>17</td>\n",
       "      <td>2</td>\n",
       "      <td>7</td>\n",
       "      <td>15.352722</td>\n",
       "    </tr>\n",
       "    <tr>\n",
       "      <td>480</td>\n",
       "      <td>2</td>\n",
       "      <td>15</td>\n",
       "      <td>2</td>\n",
       "      <td>8</td>\n",
       "      <td>15.430365</td>\n",
       "    </tr>\n",
       "    <tr>\n",
       "      <td>630</td>\n",
       "      <td>2</td>\n",
       "      <td>15</td>\n",
       "      <td>4</td>\n",
       "      <td>8</td>\n",
       "      <td>15.430365</td>\n",
       "    </tr>\n",
       "    <tr>\n",
       "      <td>705</td>\n",
       "      <td>2</td>\n",
       "      <td>15</td>\n",
       "      <td>5</td>\n",
       "      <td>8</td>\n",
       "      <td>15.430365</td>\n",
       "    </tr>\n",
       "    <tr>\n",
       "      <td>780</td>\n",
       "      <td>2</td>\n",
       "      <td>15</td>\n",
       "      <td>6</td>\n",
       "      <td>8</td>\n",
       "      <td>15.430365</td>\n",
       "    </tr>\n",
       "    <tr>\n",
       "      <td>555</td>\n",
       "      <td>2</td>\n",
       "      <td>15</td>\n",
       "      <td>3</td>\n",
       "      <td>8</td>\n",
       "      <td>15.430365</td>\n",
       "    </tr>\n",
       "    <tr>\n",
       "      <td>855</td>\n",
       "      <td>2</td>\n",
       "      <td>15</td>\n",
       "      <td>7</td>\n",
       "      <td>8</td>\n",
       "      <td>15.430365</td>\n",
       "    </tr>\n",
       "    <tr>\n",
       "      <td>321</td>\n",
       "      <td>1</td>\n",
       "      <td>27</td>\n",
       "      <td>6</td>\n",
       "      <td>7</td>\n",
       "      <td>15.477036</td>\n",
       "    </tr>\n",
       "    <tr>\n",
       "      <td>171</td>\n",
       "      <td>1</td>\n",
       "      <td>27</td>\n",
       "      <td>4</td>\n",
       "      <td>7</td>\n",
       "      <td>15.477036</td>\n",
       "    </tr>\n",
       "  </tbody>\n",
       "</table>\n",
       "</div>"
      ],
      "text/plain": [
       "     max_depth  n_estimators  min_samples_split  min_samples_leaf      score\n",
       "631          2            17                  4                 8  15.159747\n",
       "556          2            17                  3                 8  15.159747\n",
       "706          2            17                  5                 8  15.159747\n",
       "856          2            17                  7                 8  15.159747\n",
       "781          2            17                  6                 8  15.159747\n",
       "481          2            17                  2                 8  15.159747\n",
       "691          2            17                  5                 7  15.352722\n",
       "616          2            17                  4                 7  15.352722\n",
       "841          2            17                  7                 7  15.352722\n",
       "541          2            17                  3                 7  15.352722\n",
       "766          2            17                  6                 7  15.352722\n",
       "466          2            17                  2                 7  15.352722\n",
       "480          2            15                  2                 8  15.430365\n",
       "630          2            15                  4                 8  15.430365\n",
       "705          2            15                  5                 8  15.430365\n",
       "780          2            15                  6                 8  15.430365\n",
       "555          2            15                  3                 8  15.430365\n",
       "855          2            15                  7                 8  15.430365\n",
       "321          1            27                  6                 7  15.477036\n",
       "171          1            27                  4                 7  15.477036"
      ]
     },
     "execution_count": 70,
     "metadata": {},
     "output_type": "execute_result"
    }
   ],
   "source": [
    "%%time\n",
    "\n",
    "final_param2 = final_forest(final_features_train, final_target_train)\n",
    "final_param2.sort_values(by = 'score', ascending = True).head(20)\n",
    "\n",
    "#CPU times: user 10min 50s, sys: 2.76 s, total: 10min 53s\n",
    "#Wall time: 10min 55s\n",
    "\n",
    "#\tmax_depth \tn_estimators \tmin_samples_split \tmin_samples_leaf \tscore\n",
    "#631 \t2 \t17 \t4 \t8 \t15.159747\n",
    "#556 \t2 \t17 \t3 \t8 \t15.159747\n",
    "#706 \t2 \t17 \t5 \t8 \t15.159747\n",
    "#856 \t2 \t17 \t7 \t8 \t15.159747\n",
    "#781 \t2 \t17 \t6 \t8 \t15.159747\n",
    "#481 \t2 \t17 \t2 \t8 \t15.159747\n",
    "#691 \t2 \t17 \t5 \t7 \t15.352722\n",
    "#616 \t2 \t17 \t4 \t7 \t15.352722\n",
    "#841 \t2 \t17 \t7 \t7 \t15.352722\n",
    "#541 \t2 \t17 \t3 \t7 \t15.352722\n",
    "#766 \t2 \t17 \t6 \t7 \t15.352722\n",
    "#466 \t2 \t17 \t2 \t7 \t15.352722\n",
    "#480 \t2 \t15 \t2 \t8 \t15.430365\n",
    "#630 \t2 \t15 \t4 \t8 \t15.430365\n",
    "#705 \t2 \t15 \t5 \t8 \t15.430365\n",
    "#780 \t2 \t15 \t6 \t8 \t15.430365\n",
    "#555 \t2 \t15 \t3 \t8 \t15.430365\n",
    "#855 \t2 \t15 \t7 \t8 \t15.430365\n",
    "#321 \t1 \t27 \t6 \t7 \t15.477036\n",
    "#171 \t1 \t27 \t4 \t7 \t15.477036"
   ]
  },
  {
   "cell_type": "markdown",
   "metadata": {},
   "source": [
    "К сожалению, хоть нам и удалось улучшить sMAPE для rougher.output.recovery и final.output.recovery, но совсем незначительно.  \n",
    "Однако мы исчерпали не все возможности. Проверим, улучшает ли качество прогноза масштабирование признаков."
   ]
  },
  {
   "cell_type": "code",
   "execution_count": 71,
   "metadata": {},
   "outputs": [
    {
     "name": "stdout",
     "output_type": "stream",
     "text": [
      "CPU times: user 8 ms, sys: 0 ns, total: 8 ms\n",
      "Wall time: 7.02 ms\n"
     ]
    }
   ],
   "source": [
    "%%time\n",
    "rougher_scaler = StandardScaler()\n",
    "rougher_scaler.fit(rougher_features_train)\n",
    "rougher_features_train_scaled = rougher_scaler.transform(rougher_features_train)\n",
    "final_scaler = StandardScaler()\n",
    "final_scaler.fit(final_features_train)\n",
    "final_features_train_scaled = final_scaler.transform(final_features_train)"
   ]
  },
  {
   "cell_type": "code",
   "execution_count": 72,
   "metadata": {},
   "outputs": [],
   "source": [
    "#%%time\n",
    "#rougher_param_scaled = rougher_forest(rougher_features_train_scaled, rougher_target_train)\n",
    "#rougher_param_scaled.sort_values(by = 'score', ascending = True).head(20)\n",
    "\n",
    "#CPU times: user 18min 52s, sys: 5.3 s, total: 18min 58s\n",
    "#Wall time: 19min 3s\n",
    "\n",
    "#\tmax_depth \tn_estimators \tmin_samples_split \tmin_samples_leaf \tscore\n",
    "#368 \t2 \t111 \t2 \t1 \t43.559642\n",
    "#548 \t2 \t111 \t5 \t1 \t43.559642\n",
    "#428 \t2 \t111 \t3 \t1 \t43.559642\n",
    "#668 \t2 \t111 \t7 \t1 \t43.559642\n",
    "#608 \t2 \t111 \t6 \t1 \t43.559642\n",
    "#488 \t2 \t111 \t4 \t1 \t43.559642\n",
    "#473 \t2 \t111 \t3 \t4 \t43.560841\n",
    "#653 \t2 \t111 \t6 \t4 \t43.560841\n",
    "#713 \t2 \t111 \t7 \t4 \t43.560841\n",
    "#533 \t2 \t111 \t4 \t4 \t43.560841\n",
    "#593 \t2 \t111 \t5 \t4 \t43.560841\n",
    "#413 \t2 \t111 \t2 \t4 \t43.560841\n",
    "#503 \t2 \t111 \t4 \t2 \t43.562938\n",
    "#443 \t2 \t111 \t3 \t2 \t43.562938\n",
    "#563 \t2 \t111 \t5 \t2 \t43.562938\n",
    "#683 \t2 \t111 \t7 \t2 \t43.562938\n",
    "#623 \t2 \t111 \t6 \t2 \t43.562938\n",
    "#383 \t2 \t111 \t2 \t2 \t43.562938\n",
    "#549 \t2 \t113 \t5 \t1 \t43.564818\n",
    "#609 \t2 \t113 \t6 \t1 \t43.564818"
   ]
  },
  {
   "cell_type": "code",
   "execution_count": 73,
   "metadata": {},
   "outputs": [],
   "source": [
    "#%%time\n",
    "#final_param_scaled = final_forest(final_features_train_scaled, final_target_train)\n",
    "#final_param_scaled.sort_values(by = 'score', ascending = True).head(20)\n",
    "\n",
    "#CPU times: user 10min 51s, sys: 2.1 s, total: 10min 53s\n",
    "#Wall time: 10min 59s\n",
    "\n",
    "#\tmax_depth \tn_estimators \tmin_samples_split \tmin_samples_leaf \tscore\n",
    "#631 \t2 \t17 \t4 \t8 \t15.159747\n",
    "#556 \t2 \t17 \t3 \t8 \t15.159747\n",
    "#706 \t2 \t17 \t5 \t8 \t15.159747\n",
    "#856 \t2 \t17 \t7 \t8 \t15.159747\n",
    "#781 \t2 \t17 \t6 \t8 \t15.159747\n",
    "#481 \t2 \t17 \t2 \t8 \t15.159747\n",
    "#691 \t2 \t17 \t5 \t7 \t15.352722\n",
    "#616 \t2 \t17 \t4 \t7 \t15.352722\n",
    "#841 \t2 \t17 \t7 \t7 \t15.352722\n",
    "#541 \t2 \t17 \t3 \t7 \t15.352722\n",
    "#766 \t2 \t17 \t6 \t7 \t15.352722\n",
    "#466 \t2 \t17 \t2 \t7 \t15.352722\n",
    "#480 \t2 \t15 \t2 \t8 \t15.430365\n",
    "#630 \t2 \t15 \t4 \t8 \t15.430365\n",
    "#705 \t2 \t15 \t5 \t8 \t15.430365\n",
    "#780 \t2 \t15 \t6 \t8 \t15.430365\n",
    "#555 \t2 \t15 \t3 \t8 \t15.430365\n",
    "#855 \t2 \t15 \t7 \t8 \t15.430365\n",
    "#321 \t1 \t27 \t6 \t7 \t15.477036\n",
    "#171 \t1 \t27 \t4 \t7 \t15.477036"
   ]
  },
  {
   "cell_type": "markdown",
   "metadata": {},
   "source": [
    "Масштабирование признаков не помогло. "
   ]
  },
  {
   "cell_type": "markdown",
   "metadata": {},
   "source": [
    "Так ли хороши эти показатели? Сравним лучшие показатели алгоритма с предсказанием посредством подстановки среднего. "
   ]
  },
  {
   "cell_type": "code",
   "execution_count": 74,
   "metadata": {},
   "outputs": [
    {
     "data": {
      "text/plain": [
       "48.44119407940844"
      ]
     },
     "execution_count": 74,
     "metadata": {},
     "output_type": "execute_result"
    }
   ],
   "source": [
    "dum = DummyRegressor(strategy = 'mean')\n",
    "rougher_dummy_predict = cross_val_predict(dum, rougher_features_train, rougher_target_train, cv=3)\n",
    "rougher_dummy_sMAPE = sMAPE2(rougher_target_train, rougher_dummy_predict)\n",
    "rougher_dummy_sMAPE"
   ]
  },
  {
   "cell_type": "code",
   "execution_count": 75,
   "metadata": {},
   "outputs": [
    {
     "data": {
      "text/plain": [
       "17.05476761377354"
      ]
     },
     "execution_count": 75,
     "metadata": {},
     "output_type": "execute_result"
    }
   ],
   "source": [
    "dum = DummyRegressor(strategy = 'mean')\n",
    "final_dummy_predict = cross_val_predict(dum, final_features_train, final_target_train, cv=3)\n",
    "final_dummy_sMAPE = sMAPE2(final_target_train, final_dummy_predict)\n",
    "final_dummy_sMAPE"
   ]
  },
  {
   "cell_type": "markdown",
   "metadata": {},
   "source": [
    "Надо заметить, предсказания с помощью моделей не намного точнее предсказаний с помощью подстановки среднего для обоих предсказываемых величин. Однако, пусть не намного, но sMAPE моделей ниже, чем показатель среднего, а значит, хоть и слабое, оправдание применения модели все же есть.  "
   ]
  },
  {
   "cell_type": "markdown",
   "metadata": {},
   "source": [
    "### Дерево решений"
   ]
  },
  {
   "cell_type": "code",
   "execution_count": 76,
   "metadata": {},
   "outputs": [
    {
     "name": "stdout",
     "output_type": "stream",
     "text": [
      "CPU times: user 0 ns, sys: 0 ns, total: 0 ns\n",
      "Wall time: 8.58 µs\n"
     ]
    }
   ],
   "source": [
    "%%time\n",
    "def param_tree(features, target):\n",
    "    tree_depth_col = []\n",
    "    tree_split_col = []\n",
    "    tree_leaf_col = []\n",
    "    tree_score_col = []\n",
    "    for depth in range(2,18,3):\n",
    "        for split in range(2, 15, 3):\n",
    "            for leaf in range(2, 15, 3):\n",
    "                tree = DecisionTreeRegressor(max_depth = depth, \n",
    "                                                   min_samples_split = split, \n",
    "                                                   min_samples_leaf = leaf, \n",
    "                                                   random_state = random)\n",
    "                tree_predicted = cross_val_predict(tree, features, target, cv = 3)\n",
    "                tree_score = sMAPE2(target, tree_predicted)\n",
    "                tree_depth_col.append(depth)\n",
    "                tree_split_col.append(split)\n",
    "                tree_leaf_col.append(leaf)\n",
    "                tree_score_col.append(tree_score)\n",
    "    tree_hyperparameters_dict = {'max_depth': tree_depth_col, 'min_samples_split': tree_split_col, 'min_samples_leaf': tree_leaf_col, 'score': tree_score_col}\n",
    "    tree_hyperparameters = pd.DataFrame(data = tree_hyperparameters_dict)\n",
    "    return tree_hyperparameters"
   ]
  },
  {
   "cell_type": "code",
   "execution_count": 77,
   "metadata": {},
   "outputs": [
    {
     "name": "stdout",
     "output_type": "stream",
     "text": [
      "CPU times: user 6 s, sys: 8 ms, total: 6 s\n",
      "Wall time: 6.43 s\n"
     ]
    },
    {
     "data": {
      "text/html": [
       "<div>\n",
       "<style scoped>\n",
       "    .dataframe tbody tr th:only-of-type {\n",
       "        vertical-align: middle;\n",
       "    }\n",
       "\n",
       "    .dataframe tbody tr th {\n",
       "        vertical-align: top;\n",
       "    }\n",
       "\n",
       "    .dataframe thead th {\n",
       "        text-align: right;\n",
       "    }\n",
       "</style>\n",
       "<table border=\"1\" class=\"dataframe\">\n",
       "  <thead>\n",
       "    <tr style=\"text-align: right;\">\n",
       "      <th></th>\n",
       "      <th>max_depth</th>\n",
       "      <th>min_samples_split</th>\n",
       "      <th>min_samples_leaf</th>\n",
       "      <th>score</th>\n",
       "    </tr>\n",
       "  </thead>\n",
       "  <tbody>\n",
       "    <tr>\n",
       "      <td>120</td>\n",
       "      <td>14</td>\n",
       "      <td>14</td>\n",
       "      <td>2</td>\n",
       "      <td>38.708857</td>\n",
       "    </tr>\n",
       "    <tr>\n",
       "      <td>145</td>\n",
       "      <td>17</td>\n",
       "      <td>14</td>\n",
       "      <td>2</td>\n",
       "      <td>38.854139</td>\n",
       "    </tr>\n",
       "    <tr>\n",
       "      <td>95</td>\n",
       "      <td>11</td>\n",
       "      <td>14</td>\n",
       "      <td>2</td>\n",
       "      <td>38.891368</td>\n",
       "    </tr>\n",
       "    <tr>\n",
       "      <td>121</td>\n",
       "      <td>14</td>\n",
       "      <td>14</td>\n",
       "      <td>5</td>\n",
       "      <td>39.067053</td>\n",
       "    </tr>\n",
       "    <tr>\n",
       "      <td>96</td>\n",
       "      <td>11</td>\n",
       "      <td>14</td>\n",
       "      <td>5</td>\n",
       "      <td>39.123013</td>\n",
       "    </tr>\n",
       "    <tr>\n",
       "      <td>146</td>\n",
       "      <td>17</td>\n",
       "      <td>14</td>\n",
       "      <td>5</td>\n",
       "      <td>39.130662</td>\n",
       "    </tr>\n",
       "    <tr>\n",
       "      <td>70</td>\n",
       "      <td>8</td>\n",
       "      <td>14</td>\n",
       "      <td>2</td>\n",
       "      <td>39.332763</td>\n",
       "    </tr>\n",
       "    <tr>\n",
       "      <td>71</td>\n",
       "      <td>8</td>\n",
       "      <td>14</td>\n",
       "      <td>5</td>\n",
       "      <td>39.364769</td>\n",
       "    </tr>\n",
       "    <tr>\n",
       "      <td>46</td>\n",
       "      <td>5</td>\n",
       "      <td>14</td>\n",
       "      <td>5</td>\n",
       "      <td>39.456299</td>\n",
       "    </tr>\n",
       "    <tr>\n",
       "      <td>45</td>\n",
       "      <td>5</td>\n",
       "      <td>14</td>\n",
       "      <td>2</td>\n",
       "      <td>39.489174</td>\n",
       "    </tr>\n",
       "    <tr>\n",
       "      <td>115</td>\n",
       "      <td>14</td>\n",
       "      <td>11</td>\n",
       "      <td>2</td>\n",
       "      <td>40.744951</td>\n",
       "    </tr>\n",
       "    <tr>\n",
       "      <td>140</td>\n",
       "      <td>17</td>\n",
       "      <td>11</td>\n",
       "      <td>2</td>\n",
       "      <td>40.771910</td>\n",
       "    </tr>\n",
       "    <tr>\n",
       "      <td>90</td>\n",
       "      <td>11</td>\n",
       "      <td>11</td>\n",
       "      <td>2</td>\n",
       "      <td>40.917958</td>\n",
       "    </tr>\n",
       "    <tr>\n",
       "      <td>65</td>\n",
       "      <td>8</td>\n",
       "      <td>11</td>\n",
       "      <td>2</td>\n",
       "      <td>41.277626</td>\n",
       "    </tr>\n",
       "    <tr>\n",
       "      <td>40</td>\n",
       "      <td>5</td>\n",
       "      <td>11</td>\n",
       "      <td>2</td>\n",
       "      <td>41.434037</td>\n",
       "    </tr>\n",
       "    <tr>\n",
       "      <td>35</td>\n",
       "      <td>5</td>\n",
       "      <td>8</td>\n",
       "      <td>2</td>\n",
       "      <td>41.434037</td>\n",
       "    </tr>\n",
       "    <tr>\n",
       "      <td>135</td>\n",
       "      <td>17</td>\n",
       "      <td>8</td>\n",
       "      <td>2</td>\n",
       "      <td>42.526740</td>\n",
       "    </tr>\n",
       "    <tr>\n",
       "      <td>110</td>\n",
       "      <td>14</td>\n",
       "      <td>8</td>\n",
       "      <td>2</td>\n",
       "      <td>42.677122</td>\n",
       "    </tr>\n",
       "    <tr>\n",
       "      <td>85</td>\n",
       "      <td>11</td>\n",
       "      <td>8</td>\n",
       "      <td>2</td>\n",
       "      <td>42.850130</td>\n",
       "    </tr>\n",
       "    <tr>\n",
       "      <td>60</td>\n",
       "      <td>8</td>\n",
       "      <td>8</td>\n",
       "      <td>2</td>\n",
       "      <td>43.209797</td>\n",
       "    </tr>\n",
       "  </tbody>\n",
       "</table>\n",
       "</div>"
      ],
      "text/plain": [
       "     max_depth  min_samples_split  min_samples_leaf      score\n",
       "120         14                 14                 2  38.708857\n",
       "145         17                 14                 2  38.854139\n",
       "95          11                 14                 2  38.891368\n",
       "121         14                 14                 5  39.067053\n",
       "96          11                 14                 5  39.123013\n",
       "146         17                 14                 5  39.130662\n",
       "70           8                 14                 2  39.332763\n",
       "71           8                 14                 5  39.364769\n",
       "46           5                 14                 5  39.456299\n",
       "45           5                 14                 2  39.489174\n",
       "115         14                 11                 2  40.744951\n",
       "140         17                 11                 2  40.771910\n",
       "90          11                 11                 2  40.917958\n",
       "65           8                 11                 2  41.277626\n",
       "40           5                 11                 2  41.434037\n",
       "35           5                  8                 2  41.434037\n",
       "135         17                  8                 2  42.526740\n",
       "110         14                  8                 2  42.677122\n",
       "85          11                  8                 2  42.850130\n",
       "60           8                  8                 2  43.209797"
      ]
     },
     "execution_count": 77,
     "metadata": {},
     "output_type": "execute_result"
    }
   ],
   "source": [
    "%%time\n",
    "rougher_tree = param_tree(rougher_features_train, rougher_target_train)\n",
    "rougher_tree.sort_values(by = 'score', ascending = True).head(20)"
   ]
  },
  {
   "cell_type": "code",
   "execution_count": 78,
   "metadata": {},
   "outputs": [
    {
     "name": "stdout",
     "output_type": "stream",
     "text": [
      "CPU times: user 11.2 s, sys: 8 ms, total: 11.2 s\n",
      "Wall time: 11.3 s\n"
     ]
    },
    {
     "data": {
      "text/html": [
       "<div>\n",
       "<style scoped>\n",
       "    .dataframe tbody tr th:only-of-type {\n",
       "        vertical-align: middle;\n",
       "    }\n",
       "\n",
       "    .dataframe tbody tr th {\n",
       "        vertical-align: top;\n",
       "    }\n",
       "\n",
       "    .dataframe thead th {\n",
       "        text-align: right;\n",
       "    }\n",
       "</style>\n",
       "<table border=\"1\" class=\"dataframe\">\n",
       "  <thead>\n",
       "    <tr style=\"text-align: right;\">\n",
       "      <th></th>\n",
       "      <th>max_depth</th>\n",
       "      <th>min_samples_split</th>\n",
       "      <th>min_samples_leaf</th>\n",
       "      <th>score</th>\n",
       "    </tr>\n",
       "  </thead>\n",
       "  <tbody>\n",
       "    <tr>\n",
       "      <td>38</td>\n",
       "      <td>5</td>\n",
       "      <td>8</td>\n",
       "      <td>11</td>\n",
       "      <td>20.812802</td>\n",
       "    </tr>\n",
       "    <tr>\n",
       "      <td>43</td>\n",
       "      <td>5</td>\n",
       "      <td>11</td>\n",
       "      <td>11</td>\n",
       "      <td>20.812802</td>\n",
       "    </tr>\n",
       "    <tr>\n",
       "      <td>28</td>\n",
       "      <td>5</td>\n",
       "      <td>2</td>\n",
       "      <td>11</td>\n",
       "      <td>20.812802</td>\n",
       "    </tr>\n",
       "    <tr>\n",
       "      <td>33</td>\n",
       "      <td>5</td>\n",
       "      <td>5</td>\n",
       "      <td>11</td>\n",
       "      <td>20.812802</td>\n",
       "    </tr>\n",
       "    <tr>\n",
       "      <td>48</td>\n",
       "      <td>5</td>\n",
       "      <td>14</td>\n",
       "      <td>11</td>\n",
       "      <td>20.812802</td>\n",
       "    </tr>\n",
       "    <tr>\n",
       "      <td>37</td>\n",
       "      <td>5</td>\n",
       "      <td>8</td>\n",
       "      <td>8</td>\n",
       "      <td>21.305832</td>\n",
       "    </tr>\n",
       "    <tr>\n",
       "      <td>27</td>\n",
       "      <td>5</td>\n",
       "      <td>2</td>\n",
       "      <td>8</td>\n",
       "      <td>21.305832</td>\n",
       "    </tr>\n",
       "    <tr>\n",
       "      <td>47</td>\n",
       "      <td>5</td>\n",
       "      <td>14</td>\n",
       "      <td>8</td>\n",
       "      <td>21.305832</td>\n",
       "    </tr>\n",
       "    <tr>\n",
       "      <td>42</td>\n",
       "      <td>5</td>\n",
       "      <td>11</td>\n",
       "      <td>8</td>\n",
       "      <td>21.305832</td>\n",
       "    </tr>\n",
       "    <tr>\n",
       "      <td>32</td>\n",
       "      <td>5</td>\n",
       "      <td>5</td>\n",
       "      <td>8</td>\n",
       "      <td>21.305832</td>\n",
       "    </tr>\n",
       "    <tr>\n",
       "      <td>18</td>\n",
       "      <td>2</td>\n",
       "      <td>11</td>\n",
       "      <td>11</td>\n",
       "      <td>21.523302</td>\n",
       "    </tr>\n",
       "    <tr>\n",
       "      <td>24</td>\n",
       "      <td>2</td>\n",
       "      <td>14</td>\n",
       "      <td>14</td>\n",
       "      <td>21.523302</td>\n",
       "    </tr>\n",
       "    <tr>\n",
       "      <td>23</td>\n",
       "      <td>2</td>\n",
       "      <td>14</td>\n",
       "      <td>11</td>\n",
       "      <td>21.523302</td>\n",
       "    </tr>\n",
       "    <tr>\n",
       "      <td>22</td>\n",
       "      <td>2</td>\n",
       "      <td>14</td>\n",
       "      <td>8</td>\n",
       "      <td>21.523302</td>\n",
       "    </tr>\n",
       "    <tr>\n",
       "      <td>21</td>\n",
       "      <td>2</td>\n",
       "      <td>14</td>\n",
       "      <td>5</td>\n",
       "      <td>21.523302</td>\n",
       "    </tr>\n",
       "    <tr>\n",
       "      <td>20</td>\n",
       "      <td>2</td>\n",
       "      <td>14</td>\n",
       "      <td>2</td>\n",
       "      <td>21.523302</td>\n",
       "    </tr>\n",
       "    <tr>\n",
       "      <td>17</td>\n",
       "      <td>2</td>\n",
       "      <td>11</td>\n",
       "      <td>8</td>\n",
       "      <td>21.523302</td>\n",
       "    </tr>\n",
       "    <tr>\n",
       "      <td>0</td>\n",
       "      <td>2</td>\n",
       "      <td>2</td>\n",
       "      <td>2</td>\n",
       "      <td>21.523302</td>\n",
       "    </tr>\n",
       "    <tr>\n",
       "      <td>15</td>\n",
       "      <td>2</td>\n",
       "      <td>11</td>\n",
       "      <td>2</td>\n",
       "      <td>21.523302</td>\n",
       "    </tr>\n",
       "    <tr>\n",
       "      <td>1</td>\n",
       "      <td>2</td>\n",
       "      <td>2</td>\n",
       "      <td>5</td>\n",
       "      <td>21.523302</td>\n",
       "    </tr>\n",
       "  </tbody>\n",
       "</table>\n",
       "</div>"
      ],
      "text/plain": [
       "    max_depth  min_samples_split  min_samples_leaf      score\n",
       "38          5                  8                11  20.812802\n",
       "43          5                 11                11  20.812802\n",
       "28          5                  2                11  20.812802\n",
       "33          5                  5                11  20.812802\n",
       "48          5                 14                11  20.812802\n",
       "37          5                  8                 8  21.305832\n",
       "27          5                  2                 8  21.305832\n",
       "47          5                 14                 8  21.305832\n",
       "42          5                 11                 8  21.305832\n",
       "32          5                  5                 8  21.305832\n",
       "18          2                 11                11  21.523302\n",
       "24          2                 14                14  21.523302\n",
       "23          2                 14                11  21.523302\n",
       "22          2                 14                 8  21.523302\n",
       "21          2                 14                 5  21.523302\n",
       "20          2                 14                 2  21.523302\n",
       "17          2                 11                 8  21.523302\n",
       "0           2                  2                 2  21.523302\n",
       "15          2                 11                 2  21.523302\n",
       "1           2                  2                 5  21.523302"
      ]
     },
     "execution_count": 78,
     "metadata": {},
     "output_type": "execute_result"
    }
   ],
   "source": [
    "%%time\n",
    "final_tree = param_tree(final_features_train, final_target_train)\n",
    "final_tree.sort_values(by = 'score', ascending = True).head(20)"
   ]
  },
  {
   "cell_type": "markdown",
   "metadata": {},
   "source": [
    "Качество предсказания финального обогащения ниже, чем у случайного леса, однако резульаты предсказания концентрации после флотации неожиданно обошли случайный лес. Попробуем улучшить качество предсказания. "
   ]
  },
  {
   "cell_type": "code",
   "execution_count": 79,
   "metadata": {},
   "outputs": [
    {
     "name": "stdout",
     "output_type": "stream",
     "text": [
      "CPU times: user 0 ns, sys: 0 ns, total: 0 ns\n",
      "Wall time: 51.3 µs\n"
     ]
    }
   ],
   "source": [
    "%%time\n",
    "def rougher_tree(features, target):\n",
    "    tree_depth_col = []\n",
    "    tree_split_col = []\n",
    "    tree_leaf_col = []\n",
    "    tree_score_col = []\n",
    "    for depth in range(10,20,1):\n",
    "        for split in range(10, 19, 1):\n",
    "            for leaf in range(1, 8, 1):\n",
    "                tree = DecisionTreeRegressor(max_depth = depth, \n",
    "                                                   min_samples_split = split, \n",
    "                                                   min_samples_leaf = leaf, \n",
    "                                                   random_state = random)\n",
    "                tree_predicted = cross_val_predict(tree, features, target, cv = 3)\n",
    "                tree_score = sMAPE2(target, tree_predicted)\n",
    "                tree_depth_col.append(depth)\n",
    "                tree_split_col.append(split)\n",
    "                tree_leaf_col.append(leaf)\n",
    "                tree_score_col.append(tree_score)\n",
    "    rougher_tree_hyperparameters_dict = {'max_depth': tree_depth_col, 'min_samples_split': tree_split_col, 'min_samples_leaf': tree_leaf_col, 'score': tree_score_col}\n",
    "    rougher_tree_hyperparameters = pd.DataFrame(data = rougher_tree_hyperparameters_dict)\n",
    "    return rougher_tree_hyperparameters"
   ]
  },
  {
   "cell_type": "code",
   "execution_count": 80,
   "metadata": {},
   "outputs": [
    {
     "name": "stdout",
     "output_type": "stream",
     "text": [
      "CPU times: user 30.8 s, sys: 36 ms, total: 30.9 s\n",
      "Wall time: 30.9 s\n"
     ]
    },
    {
     "data": {
      "text/html": [
       "<div>\n",
       "<style scoped>\n",
       "    .dataframe tbody tr th:only-of-type {\n",
       "        vertical-align: middle;\n",
       "    }\n",
       "\n",
       "    .dataframe tbody tr th {\n",
       "        vertical-align: top;\n",
       "    }\n",
       "\n",
       "    .dataframe thead th {\n",
       "        text-align: right;\n",
       "    }\n",
       "</style>\n",
       "<table border=\"1\" class=\"dataframe\">\n",
       "  <thead>\n",
       "    <tr style=\"text-align: right;\">\n",
       "      <th></th>\n",
       "      <th>max_depth</th>\n",
       "      <th>min_samples_split</th>\n",
       "      <th>min_samples_leaf</th>\n",
       "      <th>score</th>\n",
       "    </tr>\n",
       "  </thead>\n",
       "  <tbody>\n",
       "    <tr>\n",
       "      <td>525</td>\n",
       "      <td>18</td>\n",
       "      <td>13</td>\n",
       "      <td>1</td>\n",
       "      <td>37.816807</td>\n",
       "    </tr>\n",
       "    <tr>\n",
       "      <td>462</td>\n",
       "      <td>17</td>\n",
       "      <td>13</td>\n",
       "      <td>1</td>\n",
       "      <td>37.843852</td>\n",
       "    </tr>\n",
       "    <tr>\n",
       "      <td>588</td>\n",
       "      <td>19</td>\n",
       "      <td>13</td>\n",
       "      <td>1</td>\n",
       "      <td>37.881715</td>\n",
       "    </tr>\n",
       "    <tr>\n",
       "      <td>399</td>\n",
       "      <td>16</td>\n",
       "      <td>13</td>\n",
       "      <td>1</td>\n",
       "      <td>37.885712</td>\n",
       "    </tr>\n",
       "    <tr>\n",
       "      <td>518</td>\n",
       "      <td>18</td>\n",
       "      <td>12</td>\n",
       "      <td>1</td>\n",
       "      <td>37.905160</td>\n",
       "    </tr>\n",
       "    <tr>\n",
       "      <td>210</td>\n",
       "      <td>13</td>\n",
       "      <td>13</td>\n",
       "      <td>1</td>\n",
       "      <td>37.914992</td>\n",
       "    </tr>\n",
       "    <tr>\n",
       "      <td>455</td>\n",
       "      <td>17</td>\n",
       "      <td>12</td>\n",
       "      <td>1</td>\n",
       "      <td>37.932205</td>\n",
       "    </tr>\n",
       "    <tr>\n",
       "      <td>336</td>\n",
       "      <td>15</td>\n",
       "      <td>13</td>\n",
       "      <td>1</td>\n",
       "      <td>37.953255</td>\n",
       "    </tr>\n",
       "    <tr>\n",
       "      <td>581</td>\n",
       "      <td>19</td>\n",
       "      <td>12</td>\n",
       "      <td>1</td>\n",
       "      <td>37.970068</td>\n",
       "    </tr>\n",
       "    <tr>\n",
       "      <td>392</td>\n",
       "      <td>16</td>\n",
       "      <td>12</td>\n",
       "      <td>1</td>\n",
       "      <td>37.974064</td>\n",
       "    </tr>\n",
       "    <tr>\n",
       "      <td>273</td>\n",
       "      <td>14</td>\n",
       "      <td>13</td>\n",
       "      <td>1</td>\n",
       "      <td>38.018239</td>\n",
       "    </tr>\n",
       "    <tr>\n",
       "      <td>203</td>\n",
       "      <td>13</td>\n",
       "      <td>12</td>\n",
       "      <td>1</td>\n",
       "      <td>38.027762</td>\n",
       "    </tr>\n",
       "    <tr>\n",
       "      <td>329</td>\n",
       "      <td>15</td>\n",
       "      <td>12</td>\n",
       "      <td>1</td>\n",
       "      <td>38.041607</td>\n",
       "    </tr>\n",
       "    <tr>\n",
       "      <td>147</td>\n",
       "      <td>12</td>\n",
       "      <td>13</td>\n",
       "      <td>1</td>\n",
       "      <td>38.051971</td>\n",
       "    </tr>\n",
       "    <tr>\n",
       "      <td>21</td>\n",
       "      <td>10</td>\n",
       "      <td>13</td>\n",
       "      <td>1</td>\n",
       "      <td>38.086633</td>\n",
       "    </tr>\n",
       "    <tr>\n",
       "      <td>84</td>\n",
       "      <td>11</td>\n",
       "      <td>13</td>\n",
       "      <td>1</td>\n",
       "      <td>38.124611</td>\n",
       "    </tr>\n",
       "    <tr>\n",
       "      <td>532</td>\n",
       "      <td>18</td>\n",
       "      <td>14</td>\n",
       "      <td>1</td>\n",
       "      <td>38.125063</td>\n",
       "    </tr>\n",
       "    <tr>\n",
       "      <td>266</td>\n",
       "      <td>14</td>\n",
       "      <td>12</td>\n",
       "      <td>1</td>\n",
       "      <td>38.131009</td>\n",
       "    </tr>\n",
       "    <tr>\n",
       "      <td>469</td>\n",
       "      <td>17</td>\n",
       "      <td>14</td>\n",
       "      <td>1</td>\n",
       "      <td>38.152108</td>\n",
       "    </tr>\n",
       "    <tr>\n",
       "      <td>140</td>\n",
       "      <td>12</td>\n",
       "      <td>12</td>\n",
       "      <td>1</td>\n",
       "      <td>38.164741</td>\n",
       "    </tr>\n",
       "  </tbody>\n",
       "</table>\n",
       "</div>"
      ],
      "text/plain": [
       "     max_depth  min_samples_split  min_samples_leaf      score\n",
       "525         18                 13                 1  37.816807\n",
       "462         17                 13                 1  37.843852\n",
       "588         19                 13                 1  37.881715\n",
       "399         16                 13                 1  37.885712\n",
       "518         18                 12                 1  37.905160\n",
       "210         13                 13                 1  37.914992\n",
       "455         17                 12                 1  37.932205\n",
       "336         15                 13                 1  37.953255\n",
       "581         19                 12                 1  37.970068\n",
       "392         16                 12                 1  37.974064\n",
       "273         14                 13                 1  38.018239\n",
       "203         13                 12                 1  38.027762\n",
       "329         15                 12                 1  38.041607\n",
       "147         12                 13                 1  38.051971\n",
       "21          10                 13                 1  38.086633\n",
       "84          11                 13                 1  38.124611\n",
       "532         18                 14                 1  38.125063\n",
       "266         14                 12                 1  38.131009\n",
       "469         17                 14                 1  38.152108\n",
       "140         12                 12                 1  38.164741"
      ]
     },
     "execution_count": 80,
     "metadata": {},
     "output_type": "execute_result"
    }
   ],
   "source": [
    "%%time\n",
    "rougher_tree2 = rougher_tree(rougher_features_train, rougher_target_train)\n",
    "rougher_tree2.sort_values(by = 'score', ascending = True).head(20)"
   ]
  },
  {
   "cell_type": "markdown",
   "metadata": {},
   "source": [
    "Удивительно, но случайное дерево будет использовано для обучения на тестовой выборке, поскольку показало sMAPE лучше, чем случайный лес и, следовательно, предсказание средним."
   ]
  },
  {
   "cell_type": "markdown",
   "metadata": {},
   "source": [
    "### Линейная регрессия"
   ]
  },
  {
   "cell_type": "markdown",
   "metadata": {},
   "source": [
    "Обучим линейную регрессию."
   ]
  },
  {
   "cell_type": "code",
   "execution_count": 81,
   "metadata": {},
   "outputs": [
    {
     "data": {
      "text/plain": [
       "51.60941642643232"
      ]
     },
     "execution_count": 81,
     "metadata": {},
     "output_type": "execute_result"
    }
   ],
   "source": [
    "linreg = LinearRegression()\n",
    "rougher_linreg_predict = cross_val_predict(linreg, rougher_features_train, rougher_target_train, cv = 3)\n",
    "final_linreg_predict = cross_val_predict(linreg, final_features_train, final_target_train, cv = 3)\n",
    "rougher_linreg_smape = sMAPE2(rougher_target_train, rougher_linreg_predict)\n",
    "rougher_linreg_smape                        "
   ]
  },
  {
   "cell_type": "code",
   "execution_count": 82,
   "metadata": {},
   "outputs": [
    {
     "data": {
      "text/plain": [
       "31.317666591920997"
      ]
     },
     "execution_count": 82,
     "metadata": {},
     "output_type": "execute_result"
    }
   ],
   "source": [
    "final_linreg_smape = sMAPE2(final_target_train, final_linreg_predict)\n",
    "final_linreg_smape       "
   ]
  },
  {
   "cell_type": "markdown",
   "metadata": {},
   "source": [
    "Результаты ниже, чем у других алгоритмов."
   ]
  },
  {
   "cell_type": "markdown",
   "metadata": {},
   "source": [
    "### Вывод"
   ]
  },
  {
   "cell_type": "markdown",
   "metadata": {},
   "source": [
    "По результатам выбора модели обучать мы будем дерево возможностей для предсказания обогащения после флотации и случайный лес для предсказания финального обогащения."
   ]
  },
  {
   "cell_type": "code",
   "execution_count": 83,
   "metadata": {},
   "outputs": [],
   "source": [
    "best_rougher_depth = int(rougher_tree2.sort_values(by = 'score', ascending = True).head(1)['max_depth'])\n",
    "best_rougher_split = int(rougher_tree2.sort_values(by = 'score', ascending = True).head(1)['min_samples_split'])\n",
    "best_rougher_leaf = int(rougher_tree2.sort_values(by = 'score', ascending = True).head(1)['min_samples_leaf'])\n",
    "\n",
    "best_final_depth = int(final_param2.sort_values(by = 'score', ascending = True).head(1)['max_depth'])\n",
    "best_final_estim = int(final_param2.sort_values(by = 'score', ascending = True).head(1)['n_estimators'])\n",
    "best_final_split = int(final_param2.sort_values(by = 'score', ascending = True).head(1)['min_samples_split'])\n",
    "best_final_leaf = int(final_param2.sort_values(by = 'score', ascending = True).head(1)['min_samples_leaf'])\n"
   ]
  },
  {
   "cell_type": "markdown",
   "metadata": {},
   "source": [
    "## Проверка на тестовой выборке"
   ]
  },
  {
   "cell_type": "markdown",
   "metadata": {},
   "source": [
    "В процессе отбора модели были выявлены алгоритм и гиперпараметры, дающие наибольший показатель score (sMAPE), вернее, две модели - для прогноза обогащения на rougher- и для final-этапах. Посмотрим, какие результаты модели случайного леса с определенными гиперпараметрами, обученные на масштабированной выборке, продемонстрируют на тестовой выборке. "
   ]
  },
  {
   "cell_type": "code",
   "execution_count": 84,
   "metadata": {},
   "outputs": [],
   "source": [
    "best_rougher_model = DecisionTreeRegressor(max_depth = best_rougher_depth, \n",
    "                                                   min_samples_split = best_rougher_split, \n",
    "                                                   min_samples_leaf = best_rougher_leaf, \n",
    "                                                   random_state = random)\n",
    "best_rougher_model.fit(rougher_features_train, rougher_target_train)\n",
    "\n",
    "best_final_model = RandomForestRegressor(n_estimators = best_final_estim, \n",
    "                                                   max_depth = best_final_depth, \n",
    "                                                   min_samples_split = best_final_split, \n",
    "                                                   min_samples_leaf = best_final_leaf, \n",
    "                                                   random_state = random)\n",
    "best_final_model.fit(final_features_train, final_target_train)\n",
    "\n",
    "\n",
    "rougher_predicted = best_rougher_model.predict(rougher_features_test)\n",
    "final_predicted = best_final_model.predict(final_features_test)"
   ]
  },
  {
   "cell_type": "code",
   "execution_count": 85,
   "metadata": {},
   "outputs": [
    {
     "name": "stdout",
     "output_type": "stream",
     "text": [
      "Предсказание обогащения после флотации\n",
      "\n",
      "R^2 -0.3145380651552028\n",
      "RMSE 43.43126533018941\n",
      "MAE: 27.80653931496316\n"
     ]
    }
   ],
   "source": [
    "R2_rougher = r2_score(rougher_target_test, rougher_predicted)\n",
    "RMSE_rougher = mean_squared_error(rougher_target_test, rougher_predicted) ** 0.5\n",
    "MAE_rougher = mean_absolute_error(rougher_target_test, rougher_predicted)\n",
    "print('Предсказание обогащения после флотации')\n",
    "print()\n",
    "print('R^2',R2_rougher)\n",
    "print('RMSE',RMSE_rougher)\n",
    "print('MAE:',MAE_rougher)"
   ]
  },
  {
   "cell_type": "code",
   "execution_count": 86,
   "metadata": {},
   "outputs": [
    {
     "name": "stdout",
     "output_type": "stream",
     "text": [
      "Предсказание обогащения после второго этапа\n",
      "\n",
      "R^2 0.16564948886247233\n",
      "RMSE 19.888815939901725\n",
      "MAE: 13.803870587882598\n"
     ]
    }
   ],
   "source": [
    "R2_final = r2_score(final_target_test, final_predicted)\n",
    "RMSE_final = mean_squared_error(final_target_test, final_predicted) ** 0.5\n",
    "MAE_final = mean_absolute_error(final_target_test, final_predicted)\n",
    "print('Предсказание обогащения после второго этапа')\n",
    "print()\n",
    "print('R^2',R2_final)\n",
    "print('RMSE',RMSE_final)\n",
    "print('MAE:',MAE_final)"
   ]
  },
  {
   "cell_type": "markdown",
   "metadata": {},
   "source": [
    "Метрики неважные, однако заказчик требует расчитать именно sMAPE. Используем функции, которые подготовили до этого."
   ]
  },
  {
   "cell_type": "code",
   "execution_count": 87,
   "metadata": {},
   "outputs": [
    {
     "name": "stderr",
     "output_type": "stream",
     "text": [
      "/opt/conda/lib/python3.7/site-packages/ipykernel_launcher.py:5: RuntimeWarning: invalid value encountered in double_scalars\n",
      "  \"\"\"\n"
     ]
    },
    {
     "name": "stdout",
     "output_type": "stream",
     "text": [
      "sMAPE обогащения после флотации: 61.86496386012885 %\n",
      "sMAPE обогащения после второго этапа очистки: 28.042755778667434 %\n",
      "FINAL_sMAPE: 36.49830779903279 %\n"
     ]
    }
   ],
   "source": [
    "sMAPE_rougher_recovery = sMAPE(rougher_target_test, rougher_predicted)\n",
    "sMAPE_final_recovery = sMAPE(final_target_test, final_predicted)\n",
    "FINAL_sMAPE = final_sMAPE(sMAPE_rougher_recovery, sMAPE_final_recovery)\n",
    "print('sMAPE обогащения после флотации:',sMAPE_rougher_recovery ,'%')\n",
    "print('sMAPE обогащения после второго этапа очистки:',sMAPE_final_recovery , '%')\n",
    "print('FINAL_sMAPE:',FINAL_sMAPE, '%')"
   ]
  },
  {
   "cell_type": "markdown",
   "metadata": {},
   "source": [
    "Хороший это показатель sMAPE или нет? Сравним его с предсказанием по средней величине целевого признака обучающей выборки."
   ]
  },
  {
   "cell_type": "code",
   "execution_count": 88,
   "metadata": {},
   "outputs": [
    {
     "name": "stdout",
     "output_type": "stream",
     "text": [
      "sMAPE обогащения после флотации: 70.15080194229762 %\n",
      "sMAPE обогащения после второго этапа очистки: 30.20037099855501 %\n",
      "FINAL_sMAPE: 40.18797873449066 %\n"
     ]
    }
   ],
   "source": [
    "mean_predicted_rougher = pd.Series(rougher_target_train.mean(), index = rougher_target_test.index)\n",
    "mean_predicted_final = pd.Series(final_target_train.mean(), index = final_target_test.index)\n",
    "\n",
    "mean_predicted_sMAPE_rougher_recovery = sMAPE(rougher_target_test, mean_predicted_rougher)\n",
    "mean_predicted_sMAPE_final_recovery = sMAPE(final_target_test, mean_predicted_final)\n",
    "mean_predicted_FINAL_sMAPE = final_sMAPE(mean_predicted_sMAPE_rougher_recovery, mean_predicted_sMAPE_final_recovery)\n",
    "\n",
    "print('sMAPE обогащения после флотации:',mean_predicted_sMAPE_rougher_recovery ,'%')\n",
    "print('sMAPE обогащения после второго этапа очистки:',mean_predicted_sMAPE_final_recovery , '%')\n",
    "print('FINAL_sMAPE:',mean_predicted_FINAL_sMAPE, '%')"
   ]
  },
  {
   "cell_type": "markdown",
   "metadata": {},
   "source": [
    "# Вывод"
   ]
  },
  {
   "cell_type": "markdown",
   "metadata": {},
   "source": [
    "Итоговый sMAPE предсказания по среднему чуть выше, чем итоговый sMAPE нашей модели. Это означает, что наша модель, вернее, комбинация моделей хоть и не намного, но лучше простой подстановки среднего и, следовательно, хоть в какой-то мере, буквально на 1.3 п.п. оправдывает свое существование.  \n",
    "Однако следует обратить внимание, что по прочим метрикам комбинацию моделей нельзя назвать высокоточной. Этот кейс служит подтверждением, что машинное обучение не всесильно.  \n",
    "Также примечательно, что алгоритмом для одной из моделей послужило дерево решений."
   ]
  }
 ],
 "metadata": {
  "kernelspec": {
   "display_name": "Python 3",
   "language": "python",
   "name": "python3"
  },
  "language_info": {
   "codemirror_mode": {
    "name": "ipython",
    "version": 3
   },
   "file_extension": ".py",
   "mimetype": "text/x-python",
   "name": "python",
   "nbconvert_exporter": "python",
   "pygments_lexer": "ipython3",
   "version": "3.7.6"
  }
 },
 "nbformat": 4,
 "nbformat_minor": 2
}
