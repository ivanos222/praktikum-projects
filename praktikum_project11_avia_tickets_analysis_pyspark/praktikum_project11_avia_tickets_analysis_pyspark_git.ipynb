{
 "cells": [
  {
   "cell_type": "markdown",
   "metadata": {},
   "source": [
    "# Аналитика для авиакомпании с помощью PySpark"
   ]
  },
  {
   "cell_type": "markdown",
   "metadata": {},
   "source": [
    "Некая российская авиакомпания, выполняющая внутренние пассажирские перевозки, хочет понять предпочтения пользователей, покупающих билеты на разные направления.\n",
    "\n",
    "Необходимо изучить спрос пассажиров на рейсы в города, где проходят крупнейшие культурные мероприятия (\"фестивали\"). Для этого в нашем распоряжении есть БД из пяти связанных между собой таблиц и одной несвязанной. Необходимо сформулировать ряд запросов, импортировать результаты трех запросов в Jupyter Notebook посредством PySpark и произвести анализ. \n",
    "\n",
    "Результаты запросов выгружены в .csv. Более подробное описание трех запросов и задач, которые необходимо выполнить с их помощью:"
   ]
  },
  {
   "cell_type": "markdown",
   "metadata": {},
   "source": [
    "**query_1.csv** — результат первого запроса. В нём содержится такая информация:\n",
    "\n",
    "- *model* — модель самолета;\n",
    "- *flights_amount* — количество рейсов для каждой модели самолетов в сентябре 2018 года.\n",
    "\n",
    "**query_3.csv** — результат третьего запроса. В нём содержится такая информация:\n",
    "\n",
    "- *city* — город;\n",
    "- *average_flights* — среднее количество рейсов, прибывающих в город за день в сентябре 2018 года.\n",
    "\n",
    " Для этих двух наборов данных нужно проверить типы данных на корректность, вывести топ-10 городов по количеству рейсов, построить графики для моделей самолётов и количества рейсов; городов и количества рейсов; топ-10 городов и количества рейсов; сделать выводы по каждому из графиков.\n",
    "\n",
    "**query_last.csv** — результат последнего запроса. В нём следующая информация:\n",
    "\n",
    "- *week_number* — номер недели;\n",
    "- *ticket_amount* — количество проданных билетов за неделю;\n",
    "- *festival_week —* проходит ли на этой неделе фестиваль;\n",
    "- *festival_name —* название фестиваля.\n",
    "\n",
    "С помощью последнего запроса необходимо проверить гипотезу: «Средний спрос на билеты во время фестивалей не отличается от среднего спроса на билеты в обычное время».\n",
    "\n",
    "Пороговое значение *alpha* зададим равным 0.05."
   ]
  },
  {
   "cell_type": "markdown",
   "metadata": {},
   "source": [
    "### Запрос 1 (query_1): \n",
    "\n",
    "```SQL\n",
    "SELECT \n",
    "aircrafts.model AS model,\n",
    "COUNT(flights.departure_time) AS flights_amount\n",
    "FROM\n",
    "aircrafts\n",
    "LEFT JOIN flights ON flights.aircraft_code = aircrafts.aircraft_code\n",
    "WHERE \n",
    "(EXTRACT(MONTH FROM flights.departure_time) = 9) AND (EXTRACT(YEAR FROM flights.departure_time)=2018)\n",
    "GROUP BY\n",
    "aircrafts.model;\n",
    "```\n",
    "\n",
    "### Запрос 3 (query_3): \n",
    "\n",
    "```SQL\n",
    "SELECT\n",
    "flights_per_day.city AS city,\n",
    "AVG(flights_per_day.cnt) as average_flights\n",
    "FROM\n",
    "(SELECT \n",
    " COUNT(flights.flight_id) as cnt,\n",
    " airports.city as city,\n",
    " DATE_TRUNC('day', flights.arrival_time) as date\n",
    " FROM airports INNER JOIN flights ON airports.airport_code = flights.arrival_airport\n",
    " GROUP BY\n",
    " city,\n",
    " date) AS flights_per_day\n",
    " GROUP BY city;\n",
    " ```\n",
    " \n",
    "### Финальный запрос (query_last): \n",
    "\n",
    "```SQL\n",
    "SELECT \n",
    "\tT.week_number,\n",
    "\tT.ticket_amount,\n",
    "\tT.festival_week,\n",
    "\tT.festival_name\n",
    "FROM \n",
    "((SELECT \n",
    " COUNT(ticket_flights.ticket_no) AS ticket_amount,\n",
    " EXTRACT(WEEK FROM flights.arrival_time) AS week_number\n",
    " FROM\n",
    "  ticket_flights\n",
    " INNER JOIN flights ON flights.flight_id = ticket_flights.flight_id\n",
    " WHERE\n",
    "  arrival_airport IN\n",
    "  (SELECT\n",
    "  flights.arrival_airport AS arrival_airport\n",
    "  FROM airports\n",
    "  INNER JOIN flights ON airports.airport_code = flights.arrival_airport\n",
    "  WHERE airports.city IN ('Москва')) AND \n",
    "  (flights.arrival_time :: date) BETWEEN '2018-07-23' AND '2018-09-30'\n",
    "  GROUP BY \n",
    "  week_number\n",
    " )\n",
    " t\n",
    "LEFT JOIN \n",
    "(SELECT \t\t\n",
    "\t\tfestival_name,\t\n",
    "\t\tEXTRACT (week FROM festivals.festival_date) AS festival_week\n",
    "\tFROM \n",
    "\t\tfestivals\n",
    "\tWHERE\n",
    "\t\tfestival_city = 'Москва'\n",
    "\t  AND CAST(festivals.festival_date AS date) BETWEEN '2018-07-23' AND '2018-09-30'\n",
    ") t2 \n",
    "ON \n",
    "\tt.week_number = t2.festival_week\n",
    ") AS T;\n",
    "```"
   ]
  },
  {
   "cell_type": "markdown",
   "metadata": {},
   "source": [
    "# 1. Аналитика"
   ]
  },
  {
   "cell_type": "markdown",
   "metadata": {},
   "source": [
    "Загрузим библиотеки."
   ]
  },
  {
   "cell_type": "code",
   "execution_count": 1,
   "metadata": {},
   "outputs": [],
   "source": [
    "from pyspark import SparkContext\n",
    "from pyspark.sql import SparkSession"
   ]
  },
  {
   "cell_type": "code",
   "execution_count": 2,
   "metadata": {},
   "outputs": [],
   "source": [
    "import pandas as pd\n",
    "import numpy as np\n",
    "import matplotlib.pyplot as plt\n",
    "import copy"
   ]
  },
  {
   "cell_type": "code",
   "execution_count": 3,
   "metadata": {},
   "outputs": [],
   "source": [
    "import seaborn as sns"
   ]
  },
  {
   "cell_type": "markdown",
   "metadata": {},
   "source": [
    "Загрузим файлы."
   ]
  },
  {
   "cell_type": "code",
   "execution_count": 4,
   "metadata": {},
   "outputs": [],
   "source": [
    "APP_NAME = \"DataFrames\"\n",
    "SPARK_URL = \"local[*]\"\n",
    "spark = SparkSession.builder.appName(APP_NAME) \\\n",
    ".config('spark.ui.showConsoleProgress', 'false').getOrCreate()\n",
    "\n",
    "query_1_df = pd.read_csv('.../query_1.csv')\n",
    "spark_query_1 = spark.createDataFrame(query_1_df)"
   ]
  },
  {
   "cell_type": "code",
   "execution_count": 6,
   "metadata": {},
   "outputs": [],
   "source": [
    "query_3_df = pd.read_csv('.../query_3.csv')\n",
    "spark_query_3 = spark.createDataFrame(query_3_df)"
   ]
  },
  {
   "cell_type": "code",
   "execution_count": 7,
   "metadata": {},
   "outputs": [],
   "source": [
    "query_last =spark.read.load('.../query_last.csv',format='csv',header='true',inferSchema='true')"
   ]
  },
  {
   "cell_type": "markdown",
   "metadata": {},
   "source": [
    "Посмотрим на файлы, проверим, подходят ли типы данных."
   ]
  },
  {
   "cell_type": "code",
   "execution_count": 8,
   "metadata": {},
   "outputs": [
    {
     "data": {
      "text/plain": [
       "DataFrame[model: string, flights_amount: bigint]"
      ]
     },
     "execution_count": 8,
     "metadata": {},
     "output_type": "execute_result"
    }
   ],
   "source": [
    "spark_query_1"
   ]
  },
  {
   "cell_type": "code",
   "execution_count": 9,
   "metadata": {},
   "outputs": [
    {
     "name": "stdout",
     "output_type": "stream",
     "text": [
      "+-------------------+--------------+\n",
      "|              model|flights_amount|\n",
      "+-------------------+--------------+\n",
      "|    Airbus A319-100|           607|\n",
      "|    Airbus A321-200|           960|\n",
      "|     Boeing 737-300|           630|\n",
      "|     Boeing 767-300|           600|\n",
      "|     Boeing 777-300|           300|\n",
      "| Bombardier CRJ-200|          4446|\n",
      "| Cessna 208 Caravan|          4557|\n",
      "|Sukhoi SuperJet-100|          4185|\n",
      "+-------------------+--------------+\n",
      "\n"
     ]
    }
   ],
   "source": [
    "spark_query_1.show()"
   ]
  },
  {
   "cell_type": "code",
   "execution_count": 10,
   "metadata": {},
   "outputs": [
    {
     "name": "stdout",
     "output_type": "stream",
     "text": [
      "+-------+-------------------+------------------+\n",
      "|summary|              model|    flights_amount|\n",
      "+-------+-------------------+------------------+\n",
      "|  count|                  8|                 8|\n",
      "|   mean|               null|          2035.625|\n",
      "| stddev|               null|1965.2039470679445|\n",
      "|    min|    Airbus A319-100|               300|\n",
      "|    max|Sukhoi SuperJet-100|              4557|\n",
      "+-------+-------------------+------------------+\n",
      "\n"
     ]
    }
   ],
   "source": [
    "spark_query_1.describe().show()"
   ]
  },
  {
   "cell_type": "markdown",
   "metadata": {},
   "source": [
    "Первый запрос представляет собой небольшую таблицу с моделями самолетов и количеством рейсов, осуществленных каждой моделью. Тип данных столбца с рейсами - bigint, целочисленный тип, вполне подходящий для отображения количества рейсов. Пропусков в таблице нет."
   ]
  },
  {
   "cell_type": "code",
   "execution_count": 11,
   "metadata": {},
   "outputs": [
    {
     "data": {
      "text/plain": [
       "DataFrame[city: string, average_flights: double]"
      ]
     },
     "execution_count": 11,
     "metadata": {},
     "output_type": "execute_result"
    }
   ],
   "source": [
    "spark_query_3"
   ]
  },
  {
   "cell_type": "code",
   "execution_count": 12,
   "metadata": {},
   "outputs": [
    {
     "name": "stdout",
     "output_type": "stream",
     "text": [
      "+-------------+------------------+\n",
      "|         city|   average_flights|\n",
      "+-------------+------------------+\n",
      "|       Абакан| 3.870967741935484|\n",
      "|      Анадырь|               1.0|\n",
      "|        Анапа| 2.161290322580645|\n",
      "|  Архангельск| 5.354838709677419|\n",
      "|    Астрахань|2.4516129032258065|\n",
      "|      Барнаул| 2.612903225806452|\n",
      "|     Белгород|               6.0|\n",
      "|   Белоярский|               2.0|\n",
      "| Благовещенск|               1.0|\n",
      "|       Братск|               1.0|\n",
      "|       Брянск|              10.0|\n",
      "|     Бугульма|               3.0|\n",
      "|  Владивосток|               3.0|\n",
      "|  Владикавказ|               2.0|\n",
      "|    Волгоград| 5.129032258064516|\n",
      "|      Воркута| 4.580645161290322|\n",
      "|      Воронеж|               2.0|\n",
      "|    Геленджик| 2.590909090909091|\n",
      "|Горно-Алтайск|1.3870967741935485|\n",
      "|      Грозный| 1.129032258064516|\n",
      "+-------------+------------------+\n",
      "only showing top 20 rows\n",
      "\n"
     ]
    }
   ],
   "source": [
    "spark_query_3.show()"
   ]
  },
  {
   "cell_type": "code",
   "execution_count": 13,
   "metadata": {},
   "outputs": [
    {
     "data": {
      "text/plain": [
       "101"
      ]
     },
     "execution_count": 13,
     "metadata": {},
     "output_type": "execute_result"
    }
   ],
   "source": [
    "spark_query_3.count()"
   ]
  },
  {
   "cell_type": "code",
   "execution_count": 14,
   "metadata": {},
   "outputs": [
    {
     "name": "stdout",
     "output_type": "stream",
     "text": [
      "+-------+---------+------------------+\n",
      "|summary|     city|   average_flights|\n",
      "+-------+---------+------------------+\n",
      "|  count|      101|               101|\n",
      "|   mean|     null| 5.494189113891766|\n",
      "| stddev|     null|13.119790408521778|\n",
      "|    min|   Абакан|               1.0|\n",
      "|    max|Ярославль|129.77419354838707|\n",
      "+-------+---------+------------------+\n",
      "\n"
     ]
    }
   ],
   "source": [
    "spark_query_3.describe().show()"
   ]
  },
  {
   "cell_type": "markdown",
   "metadata": {},
   "source": [
    "Запрос 3 представляет собой таблицу из 101 объекта - списком городов и средним количеством рейсов, прибывающих в город в указанный период. Тип данных double подходит для отображения дробных чисел. Пропусков в таблице нет. "
   ]
  },
  {
   "cell_type": "markdown",
   "metadata": {},
   "source": [
    "Выведем 10 городов с максимальным значением среднего количества прибывающих рейсов. "
   ]
  },
  {
   "cell_type": "code",
   "execution_count": 15,
   "metadata": {},
   "outputs": [
    {
     "name": "stdout",
     "output_type": "stream",
     "text": [
      "+---------------+------------------+\n",
      "|           city|   average_flights|\n",
      "+---------------+------------------+\n",
      "|         Москва|129.77419354838707|\n",
      "|Санкт-Петербург|31.161290322580648|\n",
      "|    Новосибирск| 17.32258064516129|\n",
      "|     Красноярск|11.580645161290322|\n",
      "|   Екатеринбург| 11.32258064516129|\n",
      "| Ростов-на-Дону|10.193548387096774|\n",
      "|          Пермь|10.129032258064516|\n",
      "|         Брянск|              10.0|\n",
      "|           Сочи| 9.612903225806452|\n",
      "|      Ульяновск| 9.580645161290322|\n",
      "+---------------+------------------+\n",
      "only showing top 10 rows\n",
      "\n"
     ]
    }
   ],
   "source": [
    "spark_query_3.sort('average_flights', ascending = False).show(10)"
   ]
  },
  {
   "cell_type": "markdown",
   "metadata": {},
   "source": [
    "Более подробный анализ мы проведедем вместе с визуализацией данных, хотя некоторые очевидные выводы нетрудно сделать и сейчас."
   ]
  },
  {
   "cell_type": "markdown",
   "metadata": {},
   "source": [
    "### Графики"
   ]
  },
  {
   "cell_type": "markdown",
   "metadata": {},
   "source": [
    "Визуализируем данные 1 и 3 запросов. "
   ]
  },
  {
   "cell_type": "markdown",
   "metadata": {},
   "source": [
    "Построим графики количество рейсов в разбивке по моделям самолетов и их долевое соотношение."
   ]
  },
  {
   "cell_type": "code",
   "execution_count": 16,
   "metadata": {},
   "outputs": [
    {
     "data": {
      "text/plain": [
       "<matplotlib.axes._subplots.AxesSubplot at 0x7f9ffbe54390>"
      ]
     },
     "execution_count": 16,
     "metadata": {},
     "output_type": "execute_result"
    },
    {
     "data": {
      "image/png": "[encoded data removed]",
      "text/plain": [
       "<Figure size 720x504 with 1 Axes>"
      ]
     },
     "metadata": {
      "needs_background": "light"
     },
     "output_type": "display_data"
    }
   ],
   "source": [
    "query_1_df.plot(y = 'flights_amount', x = 'model', kind = 'barh', \n",
    "                color = 'slateblue', edgecolor = 'darkblue', alpha = 0.5, \n",
    "                grid = True, figsize = (10,7), title = 'Число рейсов сентября 2018 в разбивке по моделям')\n",
    "\n"
   ]
  },
  {
   "cell_type": "code",
   "execution_count": 17,
   "metadata": {},
   "outputs": [
    {
     "data": {
      "image/png": "[encoded data removed]",
      "text/plain": [
       "<Figure size 720x720 with 1 Axes>"
      ]
     },
     "metadata": {},
     "output_type": "display_data"
    }
   ],
   "source": [
    "plt.figure(figsize=(10,10))\n",
    "plt.pie(query_1_df.flights_amount, labels = query_1_df.model, autopct = '%1.1f%%') \n",
    "plt.show()"
   ]
  },
  {
   "cell_type": "markdown",
   "metadata": {},
   "source": [
    "Можно заметить, что по количеству рейсов в сентябре 2018 года с большим отрывом лидируют три модели: Bombardier CRj-200, Cessna 208 Caravan и Сухой Superjet-100. Вместе они заняли более трех четвертей пассажирских авиаперевозок в сентрябре 2018 года. "
   ]
  },
  {
   "cell_type": "markdown",
   "metadata": {},
   "source": [
    "Если говорить о городах, то большинство городов принимало за сентябрь в среднем менее 5 рейсов в день. Тем не менее, есть точка, отстоящая от основной группы показаний чрезвычайно далеко. Это Москва (что станет видно на другом графике)."
   ]
  },
  {
   "cell_type": "code",
   "execution_count": 18,
   "metadata": {},
   "outputs": [
    {
     "data": {
      "text/plain": [
       "<matplotlib.axes._subplots.AxesSubplot at 0x7f9ffb4e5050>"
      ]
     },
     "execution_count": 18,
     "metadata": {},
     "output_type": "execute_result"
    },
    {
     "data": {
      "image/png": "[encoded data removed]",
      "text/plain": [
       "<Figure size 432x288 with 1 Axes>"
      ]
     },
     "metadata": {
      "needs_background": "light"
     },
     "output_type": "display_data"
    }
   ],
   "source": [
    "sns.distplot(query_3_df.average_flights, kde = False,  bins=100,hist_kws={'edgecolor':'darkblue'})"
   ]
  },
  {
   "cell_type": "markdown",
   "metadata": {},
   "source": [
    "Так же можно заметить еще два показания, которые отстоят от общей группы. Как мы впоследствии увидим, это Санкт-Петербург и Новосибирск.  "
   ]
  },
  {
   "cell_type": "code",
   "execution_count": 19,
   "metadata": {},
   "outputs": [
    {
     "data": {
      "text/plain": [
       "<matplotlib.axes._subplots.AxesSubplot at 0x7f9ffb318650>"
      ]
     },
     "execution_count": 19,
     "metadata": {},
     "output_type": "execute_result"
    },
    {
     "data": {
      "image/png": "[encoded data removed]",
      "text/plain": [
       "<Figure size 432x288 with 1 Axes>"
      ]
     },
     "metadata": {
      "needs_background": "light"
     },
     "output_type": "display_data"
    }
   ],
   "source": [
    "query_3_df.plot(y = 'average_flights', kind = 'hist',\n",
    "                edgecolor='darkblue', alpha = 0.5, \n",
    "                bins = 50, range = [0,40])"
   ]
  },
  {
   "cell_type": "code",
   "execution_count": 20,
   "metadata": {},
   "outputs": [],
   "source": [
    "top10_cities_df = query_3_df.sort_values(by= 'average_flights', ascending = False).head(10)"
   ]
  },
  {
   "cell_type": "markdown",
   "metadata": {},
   "source": [
    "Построив график по первой десятке городов, мы можем заметить, насколько первая тройка городов отличается от прочих по среднему количеству принимаемых рейсов в день, и на сколько Москва отличается по пассажиропотоку от остальных городов. "
   ]
  },
  {
   "cell_type": "code",
   "execution_count": 21,
   "metadata": {},
   "outputs": [
    {
     "data": {
      "text/plain": [
       "<matplotlib.axes._subplots.AxesSubplot at 0x7f9ffb2ac610>"
      ]
     },
     "execution_count": 21,
     "metadata": {},
     "output_type": "execute_result"
    },
    {
     "data": {
      "image/png": "[encoded data removed]",
      "text/plain": [
       "<Figure size 720x504 with 1 Axes>"
      ]
     },
     "metadata": {
      "needs_background": "light"
     },
     "output_type": "display_data"
    }
   ],
   "source": [
    "top10_cities_df.plot(y = 'average_flights', x = 'city', kind = 'barh', \n",
    "                color = 'slateblue', edgecolor = 'darkblue', alpha = 0.5, \n",
    "                grid = True, figsize = (10,7), title = 'Топ-10 городов по среднему количеству рейсов за сентябрь 2018')\n"
   ]
  },
  {
   "cell_type": "markdown",
   "metadata": {},
   "source": [
    "На первом месте с огромным отрывом от остальных Москва, за ней, тоже со значительным отрывом от третьего места (почти в два раза) - Санкт-Петербург, на третьем месте Новосибирск. Разрыв между остальными городами по значению среднего количества рейсов не такой большой. "
   ]
  },
  {
   "cell_type": "markdown",
   "metadata": {},
   "source": [
    "## Вывод"
   ]
  },
  {
   "cell_type": "markdown",
   "metadata": {},
   "source": [
    "Окончательный вывод о том, влияет ли модель самолета на спрос на билеты на основании имеющихся данных сложно сделать. У пассажиров может и не быть выбора, на каком самолете лететь. В отсутствие других факторов вывод о том, влияет ли модель самолета на пассажирские предпочтения сделать невозможно. Тем не менее, можно утверждать, что в сентябре 2018 года более 75% рейсов выполнили самолеты трех моделей: Bombardier CRj-200, Cessna 208 Caravan и Сухой Superjet-100.\n",
    "\n",
    "Как и в случае с моделями самолетов, сложно сделать какие-то весомые выводы на основании этих данных. Большой пассажиропоток в Москве может быть обусловлен разными факторами, не все из которых свидетельствуют о спросе со стороны пассажиров на полеты именно в Москву как пункт назначения. Санкт-Петербург и Москва - и особенно Москва - являются транспортными хабами для всей России, куда из зарубежных поездок часто прилетают люди, чтобы затем разлететься по своим городам, что отчасти объясняет высокое значение среднего количества принимаемых рейсов в день. "
   ]
  },
  {
   "cell_type": "markdown",
   "metadata": {},
   "source": [
    "# 2. Проверка гипотезы"
   ]
  },
  {
   "cell_type": "markdown",
   "metadata": {},
   "source": [
    "Частично на вопрос о факторах пассажиропотока может помочь ответить последний запрос, в котором указаны даты, фестивали и количество билетов в соответствующие дни."
   ]
  },
  {
   "cell_type": "code",
   "execution_count": 22,
   "metadata": {},
   "outputs": [
    {
     "data": {
      "text/plain": [
       "DataFrame[week_number: int, ticket_amount: int, festival_week: string, festival_name: string]"
      ]
     },
     "execution_count": 22,
     "metadata": {},
     "output_type": "execute_result"
    }
   ],
   "source": [
    "query_last"
   ]
  },
  {
   "cell_type": "code",
   "execution_count": 23,
   "metadata": {},
   "outputs": [
    {
     "name": "stdout",
     "output_type": "stream",
     "text": [
      "+-----------+-------------+-------------+-------------+\n",
      "|week_number|ticket_amount|festival_week|festival_name|\n",
      "+-----------+-------------+-------------+-------------+\n",
      "|         30|        43568|           30|    Park Live|\n",
      "|         31|        51034|           31| Пикник Афиши|\n",
      "|         32|        51675|         NULL|         NULL|\n",
      "|         33|        51378|         NULL|         NULL|\n",
      "|         34|        51492|         NULL|         NULL|\n",
      "|         35|        51360|         NULL|         NULL|\n",
      "|         36|        51386|           36|      Видфест|\n",
      "|         37|        51670|         NULL|         NULL|\n",
      "|         38|        51518|         NULL|         NULL|\n",
      "|         39|        51623|         NULL|         NULL|\n",
      "+-----------+-------------+-------------+-------------+\n",
      "\n"
     ]
    }
   ],
   "source": [
    "query_last.show()"
   ]
  },
  {
   "cell_type": "markdown",
   "metadata": {},
   "source": [
    "Обратим внимание, что в таблице с последним запросом есть пропущенные значения, а так же на то, что в festival_week тип данных - string. Если название фестиваля для нас не столь важно, как его наличие, то указание на то, проводится фестиваль или нет - важно, мы будем делить таблицу по этому признаку. Значит, надо поменять тип данных в таблице и, для удобства, заменить NULL на 0."
   ]
  },
  {
   "cell_type": "code",
   "execution_count": 24,
   "metadata": {},
   "outputs": [],
   "source": [
    "from pyspark.sql.types import IntegerType\n",
    "query_last = query_last.withColumn(\"festival_week\", query_last[\"festival_week\"].cast(IntegerType()))"
   ]
  },
  {
   "cell_type": "code",
   "execution_count": 25,
   "metadata": {},
   "outputs": [
    {
     "data": {
      "text/plain": [
       "DataFrame[week_number: int, ticket_amount: int, festival_week: int, festival_name: string]"
      ]
     },
     "execution_count": 25,
     "metadata": {},
     "output_type": "execute_result"
    }
   ],
   "source": [
    "query_last"
   ]
  },
  {
   "cell_type": "code",
   "execution_count": 26,
   "metadata": {},
   "outputs": [
    {
     "name": "stdout",
     "output_type": "stream",
     "text": [
      "+-----------+-------------+-------------+-------------+\n",
      "|week_number|ticket_amount|festival_week|festival_name|\n",
      "+-----------+-------------+-------------+-------------+\n",
      "|         30|        43568|           30|    Park Live|\n",
      "|         31|        51034|           31| Пикник Афиши|\n",
      "|         32|        51675|         null|         NULL|\n",
      "|         33|        51378|         null|         NULL|\n",
      "|         34|        51492|         null|         NULL|\n",
      "|         35|        51360|         null|         NULL|\n",
      "|         36|        51386|           36|      Видфест|\n",
      "|         37|        51670|         null|         NULL|\n",
      "|         38|        51518|         null|         NULL|\n",
      "|         39|        51623|         null|         NULL|\n",
      "+-----------+-------------+-------------+-------------+\n",
      "\n"
     ]
    }
   ],
   "source": [
    "query_last.show()"
   ]
  },
  {
   "cell_type": "code",
   "execution_count": 27,
   "metadata": {},
   "outputs": [],
   "source": [
    "query_last = query_last.fillna(0)"
   ]
  },
  {
   "cell_type": "code",
   "execution_count": 28,
   "metadata": {},
   "outputs": [
    {
     "name": "stdout",
     "output_type": "stream",
     "text": [
      "+-----------+-------------+-------------+-------------+\n",
      "|week_number|ticket_amount|festival_week|festival_name|\n",
      "+-----------+-------------+-------------+-------------+\n",
      "|         30|        43568|           30|    Park Live|\n",
      "|         31|        51034|           31| Пикник Афиши|\n",
      "|         32|        51675|            0|         NULL|\n",
      "|         33|        51378|            0|         NULL|\n",
      "|         34|        51492|            0|         NULL|\n",
      "|         35|        51360|            0|         NULL|\n",
      "|         36|        51386|           36|      Видфест|\n",
      "|         37|        51670|            0|         NULL|\n",
      "|         38|        51518|            0|         NULL|\n",
      "|         39|        51623|            0|         NULL|\n",
      "+-----------+-------------+-------------+-------------+\n",
      "\n"
     ]
    }
   ],
   "source": [
    "query_last.show()"
   ]
  },
  {
   "cell_type": "markdown",
   "metadata": {},
   "source": [
    "Теперь мы можем легко отделить недели, в которые были фестивали, от недель, в которых фестивалей не было, высчитать для каждой группы среднее количество билетов и проверить гипотезу. "
   ]
  },
  {
   "cell_type": "code",
   "execution_count": 29,
   "metadata": {},
   "outputs": [
    {
     "name": "stdout",
     "output_type": "stream",
     "text": [
      "+-------------+\n",
      "|ticket_amount|\n",
      "+-------------+\n",
      "|        43568|\n",
      "|        51034|\n",
      "|        51386|\n",
      "+-------------+\n",
      "\n"
     ]
    }
   ],
   "source": [
    "query_last.registerTempTable(\"query_last\")\n",
    "\n",
    "spark.sql('SELECT ticket_amount FROM query_last WHERE festival_week > 0').show()"
   ]
  },
  {
   "cell_type": "code",
   "execution_count": 30,
   "metadata": {},
   "outputs": [],
   "source": [
    "fest = np.array(spark.sql('SELECT ticket_amount FROM query_last WHERE festival_week > 0').take(10))"
   ]
  },
  {
   "cell_type": "code",
   "execution_count": 31,
   "metadata": {},
   "outputs": [
    {
     "data": {
      "text/plain": [
       "array([[43568],\n",
       "       [51034],\n",
       "       [51386]])"
      ]
     },
     "execution_count": 31,
     "metadata": {},
     "output_type": "execute_result"
    }
   ],
   "source": [
    "fest"
   ]
  },
  {
   "cell_type": "code",
   "execution_count": 32,
   "metadata": {},
   "outputs": [],
   "source": [
    "no_fest = np.array(spark.sql('SELECT ticket_amount FROM query_last WHERE festival_week < 1').take(10))"
   ]
  },
  {
   "cell_type": "code",
   "execution_count": 33,
   "metadata": {},
   "outputs": [
    {
     "data": {
      "text/plain": [
       "array([[51675],\n",
       "       [51378],\n",
       "       [51492],\n",
       "       [51360],\n",
       "       [51670],\n",
       "       [51518],\n",
       "       [51623]])"
      ]
     },
     "execution_count": 33,
     "metadata": {},
     "output_type": "execute_result"
    }
   ],
   "source": [
    "no_fest"
   ]
  },
  {
   "cell_type": "code",
   "execution_count": 34,
   "metadata": {},
   "outputs": [
    {
     "data": {
      "text/plain": [
       "48662.666666666664"
      ]
     },
     "execution_count": 34,
     "metadata": {},
     "output_type": "execute_result"
    }
   ],
   "source": [
    "fest.mean()"
   ]
  },
  {
   "cell_type": "code",
   "execution_count": 35,
   "metadata": {},
   "outputs": [
    {
     "data": {
      "text/plain": [
       "51530.857142857145"
      ]
     },
     "execution_count": 35,
     "metadata": {},
     "output_type": "execute_result"
    }
   ],
   "source": [
    "no_fest.mean()"
   ]
  },
  {
   "cell_type": "markdown",
   "metadata": {},
   "source": [
    "Средние значения количества спроса на билеты в фестивальные и обычные недели довольно сильно отличаются. Однако есть вероятность, что отличия в средних случайны."
   ]
  },
  {
   "cell_type": "markdown",
   "metadata": {},
   "source": [
    "Сформулируем нулевую гипотезу (в виде равенства):\n",
    "«Средний спрос на билеты во время фестивалей не отличается от среднего спроса на билеты в обычное время».\n",
    "Альтернативная гипотеза:\n",
    "«Средний спрос на билеты во время фестивалей отличается от среднего спроса на билеты в обычное время».\n",
    "\n",
    "Для проверки гипотезы используем не параметрический U-критерий Манна — Уитни, подходящий для оценки различий между двумя малыми выборками, поскольку в нашем случае выборки действительно малые. Согласно авторитетному источнику (https://ru.wikipedia.org/wiki/U-%D0%BA%D1%80%D0%B8%D1%82%D0%B5%D1%80%D0%B8%D0%B9_%D0%9C%D0%B0%D0%BD%D0%BD%D0%B0_%E2%80%94_%D0%A3%D0%B8%D1%82%D0%BD%D0%B8) для применения теста необходимо, чтобы в обеих выборках было не менее 3 объектов (или в одной 2, в другой 5 и более). Этот критерий выполнен. "
   ]
  },
  {
   "cell_type": "code",
   "execution_count": 36,
   "metadata": {},
   "outputs": [],
   "source": [
    "from scipy import stats as st"
   ]
  },
  {
   "cell_type": "code",
   "execution_count": 37,
   "metadata": {},
   "outputs": [
    {
     "name": "stdout",
     "output_type": "stream",
     "text": [
      "p-значение: 0.03412374418900064\n",
      "Отвергаем нулевую гипотезу\n"
     ]
    }
   ],
   "source": [
    "alpha = .05 \n",
    "\n",
    "results = st.mannwhitneyu(fest, no_fest)\n",
    "\n",
    "print('p-значение:', results.pvalue)\n",
    "\n",
    "if (results.pvalue < alpha):\n",
    "    print(\"Отвергаем нулевую гипотезу\")\n",
    "else:\n",
    "    print(\"Не получилось отвергнуть нулевую гипотезу\")"
   ]
  },
  {
   "cell_type": "markdown",
   "metadata": {},
   "source": [
    "Критерий показал, что различия в средних значениях не случайны. Значит, нулевая гипотеза отвергается. Значит, средний спрос на билеты во время фестивалей отличается от среднего спроса на билеты в обычное время."
   ]
  },
  {
   "cell_type": "markdown",
   "metadata": {},
   "source": [
    "## Вывод"
   ]
  },
  {
   "cell_type": "markdown",
   "metadata": {},
   "source": [
    "На основе данных было выявлено, что в сентябре 2018 года основную часть рейсов осуществляли самолеты трех моделей: Bombardier CRj-200, Cessna 208 Caravan и Сухой Superjet-100. Сделать какие-то далеко идущие выводы о предпочтениях пассажиров на основе этих данных сложно, поскольку популярность этих моделей можно объяснить разными, в т.ч. не связанными со спросом потребителей причинами.\n",
    "\n",
    "Аналогично, было выявлено, что в сентябре 2018 года Москва с грандиозным отрывом лидировала по среднему количеству принимаемых рейсов в день. Однако это не окончательный показатель спроса пассажиров на рейсы именно в Москву, поскольку объяснить увеличенный пассажиропоток в Москве можно разными факторами.\n",
    "\n",
    "В результате проверки статистической гипотезы было выявлено, что средний спрос на билеты во время фестивалей отличается от среднего спроса на билеты в обычное время. Примечательно, что если сравнивать средний спрос на основе имеющихся данных, то среднее количество купленных билетов в фестивальные недели ниже, чем среднее количество купленных билетов в обычное время."
   ]
  }
 ],
 "metadata": {
  "kernelspec": {
   "display_name": "Python 3",
   "language": "python",
   "name": "python3"
  },
  "language_info": {
   "codemirror_mode": {
    "name": "ipython",
    "version": 3
   },
   "file_extension": ".py",
   "mimetype": "text/x-python",
   "name": "python",
   "nbconvert_exporter": "python",
   "pygments_lexer": "ipython3",
   "version": "3.7.6"
  }
 },
 "nbformat": 4,
 "nbformat_minor": 2
}
