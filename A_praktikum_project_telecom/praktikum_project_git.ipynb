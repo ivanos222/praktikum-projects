{
 "cells": [
  {
   "cell_type": "markdown",
   "metadata": {},
   "source": [
    "# Телеком: отток клиентов"
   ]
  },
  {
   "cell_type": "markdown",
   "metadata": {},
   "source": [
    "## Условие\n",
    "\n",
    "В рамках борьбы за уменьшение оттока клиентов оператор связи планирует предлагать скидки и специальные предложения клиентам, которые хотят уйти. Для этого ему необходимо научиться прогнозировать отток клиентов, а именно: __классифицировать клиентов на тех, кто уйдет, и тех кто останется__. Оператор собрал информацию об тарифах и договорах клиентов, об услугах, которые подключили клиенты и некоторые их персональные данные.\n",
    "\n",
    "### Описание услуг\n",
    "\n",
    "Оператор предоставляет два основных типа услуг: \n",
    "\n",
    "1. Стационарная телефонная связь. Дополниетлная опция: многокалнальная телефония - подключение аппарата к нескольким линиям.\n",
    "2. Интернет. Подключение может быть через телефонную линию (DSL) или через оптоволоконный кабель (Fiber optic). Дополнительные опции для интернета:\n",
    "    - антивирус (*DeviceProtection*); \n",
    "    - блокировка небезопасных сайтов (*OnlineSecurity*);\n",
    "    - Выделенная линия тех.поддержки (*TechSupport*);\n",
    "    - Облачное хранилище для резервной копии данных (*OnlineBackup*);\n",
    "    - Стриминговое телевидение (*StreamingTV*);\n",
    "    - Онлайн-фильмотека (*StreamingMovies*).\n",
    "\n",
    "Клиенты могут заключить договор на ежемесячную оплату или абонемент на 1 год или на 2 года. Доступны различные способы расчёта (электронный, по почте, автоматическое банковское списание и т.д.) и возможность получения электронного чека.\n",
    "\n",
    "### Описание данных\n",
    "\n",
    "Данные состоят из 4 файлов:\n",
    "\n",
    "- информация о договоре;\n",
    "- персональные данные клиента;\n",
    "- информация об интернет-услугах;\n",
    "- информация об услугах телефонии.\n",
    "\n",
    "Во всех файлах столбец `customerID` содержит код клиента.\n",
    "\n",
    "Информация о договорах актуальна на 1 февраля 2020."
   ]
  },
  {
   "cell_type": "markdown",
   "metadata": {},
   "source": [
    "## Задачи  \n",
    "\n",
    "__Основная задача:__ подготовить модель, которая могла бы решать задачу классификации клиентов на потенциально уходящих и на отсающихся. Ключевая метрика по настоянию заказчика - roc-auc, но также просьба включить более наглядный для коллег из бизнеса показатель accuracy.  \n",
    "\n",
    "__Дополнительная задача:__ коллеги из маркетинга просят проанализировать группы оставшихся и ушедших клиентов. Необходимо сравнить распределения величин ежемесячных платежей (MonthlyCharges)посчитать статистики (средние, минимальные и максимальные значения, квартили), постройте гистограммы распределения.\n",
    "\n",
    "Также нужно сравнить поведение клиентов этих двух групп, то есть построить два любых графика, изображающих:\n",
    "- долю пользователей телефонной связи;\n",
    "- долю интернет-пользователей.\n",
    "\n",
    "На основе краткого исследования надо будет предоставить __план__ работы.\n",
    "\n",
    "В конце тетради необходимо написать __отчет__."
   ]
  },
  {
   "cell_type": "markdown",
   "metadata": {},
   "source": [
    "## План"
   ]
  },
  {
   "cell_type": "markdown",
   "metadata": {},
   "source": [
    "1) Обработать данные.\n",
    "    - В датафрейме contract необходимо заменить типы данных в столбцах BeginDate, TotalCharges; \n",
    "    - EndDate стоит обработать, возможно, имеет смысл создать столбец с булевыми значениями, а в самом столбце EndDate заменить значения No на первое февраля 2020;\n",
    "    - В столбце TotalCharges есть пропуски, замаскированные под пробелы и потому не определяющиеся методом info(); возможно, пропуски есть и в других столбцах и датафреймах;\n",
    "    - Для удобства стоит поменять регистр в названиях стобцов;\n",
    "    - Следует объединить таблицы по признаку customerID.\n",
    "2) Исследовать данные.\n",
    "    - В распределении MonthlyChanges есть увеличенное количество клиентов с ежемесячными выплатами до 21, они занимают большой процент от выборки. Изучить подробнее на возможность ошибки/аномалии.\n",
    "    - Изучить возможность зависимости между разными услугами, способами оплаты и типом договора и ежемесячным платежом и фактом ухода; Возможно, стоит отбросить часть маловлияющих на вероятность ухода признаков ради скорости обучения модели; \n",
    "3) Обучить модель.\n",
    "    - Задача классификации, поэтому стоит привести целевой признак в соответствующую форму;\n",
    "    - Порядок объектов не играет роли, поэтому, возможно, имеет смысл прибегнуть к кросс-валидации;\n",
    "    - Возможно, имеет смысл рассчитать для пользователей длительность контракта и использовать его как признак (aka жизненный цикл потребителя)\n",
    "    - Попробовать логистическую регрессию, случайный лес и градиентный бустинг; перебрать гиперпараметры;\n",
    "4) Протестировать модель.\n",
    "    - Выделить тестовую часть выборки и проверить на ней;\n",
    "    - Ключевая метрика - roc-auc.\n",
    "    "
   ]
  },
  {
   "cell_type": "markdown",
   "metadata": {},
   "source": [
    "# Исследовательский анализ данных"
   ]
  },
  {
   "cell_type": "markdown",
   "metadata": {},
   "source": [
    "Импортируем необходимые библиотеки и загрузим данные."
   ]
  },
  {
   "cell_type": "code",
   "execution_count": 1,
   "metadata": {},
   "outputs": [],
   "source": [
    "import pandas as pd\n",
    "import numpy as np\n",
    "\n",
    "import matplotlib.pyplot as plt\n",
    "import seaborn as sns\n",
    "\n",
    "import copy\n",
    "\n",
    "from sklearn.model_selection import cross_validate\n",
    "from sklearn.model_selection import train_test_split\n",
    "from sklearn.linear_model import LogisticRegression\n",
    "from sklearn.ensemble import RandomForestClassifier\n",
    "from sklearn.preprocessing import StandardScaler\n",
    "from sklearn.preprocessing import OrdinalEncoder\n",
    "from sklearn.metrics import accuracy_score\n",
    "from sklearn.metrics import roc_auc_score\n",
    "from sklearn.metrics import roc_curve"
   ]
  },
  {
   "cell_type": "code",
   "execution_count": 2,
   "metadata": {},
   "outputs": [
    {
     "name": "stdout",
     "output_type": "stream",
     "text": [
      "Requirement already satisfied: catboost in d:\\tools\\anaconda3\\lib\\site-packages (0.23.2)\n",
      "Requirement already satisfied: matplotlib in d:\\tools\\anaconda3\\lib\\site-packages (from catboost) (3.1.3)\n",
      "Requirement already satisfied: graphviz in d:\\tools\\anaconda3\\lib\\site-packages (from catboost) (0.14)\n",
      "Requirement already satisfied: pandas>=0.24.0 in d:\\tools\\anaconda3\\lib\\site-packages (from catboost) (1.0.1)\n",
      "Requirement already satisfied: scipy in d:\\tools\\anaconda3\\lib\\site-packages (from catboost) (1.4.1)\n",
      "Requirement already satisfied: six in d:\\tools\\anaconda3\\lib\\site-packages (from catboost) (1.14.0)\n",
      "Requirement already satisfied: plotly in d:\\tools\\anaconda3\\lib\\site-packages (from catboost) (4.8.1)\n",
      "Requirement already satisfied: numpy>=1.16.0 in d:\\tools\\anaconda3\\lib\\site-packages (from catboost) (1.18.1)\n",
      "Requirement already satisfied: kiwisolver>=1.0.1 in d:\\tools\\anaconda3\\lib\\site-packages (from matplotlib->catboost) (1.1.0)\n",
      "Requirement already satisfied: python-dateutil>=2.1 in d:\\tools\\anaconda3\\lib\\site-packages (from matplotlib->catboost) (2.8.1)\n",
      "Requirement already satisfied: cycler>=0.10 in d:\\tools\\anaconda3\\lib\\site-packages (from matplotlib->catboost) (0.10.0)\n",
      "Requirement already satisfied: pyparsing!=2.0.4,!=2.1.2,!=2.1.6,>=2.0.1 in d:\\tools\\anaconda3\\lib\\site-packages (from matplotlib->catboost) (2.4.6)\n",
      "Requirement already satisfied: pytz>=2017.2 in d:\\tools\\anaconda3\\lib\\site-packages (from pandas>=0.24.0->catboost) (2019.3)\n",
      "Requirement already satisfied: retrying>=1.3.3 in d:\\tools\\anaconda3\\lib\\site-packages (from plotly->catboost) (1.3.3)\n",
      "Requirement already satisfied: setuptools in d:\\tools\\anaconda3\\lib\\site-packages (from kiwisolver>=1.0.1->matplotlib->catboost) (45.2.0.post20200210)\n",
      "Note: you may need to restart the kernel to use updated packages.\n"
     ]
    }
   ],
   "source": [
    "pip install catboost --no-cache-dir"
   ]
  },
  {
   "cell_type": "code",
   "execution_count": 3,
   "metadata": {},
   "outputs": [
    {
     "name": "stdout",
     "output_type": "stream",
     "text": [
      "Requirement already satisfied: lightgbm in d:\\tools\\anaconda3\\lib\\site-packages (2.3.1)\n",
      "Requirement already satisfied: scipy in d:\\tools\\anaconda3\\lib\\site-packages (from lightgbm) (1.4.1)\n",
      "Requirement already satisfied: numpy in d:\\tools\\anaconda3\\lib\\site-packages (from lightgbm) (1.18.1)\n",
      "Requirement already satisfied: scikit-learn in c:\\users\\пользователь\\appdata\\roaming\\python\\python37\\site-packages (from lightgbm) (0.23.1)\n",
      "Requirement already satisfied: threadpoolctl>=2.0.0 in c:\\users\\пользователь\\appdata\\roaming\\python\\python37\\site-packages (from scikit-learn->lightgbm) (2.1.0)\n",
      "Requirement already satisfied: joblib>=0.11 in d:\\tools\\anaconda3\\lib\\site-packages (from scikit-learn->lightgbm) (0.14.1)\n",
      "Note: you may need to restart the kernel to use updated packages.\n"
     ]
    }
   ],
   "source": [
    "pip install lightgbm"
   ]
  },
  {
   "cell_type": "code",
   "execution_count": null,
   "metadata": {},
   "outputs": [],
   "source": [
    "from lightgbm import LGBMClassifier\n",
    "from lightgbm import cv as lgbm_cv\n",
    "from lightgbm import Dataset\n",
    "\n",
    "from catboost import CatBoostClassifier\n",
    "from catboost import cv\n",
    "from catboost import Pool"
   ]
  },
  {
   "cell_type": "code",
   "execution_count": 4,
   "metadata": {},
   "outputs": [],
   "source": [
    "df_contract = pd.read_csv('...')\n",
    "df_internet = pd.read_csv('...')\n",
    "df_personal = pd.read_csv('...')\n",
    "df_phone = pd.read_csv('...')"
   ]
  },
  {
   "cell_type": "code",
   "execution_count": 5,
   "metadata": {},
   "outputs": [],
   "source": [
    "state = 12345"
   ]
  },
  {
   "cell_type": "markdown",
   "metadata": {},
   "source": [
    "## Предварительный осмотр данных"
   ]
  },
  {
   "cell_type": "code",
   "execution_count": 6,
   "metadata": {},
   "outputs": [
    {
     "data": {
      "text/html": [
       "<div>\n",
       "<style scoped>\n",
       "    .dataframe tbody tr th:only-of-type {\n",
       "        vertical-align: middle;\n",
       "    }\n",
       "\n",
       "    .dataframe tbody tr th {\n",
       "        vertical-align: top;\n",
       "    }\n",
       "\n",
       "    .dataframe thead th {\n",
       "        text-align: right;\n",
       "    }\n",
       "</style>\n",
       "<table border=\"1\" class=\"dataframe\">\n",
       "  <thead>\n",
       "    <tr style=\"text-align: right;\">\n",
       "      <th></th>\n",
       "      <th>customerID</th>\n",
       "      <th>BeginDate</th>\n",
       "      <th>EndDate</th>\n",
       "      <th>Type</th>\n",
       "      <th>PaperlessBilling</th>\n",
       "      <th>PaymentMethod</th>\n",
       "      <th>MonthlyCharges</th>\n",
       "      <th>TotalCharges</th>\n",
       "    </tr>\n",
       "  </thead>\n",
       "  <tbody>\n",
       "    <tr>\n",
       "      <th>0</th>\n",
       "      <td>7590-VHVEG</td>\n",
       "      <td>2020-01-01</td>\n",
       "      <td>No</td>\n",
       "      <td>Month-to-month</td>\n",
       "      <td>Yes</td>\n",
       "      <td>Electronic check</td>\n",
       "      <td>29.85</td>\n",
       "      <td>29.85</td>\n",
       "    </tr>\n",
       "    <tr>\n",
       "      <th>1</th>\n",
       "      <td>5575-GNVDE</td>\n",
       "      <td>2017-04-01</td>\n",
       "      <td>No</td>\n",
       "      <td>One year</td>\n",
       "      <td>No</td>\n",
       "      <td>Mailed check</td>\n",
       "      <td>56.95</td>\n",
       "      <td>1889.5</td>\n",
       "    </tr>\n",
       "    <tr>\n",
       "      <th>2</th>\n",
       "      <td>3668-QPYBK</td>\n",
       "      <td>2019-10-01</td>\n",
       "      <td>2019-12-01 00:00:00</td>\n",
       "      <td>Month-to-month</td>\n",
       "      <td>Yes</td>\n",
       "      <td>Mailed check</td>\n",
       "      <td>53.85</td>\n",
       "      <td>108.15</td>\n",
       "    </tr>\n",
       "    <tr>\n",
       "      <th>3</th>\n",
       "      <td>7795-CFOCW</td>\n",
       "      <td>2016-05-01</td>\n",
       "      <td>No</td>\n",
       "      <td>One year</td>\n",
       "      <td>No</td>\n",
       "      <td>Bank transfer (automatic)</td>\n",
       "      <td>42.30</td>\n",
       "      <td>1840.75</td>\n",
       "    </tr>\n",
       "    <tr>\n",
       "      <th>4</th>\n",
       "      <td>9237-HQITU</td>\n",
       "      <td>2019-09-01</td>\n",
       "      <td>2019-11-01 00:00:00</td>\n",
       "      <td>Month-to-month</td>\n",
       "      <td>Yes</td>\n",
       "      <td>Electronic check</td>\n",
       "      <td>70.70</td>\n",
       "      <td>151.65</td>\n",
       "    </tr>\n",
       "    <tr>\n",
       "      <th>5</th>\n",
       "      <td>9305-CDSKC</td>\n",
       "      <td>2019-03-01</td>\n",
       "      <td>2019-11-01 00:00:00</td>\n",
       "      <td>Month-to-month</td>\n",
       "      <td>Yes</td>\n",
       "      <td>Electronic check</td>\n",
       "      <td>99.65</td>\n",
       "      <td>820.5</td>\n",
       "    </tr>\n",
       "    <tr>\n",
       "      <th>6</th>\n",
       "      <td>1452-KIOVK</td>\n",
       "      <td>2018-04-01</td>\n",
       "      <td>No</td>\n",
       "      <td>Month-to-month</td>\n",
       "      <td>Yes</td>\n",
       "      <td>Credit card (automatic)</td>\n",
       "      <td>89.10</td>\n",
       "      <td>1949.4</td>\n",
       "    </tr>\n",
       "    <tr>\n",
       "      <th>7</th>\n",
       "      <td>6713-OKOMC</td>\n",
       "      <td>2019-04-01</td>\n",
       "      <td>No</td>\n",
       "      <td>Month-to-month</td>\n",
       "      <td>No</td>\n",
       "      <td>Mailed check</td>\n",
       "      <td>29.75</td>\n",
       "      <td>301.9</td>\n",
       "    </tr>\n",
       "    <tr>\n",
       "      <th>8</th>\n",
       "      <td>7892-POOKP</td>\n",
       "      <td>2017-07-01</td>\n",
       "      <td>2019-11-01 00:00:00</td>\n",
       "      <td>Month-to-month</td>\n",
       "      <td>Yes</td>\n",
       "      <td>Electronic check</td>\n",
       "      <td>104.80</td>\n",
       "      <td>3046.05</td>\n",
       "    </tr>\n",
       "    <tr>\n",
       "      <th>9</th>\n",
       "      <td>6388-TABGU</td>\n",
       "      <td>2014-12-01</td>\n",
       "      <td>No</td>\n",
       "      <td>One year</td>\n",
       "      <td>No</td>\n",
       "      <td>Bank transfer (automatic)</td>\n",
       "      <td>56.15</td>\n",
       "      <td>3487.95</td>\n",
       "    </tr>\n",
       "  </tbody>\n",
       "</table>\n",
       "</div>"
      ],
      "text/plain": [
       "   customerID   BeginDate              EndDate            Type  \\\n",
       "0  7590-VHVEG  2020-01-01                   No  Month-to-month   \n",
       "1  5575-GNVDE  2017-04-01                   No        One year   \n",
       "2  3668-QPYBK  2019-10-01  2019-12-01 00:00:00  Month-to-month   \n",
       "3  7795-CFOCW  2016-05-01                   No        One year   \n",
       "4  9237-HQITU  2019-09-01  2019-11-01 00:00:00  Month-to-month   \n",
       "5  9305-CDSKC  2019-03-01  2019-11-01 00:00:00  Month-to-month   \n",
       "6  1452-KIOVK  2018-04-01                   No  Month-to-month   \n",
       "7  6713-OKOMC  2019-04-01                   No  Month-to-month   \n",
       "8  7892-POOKP  2017-07-01  2019-11-01 00:00:00  Month-to-month   \n",
       "9  6388-TABGU  2014-12-01                   No        One year   \n",
       "\n",
       "  PaperlessBilling              PaymentMethod  MonthlyCharges TotalCharges  \n",
       "0              Yes           Electronic check           29.85        29.85  \n",
       "1               No               Mailed check           56.95       1889.5  \n",
       "2              Yes               Mailed check           53.85       108.15  \n",
       "3               No  Bank transfer (automatic)           42.30      1840.75  \n",
       "4              Yes           Electronic check           70.70       151.65  \n",
       "5              Yes           Electronic check           99.65        820.5  \n",
       "6              Yes    Credit card (automatic)           89.10       1949.4  \n",
       "7               No               Mailed check           29.75        301.9  \n",
       "8              Yes           Electronic check          104.80      3046.05  \n",
       "9               No  Bank transfer (automatic)           56.15      3487.95  "
      ]
     },
     "execution_count": 6,
     "metadata": {},
     "output_type": "execute_result"
    }
   ],
   "source": [
    "df_contract.head(10)"
   ]
  },
  {
   "cell_type": "code",
   "execution_count": 7,
   "metadata": {},
   "outputs": [
    {
     "name": "stdout",
     "output_type": "stream",
     "text": [
      "<class 'pandas.core.frame.DataFrame'>\n",
      "RangeIndex: 7043 entries, 0 to 7042\n",
      "Data columns (total 8 columns):\n",
      " #   Column            Non-Null Count  Dtype  \n",
      "---  ------            --------------  -----  \n",
      " 0   customerID        7043 non-null   object \n",
      " 1   BeginDate         7043 non-null   object \n",
      " 2   EndDate           7043 non-null   object \n",
      " 3   Type              7043 non-null   object \n",
      " 4   PaperlessBilling  7043 non-null   object \n",
      " 5   PaymentMethod     7043 non-null   object \n",
      " 6   MonthlyCharges    7043 non-null   float64\n",
      " 7   TotalCharges      7043 non-null   object \n",
      "dtypes: float64(1), object(7)\n",
      "memory usage: 440.3+ KB\n"
     ]
    }
   ],
   "source": [
    "df_contract.info()"
   ]
  },
  {
   "cell_type": "markdown",
   "metadata": {},
   "source": [
    "В столбцах BeginDate, EndDate, TotalCharges стоит заменить типы данных.  \n",
    "В столбце EndDate содержится информация о целевом признаке, хотя она приведена в неудобном формате для задачи классификации. Для удобства стоит создать столбец с булевыми значениями, принимающими True для контрактов, у которых стоит дата окончания, и False для тех, которые еще не истекли.  \n",
    "В самом же EndDate можно No заменить на 2020.02.01, чтобы рассчитывать количество времени, которое действовал контракт на момент выгрузки. Это может быть полезным, во-первых, как признак для обучения модели, поскольку фактором ухода может оказаться просто продолжительность пользования услугами компании - у потребителя во многих сферах производства товаров и услуг есть свой жизненный цикл, к концу которого даже лояльный пользователь перестает потреблять продукты компании - так и для заполнения пропусков, если они обнаружатся.  "
   ]
  },
  {
   "cell_type": "code",
   "execution_count": 8,
   "metadata": {},
   "outputs": [
    {
     "data": {
      "text/html": [
       "<div>\n",
       "<style scoped>\n",
       "    .dataframe tbody tr th:only-of-type {\n",
       "        vertical-align: middle;\n",
       "    }\n",
       "\n",
       "    .dataframe tbody tr th {\n",
       "        vertical-align: top;\n",
       "    }\n",
       "\n",
       "    .dataframe thead th {\n",
       "        text-align: right;\n",
       "    }\n",
       "</style>\n",
       "<table border=\"1\" class=\"dataframe\">\n",
       "  <thead>\n",
       "    <tr style=\"text-align: right;\">\n",
       "      <th></th>\n",
       "      <th>customerID</th>\n",
       "      <th>InternetService</th>\n",
       "      <th>OnlineSecurity</th>\n",
       "      <th>OnlineBackup</th>\n",
       "      <th>DeviceProtection</th>\n",
       "      <th>TechSupport</th>\n",
       "      <th>StreamingTV</th>\n",
       "      <th>StreamingMovies</th>\n",
       "    </tr>\n",
       "  </thead>\n",
       "  <tbody>\n",
       "    <tr>\n",
       "      <th>0</th>\n",
       "      <td>7590-VHVEG</td>\n",
       "      <td>DSL</td>\n",
       "      <td>No</td>\n",
       "      <td>Yes</td>\n",
       "      <td>No</td>\n",
       "      <td>No</td>\n",
       "      <td>No</td>\n",
       "      <td>No</td>\n",
       "    </tr>\n",
       "    <tr>\n",
       "      <th>1</th>\n",
       "      <td>5575-GNVDE</td>\n",
       "      <td>DSL</td>\n",
       "      <td>Yes</td>\n",
       "      <td>No</td>\n",
       "      <td>Yes</td>\n",
       "      <td>No</td>\n",
       "      <td>No</td>\n",
       "      <td>No</td>\n",
       "    </tr>\n",
       "    <tr>\n",
       "      <th>2</th>\n",
       "      <td>3668-QPYBK</td>\n",
       "      <td>DSL</td>\n",
       "      <td>Yes</td>\n",
       "      <td>Yes</td>\n",
       "      <td>No</td>\n",
       "      <td>No</td>\n",
       "      <td>No</td>\n",
       "      <td>No</td>\n",
       "    </tr>\n",
       "    <tr>\n",
       "      <th>3</th>\n",
       "      <td>7795-CFOCW</td>\n",
       "      <td>DSL</td>\n",
       "      <td>Yes</td>\n",
       "      <td>No</td>\n",
       "      <td>Yes</td>\n",
       "      <td>Yes</td>\n",
       "      <td>No</td>\n",
       "      <td>No</td>\n",
       "    </tr>\n",
       "    <tr>\n",
       "      <th>4</th>\n",
       "      <td>9237-HQITU</td>\n",
       "      <td>Fiber optic</td>\n",
       "      <td>No</td>\n",
       "      <td>No</td>\n",
       "      <td>No</td>\n",
       "      <td>No</td>\n",
       "      <td>No</td>\n",
       "      <td>No</td>\n",
       "    </tr>\n",
       "    <tr>\n",
       "      <th>5</th>\n",
       "      <td>9305-CDSKC</td>\n",
       "      <td>Fiber optic</td>\n",
       "      <td>No</td>\n",
       "      <td>No</td>\n",
       "      <td>Yes</td>\n",
       "      <td>No</td>\n",
       "      <td>Yes</td>\n",
       "      <td>Yes</td>\n",
       "    </tr>\n",
       "    <tr>\n",
       "      <th>6</th>\n",
       "      <td>1452-KIOVK</td>\n",
       "      <td>Fiber optic</td>\n",
       "      <td>No</td>\n",
       "      <td>Yes</td>\n",
       "      <td>No</td>\n",
       "      <td>No</td>\n",
       "      <td>Yes</td>\n",
       "      <td>No</td>\n",
       "    </tr>\n",
       "    <tr>\n",
       "      <th>7</th>\n",
       "      <td>6713-OKOMC</td>\n",
       "      <td>DSL</td>\n",
       "      <td>Yes</td>\n",
       "      <td>No</td>\n",
       "      <td>No</td>\n",
       "      <td>No</td>\n",
       "      <td>No</td>\n",
       "      <td>No</td>\n",
       "    </tr>\n",
       "    <tr>\n",
       "      <th>8</th>\n",
       "      <td>7892-POOKP</td>\n",
       "      <td>Fiber optic</td>\n",
       "      <td>No</td>\n",
       "      <td>No</td>\n",
       "      <td>Yes</td>\n",
       "      <td>Yes</td>\n",
       "      <td>Yes</td>\n",
       "      <td>Yes</td>\n",
       "    </tr>\n",
       "    <tr>\n",
       "      <th>9</th>\n",
       "      <td>6388-TABGU</td>\n",
       "      <td>DSL</td>\n",
       "      <td>Yes</td>\n",
       "      <td>Yes</td>\n",
       "      <td>No</td>\n",
       "      <td>No</td>\n",
       "      <td>No</td>\n",
       "      <td>No</td>\n",
       "    </tr>\n",
       "  </tbody>\n",
       "</table>\n",
       "</div>"
      ],
      "text/plain": [
       "   customerID InternetService OnlineSecurity OnlineBackup DeviceProtection  \\\n",
       "0  7590-VHVEG             DSL             No          Yes               No   \n",
       "1  5575-GNVDE             DSL            Yes           No              Yes   \n",
       "2  3668-QPYBK             DSL            Yes          Yes               No   \n",
       "3  7795-CFOCW             DSL            Yes           No              Yes   \n",
       "4  9237-HQITU     Fiber optic             No           No               No   \n",
       "5  9305-CDSKC     Fiber optic             No           No              Yes   \n",
       "6  1452-KIOVK     Fiber optic             No          Yes               No   \n",
       "7  6713-OKOMC             DSL            Yes           No               No   \n",
       "8  7892-POOKP     Fiber optic             No           No              Yes   \n",
       "9  6388-TABGU             DSL            Yes          Yes               No   \n",
       "\n",
       "  TechSupport StreamingTV StreamingMovies  \n",
       "0          No          No              No  \n",
       "1          No          No              No  \n",
       "2          No          No              No  \n",
       "3         Yes          No              No  \n",
       "4          No          No              No  \n",
       "5          No         Yes             Yes  \n",
       "6          No         Yes              No  \n",
       "7          No          No              No  \n",
       "8         Yes         Yes             Yes  \n",
       "9          No          No              No  "
      ]
     },
     "execution_count": 8,
     "metadata": {},
     "output_type": "execute_result"
    }
   ],
   "source": [
    "df_internet.head(10)"
   ]
  },
  {
   "cell_type": "code",
   "execution_count": 9,
   "metadata": {},
   "outputs": [
    {
     "name": "stdout",
     "output_type": "stream",
     "text": [
      "<class 'pandas.core.frame.DataFrame'>\n",
      "RangeIndex: 5517 entries, 0 to 5516\n",
      "Data columns (total 8 columns):\n",
      " #   Column            Non-Null Count  Dtype \n",
      "---  ------            --------------  ----- \n",
      " 0   customerID        5517 non-null   object\n",
      " 1   InternetService   5517 non-null   object\n",
      " 2   OnlineSecurity    5517 non-null   object\n",
      " 3   OnlineBackup      5517 non-null   object\n",
      " 4   DeviceProtection  5517 non-null   object\n",
      " 5   TechSupport       5517 non-null   object\n",
      " 6   StreamingTV       5517 non-null   object\n",
      " 7   StreamingMovies   5517 non-null   object\n",
      "dtypes: object(8)\n",
      "memory usage: 344.9+ KB\n"
     ]
    }
   ],
   "source": [
    "df_internet.info()"
   ]
  },
  {
   "cell_type": "markdown",
   "metadata": {},
   "source": [
    "С датафреймом internet все на первый взгляд в порядке, очевидных пропусков нет, типы данных в целом подходят. Заменять типы на булевы в последних шести столбцах строгой необходимости нет, но для удобства, а так же для того, чтобы передать модели меньше категориальных признаков, можно будет заменить тип данных на булев."
   ]
  },
  {
   "cell_type": "code",
   "execution_count": 10,
   "metadata": {},
   "outputs": [
    {
     "data": {
      "text/plain": [
       "array([0, 1], dtype=int64)"
      ]
     },
     "execution_count": 10,
     "metadata": {},
     "output_type": "execute_result"
    }
   ],
   "source": [
    "df_personal.SeniorCitizen.unique()"
   ]
  },
  {
   "cell_type": "code",
   "execution_count": 11,
   "metadata": {},
   "outputs": [
    {
     "data": {
      "text/plain": [
       "array(['DSL', 'Fiber optic'], dtype=object)"
      ]
     },
     "execution_count": 11,
     "metadata": {},
     "output_type": "execute_result"
    }
   ],
   "source": [
    "df_internet.InternetService.unique()"
   ]
  },
  {
   "cell_type": "code",
   "execution_count": 12,
   "metadata": {},
   "outputs": [
    {
     "data": {
      "text/html": [
       "<div>\n",
       "<style scoped>\n",
       "    .dataframe tbody tr th:only-of-type {\n",
       "        vertical-align: middle;\n",
       "    }\n",
       "\n",
       "    .dataframe tbody tr th {\n",
       "        vertical-align: top;\n",
       "    }\n",
       "\n",
       "    .dataframe thead th {\n",
       "        text-align: right;\n",
       "    }\n",
       "</style>\n",
       "<table border=\"1\" class=\"dataframe\">\n",
       "  <thead>\n",
       "    <tr style=\"text-align: right;\">\n",
       "      <th></th>\n",
       "      <th>customerID</th>\n",
       "      <th>gender</th>\n",
       "      <th>SeniorCitizen</th>\n",
       "      <th>Partner</th>\n",
       "      <th>Dependents</th>\n",
       "    </tr>\n",
       "  </thead>\n",
       "  <tbody>\n",
       "    <tr>\n",
       "      <th>0</th>\n",
       "      <td>7590-VHVEG</td>\n",
       "      <td>Female</td>\n",
       "      <td>0</td>\n",
       "      <td>Yes</td>\n",
       "      <td>No</td>\n",
       "    </tr>\n",
       "    <tr>\n",
       "      <th>1</th>\n",
       "      <td>5575-GNVDE</td>\n",
       "      <td>Male</td>\n",
       "      <td>0</td>\n",
       "      <td>No</td>\n",
       "      <td>No</td>\n",
       "    </tr>\n",
       "    <tr>\n",
       "      <th>2</th>\n",
       "      <td>3668-QPYBK</td>\n",
       "      <td>Male</td>\n",
       "      <td>0</td>\n",
       "      <td>No</td>\n",
       "      <td>No</td>\n",
       "    </tr>\n",
       "    <tr>\n",
       "      <th>3</th>\n",
       "      <td>7795-CFOCW</td>\n",
       "      <td>Male</td>\n",
       "      <td>0</td>\n",
       "      <td>No</td>\n",
       "      <td>No</td>\n",
       "    </tr>\n",
       "    <tr>\n",
       "      <th>4</th>\n",
       "      <td>9237-HQITU</td>\n",
       "      <td>Female</td>\n",
       "      <td>0</td>\n",
       "      <td>No</td>\n",
       "      <td>No</td>\n",
       "    </tr>\n",
       "  </tbody>\n",
       "</table>\n",
       "</div>"
      ],
      "text/plain": [
       "   customerID  gender  SeniorCitizen Partner Dependents\n",
       "0  7590-VHVEG  Female              0     Yes         No\n",
       "1  5575-GNVDE    Male              0      No         No\n",
       "2  3668-QPYBK    Male              0      No         No\n",
       "3  7795-CFOCW    Male              0      No         No\n",
       "4  9237-HQITU  Female              0      No         No"
      ]
     },
     "execution_count": 12,
     "metadata": {},
     "output_type": "execute_result"
    }
   ],
   "source": [
    "df_personal.head()"
   ]
  },
  {
   "cell_type": "code",
   "execution_count": 13,
   "metadata": {},
   "outputs": [
    {
     "name": "stdout",
     "output_type": "stream",
     "text": [
      "<class 'pandas.core.frame.DataFrame'>\n",
      "RangeIndex: 7043 entries, 0 to 7042\n",
      "Data columns (total 5 columns):\n",
      " #   Column         Non-Null Count  Dtype \n",
      "---  ------         --------------  ----- \n",
      " 0   customerID     7043 non-null   object\n",
      " 1   gender         7043 non-null   object\n",
      " 2   SeniorCitizen  7043 non-null   int64 \n",
      " 3   Partner        7043 non-null   object\n",
      " 4   Dependents     7043 non-null   object\n",
      "dtypes: int64(1), object(4)\n",
      "memory usage: 275.2+ KB\n"
     ]
    }
   ],
   "source": [
    "df_personal.info()"
   ]
  },
  {
   "cell_type": "markdown",
   "metadata": {},
   "source": [
    "С датафреймом personal все тоже на первый взгляд в порядке."
   ]
  },
  {
   "cell_type": "code",
   "execution_count": 14,
   "metadata": {},
   "outputs": [
    {
     "data": {
      "text/html": [
       "<div>\n",
       "<style scoped>\n",
       "    .dataframe tbody tr th:only-of-type {\n",
       "        vertical-align: middle;\n",
       "    }\n",
       "\n",
       "    .dataframe tbody tr th {\n",
       "        vertical-align: top;\n",
       "    }\n",
       "\n",
       "    .dataframe thead th {\n",
       "        text-align: right;\n",
       "    }\n",
       "</style>\n",
       "<table border=\"1\" class=\"dataframe\">\n",
       "  <thead>\n",
       "    <tr style=\"text-align: right;\">\n",
       "      <th></th>\n",
       "      <th>customerID</th>\n",
       "      <th>MultipleLines</th>\n",
       "    </tr>\n",
       "  </thead>\n",
       "  <tbody>\n",
       "    <tr>\n",
       "      <th>0</th>\n",
       "      <td>5575-GNVDE</td>\n",
       "      <td>No</td>\n",
       "    </tr>\n",
       "    <tr>\n",
       "      <th>1</th>\n",
       "      <td>3668-QPYBK</td>\n",
       "      <td>No</td>\n",
       "    </tr>\n",
       "    <tr>\n",
       "      <th>2</th>\n",
       "      <td>9237-HQITU</td>\n",
       "      <td>No</td>\n",
       "    </tr>\n",
       "    <tr>\n",
       "      <th>3</th>\n",
       "      <td>9305-CDSKC</td>\n",
       "      <td>Yes</td>\n",
       "    </tr>\n",
       "    <tr>\n",
       "      <th>4</th>\n",
       "      <td>1452-KIOVK</td>\n",
       "      <td>Yes</td>\n",
       "    </tr>\n",
       "    <tr>\n",
       "      <th>5</th>\n",
       "      <td>7892-POOKP</td>\n",
       "      <td>Yes</td>\n",
       "    </tr>\n",
       "    <tr>\n",
       "      <th>6</th>\n",
       "      <td>6388-TABGU</td>\n",
       "      <td>No</td>\n",
       "    </tr>\n",
       "    <tr>\n",
       "      <th>7</th>\n",
       "      <td>9763-GRSKD</td>\n",
       "      <td>No</td>\n",
       "    </tr>\n",
       "    <tr>\n",
       "      <th>8</th>\n",
       "      <td>7469-LKBCI</td>\n",
       "      <td>No</td>\n",
       "    </tr>\n",
       "    <tr>\n",
       "      <th>9</th>\n",
       "      <td>8091-TTVAX</td>\n",
       "      <td>Yes</td>\n",
       "    </tr>\n",
       "  </tbody>\n",
       "</table>\n",
       "</div>"
      ],
      "text/plain": [
       "   customerID MultipleLines\n",
       "0  5575-GNVDE            No\n",
       "1  3668-QPYBK            No\n",
       "2  9237-HQITU            No\n",
       "3  9305-CDSKC           Yes\n",
       "4  1452-KIOVK           Yes\n",
       "5  7892-POOKP           Yes\n",
       "6  6388-TABGU            No\n",
       "7  9763-GRSKD            No\n",
       "8  7469-LKBCI            No\n",
       "9  8091-TTVAX           Yes"
      ]
     },
     "execution_count": 14,
     "metadata": {},
     "output_type": "execute_result"
    }
   ],
   "source": [
    "df_phone.head(10)"
   ]
  },
  {
   "cell_type": "code",
   "execution_count": 15,
   "metadata": {},
   "outputs": [
    {
     "name": "stdout",
     "output_type": "stream",
     "text": [
      "<class 'pandas.core.frame.DataFrame'>\n",
      "RangeIndex: 6361 entries, 0 to 6360\n",
      "Data columns (total 2 columns):\n",
      " #   Column         Non-Null Count  Dtype \n",
      "---  ------         --------------  ----- \n",
      " 0   customerID     6361 non-null   object\n",
      " 1   MultipleLines  6361 non-null   object\n",
      "dtypes: object(2)\n",
      "memory usage: 99.5+ KB\n"
     ]
    }
   ],
   "source": [
    "df_phone.info()"
   ]
  },
  {
   "cell_type": "code",
   "execution_count": 16,
   "metadata": {},
   "outputs": [
    {
     "data": {
      "text/plain": [
       "array([0, 1], dtype=int64)"
      ]
     },
     "execution_count": 16,
     "metadata": {},
     "output_type": "execute_result"
    }
   ],
   "source": [
    "df_personal.SeniorCitizen.unique()"
   ]
  },
  {
   "cell_type": "markdown",
   "metadata": {},
   "source": [
    "### Вывод по итогу предварительного осмотра данных"
   ]
  },
  {
   "cell_type": "markdown",
   "metadata": {},
   "source": [
    "В таблице df_contract стоит поменять типы данных у столбцов, подготовить целевой признак, заменить значения No в столбце EndDate. Также хорошо бы поменять регистр у названий столбцов во всех датафреймах.  "
   ]
  },
  {
   "cell_type": "markdown",
   "metadata": {},
   "source": [
    "## Обработка данных"
   ]
  },
  {
   "cell_type": "markdown",
   "metadata": {},
   "source": [
    "При попытке поменять тип данных в TotalCharges выдается ошибка в 488 строке."
   ]
  },
  {
   "cell_type": "code",
   "execution_count": 17,
   "metadata": {},
   "outputs": [
    {
     "data": {
      "text/plain": [
       "' '"
      ]
     },
     "execution_count": 17,
     "metadata": {},
     "output_type": "execute_result"
    }
   ],
   "source": [
    "df_contract.loc[488, 'TotalCharges']"
   ]
  },
  {
   "cell_type": "markdown",
   "metadata": {},
   "source": [
    "Выясняется, что в столбце есть пропуск, замаскированный под пробел и потому не обнаруженный с помощью метода info(). Таких пропусков в столбце 11."
   ]
  },
  {
   "cell_type": "code",
   "execution_count": 18,
   "metadata": {},
   "outputs": [
    {
     "data": {
      "text/plain": [
       "11"
      ]
     },
     "execution_count": 18,
     "metadata": {},
     "output_type": "execute_result"
    }
   ],
   "source": [
    "df_contract[df_contract.TotalCharges == ' '].TotalCharges.count()"
   ]
  },
  {
   "cell_type": "markdown",
   "metadata": {},
   "source": [
    "Несмотря на то, что этот столбец не нужен нам для выполнения просьбы маркетологов, для будущей работы будет полезно заменить его на нормальный пропуск."
   ]
  },
  {
   "cell_type": "code",
   "execution_count": 19,
   "metadata": {},
   "outputs": [],
   "source": [
    "df_contract.loc[df_contract.TotalCharges == ' ','TotalCharges'] = np.nan"
   ]
  },
  {
   "cell_type": "code",
   "execution_count": 20,
   "metadata": {},
   "outputs": [],
   "source": [
    "df_contract['TotalCharges'] = pd.to_numeric(df_contract['TotalCharges'])"
   ]
  },
  {
   "cell_type": "code",
   "execution_count": 21,
   "metadata": {},
   "outputs": [
    {
     "name": "stdout",
     "output_type": "stream",
     "text": [
      "<class 'pandas.core.frame.DataFrame'>\n",
      "RangeIndex: 7043 entries, 0 to 7042\n",
      "Data columns (total 8 columns):\n",
      " #   Column            Non-Null Count  Dtype  \n",
      "---  ------            --------------  -----  \n",
      " 0   customerID        7043 non-null   object \n",
      " 1   BeginDate         7043 non-null   object \n",
      " 2   EndDate           7043 non-null   object \n",
      " 3   Type              7043 non-null   object \n",
      " 4   PaperlessBilling  7043 non-null   object \n",
      " 5   PaymentMethod     7043 non-null   object \n",
      " 6   MonthlyCharges    7043 non-null   float64\n",
      " 7   TotalCharges      7032 non-null   float64\n",
      "dtypes: float64(2), object(6)\n",
      "memory usage: 440.3+ KB\n"
     ]
    }
   ],
   "source": [
    "df_contract.info()"
   ]
  },
  {
   "cell_type": "markdown",
   "metadata": {},
   "source": [
    "Пропущенных значений не так много, посмотрим, что это за объекты."
   ]
  },
  {
   "cell_type": "code",
   "execution_count": 22,
   "metadata": {},
   "outputs": [
    {
     "data": {
      "text/html": [
       "<div>\n",
       "<style scoped>\n",
       "    .dataframe tbody tr th:only-of-type {\n",
       "        vertical-align: middle;\n",
       "    }\n",
       "\n",
       "    .dataframe tbody tr th {\n",
       "        vertical-align: top;\n",
       "    }\n",
       "\n",
       "    .dataframe thead th {\n",
       "        text-align: right;\n",
       "    }\n",
       "</style>\n",
       "<table border=\"1\" class=\"dataframe\">\n",
       "  <thead>\n",
       "    <tr style=\"text-align: right;\">\n",
       "      <th></th>\n",
       "      <th>customerID</th>\n",
       "      <th>BeginDate</th>\n",
       "      <th>EndDate</th>\n",
       "      <th>Type</th>\n",
       "      <th>PaperlessBilling</th>\n",
       "      <th>PaymentMethod</th>\n",
       "      <th>MonthlyCharges</th>\n",
       "      <th>TotalCharges</th>\n",
       "    </tr>\n",
       "  </thead>\n",
       "  <tbody>\n",
       "    <tr>\n",
       "      <th>488</th>\n",
       "      <td>4472-LVYGI</td>\n",
       "      <td>2020-02-01</td>\n",
       "      <td>No</td>\n",
       "      <td>Two year</td>\n",
       "      <td>Yes</td>\n",
       "      <td>Bank transfer (automatic)</td>\n",
       "      <td>52.55</td>\n",
       "      <td>NaN</td>\n",
       "    </tr>\n",
       "    <tr>\n",
       "      <th>753</th>\n",
       "      <td>3115-CZMZD</td>\n",
       "      <td>2020-02-01</td>\n",
       "      <td>No</td>\n",
       "      <td>Two year</td>\n",
       "      <td>No</td>\n",
       "      <td>Mailed check</td>\n",
       "      <td>20.25</td>\n",
       "      <td>NaN</td>\n",
       "    </tr>\n",
       "    <tr>\n",
       "      <th>936</th>\n",
       "      <td>5709-LVOEQ</td>\n",
       "      <td>2020-02-01</td>\n",
       "      <td>No</td>\n",
       "      <td>Two year</td>\n",
       "      <td>No</td>\n",
       "      <td>Mailed check</td>\n",
       "      <td>80.85</td>\n",
       "      <td>NaN</td>\n",
       "    </tr>\n",
       "    <tr>\n",
       "      <th>1082</th>\n",
       "      <td>4367-NUYAO</td>\n",
       "      <td>2020-02-01</td>\n",
       "      <td>No</td>\n",
       "      <td>Two year</td>\n",
       "      <td>No</td>\n",
       "      <td>Mailed check</td>\n",
       "      <td>25.75</td>\n",
       "      <td>NaN</td>\n",
       "    </tr>\n",
       "    <tr>\n",
       "      <th>1340</th>\n",
       "      <td>1371-DWPAZ</td>\n",
       "      <td>2020-02-01</td>\n",
       "      <td>No</td>\n",
       "      <td>Two year</td>\n",
       "      <td>No</td>\n",
       "      <td>Credit card (automatic)</td>\n",
       "      <td>56.05</td>\n",
       "      <td>NaN</td>\n",
       "    </tr>\n",
       "    <tr>\n",
       "      <th>3331</th>\n",
       "      <td>7644-OMVMY</td>\n",
       "      <td>2020-02-01</td>\n",
       "      <td>No</td>\n",
       "      <td>Two year</td>\n",
       "      <td>No</td>\n",
       "      <td>Mailed check</td>\n",
       "      <td>19.85</td>\n",
       "      <td>NaN</td>\n",
       "    </tr>\n",
       "    <tr>\n",
       "      <th>3826</th>\n",
       "      <td>3213-VVOLG</td>\n",
       "      <td>2020-02-01</td>\n",
       "      <td>No</td>\n",
       "      <td>Two year</td>\n",
       "      <td>No</td>\n",
       "      <td>Mailed check</td>\n",
       "      <td>25.35</td>\n",
       "      <td>NaN</td>\n",
       "    </tr>\n",
       "    <tr>\n",
       "      <th>4380</th>\n",
       "      <td>2520-SGTTA</td>\n",
       "      <td>2020-02-01</td>\n",
       "      <td>No</td>\n",
       "      <td>Two year</td>\n",
       "      <td>No</td>\n",
       "      <td>Mailed check</td>\n",
       "      <td>20.00</td>\n",
       "      <td>NaN</td>\n",
       "    </tr>\n",
       "    <tr>\n",
       "      <th>5218</th>\n",
       "      <td>2923-ARZLG</td>\n",
       "      <td>2020-02-01</td>\n",
       "      <td>No</td>\n",
       "      <td>One year</td>\n",
       "      <td>Yes</td>\n",
       "      <td>Mailed check</td>\n",
       "      <td>19.70</td>\n",
       "      <td>NaN</td>\n",
       "    </tr>\n",
       "    <tr>\n",
       "      <th>6670</th>\n",
       "      <td>4075-WKNIU</td>\n",
       "      <td>2020-02-01</td>\n",
       "      <td>No</td>\n",
       "      <td>Two year</td>\n",
       "      <td>No</td>\n",
       "      <td>Mailed check</td>\n",
       "      <td>73.35</td>\n",
       "      <td>NaN</td>\n",
       "    </tr>\n",
       "    <tr>\n",
       "      <th>6754</th>\n",
       "      <td>2775-SEFEE</td>\n",
       "      <td>2020-02-01</td>\n",
       "      <td>No</td>\n",
       "      <td>Two year</td>\n",
       "      <td>Yes</td>\n",
       "      <td>Bank transfer (automatic)</td>\n",
       "      <td>61.90</td>\n",
       "      <td>NaN</td>\n",
       "    </tr>\n",
       "  </tbody>\n",
       "</table>\n",
       "</div>"
      ],
      "text/plain": [
       "      customerID   BeginDate EndDate      Type PaperlessBilling  \\\n",
       "488   4472-LVYGI  2020-02-01      No  Two year              Yes   \n",
       "753   3115-CZMZD  2020-02-01      No  Two year               No   \n",
       "936   5709-LVOEQ  2020-02-01      No  Two year               No   \n",
       "1082  4367-NUYAO  2020-02-01      No  Two year               No   \n",
       "1340  1371-DWPAZ  2020-02-01      No  Two year               No   \n",
       "3331  7644-OMVMY  2020-02-01      No  Two year               No   \n",
       "3826  3213-VVOLG  2020-02-01      No  Two year               No   \n",
       "4380  2520-SGTTA  2020-02-01      No  Two year               No   \n",
       "5218  2923-ARZLG  2020-02-01      No  One year              Yes   \n",
       "6670  4075-WKNIU  2020-02-01      No  Two year               No   \n",
       "6754  2775-SEFEE  2020-02-01      No  Two year              Yes   \n",
       "\n",
       "                  PaymentMethod  MonthlyCharges  TotalCharges  \n",
       "488   Bank transfer (automatic)           52.55           NaN  \n",
       "753                Mailed check           20.25           NaN  \n",
       "936                Mailed check           80.85           NaN  \n",
       "1082               Mailed check           25.75           NaN  \n",
       "1340    Credit card (automatic)           56.05           NaN  \n",
       "3331               Mailed check           19.85           NaN  \n",
       "3826               Mailed check           25.35           NaN  \n",
       "4380               Mailed check           20.00           NaN  \n",
       "5218               Mailed check           19.70           NaN  \n",
       "6670               Mailed check           73.35           NaN  \n",
       "6754  Bank transfer (automatic)           61.90           NaN  "
      ]
     },
     "execution_count": 22,
     "metadata": {},
     "output_type": "execute_result"
    }
   ],
   "source": [
    "df_contract.loc[df_contract.TotalCharges.isna()==True, :]"
   ]
  },
  {
   "cell_type": "markdown",
   "metadata": {},
   "source": [
    "Оказывается, это пользователи, которые заключили договор в дату выгрузки. Им установлен размер ежемесячного платежа, однако, скорее всего, с них еще не успели снять деньги, или же платежная информация еще не была занесена в базу данных. Фактически, их накопленный платеж можно приравнять нулю.  \n",
    "Однако, по большому счету, данные о них не несут нам никакой релевантной информации о вероятности ухода потребителя, поскольку уже на следующий день с даты выгрузки они могли и отказаться от услуг компании, пусть даже и заплатив за них.  \n",
    "Правильнее все удалить эти данные, тем более их совсем немного."
   ]
  },
  {
   "cell_type": "code",
   "execution_count": 23,
   "metadata": {},
   "outputs": [],
   "source": [
    "df_contract = df_contract.dropna(subset = ['TotalCharges'])"
   ]
  },
  {
   "cell_type": "markdown",
   "metadata": {},
   "source": [
    "Заодно заменим тип данных и в столбце BeginDate."
   ]
  },
  {
   "cell_type": "code",
   "execution_count": 24,
   "metadata": {},
   "outputs": [],
   "source": [
    "df_contract.BeginDate = pd.to_datetime(df_contract.BeginDate, format='%Y.%m.%d')"
   ]
  },
  {
   "cell_type": "markdown",
   "metadata": {},
   "source": [
    "Для выполнения просьбы маркетологов, а так же для удобства и корректного обучения модели следует оформить целевой признак: создать столбец с булевым типом данных."
   ]
  },
  {
   "cell_type": "code",
   "execution_count": 25,
   "metadata": {},
   "outputs": [],
   "source": [
    "df_contract['has_quitted'] = df_contract.EndDate != 'No'"
   ]
  },
  {
   "cell_type": "code",
   "execution_count": 26,
   "metadata": {},
   "outputs": [
    {
     "name": "stdout",
     "output_type": "stream",
     "text": [
      "<class 'pandas.core.frame.DataFrame'>\n",
      "Int64Index: 7032 entries, 0 to 7042\n",
      "Data columns (total 9 columns):\n",
      " #   Column            Non-Null Count  Dtype         \n",
      "---  ------            --------------  -----         \n",
      " 0   customerID        7032 non-null   object        \n",
      " 1   BeginDate         7032 non-null   datetime64[ns]\n",
      " 2   EndDate           7032 non-null   object        \n",
      " 3   Type              7032 non-null   object        \n",
      " 4   PaperlessBilling  7032 non-null   object        \n",
      " 5   PaymentMethod     7032 non-null   object        \n",
      " 6   MonthlyCharges    7032 non-null   float64       \n",
      " 7   TotalCharges      7032 non-null   float64       \n",
      " 8   has_quitted       7032 non-null   bool          \n",
      "dtypes: bool(1), datetime64[ns](1), float64(2), object(5)\n",
      "memory usage: 501.3+ KB\n"
     ]
    }
   ],
   "source": [
    "df_contract.info()"
   ]
  },
  {
   "cell_type": "code",
   "execution_count": 27,
   "metadata": {},
   "outputs": [
    {
     "data": {
      "text/html": [
       "<div>\n",
       "<style scoped>\n",
       "    .dataframe tbody tr th:only-of-type {\n",
       "        vertical-align: middle;\n",
       "    }\n",
       "\n",
       "    .dataframe tbody tr th {\n",
       "        vertical-align: top;\n",
       "    }\n",
       "\n",
       "    .dataframe thead th {\n",
       "        text-align: right;\n",
       "    }\n",
       "</style>\n",
       "<table border=\"1\" class=\"dataframe\">\n",
       "  <thead>\n",
       "    <tr style=\"text-align: right;\">\n",
       "      <th></th>\n",
       "      <th>customerID</th>\n",
       "      <th>BeginDate</th>\n",
       "      <th>EndDate</th>\n",
       "      <th>Type</th>\n",
       "      <th>PaperlessBilling</th>\n",
       "      <th>PaymentMethod</th>\n",
       "      <th>MonthlyCharges</th>\n",
       "      <th>TotalCharges</th>\n",
       "      <th>has_quitted</th>\n",
       "    </tr>\n",
       "  </thead>\n",
       "  <tbody>\n",
       "    <tr>\n",
       "      <th>0</th>\n",
       "      <td>7590-VHVEG</td>\n",
       "      <td>2020-01-01</td>\n",
       "      <td>No</td>\n",
       "      <td>Month-to-month</td>\n",
       "      <td>Yes</td>\n",
       "      <td>Electronic check</td>\n",
       "      <td>29.85</td>\n",
       "      <td>29.85</td>\n",
       "      <td>False</td>\n",
       "    </tr>\n",
       "    <tr>\n",
       "      <th>1</th>\n",
       "      <td>5575-GNVDE</td>\n",
       "      <td>2017-04-01</td>\n",
       "      <td>No</td>\n",
       "      <td>One year</td>\n",
       "      <td>No</td>\n",
       "      <td>Mailed check</td>\n",
       "      <td>56.95</td>\n",
       "      <td>1889.50</td>\n",
       "      <td>False</td>\n",
       "    </tr>\n",
       "    <tr>\n",
       "      <th>2</th>\n",
       "      <td>3668-QPYBK</td>\n",
       "      <td>2019-10-01</td>\n",
       "      <td>2019-12-01 00:00:00</td>\n",
       "      <td>Month-to-month</td>\n",
       "      <td>Yes</td>\n",
       "      <td>Mailed check</td>\n",
       "      <td>53.85</td>\n",
       "      <td>108.15</td>\n",
       "      <td>True</td>\n",
       "    </tr>\n",
       "    <tr>\n",
       "      <th>3</th>\n",
       "      <td>7795-CFOCW</td>\n",
       "      <td>2016-05-01</td>\n",
       "      <td>No</td>\n",
       "      <td>One year</td>\n",
       "      <td>No</td>\n",
       "      <td>Bank transfer (automatic)</td>\n",
       "      <td>42.30</td>\n",
       "      <td>1840.75</td>\n",
       "      <td>False</td>\n",
       "    </tr>\n",
       "    <tr>\n",
       "      <th>4</th>\n",
       "      <td>9237-HQITU</td>\n",
       "      <td>2019-09-01</td>\n",
       "      <td>2019-11-01 00:00:00</td>\n",
       "      <td>Month-to-month</td>\n",
       "      <td>Yes</td>\n",
       "      <td>Electronic check</td>\n",
       "      <td>70.70</td>\n",
       "      <td>151.65</td>\n",
       "      <td>True</td>\n",
       "    </tr>\n",
       "    <tr>\n",
       "      <th>5</th>\n",
       "      <td>9305-CDSKC</td>\n",
       "      <td>2019-03-01</td>\n",
       "      <td>2019-11-01 00:00:00</td>\n",
       "      <td>Month-to-month</td>\n",
       "      <td>Yes</td>\n",
       "      <td>Electronic check</td>\n",
       "      <td>99.65</td>\n",
       "      <td>820.50</td>\n",
       "      <td>True</td>\n",
       "    </tr>\n",
       "    <tr>\n",
       "      <th>6</th>\n",
       "      <td>1452-KIOVK</td>\n",
       "      <td>2018-04-01</td>\n",
       "      <td>No</td>\n",
       "      <td>Month-to-month</td>\n",
       "      <td>Yes</td>\n",
       "      <td>Credit card (automatic)</td>\n",
       "      <td>89.10</td>\n",
       "      <td>1949.40</td>\n",
       "      <td>False</td>\n",
       "    </tr>\n",
       "    <tr>\n",
       "      <th>7</th>\n",
       "      <td>6713-OKOMC</td>\n",
       "      <td>2019-04-01</td>\n",
       "      <td>No</td>\n",
       "      <td>Month-to-month</td>\n",
       "      <td>No</td>\n",
       "      <td>Mailed check</td>\n",
       "      <td>29.75</td>\n",
       "      <td>301.90</td>\n",
       "      <td>False</td>\n",
       "    </tr>\n",
       "    <tr>\n",
       "      <th>8</th>\n",
       "      <td>7892-POOKP</td>\n",
       "      <td>2017-07-01</td>\n",
       "      <td>2019-11-01 00:00:00</td>\n",
       "      <td>Month-to-month</td>\n",
       "      <td>Yes</td>\n",
       "      <td>Electronic check</td>\n",
       "      <td>104.80</td>\n",
       "      <td>3046.05</td>\n",
       "      <td>True</td>\n",
       "    </tr>\n",
       "    <tr>\n",
       "      <th>9</th>\n",
       "      <td>6388-TABGU</td>\n",
       "      <td>2014-12-01</td>\n",
       "      <td>No</td>\n",
       "      <td>One year</td>\n",
       "      <td>No</td>\n",
       "      <td>Bank transfer (automatic)</td>\n",
       "      <td>56.15</td>\n",
       "      <td>3487.95</td>\n",
       "      <td>False</td>\n",
       "    </tr>\n",
       "  </tbody>\n",
       "</table>\n",
       "</div>"
      ],
      "text/plain": [
       "   customerID  BeginDate              EndDate            Type  \\\n",
       "0  7590-VHVEG 2020-01-01                   No  Month-to-month   \n",
       "1  5575-GNVDE 2017-04-01                   No        One year   \n",
       "2  3668-QPYBK 2019-10-01  2019-12-01 00:00:00  Month-to-month   \n",
       "3  7795-CFOCW 2016-05-01                   No        One year   \n",
       "4  9237-HQITU 2019-09-01  2019-11-01 00:00:00  Month-to-month   \n",
       "5  9305-CDSKC 2019-03-01  2019-11-01 00:00:00  Month-to-month   \n",
       "6  1452-KIOVK 2018-04-01                   No  Month-to-month   \n",
       "7  6713-OKOMC 2019-04-01                   No  Month-to-month   \n",
       "8  7892-POOKP 2017-07-01  2019-11-01 00:00:00  Month-to-month   \n",
       "9  6388-TABGU 2014-12-01                   No        One year   \n",
       "\n",
       "  PaperlessBilling              PaymentMethod  MonthlyCharges  TotalCharges  \\\n",
       "0              Yes           Electronic check           29.85         29.85   \n",
       "1               No               Mailed check           56.95       1889.50   \n",
       "2              Yes               Mailed check           53.85        108.15   \n",
       "3               No  Bank transfer (automatic)           42.30       1840.75   \n",
       "4              Yes           Electronic check           70.70        151.65   \n",
       "5              Yes           Electronic check           99.65        820.50   \n",
       "6              Yes    Credit card (automatic)           89.10       1949.40   \n",
       "7               No               Mailed check           29.75        301.90   \n",
       "8              Yes           Electronic check          104.80       3046.05   \n",
       "9               No  Bank transfer (automatic)           56.15       3487.95   \n",
       "\n",
       "   has_quitted  \n",
       "0        False  \n",
       "1        False  \n",
       "2         True  \n",
       "3        False  \n",
       "4         True  \n",
       "5         True  \n",
       "6        False  \n",
       "7        False  \n",
       "8         True  \n",
       "9        False  "
      ]
     },
     "execution_count": 27,
     "metadata": {},
     "output_type": "execute_result"
    }
   ],
   "source": [
    "df_contract.head(10)"
   ]
  },
  {
   "cell_type": "markdown",
   "metadata": {},
   "source": [
    "Теперь можно заменить значения No на дату выгрузки и поменять тип данных на DateTime, это пригодится в дальнейшем."
   ]
  },
  {
   "cell_type": "code",
   "execution_count": 28,
   "metadata": {},
   "outputs": [],
   "source": [
    "df_contract.loc[df_contract['EndDate']=='No', 'EndDate'] = '2020-02-01'"
   ]
  },
  {
   "cell_type": "code",
   "execution_count": 29,
   "metadata": {},
   "outputs": [],
   "source": [
    "df_contract.EndDate = pd.to_datetime(df_contract.EndDate, format='%Y.%m.%d')"
   ]
  },
  {
   "cell_type": "code",
   "execution_count": 30,
   "metadata": {},
   "outputs": [
    {
     "data": {
      "text/html": [
       "<div>\n",
       "<style scoped>\n",
       "    .dataframe tbody tr th:only-of-type {\n",
       "        vertical-align: middle;\n",
       "    }\n",
       "\n",
       "    .dataframe tbody tr th {\n",
       "        vertical-align: top;\n",
       "    }\n",
       "\n",
       "    .dataframe thead th {\n",
       "        text-align: right;\n",
       "    }\n",
       "</style>\n",
       "<table border=\"1\" class=\"dataframe\">\n",
       "  <thead>\n",
       "    <tr style=\"text-align: right;\">\n",
       "      <th></th>\n",
       "      <th>customerID</th>\n",
       "      <th>BeginDate</th>\n",
       "      <th>EndDate</th>\n",
       "      <th>Type</th>\n",
       "      <th>PaperlessBilling</th>\n",
       "      <th>PaymentMethod</th>\n",
       "      <th>MonthlyCharges</th>\n",
       "      <th>TotalCharges</th>\n",
       "      <th>has_quitted</th>\n",
       "    </tr>\n",
       "  </thead>\n",
       "  <tbody>\n",
       "    <tr>\n",
       "      <th>0</th>\n",
       "      <td>7590-VHVEG</td>\n",
       "      <td>2020-01-01</td>\n",
       "      <td>2020-02-01</td>\n",
       "      <td>Month-to-month</td>\n",
       "      <td>Yes</td>\n",
       "      <td>Electronic check</td>\n",
       "      <td>29.85</td>\n",
       "      <td>29.85</td>\n",
       "      <td>False</td>\n",
       "    </tr>\n",
       "    <tr>\n",
       "      <th>1</th>\n",
       "      <td>5575-GNVDE</td>\n",
       "      <td>2017-04-01</td>\n",
       "      <td>2020-02-01</td>\n",
       "      <td>One year</td>\n",
       "      <td>No</td>\n",
       "      <td>Mailed check</td>\n",
       "      <td>56.95</td>\n",
       "      <td>1889.50</td>\n",
       "      <td>False</td>\n",
       "    </tr>\n",
       "    <tr>\n",
       "      <th>2</th>\n",
       "      <td>3668-QPYBK</td>\n",
       "      <td>2019-10-01</td>\n",
       "      <td>2019-12-01</td>\n",
       "      <td>Month-to-month</td>\n",
       "      <td>Yes</td>\n",
       "      <td>Mailed check</td>\n",
       "      <td>53.85</td>\n",
       "      <td>108.15</td>\n",
       "      <td>True</td>\n",
       "    </tr>\n",
       "    <tr>\n",
       "      <th>3</th>\n",
       "      <td>7795-CFOCW</td>\n",
       "      <td>2016-05-01</td>\n",
       "      <td>2020-02-01</td>\n",
       "      <td>One year</td>\n",
       "      <td>No</td>\n",
       "      <td>Bank transfer (automatic)</td>\n",
       "      <td>42.30</td>\n",
       "      <td>1840.75</td>\n",
       "      <td>False</td>\n",
       "    </tr>\n",
       "    <tr>\n",
       "      <th>4</th>\n",
       "      <td>9237-HQITU</td>\n",
       "      <td>2019-09-01</td>\n",
       "      <td>2019-11-01</td>\n",
       "      <td>Month-to-month</td>\n",
       "      <td>Yes</td>\n",
       "      <td>Electronic check</td>\n",
       "      <td>70.70</td>\n",
       "      <td>151.65</td>\n",
       "      <td>True</td>\n",
       "    </tr>\n",
       "    <tr>\n",
       "      <th>5</th>\n",
       "      <td>9305-CDSKC</td>\n",
       "      <td>2019-03-01</td>\n",
       "      <td>2019-11-01</td>\n",
       "      <td>Month-to-month</td>\n",
       "      <td>Yes</td>\n",
       "      <td>Electronic check</td>\n",
       "      <td>99.65</td>\n",
       "      <td>820.50</td>\n",
       "      <td>True</td>\n",
       "    </tr>\n",
       "    <tr>\n",
       "      <th>6</th>\n",
       "      <td>1452-KIOVK</td>\n",
       "      <td>2018-04-01</td>\n",
       "      <td>2020-02-01</td>\n",
       "      <td>Month-to-month</td>\n",
       "      <td>Yes</td>\n",
       "      <td>Credit card (automatic)</td>\n",
       "      <td>89.10</td>\n",
       "      <td>1949.40</td>\n",
       "      <td>False</td>\n",
       "    </tr>\n",
       "    <tr>\n",
       "      <th>7</th>\n",
       "      <td>6713-OKOMC</td>\n",
       "      <td>2019-04-01</td>\n",
       "      <td>2020-02-01</td>\n",
       "      <td>Month-to-month</td>\n",
       "      <td>No</td>\n",
       "      <td>Mailed check</td>\n",
       "      <td>29.75</td>\n",
       "      <td>301.90</td>\n",
       "      <td>False</td>\n",
       "    </tr>\n",
       "    <tr>\n",
       "      <th>8</th>\n",
       "      <td>7892-POOKP</td>\n",
       "      <td>2017-07-01</td>\n",
       "      <td>2019-11-01</td>\n",
       "      <td>Month-to-month</td>\n",
       "      <td>Yes</td>\n",
       "      <td>Electronic check</td>\n",
       "      <td>104.80</td>\n",
       "      <td>3046.05</td>\n",
       "      <td>True</td>\n",
       "    </tr>\n",
       "    <tr>\n",
       "      <th>9</th>\n",
       "      <td>6388-TABGU</td>\n",
       "      <td>2014-12-01</td>\n",
       "      <td>2020-02-01</td>\n",
       "      <td>One year</td>\n",
       "      <td>No</td>\n",
       "      <td>Bank transfer (automatic)</td>\n",
       "      <td>56.15</td>\n",
       "      <td>3487.95</td>\n",
       "      <td>False</td>\n",
       "    </tr>\n",
       "  </tbody>\n",
       "</table>\n",
       "</div>"
      ],
      "text/plain": [
       "   customerID  BeginDate    EndDate            Type PaperlessBilling  \\\n",
       "0  7590-VHVEG 2020-01-01 2020-02-01  Month-to-month              Yes   \n",
       "1  5575-GNVDE 2017-04-01 2020-02-01        One year               No   \n",
       "2  3668-QPYBK 2019-10-01 2019-12-01  Month-to-month              Yes   \n",
       "3  7795-CFOCW 2016-05-01 2020-02-01        One year               No   \n",
       "4  9237-HQITU 2019-09-01 2019-11-01  Month-to-month              Yes   \n",
       "5  9305-CDSKC 2019-03-01 2019-11-01  Month-to-month              Yes   \n",
       "6  1452-KIOVK 2018-04-01 2020-02-01  Month-to-month              Yes   \n",
       "7  6713-OKOMC 2019-04-01 2020-02-01  Month-to-month               No   \n",
       "8  7892-POOKP 2017-07-01 2019-11-01  Month-to-month              Yes   \n",
       "9  6388-TABGU 2014-12-01 2020-02-01        One year               No   \n",
       "\n",
       "               PaymentMethod  MonthlyCharges  TotalCharges  has_quitted  \n",
       "0           Electronic check           29.85         29.85        False  \n",
       "1               Mailed check           56.95       1889.50        False  \n",
       "2               Mailed check           53.85        108.15         True  \n",
       "3  Bank transfer (automatic)           42.30       1840.75        False  \n",
       "4           Electronic check           70.70        151.65         True  \n",
       "5           Electronic check           99.65        820.50         True  \n",
       "6    Credit card (automatic)           89.10       1949.40        False  \n",
       "7               Mailed check           29.75        301.90        False  \n",
       "8           Electronic check          104.80       3046.05         True  \n",
       "9  Bank transfer (automatic)           56.15       3487.95        False  "
      ]
     },
     "execution_count": 30,
     "metadata": {},
     "output_type": "execute_result"
    }
   ],
   "source": [
    "df_contract.head(10)"
   ]
  },
  {
   "cell_type": "markdown",
   "metadata": {},
   "source": [
    "На всякий случай проверим столбцы с категориальными данными на предмет каких-нибудь затаившихся пропусков."
   ]
  },
  {
   "cell_type": "code",
   "execution_count": 31,
   "metadata": {},
   "outputs": [
    {
     "data": {
      "text/plain": [
       "array(['Month-to-month', 'One year', 'Two year'], dtype=object)"
      ]
     },
     "execution_count": 31,
     "metadata": {},
     "output_type": "execute_result"
    }
   ],
   "source": [
    "df_contract.Type.unique()"
   ]
  },
  {
   "cell_type": "code",
   "execution_count": 32,
   "metadata": {},
   "outputs": [
    {
     "data": {
      "text/plain": [
       "array(['Yes', 'No'], dtype=object)"
      ]
     },
     "execution_count": 32,
     "metadata": {},
     "output_type": "execute_result"
    }
   ],
   "source": [
    "df_contract.PaperlessBilling.unique()"
   ]
  },
  {
   "cell_type": "code",
   "execution_count": 33,
   "metadata": {},
   "outputs": [
    {
     "data": {
      "text/plain": [
       "array(['Electronic check', 'Mailed check', 'Bank transfer (automatic)',\n",
       "       'Credit card (automatic)'], dtype=object)"
      ]
     },
     "execution_count": 33,
     "metadata": {},
     "output_type": "execute_result"
    }
   ],
   "source": [
    "df_contract.PaymentMethod.unique()"
   ]
  },
  {
   "cell_type": "markdown",
   "metadata": {},
   "source": [
    "Скрытых пропусков в категориальных признаках не обнаружено."
   ]
  },
  {
   "cell_type": "markdown",
   "metadata": {},
   "source": [
    "Проверим, нет ли дубликатов в первичном ключе - customerID."
   ]
  },
  {
   "cell_type": "code",
   "execution_count": 34,
   "metadata": {},
   "outputs": [
    {
     "data": {
      "text/plain": [
       "0"
      ]
     },
     "execution_count": 34,
     "metadata": {},
     "output_type": "execute_result"
    }
   ],
   "source": [
    "df_contract.customerID.duplicated().sum()"
   ]
  },
  {
   "cell_type": "markdown",
   "metadata": {},
   "source": [
    "Дубликатов нет."
   ]
  },
  {
   "cell_type": "markdown",
   "metadata": {},
   "source": [
    "Вернемся к датам. Используем их, чтобы создать признак months_of_contract, рассчитанный, как количество месяцев от даты заключения контракта до даты расторжения контракта для тех, кто расторгнул договор, или до даты выгрузки - первое февраля 2020 года - для оставшихся пользователей.  \n",
    "Этот показатель, фактически, будет представлять информацию о жизненном цикле потребителя и позволит модели учесть  Customer Lifetime Value, а также пригодится нам для исследования.  "
   ]
  },
  {
   "cell_type": "code",
   "execution_count": 35,
   "metadata": {},
   "outputs": [],
   "source": [
    "df_contract['months_of_contract'] = 12 * (df_contract.EndDate.dt.year - df_contract.BeginDate.dt.year) + (df_contract.EndDate.dt.month - df_contract.BeginDate.dt.month)"
   ]
  },
  {
   "cell_type": "code",
   "execution_count": 36,
   "metadata": {},
   "outputs": [
    {
     "data": {
      "text/html": [
       "<div>\n",
       "<style scoped>\n",
       "    .dataframe tbody tr th:only-of-type {\n",
       "        vertical-align: middle;\n",
       "    }\n",
       "\n",
       "    .dataframe tbody tr th {\n",
       "        vertical-align: top;\n",
       "    }\n",
       "\n",
       "    .dataframe thead th {\n",
       "        text-align: right;\n",
       "    }\n",
       "</style>\n",
       "<table border=\"1\" class=\"dataframe\">\n",
       "  <thead>\n",
       "    <tr style=\"text-align: right;\">\n",
       "      <th></th>\n",
       "      <th>customerID</th>\n",
       "      <th>BeginDate</th>\n",
       "      <th>EndDate</th>\n",
       "      <th>Type</th>\n",
       "      <th>PaperlessBilling</th>\n",
       "      <th>PaymentMethod</th>\n",
       "      <th>MonthlyCharges</th>\n",
       "      <th>TotalCharges</th>\n",
       "      <th>has_quitted</th>\n",
       "      <th>months_of_contract</th>\n",
       "    </tr>\n",
       "  </thead>\n",
       "  <tbody>\n",
       "    <tr>\n",
       "      <th>0</th>\n",
       "      <td>7590-VHVEG</td>\n",
       "      <td>2020-01-01</td>\n",
       "      <td>2020-02-01</td>\n",
       "      <td>Month-to-month</td>\n",
       "      <td>Yes</td>\n",
       "      <td>Electronic check</td>\n",
       "      <td>29.85</td>\n",
       "      <td>29.85</td>\n",
       "      <td>False</td>\n",
       "      <td>1</td>\n",
       "    </tr>\n",
       "    <tr>\n",
       "      <th>1</th>\n",
       "      <td>5575-GNVDE</td>\n",
       "      <td>2017-04-01</td>\n",
       "      <td>2020-02-01</td>\n",
       "      <td>One year</td>\n",
       "      <td>No</td>\n",
       "      <td>Mailed check</td>\n",
       "      <td>56.95</td>\n",
       "      <td>1889.50</td>\n",
       "      <td>False</td>\n",
       "      <td>34</td>\n",
       "    </tr>\n",
       "    <tr>\n",
       "      <th>2</th>\n",
       "      <td>3668-QPYBK</td>\n",
       "      <td>2019-10-01</td>\n",
       "      <td>2019-12-01</td>\n",
       "      <td>Month-to-month</td>\n",
       "      <td>Yes</td>\n",
       "      <td>Mailed check</td>\n",
       "      <td>53.85</td>\n",
       "      <td>108.15</td>\n",
       "      <td>True</td>\n",
       "      <td>2</td>\n",
       "    </tr>\n",
       "    <tr>\n",
       "      <th>3</th>\n",
       "      <td>7795-CFOCW</td>\n",
       "      <td>2016-05-01</td>\n",
       "      <td>2020-02-01</td>\n",
       "      <td>One year</td>\n",
       "      <td>No</td>\n",
       "      <td>Bank transfer (automatic)</td>\n",
       "      <td>42.30</td>\n",
       "      <td>1840.75</td>\n",
       "      <td>False</td>\n",
       "      <td>45</td>\n",
       "    </tr>\n",
       "    <tr>\n",
       "      <th>4</th>\n",
       "      <td>9237-HQITU</td>\n",
       "      <td>2019-09-01</td>\n",
       "      <td>2019-11-01</td>\n",
       "      <td>Month-to-month</td>\n",
       "      <td>Yes</td>\n",
       "      <td>Electronic check</td>\n",
       "      <td>70.70</td>\n",
       "      <td>151.65</td>\n",
       "      <td>True</td>\n",
       "      <td>2</td>\n",
       "    </tr>\n",
       "    <tr>\n",
       "      <th>5</th>\n",
       "      <td>9305-CDSKC</td>\n",
       "      <td>2019-03-01</td>\n",
       "      <td>2019-11-01</td>\n",
       "      <td>Month-to-month</td>\n",
       "      <td>Yes</td>\n",
       "      <td>Electronic check</td>\n",
       "      <td>99.65</td>\n",
       "      <td>820.50</td>\n",
       "      <td>True</td>\n",
       "      <td>8</td>\n",
       "    </tr>\n",
       "    <tr>\n",
       "      <th>6</th>\n",
       "      <td>1452-KIOVK</td>\n",
       "      <td>2018-04-01</td>\n",
       "      <td>2020-02-01</td>\n",
       "      <td>Month-to-month</td>\n",
       "      <td>Yes</td>\n",
       "      <td>Credit card (automatic)</td>\n",
       "      <td>89.10</td>\n",
       "      <td>1949.40</td>\n",
       "      <td>False</td>\n",
       "      <td>22</td>\n",
       "    </tr>\n",
       "    <tr>\n",
       "      <th>7</th>\n",
       "      <td>6713-OKOMC</td>\n",
       "      <td>2019-04-01</td>\n",
       "      <td>2020-02-01</td>\n",
       "      <td>Month-to-month</td>\n",
       "      <td>No</td>\n",
       "      <td>Mailed check</td>\n",
       "      <td>29.75</td>\n",
       "      <td>301.90</td>\n",
       "      <td>False</td>\n",
       "      <td>10</td>\n",
       "    </tr>\n",
       "    <tr>\n",
       "      <th>8</th>\n",
       "      <td>7892-POOKP</td>\n",
       "      <td>2017-07-01</td>\n",
       "      <td>2019-11-01</td>\n",
       "      <td>Month-to-month</td>\n",
       "      <td>Yes</td>\n",
       "      <td>Electronic check</td>\n",
       "      <td>104.80</td>\n",
       "      <td>3046.05</td>\n",
       "      <td>True</td>\n",
       "      <td>28</td>\n",
       "    </tr>\n",
       "    <tr>\n",
       "      <th>9</th>\n",
       "      <td>6388-TABGU</td>\n",
       "      <td>2014-12-01</td>\n",
       "      <td>2020-02-01</td>\n",
       "      <td>One year</td>\n",
       "      <td>No</td>\n",
       "      <td>Bank transfer (automatic)</td>\n",
       "      <td>56.15</td>\n",
       "      <td>3487.95</td>\n",
       "      <td>False</td>\n",
       "      <td>62</td>\n",
       "    </tr>\n",
       "  </tbody>\n",
       "</table>\n",
       "</div>"
      ],
      "text/plain": [
       "   customerID  BeginDate    EndDate            Type PaperlessBilling  \\\n",
       "0  7590-VHVEG 2020-01-01 2020-02-01  Month-to-month              Yes   \n",
       "1  5575-GNVDE 2017-04-01 2020-02-01        One year               No   \n",
       "2  3668-QPYBK 2019-10-01 2019-12-01  Month-to-month              Yes   \n",
       "3  7795-CFOCW 2016-05-01 2020-02-01        One year               No   \n",
       "4  9237-HQITU 2019-09-01 2019-11-01  Month-to-month              Yes   \n",
       "5  9305-CDSKC 2019-03-01 2019-11-01  Month-to-month              Yes   \n",
       "6  1452-KIOVK 2018-04-01 2020-02-01  Month-to-month              Yes   \n",
       "7  6713-OKOMC 2019-04-01 2020-02-01  Month-to-month               No   \n",
       "8  7892-POOKP 2017-07-01 2019-11-01  Month-to-month              Yes   \n",
       "9  6388-TABGU 2014-12-01 2020-02-01        One year               No   \n",
       "\n",
       "               PaymentMethod  MonthlyCharges  TotalCharges  has_quitted  \\\n",
       "0           Electronic check           29.85         29.85        False   \n",
       "1               Mailed check           56.95       1889.50        False   \n",
       "2               Mailed check           53.85        108.15         True   \n",
       "3  Bank transfer (automatic)           42.30       1840.75        False   \n",
       "4           Electronic check           70.70        151.65         True   \n",
       "5           Electronic check           99.65        820.50         True   \n",
       "6    Credit card (automatic)           89.10       1949.40        False   \n",
       "7               Mailed check           29.75        301.90        False   \n",
       "8           Electronic check          104.80       3046.05         True   \n",
       "9  Bank transfer (automatic)           56.15       3487.95        False   \n",
       "\n",
       "   months_of_contract  \n",
       "0                   1  \n",
       "1                  34  \n",
       "2                   2  \n",
       "3                  45  \n",
       "4                   2  \n",
       "5                   8  \n",
       "6                  22  \n",
       "7                  10  \n",
       "8                  28  \n",
       "9                  62  "
      ]
     },
     "execution_count": 36,
     "metadata": {},
     "output_type": "execute_result"
    }
   ],
   "source": [
    "df_contract.head(10)"
   ]
  },
  {
   "cell_type": "markdown",
   "metadata": {},
   "source": [
    "## Исследование"
   ]
  },
  {
   "cell_type": "markdown",
   "metadata": {},
   "source": [
    "Добавим признаки, по которым будет понятно, какими услугами пользуется каждый потребитель. "
   ]
  },
  {
   "cell_type": "code",
   "execution_count": 37,
   "metadata": {},
   "outputs": [],
   "source": [
    "df_contract['internet'] = df_contract.customerID.isin(df_internet.customerID.values)\n",
    "df_contract['phone'] = df_contract.customerID.isin(df_phone.customerID.values)"
   ]
  },
  {
   "cell_type": "code",
   "execution_count": 38,
   "metadata": {},
   "outputs": [
    {
     "data": {
      "text/html": [
       "<div>\n",
       "<style scoped>\n",
       "    .dataframe tbody tr th:only-of-type {\n",
       "        vertical-align: middle;\n",
       "    }\n",
       "\n",
       "    .dataframe tbody tr th {\n",
       "        vertical-align: top;\n",
       "    }\n",
       "\n",
       "    .dataframe thead th {\n",
       "        text-align: right;\n",
       "    }\n",
       "</style>\n",
       "<table border=\"1\" class=\"dataframe\">\n",
       "  <thead>\n",
       "    <tr style=\"text-align: right;\">\n",
       "      <th></th>\n",
       "      <th>customerID</th>\n",
       "      <th>BeginDate</th>\n",
       "      <th>EndDate</th>\n",
       "      <th>Type</th>\n",
       "      <th>PaperlessBilling</th>\n",
       "      <th>PaymentMethod</th>\n",
       "      <th>MonthlyCharges</th>\n",
       "      <th>TotalCharges</th>\n",
       "      <th>has_quitted</th>\n",
       "      <th>months_of_contract</th>\n",
       "      <th>internet</th>\n",
       "      <th>phone</th>\n",
       "    </tr>\n",
       "  </thead>\n",
       "  <tbody>\n",
       "    <tr>\n",
       "      <th>0</th>\n",
       "      <td>7590-VHVEG</td>\n",
       "      <td>2020-01-01</td>\n",
       "      <td>2020-02-01</td>\n",
       "      <td>Month-to-month</td>\n",
       "      <td>Yes</td>\n",
       "      <td>Electronic check</td>\n",
       "      <td>29.85</td>\n",
       "      <td>29.85</td>\n",
       "      <td>False</td>\n",
       "      <td>1</td>\n",
       "      <td>True</td>\n",
       "      <td>False</td>\n",
       "    </tr>\n",
       "    <tr>\n",
       "      <th>1</th>\n",
       "      <td>5575-GNVDE</td>\n",
       "      <td>2017-04-01</td>\n",
       "      <td>2020-02-01</td>\n",
       "      <td>One year</td>\n",
       "      <td>No</td>\n",
       "      <td>Mailed check</td>\n",
       "      <td>56.95</td>\n",
       "      <td>1889.50</td>\n",
       "      <td>False</td>\n",
       "      <td>34</td>\n",
       "      <td>True</td>\n",
       "      <td>True</td>\n",
       "    </tr>\n",
       "    <tr>\n",
       "      <th>2</th>\n",
       "      <td>3668-QPYBK</td>\n",
       "      <td>2019-10-01</td>\n",
       "      <td>2019-12-01</td>\n",
       "      <td>Month-to-month</td>\n",
       "      <td>Yes</td>\n",
       "      <td>Mailed check</td>\n",
       "      <td>53.85</td>\n",
       "      <td>108.15</td>\n",
       "      <td>True</td>\n",
       "      <td>2</td>\n",
       "      <td>True</td>\n",
       "      <td>True</td>\n",
       "    </tr>\n",
       "    <tr>\n",
       "      <th>3</th>\n",
       "      <td>7795-CFOCW</td>\n",
       "      <td>2016-05-01</td>\n",
       "      <td>2020-02-01</td>\n",
       "      <td>One year</td>\n",
       "      <td>No</td>\n",
       "      <td>Bank transfer (automatic)</td>\n",
       "      <td>42.30</td>\n",
       "      <td>1840.75</td>\n",
       "      <td>False</td>\n",
       "      <td>45</td>\n",
       "      <td>True</td>\n",
       "      <td>False</td>\n",
       "    </tr>\n",
       "    <tr>\n",
       "      <th>4</th>\n",
       "      <td>9237-HQITU</td>\n",
       "      <td>2019-09-01</td>\n",
       "      <td>2019-11-01</td>\n",
       "      <td>Month-to-month</td>\n",
       "      <td>Yes</td>\n",
       "      <td>Electronic check</td>\n",
       "      <td>70.70</td>\n",
       "      <td>151.65</td>\n",
       "      <td>True</td>\n",
       "      <td>2</td>\n",
       "      <td>True</td>\n",
       "      <td>True</td>\n",
       "    </tr>\n",
       "  </tbody>\n",
       "</table>\n",
       "</div>"
      ],
      "text/plain": [
       "   customerID  BeginDate    EndDate            Type PaperlessBilling  \\\n",
       "0  7590-VHVEG 2020-01-01 2020-02-01  Month-to-month              Yes   \n",
       "1  5575-GNVDE 2017-04-01 2020-02-01        One year               No   \n",
       "2  3668-QPYBK 2019-10-01 2019-12-01  Month-to-month              Yes   \n",
       "3  7795-CFOCW 2016-05-01 2020-02-01        One year               No   \n",
       "4  9237-HQITU 2019-09-01 2019-11-01  Month-to-month              Yes   \n",
       "\n",
       "               PaymentMethod  MonthlyCharges  TotalCharges  has_quitted  \\\n",
       "0           Electronic check           29.85         29.85        False   \n",
       "1               Mailed check           56.95       1889.50        False   \n",
       "2               Mailed check           53.85        108.15         True   \n",
       "3  Bank transfer (automatic)           42.30       1840.75        False   \n",
       "4           Electronic check           70.70        151.65         True   \n",
       "\n",
       "   months_of_contract  internet  phone  \n",
       "0                   1      True  False  \n",
       "1                  34      True   True  \n",
       "2                   2      True   True  \n",
       "3                  45      True  False  \n",
       "4                   2      True   True  "
      ]
     },
     "execution_count": 38,
     "metadata": {},
     "output_type": "execute_result"
    }
   ],
   "source": [
    "df_contract.head()"
   ]
  },
  {
   "cell_type": "markdown",
   "metadata": {},
   "source": [
    "Посмотрим на квартильные и средние значения MonthlyCharges, а заодно и months_of_contract по выборке в целом, а также в разбивке по группам ушедших и оставшихся клиентов."
   ]
  },
  {
   "cell_type": "code",
   "execution_count": 39,
   "metadata": {},
   "outputs": [
    {
     "data": {
      "text/html": [
       "<div>\n",
       "<style scoped>\n",
       "    .dataframe tbody tr th:only-of-type {\n",
       "        vertical-align: middle;\n",
       "    }\n",
       "\n",
       "    .dataframe tbody tr th {\n",
       "        vertical-align: top;\n",
       "    }\n",
       "\n",
       "    .dataframe thead th {\n",
       "        text-align: right;\n",
       "    }\n",
       "</style>\n",
       "<table border=\"1\" class=\"dataframe\">\n",
       "  <thead>\n",
       "    <tr style=\"text-align: right;\">\n",
       "      <th></th>\n",
       "      <th>MonthlyCharges</th>\n",
       "      <th>TotalCharges</th>\n",
       "      <th>months_of_contract</th>\n",
       "    </tr>\n",
       "  </thead>\n",
       "  <tbody>\n",
       "    <tr>\n",
       "      <th>count</th>\n",
       "      <td>7032.000000</td>\n",
       "      <td>7032.000000</td>\n",
       "      <td>7032.000000</td>\n",
       "    </tr>\n",
       "    <tr>\n",
       "      <th>mean</th>\n",
       "      <td>64.798208</td>\n",
       "      <td>2283.300441</td>\n",
       "      <td>32.421786</td>\n",
       "    </tr>\n",
       "    <tr>\n",
       "      <th>std</th>\n",
       "      <td>30.085974</td>\n",
       "      <td>2266.771362</td>\n",
       "      <td>24.545260</td>\n",
       "    </tr>\n",
       "    <tr>\n",
       "      <th>min</th>\n",
       "      <td>18.250000</td>\n",
       "      <td>18.800000</td>\n",
       "      <td>1.000000</td>\n",
       "    </tr>\n",
       "    <tr>\n",
       "      <th>25%</th>\n",
       "      <td>35.587500</td>\n",
       "      <td>401.450000</td>\n",
       "      <td>9.000000</td>\n",
       "    </tr>\n",
       "    <tr>\n",
       "      <th>50%</th>\n",
       "      <td>70.350000</td>\n",
       "      <td>1397.475000</td>\n",
       "      <td>29.000000</td>\n",
       "    </tr>\n",
       "    <tr>\n",
       "      <th>75%</th>\n",
       "      <td>89.862500</td>\n",
       "      <td>3794.737500</td>\n",
       "      <td>55.000000</td>\n",
       "    </tr>\n",
       "    <tr>\n",
       "      <th>max</th>\n",
       "      <td>118.750000</td>\n",
       "      <td>8684.800000</td>\n",
       "      <td>72.000000</td>\n",
       "    </tr>\n",
       "  </tbody>\n",
       "</table>\n",
       "</div>"
      ],
      "text/plain": [
       "       MonthlyCharges  TotalCharges  months_of_contract\n",
       "count     7032.000000   7032.000000         7032.000000\n",
       "mean        64.798208   2283.300441           32.421786\n",
       "std         30.085974   2266.771362           24.545260\n",
       "min         18.250000     18.800000            1.000000\n",
       "25%         35.587500    401.450000            9.000000\n",
       "50%         70.350000   1397.475000           29.000000\n",
       "75%         89.862500   3794.737500           55.000000\n",
       "max        118.750000   8684.800000           72.000000"
      ]
     },
     "execution_count": 39,
     "metadata": {},
     "output_type": "execute_result"
    }
   ],
   "source": [
    "df_contract.describe()"
   ]
  },
  {
   "cell_type": "markdown",
   "metadata": {},
   "source": [
    "Среднее значение ежемесячной платы для всех пользователей чуть меньше медианного, хотя и весьма близко к нему.  \n",
    "Среднее количество месяцев заметно больше медианного.  \n",
    "Внимание привлекают 25% квартили. 25% квартиль ежемесячной платы и времени пользования услугами компании гораздо ближе к минимальным значениям, чем к медианам. Это значит, что в небольшом промежутке минимальных значений ежемесячной платы и времени потребления услуг сконцентрирована четверть всех клиентов. Это наводит на предположение, что в распределении есть диспропорция, можно ожидать большое количество минимальных значений по этим показателям.  \n",
    "Эта особенность есть у ежемесячной платы, но у распределения времени потребления услуг это выражено чрезвычайно ярко.\n",
    "Разница между 50% и 75% квартилями при этом сопоставима с разницей между 25% и медианой у распределения размера ежемесячной платы. Это может говорить об относительной равномерности или же нормальности распределения в отрыве от увеличенного количества небольших значений платежей.  \n",
    "Распределение же количества месяцев показывает сильную диспропорцию в сторону малых значений. \n"
   ]
  },
  {
   "cell_type": "code",
   "execution_count": 40,
   "metadata": {},
   "outputs": [
    {
     "data": {
      "text/html": [
       "<div>\n",
       "<style scoped>\n",
       "    .dataframe tbody tr th:only-of-type {\n",
       "        vertical-align: middle;\n",
       "    }\n",
       "\n",
       "    .dataframe tbody tr th {\n",
       "        vertical-align: top;\n",
       "    }\n",
       "\n",
       "    .dataframe thead th {\n",
       "        text-align: right;\n",
       "    }\n",
       "</style>\n",
       "<table border=\"1\" class=\"dataframe\">\n",
       "  <thead>\n",
       "    <tr style=\"text-align: right;\">\n",
       "      <th></th>\n",
       "      <th>MonthlyCharges</th>\n",
       "      <th>TotalCharges</th>\n",
       "      <th>months_of_contract</th>\n",
       "    </tr>\n",
       "  </thead>\n",
       "  <tbody>\n",
       "    <tr>\n",
       "      <th>count</th>\n",
       "      <td>1869.000000</td>\n",
       "      <td>1869.000000</td>\n",
       "      <td>1869.000000</td>\n",
       "    </tr>\n",
       "    <tr>\n",
       "      <th>mean</th>\n",
       "      <td>74.441332</td>\n",
       "      <td>1531.796094</td>\n",
       "      <td>17.979133</td>\n",
       "    </tr>\n",
       "    <tr>\n",
       "      <th>std</th>\n",
       "      <td>24.666053</td>\n",
       "      <td>1890.822994</td>\n",
       "      <td>19.531123</td>\n",
       "    </tr>\n",
       "    <tr>\n",
       "      <th>min</th>\n",
       "      <td>18.850000</td>\n",
       "      <td>18.850000</td>\n",
       "      <td>1.000000</td>\n",
       "    </tr>\n",
       "    <tr>\n",
       "      <th>25%</th>\n",
       "      <td>56.150000</td>\n",
       "      <td>134.500000</td>\n",
       "      <td>2.000000</td>\n",
       "    </tr>\n",
       "    <tr>\n",
       "      <th>50%</th>\n",
       "      <td>79.650000</td>\n",
       "      <td>703.550000</td>\n",
       "      <td>10.000000</td>\n",
       "    </tr>\n",
       "    <tr>\n",
       "      <th>75%</th>\n",
       "      <td>94.200000</td>\n",
       "      <td>2331.300000</td>\n",
       "      <td>29.000000</td>\n",
       "    </tr>\n",
       "    <tr>\n",
       "      <th>max</th>\n",
       "      <td>118.350000</td>\n",
       "      <td>8684.800000</td>\n",
       "      <td>72.000000</td>\n",
       "    </tr>\n",
       "  </tbody>\n",
       "</table>\n",
       "</div>"
      ],
      "text/plain": [
       "       MonthlyCharges  TotalCharges  months_of_contract\n",
       "count     1869.000000   1869.000000         1869.000000\n",
       "mean        74.441332   1531.796094           17.979133\n",
       "std         24.666053   1890.822994           19.531123\n",
       "min         18.850000     18.850000            1.000000\n",
       "25%         56.150000    134.500000            2.000000\n",
       "50%         79.650000    703.550000           10.000000\n",
       "75%         94.200000   2331.300000           29.000000\n",
       "max        118.350000   8684.800000           72.000000"
      ]
     },
     "execution_count": 40,
     "metadata": {},
     "output_type": "execute_result"
    }
   ],
   "source": [
    "quiters = df_contract[df_contract.has_quitted == True]\n",
    "quiters.describe()"
   ]
  },
  {
   "cell_type": "markdown",
   "metadata": {},
   "source": [
    "Интересно, что распределение размера ежемесячного платежа более равномерное - то есть значений с минимальными размерами ежемесячной выплаты относительно меньше - зато и средний срок, и квартильные значения количества месяцев еще больше группируются вокруг низких значений. Очень показательно, что 75% квартиль более чем в два раза уступает максимальному значению."
   ]
  },
  {
   "cell_type": "code",
   "execution_count": 41,
   "metadata": {},
   "outputs": [
    {
     "data": {
      "text/html": [
       "<div>\n",
       "<style scoped>\n",
       "    .dataframe tbody tr th:only-of-type {\n",
       "        vertical-align: middle;\n",
       "    }\n",
       "\n",
       "    .dataframe tbody tr th {\n",
       "        vertical-align: top;\n",
       "    }\n",
       "\n",
       "    .dataframe thead th {\n",
       "        text-align: right;\n",
       "    }\n",
       "</style>\n",
       "<table border=\"1\" class=\"dataframe\">\n",
       "  <thead>\n",
       "    <tr style=\"text-align: right;\">\n",
       "      <th></th>\n",
       "      <th>MonthlyCharges</th>\n",
       "      <th>TotalCharges</th>\n",
       "      <th>months_of_contract</th>\n",
       "    </tr>\n",
       "  </thead>\n",
       "  <tbody>\n",
       "    <tr>\n",
       "      <th>count</th>\n",
       "      <td>5163.000000</td>\n",
       "      <td>5163.000000</td>\n",
       "      <td>5163.00000</td>\n",
       "    </tr>\n",
       "    <tr>\n",
       "      <th>mean</th>\n",
       "      <td>61.307408</td>\n",
       "      <td>2555.344141</td>\n",
       "      <td>37.65001</td>\n",
       "    </tr>\n",
       "    <tr>\n",
       "      <th>std</th>\n",
       "      <td>31.094557</td>\n",
       "      <td>2329.456984</td>\n",
       "      <td>24.07694</td>\n",
       "    </tr>\n",
       "    <tr>\n",
       "      <th>min</th>\n",
       "      <td>18.250000</td>\n",
       "      <td>18.800000</td>\n",
       "      <td>1.00000</td>\n",
       "    </tr>\n",
       "    <tr>\n",
       "      <th>25%</th>\n",
       "      <td>25.100000</td>\n",
       "      <td>577.825000</td>\n",
       "      <td>15.00000</td>\n",
       "    </tr>\n",
       "    <tr>\n",
       "      <th>50%</th>\n",
       "      <td>64.450000</td>\n",
       "      <td>1683.600000</td>\n",
       "      <td>38.00000</td>\n",
       "    </tr>\n",
       "    <tr>\n",
       "      <th>75%</th>\n",
       "      <td>88.475000</td>\n",
       "      <td>4264.125000</td>\n",
       "      <td>61.00000</td>\n",
       "    </tr>\n",
       "    <tr>\n",
       "      <th>max</th>\n",
       "      <td>118.750000</td>\n",
       "      <td>8672.450000</td>\n",
       "      <td>72.00000</td>\n",
       "    </tr>\n",
       "  </tbody>\n",
       "</table>\n",
       "</div>"
      ],
      "text/plain": [
       "       MonthlyCharges  TotalCharges  months_of_contract\n",
       "count     5163.000000   5163.000000          5163.00000\n",
       "mean        61.307408   2555.344141            37.65001\n",
       "std         31.094557   2329.456984            24.07694\n",
       "min         18.250000     18.800000             1.00000\n",
       "25%         25.100000    577.825000            15.00000\n",
       "50%         64.450000   1683.600000            38.00000\n",
       "75%         88.475000   4264.125000            61.00000\n",
       "max        118.750000   8672.450000            72.00000"
      ]
     },
     "execution_count": 41,
     "metadata": {},
     "output_type": "execute_result"
    }
   ],
   "source": [
    "non_quiters = df_contract[df_contract.has_quitted == False]\n",
    "non_quiters.describe()"
   ]
  },
  {
   "cell_type": "markdown",
   "metadata": {},
   "source": [
    "В случае с оставшимися клиентами ситуация обратная: группировка вокруг малых значений пользования услуг менее выражена, а группировка значений вокруг малого размера ежемесячного платежа выражена сильнее. "
   ]
  },
  {
   "cell_type": "markdown",
   "metadata": {},
   "source": [
    "В целом, по охвату значений - по спреду между наименьшим и наибольшим значениями - группы ушедших и оставшихся клиентов практически идентичны."
   ]
  },
  {
   "cell_type": "markdown",
   "metadata": {},
   "source": [
    "Наблюдения, оставшиеся после знакомства с описательной статистикой, подтверждаются гистограммами распределений."
   ]
  },
  {
   "cell_type": "code",
   "execution_count": 42,
   "metadata": {},
   "outputs": [],
   "source": [
    "def make_a_gist(data, title):\n",
    "    sns.distplot(data, kde=False, bins = 20, hist_kws={'edgecolor':'darkblue'})\n",
    "    plt.title(title)"
   ]
  },
  {
   "cell_type": "code",
   "execution_count": 43,
   "metadata": {},
   "outputs": [
    {
     "data": {
      "image/png": "[encoded data removed]",
      "text/plain": [
       "<Figure size 1080x360 with 3 Axes>"
      ]
     },
     "metadata": {
      "needs_background": "light"
     },
     "output_type": "display_data"
    }
   ],
   "source": [
    "plt.figure(figsize=(15,5))\n",
    "plt.subplot(1, 3, 1)\n",
    "make_a_gist(df_contract.MonthlyCharges, 'total: monthly charges')\n",
    "plt.subplot(1, 3, 2)\n",
    "make_a_gist(quiters.MonthlyCharges, 'quitters: monthly charges')\n",
    "plt.subplot(1, 3, 3)\n",
    "make_a_gist(non_quiters.MonthlyCharges, 'non_quitters: monthly charges')"
   ]
  },
  {
   "cell_type": "code",
   "execution_count": 44,
   "metadata": {},
   "outputs": [
    {
     "data": {
      "image/png": "[encoded data removed]",
      "text/plain": [
       "<Figure size 1080x360 with 3 Axes>"
      ]
     },
     "metadata": {
      "needs_background": "light"
     },
     "output_type": "display_data"
    }
   ],
   "source": [
    "plt.figure(figsize=(15,5))\n",
    "plt.subplot(1, 3, 1)\n",
    "make_a_gist(df_contract.months_of_contract, 'total: months of contract')\n",
    "plt.subplot(1, 3, 2)\n",
    "make_a_gist(quiters.months_of_contract, 'quitters: months of contract')\n",
    "plt.subplot(1, 3, 3)\n",
    "make_a_gist(non_quiters.months_of_contract, 'non_quitters: months of contract')"
   ]
  },
  {
   "cell_type": "markdown",
   "metadata": {},
   "source": [
    "Распределения ежемесячной платы имеют приблизительные очертания нормального, если отбросить увеличенное количество малых значений.  \n",
    "Распрделение количества месяцев, которые клиенты пользвались услугами компании, не напоминают нормальное вообше. В случае с оставшимися клиентами значения группируются вокруг наименьших и наибольших значений, в случае с ушедшими можно говорить о постоянном уменьшении и резком количества клиентов с ростом срока.  \n",
    "В целом, это наталкивает на мысль о потребительском поведении. Большинство потребителей приходило к выводу, что не хотят пользоваться услугами компании в течении 1-2 месяцев. Они пробовали, их что-то не устраивало, они тут же уходили. \n",
    "При этом, судя по распределению, большинство ушедших платили сравнительно много. "
   ]
  },
  {
   "cell_type": "code",
   "execution_count": 45,
   "metadata": {},
   "outputs": [
    {
     "data": {
      "text/html": [
       "<div>\n",
       "<style scoped>\n",
       "    .dataframe tbody tr th:only-of-type {\n",
       "        vertical-align: middle;\n",
       "    }\n",
       "\n",
       "    .dataframe tbody tr th {\n",
       "        vertical-align: top;\n",
       "    }\n",
       "\n",
       "    .dataframe thead th {\n",
       "        text-align: right;\n",
       "    }\n",
       "</style>\n",
       "<table border=\"1\" class=\"dataframe\">\n",
       "  <thead>\n",
       "    <tr style=\"text-align: right;\">\n",
       "      <th></th>\n",
       "      <th>customerID</th>\n",
       "      <th>BeginDate</th>\n",
       "      <th>EndDate</th>\n",
       "      <th>Type</th>\n",
       "      <th>PaperlessBilling</th>\n",
       "      <th>PaymentMethod</th>\n",
       "      <th>MonthlyCharges</th>\n",
       "      <th>TotalCharges</th>\n",
       "      <th>has_quitted</th>\n",
       "      <th>months_of_contract</th>\n",
       "      <th>internet</th>\n",
       "      <th>phone</th>\n",
       "    </tr>\n",
       "  </thead>\n",
       "  <tbody>\n",
       "    <tr>\n",
       "      <th>11</th>\n",
       "      <td>7469-LKBCI</td>\n",
       "      <td>2018-10-01</td>\n",
       "      <td>2020-02-01</td>\n",
       "      <td>Two year</td>\n",
       "      <td>No</td>\n",
       "      <td>Credit card (automatic)</td>\n",
       "      <td>18.95</td>\n",
       "      <td>326.80</td>\n",
       "      <td>False</td>\n",
       "      <td>16</td>\n",
       "      <td>False</td>\n",
       "      <td>True</td>\n",
       "    </tr>\n",
       "    <tr>\n",
       "      <th>16</th>\n",
       "      <td>8191-XWSZG</td>\n",
       "      <td>2015-10-01</td>\n",
       "      <td>2020-02-01</td>\n",
       "      <td>One year</td>\n",
       "      <td>No</td>\n",
       "      <td>Mailed check</td>\n",
       "      <td>20.65</td>\n",
       "      <td>1022.95</td>\n",
       "      <td>False</td>\n",
       "      <td>52</td>\n",
       "      <td>False</td>\n",
       "      <td>True</td>\n",
       "    </tr>\n",
       "    <tr>\n",
       "      <th>21</th>\n",
       "      <td>1680-VDCWW</td>\n",
       "      <td>2019-02-01</td>\n",
       "      <td>2020-02-01</td>\n",
       "      <td>One year</td>\n",
       "      <td>No</td>\n",
       "      <td>Bank transfer (automatic)</td>\n",
       "      <td>19.80</td>\n",
       "      <td>202.25</td>\n",
       "      <td>False</td>\n",
       "      <td>12</td>\n",
       "      <td>False</td>\n",
       "      <td>True</td>\n",
       "    </tr>\n",
       "    <tr>\n",
       "      <th>22</th>\n",
       "      <td>1066-JKSGK</td>\n",
       "      <td>2019-11-01</td>\n",
       "      <td>2019-12-01</td>\n",
       "      <td>Month-to-month</td>\n",
       "      <td>No</td>\n",
       "      <td>Mailed check</td>\n",
       "      <td>20.15</td>\n",
       "      <td>20.15</td>\n",
       "      <td>True</td>\n",
       "      <td>1</td>\n",
       "      <td>False</td>\n",
       "      <td>True</td>\n",
       "    </tr>\n",
       "    <tr>\n",
       "      <th>33</th>\n",
       "      <td>7310-EGVHZ</td>\n",
       "      <td>2020-01-01</td>\n",
       "      <td>2020-02-01</td>\n",
       "      <td>Month-to-month</td>\n",
       "      <td>No</td>\n",
       "      <td>Bank transfer (automatic)</td>\n",
       "      <td>20.20</td>\n",
       "      <td>20.20</td>\n",
       "      <td>False</td>\n",
       "      <td>1</td>\n",
       "      <td>False</td>\n",
       "      <td>True</td>\n",
       "    </tr>\n",
       "    <tr>\n",
       "      <th>...</th>\n",
       "      <td>...</td>\n",
       "      <td>...</td>\n",
       "      <td>...</td>\n",
       "      <td>...</td>\n",
       "      <td>...</td>\n",
       "      <td>...</td>\n",
       "      <td>...</td>\n",
       "      <td>...</td>\n",
       "      <td>...</td>\n",
       "      <td>...</td>\n",
       "      <td>...</td>\n",
       "      <td>...</td>\n",
       "    </tr>\n",
       "    <tr>\n",
       "      <th>7005</th>\n",
       "      <td>9347-AERRL</td>\n",
       "      <td>2018-03-01</td>\n",
       "      <td>2020-02-01</td>\n",
       "      <td>One year</td>\n",
       "      <td>No</td>\n",
       "      <td>Credit card (automatic)</td>\n",
       "      <td>19.30</td>\n",
       "      <td>486.20</td>\n",
       "      <td>False</td>\n",
       "      <td>23</td>\n",
       "      <td>False</td>\n",
       "      <td>True</td>\n",
       "    </tr>\n",
       "    <tr>\n",
       "      <th>7017</th>\n",
       "      <td>4807-IZYOZ</td>\n",
       "      <td>2015-11-01</td>\n",
       "      <td>2020-02-01</td>\n",
       "      <td>Two year</td>\n",
       "      <td>No</td>\n",
       "      <td>Bank transfer (automatic)</td>\n",
       "      <td>20.65</td>\n",
       "      <td>1020.75</td>\n",
       "      <td>False</td>\n",
       "      <td>51</td>\n",
       "      <td>False</td>\n",
       "      <td>True</td>\n",
       "    </tr>\n",
       "    <tr>\n",
       "      <th>7019</th>\n",
       "      <td>9710-NJERN</td>\n",
       "      <td>2016-11-01</td>\n",
       "      <td>2020-02-01</td>\n",
       "      <td>Two year</td>\n",
       "      <td>No</td>\n",
       "      <td>Mailed check</td>\n",
       "      <td>20.15</td>\n",
       "      <td>826.00</td>\n",
       "      <td>False</td>\n",
       "      <td>39</td>\n",
       "      <td>False</td>\n",
       "      <td>True</td>\n",
       "    </tr>\n",
       "    <tr>\n",
       "      <th>7020</th>\n",
       "      <td>9837-FWLCH</td>\n",
       "      <td>2019-02-01</td>\n",
       "      <td>2020-02-01</td>\n",
       "      <td>Month-to-month</td>\n",
       "      <td>Yes</td>\n",
       "      <td>Electronic check</td>\n",
       "      <td>19.20</td>\n",
       "      <td>239.00</td>\n",
       "      <td>False</td>\n",
       "      <td>12</td>\n",
       "      <td>False</td>\n",
       "      <td>True</td>\n",
       "    </tr>\n",
       "    <tr>\n",
       "      <th>7030</th>\n",
       "      <td>0871-OPBXW</td>\n",
       "      <td>2019-12-01</td>\n",
       "      <td>2020-02-01</td>\n",
       "      <td>Month-to-month</td>\n",
       "      <td>Yes</td>\n",
       "      <td>Mailed check</td>\n",
       "      <td>20.05</td>\n",
       "      <td>39.25</td>\n",
       "      <td>False</td>\n",
       "      <td>2</td>\n",
       "      <td>False</td>\n",
       "      <td>True</td>\n",
       "    </tr>\n",
       "  </tbody>\n",
       "</table>\n",
       "<p>1155 rows × 12 columns</p>\n",
       "</div>"
      ],
      "text/plain": [
       "      customerID  BeginDate    EndDate            Type PaperlessBilling  \\\n",
       "11    7469-LKBCI 2018-10-01 2020-02-01        Two year               No   \n",
       "16    8191-XWSZG 2015-10-01 2020-02-01        One year               No   \n",
       "21    1680-VDCWW 2019-02-01 2020-02-01        One year               No   \n",
       "22    1066-JKSGK 2019-11-01 2019-12-01  Month-to-month               No   \n",
       "33    7310-EGVHZ 2020-01-01 2020-02-01  Month-to-month               No   \n",
       "...          ...        ...        ...             ...              ...   \n",
       "7005  9347-AERRL 2018-03-01 2020-02-01        One year               No   \n",
       "7017  4807-IZYOZ 2015-11-01 2020-02-01        Two year               No   \n",
       "7019  9710-NJERN 2016-11-01 2020-02-01        Two year               No   \n",
       "7020  9837-FWLCH 2019-02-01 2020-02-01  Month-to-month              Yes   \n",
       "7030  0871-OPBXW 2019-12-01 2020-02-01  Month-to-month              Yes   \n",
       "\n",
       "                  PaymentMethod  MonthlyCharges  TotalCharges  has_quitted  \\\n",
       "11      Credit card (automatic)           18.95        326.80        False   \n",
       "16                 Mailed check           20.65       1022.95        False   \n",
       "21    Bank transfer (automatic)           19.80        202.25        False   \n",
       "22                 Mailed check           20.15         20.15         True   \n",
       "33    Bank transfer (automatic)           20.20         20.20        False   \n",
       "...                         ...             ...           ...          ...   \n",
       "7005    Credit card (automatic)           19.30        486.20        False   \n",
       "7017  Bank transfer (automatic)           20.65       1020.75        False   \n",
       "7019               Mailed check           20.15        826.00        False   \n",
       "7020           Electronic check           19.20        239.00        False   \n",
       "7030               Mailed check           20.05         39.25        False   \n",
       "\n",
       "      months_of_contract  internet  phone  \n",
       "11                    16     False   True  \n",
       "16                    52     False   True  \n",
       "21                    12     False   True  \n",
       "22                     1     False   True  \n",
       "33                     1     False   True  \n",
       "...                  ...       ...    ...  \n",
       "7005                  23     False   True  \n",
       "7017                  51     False   True  \n",
       "7019                  39     False   True  \n",
       "7020                  12     False   True  \n",
       "7030                   2     False   True  \n",
       "\n",
       "[1155 rows x 12 columns]"
      ]
     },
     "execution_count": 45,
     "metadata": {},
     "output_type": "execute_result"
    }
   ],
   "source": [
    "df_contract[(df_contract.MonthlyCharges < 21)&df_contract.phone==True]"
   ]
  },
  {
   "cell_type": "code",
   "execution_count": 46,
   "metadata": {},
   "outputs": [],
   "source": [
    "internet_users = df_contract[df_contract.internet==True]\n",
    "phone_users = df_contract[df_contract.phone==True]\n"
   ]
  },
  {
   "cell_type": "code",
   "execution_count": 47,
   "metadata": {},
   "outputs": [],
   "source": [
    "breakdown_internet = df_contract.pivot_table(index = 'internet', values = 'customerID', aggfunc = 'count')\n",
    "breakdown_phone = df_contract.pivot_table(index = 'phone', values = 'customerID', aggfunc = 'count')\n",
    "\n",
    "quiters_breakdown_internet = quiters.pivot_table(index = 'internet', values = 'customerID', aggfunc = 'count')\n",
    "non_quiters_breakdown_internet = non_quiters.pivot_table(index = 'internet', values = 'customerID', aggfunc = 'count')\n",
    "\n",
    "quiters_breakdown_phone = quiters.pivot_table(index = 'phone', values = 'customerID', aggfunc = 'count')\n",
    "non_quiters_breakdown_phone = non_quiters.pivot_table(index = 'phone', values = 'customerID', aggfunc = 'count')\n"
   ]
  },
  {
   "cell_type": "code",
   "execution_count": 49,
   "metadata": {},
   "outputs": [],
   "source": [
    "def make_a_pie(data, labels_list, title):\n",
    "    plt.pie(data, labels = labels_list, autopct = '%1.1f%%')\n",
    "    plt.title(title, fontsize=18)"
   ]
  },
  {
   "cell_type": "code",
   "execution_count": 50,
   "metadata": {},
   "outputs": [
    {
     "name": "stderr",
     "output_type": "stream",
     "text": [
      "D:\\Tools\\anaconda3\\lib\\site-packages\\ipykernel_launcher.py:2: MatplotlibDeprecationWarning: Non-1D inputs to pie() are currently squeeze()d, but this behavior is deprecated since 3.1 and will be removed in 3.3; pass a 1D array instead.\n",
      "  \n"
     ]
    },
    {
     "data": {
      "image/png": "[encoded data removed]",
      "text/plain": [
       "<Figure size 1080x1080 with 4 Axes>"
      ]
     },
     "metadata": {},
     "output_type": "display_data"
    }
   ],
   "source": [
    "plt.figure(figsize=(15,15))\n",
    "plt.subplot(2, 2, 1)\n",
    "make_a_pie(quiters_breakdown_internet, ['Not Internet users','Internet users'], 'Quiters: Internet Users')\n",
    "plt.subplot(2, 2, 2)\n",
    "make_a_pie(non_quiters_breakdown_internet, ['Not Internet users','Internet users'], 'Non-quiters: Internet Users')\n",
    "plt.subplot(2, 2, 3)\n",
    "make_a_pie(quiters_breakdown_phone, ['Not Phone users','Phone users'], 'Quiters: Phone Users')\n",
    "plt.subplot(2, 2, 4)\n",
    "make_a_pie(non_quiters_breakdown_phone, ['Not Phone users','Phone users'], 'Non-quiters: Phone Users')"
   ]
  },
  {
   "cell_type": "markdown",
   "metadata": {},
   "source": [
    "Интересно также, что среди оставшихся клиентов относительно велика доля не пользовавшихся нашим Интернетом пользователей, а среди ушедших доля не пользовавшихся наоборот, относительно меньше других. Это наталкивает на мысль, что один из факторов ухода могут быть какие-то претензии к нашим Интернет-услугам."
   ]
  },
  {
   "cell_type": "markdown",
   "metadata": {},
   "source": [
    "### Вывод"
   ]
  },
  {
   "cell_type": "markdown",
   "metadata": {},
   "source": [
    "Стоит добавить признак, сообщающий нам о времени заключения контракта, а также признаки, по которым можно было бы сказать, пользовался потребитель интернетом/телефоном, или нет. Для интернета специального признака не надо, достаточно добавить еще одну категорию 'No' в признак 'internet service', и по этому можно будет сказать, пользовался ли потребитель интернетом или нет, посколько на данный момент все категории в этом столбце отвечают на этот вопрос утвердительно. Для телефона же потребуется отдельный признак, поскольку есть такие потребители, которые пользуются телефоном, но не пользуются многоканальной связью, и при простом объединении всех признаков из оригинальных таблиц информация о таких потребителях пропадет. "
   ]
  },
  {
   "cell_type": "markdown",
   "metadata": {},
   "source": [
    "## Подготовка данных к обучению моделей"
   ]
  },
  {
   "cell_type": "markdown",
   "metadata": {},
   "source": [
    "Объединим таблицы для дальнейшей работы."
   ]
  },
  {
   "cell_type": "code",
   "execution_count": 51,
   "metadata": {},
   "outputs": [],
   "source": [
    "df = df_contract. \\\n",
    " merge(df_internet, on='customerID', how='left'). \\\n",
    " merge(df_phone, on='customerID', how='left'). \\\n",
    " merge(df_personal, on='customerID', how='left')"
   ]
  },
  {
   "cell_type": "code",
   "execution_count": 52,
   "metadata": {},
   "outputs": [
    {
     "data": {
      "text/html": [
       "<div>\n",
       "<style scoped>\n",
       "    .dataframe tbody tr th:only-of-type {\n",
       "        vertical-align: middle;\n",
       "    }\n",
       "\n",
       "    .dataframe tbody tr th {\n",
       "        vertical-align: top;\n",
       "    }\n",
       "\n",
       "    .dataframe thead th {\n",
       "        text-align: right;\n",
       "    }\n",
       "</style>\n",
       "<table border=\"1\" class=\"dataframe\">\n",
       "  <thead>\n",
       "    <tr style=\"text-align: right;\">\n",
       "      <th></th>\n",
       "      <th>customerID</th>\n",
       "      <th>BeginDate</th>\n",
       "      <th>EndDate</th>\n",
       "      <th>Type</th>\n",
       "      <th>PaperlessBilling</th>\n",
       "      <th>PaymentMethod</th>\n",
       "      <th>MonthlyCharges</th>\n",
       "      <th>TotalCharges</th>\n",
       "      <th>has_quitted</th>\n",
       "      <th>months_of_contract</th>\n",
       "      <th>...</th>\n",
       "      <th>OnlineBackup</th>\n",
       "      <th>DeviceProtection</th>\n",
       "      <th>TechSupport</th>\n",
       "      <th>StreamingTV</th>\n",
       "      <th>StreamingMovies</th>\n",
       "      <th>MultipleLines</th>\n",
       "      <th>gender</th>\n",
       "      <th>SeniorCitizen</th>\n",
       "      <th>Partner</th>\n",
       "      <th>Dependents</th>\n",
       "    </tr>\n",
       "  </thead>\n",
       "  <tbody>\n",
       "    <tr>\n",
       "      <th>0</th>\n",
       "      <td>7590-VHVEG</td>\n",
       "      <td>2020-01-01</td>\n",
       "      <td>2020-02-01</td>\n",
       "      <td>Month-to-month</td>\n",
       "      <td>Yes</td>\n",
       "      <td>Electronic check</td>\n",
       "      <td>29.85</td>\n",
       "      <td>29.85</td>\n",
       "      <td>False</td>\n",
       "      <td>1</td>\n",
       "      <td>...</td>\n",
       "      <td>Yes</td>\n",
       "      <td>No</td>\n",
       "      <td>No</td>\n",
       "      <td>No</td>\n",
       "      <td>No</td>\n",
       "      <td>NaN</td>\n",
       "      <td>Female</td>\n",
       "      <td>0</td>\n",
       "      <td>Yes</td>\n",
       "      <td>No</td>\n",
       "    </tr>\n",
       "    <tr>\n",
       "      <th>1</th>\n",
       "      <td>5575-GNVDE</td>\n",
       "      <td>2017-04-01</td>\n",
       "      <td>2020-02-01</td>\n",
       "      <td>One year</td>\n",
       "      <td>No</td>\n",
       "      <td>Mailed check</td>\n",
       "      <td>56.95</td>\n",
       "      <td>1889.50</td>\n",
       "      <td>False</td>\n",
       "      <td>34</td>\n",
       "      <td>...</td>\n",
       "      <td>No</td>\n",
       "      <td>Yes</td>\n",
       "      <td>No</td>\n",
       "      <td>No</td>\n",
       "      <td>No</td>\n",
       "      <td>No</td>\n",
       "      <td>Male</td>\n",
       "      <td>0</td>\n",
       "      <td>No</td>\n",
       "      <td>No</td>\n",
       "    </tr>\n",
       "    <tr>\n",
       "      <th>2</th>\n",
       "      <td>3668-QPYBK</td>\n",
       "      <td>2019-10-01</td>\n",
       "      <td>2019-12-01</td>\n",
       "      <td>Month-to-month</td>\n",
       "      <td>Yes</td>\n",
       "      <td>Mailed check</td>\n",
       "      <td>53.85</td>\n",
       "      <td>108.15</td>\n",
       "      <td>True</td>\n",
       "      <td>2</td>\n",
       "      <td>...</td>\n",
       "      <td>Yes</td>\n",
       "      <td>No</td>\n",
       "      <td>No</td>\n",
       "      <td>No</td>\n",
       "      <td>No</td>\n",
       "      <td>No</td>\n",
       "      <td>Male</td>\n",
       "      <td>0</td>\n",
       "      <td>No</td>\n",
       "      <td>No</td>\n",
       "    </tr>\n",
       "    <tr>\n",
       "      <th>3</th>\n",
       "      <td>7795-CFOCW</td>\n",
       "      <td>2016-05-01</td>\n",
       "      <td>2020-02-01</td>\n",
       "      <td>One year</td>\n",
       "      <td>No</td>\n",
       "      <td>Bank transfer (automatic)</td>\n",
       "      <td>42.30</td>\n",
       "      <td>1840.75</td>\n",
       "      <td>False</td>\n",
       "      <td>45</td>\n",
       "      <td>...</td>\n",
       "      <td>No</td>\n",
       "      <td>Yes</td>\n",
       "      <td>Yes</td>\n",
       "      <td>No</td>\n",
       "      <td>No</td>\n",
       "      <td>NaN</td>\n",
       "      <td>Male</td>\n",
       "      <td>0</td>\n",
       "      <td>No</td>\n",
       "      <td>No</td>\n",
       "    </tr>\n",
       "    <tr>\n",
       "      <th>4</th>\n",
       "      <td>9237-HQITU</td>\n",
       "      <td>2019-09-01</td>\n",
       "      <td>2019-11-01</td>\n",
       "      <td>Month-to-month</td>\n",
       "      <td>Yes</td>\n",
       "      <td>Electronic check</td>\n",
       "      <td>70.70</td>\n",
       "      <td>151.65</td>\n",
       "      <td>True</td>\n",
       "      <td>2</td>\n",
       "      <td>...</td>\n",
       "      <td>No</td>\n",
       "      <td>No</td>\n",
       "      <td>No</td>\n",
       "      <td>No</td>\n",
       "      <td>No</td>\n",
       "      <td>No</td>\n",
       "      <td>Female</td>\n",
       "      <td>0</td>\n",
       "      <td>No</td>\n",
       "      <td>No</td>\n",
       "    </tr>\n",
       "  </tbody>\n",
       "</table>\n",
       "<p>5 rows × 24 columns</p>\n",
       "</div>"
      ],
      "text/plain": [
       "   customerID  BeginDate    EndDate            Type PaperlessBilling  \\\n",
       "0  7590-VHVEG 2020-01-01 2020-02-01  Month-to-month              Yes   \n",
       "1  5575-GNVDE 2017-04-01 2020-02-01        One year               No   \n",
       "2  3668-QPYBK 2019-10-01 2019-12-01  Month-to-month              Yes   \n",
       "3  7795-CFOCW 2016-05-01 2020-02-01        One year               No   \n",
       "4  9237-HQITU 2019-09-01 2019-11-01  Month-to-month              Yes   \n",
       "\n",
       "               PaymentMethod  MonthlyCharges  TotalCharges  has_quitted  \\\n",
       "0           Electronic check           29.85         29.85        False   \n",
       "1               Mailed check           56.95       1889.50        False   \n",
       "2               Mailed check           53.85        108.15         True   \n",
       "3  Bank transfer (automatic)           42.30       1840.75        False   \n",
       "4           Electronic check           70.70        151.65         True   \n",
       "\n",
       "   months_of_contract  ...  OnlineBackup  DeviceProtection TechSupport  \\\n",
       "0                   1  ...           Yes                No          No   \n",
       "1                  34  ...            No               Yes          No   \n",
       "2                   2  ...           Yes                No          No   \n",
       "3                  45  ...            No               Yes         Yes   \n",
       "4                   2  ...            No                No          No   \n",
       "\n",
       "  StreamingTV StreamingMovies MultipleLines  gender SeniorCitizen Partner  \\\n",
       "0          No              No           NaN  Female             0     Yes   \n",
       "1          No              No            No    Male             0      No   \n",
       "2          No              No            No    Male             0      No   \n",
       "3          No              No           NaN    Male             0      No   \n",
       "4          No              No            No  Female             0      No   \n",
       "\n",
       "  Dependents  \n",
       "0         No  \n",
       "1         No  \n",
       "2         No  \n",
       "3         No  \n",
       "4         No  \n",
       "\n",
       "[5 rows x 24 columns]"
      ]
     },
     "execution_count": 52,
     "metadata": {},
     "output_type": "execute_result"
    }
   ],
   "source": [
    "df.head()"
   ]
  },
  {
   "cell_type": "code",
   "execution_count": 53,
   "metadata": {},
   "outputs": [],
   "source": [
    "df_original = copy.deepcopy(df)\n"
   ]
  },
  {
   "cell_type": "markdown",
   "metadata": {},
   "source": [
    "Заполним пропуски словом 'No'."
   ]
  },
  {
   "cell_type": "code",
   "execution_count": 54,
   "metadata": {},
   "outputs": [],
   "source": [
    "df = df.fillna('No')"
   ]
  },
  {
   "cell_type": "code",
   "execution_count": 55,
   "metadata": {},
   "outputs": [
    {
     "data": {
      "text/plain": [
       "array(['DSL', 'Fiber optic', 'No'], dtype=object)"
      ]
     },
     "execution_count": 55,
     "metadata": {},
     "output_type": "execute_result"
    }
   ],
   "source": [
    "df.InternetService.unique()"
   ]
  },
  {
   "cell_type": "markdown",
   "metadata": {},
   "source": [
    "Прежде, чем заменить тип данных в столбцах, сделаем небольшое улучшение для удобства: поменяем регистр в названиях столбцов. Теперь, когда все признаки у нас в одной таблице, сделать это проще всего."
   ]
  },
  {
   "cell_type": "code",
   "execution_count": 56,
   "metadata": {},
   "outputs": [],
   "source": [
    "df.columns = df.columns.str.lower()"
   ]
  },
  {
   "cell_type": "code",
   "execution_count": 57,
   "metadata": {},
   "outputs": [
    {
     "data": {
      "text/plain": [
       "Index(['customerid', 'begindate', 'enddate', 'type', 'paperlessbilling',\n",
       "       'paymentmethod', 'monthlycharges', 'totalcharges', 'has_quitted',\n",
       "       'months_of_contract', 'internet', 'phone', 'internetservice',\n",
       "       'onlinesecurity', 'onlinebackup', 'deviceprotection', 'techsupport',\n",
       "       'streamingtv', 'streamingmovies', 'multiplelines', 'gender',\n",
       "       'seniorcitizen', 'partner', 'dependents'],\n",
       "      dtype='object')"
      ]
     },
     "execution_count": 57,
     "metadata": {},
     "output_type": "execute_result"
    }
   ],
   "source": [
    "df.columns"
   ]
  },
  {
   "cell_type": "markdown",
   "metadata": {},
   "source": [
    "### Приведение к булевому типу данных"
   ]
  },
  {
   "cell_type": "markdown",
   "metadata": {},
   "source": [
    "В нашем пуле будут модели, которые не принимают категориальные признаки. Благо, признаки у нас в большинстве хоть и категориальные, но бинарные, легко приводимые к булеву типу, воспинимаемому моделями, хотя и представлены в типе данных object. Приведем их к булевому типу."
   ]
  },
  {
   "cell_type": "markdown",
   "metadata": {},
   "source": [
    "Категориальных мультиклассовых признаков у нас, по сути, всего три: type, paymentnethod, internetservice. Gender бинарный признак, его спокойно можно заменить на булевый."
   ]
  },
  {
   "cell_type": "code",
   "execution_count": 59,
   "metadata": {},
   "outputs": [],
   "source": [
    "def to_bool(column_data):\n",
    "    if column_data == 'Yes' or '1':\n",
    "        return True\n",
    "    else:\n",
    "        return False"
   ]
  },
  {
   "cell_type": "code",
   "execution_count": 60,
   "metadata": {},
   "outputs": [],
   "source": [
    "to_bool_columns = ['paperlessbilling', \n",
    "                   'onlinesecurity', \n",
    "                   'onlinebackup',\n",
    "                   'onlinebackup',\n",
    "                   'deviceprotection',\n",
    "                   'techsupport',\n",
    "                   'streamingtv',\n",
    "                   'streamingmovies',\n",
    "                   'multiplelines',\n",
    "                   'seniorcitizen',\n",
    "                   'partner',\n",
    "                   'dependents']"
   ]
  },
  {
   "cell_type": "code",
   "execution_count": 61,
   "metadata": {},
   "outputs": [],
   "source": [
    "for i in to_bool_columns:\n",
    "    df[i] = df[i].apply(to_bool)"
   ]
  },
  {
   "cell_type": "code",
   "execution_count": 62,
   "metadata": {},
   "outputs": [],
   "source": [
    "df['gender_is_female'] = df.gender == 'Female'\n",
    "df = df.drop('gender', axis = 1)"
   ]
  },
  {
   "cell_type": "code",
   "execution_count": 63,
   "metadata": {},
   "outputs": [
    {
     "data": {
      "text/html": [
       "<div>\n",
       "<style scoped>\n",
       "    .dataframe tbody tr th:only-of-type {\n",
       "        vertical-align: middle;\n",
       "    }\n",
       "\n",
       "    .dataframe tbody tr th {\n",
       "        vertical-align: top;\n",
       "    }\n",
       "\n",
       "    .dataframe thead th {\n",
       "        text-align: right;\n",
       "    }\n",
       "</style>\n",
       "<table border=\"1\" class=\"dataframe\">\n",
       "  <thead>\n",
       "    <tr style=\"text-align: right;\">\n",
       "      <th></th>\n",
       "      <th>customerid</th>\n",
       "      <th>begindate</th>\n",
       "      <th>enddate</th>\n",
       "      <th>type</th>\n",
       "      <th>paperlessbilling</th>\n",
       "      <th>paymentmethod</th>\n",
       "      <th>monthlycharges</th>\n",
       "      <th>totalcharges</th>\n",
       "      <th>has_quitted</th>\n",
       "      <th>months_of_contract</th>\n",
       "      <th>...</th>\n",
       "      <th>onlinebackup</th>\n",
       "      <th>deviceprotection</th>\n",
       "      <th>techsupport</th>\n",
       "      <th>streamingtv</th>\n",
       "      <th>streamingmovies</th>\n",
       "      <th>multiplelines</th>\n",
       "      <th>seniorcitizen</th>\n",
       "      <th>partner</th>\n",
       "      <th>dependents</th>\n",
       "      <th>gender_is_female</th>\n",
       "    </tr>\n",
       "  </thead>\n",
       "  <tbody>\n",
       "    <tr>\n",
       "      <th>0</th>\n",
       "      <td>7590-VHVEG</td>\n",
       "      <td>2020-01-01</td>\n",
       "      <td>2020-02-01</td>\n",
       "      <td>Month-to-month</td>\n",
       "      <td>True</td>\n",
       "      <td>Electronic check</td>\n",
       "      <td>29.85</td>\n",
       "      <td>29.85</td>\n",
       "      <td>False</td>\n",
       "      <td>1</td>\n",
       "      <td>...</td>\n",
       "      <td>True</td>\n",
       "      <td>True</td>\n",
       "      <td>True</td>\n",
       "      <td>True</td>\n",
       "      <td>True</td>\n",
       "      <td>True</td>\n",
       "      <td>True</td>\n",
       "      <td>True</td>\n",
       "      <td>True</td>\n",
       "      <td>True</td>\n",
       "    </tr>\n",
       "    <tr>\n",
       "      <th>1</th>\n",
       "      <td>5575-GNVDE</td>\n",
       "      <td>2017-04-01</td>\n",
       "      <td>2020-02-01</td>\n",
       "      <td>One year</td>\n",
       "      <td>True</td>\n",
       "      <td>Mailed check</td>\n",
       "      <td>56.95</td>\n",
       "      <td>1889.50</td>\n",
       "      <td>False</td>\n",
       "      <td>34</td>\n",
       "      <td>...</td>\n",
       "      <td>True</td>\n",
       "      <td>True</td>\n",
       "      <td>True</td>\n",
       "      <td>True</td>\n",
       "      <td>True</td>\n",
       "      <td>True</td>\n",
       "      <td>True</td>\n",
       "      <td>True</td>\n",
       "      <td>True</td>\n",
       "      <td>False</td>\n",
       "    </tr>\n",
       "    <tr>\n",
       "      <th>2</th>\n",
       "      <td>3668-QPYBK</td>\n",
       "      <td>2019-10-01</td>\n",
       "      <td>2019-12-01</td>\n",
       "      <td>Month-to-month</td>\n",
       "      <td>True</td>\n",
       "      <td>Mailed check</td>\n",
       "      <td>53.85</td>\n",
       "      <td>108.15</td>\n",
       "      <td>True</td>\n",
       "      <td>2</td>\n",
       "      <td>...</td>\n",
       "      <td>True</td>\n",
       "      <td>True</td>\n",
       "      <td>True</td>\n",
       "      <td>True</td>\n",
       "      <td>True</td>\n",
       "      <td>True</td>\n",
       "      <td>True</td>\n",
       "      <td>True</td>\n",
       "      <td>True</td>\n",
       "      <td>False</td>\n",
       "    </tr>\n",
       "    <tr>\n",
       "      <th>3</th>\n",
       "      <td>7795-CFOCW</td>\n",
       "      <td>2016-05-01</td>\n",
       "      <td>2020-02-01</td>\n",
       "      <td>One year</td>\n",
       "      <td>True</td>\n",
       "      <td>Bank transfer (automatic)</td>\n",
       "      <td>42.30</td>\n",
       "      <td>1840.75</td>\n",
       "      <td>False</td>\n",
       "      <td>45</td>\n",
       "      <td>...</td>\n",
       "      <td>True</td>\n",
       "      <td>True</td>\n",
       "      <td>True</td>\n",
       "      <td>True</td>\n",
       "      <td>True</td>\n",
       "      <td>True</td>\n",
       "      <td>True</td>\n",
       "      <td>True</td>\n",
       "      <td>True</td>\n",
       "      <td>False</td>\n",
       "    </tr>\n",
       "    <tr>\n",
       "      <th>4</th>\n",
       "      <td>9237-HQITU</td>\n",
       "      <td>2019-09-01</td>\n",
       "      <td>2019-11-01</td>\n",
       "      <td>Month-to-month</td>\n",
       "      <td>True</td>\n",
       "      <td>Electronic check</td>\n",
       "      <td>70.70</td>\n",
       "      <td>151.65</td>\n",
       "      <td>True</td>\n",
       "      <td>2</td>\n",
       "      <td>...</td>\n",
       "      <td>True</td>\n",
       "      <td>True</td>\n",
       "      <td>True</td>\n",
       "      <td>True</td>\n",
       "      <td>True</td>\n",
       "      <td>True</td>\n",
       "      <td>True</td>\n",
       "      <td>True</td>\n",
       "      <td>True</td>\n",
       "      <td>True</td>\n",
       "    </tr>\n",
       "  </tbody>\n",
       "</table>\n",
       "<p>5 rows × 24 columns</p>\n",
       "</div>"
      ],
      "text/plain": [
       "   customerid  begindate    enddate            type  paperlessbilling  \\\n",
       "0  7590-VHVEG 2020-01-01 2020-02-01  Month-to-month              True   \n",
       "1  5575-GNVDE 2017-04-01 2020-02-01        One year              True   \n",
       "2  3668-QPYBK 2019-10-01 2019-12-01  Month-to-month              True   \n",
       "3  7795-CFOCW 2016-05-01 2020-02-01        One year              True   \n",
       "4  9237-HQITU 2019-09-01 2019-11-01  Month-to-month              True   \n",
       "\n",
       "               paymentmethod  monthlycharges  totalcharges  has_quitted  \\\n",
       "0           Electronic check           29.85         29.85        False   \n",
       "1               Mailed check           56.95       1889.50        False   \n",
       "2               Mailed check           53.85        108.15         True   \n",
       "3  Bank transfer (automatic)           42.30       1840.75        False   \n",
       "4           Electronic check           70.70        151.65         True   \n",
       "\n",
       "   months_of_contract  ...  onlinebackup  deviceprotection techsupport  \\\n",
       "0                   1  ...          True              True        True   \n",
       "1                  34  ...          True              True        True   \n",
       "2                   2  ...          True              True        True   \n",
       "3                  45  ...          True              True        True   \n",
       "4                   2  ...          True              True        True   \n",
       "\n",
       "   streamingtv  streamingmovies  multiplelines  seniorcitizen  partner  \\\n",
       "0         True             True           True           True     True   \n",
       "1         True             True           True           True     True   \n",
       "2         True             True           True           True     True   \n",
       "3         True             True           True           True     True   \n",
       "4         True             True           True           True     True   \n",
       "\n",
       "   dependents  gender_is_female  \n",
       "0        True              True  \n",
       "1        True             False  \n",
       "2        True             False  \n",
       "3        True             False  \n",
       "4        True              True  \n",
       "\n",
       "[5 rows x 24 columns]"
      ]
     },
     "execution_count": 63,
     "metadata": {},
     "output_type": "execute_result"
    }
   ],
   "source": [
    "df.head()"
   ]
  },
  {
   "cell_type": "markdown",
   "metadata": {},
   "source": [
    "### Масштабирование, кодирование и подготовка выборок"
   ]
  },
  {
   "cell_type": "markdown",
   "metadata": {},
   "source": [
    "Нам осталось закодировать всего три признака."
   ]
  },
  {
   "cell_type": "code",
   "execution_count": 66,
   "metadata": {},
   "outputs": [],
   "source": [
    "object_columns = ['type','paymentmethod','internetservice']"
   ]
  },
  {
   "cell_type": "code",
   "execution_count": 67,
   "metadata": {},
   "outputs": [
    {
     "name": "stdout",
     "output_type": "stream",
     "text": [
      "type: ['Month-to-month' 'One year' 'Two year']\n",
      "paymentmethod: ['Electronic check' 'Mailed check' 'Bank transfer (automatic)'\n",
      " 'Credit card (automatic)']\n",
      "internetservice: ['DSL' 'Fiber optic' 'No']\n"
     ]
    },
    {
     "data": {
      "text/plain": [
       "[None, None, None]"
      ]
     },
     "execution_count": 67,
     "metadata": {},
     "output_type": "execute_result"
    }
   ],
   "source": [
    "[print(f'{col_name}: {df[col_name].unique()}') for col_name in object_columns]"
   ]
  },
  {
   "cell_type": "markdown",
   "metadata": {},
   "source": [
    "Перед тем, как закодировать категориальные данные, отмасштабируем количественные."
   ]
  },
  {
   "cell_type": "code",
   "execution_count": 68,
   "metadata": {},
   "outputs": [
    {
     "data": {
      "text/plain": [
       "StandardScaler()"
      ]
     },
     "execution_count": 68,
     "metadata": {},
     "output_type": "execute_result"
    }
   ],
   "source": [
    "scaler = StandardScaler()\n",
    "numeric = ['monthlycharges','totalcharges','months_of_contract']\n",
    "scaler.fit(df[numeric])"
   ]
  },
  {
   "cell_type": "code",
   "execution_count": 69,
   "metadata": {},
   "outputs": [],
   "source": [
    "df_scaled = copy.deepcopy(df)\n",
    "df_scaled[numeric] = scaler.transform(df[numeric])"
   ]
  },
  {
   "cell_type": "code",
   "execution_count": 70,
   "metadata": {},
   "outputs": [
    {
     "data": {
      "text/html": [
       "<div>\n",
       "<style scoped>\n",
       "    .dataframe tbody tr th:only-of-type {\n",
       "        vertical-align: middle;\n",
       "    }\n",
       "\n",
       "    .dataframe tbody tr th {\n",
       "        vertical-align: top;\n",
       "    }\n",
       "\n",
       "    .dataframe thead th {\n",
       "        text-align: right;\n",
       "    }\n",
       "</style>\n",
       "<table border=\"1\" class=\"dataframe\">\n",
       "  <thead>\n",
       "    <tr style=\"text-align: right;\">\n",
       "      <th></th>\n",
       "      <th>customerid</th>\n",
       "      <th>begindate</th>\n",
       "      <th>enddate</th>\n",
       "      <th>type</th>\n",
       "      <th>paperlessbilling</th>\n",
       "      <th>paymentmethod</th>\n",
       "      <th>monthlycharges</th>\n",
       "      <th>totalcharges</th>\n",
       "      <th>has_quitted</th>\n",
       "      <th>months_of_contract</th>\n",
       "      <th>...</th>\n",
       "      <th>onlinebackup</th>\n",
       "      <th>deviceprotection</th>\n",
       "      <th>techsupport</th>\n",
       "      <th>streamingtv</th>\n",
       "      <th>streamingmovies</th>\n",
       "      <th>multiplelines</th>\n",
       "      <th>seniorcitizen</th>\n",
       "      <th>partner</th>\n",
       "      <th>dependents</th>\n",
       "      <th>gender_is_female</th>\n",
       "    </tr>\n",
       "  </thead>\n",
       "  <tbody>\n",
       "    <tr>\n",
       "      <th>0</th>\n",
       "      <td>7590-VHVEG</td>\n",
       "      <td>2020-01-01</td>\n",
       "      <td>2020-02-01</td>\n",
       "      <td>Month-to-month</td>\n",
       "      <td>True</td>\n",
       "      <td>Electronic check</td>\n",
       "      <td>-1.161694</td>\n",
       "      <td>-0.994194</td>\n",
       "      <td>False</td>\n",
       "      <td>-1.280248</td>\n",
       "      <td>...</td>\n",
       "      <td>True</td>\n",
       "      <td>True</td>\n",
       "      <td>True</td>\n",
       "      <td>True</td>\n",
       "      <td>True</td>\n",
       "      <td>True</td>\n",
       "      <td>True</td>\n",
       "      <td>True</td>\n",
       "      <td>True</td>\n",
       "      <td>True</td>\n",
       "    </tr>\n",
       "    <tr>\n",
       "      <th>1</th>\n",
       "      <td>5575-GNVDE</td>\n",
       "      <td>2017-04-01</td>\n",
       "      <td>2020-02-01</td>\n",
       "      <td>One year</td>\n",
       "      <td>True</td>\n",
       "      <td>Mailed check</td>\n",
       "      <td>-0.260878</td>\n",
       "      <td>-0.173740</td>\n",
       "      <td>False</td>\n",
       "      <td>0.064303</td>\n",
       "      <td>...</td>\n",
       "      <td>True</td>\n",
       "      <td>True</td>\n",
       "      <td>True</td>\n",
       "      <td>True</td>\n",
       "      <td>True</td>\n",
       "      <td>True</td>\n",
       "      <td>True</td>\n",
       "      <td>True</td>\n",
       "      <td>True</td>\n",
       "      <td>False</td>\n",
       "    </tr>\n",
       "    <tr>\n",
       "      <th>2</th>\n",
       "      <td>3668-QPYBK</td>\n",
       "      <td>2019-10-01</td>\n",
       "      <td>2019-12-01</td>\n",
       "      <td>Month-to-month</td>\n",
       "      <td>True</td>\n",
       "      <td>Mailed check</td>\n",
       "      <td>-0.363923</td>\n",
       "      <td>-0.959649</td>\n",
       "      <td>True</td>\n",
       "      <td>-1.239504</td>\n",
       "      <td>...</td>\n",
       "      <td>True</td>\n",
       "      <td>True</td>\n",
       "      <td>True</td>\n",
       "      <td>True</td>\n",
       "      <td>True</td>\n",
       "      <td>True</td>\n",
       "      <td>True</td>\n",
       "      <td>True</td>\n",
       "      <td>True</td>\n",
       "      <td>False</td>\n",
       "    </tr>\n",
       "    <tr>\n",
       "      <th>3</th>\n",
       "      <td>7795-CFOCW</td>\n",
       "      <td>2016-05-01</td>\n",
       "      <td>2020-02-01</td>\n",
       "      <td>One year</td>\n",
       "      <td>True</td>\n",
       "      <td>Bank transfer (automatic)</td>\n",
       "      <td>-0.747850</td>\n",
       "      <td>-0.195248</td>\n",
       "      <td>False</td>\n",
       "      <td>0.512486</td>\n",
       "      <td>...</td>\n",
       "      <td>True</td>\n",
       "      <td>True</td>\n",
       "      <td>True</td>\n",
       "      <td>True</td>\n",
       "      <td>True</td>\n",
       "      <td>True</td>\n",
       "      <td>True</td>\n",
       "      <td>True</td>\n",
       "      <td>True</td>\n",
       "      <td>False</td>\n",
       "    </tr>\n",
       "    <tr>\n",
       "      <th>4</th>\n",
       "      <td>9237-HQITU</td>\n",
       "      <td>2019-09-01</td>\n",
       "      <td>2019-11-01</td>\n",
       "      <td>Month-to-month</td>\n",
       "      <td>True</td>\n",
       "      <td>Electronic check</td>\n",
       "      <td>0.196178</td>\n",
       "      <td>-0.940457</td>\n",
       "      <td>True</td>\n",
       "      <td>-1.239504</td>\n",
       "      <td>...</td>\n",
       "      <td>True</td>\n",
       "      <td>True</td>\n",
       "      <td>True</td>\n",
       "      <td>True</td>\n",
       "      <td>True</td>\n",
       "      <td>True</td>\n",
       "      <td>True</td>\n",
       "      <td>True</td>\n",
       "      <td>True</td>\n",
       "      <td>True</td>\n",
       "    </tr>\n",
       "  </tbody>\n",
       "</table>\n",
       "<p>5 rows × 24 columns</p>\n",
       "</div>"
      ],
      "text/plain": [
       "   customerid  begindate    enddate            type  paperlessbilling  \\\n",
       "0  7590-VHVEG 2020-01-01 2020-02-01  Month-to-month              True   \n",
       "1  5575-GNVDE 2017-04-01 2020-02-01        One year              True   \n",
       "2  3668-QPYBK 2019-10-01 2019-12-01  Month-to-month              True   \n",
       "3  7795-CFOCW 2016-05-01 2020-02-01        One year              True   \n",
       "4  9237-HQITU 2019-09-01 2019-11-01  Month-to-month              True   \n",
       "\n",
       "               paymentmethod  monthlycharges  totalcharges  has_quitted  \\\n",
       "0           Electronic check       -1.161694     -0.994194        False   \n",
       "1               Mailed check       -0.260878     -0.173740        False   \n",
       "2               Mailed check       -0.363923     -0.959649         True   \n",
       "3  Bank transfer (automatic)       -0.747850     -0.195248        False   \n",
       "4           Electronic check        0.196178     -0.940457         True   \n",
       "\n",
       "   months_of_contract  ...  onlinebackup  deviceprotection techsupport  \\\n",
       "0           -1.280248  ...          True              True        True   \n",
       "1            0.064303  ...          True              True        True   \n",
       "2           -1.239504  ...          True              True        True   \n",
       "3            0.512486  ...          True              True        True   \n",
       "4           -1.239504  ...          True              True        True   \n",
       "\n",
       "   streamingtv  streamingmovies  multiplelines  seniorcitizen  partner  \\\n",
       "0         True             True           True           True     True   \n",
       "1         True             True           True           True     True   \n",
       "2         True             True           True           True     True   \n",
       "3         True             True           True           True     True   \n",
       "4         True             True           True           True     True   \n",
       "\n",
       "   dependents  gender_is_female  \n",
       "0        True              True  \n",
       "1        True             False  \n",
       "2        True             False  \n",
       "3        True             False  \n",
       "4        True              True  \n",
       "\n",
       "[5 rows x 24 columns]"
      ]
     },
     "execution_count": 70,
     "metadata": {},
     "output_type": "execute_result"
    }
   ],
   "source": [
    "df_scaled.head()"
   ]
  },
  {
   "cell_type": "markdown",
   "metadata": {},
   "source": [
    "Caboost'у мы можем передать и категориальные признаки, для леса и для логистической регрессии подготовим ohe-данные, для lightgmb и random_forest применим порядковое кодирование данных."
   ]
  },
  {
   "cell_type": "code",
   "execution_count": 71,
   "metadata": {},
   "outputs": [],
   "source": [
    "features = df_scaled.drop(['customerid','begindate','internet', 'enddate','has_quitted'], axis = 1)"
   ]
  },
  {
   "cell_type": "code",
   "execution_count": 72,
   "metadata": {},
   "outputs": [
    {
     "name": "stdout",
     "output_type": "stream",
     "text": [
      "<class 'pandas.core.frame.DataFrame'>\n",
      "Int64Index: 7032 entries, 0 to 7031\n",
      "Data columns (total 19 columns):\n",
      " #   Column              Non-Null Count  Dtype  \n",
      "---  ------              --------------  -----  \n",
      " 0   type                7032 non-null   object \n",
      " 1   paperlessbilling    7032 non-null   bool   \n",
      " 2   paymentmethod       7032 non-null   object \n",
      " 3   monthlycharges      7032 non-null   float64\n",
      " 4   totalcharges        7032 non-null   float64\n",
      " 5   months_of_contract  7032 non-null   float64\n",
      " 6   phone               7032 non-null   bool   \n",
      " 7   internetservice     7032 non-null   object \n",
      " 8   onlinesecurity      7032 non-null   bool   \n",
      " 9   onlinebackup        7032 non-null   bool   \n",
      " 10  deviceprotection    7032 non-null   bool   \n",
      " 11  techsupport         7032 non-null   bool   \n",
      " 12  streamingtv         7032 non-null   bool   \n",
      " 13  streamingmovies     7032 non-null   bool   \n",
      " 14  multiplelines       7032 non-null   bool   \n",
      " 15  seniorcitizen       7032 non-null   bool   \n",
      " 16  partner             7032 non-null   bool   \n",
      " 17  dependents          7032 non-null   bool   \n",
      " 18  gender_is_female    7032 non-null   bool   \n",
      "dtypes: bool(13), float64(3), object(3)\n",
      "memory usage: 473.8+ KB\n"
     ]
    }
   ],
   "source": [
    "features.info()"
   ]
  },
  {
   "cell_type": "code",
   "execution_count": 73,
   "metadata": {},
   "outputs": [],
   "source": [
    "target = df_scaled.has_quitted"
   ]
  },
  {
   "cell_type": "code",
   "execution_count": 74,
   "metadata": {},
   "outputs": [],
   "source": [
    "features_train, features_test, target_train, target_test = train_test_split(features, target, \n",
    "                                                                                test_size = 0.25, \n",
    "                                                                                stratify = target,\n",
    "                                                                                random_state = state)"
   ]
  },
  {
   "cell_type": "code",
   "execution_count": 75,
   "metadata": {},
   "outputs": [
    {
     "name": "stdout",
     "output_type": "stream",
     "text": [
      "type: ['Month-to-month' 'One year' 'Two year']\n",
      "paymentmethod: ['Electronic check' 'Mailed check' 'Bank transfer (automatic)'\n",
      " 'Credit card (automatic)']\n",
      "internetservice: ['DSL' 'Fiber optic' 'No']\n"
     ]
    },
    {
     "data": {
      "text/plain": [
       "[None, None, None]"
      ]
     },
     "execution_count": 75,
     "metadata": {},
     "output_type": "execute_result"
    }
   ],
   "source": [
    "[print(f'{col_name}: {df[col_name].unique()}') for col_name in object_columns]"
   ]
  },
  {
   "cell_type": "code",
   "execution_count": 76,
   "metadata": {},
   "outputs": [],
   "source": [
    "features_ohe = pd.get_dummies(features)"
   ]
  },
  {
   "cell_type": "code",
   "execution_count": 77,
   "metadata": {},
   "outputs": [
    {
     "name": "stdout",
     "output_type": "stream",
     "text": [
      "<class 'pandas.core.frame.DataFrame'>\n",
      "Int64Index: 7032 entries, 0 to 7031\n",
      "Data columns (total 26 columns):\n",
      " #   Column                                   Non-Null Count  Dtype  \n",
      "---  ------                                   --------------  -----  \n",
      " 0   paperlessbilling                         7032 non-null   bool   \n",
      " 1   monthlycharges                           7032 non-null   float64\n",
      " 2   totalcharges                             7032 non-null   float64\n",
      " 3   months_of_contract                       7032 non-null   float64\n",
      " 4   phone                                    7032 non-null   bool   \n",
      " 5   onlinesecurity                           7032 non-null   bool   \n",
      " 6   onlinebackup                             7032 non-null   bool   \n",
      " 7   deviceprotection                         7032 non-null   bool   \n",
      " 8   techsupport                              7032 non-null   bool   \n",
      " 9   streamingtv                              7032 non-null   bool   \n",
      " 10  streamingmovies                          7032 non-null   bool   \n",
      " 11  multiplelines                            7032 non-null   bool   \n",
      " 12  seniorcitizen                            7032 non-null   bool   \n",
      " 13  partner                                  7032 non-null   bool   \n",
      " 14  dependents                               7032 non-null   bool   \n",
      " 15  gender_is_female                         7032 non-null   bool   \n",
      " 16  type_Month-to-month                      7032 non-null   uint8  \n",
      " 17  type_One year                            7032 non-null   uint8  \n",
      " 18  type_Two year                            7032 non-null   uint8  \n",
      " 19  paymentmethod_Bank transfer (automatic)  7032 non-null   uint8  \n",
      " 20  paymentmethod_Credit card (automatic)    7032 non-null   uint8  \n",
      " 21  paymentmethod_Electronic check           7032 non-null   uint8  \n",
      " 22  paymentmethod_Mailed check               7032 non-null   uint8  \n",
      " 23  internetservice_DSL                      7032 non-null   uint8  \n",
      " 24  internetservice_Fiber optic              7032 non-null   uint8  \n",
      " 25  internetservice_No                       7032 non-null   uint8  \n",
      "dtypes: bool(13), float64(3), uint8(10)\n",
      "memory usage: 377.7 KB\n"
     ]
    }
   ],
   "source": [
    "features_ohe.info()"
   ]
  },
  {
   "cell_type": "code",
   "execution_count": 78,
   "metadata": {},
   "outputs": [],
   "source": [
    "features_ohe_train, features_ohe_test, target_ohe_train, target_ohe_test = train_test_split(features_ohe, target, \n",
    "                                                                                test_size = 0.25, \n",
    "                                                                                stratify = target,\n",
    "                                                                                random_state = state)"
   ]
  },
  {
   "cell_type": "code",
   "execution_count": 80,
   "metadata": {},
   "outputs": [],
   "source": [
    "df_ordin = copy.deepcopy(df_scaled)\n",
    "ordin = OrdinalEncoder()\n",
    "df_ordin[object_columns] = ordin.fit_transform(df[object_columns])"
   ]
  },
  {
   "cell_type": "code",
   "execution_count": 81,
   "metadata": {},
   "outputs": [],
   "source": [
    "features_ordin = df_ordin.drop(['customerid','begindate','internet', 'enddate','has_quitted'], axis = 1)\n",
    "target_ordin = df_ordin.has_quitted"
   ]
  },
  {
   "cell_type": "code",
   "execution_count": 82,
   "metadata": {},
   "outputs": [],
   "source": [
    "features_ordin_train, features_ordin_test, target_ordin_train, target_ordin_test = train_test_split(features_ordin, target_ordin, \n",
    "                                                                                test_size = 0.25, \n",
    "                                                                                stratify = target,\n",
    "                                                                                random_state = state)"
   ]
  },
  {
   "cell_type": "markdown",
   "metadata": {},
   "source": [
    "### Логистическая регрессия"
   ]
  },
  {
   "cell_type": "code",
   "execution_count": 84,
   "metadata": {},
   "outputs": [],
   "source": [
    "num_folds = 5"
   ]
  },
  {
   "cell_type": "code",
   "execution_count": 85,
   "metadata": {},
   "outputs": [],
   "source": [
    "logreg = LogisticRegression()"
   ]
  },
  {
   "cell_type": "code",
   "execution_count": 86,
   "metadata": {},
   "outputs": [],
   "source": [
    "logreg_cv = cross_validate(logreg, features_ohe_train, target_ohe_train, scoring = ['roc_auc', 'accuracy'], cv = num_folds, verbose=0) "
   ]
  },
  {
   "cell_type": "code",
   "execution_count": 87,
   "metadata": {},
   "outputs": [
    {
     "data": {
      "text/plain": [
       "{'fit_time': array([0.02991891, 0.02593017, 0.02792525, 0.03091741, 0.02892303]),\n",
       " 'score_time': array([0.00498843, 0.00498676, 0.00398898, 0.0039885 , 0.00498891]),\n",
       " 'test_roc_auc': array([0.82895853, 0.84482488, 0.83772656, 0.83994501, 0.83243125]),\n",
       " 'test_accuracy': array([0.77630332, 0.80473934, 0.79241706, 0.79241706, 0.79601518])}"
      ]
     },
     "execution_count": 87,
     "metadata": {},
     "output_type": "execute_result"
    }
   ],
   "source": [
    "logreg_cv"
   ]
  },
  {
   "cell_type": "code",
   "execution_count": 88,
   "metadata": {},
   "outputs": [],
   "source": [
    "logreg_roc_auc = logreg_cv['test_roc_auc'].mean()\n",
    "logreg_acc = logreg_cv['test_accuracy'].mean()"
   ]
  },
  {
   "cell_type": "code",
   "execution_count": 89,
   "metadata": {},
   "outputs": [
    {
     "data": {
      "text/plain": [
       "0.8367772451564848"
      ]
     },
     "execution_count": 89,
     "metadata": {},
     "output_type": "execute_result"
    }
   ],
   "source": [
    "logreg_roc_auc "
   ]
  },
  {
   "cell_type": "code",
   "execution_count": 90,
   "metadata": {},
   "outputs": [
    {
     "data": {
      "text/plain": [
       "0.7923783915033678"
      ]
     },
     "execution_count": 90,
     "metadata": {},
     "output_type": "execute_result"
    }
   ],
   "source": [
    "logreg_acc"
   ]
  },
  {
   "cell_type": "markdown",
   "metadata": {},
   "source": [
    "### Случайный лес"
   ]
  },
  {
   "cell_type": "code",
   "execution_count": 92,
   "metadata": {},
   "outputs": [],
   "source": [
    "def forest_search(X, y, forest_depth_range, forest_estimators_range, n_folds):\n",
    "    forest_depth_col = []\n",
    "    forest_estim_col = []\n",
    "    forest_roc_auc_col = []\n",
    "    forest_acc_col = []\n",
    "    for depth in forest_depth_range:\n",
    "        for n_estim in forest_estimators_range:\n",
    "            forest_model = RandomForestClassifier(n_estimators = n_estim, \n",
    "                                                   max_depth = depth, \n",
    "                                                   random_state = state)\n",
    "            forest_cv = cross_validate(forest_model, X, y, scoring = ['roc_auc', 'accuracy'], cv = n_folds, verbose=0) \n",
    "            forest_roc_auc = forest_cv['test_roc_auc'].mean()\n",
    "            forest_acc = forest_cv['test_accuracy'].mean()\n",
    "            forest_depth_col.append(depth)\n",
    "            forest_estim_col.append(n_estim)\n",
    "            forest_roc_auc_col.append(forest_roc_auc)\n",
    "            forest_acc_col.append(forest_acc)\n",
    "    forest_hyperparameters_dict = {'max_depth': forest_depth_col, 'n_estimators': forest_estim_col,'roc_auc': forest_roc_auc_col, 'accuracy': forest_acc_col}\n",
    "    forest_hyperparameters = pd.DataFrame(data = forest_hyperparameters_dict)\n",
    "    return forest_hyperparameters"
   ]
  },
  {
   "cell_type": "code",
   "execution_count": 93,
   "metadata": {},
   "outputs": [],
   "source": [
    "forest_depth_range = [12,18,26,50]\n",
    "forest_estimators_range = [80, 120,160]\n",
    "n_folds = 5"
   ]
  },
  {
   "cell_type": "code",
   "execution_count": 94,
   "metadata": {},
   "outputs": [
    {
     "name": "stdout",
     "output_type": "stream",
     "text": [
      "Wall time: 21 s\n"
     ]
    }
   ],
   "source": [
    "%%time\n",
    "forest_results = forest_search(features_ordin_train, target_ordin_train, forest_depth_range, forest_estimators_range, n_folds)"
   ]
  },
  {
   "cell_type": "code",
   "execution_count": 95,
   "metadata": {},
   "outputs": [
    {
     "data": {
      "text/html": [
       "<div>\n",
       "<style scoped>\n",
       "    .dataframe tbody tr th:only-of-type {\n",
       "        vertical-align: middle;\n",
       "    }\n",
       "\n",
       "    .dataframe tbody tr th {\n",
       "        vertical-align: top;\n",
       "    }\n",
       "\n",
       "    .dataframe thead th {\n",
       "        text-align: right;\n",
       "    }\n",
       "</style>\n",
       "<table border=\"1\" class=\"dataframe\">\n",
       "  <thead>\n",
       "    <tr style=\"text-align: right;\">\n",
       "      <th></th>\n",
       "      <th>max_depth</th>\n",
       "      <th>n_estimators</th>\n",
       "      <th>roc_auc</th>\n",
       "      <th>accuracy</th>\n",
       "    </tr>\n",
       "  </thead>\n",
       "  <tbody>\n",
       "    <tr>\n",
       "      <th>0</th>\n",
       "      <td>12</td>\n",
       "      <td>80</td>\n",
       "      <td>0.824690</td>\n",
       "      <td>0.787447</td>\n",
       "    </tr>\n",
       "    <tr>\n",
       "      <th>1</th>\n",
       "      <td>12</td>\n",
       "      <td>120</td>\n",
       "      <td>0.824802</td>\n",
       "      <td>0.788774</td>\n",
       "    </tr>\n",
       "    <tr>\n",
       "      <th>2</th>\n",
       "      <td>12</td>\n",
       "      <td>160</td>\n",
       "      <td>0.824686</td>\n",
       "      <td>0.788394</td>\n",
       "    </tr>\n",
       "    <tr>\n",
       "      <th>3</th>\n",
       "      <td>18</td>\n",
       "      <td>80</td>\n",
       "      <td>0.808869</td>\n",
       "      <td>0.780430</td>\n",
       "    </tr>\n",
       "    <tr>\n",
       "      <th>4</th>\n",
       "      <td>18</td>\n",
       "      <td>120</td>\n",
       "      <td>0.809990</td>\n",
       "      <td>0.777395</td>\n",
       "    </tr>\n",
       "    <tr>\n",
       "      <th>5</th>\n",
       "      <td>18</td>\n",
       "      <td>160</td>\n",
       "      <td>0.810662</td>\n",
       "      <td>0.778154</td>\n",
       "    </tr>\n",
       "    <tr>\n",
       "      <th>6</th>\n",
       "      <td>26</td>\n",
       "      <td>80</td>\n",
       "      <td>0.808051</td>\n",
       "      <td>0.781757</td>\n",
       "    </tr>\n",
       "    <tr>\n",
       "      <th>7</th>\n",
       "      <td>26</td>\n",
       "      <td>120</td>\n",
       "      <td>0.808832</td>\n",
       "      <td>0.779104</td>\n",
       "    </tr>\n",
       "    <tr>\n",
       "      <th>8</th>\n",
       "      <td>26</td>\n",
       "      <td>160</td>\n",
       "      <td>0.808971</td>\n",
       "      <td>0.778724</td>\n",
       "    </tr>\n",
       "    <tr>\n",
       "      <th>9</th>\n",
       "      <td>50</td>\n",
       "      <td>80</td>\n",
       "      <td>0.807760</td>\n",
       "      <td>0.781568</td>\n",
       "    </tr>\n",
       "    <tr>\n",
       "      <th>10</th>\n",
       "      <td>50</td>\n",
       "      <td>120</td>\n",
       "      <td>0.808814</td>\n",
       "      <td>0.779484</td>\n",
       "    </tr>\n",
       "    <tr>\n",
       "      <th>11</th>\n",
       "      <td>50</td>\n",
       "      <td>160</td>\n",
       "      <td>0.809041</td>\n",
       "      <td>0.778345</td>\n",
       "    </tr>\n",
       "  </tbody>\n",
       "</table>\n",
       "</div>"
      ],
      "text/plain": [
       "    max_depth  n_estimators   roc_auc  accuracy\n",
       "0          12            80  0.824690  0.787447\n",
       "1          12           120  0.824802  0.788774\n",
       "2          12           160  0.824686  0.788394\n",
       "3          18            80  0.808869  0.780430\n",
       "4          18           120  0.809990  0.777395\n",
       "5          18           160  0.810662  0.778154\n",
       "6          26            80  0.808051  0.781757\n",
       "7          26           120  0.808832  0.779104\n",
       "8          26           160  0.808971  0.778724\n",
       "9          50            80  0.807760  0.781568\n",
       "10         50           120  0.808814  0.779484\n",
       "11         50           160  0.809041  0.778345"
      ]
     },
     "execution_count": 95,
     "metadata": {},
     "output_type": "execute_result"
    }
   ],
   "source": [
    "forest_results"
   ]
  },
  {
   "cell_type": "code",
   "execution_count": 96,
   "metadata": {},
   "outputs": [],
   "source": [
    "forest_best_hyper = forest_results.sort_values(by = 'roc_auc', ascending = False).head(1)"
   ]
  },
  {
   "cell_type": "code",
   "execution_count": 97,
   "metadata": {},
   "outputs": [],
   "source": [
    "forest_best_depth = int(forest_best_hyper['max_depth'])\n",
    "forest_best_n_estimators = int(forest_best_hyper['n_estimators'])"
   ]
  },
  {
   "cell_type": "code",
   "execution_count": 98,
   "metadata": {},
   "outputs": [
    {
     "data": {
      "text/html": [
       "<div>\n",
       "<style scoped>\n",
       "    .dataframe tbody tr th:only-of-type {\n",
       "        vertical-align: middle;\n",
       "    }\n",
       "\n",
       "    .dataframe tbody tr th {\n",
       "        vertical-align: top;\n",
       "    }\n",
       "\n",
       "    .dataframe thead th {\n",
       "        text-align: right;\n",
       "    }\n",
       "</style>\n",
       "<table border=\"1\" class=\"dataframe\">\n",
       "  <thead>\n",
       "    <tr style=\"text-align: right;\">\n",
       "      <th></th>\n",
       "      <th>max_depth</th>\n",
       "      <th>n_estimators</th>\n",
       "      <th>roc_auc</th>\n",
       "      <th>accuracy</th>\n",
       "    </tr>\n",
       "  </thead>\n",
       "  <tbody>\n",
       "    <tr>\n",
       "      <th>1</th>\n",
       "      <td>12</td>\n",
       "      <td>120</td>\n",
       "      <td>0.824802</td>\n",
       "      <td>0.788774</td>\n",
       "    </tr>\n",
       "  </tbody>\n",
       "</table>\n",
       "</div>"
      ],
      "text/plain": [
       "   max_depth  n_estimators   roc_auc  accuracy\n",
       "1         12           120  0.824802  0.788774"
      ]
     },
     "execution_count": 98,
     "metadata": {},
     "output_type": "execute_result"
    }
   ],
   "source": [
    "forest_best_hyper"
   ]
  },
  {
   "cell_type": "markdown",
   "metadata": {},
   "source": [
    "### CatBoost"
   ]
  },
  {
   "cell_type": "code",
   "execution_count": 100,
   "metadata": {},
   "outputs": [
    {
     "name": "stdout",
     "output_type": "stream",
     "text": [
      "Wall time: 0 ns\n"
     ]
    }
   ],
   "source": [
    "%%time\n",
    "def catboost_cv(X, y, n_iterations, depth, learn_rate, l2_leaf_reg, n_folds):\n",
    "    params = {'iterations': n_iterations,\n",
    "              'depth': depth,\n",
    "              'learning_rate': learn_rate,\n",
    "              'l2_leaf_reg': l2_leaf_reg,\n",
    "              'loss_function': 'Logloss',\n",
    "              'custom_metric': ['AUC', 'Accuracy'], \n",
    "              'random_state': state, \n",
    "              'verbose': 0}\n",
    "    pool = Pool(X, label=y, cat_features=object_columns)\n",
    "    cv_data = cv(\n",
    "        params = params,\n",
    "        pool = pool,\n",
    "        fold_count=n_folds,\n",
    "        inverted=False,\n",
    "        shuffle=True,\n",
    "        stratified=True,\n",
    "        partition_random_seed=state)\n",
    "    top_value = np.max(cv_data['test-AUC-mean'])\n",
    "    top_iter = np.argmax(cv_data['test-AUC-mean'])\n",
    "    top_result = cv_data.loc[top_iter, :]\n",
    "    top_acc = top_result['test-Accuracy-mean']\n",
    "    return cv_data, top_value, top_iter, top_result, top_acc"
   ]
  },
  {
   "cell_type": "code",
   "execution_count": 101,
   "metadata": {},
   "outputs": [],
   "source": [
    "def catboost_search(X_search, y_search):\n",
    "    learning_rate_col = []\n",
    "    depth_col = []\n",
    "    l2_leaf_reg_col = []\n",
    "    iterations_col = []\n",
    "    roc_auc_col = []\n",
    "    acc_col = []\n",
    "    on_step_col = []\n",
    "    for n_iterations in iterations_range:\n",
    "        for learn_rate in learn_rate_range:\n",
    "            for l2_leaf_reg in l2_leaf_reg_range:\n",
    "                for depth in depth_range:\n",
    "                    catbo_cv_data, catbo_top_value, catbo_top_iter, catbo_top_result, catbo_top_acc = catboost_cv(X_search, \n",
    "                                                                                                                  y_search,\n",
    "                                                                                                                  n_iterations, \n",
    "                                                                                                                  depth, \n",
    "                                                                                                                  learn_rate, \n",
    "                                                                                                                  l2_leaf_reg, \n",
    "                                                                                                                  n_folds)\n",
    "                    depth_col.append(depth)\n",
    "                    l2_leaf_reg_col.append(l2_leaf_reg)\n",
    "                    learning_rate_col.append(learn_rate)\n",
    "                    iterations_col.append(n_iterations)\n",
    "                    roc_auc_col.append(catbo_top_value)\n",
    "                    acc_col.append(catbo_top_acc)\n",
    "                    on_step_col.append(catbo_top_iter)\n",
    "    catboost_hyperparameters_dict = {'depth': depth_col, \n",
    "                                     'l2_leaf_reg': l2_leaf_reg_col, \n",
    "                                     'learning_rate': learning_rate_col, \n",
    "                                     'iterations': iterations_col, \n",
    "                                     'roc_auc': roc_auc_col, \n",
    "                                     'accuracy': acc_col, 'on_step': on_step_col}\n",
    "    \n",
    "    catboost_hyperparameters = pd.DataFrame(data = catboost_hyperparameters_dict)\n",
    "    return catboost_hyperparameters                "
   ]
  },
  {
   "cell_type": "code",
   "execution_count": 102,
   "metadata": {},
   "outputs": [],
   "source": [
    "iterations_range = [500, 2000]\n",
    "learn_rate_range = [0.005, 0.01]\n",
    "l2_leaf_reg_range = [12]\n",
    "depth_range = [6]\n",
    "n_folds = 5"
   ]
  },
  {
   "cell_type": "code",
   "execution_count": 103,
   "metadata": {},
   "outputs": [
    {
     "name": "stdout",
     "output_type": "stream",
     "text": [
      "Wall time: 6min 5s\n"
     ]
    }
   ],
   "source": [
    "%%time\n",
    "\n",
    "catboost_results= catboost_search(features_train, target_train)"
   ]
  },
  {
   "cell_type": "code",
   "execution_count": 104,
   "metadata": {},
   "outputs": [
    {
     "data": {
      "text/html": [
       "<div>\n",
       "<style scoped>\n",
       "    .dataframe tbody tr th:only-of-type {\n",
       "        vertical-align: middle;\n",
       "    }\n",
       "\n",
       "    .dataframe tbody tr th {\n",
       "        vertical-align: top;\n",
       "    }\n",
       "\n",
       "    .dataframe thead th {\n",
       "        text-align: right;\n",
       "    }\n",
       "</style>\n",
       "<table border=\"1\" class=\"dataframe\">\n",
       "  <thead>\n",
       "    <tr style=\"text-align: right;\">\n",
       "      <th></th>\n",
       "      <th>depth</th>\n",
       "      <th>l2_leaf_reg</th>\n",
       "      <th>learning_rate</th>\n",
       "      <th>iterations</th>\n",
       "      <th>roc_auc</th>\n",
       "      <th>accuracy</th>\n",
       "      <th>on_step</th>\n",
       "    </tr>\n",
       "  </thead>\n",
       "  <tbody>\n",
       "    <tr>\n",
       "      <th>0</th>\n",
       "      <td>6</td>\n",
       "      <td>12</td>\n",
       "      <td>0.005</td>\n",
       "      <td>500</td>\n",
       "      <td>0.840872</td>\n",
       "      <td>0.796365</td>\n",
       "      <td>499</td>\n",
       "    </tr>\n",
       "    <tr>\n",
       "      <th>1</th>\n",
       "      <td>6</td>\n",
       "      <td>12</td>\n",
       "      <td>0.010</td>\n",
       "      <td>500</td>\n",
       "      <td>0.842587</td>\n",
       "      <td>0.798830</td>\n",
       "      <td>497</td>\n",
       "    </tr>\n",
       "    <tr>\n",
       "      <th>2</th>\n",
       "      <td>6</td>\n",
       "      <td>12</td>\n",
       "      <td>0.005</td>\n",
       "      <td>2000</td>\n",
       "      <td>0.843350</td>\n",
       "      <td>0.795796</td>\n",
       "      <td>1694</td>\n",
       "    </tr>\n",
       "    <tr>\n",
       "      <th>3</th>\n",
       "      <td>6</td>\n",
       "      <td>12</td>\n",
       "      <td>0.010</td>\n",
       "      <td>2000</td>\n",
       "      <td>0.843055</td>\n",
       "      <td>0.793900</td>\n",
       "      <td>885</td>\n",
       "    </tr>\n",
       "  </tbody>\n",
       "</table>\n",
       "</div>"
      ],
      "text/plain": [
       "   depth  l2_leaf_reg  learning_rate  iterations   roc_auc  accuracy  on_step\n",
       "0      6           12          0.005         500  0.840872  0.796365      499\n",
       "1      6           12          0.010         500  0.842587  0.798830      497\n",
       "2      6           12          0.005        2000  0.843350  0.795796     1694\n",
       "3      6           12          0.010        2000  0.843055  0.793900      885"
      ]
     },
     "execution_count": 104,
     "metadata": {},
     "output_type": "execute_result"
    }
   ],
   "source": [
    "catboost_results"
   ]
  },
  {
   "cell_type": "code",
   "execution_count": 105,
   "metadata": {},
   "outputs": [],
   "source": [
    "catboost_best_hyper = catboost_results.sort_values(by = 'roc_auc',ascending = False).head(1)"
   ]
  },
  {
   "cell_type": "code",
   "execution_count": 106,
   "metadata": {},
   "outputs": [
    {
     "data": {
      "text/html": [
       "<div>\n",
       "<style scoped>\n",
       "    .dataframe tbody tr th:only-of-type {\n",
       "        vertical-align: middle;\n",
       "    }\n",
       "\n",
       "    .dataframe tbody tr th {\n",
       "        vertical-align: top;\n",
       "    }\n",
       "\n",
       "    .dataframe thead th {\n",
       "        text-align: right;\n",
       "    }\n",
       "</style>\n",
       "<table border=\"1\" class=\"dataframe\">\n",
       "  <thead>\n",
       "    <tr style=\"text-align: right;\">\n",
       "      <th></th>\n",
       "      <th>depth</th>\n",
       "      <th>l2_leaf_reg</th>\n",
       "      <th>learning_rate</th>\n",
       "      <th>iterations</th>\n",
       "      <th>roc_auc</th>\n",
       "      <th>accuracy</th>\n",
       "      <th>on_step</th>\n",
       "    </tr>\n",
       "  </thead>\n",
       "  <tbody>\n",
       "    <tr>\n",
       "      <th>2</th>\n",
       "      <td>6</td>\n",
       "      <td>12</td>\n",
       "      <td>0.005</td>\n",
       "      <td>2000</td>\n",
       "      <td>0.84335</td>\n",
       "      <td>0.795796</td>\n",
       "      <td>1694</td>\n",
       "    </tr>\n",
       "  </tbody>\n",
       "</table>\n",
       "</div>"
      ],
      "text/plain": [
       "   depth  l2_leaf_reg  learning_rate  iterations  roc_auc  accuracy  on_step\n",
       "2      6           12          0.005        2000  0.84335  0.795796     1694"
      ]
     },
     "execution_count": 106,
     "metadata": {},
     "output_type": "execute_result"
    }
   ],
   "source": [
    "catboost_best_hyper"
   ]
  },
  {
   "cell_type": "code",
   "execution_count": 107,
   "metadata": {},
   "outputs": [],
   "source": [
    "catboost_best_depth = int(catboost_best_hyper['depth'])\n",
    "catboost_best_l2_leaf_reg = int(catboost_best_hyper['l2_leaf_reg'])\n",
    "catboost_best_learning_rate = float(catboost_best_hyper['learning_rate'])\n",
    "catboost_best_iterations = int(catboost_best_hyper['iterations'])"
   ]
  },
  {
   "cell_type": "code",
   "execution_count": 108,
   "metadata": {},
   "outputs": [],
   "source": [
    "catbo_best_model = CatBoostClassifier(iterations= catboost_best_iterations,\n",
    "                                 depth= catboost_best_depth,\n",
    "                                 learning_rate= catboost_best_learning_rate,\n",
    "                                 l2_leaf_reg= catboost_best_l2_leaf_reg, \n",
    "                                 loss_function= 'Logloss',\n",
    "                                 custom_metric= ['AUC', 'Accuracy'], \n",
    "                                 random_state= state, \n",
    "                                 verbose= 0)"
   ]
  },
  {
   "cell_type": "code",
   "execution_count": 109,
   "metadata": {},
   "outputs": [
    {
     "name": "stdout",
     "output_type": "stream",
     "text": [
      "Wall time: 12.5 s\n"
     ]
    },
    {
     "data": {
      "text/plain": [
       "<catboost.core.CatBoostClassifier at 0x134a39bae48>"
      ]
     },
     "execution_count": 109,
     "metadata": {},
     "output_type": "execute_result"
    }
   ],
   "source": [
    "%%time\n",
    "catbo_best_model.fit(features_train,target_train,cat_features = object_columns)"
   ]
  },
  {
   "cell_type": "code",
   "execution_count": 110,
   "metadata": {},
   "outputs": [
    {
     "name": "stdout",
     "output_type": "stream",
     "text": [
      "Wall time: 102 ms\n"
     ]
    }
   ],
   "source": [
    "%%time\n",
    "feature_importance = catbo_best_model.get_feature_importance(data=Pool(features_train, label=target_train, cat_features=object_columns),\n",
    "                                                        type = 'FeatureImportance',\n",
    "                                                        prettified=True,\n",
    "                                                        thread_count=-1,\n",
    "                                                        verbose=False)"
   ]
  },
  {
   "cell_type": "code",
   "execution_count": 111,
   "metadata": {},
   "outputs": [
    {
     "data": {
      "text/html": [
       "<div>\n",
       "<style scoped>\n",
       "    .dataframe tbody tr th:only-of-type {\n",
       "        vertical-align: middle;\n",
       "    }\n",
       "\n",
       "    .dataframe tbody tr th {\n",
       "        vertical-align: top;\n",
       "    }\n",
       "\n",
       "    .dataframe thead th {\n",
       "        text-align: right;\n",
       "    }\n",
       "</style>\n",
       "<table border=\"1\" class=\"dataframe\">\n",
       "  <thead>\n",
       "    <tr style=\"text-align: right;\">\n",
       "      <th></th>\n",
       "      <th>Feature Id</th>\n",
       "      <th>Importances</th>\n",
       "    </tr>\n",
       "  </thead>\n",
       "  <tbody>\n",
       "    <tr>\n",
       "      <th>0</th>\n",
       "      <td>type</td>\n",
       "      <td>26.470802</td>\n",
       "    </tr>\n",
       "    <tr>\n",
       "      <th>1</th>\n",
       "      <td>internetservice</td>\n",
       "      <td>22.931070</td>\n",
       "    </tr>\n",
       "    <tr>\n",
       "      <th>2</th>\n",
       "      <td>months_of_contract</td>\n",
       "      <td>19.451257</td>\n",
       "    </tr>\n",
       "    <tr>\n",
       "      <th>3</th>\n",
       "      <td>monthlycharges</td>\n",
       "      <td>10.018693</td>\n",
       "    </tr>\n",
       "    <tr>\n",
       "      <th>4</th>\n",
       "      <td>totalcharges</td>\n",
       "      <td>9.091256</td>\n",
       "    </tr>\n",
       "    <tr>\n",
       "      <th>5</th>\n",
       "      <td>paymentmethod</td>\n",
       "      <td>6.503979</td>\n",
       "    </tr>\n",
       "    <tr>\n",
       "      <th>6</th>\n",
       "      <td>phone</td>\n",
       "      <td>2.879711</td>\n",
       "    </tr>\n",
       "    <tr>\n",
       "      <th>7</th>\n",
       "      <td>gender_is_female</td>\n",
       "      <td>2.653232</td>\n",
       "    </tr>\n",
       "    <tr>\n",
       "      <th>8</th>\n",
       "      <td>paperlessbilling</td>\n",
       "      <td>0.000000</td>\n",
       "    </tr>\n",
       "    <tr>\n",
       "      <th>9</th>\n",
       "      <td>onlinesecurity</td>\n",
       "      <td>0.000000</td>\n",
       "    </tr>\n",
       "    <tr>\n",
       "      <th>10</th>\n",
       "      <td>onlinebackup</td>\n",
       "      <td>0.000000</td>\n",
       "    </tr>\n",
       "    <tr>\n",
       "      <th>11</th>\n",
       "      <td>deviceprotection</td>\n",
       "      <td>0.000000</td>\n",
       "    </tr>\n",
       "    <tr>\n",
       "      <th>12</th>\n",
       "      <td>techsupport</td>\n",
       "      <td>0.000000</td>\n",
       "    </tr>\n",
       "    <tr>\n",
       "      <th>13</th>\n",
       "      <td>streamingtv</td>\n",
       "      <td>0.000000</td>\n",
       "    </tr>\n",
       "    <tr>\n",
       "      <th>14</th>\n",
       "      <td>streamingmovies</td>\n",
       "      <td>0.000000</td>\n",
       "    </tr>\n",
       "    <tr>\n",
       "      <th>15</th>\n",
       "      <td>multiplelines</td>\n",
       "      <td>0.000000</td>\n",
       "    </tr>\n",
       "    <tr>\n",
       "      <th>16</th>\n",
       "      <td>seniorcitizen</td>\n",
       "      <td>0.000000</td>\n",
       "    </tr>\n",
       "    <tr>\n",
       "      <th>17</th>\n",
       "      <td>partner</td>\n",
       "      <td>0.000000</td>\n",
       "    </tr>\n",
       "    <tr>\n",
       "      <th>18</th>\n",
       "      <td>dependents</td>\n",
       "      <td>0.000000</td>\n",
       "    </tr>\n",
       "  </tbody>\n",
       "</table>\n",
       "</div>"
      ],
      "text/plain": [
       "            Feature Id  Importances\n",
       "0                 type    26.470802\n",
       "1      internetservice    22.931070\n",
       "2   months_of_contract    19.451257\n",
       "3       monthlycharges    10.018693\n",
       "4         totalcharges     9.091256\n",
       "5        paymentmethod     6.503979\n",
       "6                phone     2.879711\n",
       "7     gender_is_female     2.653232\n",
       "8     paperlessbilling     0.000000\n",
       "9       onlinesecurity     0.000000\n",
       "10        onlinebackup     0.000000\n",
       "11    deviceprotection     0.000000\n",
       "12         techsupport     0.000000\n",
       "13         streamingtv     0.000000\n",
       "14     streamingmovies     0.000000\n",
       "15       multiplelines     0.000000\n",
       "16       seniorcitizen     0.000000\n",
       "17             partner     0.000000\n",
       "18          dependents     0.000000"
      ]
     },
     "execution_count": 111,
     "metadata": {},
     "output_type": "execute_result"
    }
   ],
   "source": [
    "feature_importance "
   ]
  },
  {
   "cell_type": "markdown",
   "metadata": {},
   "source": [
    "Интересно посмотреть, какие признаки оказались наиболее важными для классификации. Созданный нами признак months of contract, отражающий жизненный цикл потребителя в месяцах, оказался очень важным и входит тройку по вкладу в обучение модели.  \n",
    "Также стоит заметить, что важнейшими факторами оказались тип контракта и способ подключения."
   ]
  },
  {
   "cell_type": "markdown",
   "metadata": {},
   "source": [
    "Иногда алгоритм CatBoost показывает лучший результат, если ей передать данные с закодированными категориальными признаками. Проверим. "
   ]
  },
  {
   "cell_type": "code",
   "execution_count": 112,
   "metadata": {},
   "outputs": [
    {
     "name": "stdout",
     "output_type": "stream",
     "text": [
      "Wall time: 0 ns\n"
     ]
    }
   ],
   "source": [
    "%%time\n",
    "def catboost_ohe_cv(X, y, n_iterations, depth, learn_rate, l2_leaf_reg, n_folds):\n",
    "    ohe_params = {'iterations': n_iterations,\n",
    "              'depth': depth,\n",
    "              'learning_rate': learn_rate,\n",
    "              'l2_leaf_reg': l2_leaf_reg,\n",
    "              'loss_function': 'Logloss',\n",
    "              'custom_metric': ['AUC', 'Accuracy'], \n",
    "              'random_state': state, \n",
    "              'verbose': 0}\n",
    "    ohe_pool = Pool(X, label=y)\n",
    "    ohe_cv_data = cv(\n",
    "        params = ohe_params,\n",
    "        pool = ohe_pool,\n",
    "        fold_count=n_folds,\n",
    "        inverted=False,\n",
    "        shuffle=True,\n",
    "        stratified=True,\n",
    "        partition_random_seed=state)\n",
    "    ohe_top_value = np.max(ohe_cv_data['test-AUC-mean'])\n",
    "    ohe_top_iter = np.argmax(ohe_cv_data['test-AUC-mean'])\n",
    "    ohe_top_result = ohe_cv_data.loc[ohe_top_iter, :]\n",
    "    ohe_top_acc = ohe_top_result['test-Accuracy-mean']\n",
    "    return ohe_cv_data, ohe_top_value, ohe_top_iter, ohe_top_result, ohe_top_acc"
   ]
  },
  {
   "cell_type": "code",
   "execution_count": 113,
   "metadata": {},
   "outputs": [],
   "source": [
    "def catboost_ohe_search(X_ohe_search, y_ohe_search):\n",
    "    ohe_learning_rate_col = []\n",
    "    ohe_depth_col = []\n",
    "    ohe_l2_leaf_reg_col = []\n",
    "    ohe_iterations_col = []\n",
    "    ohe_roc_auc_col = []\n",
    "    ohe_acc_col = []\n",
    "    ohe_on_step_col = []\n",
    "    for n_iterations in iterations_range:\n",
    "        for learn_rate in learn_rate_range:\n",
    "            for l2_leaf_reg in l2_leaf_reg_range:\n",
    "                for depth in depth_range:\n",
    "                    catbo_cv_ohe_data, catbo_top_ohe_value, catbo_top_ohe_iter, catbo_top_ohe_result, catbo_top_ohe_acc = catboost_ohe_cv(X_ohe_search, \n",
    "                                                                                                                  y_ohe_search,\n",
    "                                                                                                                  n_iterations, \n",
    "                                                                                                                  depth, \n",
    "                                                                                                                  learn_rate, \n",
    "                                                                                                                  l2_leaf_reg, \n",
    "                                                                                                                  n_folds)\n",
    "                    ohe_depth_col.append(depth)\n",
    "                    ohe_l2_leaf_reg_col.append(l2_leaf_reg)\n",
    "                    ohe_learning_rate_col.append(learn_rate)\n",
    "                    ohe_iterations_col.append(n_iterations)\n",
    "                    ohe_roc_auc_col.append(catbo_top_ohe_value)\n",
    "                    ohe_acc_col.append(catbo_top_ohe_acc)\n",
    "                    ohe_on_step_col.append(catbo_top_ohe_iter)\n",
    "    ohe_catboost_hyperparameters_dict = {'depth': ohe_depth_col, \n",
    "                                     'l2_leaf_reg': ohe_l2_leaf_reg_col, \n",
    "                                     'learning_rate': ohe_learning_rate_col, \n",
    "                                     'iterations': ohe_iterations_col, \n",
    "                                     'roc_auc': ohe_roc_auc_col, \n",
    "                                     'accuracy': ohe_acc_col, 'on_step': ohe_on_step_col}\n",
    "    \n",
    "    ohe_catboost_hyperparameters = pd.DataFrame(data = ohe_catboost_hyperparameters_dict)\n",
    "    return ohe_catboost_hyperparameters                "
   ]
  },
  {
   "cell_type": "code",
   "execution_count": 114,
   "metadata": {},
   "outputs": [
    {
     "name": "stdout",
     "output_type": "stream",
     "text": [
      "Wall time: 4min 18s\n"
     ]
    }
   ],
   "source": [
    "%%time\n",
    "\n",
    "catboost_ohe_results= catboost_ohe_search(features_ohe_train, target_ohe_train)"
   ]
  },
  {
   "cell_type": "code",
   "execution_count": 115,
   "metadata": {},
   "outputs": [
    {
     "data": {
      "text/html": [
       "<div>\n",
       "<style scoped>\n",
       "    .dataframe tbody tr th:only-of-type {\n",
       "        vertical-align: middle;\n",
       "    }\n",
       "\n",
       "    .dataframe tbody tr th {\n",
       "        vertical-align: top;\n",
       "    }\n",
       "\n",
       "    .dataframe thead th {\n",
       "        text-align: right;\n",
       "    }\n",
       "</style>\n",
       "<table border=\"1\" class=\"dataframe\">\n",
       "  <thead>\n",
       "    <tr style=\"text-align: right;\">\n",
       "      <th></th>\n",
       "      <th>depth</th>\n",
       "      <th>l2_leaf_reg</th>\n",
       "      <th>learning_rate</th>\n",
       "      <th>iterations</th>\n",
       "      <th>roc_auc</th>\n",
       "      <th>accuracy</th>\n",
       "      <th>on_step</th>\n",
       "    </tr>\n",
       "  </thead>\n",
       "  <tbody>\n",
       "    <tr>\n",
       "      <th>0</th>\n",
       "      <td>6</td>\n",
       "      <td>12</td>\n",
       "      <td>0.005</td>\n",
       "      <td>500</td>\n",
       "      <td>0.841868</td>\n",
       "      <td>0.795796</td>\n",
       "      <td>498</td>\n",
       "    </tr>\n",
       "    <tr>\n",
       "      <th>1</th>\n",
       "      <td>6</td>\n",
       "      <td>12</td>\n",
       "      <td>0.010</td>\n",
       "      <td>500</td>\n",
       "      <td>0.842429</td>\n",
       "      <td>0.797692</td>\n",
       "      <td>387</td>\n",
       "    </tr>\n",
       "    <tr>\n",
       "      <th>2</th>\n",
       "      <td>6</td>\n",
       "      <td>12</td>\n",
       "      <td>0.005</td>\n",
       "      <td>2000</td>\n",
       "      <td>0.842533</td>\n",
       "      <td>0.796743</td>\n",
       "      <td>890</td>\n",
       "    </tr>\n",
       "    <tr>\n",
       "      <th>3</th>\n",
       "      <td>6</td>\n",
       "      <td>12</td>\n",
       "      <td>0.010</td>\n",
       "      <td>2000</td>\n",
       "      <td>0.842429</td>\n",
       "      <td>0.797692</td>\n",
       "      <td>387</td>\n",
       "    </tr>\n",
       "  </tbody>\n",
       "</table>\n",
       "</div>"
      ],
      "text/plain": [
       "   depth  l2_leaf_reg  learning_rate  iterations   roc_auc  accuracy  on_step\n",
       "0      6           12          0.005         500  0.841868  0.795796      498\n",
       "1      6           12          0.010         500  0.842429  0.797692      387\n",
       "2      6           12          0.005        2000  0.842533  0.796743      890\n",
       "3      6           12          0.010        2000  0.842429  0.797692      387"
      ]
     },
     "execution_count": 115,
     "metadata": {},
     "output_type": "execute_result"
    }
   ],
   "source": [
    "catboost_ohe_results"
   ]
  },
  {
   "cell_type": "code",
   "execution_count": 116,
   "metadata": {},
   "outputs": [],
   "source": [
    "catboost_ohe_best_hyper = catboost_ohe_results.sort_values(by = 'roc_auc',ascending = False).head(1)"
   ]
  },
  {
   "cell_type": "code",
   "execution_count": 117,
   "metadata": {},
   "outputs": [
    {
     "data": {
      "text/html": [
       "<div>\n",
       "<style scoped>\n",
       "    .dataframe tbody tr th:only-of-type {\n",
       "        vertical-align: middle;\n",
       "    }\n",
       "\n",
       "    .dataframe tbody tr th {\n",
       "        vertical-align: top;\n",
       "    }\n",
       "\n",
       "    .dataframe thead th {\n",
       "        text-align: right;\n",
       "    }\n",
       "</style>\n",
       "<table border=\"1\" class=\"dataframe\">\n",
       "  <thead>\n",
       "    <tr style=\"text-align: right;\">\n",
       "      <th></th>\n",
       "      <th>depth</th>\n",
       "      <th>l2_leaf_reg</th>\n",
       "      <th>learning_rate</th>\n",
       "      <th>iterations</th>\n",
       "      <th>roc_auc</th>\n",
       "      <th>accuracy</th>\n",
       "      <th>on_step</th>\n",
       "    </tr>\n",
       "  </thead>\n",
       "  <tbody>\n",
       "    <tr>\n",
       "      <th>2</th>\n",
       "      <td>6</td>\n",
       "      <td>12</td>\n",
       "      <td>0.005</td>\n",
       "      <td>2000</td>\n",
       "      <td>0.842533</td>\n",
       "      <td>0.796743</td>\n",
       "      <td>890</td>\n",
       "    </tr>\n",
       "  </tbody>\n",
       "</table>\n",
       "</div>"
      ],
      "text/plain": [
       "   depth  l2_leaf_reg  learning_rate  iterations   roc_auc  accuracy  on_step\n",
       "2      6           12          0.005        2000  0.842533  0.796743      890"
      ]
     },
     "execution_count": 117,
     "metadata": {},
     "output_type": "execute_result"
    }
   ],
   "source": [
    "catboost_ohe_best_hyper"
   ]
  },
  {
   "cell_type": "code",
   "execution_count": 118,
   "metadata": {},
   "outputs": [],
   "source": [
    "catboost_ohe_best_depth = int(catboost_ohe_best_hyper['depth'])\n",
    "catboost_ohe_best_l2_leaf_reg = int(catboost_ohe_best_hyper['l2_leaf_reg'])\n",
    "catboost_ohe_best_learning_rate = float(catboost_ohe_best_hyper['learning_rate'])\n",
    "catboost_ohe_best_iterations = int(catboost_ohe_best_hyper['iterations'])"
   ]
  },
  {
   "cell_type": "code",
   "execution_count": 119,
   "metadata": {},
   "outputs": [],
   "source": [
    "catbo_ohe_best_model = CatBoostClassifier(iterations= catboost_ohe_best_iterations,\n",
    "                                 depth= catboost_ohe_best_depth,\n",
    "                                 learning_rate= catboost_ohe_best_learning_rate,\n",
    "                                 l2_leaf_reg= catboost_ohe_best_l2_leaf_reg, \n",
    "                                 loss_function= 'Logloss',\n",
    "                                 custom_metric= ['AUC', 'Accuracy'], \n",
    "                                 random_state= state, \n",
    "                                 verbose= 0)"
   ]
  },
  {
   "cell_type": "markdown",
   "metadata": {},
   "source": [
    "### LightGBM"
   ]
  },
  {
   "cell_type": "code",
   "execution_count": 121,
   "metadata": {},
   "outputs": [],
   "source": [
    "def lightgbm_cv(X, y, n_iterations, depth, learn_rate, l2_leaf_reg, n_folds):\n",
    "    lgbm_model = LGBMClassifier(objective=\"binary\", eval_metric=['AUC', 'Accuracy'],\n",
    "                                                     iterations = n_iterations,\n",
    "                                                      max_depth = depth,\n",
    "                                                       reg_lambda = l2_leaf_reg,\n",
    "                                                       learning_rate = learn_rate,\n",
    "                                                       random_state = state)\n",
    "    lgbm_cv_result = cross_validate(lgbm_model, X, y, \n",
    "                                    scoring = ['roc_auc', 'accuracy'], \n",
    "                                    cv = num_folds, verbose=0) \n",
    "    lgbm_auc = lgbm_cv_result['test_roc_auc'].mean()\n",
    "    lgbm_acc = lgbm_cv_result['test_accuracy'].mean()\n",
    "    return lgbm_cv_result, lgbm_auc, lgbm_acc  \n",
    "    "
   ]
  },
  {
   "cell_type": "code",
   "execution_count": 122,
   "metadata": {},
   "outputs": [],
   "source": [
    "def lightgbm_search(X_search, y_search):\n",
    "    learning_rate_col = []\n",
    "    max_depth_col = []\n",
    "    reg_lambda_col = []\n",
    "    iterations_col = []\n",
    "    lgbm_auc_col = []\n",
    "    lgbm_acc_col = []\n",
    "    for depth in depth_range:\n",
    "        for reg_lambda in l2_leaf_reg_range:\n",
    "            for learn_rate in learn_rate_range:\n",
    "                for iterations in iterations_range:\n",
    "                    lgbm_cv_result, lgbm_top_auc, lgbm_top_acc = lightgbm_cv(X_search, y_search,\n",
    "                                                               iterations,\n",
    "                                                               depth, \n",
    "                                                               learn_rate, \n",
    "                                                               reg_lambda, \n",
    "                                                               n_folds)\n",
    "                    max_depth_col.append(depth)\n",
    "                    reg_lambda_col.append(reg_lambda)\n",
    "                    learning_rate_col.append(learn_rate)\n",
    "                    iterations_col.append(iterations)\n",
    "                    lgbm_auc_col.append(lgbm_top_auc)\n",
    "                    lgbm_acc_col.append(lgbm_top_acc)\n",
    "    LGBM_hyperparameters_dict = {'max_depth': max_depth_col, \n",
    "                                     'reg_lambda': reg_lambda_col, \n",
    "                                     'learning_rate': learning_rate_col, \n",
    "                                     'iterations': iterations_col, \n",
    "                                     'roc_auc': lgbm_auc_col,'accuracy': lgbm_acc_col}\n",
    "    LGBM_hyperparameters = pd.DataFrame(data = LGBM_hyperparameters_dict)\n",
    "    return LGBM_hyperparameters               \n",
    "    "
   ]
  },
  {
   "cell_type": "code",
   "execution_count": 123,
   "metadata": {},
   "outputs": [],
   "source": [
    "iterations_range = [500, 2000]\n",
    "learn_rate_range = [0.005, 0.01]\n",
    "l2_leaf_reg_range = [8,12]\n",
    "depth_range = [6,8]\n",
    "n_folds = 5"
   ]
  },
  {
   "cell_type": "code",
   "execution_count": 124,
   "metadata": {},
   "outputs": [
    {
     "name": "stdout",
     "output_type": "stream",
     "text": [
      "Wall time: 4.75 s\n"
     ]
    }
   ],
   "source": [
    "%%time\n",
    "lgbm_results = lightgbm_search(features_ordin_train, target_ordin_train)"
   ]
  },
  {
   "cell_type": "code",
   "execution_count": 125,
   "metadata": {},
   "outputs": [
    {
     "data": {
      "text/html": [
       "<div>\n",
       "<style scoped>\n",
       "    .dataframe tbody tr th:only-of-type {\n",
       "        vertical-align: middle;\n",
       "    }\n",
       "\n",
       "    .dataframe tbody tr th {\n",
       "        vertical-align: top;\n",
       "    }\n",
       "\n",
       "    .dataframe thead th {\n",
       "        text-align: right;\n",
       "    }\n",
       "</style>\n",
       "<table border=\"1\" class=\"dataframe\">\n",
       "  <thead>\n",
       "    <tr style=\"text-align: right;\">\n",
       "      <th></th>\n",
       "      <th>max_depth</th>\n",
       "      <th>reg_lambda</th>\n",
       "      <th>learning_rate</th>\n",
       "      <th>iterations</th>\n",
       "      <th>roc_auc</th>\n",
       "      <th>accuracy</th>\n",
       "    </tr>\n",
       "  </thead>\n",
       "  <tbody>\n",
       "    <tr>\n",
       "      <th>0</th>\n",
       "      <td>6</td>\n",
       "      <td>8</td>\n",
       "      <td>0.005</td>\n",
       "      <td>500</td>\n",
       "      <td>0.830732</td>\n",
       "      <td>0.734168</td>\n",
       "    </tr>\n",
       "    <tr>\n",
       "      <th>1</th>\n",
       "      <td>6</td>\n",
       "      <td>8</td>\n",
       "      <td>0.005</td>\n",
       "      <td>2000</td>\n",
       "      <td>0.830732</td>\n",
       "      <td>0.734168</td>\n",
       "    </tr>\n",
       "    <tr>\n",
       "      <th>2</th>\n",
       "      <td>6</td>\n",
       "      <td>8</td>\n",
       "      <td>0.010</td>\n",
       "      <td>500</td>\n",
       "      <td>0.834624</td>\n",
       "      <td>0.780433</td>\n",
       "    </tr>\n",
       "    <tr>\n",
       "      <th>3</th>\n",
       "      <td>6</td>\n",
       "      <td>8</td>\n",
       "      <td>0.010</td>\n",
       "      <td>2000</td>\n",
       "      <td>0.834624</td>\n",
       "      <td>0.780433</td>\n",
       "    </tr>\n",
       "    <tr>\n",
       "      <th>4</th>\n",
       "      <td>6</td>\n",
       "      <td>12</td>\n",
       "      <td>0.005</td>\n",
       "      <td>500</td>\n",
       "      <td>0.829162</td>\n",
       "      <td>0.734168</td>\n",
       "    </tr>\n",
       "    <tr>\n",
       "      <th>5</th>\n",
       "      <td>6</td>\n",
       "      <td>12</td>\n",
       "      <td>0.005</td>\n",
       "      <td>2000</td>\n",
       "      <td>0.829162</td>\n",
       "      <td>0.734168</td>\n",
       "    </tr>\n",
       "    <tr>\n",
       "      <th>6</th>\n",
       "      <td>6</td>\n",
       "      <td>12</td>\n",
       "      <td>0.010</td>\n",
       "      <td>500</td>\n",
       "      <td>0.834633</td>\n",
       "      <td>0.778725</td>\n",
       "    </tr>\n",
       "    <tr>\n",
       "      <th>7</th>\n",
       "      <td>6</td>\n",
       "      <td>12</td>\n",
       "      <td>0.010</td>\n",
       "      <td>2000</td>\n",
       "      <td>0.834633</td>\n",
       "      <td>0.778725</td>\n",
       "    </tr>\n",
       "    <tr>\n",
       "      <th>8</th>\n",
       "      <td>8</td>\n",
       "      <td>8</td>\n",
       "      <td>0.005</td>\n",
       "      <td>500</td>\n",
       "      <td>0.829966</td>\n",
       "      <td>0.734168</td>\n",
       "    </tr>\n",
       "    <tr>\n",
       "      <th>9</th>\n",
       "      <td>8</td>\n",
       "      <td>8</td>\n",
       "      <td>0.005</td>\n",
       "      <td>2000</td>\n",
       "      <td>0.829966</td>\n",
       "      <td>0.734168</td>\n",
       "    </tr>\n",
       "    <tr>\n",
       "      <th>10</th>\n",
       "      <td>8</td>\n",
       "      <td>8</td>\n",
       "      <td>0.010</td>\n",
       "      <td>500</td>\n",
       "      <td>0.834196</td>\n",
       "      <td>0.780434</td>\n",
       "    </tr>\n",
       "    <tr>\n",
       "      <th>11</th>\n",
       "      <td>8</td>\n",
       "      <td>8</td>\n",
       "      <td>0.010</td>\n",
       "      <td>2000</td>\n",
       "      <td>0.834196</td>\n",
       "      <td>0.780434</td>\n",
       "    </tr>\n",
       "    <tr>\n",
       "      <th>12</th>\n",
       "      <td>8</td>\n",
       "      <td>12</td>\n",
       "      <td>0.005</td>\n",
       "      <td>500</td>\n",
       "      <td>0.828524</td>\n",
       "      <td>0.734168</td>\n",
       "    </tr>\n",
       "    <tr>\n",
       "      <th>13</th>\n",
       "      <td>8</td>\n",
       "      <td>12</td>\n",
       "      <td>0.005</td>\n",
       "      <td>2000</td>\n",
       "      <td>0.828524</td>\n",
       "      <td>0.734168</td>\n",
       "    </tr>\n",
       "    <tr>\n",
       "      <th>14</th>\n",
       "      <td>8</td>\n",
       "      <td>12</td>\n",
       "      <td>0.010</td>\n",
       "      <td>500</td>\n",
       "      <td>0.834686</td>\n",
       "      <td>0.779105</td>\n",
       "    </tr>\n",
       "    <tr>\n",
       "      <th>15</th>\n",
       "      <td>8</td>\n",
       "      <td>12</td>\n",
       "      <td>0.010</td>\n",
       "      <td>2000</td>\n",
       "      <td>0.834686</td>\n",
       "      <td>0.779105</td>\n",
       "    </tr>\n",
       "  </tbody>\n",
       "</table>\n",
       "</div>"
      ],
      "text/plain": [
       "    max_depth  reg_lambda  learning_rate  iterations   roc_auc  accuracy\n",
       "0           6           8          0.005         500  0.830732  0.734168\n",
       "1           6           8          0.005        2000  0.830732  0.734168\n",
       "2           6           8          0.010         500  0.834624  0.780433\n",
       "3           6           8          0.010        2000  0.834624  0.780433\n",
       "4           6          12          0.005         500  0.829162  0.734168\n",
       "5           6          12          0.005        2000  0.829162  0.734168\n",
       "6           6          12          0.010         500  0.834633  0.778725\n",
       "7           6          12          0.010        2000  0.834633  0.778725\n",
       "8           8           8          0.005         500  0.829966  0.734168\n",
       "9           8           8          0.005        2000  0.829966  0.734168\n",
       "10          8           8          0.010         500  0.834196  0.780434\n",
       "11          8           8          0.010        2000  0.834196  0.780434\n",
       "12          8          12          0.005         500  0.828524  0.734168\n",
       "13          8          12          0.005        2000  0.828524  0.734168\n",
       "14          8          12          0.010         500  0.834686  0.779105\n",
       "15          8          12          0.010        2000  0.834686  0.779105"
      ]
     },
     "execution_count": 125,
     "metadata": {},
     "output_type": "execute_result"
    }
   ],
   "source": [
    "lgbm_results"
   ]
  },
  {
   "cell_type": "code",
   "execution_count": 126,
   "metadata": {},
   "outputs": [],
   "source": [
    "lgbm_best_hyper = lgbm_results.sort_values(by = 'roc_auc',ascending = False).head(1)"
   ]
  },
  {
   "cell_type": "code",
   "execution_count": 127,
   "metadata": {},
   "outputs": [
    {
     "data": {
      "text/html": [
       "<div>\n",
       "<style scoped>\n",
       "    .dataframe tbody tr th:only-of-type {\n",
       "        vertical-align: middle;\n",
       "    }\n",
       "\n",
       "    .dataframe tbody tr th {\n",
       "        vertical-align: top;\n",
       "    }\n",
       "\n",
       "    .dataframe thead th {\n",
       "        text-align: right;\n",
       "    }\n",
       "</style>\n",
       "<table border=\"1\" class=\"dataframe\">\n",
       "  <thead>\n",
       "    <tr style=\"text-align: right;\">\n",
       "      <th></th>\n",
       "      <th>max_depth</th>\n",
       "      <th>reg_lambda</th>\n",
       "      <th>learning_rate</th>\n",
       "      <th>iterations</th>\n",
       "      <th>roc_auc</th>\n",
       "      <th>accuracy</th>\n",
       "    </tr>\n",
       "  </thead>\n",
       "  <tbody>\n",
       "    <tr>\n",
       "      <th>14</th>\n",
       "      <td>8</td>\n",
       "      <td>12</td>\n",
       "      <td>0.01</td>\n",
       "      <td>500</td>\n",
       "      <td>0.834686</td>\n",
       "      <td>0.779105</td>\n",
       "    </tr>\n",
       "  </tbody>\n",
       "</table>\n",
       "</div>"
      ],
      "text/plain": [
       "    max_depth  reg_lambda  learning_rate  iterations   roc_auc  accuracy\n",
       "14          8          12           0.01         500  0.834686  0.779105"
      ]
     },
     "execution_count": 127,
     "metadata": {},
     "output_type": "execute_result"
    }
   ],
   "source": [
    "lgbm_best_hyper"
   ]
  },
  {
   "cell_type": "code",
   "execution_count": 128,
   "metadata": {},
   "outputs": [],
   "source": [
    "lgbm_best_depth = int(lgbm_best_hyper['max_depth'])\n",
    "lgbm_best_reg_lambda = int(lgbm_best_hyper['reg_lambda'])\n",
    "lgbm_best_learning_rate = float(lgbm_best_hyper['learning_rate'])\n",
    "lgbm_best_iterations = int(lgbm_best_hyper['iterations'])"
   ]
  },
  {
   "cell_type": "markdown",
   "metadata": {},
   "source": [
    "### Вывод"
   ]
  },
  {
   "cell_type": "code",
   "execution_count": 129,
   "metadata": {},
   "outputs": [],
   "source": [
    "results_df = pd.DataFrame(data = {'model':['logreg', 'forest', 'catboost', 'catboost ohe', 'lgbm'],\n",
    "                                  'roc_auc':[logreg_roc_auc, \n",
    "                                             float(forest_best_hyper.roc_auc), \n",
    "                                             float(catboost_best_hyper.roc_auc), \n",
    "                                             float(catboost_ohe_best_hyper.roc_auc),\n",
    "                                             float(lgbm_best_hyper.roc_auc)],\n",
    "                                  'accuracy':[logreg_acc,\n",
    "                                              float(forest_best_hyper.accuracy),\n",
    "                                              float(catboost_best_hyper.accuracy),\n",
    "                                              float(catboost_ohe_best_hyper.accuracy),\n",
    "                                              float(lgbm_best_hyper.accuracy)]})"
   ]
  },
  {
   "cell_type": "code",
   "execution_count": 130,
   "metadata": {},
   "outputs": [
    {
     "data": {
      "text/html": [
       "<div>\n",
       "<style scoped>\n",
       "    .dataframe tbody tr th:only-of-type {\n",
       "        vertical-align: middle;\n",
       "    }\n",
       "\n",
       "    .dataframe tbody tr th {\n",
       "        vertical-align: top;\n",
       "    }\n",
       "\n",
       "    .dataframe thead th {\n",
       "        text-align: right;\n",
       "    }\n",
       "</style>\n",
       "<table border=\"1\" class=\"dataframe\">\n",
       "  <thead>\n",
       "    <tr style=\"text-align: right;\">\n",
       "      <th></th>\n",
       "      <th>model</th>\n",
       "      <th>roc_auc</th>\n",
       "      <th>accuracy</th>\n",
       "    </tr>\n",
       "  </thead>\n",
       "  <tbody>\n",
       "    <tr>\n",
       "      <th>0</th>\n",
       "      <td>logreg</td>\n",
       "      <td>0.836777</td>\n",
       "      <td>0.792378</td>\n",
       "    </tr>\n",
       "    <tr>\n",
       "      <th>1</th>\n",
       "      <td>forest</td>\n",
       "      <td>0.824802</td>\n",
       "      <td>0.788774</td>\n",
       "    </tr>\n",
       "    <tr>\n",
       "      <th>2</th>\n",
       "      <td>catboost</td>\n",
       "      <td>0.843350</td>\n",
       "      <td>0.795796</td>\n",
       "    </tr>\n",
       "    <tr>\n",
       "      <th>3</th>\n",
       "      <td>catboost ohe</td>\n",
       "      <td>0.842533</td>\n",
       "      <td>0.796743</td>\n",
       "    </tr>\n",
       "    <tr>\n",
       "      <th>4</th>\n",
       "      <td>lgbm</td>\n",
       "      <td>0.834686</td>\n",
       "      <td>0.779105</td>\n",
       "    </tr>\n",
       "  </tbody>\n",
       "</table>\n",
       "</div>"
      ],
      "text/plain": [
       "          model   roc_auc  accuracy\n",
       "0        logreg  0.836777  0.792378\n",
       "1        forest  0.824802  0.788774\n",
       "2      catboost  0.843350  0.795796\n",
       "3  catboost ohe  0.842533  0.796743\n",
       "4          lgbm  0.834686  0.779105"
      ]
     },
     "execution_count": 130,
     "metadata": {},
     "output_type": "execute_result"
    }
   ],
   "source": [
    "results_df"
   ]
  },
  {
   "cell_type": "code",
   "execution_count": 131,
   "metadata": {},
   "outputs": [
    {
     "data": {
      "text/html": [
       "<div>\n",
       "<style scoped>\n",
       "    .dataframe tbody tr th:only-of-type {\n",
       "        vertical-align: middle;\n",
       "    }\n",
       "\n",
       "    .dataframe tbody tr th {\n",
       "        vertical-align: top;\n",
       "    }\n",
       "\n",
       "    .dataframe thead th {\n",
       "        text-align: right;\n",
       "    }\n",
       "</style>\n",
       "<table border=\"1\" class=\"dataframe\">\n",
       "  <thead>\n",
       "    <tr style=\"text-align: right;\">\n",
       "      <th></th>\n",
       "      <th>model</th>\n",
       "      <th>roc_auc</th>\n",
       "      <th>accuracy</th>\n",
       "    </tr>\n",
       "  </thead>\n",
       "  <tbody>\n",
       "    <tr>\n",
       "      <th>2</th>\n",
       "      <td>catboost</td>\n",
       "      <td>0.84335</td>\n",
       "      <td>0.795796</td>\n",
       "    </tr>\n",
       "  </tbody>\n",
       "</table>\n",
       "</div>"
      ],
      "text/plain": [
       "      model  roc_auc  accuracy\n",
       "2  catboost  0.84335  0.795796"
      ]
     },
     "execution_count": 131,
     "metadata": {},
     "output_type": "execute_result"
    }
   ],
   "source": [
    "results_df[results_df.roc_auc==results_df.roc_auc.max()]"
   ]
  },
  {
   "cell_type": "markdown",
   "metadata": {},
   "source": [
    "Самый высокий показатель roc-auc продемонстрировала модель на CatBoost с не кодированными категориальными признаками. "
   ]
  },
  {
   "cell_type": "markdown",
   "metadata": {},
   "source": [
    "## Тестирование"
   ]
  },
  {
   "cell_type": "markdown",
   "metadata": {},
   "source": [
    "Мы выбрали алгоритм и определили гиперпараметры модели. Осталось получить результаты на тестовой выборке."
   ]
  },
  {
   "cell_type": "code",
   "execution_count": 133,
   "metadata": {},
   "outputs": [],
   "source": [
    "catboost_best_model = CatBoostClassifier(iterations= catboost_best_iterations,\n",
    "                                 depth= catboost_best_depth,\n",
    "                                 learning_rate= catboost_best_learning_rate,\n",
    "                                 l2_leaf_reg= catboost_best_l2_leaf_reg, \n",
    "                                 loss_function= 'Logloss',\n",
    "                                 custom_metric= ['AUC', 'Accuracy'], \n",
    "                                 random_state= state, \n",
    "                                 verbose= 0)"
   ]
  },
  {
   "cell_type": "code",
   "execution_count": 134,
   "metadata": {},
   "outputs": [
    {
     "name": "stdout",
     "output_type": "stream",
     "text": [
      "Wall time: 12.8 s\n"
     ]
    },
    {
     "data": {
      "text/plain": [
       "<catboost.core.CatBoostClassifier at 0x134a396c088>"
      ]
     },
     "execution_count": 134,
     "metadata": {},
     "output_type": "execute_result"
    }
   ],
   "source": [
    "%%time\n",
    "catboost_best_model.fit(features_train, target_train, cat_features = object_columns)"
   ]
  },
  {
   "cell_type": "code",
   "execution_count": 135,
   "metadata": {},
   "outputs": [],
   "source": [
    "catboost_predicted_test = catboost_best_model.predict(features_test)\n",
    "catboost_predicted_test = pd.Series(catboost_predicted_test).replace(to_replace = ['True','False'],value = [True,False])\n",
    "catboost_predict_proba_test = catboost_best_model.predict_proba(features_test)\n",
    "catboost_predict_proba_one_test = catboost_predict_proba_test[:, 1]"
   ]
  },
  {
   "cell_type": "code",
   "execution_count": 136,
   "metadata": {},
   "outputs": [],
   "source": [
    "catboost_roc_auc_test = roc_auc_score(target_test, catboost_predict_proba_one_test)\n",
    "catboost_acc_test = accuracy_score(target_test, catboost_predicted_test)"
   ]
  },
  {
   "cell_type": "code",
   "execution_count": 137,
   "metadata": {},
   "outputs": [
    {
     "name": "stdout",
     "output_type": "stream",
     "text": [
      "ROC-AUC: 0.845444578427161\n",
      "Accuracy: 0.7986348122866894\n"
     ]
    }
   ],
   "source": [
    "print('ROC-AUC:',catboost_roc_auc_test)\n",
    "print('Accuracy:',catboost_acc_test)"
   ]
  },
  {
   "cell_type": "markdown",
   "metadata": {},
   "source": [
    "Мы получили значение ключевой метрики ROC-AUC на тестовой выборке выше необходимого порога. Значение метрики accuracy так же выведено.  \n",
    "Задание выполнено."
   ]
  },
  {
   "cell_type": "code",
   "execution_count": 138,
   "metadata": {},
   "outputs": [
    {
     "name": "stdout",
     "output_type": "stream",
     "text": [
      "Wall time: 44.9 ms\n"
     ]
    }
   ],
   "source": [
    "%%time\n",
    "feature_importance_test = catboost_best_model.get_feature_importance(data=Pool(features_test, label=target_test, cat_features=object_columns),\n",
    "                                                        type = 'FeatureImportance',\n",
    "                                                        prettified=True,\n",
    "                                                        thread_count=-1,\n",
    "                                                        verbose=False)\n"
   ]
  },
  {
   "cell_type": "code",
   "execution_count": 139,
   "metadata": {},
   "outputs": [],
   "source": [
    "def importance_bars(feature_importance_test):\n",
    "    feature_importance_test = feature_importance_test.sort_values(by = 'Importances')\n",
    "    labels = feature_importance_test['Feature Id']\n",
    "    value = feature_importance_test['Importances'].values\n",
    "    position = np.arange(len(feature_importance_test))\n",
    "    fig, ax = plt.subplots()\n",
    "    ax.barh(position, value, alpha = 0.7, color = 'slateblue', edgecolor = 'darkblue')\n",
    "    ax.set_yticks(position)\n",
    "    ax.set_yticklabels(labels,\n",
    "                   fontsize = 15)\n",
    "    ax.grid()\n",
    "    plt.title('Feature importance (per cent)',fontsize = 20)\n",
    "    fig.set_figwidth(10)\n",
    "    fig.set_figheight(6)\n",
    "    plt.show()"
   ]
  },
  {
   "cell_type": "markdown",
   "metadata": {},
   "source": [
    "## Отчет"
   ]
  },
  {
   "cell_type": "markdown",
   "metadata": {},
   "source": [
    "Перед началом разработки модели на основе предварительного исследования данных с руководителем группы был согласован следующий план:"
   ]
  },
  {
   "cell_type": "markdown",
   "metadata": {},
   "source": [
    "1) Обработать данные.\n",
    "    - В датафрейме contract необходимо заменить типы данных в столбцах BeginDate, TotalCharges; \n",
    "    - EndDate стоит обработать, возможно, имеет смысл создать столбец с булевыми значениями, а в самом столбце EndDate заменить значения No на первое февраля 2020;\n",
    "    - В столбце TotalCharges есть пропуски, замаскированные под пробелы и потому не определяющиеся методом info(); возможно, пропуски есть и в других столбцах и датафреймах;\n",
    "    - Для удобства стоит поменять регистр в названиях стобцов;\n",
    "    - Следует объединить таблицы по признаку customerID.\n",
    "2) Исследовать данные.\n",
    "    - В распределении MonthlyChanges есть увеличенное количество клиентов с ежемесячными выплатами до 21, они занимают большой процент от выборки. Изучить подробнее на возможность ошибки/аномалии.\n",
    "    - Изучить возможность зависимости между разными услугами, способами оплаты и типом договора и ежемесячным платежом и фактом ухода; Возможно, стоит отбросить часть маловлияющих на вероятность ухода признаков ради скорости обучения модели; \n",
    "3) Обучить модель.\n",
    "    - Задача классификации, поэтому стоит привести целевой признак в соответствующую форму;\n",
    "    - Порядок объектов не играет роли, поэтому, возможно, имеет смысл прибегнуть к кросс-валидации;\n",
    "    - Возможно, имеет смысл рассчитать для пользователей длительность контракта и использовать его как признак (aka жизненный цикл потребителя)\n",
    "    - Попробовать логистическую регрессию, случайный лес и градиентный бустинг; перебрать гиперпараметры;\n",
    "4) Протестировать модель.\n",
    "    - Выделить тестовую часть выборки и проверить на ней;\n",
    "    - Ключевая метрика - roc-auc.\n",
    "    "
   ]
  },
  {
   "cell_type": "markdown",
   "metadata": {},
   "source": [
    "Все пункты плана были выполнены. Более подробное описание результата работы над каждым пунктом плана:"
   ]
  },
  {
   "cell_type": "markdown",
   "metadata": {},
   "source": [
    "1) Обработать данные.\n",
    "    - В датафрейме contract необходимо заменить типы данных в столбцах BeginDate, TotalCharges;  \n",
    "**Типы данных в BeginDate, EndDate и TotalCharges заменены на подходящие datetime, datetime и int соответственно. Так же после объединения датафреймов в один типы данных всех бинарных категориальных признаков были приведены к булевому типу.**  \n",
    "    - EndDate стоит обработать, возможно, имеет смысл создать столбец с булевыми значениями, а в самом столбце EndDate заменить значения No на первое февраля 2020;  \n",
    "**На основе факта отсутсвия/наличия даты завершения контракта в столбце EndDate был создан бинарный категориальный признак has_quitted с типом данных bool, который впоследствии использовался как целевой, а кроме того служил для исследовательского анализа (деление объектов на ушедших и оставшихся клиентов).**  \n",
    "**После этого значения 'No' в столбце EndDate были заменены на дату 2020-02-01, а столбец приведен в datetime, что позволило рассчитать количество месяцов от начала контракта до конца контракта для ушедших и до даты выгрузки для оставшихся клиентов и создать количественный признак months_of_contract, отражающий информацию о жизненном цикле потребителя. Впоследствии признак продемонстрировал себя нужным и важным для обучения модели (см. график 'feature importance' ниже).**  \n",
    "    - В столбце TotalCharges есть пропуски, замаскированные под пробелы и потому не определяющиеся методом info(); возможно, пропуски есть и в других столбцах и датафреймах;  \n",
    "**Изначально планировалось заполнить пропуски в TotalCharges, рассчитав сумму платежей умножением ежемесячных платежей на количество месяцев действия контракта months_of_contract. Однако в ходе этого выяснилось, что все данные с пропущенным значением описывают клиентов, попавших в базу в день выгрузки. Произведенные ими платежи равнялись нулю - видимо, оплата за месяц производится не в первый день, или же информация о платеже еще не была внесена в базу - поэтому несмотря на указанный monthlycharges, их totalcharges были пропущены, и пропуски были оформлены пробелами.**\n",
    "**Большая часть информации по объектам наличествовала, однако информация по их жизненному цкиклу как потребителей была не валидна, поскольку они еще не успели побывать в статусе потребителей компании, и использование их в анализе могло, хоть и незначительно, но отрицательно сказаться на качестве модели. Впрочем, главным агрументом удаления их из базы является тот факт, что их всего 11, поэтому их можно было без какого-либо риска удалить из выборки.**\n",
    "    - Для удобства стоит поменять регистр в названиях стобцов;\n",
    "**Изменение регистра было сделано после объединения всех датафреймов в один, чтобы накрыть все цели (все столбцы) разом.**\n",
    "    - Следует объединить таблицы по признаку customerID.\n",
    "**Таблицы были объединены в один датафрейм, который затем использовался для обучения модели, чтобы все признаки из всех таблиц были отданы модели, но это не все. Перед объединением были созданы бинарные категориальные признаки internet и phone, отражающие, подключил ли пользователь интернет или нет. В случае с интернетом этот признак был впоследствии удален, поскольку при объединении таблиц в столбце internetservice помимо наличествующих там категорий появились пропуски, которые были превращены в категорию 'No', и вместе эти категории передавали информацию, был ли у пользователя контракт на интернет, или нет. В случае с телефонией по единственному признаку multiplelines сказать о наличии соглашения о телефоне нельзя, поскольку были и пользователи, которые подключили телефонию, но не пользуются многоканальной связью, поэтому признак phone был оставлен.**  \n",
    "\n",
    "2) Исследовать данные.\n",
    "    - В распределении MonthlyChanges есть увеличенное количество клиентов с ежемесячными выплатами до 21, они занимают большой процент от выборки. Изучить подробнее на возможность ошибки/аномалии.\n",
    "**Было принято решение не удалять данные, поскольку, во-первых, какого-то четкого основания для этого нет, во-вторых, жертововать сравнительно большой частью выборки было нежелательно.**  \n",
    "    - Изучить возможность зависимости между разными услугами, способами оплаты и типом договора и ежемесячным платежом и фактом ухода; Возможно, стоит отбросить часть маловлияющих на вероятность ухода признаков ради скорости обучения модели;  \n",
    "**Скорость обучения модели оказалась не настолько малой, чтобы возникла необходимость отбрасывать какие-то признаки, хотя модель выявила, что для ее обучения большая часть признаков оказалась не важной. Однако признаки EndDate и BeginDate были исключены из-за возможности утечки целевого признака.**\n",
    "**Тип договора оказался важнейшим фактором, влияющим на вероятность ухода (см. график 'feature importance' ниже). Способ оплаты оказал не такой вклад в обучение модели, но все же входит в пятерку важнейших факторов. Так же в ходе исследовательского анализа было высказано предположение о влиянии факторов, сязанных с интернет-услугами, на уход (точнее, на вероятность остаться), поскольку доля не пользующихся интернетом клиентов среди ушедших была высока. Модель выявила влияние этого фактора - internetservices, в котором помимо указания способа подключения стала содержаться и информация, пользовался ли клиент интернетом, или нет, является вторым по важности фактором.**  \n",
    "\n",
    "3) Обучить модель.\n",
    "    - Задача классификации, поэтому стоит привести целевой признак в соответствующую форму;  \n",
    "**Целевым признаком стал признак has_quitted.**  \n",
    "    - Порядок объектов не играет роли, поэтому, возможно, имеет смысл прибегнуть к кросс-валидации;  \n",
    "**Кросс-валидация была применена в обучении всех моделей.**  \n",
    "    - Возможно, имеет смысл рассчитать для пользователей длительность контракта и использовать его как признак (aka жизненный цикл потребителя)  \n",
    "**Длительность контракта в месяцах была рассчитана и оказалась третьим по важности фактором.**\n",
    "    - Попробовать логистическую регрессию, случайный лес и градиентный бустинг; перебрать гиперпараметры;\n",
    "**Логистическая регрессия и случайный лес были обучены и опробованы, градиентный бустинг был опробован на алгоритмах CatBoost и LightGBM; перебор гиперпараметров для леса и градиентного бустинга был осуществлен.**  \n",
    "4) Протестировать модель.\n",
    "    - Выделить тестовую часть выборки и проверить на ней;  \n",
    "**Результат предсказания модели на тестовой выборке - ниже.**  \n",
    "    - Ключевая метрика - roc-auc.\n",
    "**Также по распоряжению руководителя была определена метрика accuracy.**\n",
    "    "
   ]
  },
  {
   "cell_type": "code",
   "execution_count": 140,
   "metadata": {},
   "outputs": [
    {
     "data": {
      "image/png": "[encoded data removed]",
      "text/plain": [
       "<Figure size 720x432 with 1 Axes>"
      ]
     },
     "metadata": {
      "needs_background": "light"
     },
     "output_type": "display_data"
    }
   ],
   "source": [
    "importance_bars(feature_importance_test)"
   ]
  },
  {
   "cell_type": "markdown",
   "metadata": {},
   "source": [
    "В ходе работы возникли трудности.  \n",
    "\n",
    "Первоначально во время предобработки данных были выявлены пропуски в TotalCharges. Как было отмечено выше, были основания считать объекты с пропусками невалидными по одному важному признаку (жизненный цикл) и малочисленными, они были удалены.  \n",
    "\n",
    "Возник теоретический вопрос о корректности использования данных об объектах, заключивших контракт незадолго до даты выгрузки и еще не разорвавших его. Было предположение, что их включение в датасет мог привести к увеличению ложно-положительных предсказаний, поскольку клиенты могут уйти вскоре после даты выгрузки, но модель сочтет их лояльными, поскольку они еще не успели уйти, и сделает неправильные заключения о жизненном цикле клиента. Однако, во-первых, их исключение приводило к слишком большой потере выборки (если бы мы исключили не ушедших клиентов со сроком контракта меньшим или равным медианному сроку разорванных контрактов, мы бы потеряли около 15% общей выборки), а во-вторых, их исключение с тем же успехом могло бы сповоцировать увеличение ложно-отрицательных предсказаний в будущем, поскольку модель бы определяла как оставшихся __только__ клиентов с большим количеством месяцев контракта. "
   ]
  },
  {
   "cell_type": "markdown",
   "metadata": {},
   "source": [
    "Ключевым шагом решения задачи стало использование begindate и enddate для создания признака month_of_contract, а так же создание признаков has_quitted и phone. Has_quitted послужил целевым признаком, а остальные вошли в число факторов, внесших вклад в обучение модели, а month_of_contact оказалась в лидирующей с большим отрывом тройке самых важных факторов.  \n",
    "Кроме того ключевым, хотя и довольно очевидным, решением можно назвать перевод большего числа категориальных признаков в булев формат, что заметно должно было ускорить обучение моделей.\n",
    "Также ключевым решением в решении было использования кросс-валидации как принципа и CatBoost как средства создания модели. \n",
    "\n",
    "Классификатор CatBoost продемонстрировал отличное качество модели, кроме того, с библиотекой CatBoost оказалось сравнительно удобно работать, хотя время обучения с учетом перебора параметров было выше, чем у других алгоритмов. Тем не менее, ограничения по времени работы модели не было, поэтому модель отбиралась по показателю метрики roc-auc.  "
   ]
  },
  {
   "cell_type": "code",
   "execution_count": 141,
   "metadata": {},
   "outputs": [
    {
     "data": {
      "image/png": "[encoded data removed]",
      "text/plain": [
       "<Figure size 432x288 with 1 Axes>"
      ]
     },
     "metadata": {
      "needs_background": "light"
     },
     "output_type": "display_data"
    }
   ],
   "source": [
    "fpr, tpr, thresholds = roc_curve(target_test, catboost_predict_proba_one_test)\n",
    "\n",
    "plt.figure()\n",
    "plt.plot(fpr, tpr)\n",
    "plt.plot([0, 1], [0, 1], linestyle='--')\n",
    "plt.xlim([0.0, 1.0])\n",
    "plt.ylim([0.0, 1.0])\n",
    "plt.xlabel('False Positive Rate')\n",
    "plt.ylabel('True Positive Rate')\n",
    "plt.title('ROC-кривая')\n",
    "plt.show()"
   ]
  },
  {
   "cell_type": "code",
   "execution_count": 142,
   "metadata": {},
   "outputs": [
    {
     "name": "stdout",
     "output_type": "stream",
     "text": [
      "Качество модели:\n",
      "значение ROC-AUC:  0.85\n",
      "значение Accuracy:  0.80\n"
     ]
    }
   ],
   "source": [
    "print('Качество модели:')\n",
    "print('значение ROC-AUC:','{: 0.2f}'.format(catboost_roc_auc_test))\n",
    "print('значение Accuracy:','{: 0.2f}'.format(catboost_acc_test))"
   ]
  },
  {
   "cell_type": "markdown",
   "metadata": {},
   "source": [
    "Мы получили значение ключевой метрики ROC-AUC на тестовой выборке выше необходимого порога. Значение метрики accuracy так же выведено.  \n",
    "Задание выполнено."
   ]
  }
 ],
 "metadata": {
  "kernelspec": {
   "display_name": "Python 3",
   "language": "python",
   "name": "python3"
  },
  "language_info": {
   "codemirror_mode": {
    "name": "ipython",
    "version": 3
   },
   "file_extension": ".py",
   "mimetype": "text/x-python",
   "name": "python",
   "nbconvert_exporter": "python",
   "pygments_lexer": "ipython3",
   "version": "3.7.6"
  }
 },
 "nbformat": 4,
 "nbformat_minor": 2
}
