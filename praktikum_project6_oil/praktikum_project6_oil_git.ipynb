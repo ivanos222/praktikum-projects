{
 "cells": [
  {
   "cell_type": "markdown",
   "metadata": {},
   "source": [
    "# Описание проекта"
   ]
  },
  {
   "cell_type": "markdown",
   "metadata": {},
   "source": [
    "Даны пробы нефти в трёх регионах, где измерили качество нефти и объём её запасов. Необходимо построить модель машинного обучения, которая поможет определить регион, где добыча принесёт наибольшую прибыль, оценить возможную прибыль и риски. \n",
    "\n",
    "Шаги для выбора локации:\n",
    "\n",
    "- В избранном регионе ищут месторождения, для каждого определяют значения признаков;\n",
    "- Строят модель и оценивают объём запасов;\n",
    "- Выбирают месторождения с самым высокими оценками значений. Количество месторождений зависит от бюджета компании и стоимости разработки одной скважины;\n",
    "- Прибыль равна суммарной прибыли отобранных месторождений."
   ]
  },
  {
   "cell_type": "markdown",
   "metadata": {},
   "source": [
    "# 1. Загрузка и подготовка данных"
   ]
  },
  {
   "cell_type": "markdown",
   "metadata": {},
   "source": [
    "Загрузим библиотеки, которые могут нам понадобиться для выполнения проекта."
   ]
  },
  {
   "cell_type": "code",
   "execution_count": 1,
   "metadata": {},
   "outputs": [],
   "source": [
    "import sklearn\n",
    "import joblib\n",
    "import pandas as pd\n",
    "from sklearn.linear_model import LinearRegression\n",
    "from sklearn.model_selection import train_test_split\n",
    "from sklearn.model_selection import GridSearchCV\n",
    "from sklearn.metrics import mean_squared_error\n",
    "from sklearn.metrics import mean_absolute_error\n",
    "from sklearn.metrics import accuracy_score\n",
    "from sklearn.metrics import mean_squared_error\n",
    "\n",
    "\n",
    "from sklearn.preprocessing import OrdinalEncoder\n",
    "from sklearn.preprocessing import StandardScaler\n",
    "from sklearn.utils import shuffle\n",
    "import numpy as np\n",
    "from scipy import stats as st\n",
    "from scipy.stats import norm\n",
    "import matplotlib.pyplot as plt\n",
    "import seaborn as sns\n",
    "\n",
    "import math"
   ]
  },
  {
   "cell_type": "markdown",
   "metadata": {},
   "source": [
    "Сохраним число, которое послужит зерном для случайного состояния моделей. Также сохраним в переменной state случайное состояние для осуществления бутстрепа."
   ]
  },
  {
   "cell_type": "code",
   "execution_count": 2,
   "metadata": {},
   "outputs": [],
   "source": [
    "random = 12345\n",
    "state = np.random.RandomState(random)"
   ]
  },
  {
   "cell_type": "markdown",
   "metadata": {},
   "source": [
    "Загрузим данные. В коде мы будем помечать соответствующие массивы данных, срезы и показатели номером, соответствующим номеру в названии файла данных региона, но чтобы не возникло путаницы с числовым обозначением региона, сами регионы мы будем называть регионы А, В и С (номера файлов 0, 1 и 2 соответственно). "
   ]
  },
  {
   "cell_type": "code",
   "execution_count": 3,
   "metadata": {},
   "outputs": [],
   "source": [
    "df_raw0 = pd.read_csv('...')\n",
    "df_raw1 = pd.read_csv('...')\n",
    "df_raw2 = pd.read_csv('...')"
   ]
  },
  {
   "cell_type": "code",
   "execution_count": 4,
   "metadata": {},
   "outputs": [
    {
     "name": "stdout",
     "output_type": "stream",
     "text": [
      "<class 'pandas.core.frame.DataFrame'>\n",
      "RangeIndex: 100000 entries, 0 to 99999\n",
      "Data columns (total 5 columns):\n",
      " #   Column   Non-Null Count   Dtype  \n",
      "---  ------   --------------   -----  \n",
      " 0   id       100000 non-null  object \n",
      " 1   f0       100000 non-null  float64\n",
      " 2   f1       100000 non-null  float64\n",
      " 3   f2       100000 non-null  float64\n",
      " 4   product  100000 non-null  float64\n",
      "dtypes: float64(4), object(1)\n",
      "memory usage: 3.8+ MB\n"
     ]
    }
   ],
   "source": [
    "df_raw0.info()"
   ]
  },
  {
   "cell_type": "markdown",
   "metadata": {},
   "source": [
    "Данные по региону А загружены, пропусков в них нет, типы данных подходящие в каждом столбце."
   ]
  },
  {
   "cell_type": "code",
   "execution_count": 5,
   "metadata": {},
   "outputs": [
    {
     "name": "stdout",
     "output_type": "stream",
     "text": [
      "<class 'pandas.core.frame.DataFrame'>\n",
      "RangeIndex: 100000 entries, 0 to 99999\n",
      "Data columns (total 5 columns):\n",
      " #   Column   Non-Null Count   Dtype  \n",
      "---  ------   --------------   -----  \n",
      " 0   id       100000 non-null  object \n",
      " 1   f0       100000 non-null  float64\n",
      " 2   f1       100000 non-null  float64\n",
      " 3   f2       100000 non-null  float64\n",
      " 4   product  100000 non-null  float64\n",
      "dtypes: float64(4), object(1)\n",
      "memory usage: 3.8+ MB\n"
     ]
    }
   ],
   "source": [
    "df_raw1.info()"
   ]
  },
  {
   "cell_type": "markdown",
   "metadata": {},
   "source": [
    "Данные по региону В загружены, пропусков в них нет, типы данных подходят значениям в каждом столбце."
   ]
  },
  {
   "cell_type": "code",
   "execution_count": 6,
   "metadata": {},
   "outputs": [
    {
     "name": "stdout",
     "output_type": "stream",
     "text": [
      "<class 'pandas.core.frame.DataFrame'>\n",
      "RangeIndex: 100000 entries, 0 to 99999\n",
      "Data columns (total 5 columns):\n",
      " #   Column   Non-Null Count   Dtype  \n",
      "---  ------   --------------   -----  \n",
      " 0   id       100000 non-null  object \n",
      " 1   f0       100000 non-null  float64\n",
      " 2   f1       100000 non-null  float64\n",
      " 3   f2       100000 non-null  float64\n",
      " 4   product  100000 non-null  float64\n",
      "dtypes: float64(4), object(1)\n",
      "memory usage: 3.8+ MB\n"
     ]
    }
   ],
   "source": [
    "df_raw2.info()"
   ]
  },
  {
   "cell_type": "markdown",
   "metadata": {},
   "source": [
    "Данные по региону С загружены, пропусков в них нет, типы данных подходят значениям в каждом столбце."
   ]
  },
  {
   "cell_type": "markdown",
   "metadata": {},
   "source": [
    "Из того, что мы можем хотя бы частично проверить - адекватность данных в столбце object. Он содержит информацию о количестве нефти в месторождении. Посмотрим, нет ли среди них значений ниже ноля (сам ноль не является недопустимым значением, отсутствие ресурса в месторождении теоретически возможно, отрицательное его значения - нет). "
   ]
  },
  {
   "cell_type": "code",
   "execution_count": 7,
   "metadata": {},
   "outputs": [
    {
     "data": {
      "text/plain": [
       "0"
      ]
     },
     "execution_count": 7,
     "metadata": {},
     "output_type": "execute_result"
    }
   ],
   "source": [
    "len(df_raw0.query('product < 0'))"
   ]
  },
  {
   "cell_type": "code",
   "execution_count": 8,
   "metadata": {},
   "outputs": [
    {
     "data": {
      "text/plain": [
       "0"
      ]
     },
     "execution_count": 8,
     "metadata": {},
     "output_type": "execute_result"
    }
   ],
   "source": [
    "len(df_raw1.query('product < 0'))"
   ]
  },
  {
   "cell_type": "code",
   "execution_count": 9,
   "metadata": {},
   "outputs": [
    {
     "data": {
      "text/plain": [
       "0"
      ]
     },
     "execution_count": 9,
     "metadata": {},
     "output_type": "execute_result"
    }
   ],
   "source": [
    "len(df_raw2.query('product < 0'))"
   ]
  },
  {
   "cell_type": "markdown",
   "metadata": {},
   "source": [
    "Невозможных значений признака product не обнаружено."
   ]
  },
  {
   "cell_type": "markdown",
   "metadata": {},
   "source": [
    "Поскольку о пропусках и типах данных беспокоиться не стоит, а подробная проверка адекватности значений в столбцах f1, f2 и f3 невозможно из-за отсутствия информации о них со стороны заказчика, остается только проверить наличие дубликатов.  \n",
    "Главное для нас - полные дубликаты строк. На всякий случай проверим также наличие дубликатов по наименованию объектов. Делаем это для лучшего понимания данных, удалять такие дубликаты не будем, поскольку, во-первых, могут существовать причины, известные заказчику, по которым у одного месторождения могут быть разные сочетания запаса нефти и факторов (например, оценка происходила на одном месторождении в разное время), во-вторых, это может быть ошибка внесения результата в базу данных (например, опечатка), которая для нашего дела не играет роли: мы все равно будем оценивать объект по сочетанию факторов, а столбец с id перед обученим модели мы удалим. "
   ]
  },
  {
   "cell_type": "code",
   "execution_count": 12,
   "metadata": {},
   "outputs": [
    {
     "data": {
      "text/plain": [
       "0"
      ]
     },
     "execution_count": 12,
     "metadata": {},
     "output_type": "execute_result"
    }
   ],
   "source": [
    "df_raw0.duplicated().sum()"
   ]
  },
  {
   "cell_type": "code",
   "execution_count": 13,
   "metadata": {},
   "outputs": [
    {
     "data": {
      "text/plain": [
       "10"
      ]
     },
     "execution_count": 13,
     "metadata": {},
     "output_type": "execute_result"
    }
   ],
   "source": [
    "df_raw0['id'].duplicated().sum()"
   ]
  },
  {
   "cell_type": "code",
   "execution_count": 14,
   "metadata": {},
   "outputs": [
    {
     "data": {
      "text/plain": [
       "0"
      ]
     },
     "execution_count": 14,
     "metadata": {},
     "output_type": "execute_result"
    }
   ],
   "source": [
    "df_raw1.duplicated().sum()"
   ]
  },
  {
   "cell_type": "code",
   "execution_count": 15,
   "metadata": {},
   "outputs": [
    {
     "data": {
      "text/plain": [
       "4"
      ]
     },
     "execution_count": 15,
     "metadata": {},
     "output_type": "execute_result"
    }
   ],
   "source": [
    "df_raw1['id'].duplicated().sum()"
   ]
  },
  {
   "cell_type": "code",
   "execution_count": 16,
   "metadata": {},
   "outputs": [
    {
     "data": {
      "text/plain": [
       "0"
      ]
     },
     "execution_count": 16,
     "metadata": {},
     "output_type": "execute_result"
    }
   ],
   "source": [
    "df_raw2.duplicated().sum()"
   ]
  },
  {
   "cell_type": "code",
   "execution_count": 17,
   "metadata": {},
   "outputs": [
    {
     "data": {
      "text/html": [
       "<div>\n",
       "<style scoped>\n",
       "    .dataframe tbody tr th:only-of-type {\n",
       "        vertical-align: middle;\n",
       "    }\n",
       "\n",
       "    .dataframe tbody tr th {\n",
       "        vertical-align: top;\n",
       "    }\n",
       "\n",
       "    .dataframe thead th {\n",
       "        text-align: right;\n",
       "    }\n",
       "</style>\n",
       "<table border=\"1\" class=\"dataframe\">\n",
       "  <thead>\n",
       "    <tr style=\"text-align: right;\">\n",
       "      <th></th>\n",
       "      <th>f0</th>\n",
       "      <th>f1</th>\n",
       "      <th>f2</th>\n",
       "      <th>product</th>\n",
       "    </tr>\n",
       "  </thead>\n",
       "  <tbody>\n",
       "    <tr>\n",
       "      <td>count</td>\n",
       "      <td>100000.000000</td>\n",
       "      <td>100000.000000</td>\n",
       "      <td>100000.000000</td>\n",
       "      <td>100000.000000</td>\n",
       "    </tr>\n",
       "    <tr>\n",
       "      <td>mean</td>\n",
       "      <td>0.002023</td>\n",
       "      <td>-0.002081</td>\n",
       "      <td>2.495128</td>\n",
       "      <td>95.000000</td>\n",
       "    </tr>\n",
       "    <tr>\n",
       "      <td>std</td>\n",
       "      <td>1.732045</td>\n",
       "      <td>1.730417</td>\n",
       "      <td>3.473445</td>\n",
       "      <td>44.749921</td>\n",
       "    </tr>\n",
       "    <tr>\n",
       "      <td>min</td>\n",
       "      <td>-8.760004</td>\n",
       "      <td>-7.084020</td>\n",
       "      <td>-11.970335</td>\n",
       "      <td>0.000000</td>\n",
       "    </tr>\n",
       "    <tr>\n",
       "      <td>25%</td>\n",
       "      <td>-1.162288</td>\n",
       "      <td>-1.174820</td>\n",
       "      <td>0.130359</td>\n",
       "      <td>59.450441</td>\n",
       "    </tr>\n",
       "    <tr>\n",
       "      <td>50%</td>\n",
       "      <td>0.009424</td>\n",
       "      <td>-0.009482</td>\n",
       "      <td>2.484236</td>\n",
       "      <td>94.925613</td>\n",
       "    </tr>\n",
       "    <tr>\n",
       "      <td>75%</td>\n",
       "      <td>1.158535</td>\n",
       "      <td>1.163678</td>\n",
       "      <td>4.858794</td>\n",
       "      <td>130.595027</td>\n",
       "    </tr>\n",
       "    <tr>\n",
       "      <td>max</td>\n",
       "      <td>7.238262</td>\n",
       "      <td>7.844801</td>\n",
       "      <td>16.739402</td>\n",
       "      <td>190.029838</td>\n",
       "    </tr>\n",
       "  </tbody>\n",
       "</table>\n",
       "</div>"
      ],
      "text/plain": [
       "                  f0             f1             f2        product\n",
       "count  100000.000000  100000.000000  100000.000000  100000.000000\n",
       "mean        0.002023      -0.002081       2.495128      95.000000\n",
       "std         1.732045       1.730417       3.473445      44.749921\n",
       "min        -8.760004      -7.084020     -11.970335       0.000000\n",
       "25%        -1.162288      -1.174820       0.130359      59.450441\n",
       "50%         0.009424      -0.009482       2.484236      94.925613\n",
       "75%         1.158535       1.163678       4.858794     130.595027\n",
       "max         7.238262       7.844801      16.739402     190.029838"
      ]
     },
     "execution_count": 17,
     "metadata": {},
     "output_type": "execute_result"
    }
   ],
   "source": [
    "df_raw2.describe()"
   ]
  },
  {
   "cell_type": "code",
   "execution_count": 18,
   "metadata": {},
   "outputs": [
    {
     "data": {
      "text/plain": [
       "4"
      ]
     },
     "execution_count": 18,
     "metadata": {},
     "output_type": "execute_result"
    }
   ],
   "source": [
    "df_raw2['id'].duplicated().sum()"
   ]
  },
  {
   "cell_type": "markdown",
   "metadata": {},
   "source": [
    "Ни одного критически важного для нас полного дубликата строк не выявлено, а вот дубликаты названий есть каждом регионе. Будем просто иметь это в виду на случай возниковения проблем."
   ]
  },
  {
   "cell_type": "markdown",
   "metadata": {},
   "source": [
    "### Вывод"
   ]
  },
  {
   "cell_type": "markdown",
   "metadata": {},
   "source": [
    "Данные загружены и проверены. Критических для нашей работы проблем с ними нет, можно приступать к обучению моделей."
   ]
  },
  {
   "cell_type": "markdown",
   "metadata": {},
   "source": [
    "# 2. Обучение и проверка модели"
   ]
  },
  {
   "cell_type": "markdown",
   "metadata": {},
   "source": [
    "## Регион А"
   ]
  },
  {
   "cell_type": "markdown",
   "metadata": {},
   "source": [
    "Данный этап работы предполагает обучение моделей для каждого региона с использованием информации обо всех имеющихся в регионах месторождениях. Начнем с региона А. Разобьем данные на обучающую и валидационную выборки, произведем масштабирование данных, обучим модель на 75% данных по месторождениям и проверим на 25%."
   ]
  },
  {
   "cell_type": "code",
   "execution_count": 19,
   "metadata": {},
   "outputs": [
    {
     "name": "stdout",
     "output_type": "stream",
     "text": [
      "Регион А\n",
      "\n",
      "RMSE: 37.5794217150813\n",
      "MAE: 30.919600777151313\n",
      "R^2: 0.27994321524487786\n",
      "Предполагаемый средний запас сырья: 92.59256778438038\n",
      "Реальный средний запас сырья: 92.07859674082927\n"
     ]
    },
    {
     "name": "stderr",
     "output_type": "stream",
     "text": [
      "/opt/conda/lib/python3.7/site-packages/pandas/core/indexing.py:205: SettingWithCopyWarning: \n",
      "A value is trying to be set on a copy of a slice from a DataFrame\n",
      "\n",
      "See the caveats in the documentation: http://pandas.pydata.org/pandas-docs/stable/user_guide/indexing.html#returning-a-view-versus-a-copy\n",
      "  self._setitem_with_indexer(indexer, value)\n",
      "/opt/conda/lib/python3.7/site-packages/ipykernel_launcher.py:14: SettingWithCopyWarning: \n",
      "A value is trying to be set on a copy of a slice from a DataFrame\n",
      "\n",
      "See the caveats in the documentation: http://pandas.pydata.org/pandas-docs/stable/user_guide/indexing.html#returning-a-view-versus-a-copy\n",
      "  \n",
      "/opt/conda/lib/python3.7/site-packages/pandas/core/indexing.py:205: SettingWithCopyWarning: \n",
      "A value is trying to be set on a copy of a slice from a DataFrame\n",
      "\n",
      "See the caveats in the documentation: http://pandas.pydata.org/pandas-docs/stable/user_guide/indexing.html#returning-a-view-versus-a-copy\n",
      "  self._setitem_with_indexer(indexer, value)\n",
      "/opt/conda/lib/python3.7/site-packages/ipykernel_launcher.py:15: SettingWithCopyWarning: \n",
      "A value is trying to be set on a copy of a slice from a DataFrame\n",
      "\n",
      "See the caveats in the documentation: http://pandas.pydata.org/pandas-docs/stable/user_guide/indexing.html#returning-a-view-versus-a-copy\n",
      "  from ipykernel import kernelapp as app\n"
     ]
    }
   ],
   "source": [
    "#разделение на признаки и цели\n",
    "features0 = df_raw0.drop(['id', 'product'], axis = 1)\n",
    "target0 = df_raw0['product']\n",
    "\n",
    "#разбиение на обучающую и валидационную выборки\n",
    "features_train0, features_valid0, target_train0, target_valid0 = train_test_split(\n",
    "    features0, target0, \n",
    "    test_size = 0.25, random_state = random)\n",
    "\n",
    "#масштабирование\n",
    "numeric = ['f0', 'f1', 'f2']\n",
    "scaler0 = StandardScaler()\n",
    "scaler0.fit(features_train0[numeric])\n",
    "features_train0.loc[:, numeric] = scaler0.transform(features_train0.loc[:,numeric])\n",
    "features_valid0.loc[:, numeric] = scaler0.transform(features_valid0.loc[:,numeric])\n",
    "\n",
    "\n",
    "model_0 = LinearRegression()\n",
    "model_0.fit(features_train0, target_train0)\n",
    "predicted_valid0 = model_0.predict(features_valid0)\n",
    "mse0 = mean_squared_error(target_valid0, predicted_valid0)\n",
    "rmse0 = mse0 ** 0.5\n",
    "mae0 = mean_absolute_error(target_valid0, predicted_valid0)\n",
    "est_mean_q0 = predicted_valid0.mean()\n",
    "r2_0 = model_0.score(features_valid0, target_valid0) \n",
    "true_mean_q0 = target_valid0.mean()\n",
    "\n",
    "print('Регион А')\n",
    "print('')\n",
    "print('RMSE:', rmse0)\n",
    "print('MAE:', mae0)\n",
    "print('R^2:', r2_0)\n",
    "print('Предполагаемый средний запас сырья:', est_mean_q0)\n",
    "print('Реальный средний запас сырья:', true_mean_q0)"
   ]
  },
  {
   "cell_type": "markdown",
   "metadata": {},
   "source": [
    "Проверим результат на адекватность: посчитаем среднее обучающей выборки и корень средней квадратической ошибки и сравним показатели. Посмотрим, насколько наша модель лучше способа, при котором мы бы оценивали целевой признак валидационной выборки, просто подставляя среднее, рассчитанное на основе имеющейся у нас обучающей выборки."
   ]
  },
  {
   "cell_type": "code",
   "execution_count": 20,
   "metadata": {},
   "outputs": [
    {
     "data": {
      "text/plain": [
       "92.64046775305694"
      ]
     },
     "execution_count": 20,
     "metadata": {},
     "output_type": "execute_result"
    }
   ],
   "source": [
    "true_mean0 = target_train0.mean()\n",
    "true_mean0"
   ]
  },
  {
   "cell_type": "code",
   "execution_count": 21,
   "metadata": {},
   "outputs": [
    {
     "data": {
      "text/plain": [
       "44.289591053907365"
      ]
     },
     "execution_count": 21,
     "metadata": {},
     "output_type": "execute_result"
    }
   ],
   "source": [
    "relevance_predictions0 = pd.Series(true_mean0, index = target_valid0.index)\n",
    "relevance_rmse0 = mean_squared_error(target_valid0, relevance_predictions0) ** 0.5\n",
    "relevance_rmse0"
   ]
  },
  {
   "cell_type": "markdown",
   "metadata": {},
   "source": [
    "RMSE модели ниже RMSE по среднему, но ненамного. К сожалению, хоть модель и предсказывает запас сырья лучше, чем простое приравнивание прогноза к среднему, но несильно. О не самом высоком качестве предсказания так же говорит большое значение MAE и невысокое значение R-квадрат."
   ]
  },
  {
   "cell_type": "code",
   "execution_count": 22,
   "metadata": {},
   "outputs": [
    {
     "data": {
      "text/html": [
       "<div>\n",
       "<style scoped>\n",
       "    .dataframe tbody tr th:only-of-type {\n",
       "        vertical-align: middle;\n",
       "    }\n",
       "\n",
       "    .dataframe tbody tr th {\n",
       "        vertical-align: top;\n",
       "    }\n",
       "\n",
       "    .dataframe thead th {\n",
       "        text-align: right;\n",
       "    }\n",
       "</style>\n",
       "<table border=\"1\" class=\"dataframe\">\n",
       "  <thead>\n",
       "    <tr style=\"text-align: right;\">\n",
       "      <th></th>\n",
       "      <th>f0</th>\n",
       "      <th>f1</th>\n",
       "      <th>f2</th>\n",
       "      <th>product</th>\n",
       "    </tr>\n",
       "  </thead>\n",
       "  <tbody>\n",
       "    <tr>\n",
       "      <td>count</td>\n",
       "      <td>100000.000000</td>\n",
       "      <td>100000.000000</td>\n",
       "      <td>100000.000000</td>\n",
       "      <td>100000.000000</td>\n",
       "    </tr>\n",
       "    <tr>\n",
       "      <td>mean</td>\n",
       "      <td>0.500419</td>\n",
       "      <td>0.250143</td>\n",
       "      <td>2.502647</td>\n",
       "      <td>92.500000</td>\n",
       "    </tr>\n",
       "    <tr>\n",
       "      <td>std</td>\n",
       "      <td>0.871832</td>\n",
       "      <td>0.504433</td>\n",
       "      <td>3.248248</td>\n",
       "      <td>44.288691</td>\n",
       "    </tr>\n",
       "    <tr>\n",
       "      <td>min</td>\n",
       "      <td>-1.408605</td>\n",
       "      <td>-0.848218</td>\n",
       "      <td>-12.088328</td>\n",
       "      <td>0.000000</td>\n",
       "    </tr>\n",
       "    <tr>\n",
       "      <td>25%</td>\n",
       "      <td>-0.072580</td>\n",
       "      <td>-0.200881</td>\n",
       "      <td>0.287748</td>\n",
       "      <td>56.497507</td>\n",
       "    </tr>\n",
       "    <tr>\n",
       "      <td>50%</td>\n",
       "      <td>0.502360</td>\n",
       "      <td>0.250252</td>\n",
       "      <td>2.515969</td>\n",
       "      <td>91.849972</td>\n",
       "    </tr>\n",
       "    <tr>\n",
       "      <td>75%</td>\n",
       "      <td>1.073581</td>\n",
       "      <td>0.700646</td>\n",
       "      <td>4.715088</td>\n",
       "      <td>128.564089</td>\n",
       "    </tr>\n",
       "    <tr>\n",
       "      <td>max</td>\n",
       "      <td>2.362331</td>\n",
       "      <td>1.343769</td>\n",
       "      <td>16.003790</td>\n",
       "      <td>185.364347</td>\n",
       "    </tr>\n",
       "  </tbody>\n",
       "</table>\n",
       "</div>"
      ],
      "text/plain": [
       "                  f0             f1             f2        product\n",
       "count  100000.000000  100000.000000  100000.000000  100000.000000\n",
       "mean        0.500419       0.250143       2.502647      92.500000\n",
       "std         0.871832       0.504433       3.248248      44.288691\n",
       "min        -1.408605      -0.848218     -12.088328       0.000000\n",
       "25%        -0.072580      -0.200881       0.287748      56.497507\n",
       "50%         0.502360       0.250252       2.515969      91.849972\n",
       "75%         1.073581       0.700646       4.715088     128.564089\n",
       "max         2.362331       1.343769      16.003790     185.364347"
      ]
     },
     "execution_count": 22,
     "metadata": {},
     "output_type": "execute_result"
    }
   ],
   "source": [
    "df_raw0.describe()"
   ]
  },
  {
   "cell_type": "markdown",
   "metadata": {},
   "source": [
    "## Регион В"
   ]
  },
  {
   "cell_type": "markdown",
   "metadata": {},
   "source": [
    "Проделаем то же самое с данными по региону B."
   ]
  },
  {
   "cell_type": "code",
   "execution_count": 23,
   "metadata": {},
   "outputs": [
    {
     "name": "stdout",
     "output_type": "stream",
     "text": [
      "Регион B\n",
      "\n",
      "RMSE: 0.8930992867756158\n",
      "MAE: 0.718766244212475\n",
      "R^2: 0.9996233978805126\n",
      "Предполагаемый средний запас сырья: 68.728546895446\n",
      "Реальный средний запас сырья: 68.72313602435997\n"
     ]
    },
    {
     "name": "stderr",
     "output_type": "stream",
     "text": [
      "/opt/conda/lib/python3.7/site-packages/pandas/core/indexing.py:205: SettingWithCopyWarning: \n",
      "A value is trying to be set on a copy of a slice from a DataFrame\n",
      "\n",
      "See the caveats in the documentation: http://pandas.pydata.org/pandas-docs/stable/user_guide/indexing.html#returning-a-view-versus-a-copy\n",
      "  self._setitem_with_indexer(indexer, value)\n",
      "/opt/conda/lib/python3.7/site-packages/ipykernel_launcher.py:13: SettingWithCopyWarning: \n",
      "A value is trying to be set on a copy of a slice from a DataFrame\n",
      "\n",
      "See the caveats in the documentation: http://pandas.pydata.org/pandas-docs/stable/user_guide/indexing.html#returning-a-view-versus-a-copy\n",
      "  del sys.path[0]\n",
      "/opt/conda/lib/python3.7/site-packages/pandas/core/indexing.py:205: SettingWithCopyWarning: \n",
      "A value is trying to be set on a copy of a slice from a DataFrame\n",
      "\n",
      "See the caveats in the documentation: http://pandas.pydata.org/pandas-docs/stable/user_guide/indexing.html#returning-a-view-versus-a-copy\n",
      "  self._setitem_with_indexer(indexer, value)\n",
      "/opt/conda/lib/python3.7/site-packages/ipykernel_launcher.py:14: SettingWithCopyWarning: \n",
      "A value is trying to be set on a copy of a slice from a DataFrame\n",
      "\n",
      "See the caveats in the documentation: http://pandas.pydata.org/pandas-docs/stable/user_guide/indexing.html#returning-a-view-versus-a-copy\n",
      "  \n"
     ]
    }
   ],
   "source": [
    "#разделение на признаки и цели\n",
    "features1 = df_raw1.drop(['id', 'product'], axis = 1)\n",
    "target1 = df_raw1['product']\n",
    "\n",
    "#разбиение на обучающую и валидационную выборки\n",
    "features_train1, features_valid1, target_train1, target_valid1 = train_test_split(\n",
    "    features1, target1, \n",
    "    test_size = 0.25, random_state = random)\n",
    "\n",
    "#масштабирование\n",
    "scaler1 = StandardScaler()\n",
    "scaler1.fit(features_train1[numeric])\n",
    "features_train1.loc[:, numeric] = scaler1.transform(features_train1.loc[:,numeric])\n",
    "features_valid1.loc[:, numeric] = scaler1.transform(features_valid1.loc[:,numeric])\n",
    "\n",
    "\n",
    "model_1 = LinearRegression()\n",
    "model_1.fit(features_train1, target_train1)\n",
    "predicted_valid1 = model_1.predict(features_valid1)\n",
    "mse1 = mean_squared_error(target_valid1, predicted_valid1)\n",
    "rmse1 = mse1 ** 0.5\n",
    "mae1 = mean_absolute_error(target_valid1, predicted_valid1)\n",
    "est_mean_q1 = predicted_valid1.mean()\n",
    "r2_1 = model_1.score(features_valid1, target_valid1)\n",
    "true_mean_q1 = target_valid1.mean()\n",
    "\n",
    "print('Регион B')\n",
    "print('')\n",
    "print('RMSE:', rmse1)\n",
    "print('MAE:', mae1)\n",
    "print('R^2:', r2_1)\n",
    "print('Предполагаемый средний запас сырья:', est_mean_q1)\n",
    "print('Реальный средний запас сырья:', true_mean_q1)"
   ]
  },
  {
   "cell_type": "code",
   "execution_count": 24,
   "metadata": {},
   "outputs": [
    {
     "data": {
      "text/plain": [
       "68.72313602435997"
      ]
     },
     "execution_count": 24,
     "metadata": {},
     "output_type": "execute_result"
    }
   ],
   "source": [
    "train_mean1 = target_valid1.mean()\n",
    "train_mean1"
   ]
  },
  {
   "cell_type": "code",
   "execution_count": 25,
   "metadata": {},
   "outputs": [
    {
     "data": {
      "text/plain": [
       "46.0212449226281"
      ]
     },
     "execution_count": 25,
     "metadata": {},
     "output_type": "execute_result"
    }
   ],
   "source": [
    "relevance_predictions1 = pd.Series(train_mean1, index = target_valid1.index)\n",
    "relevance_rmse1 = mean_squared_error(target_valid1, relevance_predictions1) ** 0.5\n",
    "relevance_rmse1"
   ]
  },
  {
   "cell_type": "markdown",
   "metadata": {},
   "source": [
    "Ситуация с моделью для региона В гораздо лучше: RMSE модели намного меньше RMSE на основе подстановки среднего, метрики ошибок модели не превышают единицы, а R-квадрат очень близок к единице. Судя по этим показателям, модель для предсказания запасов в месторождениях региона В получилась удачной. "
   ]
  },
  {
   "cell_type": "markdown",
   "metadata": {},
   "source": [
    "## Регион С"
   ]
  },
  {
   "cell_type": "code",
   "execution_count": 26,
   "metadata": {},
   "outputs": [
    {
     "name": "stdout",
     "output_type": "stream",
     "text": [
      "Регион С\n",
      "\n",
      "RMSE: 40.02970873393434\n",
      "MAE: 32.792652105481814\n",
      "R^2: 0.20524758386040443\n",
      "Средний предполагаемый запас сырья: 94.96504596800489\n",
      "Реальный средний запас сырья: 94.88423280885438\n"
     ]
    },
    {
     "name": "stderr",
     "output_type": "stream",
     "text": [
      "/opt/conda/lib/python3.7/site-packages/pandas/core/indexing.py:205: SettingWithCopyWarning: \n",
      "A value is trying to be set on a copy of a slice from a DataFrame\n",
      "\n",
      "See the caveats in the documentation: http://pandas.pydata.org/pandas-docs/stable/user_guide/indexing.html#returning-a-view-versus-a-copy\n",
      "  self._setitem_with_indexer(indexer, value)\n",
      "/opt/conda/lib/python3.7/site-packages/ipykernel_launcher.py:13: SettingWithCopyWarning: \n",
      "A value is trying to be set on a copy of a slice from a DataFrame\n",
      "\n",
      "See the caveats in the documentation: http://pandas.pydata.org/pandas-docs/stable/user_guide/indexing.html#returning-a-view-versus-a-copy\n",
      "  del sys.path[0]\n",
      "/opt/conda/lib/python3.7/site-packages/pandas/core/indexing.py:205: SettingWithCopyWarning: \n",
      "A value is trying to be set on a copy of a slice from a DataFrame\n",
      "\n",
      "See the caveats in the documentation: http://pandas.pydata.org/pandas-docs/stable/user_guide/indexing.html#returning-a-view-versus-a-copy\n",
      "  self._setitem_with_indexer(indexer, value)\n",
      "/opt/conda/lib/python3.7/site-packages/ipykernel_launcher.py:14: SettingWithCopyWarning: \n",
      "A value is trying to be set on a copy of a slice from a DataFrame\n",
      "\n",
      "See the caveats in the documentation: http://pandas.pydata.org/pandas-docs/stable/user_guide/indexing.html#returning-a-view-versus-a-copy\n",
      "  \n"
     ]
    }
   ],
   "source": [
    "#разделение на признаки и цели\n",
    "features2 = df_raw2.drop(['id', 'product'], axis = 1)\n",
    "target2 = df_raw2['product']\n",
    "\n",
    "#разбиение на обучающую и валидационную выборки\n",
    "features_train2, features_valid2, target_train2, target_valid2 = train_test_split(\n",
    "    features2, target2, \n",
    "    test_size = 0.25, random_state = random)\n",
    "\n",
    "#масштабирование\n",
    "scaler2 = StandardScaler()\n",
    "scaler2.fit(features_train2[numeric])\n",
    "features_train2.loc[:, numeric] = scaler2.transform(features_train2.loc[:,numeric])\n",
    "features_valid2.loc[:, numeric] = scaler2.transform(features_valid2.loc[:,numeric])\n",
    "\n",
    "\n",
    "model_2 = LinearRegression()\n",
    "model_2.fit(features_train2, target_train2)\n",
    "predicted_valid2 = model_2.predict(features_valid2)\n",
    "mse2 = mean_squared_error(target_valid2, predicted_valid2)\n",
    "rmse2 = mse2 ** 0.5\n",
    "mae2 = mean_absolute_error(target_valid2, predicted_valid2)\n",
    "est_mean_q2 = predicted_valid2.mean()\n",
    "r2_2 = model_2.score(features_valid2, target_valid2) \n",
    "true_mean_q2 = target_valid2.mean()\n",
    "\n",
    "print('Регион С')\n",
    "print('')\n",
    "print('RMSE:', rmse2)\n",
    "print('MAE:', mae2)\n",
    "print('R^2:', r2_2)\n",
    "print('Средний предполагаемый запас сырья:', est_mean_q2)\n",
    "print('Реальный средний запас сырья:', true_mean_q2)"
   ]
  },
  {
   "cell_type": "code",
   "execution_count": 27,
   "metadata": {},
   "outputs": [
    {
     "data": {
      "text/plain": [
       "94.88423280885438"
      ]
     },
     "execution_count": 27,
     "metadata": {},
     "output_type": "execute_result"
    }
   ],
   "source": [
    "train_mean2 = target_valid2.mean()\n",
    "train_mean2"
   ]
  },
  {
   "cell_type": "code",
   "execution_count": 28,
   "metadata": {},
   "outputs": [
    {
     "data": {
      "text/plain": [
       "44.902084376898294"
      ]
     },
     "execution_count": 28,
     "metadata": {},
     "output_type": "execute_result"
    }
   ],
   "source": [
    "relevance_predictions2 = pd.Series(train_mean2, index = target_valid2.index)\n",
    "relevance_rmse2 = mean_squared_error(target_valid2, relevance_predictions2) ** 0.5\n",
    "relevance_rmse2"
   ]
  },
  {
   "cell_type": "markdown",
   "metadata": {},
   "source": [
    "К сожалению, модель для предсказания запасов региона С также не сильно обходит простую подстановку среднего обучающей выборки. Результаты даже немного хуже, чем в случае с регионом А."
   ]
  },
  {
   "cell_type": "markdown",
   "metadata": {},
   "source": [
    "Косвенным подтверждением качества моделей служат еще и расхождения в средних значениях запасов валидационных выборок и предсказаний моделей. В случае с регионами А и С расхождения уже в десятых долях, что, учитывая единицы измерения, означает разницу в сотни баррелей. В случае с моделью региона В среднее валидационной выборки удалось предсказать с точностью до пятидесяти баррелей. "
   ]
  },
  {
   "cell_type": "markdown",
   "metadata": {},
   "source": [
    "Тем не менее, во всех регионах модели прошли проверку на адекватность: во всех случаях для предсказания лучше использовать модели, чем среднее значение запасов обучающих выборок. "
   ]
  },
  {
   "cell_type": "markdown",
   "metadata": {},
   "source": [
    "## Сопоставление средних"
   ]
  },
  {
   "cell_type": "code",
   "execution_count": 29,
   "metadata": {},
   "outputs": [
    {
     "data": {
      "text/plain": [
       "92.50000000000001"
      ]
     },
     "execution_count": 29,
     "metadata": {},
     "output_type": "execute_result"
    }
   ],
   "source": [
    "target0.mean()"
   ]
  },
  {
   "cell_type": "code",
   "execution_count": 30,
   "metadata": {},
   "outputs": [
    {
     "data": {
      "text/plain": [
       "68.82500000000002"
      ]
     },
     "execution_count": 30,
     "metadata": {},
     "output_type": "execute_result"
    }
   ],
   "source": [
    "target1.mean()"
   ]
  },
  {
   "cell_type": "code",
   "execution_count": 31,
   "metadata": {},
   "outputs": [
    {
     "data": {
      "text/plain": [
       "95.00000000000004"
      ]
     },
     "execution_count": 31,
     "metadata": {},
     "output_type": "execute_result"
    }
   ],
   "source": [
    "target2.mean()"
   ]
  },
  {
   "cell_type": "code",
   "execution_count": 32,
   "metadata": {},
   "outputs": [
    {
     "data": {
      "text/plain": [
       "Text(0.5, 1.0, 'Total Mean Quantity')"
      ]
     },
     "execution_count": 32,
     "metadata": {},
     "output_type": "execute_result"
    },
    {
     "data": {
      "image/png": "[encoded data removed]",
      "text/plain": [
       "<Figure size 864x576 with 1 Axes>"
      ]
     },
     "metadata": {
      "needs_background": "light"
     },
     "output_type": "display_data"
    }
   ],
   "source": [
    "total_means = [target0.mean(), target1.mean(), target2.mean()]\n",
    "total_means_regions = ['Region А','Region B','Region C']\n",
    "total_means_df = pd.DataFrame(index = total_means_regions, data = total_means, columns = ['total_mean_quantity'])\n",
    "\n",
    "\n",
    "\n",
    "total_means_df.plot( kind = 'bar', figsize = (12,8),\n",
    "       alpha = 0.7, edgecolor = 'darkblue', grid = True, legend = False )\n",
    "plt.title('Total Mean Quantity', fontsize = 20)"
   ]
  },
  {
   "cell_type": "markdown",
   "metadata": {},
   "source": [
    "Довольно интересным наблюдением, которое пригодится нам в дальнейшем, является то, что если давать оценку регионам только по средним, регион В, по большому счету, сильно позади примерно равных по общим запасам регионов А и С. Количество объектов в каждом регионе одинаково, следовательно, и по совокупному запасу нефти регион В отстает.  \n",
    "Однако принимать решение на основании только среднего запаса было бы ошибкой, поскольку, во-первых, не учитывается распределение (в А и С запасы распределены менее равномерно, чем в В), во-вторых, мы максимизируем прибыль при заданных бюджетных ограничениях. Для этого нам придется рассчитать дополнительные показатели."
   ]
  },
  {
   "cell_type": "code",
   "execution_count": 33,
   "metadata": {},
   "outputs": [
    {
     "data": {
      "image/png": "[encoded data removed]",
      "text/plain": [
       "<Figure size 864x576 with 1 Axes>"
      ]
     },
     "metadata": {
      "needs_background": "light"
     },
     "output_type": "display_data"
    },
    {
     "data": {
      "image/png": "[encoded data removed]",
      "text/plain": [
       "<Figure size 864x576 with 1 Axes>"
      ]
     },
     "metadata": {
      "needs_background": "light"
     },
     "output_type": "display_data"
    },
    {
     "data": {
      "image/png": "[encoded data removed]",
      "text/plain": [
       "<Figure size 864x576 with 1 Axes>"
      ]
     },
     "metadata": {
      "needs_background": "light"
     },
     "output_type": "display_data"
    }
   ],
   "source": [
    "total_quantities_dict = {'Region_A': target0, 'Region_B':target1, 'Region_C':target2}\n",
    "total_quantities = ['Region_A', 'Region_B', 'Region_C']\n",
    "for i in total_quantities:\n",
    "    total_quantities_dict[i].hist(bins = 100, figsize = (12,8),\n",
    "           alpha = 0.7, edgecolor = 'darkblue', grid = True)\n",
    "    plt.xlabel('%s quantity per well' % i, fontsize = 20)\n",
    "    plt.ylabel('Number_of_wells', fontsize = 20)\n",
    "    plt.show()"
   ]
  },
  {
   "cell_type": "markdown",
   "metadata": {},
   "source": [
    "### Вывод"
   ]
  },
  {
   "cell_type": "markdown",
   "metadata": {},
   "source": [
    "Все модели прошли тест на адекватность. Модели регионов А и С показали сравнительно слабые результаты, модель для региона В показала превосходные результаты на валидационной выборке. При этом замечено, что по средним запасам нефти регион В ощутимо уступает регионам А и С."
   ]
  },
  {
   "cell_type": "markdown",
   "metadata": {},
   "source": [
    "# 3. Подготовка к расчёту прибыли"
   ]
  },
  {
   "cell_type": "markdown",
   "metadata": {},
   "source": [
    "Расчитаем и/или сохраним в переменных следующие показатели: бюджет, затраты на одну скважину (бурение), количество скважин, которые нам позволяет пробурить бюджет, количество исследуемых во время разведки месторождений, цену за баррель, минимальное количество баррелей нефти в месторождении, достаточное для безубыточности разработки."
   ]
  },
  {
   "cell_type": "markdown",
   "metadata": {},
   "source": [
    "Важное уточнение: как сообщил нам представитель заказчика, под прибылью с барреля подразумевался доход с барреля. Что логично, учитывая, что нам надо расчитать прибыль, а не просто пересчитать количество баррелей."
   ]
  },
  {
   "cell_type": "code",
   "execution_count": 34,
   "metadata": {},
   "outputs": [],
   "source": [
    "budget = 10000000000\n",
    "cost_on_well = 50000000\n",
    "number_of_wells = budget / cost_on_well\n",
    "price_of_barrel = 4500\n",
    "number_of_scouts = 500\n",
    "quantity_of_zero_loss_on_well = cost_on_well / price_of_barrel\n"
   ]
  },
  {
   "cell_type": "code",
   "execution_count": 35,
   "metadata": {},
   "outputs": [
    {
     "data": {
      "text/plain": [
       "11111.111111111111"
      ]
     },
     "execution_count": 35,
     "metadata": {},
     "output_type": "execute_result"
    }
   ],
   "source": [
    "quantity_of_zero_loss_on_well"
   ]
  },
  {
   "cell_type": "markdown",
   "metadata": {},
   "source": [
    "Количество баррелей, необходимое для того, чтобы окупить бурение скважины - 11 тысяч 112 баррелей нефти. Если в месторождении меньший объем ресурса, его разработка убыточна."
   ]
  },
  {
   "cell_type": "code",
   "execution_count": 36,
   "metadata": {},
   "outputs": [
    {
     "data": {
      "text/plain": [
       "200.0"
      ]
     },
     "execution_count": 36,
     "metadata": {},
     "output_type": "execute_result"
    }
   ],
   "source": [
    "number_of_wells"
   ]
  },
  {
   "cell_type": "markdown",
   "metadata": {},
   "source": [
    "Количество скважин, которое мы можем пробурить, не выходя из бюджета - 200 скважин."
   ]
  },
  {
   "cell_type": "markdown",
   "metadata": {},
   "source": [
    "Определим функцию, которая принимает на вход количество (запасы нефти в тысячах баррелей) и выдает прибыль. Важно уточнить два аспекта:  \n",
    "\n",
    "1) модели обучены прогнозировать запасы на тысячах баррелей и выдают они предсказания о запасах в тысячах баррелей. Цена нам дана за баррель. Поэтому в формуле расчета прибыли в функции домножим принимаемое количество на тысячу.  \n",
    "\n",
    "2) по описанной заказчиком процедуре разработки регионов прибыль считается как совокупная прибыль отобранных месторождений, то есть для двухсот выбранных в результате разведки месторождений, а не для каждого по отдельности. Поэтому количество, которое мы будем передавать функции - совокупный объем нефти в отобранных месторождениях, а вычитается не затраты на разработку вышки, а бюджет. "
   ]
  },
  {
   "cell_type": "code",
   "execution_count": 37,
   "metadata": {},
   "outputs": [],
   "source": [
    "def get_profit(quantity):\n",
    "    profit = (price_of_barrel * quantity * 1000) - budget\n",
    "    return profit"
   ]
  },
  {
   "cell_type": "markdown",
   "metadata": {},
   "source": [
    "Мы владеем данными, необходимыми для следующего этапа.  \n",
    "Следующий этап подразумевает многократную симуляцию разведки и разработки региона. Она подразумевает, исходя из сообщенной заказчиком процедуры, что:\n",
    "- в регионе проводится выборочная разведка 500 случайно выбранных месторождений\n",
    "- по факторам этих пятисот месторождений, определенным в ходе разведки, модель соответствующего региона предсказывает предполагаемые объемы нефти в каждом из разведанных месторождений\n",
    "- из пятисот разведанных месторождений отбираются 200 (количество получено на основе расчета выше) с наибольшими запасами нефти\n",
    "- Производится разработка этих месторождений, доход от них считается перемножением цены за баррель и объема нефти в выбранных месторождениях\n",
    "- Прибыль считается вычитанием бюджета (суммарных трат) из совокупного дохода с двухсот скважин\n",
    "\n",
    "Однако проведя только одну подобную симуляцию, мы никак не сможем оценить риски убытков бурения в регионе, а также оценить, с какой вероятностью предполагаемая прибыль совпадет с той, которую мы получим в результате реальной разработки региона. Поэтому мы применим бутстреп: повторим симуляцию многократно (по требованию заказчика - 1000 раз).  \n",
    "\n",
    "На основе тысячи полученных показателей предполагаемой прибыли мы построим распределение прибылей, которое позволит нам посчитать среднюю предполагаемую прибыль, доверительный интервал, с помощью которого мы сможем оценить, в каком диапазоне мы получим прибыль с 95% вероятностью, а также сможем оценить риски.  \n",
    "\n",
    "Риски мы оценим, определив квантиль, соответствующий нулевой прибыли в полученном нами распределении прибылей. Он и будет процентным отображением вероятности пробурить скважины так, чтобы уйти в минус. Если он будет превышать 2.5%, мы откажемся от разработки региона."
   ]
  },
  {
   "cell_type": "markdown",
   "metadata": {},
   "source": [
    "# 4. Расчёт прибыли и рисков "
   ]
  },
  {
   "cell_type": "markdown",
   "metadata": {},
   "source": [
    "Процедуру бутстрепа мы будем применять одинаково ко всем регионам, отличаться будут только признаки месторождений, из которых будем создавать подвыборки (массивы features для каждого из регионов) и модели, которые также у каждого региона своя.   \n",
    "Определим функцию, которая будет принимать на вход уникальные для каждого региона модели и массивы с данными обо всех месторождениях в регионе (features и target), а также количество генерируемых подвыборок. Последний аргумент будет одинаков для всех регионов - запрашиваемые заказчиком 1000 подвыборок - но для большей гибкости на случай дальнейшего изменения требований заказчиком оставим этот параметр в качестве передаваемого аргумента."
   ]
  },
  {
   "cell_type": "code",
   "execution_count": 38,
   "metadata": {},
   "outputs": [],
   "source": [
    "def bootstrapping(features_x, target_x, model_x, n_subsamples):\n",
    "    profit_col = []\n",
    "    for i in range(n_subsamples):\n",
    "        subsample = features_x.sample(n = number_of_scouts,\n",
    "                                            replace = True,\n",
    "                                            random_state = state)\n",
    "        predicted_quantity = model_x.predict(subsample)\n",
    "        target_wells_quantity = (pd.Series(predicted_quantity)\n",
    "                                 .sort_values(ascending = False)\n",
    "                                 .head(int(number_of_wells)))\n",
    "        target_wells_real_quantity = target_x[target_wells_quantity.index]\n",
    "        target_wells_total_quantity = target_wells_real_quantity.sum()\n",
    "        profit = get_profit(target_wells_total_quantity)\n",
    "        profit_col.append(profit)\n",
    "        \n",
    "    profit_distr = pd.Series(profit_col)\n",
    "    mean_estimated_profit = profit_distr.mean()\n",
    "    lower_profit = profit_distr.quantile(0.025)\n",
    "    upper_profit = profit_distr.quantile(0.975)\n",
    "    risk_of_loss = st.percentileofscore(profit_distr, 0)\n",
    "    \n",
    "    return profit_distr, mean_estimated_profit, lower_profit, upper_profit, risk_of_loss\n"
   ]
  },
  {
   "cell_type": "markdown",
   "metadata": {},
   "source": [
    "Применим бутстреп для региона А."
   ]
  },
  {
   "cell_type": "code",
   "execution_count": 39,
   "metadata": {},
   "outputs": [
    {
     "data": {
      "text/plain": [
       "0      7.183315e+10\n",
       "1      7.501699e+10\n",
       "2      7.347040e+10\n",
       "3      7.402109e+10\n",
       "4      7.483478e+10\n",
       "           ...     \n",
       "995    7.080436e+10\n",
       "996    7.131723e+10\n",
       "997    7.396234e+10\n",
       "998    7.268685e+10\n",
       "999    7.343051e+10\n",
       "Length: 1000, dtype: float64"
      ]
     },
     "execution_count": 39,
     "metadata": {},
     "output_type": "execute_result"
    }
   ],
   "source": [
    "profit_distr0, mean_estimated_profit0, lower_profit0, upper_profit0, risk_of_loss0 = bootstrapping(features0, target0, model_0, 1000)\n",
    "profit_distr0"
   ]
  },
  {
   "cell_type": "code",
   "execution_count": 40,
   "metadata": {},
   "outputs": [
    {
     "data": {
      "text/plain": [
       "0.0"
      ]
     },
     "execution_count": 40,
     "metadata": {},
     "output_type": "execute_result"
    }
   ],
   "source": [
    "risk_of_loss0"
   ]
  },
  {
   "cell_type": "markdown",
   "metadata": {},
   "source": [
    "Применим тот же метод для региона B."
   ]
  },
  {
   "cell_type": "code",
   "execution_count": 41,
   "metadata": {},
   "outputs": [],
   "source": [
    "profit_distr1, mean_estimated_profit1, lower_profit1, upper_profit1, risk_of_loss1 = bootstrapping(features1, target1, model_1, 1000)"
   ]
  },
  {
   "cell_type": "markdown",
   "metadata": {},
   "source": [
    "Сделаем то же самое с регионом С."
   ]
  },
  {
   "cell_type": "code",
   "execution_count": 42,
   "metadata": {},
   "outputs": [],
   "source": [
    "profit_distr2, mean_estimated_profit2, lower_profit2, upper_profit2, risk_of_loss2 = bootstrapping(features2, target2, model_2, 1000)"
   ]
  },
  {
   "cell_type": "markdown",
   "metadata": {},
   "source": [
    "Сведем получившиеся результаты в таблицу (таблица представляет наши основные выводы, поэтому оформим ее наглядно, подпишем столбцы подробно и по-русски)."
   ]
  },
  {
   "cell_type": "code",
   "execution_count": 43,
   "metadata": {},
   "outputs": [
    {
     "data": {
      "text/html": [
       "<div>\n",
       "<style scoped>\n",
       "    .dataframe tbody tr th:only-of-type {\n",
       "        vertical-align: middle;\n",
       "    }\n",
       "\n",
       "    .dataframe tbody tr th {\n",
       "        vertical-align: top;\n",
       "    }\n",
       "\n",
       "    .dataframe thead th {\n",
       "        text-align: right;\n",
       "    }\n",
       "</style>\n",
       "<table border=\"1\" class=\"dataframe\">\n",
       "  <thead>\n",
       "    <tr style=\"text-align: right;\">\n",
       "      <th></th>\n",
       "      <th>средняя предполагаемая прибыль (млрд руб.)</th>\n",
       "      <th>нижний доверительный предел прибыли (млрд руб.)</th>\n",
       "      <th>верхний доверительный предел прибыли (млрд руб.)</th>\n",
       "      <th>риск убытков (%)</th>\n",
       "    </tr>\n",
       "  </thead>\n",
       "  <tbody>\n",
       "    <tr>\n",
       "      <td>Регион A</td>\n",
       "      <td>72.52</td>\n",
       "      <td>67.75</td>\n",
       "      <td>76.77</td>\n",
       "      <td>0.0</td>\n",
       "    </tr>\n",
       "    <tr>\n",
       "      <td>Регион B</td>\n",
       "      <td>50.67</td>\n",
       "      <td>45.99</td>\n",
       "      <td>55.14</td>\n",
       "      <td>0.0</td>\n",
       "    </tr>\n",
       "    <tr>\n",
       "      <td>Регион C</td>\n",
       "      <td>71.84</td>\n",
       "      <td>67.65</td>\n",
       "      <td>76.17</td>\n",
       "      <td>0.0</td>\n",
       "    </tr>\n",
       "  </tbody>\n",
       "</table>\n",
       "</div>"
      ],
      "text/plain": [
       "          средняя предполагаемая прибыль (млрд руб.)  \\\n",
       "Регион A                                       72.52   \n",
       "Регион B                                       50.67   \n",
       "Регион C                                       71.84   \n",
       "\n",
       "          нижний доверительный предел прибыли (млрд руб.)  \\\n",
       "Регион A                                            67.75   \n",
       "Регион B                                            45.99   \n",
       "Регион C                                            67.65   \n",
       "\n",
       "          верхний доверительный предел прибыли (млрд руб.)  риск убытков (%)  \n",
       "Регион A                                             76.77               0.0  \n",
       "Регион B                                             55.14               0.0  \n",
       "Регион C                                             76.17               0.0  "
      ]
     },
     "execution_count": 43,
     "metadata": {},
     "output_type": "execute_result"
    }
   ],
   "source": [
    "regions = ['Регион A', 'Регион B', 'Регион C']\n",
    "mean_profit = [mean_estimated_profit0, mean_estimated_profit1, mean_estimated_profit2]\n",
    "lower_profit = [lower_profit0, lower_profit1, lower_profit2]\n",
    "upper_profit = [upper_profit0, upper_profit1, upper_profit2]\n",
    "risk_of_loss = [risk_of_loss0, risk_of_loss1, risk_of_loss2]\n",
    "\n",
    "results_dict = {'средняя предполагаемая прибыль (млрд руб.)': mean_profit, \n",
    "                'нижний доверительный предел прибыли (млрд руб.)': lower_profit,\n",
    "                'верхний доверительный предел прибыли (млрд руб.)': upper_profit, \n",
    "                'риск убытков (%)': risk_of_loss}\n",
    "results = pd.DataFrame(index = regions, data = results_dict)\n",
    "\n",
    "results['средняя предполагаемая прибыль (млрд руб.)'] = (round(\n",
    "    results['средняя предполагаемая прибыль (млрд руб.)'] / 1000000000, 2))\n",
    "results['нижний доверительный предел прибыли (млрд руб.)'] = (round(\n",
    "    results['нижний доверительный предел прибыли (млрд руб.)'] / 1000000000, 2))\n",
    "results['верхний доверительный предел прибыли (млрд руб.)'] = (round(\n",
    "    results['верхний доверительный предел прибыли (млрд руб.)'] / 1000000000, 2))\n",
    "\n",
    "results"
   ]
  },
  {
   "cell_type": "markdown",
   "metadata": {},
   "source": [
    "Для наглядности подготовим для заказчика визуализацию распределений потенциальных прибылей с нанесением основной информации."
   ]
  },
  {
   "cell_type": "code",
   "execution_count": 44,
   "metadata": {},
   "outputs": [
    {
     "data": {
      "image/png": "[encoded data removed]",
      "text/plain": [
       "<Figure size 864x576 with 1 Axes>"
      ]
     },
     "metadata": {
      "needs_background": "light"
     },
     "output_type": "display_data"
    }
   ],
   "source": [
    "profit_distr0_bln = profit_distr0 / 1000000000\n",
    "mean0 = mean_estimated_profit0 / 1000000000\n",
    "lower0 = lower_profit0 / 1000000000\n",
    "upper0 = upper_profit0 / 1000000000\n",
    "\n",
    "\n",
    "fig = plt.figure(figsize=(12,8))\n",
    "ax = fig.add_subplot()\n",
    "ax.grid(b=True, which = 'major' )\n",
    "hist = (profit_distr0_bln.plot(y = 'total_sales', kind = 'hist', bins = 100, figsize = (12,8), \n",
    "       alpha = 0.7, color = 'slateblue', edgecolor = 'darkblue', grid = True))\n",
    "plt.xlabel('ожидаемая прибыль, млрд руб.', fontsize = 16)\n",
    "plt.ylabel('количество подвыборок', fontsize = 16)\n",
    "ax.set_xlim(profit_distr0_bln.min()-2, profit_distr0_bln.max()+2)\n",
    "\n",
    "plt.axvline(x=mean0, linestyle = '-', linewidth = 3, color = 'red')\n",
    "mean_text1 = plt.text(mean0 + 0.5, 33, 'средняя ожидаемая прибыль', color = 'red', size = 15)\n",
    "mean_text2 = plt.text(mean0 + 0.5, 31, '%s млрд руб.' % round(mean0,2), color = 'red', size = 15) \n",
    "plt.axvline(x=lower0, ymax = 0.25, linestyle = '--', linewidth = 3, color = 'black')\n",
    "lower_text = plt.text(lower0 - 2.5, 10, '%s млрд руб.' % round(lower0,2), size = 12)\n",
    "plt.axvline(x=upper0, ymax = 0.25, linestyle = '--', linewidth = 3, color = 'black')\n",
    "upper_text = plt.text(upper0 , 10, '%s млрд руб.' % round(upper0,2), size = 12)\n",
    "plt.axhline(y=4, \n",
    "            xmin = (lower0-(profit_distr0_bln.min()-2))/((profit_distr0_bln.max()+2)-(profit_distr0_bln.min()-2)), \n",
    "            xmax = (upper0-(profit_distr0_bln.min()-2))/((profit_distr0_bln.max()+2)-(profit_distr0_bln.min()-2)), \n",
    "            linestyle = '--', linewidth = 3, color = 'black')\n",
    "plt.annotate(\"Доверительный интервал\", xy=(70,4), xytext=(65,25),fontsize=15, arrowprops = dict(arrowstyle = '->',\n",
    "                                                                                                  color = 'black', \n",
    "                                                                                                  linewidth = 2.5))\n",
    "\n",
    "plt.show()\n",
    "\n"
   ]
  },
  {
   "cell_type": "code",
   "execution_count": 45,
   "metadata": {},
   "outputs": [
    {
     "data": {
      "image/png": "[encoded data removed]",
      "text/plain": [
       "<Figure size 864x576 with 1 Axes>"
      ]
     },
     "metadata": {
      "needs_background": "light"
     },
     "output_type": "display_data"
    }
   ],
   "source": [
    "profit_distr1_bln = profit_distr1 / 1000000000\n",
    "mean1 = mean_estimated_profit1 / 1000000000\n",
    "lower1 = lower_profit1 / 1000000000\n",
    "upper1 = upper_profit1 / 1000000000\n",
    "\n",
    "\n",
    "fig = plt.figure(figsize=(12,8))\n",
    "ax = fig.add_subplot()\n",
    "ax.grid(b=True, which = 'major' )\n",
    "hist = (profit_distr1_bln.plot(y = 'total_sales', kind = 'hist', bins = 100, figsize = (12,8), \n",
    "       alpha = 0.7, color = 'slateblue', edgecolor = 'darkblue', grid = True))\n",
    "plt.xlabel('ожидаемая прибыль, млрд руб.', fontsize = 16)\n",
    "plt.ylabel('количество подвыборок', fontsize = 16)\n",
    "ax.set_xlim(profit_distr1_bln.min()-2, profit_distr1_bln.max()+2)\n",
    "\n",
    "plt.axvline(x=mean1, linestyle = '-', linewidth = 3, color = 'red')\n",
    "mean_text1 = plt.text(mean1 + 1.5, 30.5, 'средняя ожидаемая прибыль', color = 'red', size = 15)\n",
    "mean_text2 = plt.text(mean1 + 1.5, 28.5, '%s млрд руб.' % round(mean1,2), color = 'red', size = 15) \n",
    "plt.axvline(x=lower1, ymax = 0.25, linestyle = '--', linewidth = 3, color = 'black')\n",
    "lower_text = plt.text(lower1 - 3, 8, '%s млрд руб.' % round(lower1,2), size = 12)\n",
    "plt.axvline(x=upper1, ymax = 0.25, linestyle = '--', linewidth = 3, color = 'black')\n",
    "upper_text = plt.text(upper1 + 0.5, 8, '%s млрд руб.' % round(upper1,2), size = 12)\n",
    "plt.axhline(y=4, \n",
    "            xmin = (lower1-(profit_distr1_bln.min()-2))/((profit_distr1_bln.max()+2)-(profit_distr1_bln.min()-2)), \n",
    "            xmax = (upper1-(profit_distr1_bln.min()-2))/((profit_distr1_bln.max()+2)-(profit_distr1_bln.min()-2)), \n",
    "            linestyle = '--', linewidth = 3, color = 'black')\n",
    "plt.annotate(\"Доверительный интервал\", xy=(47.5,4), xytext=(43,28),fontsize=15, arrowprops = dict(arrowstyle = '->',\n",
    "                                                                                                  color = 'black', \n",
    "                                                                                                  linewidth = 2.5))\n",
    "\n",
    "plt.show()\n",
    "\n"
   ]
  },
  {
   "cell_type": "code",
   "execution_count": 46,
   "metadata": {},
   "outputs": [
    {
     "data": {
      "image/png": "[encoded data removed]",
      "text/plain": [
       "<Figure size 864x576 with 1 Axes>"
      ]
     },
     "metadata": {
      "needs_background": "light"
     },
     "output_type": "display_data"
    }
   ],
   "source": [
    "profit_distr2_bln = profit_distr2 / 1000000000\n",
    "mean2 = mean_estimated_profit2 / 1000000000\n",
    "lower2 = lower_profit2 / 1000000000\n",
    "upper2 = upper_profit2 / 1000000000\n",
    "\n",
    "\n",
    "fig = plt.figure(figsize=(12,8))\n",
    "ax = fig.add_subplot()\n",
    "ax.grid(b=True, which = 'major' )\n",
    "hist = (profit_distr2_bln.plot(y = 'total_sales', kind = 'hist', bins = 100, figsize = (12,8), \n",
    "       alpha = 0.7, color = 'slateblue', edgecolor = 'darkblue', grid = True))\n",
    "plt.xlabel('ожидаемая прибыль, млрд руб.', fontsize = 16)\n",
    "plt.ylabel('количество подвыборок', fontsize = 16)\n",
    "ax.set_xlim(profit_distr2_bln.min()-2, profit_distr2_bln.max()+2)\n",
    "\n",
    "plt.axvline(x=mean2, linestyle = '-', linewidth = 3, color = 'red')\n",
    "mean_text1 = plt.text(mean2 + 1, 37, 'средняя ожидаемая прибыль', color = 'red', size = 15)\n",
    "mean_text2 = plt.text(mean2 + 1, 35, '%s млрд руб.' % round(mean2,2), color = 'red', size = 15) \n",
    "plt.axvline(x=lower2, ymax = 0.25, linestyle = '--', linewidth = 3, color = 'black')\n",
    "lower_text = plt.text(lower2 - 1, 11, '%s млрд руб.' % round(lower2,2), size = 12)\n",
    "plt.axvline(x=upper2, ymax = 0.25, linestyle = '--', linewidth = 3, color = 'black')\n",
    "upper_text = plt.text(upper2 + 1, 11, '%s млрд руб.' % round(upper2,2), size = 12)\n",
    "plt.axhline(y=4, \n",
    "            xmin = (lower2-(profit_distr2_bln.min()-2))/((profit_distr2_bln.max()+2)-(profit_distr2_bln.min()-2)), \n",
    "            xmax = (upper2-(profit_distr2_bln.min()-2))/((profit_distr2_bln.max()+2)-(profit_distr2_bln.min()-2)), \n",
    "            linestyle = '--', linewidth = 3, color = 'black')\n",
    "plt.annotate(\"Доверительный интервал\", xy=(70,4), xytext=(64,32),fontsize=15, arrowprops = dict(arrowstyle = '->',\n",
    "                                                                                                  color = 'black', \n",
    "                                                                                                  linewidth = 2.5))\n",
    "\n",
    "plt.show()\n",
    "\n"
   ]
  },
  {
   "cell_type": "markdown",
   "metadata": {},
   "source": [
    "## Общий вывод"
   ]
  },
  {
   "cell_type": "markdown",
   "metadata": {},
   "source": [
    "1) Регион А, немного уступая региону С по показателю средних запасов, с небольшим отрывом лидирует по показателю средней предполагаемой прибыли. Регион В, уступающий остальным по показателю средних запасов нефти, обладает наименьшей средней предполагаемой прибылью среди всех.  \n",
    "2) Согласно сопоставлению доверительных интервалов, с 95% вероятностью добыча нефти в регионе А принесет прибыли от 67.75 до 76.77 млрд руб., добыча в регионе С с той же вероятностью не намного уступает, доверительные пределы не намного доверительных пределов распределения прибыли в регионе А.  \n",
    "3) Риски убытков у всех регионов одинаковы и равны нулю.\n",
    "\n",
    "На осонвании большего показателя средней потенциальной прибыли и более высоких значений доверительных пределов, подразумевающих, что 95% вероятностью заказчик получит большую прибыль, чем в других регионах, можно  __рекомендовать к разработке регион А (первый регион, регион_0)__   "
   ]
  },
  {
   "cell_type": "markdown",
   "metadata": {},
   "source": [
    "## Комментарий к результатам"
   ]
  },
  {
   "cell_type": "markdown",
   "metadata": {},
   "source": [
    "Нулевые значения риска убытков скорее всего обусловлены, во-первых, очень низким количеством объектов с недостаточным количеством нефти в исходных выборках, во-вторых, большим количеством объектов с сильно превышающими необходимый объемами нефти, компенсирующих убыточные при построении подвыборок."
   ]
  },
  {
   "cell_type": "code",
   "execution_count": 47,
   "metadata": {},
   "outputs": [
    {
     "data": {
      "text/plain": [
       "0.02171"
      ]
     },
     "execution_count": 47,
     "metadata": {},
     "output_type": "execute_result"
    }
   ],
   "source": [
    "df_raw0.query('product*1000 < @quantity_of_zero_loss_on_well')['product'].count() / df_raw0['product'].count()"
   ]
  },
  {
   "cell_type": "code",
   "execution_count": 48,
   "metadata": {},
   "outputs": [
    {
     "data": {
      "text/plain": [
       "0.16572"
      ]
     },
     "execution_count": 48,
     "metadata": {},
     "output_type": "execute_result"
    }
   ],
   "source": [
    "df_raw1.query('product*1000 < @quantity_of_zero_loss_on_well')['product'].count() / df_raw1['product'].count()"
   ]
  },
  {
   "cell_type": "code",
   "execution_count": 49,
   "metadata": {},
   "outputs": [
    {
     "data": {
      "text/plain": [
       "0.02163"
      ]
     },
     "execution_count": 49,
     "metadata": {},
     "output_type": "execute_result"
    }
   ],
   "source": [
    "df_raw2.query('product*1000 < @quantity_of_zero_loss_on_well')['product'].count() / df_raw2['product'].count()"
   ]
  },
  {
   "cell_type": "markdown",
   "metadata": {},
   "source": [
    "Тем не менее, вероятность того, что разведка могла напасть на 500 месторождений с нулевыми запасами, хоть и крайне маленькая, но существует, чего в результате будстрепа выявлено не было."
   ]
  },
  {
   "cell_type": "code",
   "execution_count": 50,
   "metadata": {},
   "outputs": [
    {
     "data": {
      "text/html": [
       "<div>\n",
       "<style scoped>\n",
       "    .dataframe tbody tr th:only-of-type {\n",
       "        vertical-align: middle;\n",
       "    }\n",
       "\n",
       "    .dataframe tbody tr th {\n",
       "        vertical-align: top;\n",
       "    }\n",
       "\n",
       "    .dataframe thead th {\n",
       "        text-align: right;\n",
       "    }\n",
       "</style>\n",
       "<table border=\"1\" class=\"dataframe\">\n",
       "  <thead>\n",
       "    <tr style=\"text-align: right;\">\n",
       "      <th></th>\n",
       "      <th>id</th>\n",
       "      <th>f0</th>\n",
       "      <th>f1</th>\n",
       "      <th>f2</th>\n",
       "      <th>product</th>\n",
       "      <th>profit</th>\n",
       "    </tr>\n",
       "  </thead>\n",
       "  <tbody>\n",
       "    <tr>\n",
       "      <td>49999</td>\n",
       "      <td>Wzexe</td>\n",
       "      <td>9.390544</td>\n",
       "      <td>-4.724610</td>\n",
       "      <td>-0.005476</td>\n",
       "      <td>0.0</td>\n",
       "      <td>-50000000.0</td>\n",
       "    </tr>\n",
       "    <tr>\n",
       "      <td>52336</td>\n",
       "      <td>7muuQ</td>\n",
       "      <td>13.714032</td>\n",
       "      <td>-1.922120</td>\n",
       "      <td>0.003622</td>\n",
       "      <td>0.0</td>\n",
       "      <td>-50000000.0</td>\n",
       "    </tr>\n",
       "    <tr>\n",
       "      <td>52332</td>\n",
       "      <td>ittDY</td>\n",
       "      <td>4.315195</td>\n",
       "      <td>-7.519752</td>\n",
       "      <td>-0.002357</td>\n",
       "      <td>0.0</td>\n",
       "      <td>-50000000.0</td>\n",
       "    </tr>\n",
       "    <tr>\n",
       "      <td>52320</td>\n",
       "      <td>dSHsg</td>\n",
       "      <td>15.805817</td>\n",
       "      <td>-8.547300</td>\n",
       "      <td>-0.002974</td>\n",
       "      <td>0.0</td>\n",
       "      <td>-50000000.0</td>\n",
       "    </tr>\n",
       "    <tr>\n",
       "      <td>52318</td>\n",
       "      <td>ezUSb</td>\n",
       "      <td>11.726332</td>\n",
       "      <td>-6.828102</td>\n",
       "      <td>-0.007404</td>\n",
       "      <td>0.0</td>\n",
       "      <td>-50000000.0</td>\n",
       "    </tr>\n",
       "    <tr>\n",
       "      <td>...</td>\n",
       "      <td>...</td>\n",
       "      <td>...</td>\n",
       "      <td>...</td>\n",
       "      <td>...</td>\n",
       "      <td>...</td>\n",
       "      <td>...</td>\n",
       "    </tr>\n",
       "    <tr>\n",
       "      <td>56344</td>\n",
       "      <td>IYQxa</td>\n",
       "      <td>5.900808</td>\n",
       "      <td>-0.051944</td>\n",
       "      <td>0.003844</td>\n",
       "      <td>0.0</td>\n",
       "      <td>-50000000.0</td>\n",
       "    </tr>\n",
       "    <tr>\n",
       "      <td>56326</td>\n",
       "      <td>6PDxy</td>\n",
       "      <td>11.152410</td>\n",
       "      <td>1.067144</td>\n",
       "      <td>-0.006977</td>\n",
       "      <td>0.0</td>\n",
       "      <td>-50000000.0</td>\n",
       "    </tr>\n",
       "    <tr>\n",
       "      <td>56321</td>\n",
       "      <td>4EEk9</td>\n",
       "      <td>7.699825</td>\n",
       "      <td>-3.425707</td>\n",
       "      <td>0.002723</td>\n",
       "      <td>0.0</td>\n",
       "      <td>-50000000.0</td>\n",
       "    </tr>\n",
       "    <tr>\n",
       "      <td>56319</td>\n",
       "      <td>b2W51</td>\n",
       "      <td>4.421972</td>\n",
       "      <td>-0.205219</td>\n",
       "      <td>-0.001223</td>\n",
       "      <td>0.0</td>\n",
       "      <td>-50000000.0</td>\n",
       "    </tr>\n",
       "    <tr>\n",
       "      <td>56312</td>\n",
       "      <td>XYnCs</td>\n",
       "      <td>9.046528</td>\n",
       "      <td>-0.113133</td>\n",
       "      <td>0.006491</td>\n",
       "      <td>0.0</td>\n",
       "      <td>-50000000.0</td>\n",
       "    </tr>\n",
       "  </tbody>\n",
       "</table>\n",
       "<p>500 rows × 6 columns</p>\n",
       "</div>"
      ],
      "text/plain": [
       "          id         f0        f1        f2  product      profit\n",
       "49999  Wzexe   9.390544 -4.724610 -0.005476      0.0 -50000000.0\n",
       "52336  7muuQ  13.714032 -1.922120  0.003622      0.0 -50000000.0\n",
       "52332  ittDY   4.315195 -7.519752 -0.002357      0.0 -50000000.0\n",
       "52320  dSHsg  15.805817 -8.547300 -0.002974      0.0 -50000000.0\n",
       "52318  ezUSb  11.726332 -6.828102 -0.007404      0.0 -50000000.0\n",
       "...      ...        ...       ...       ...      ...         ...\n",
       "56344  IYQxa   5.900808 -0.051944  0.003844      0.0 -50000000.0\n",
       "56326  6PDxy  11.152410  1.067144 -0.006977      0.0 -50000000.0\n",
       "56321  4EEk9   7.699825 -3.425707  0.002723      0.0 -50000000.0\n",
       "56319  b2W51   4.421972 -0.205219 -0.001223      0.0 -50000000.0\n",
       "56312  XYnCs   9.046528 -0.113133  0.006491      0.0 -50000000.0\n",
       "\n",
       "[500 rows x 6 columns]"
      ]
     },
     "execution_count": 50,
     "metadata": {},
     "output_type": "execute_result"
    }
   ],
   "source": [
    "df_raw1['profit'] = (df_raw1['product'] * 1000) - cost_on_well\n",
    "df_raw1.sort_values(by = 'product').head(500)"
   ]
  },
  {
   "cell_type": "markdown",
   "metadata": {},
   "source": [
    "На более точный анализ рисков может повлиять увеличение количества подвыборок. Размер подвыборок при этом скорее уменьшит вероятность получить риск убытка более нуля, поскольку с увеличением размера подвыборки увеличится шанс того, что в нее войдут прибыльные месторождения, которые скомпенсируют потери от убыточных объектов.  \n",
    "Серьезное увеличение количества подвыборок, в свою очередь, затребует больших вычислительных мощностей. Но главное - это противоречит условиям задачи, поставленной заказчиком. Поэтому мы продалжаем рекомендовать заказчику регион А."
   ]
  }
 ],
 "metadata": {
  "kernelspec": {
   "display_name": "Python 3",
   "language": "python",
   "name": "python3"
  },
  "language_info": {
   "codemirror_mode": {
    "name": "ipython",
    "version": 3
   },
   "file_extension": ".py",
   "mimetype": "text/x-python",
   "name": "python",
   "nbconvert_exporter": "python",
   "pygments_lexer": "ipython3",
   "version": "3.7.6"
  }
 },
 "nbformat": 4,
 "nbformat_minor": 2
}
